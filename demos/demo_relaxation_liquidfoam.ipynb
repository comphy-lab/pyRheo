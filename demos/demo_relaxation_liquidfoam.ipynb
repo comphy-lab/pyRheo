{
 "cells": [
  {
   "cell_type": "markdown",
   "id": "59b31080-1a12-4ab2-8a9a-69a8f03f1fdc",
   "metadata": {},
   "source": [
    "# Rheological analysis of shaving foam Relaxation behavior\n",
    "\n",
    "This notebook demonstrates the use of the `pyRheo` library to fit the Relaxation behavior of a shaving foam. The experimental data includes angular frequency (`time`) and the Relaxation Modulus (`G_relax`), which are analyzed using a rheological model. The data is from Jesús Puente-Córdova's archive.\n",
    "\n",
    "We import the following libraries:\n",
    "- `pandas`: For handling the experimental data in tabular format.\n",
    "- `numpy`: For numerical operations and transformations.\n",
    "- `matplotlib.pyplot`: For creating visualizations of the data and model predictions.\n",
    "- `pyRheo.creep_model.RelaxationModel`: To perform rheological model fitting and analysis of the Relaxation Modulus (`G_relax`) data.\n",
    "\n"
   ]
  },
  {
   "cell_type": "code",
   "execution_count": 1,
   "id": "84ef1df4-88bf-4085-99f0-e9b2a3531b0c",
   "metadata": {},
   "outputs": [],
   "source": [
    "# Import required libraries\n",
    "import pandas as pd  # For data manipulation and analysis\n",
    "import numpy as np  # For numerical operations\n",
    "import matplotlib.pyplot as plt  # For plotting\n",
    "from pyRheo.relaxation_model import RelaxationModel  # For rheological modeling\n"
   ]
  },
  {
   "cell_type": "markdown",
   "id": "7d8576a7-dd7e-4074-84d2-90bd358f7281",
   "metadata": {},
   "source": [
    "# Load and inspect rheological data\n",
    "This cell loads experimental data from a CSV file containing:\n",
    "- Angular frequency (`time`) in [rad/s].\n",
    "- Relaxation Modulus (`G_relax`) in [Pa].\n",
    "\n",
    "The data is loaded using `pandas` and the first few rows are displayed for verification.\n"
   ]
  },
  {
   "cell_type": "code",
   "execution_count": 32,
   "id": "4b630ca9-cf1a-43de-a8e8-c99bbd1e89e2",
   "metadata": {},
   "outputs": [
    {
     "data": {
      "text/html": [
       "<div>\n",
       "<style scoped>\n",
       "    .dataframe tbody tr th:only-of-type {\n",
       "        vertical-align: middle;\n",
       "    }\n",
       "\n",
       "    .dataframe tbody tr th {\n",
       "        vertical-align: top;\n",
       "    }\n",
       "\n",
       "    .dataframe thead th {\n",
       "        text-align: right;\n",
       "    }\n",
       "</style>\n",
       "<table border=\"1\" class=\"dataframe\">\n",
       "  <thead>\n",
       "    <tr style=\"text-align: right;\">\n",
       "      <th></th>\n",
       "      <th>Time</th>\n",
       "      <th>Relaxation Modulus</th>\n",
       "    </tr>\n",
       "  </thead>\n",
       "  <tbody>\n",
       "    <tr>\n",
       "      <th>0</th>\n",
       "      <td>0.40226</td>\n",
       "      <td>175.18</td>\n",
       "    </tr>\n",
       "    <tr>\n",
       "      <th>1</th>\n",
       "      <td>0.50234</td>\n",
       "      <td>177.64</td>\n",
       "    </tr>\n",
       "    <tr>\n",
       "      <th>2</th>\n",
       "      <td>0.60300</td>\n",
       "      <td>171.52</td>\n",
       "    </tr>\n",
       "    <tr>\n",
       "      <th>3</th>\n",
       "      <td>0.70500</td>\n",
       "      <td>165.76</td>\n",
       "    </tr>\n",
       "    <tr>\n",
       "      <th>4</th>\n",
       "      <td>0.80609</td>\n",
       "      <td>167.07</td>\n",
       "    </tr>\n",
       "  </tbody>\n",
       "</table>\n",
       "</div>"
      ],
      "text/plain": [
       "      Time  Relaxation Modulus\n",
       "0  0.40226              175.18\n",
       "1  0.50234              177.64\n",
       "2  0.60300              171.52\n",
       "3  0.70500              165.76\n",
       "4  0.80609              167.07"
      ]
     },
     "execution_count": 32,
     "metadata": {},
     "output_type": "execute_result"
    }
   ],
   "source": [
    "# Load rheological data from a CSV file\n",
    "# The file contains time (time) and relaxation (G_relax, ) data.\n",
    "data = pd.read_csv('./data/shaving_foam/stressrelaxation_liquidfoam_data.csv', delimiter='\\t', decimal=\".\")\n",
    "\n",
    "# Extract time and relaxation as numpy arrays\n",
    "time = data['Time'].values[:-50]  # Take all values except the last 50\n",
    "G_relax = data['Relaxation Modulus'].values[:-50]  # Corresponding G_relax values\n",
    "\n",
    "\n",
    "# Display the first few rows of the data for verification\n",
    "data.head()\n"
   ]
  },
  {
   "cell_type": "markdown",
   "id": "daa338e1-93e4-41a9-b3d5-dadd3976a2a1",
   "metadata": {},
   "source": [
    "# Initialize and fit the rheological model\n",
    "In this cell:\n",
    "1. The `RelaxationModel` class is instantiated with parameters for model fitting:\n",
    "   - Automatic model selection.\n",
    "   - Random initial guesses for optimization.\n",
    "   - 64 guesses for the optimizer to explore.\n",
    "   - The Powell algorithm for minimization.\n",
    "2. The model is fitted to the experimental data (`time`, `G_relax`, and ``).\n",
    "3. Fitted model parameters and error metrics are displayed.\n"
   ]
  },
  {
   "cell_type": "code",
   "execution_count": 36,
   "id": "c0de1bf1-4573-4baf-bcd8-9d7a04f25304",
   "metadata": {},
   "outputs": [
    {
     "name": "stdout",
     "output_type": "stream",
     "text": [
      "Best initial guess was: [12624.290942424645, 13588.61113394711, 0.9264435572056808, 0.08021857673816153]\n",
      "G: 155.4663803705599\n",
      "V: 17763.999999990992\n",
      "alpha: 0.8798172835097775\n",
      "beta: 0.06603652063038663\n",
      "RSS: 1.6735166142177333\n",
      "Mean Percentage Error: 2.43%\n"
     ]
    }
   ],
   "source": [
    "# Initialize the rheological model with specific fitting parameters\n",
    "model = RelaxationModel(\n",
    "    model=\"FractionalMaxwell\",                   # Automatically selects the best model\n",
    "    initial_guesses=\"random\",       # Uses random initial guesses\n",
    "    num_initial_guesses=200,         # Number of initial guesses for the optimizer\n",
    "    minimization_algorithm=\"Powell\",  # Optimization algorithm. Use L-BFGS-B with Garrappa\n",
    "    mittag_leffler_type=\"Pade54\"\n",
    ")\n",
    "\n",
    "# Fit the model to the experimental data\n",
    "model.fit(time, G_relax)\n",
    "\n",
    "# Print the fitted parameters and error metrics\n",
    "model.print_parameters()  # Display model parameters\n",
    "model.print_error()       # Display error of the fit\n"
   ]
  },
  {
   "cell_type": "markdown",
   "id": "92d03191-507f-45c6-81ee-da0c98cd7598",
   "metadata": {},
   "source": [
    "# Generate and plot model fit\n",
    "In this cell:\n",
    "1. Predictions are generated using the fitted model at logarithmically spaced times.\n",
    "2. The experimental data and model predictions are visualized using a quick plot from the `pyRheo` library.\n"
   ]
  },
  {
   "cell_type": "code",
   "execution_count": 37,
   "id": "5b599f04-d013-4c8c-b88f-59ad5572f022",
   "metadata": {},
   "outputs": [
    {
     "data": {
      "image/png": "[encoded data removed]",
      "text/plain": [
       "<Figure size 320x300 with 1 Axes>"
      ]
     },
     "metadata": {},
     "output_type": "display_data"
    }
   ],
   "source": [
    "# Generate predictions using the fitted model for a smooth curve\n",
    "time_predict = np.logspace(np.min(np.log10(time)), np.max(np.log10(time)), 100)\n",
    "G_relax_predict = model.predict(time_predict)\n",
    "\n",
    "# Plot the experimental data and the model prediction\n",
    "model.plot(time, G_relax, savefig=False)  # Quick overview plot\n"
   ]
  },
  {
   "cell_type": "markdown",
   "id": "355cd7ac-79c4-4027-a14e-1ae949ac8227",
   "metadata": {},
   "source": [
    "# Create a customized plot\n",
    "This cell generates a detailed J_creep, , publication-quality plot:\n",
    "1. The experimental data and the model predictions are plotted together.\n",
    "2. Both axes are set to logarithmic scales to represent the data more effectively.\n",
    "3. Axis labels, legend, and tick font sizes are adjusted for readability.\n"
   ]
  },
  {
   "cell_type": "code",
   "execution_count": 38,
   "id": "019cffee-3da4-4b46-be52-a1897988cff0",
   "metadata": {},
   "outputs": [
    {
     "data": {
      "image/png": "[encoded data removed]",
      "text/plain": [
       "<Figure size 320x300 with 1 Axes>"
      ]
     },
     "metadata": {},
     "output_type": "display_data"
    }
   ],
   "source": [
    "# Create a new figure with adjusted size for better visualization\n",
    "plt.figure(figsize=(3.2, 3))\n",
    "\n",
    "# Plot experimental data\n",
    "plt.plot(time, G_relax, 'o', markersize=6, markevery=1, alpha=1)\n",
    "\n",
    "# Plot the model predictions\n",
    "plt.plot(time_predict, G_relax_predict, '-', color=\"k\", lw=2, label='fit')\n",
    "\n",
    "\n",
    "# Set logarithmic scales for both axes\n",
    "plt.xscale(\"log\")\n",
    "plt.yscale(\"log\")\n",
    "\n",
    "# Customize axis labels, ticks, and font sizes\n",
    "plt.xticks(fontsize=14)\n",
    "plt.yticks(fontsize=14)\n",
    "plt.xlabel(r'$t$ [s]', fontsize=14)\n",
    "plt.ylabel(r'$G(t)$ [Pa]', fontsize=14)\n",
    "\n",
    "# Add a legend with customized font size\n",
    "plt.legend(fontsize=13.5, handletextpad=0.5)\n",
    "\n",
    "# Final plot adjustments for readability\n",
    "plt.grid(False)\n",
    "plt.tight_layout()\n",
    "\n",
    "# Display the plot\n",
    "plt.show()\n"
   ]
  }
 ],
 "metadata": {
  "kernelspec": {
   "display_name": "Python 3 (ipykernel)",
   "language": "python",
   "name": "python3"
  },
  "language_info": {
   "codemirror_mode": {
    "name": "ipython",
    "version": 3
   },
   "file_extension": ".py",
   "mimetype": "text/x-python",
   "name": "python",
   "nbconvert_exporter": "python",
   "pygments_lexer": "ipython3",
   "version": "3.10.10"
  }
 },
 "nbformat": 4,
 "nbformat_minor": 5
}

{
 "cells": [
  {
   "cell_type": "markdown",
   "id": "59b31080-1a12-4ab2-8a9a-69a8f03f1fdc",
   "metadata": {},
   "source": [
    "# Rheological analysis of mucus creep behavior\n",
    "\n",
    "This notebook demonstrates the use of the `pyRheo` library to fit the creep behavior of a mucus. The experimental data includes angular frequency (`time`) and the Creep Compliance (`J_creep`), which are analyzed using a rheological model. The data is from Jesús Puente-Córdova's archive.\n",
    "\n",
    "We import the following libraries:\n",
    "- `pandas`: For handling the experimental data in tabular format.\n",
    "- `numpy`: For numerical operations and transformations.\n",
    "- `matplotlib.pyplot`: For creating visualizations of the data and model predictions.\n",
    "- `pyRheo.creep_model.CreepModel`: To perform rheological model fitting and analysis of the Creep Compliance (`J_creep`) data.\n",
    "\n"
   ]
  },
  {
   "cell_type": "code",
   "execution_count": 1,
   "id": "84ef1df4-88bf-4085-99f0-e9b2a3531b0c",
   "metadata": {},
   "outputs": [],
   "source": [
    "# Import required libraries\n",
    "import pandas as pd  # For data manipulation and analysis\n",
    "import numpy as np  # For numerical operations\n",
    "import matplotlib.pyplot as plt  # For plotting\n",
    "from pyRheo.creep_model import CreepModel  # For rheological modeling\n"
   ]
  },
  {
   "cell_type": "markdown",
   "id": "7d8576a7-dd7e-4074-84d2-90bd358f7281",
   "metadata": {},
   "source": [
    "# Load and inspect rheological data\n",
    "This cell loads experimental data from a CSV file containing:\n",
    "- Angular frequency (`time`) in [rad/s].\n",
    "- Creep Compliance (`J_creep`) in [1/Pa].\n",
    "\n",
    "The data is loaded using `pandas` and the first few rows are displayed for verification.\n"
   ]
  },
  {
   "cell_type": "code",
   "execution_count": 2,
   "id": "4b630ca9-cf1a-43de-a8e8-c99bbd1e89e2",
   "metadata": {},
   "outputs": [
    {
     "data": {
      "text/html": [
       "<div>\n",
       "<style scoped>\n",
       "    .dataframe tbody tr th:only-of-type {\n",
       "        vertical-align: middle;\n",
       "    }\n",
       "\n",
       "    .dataframe tbody tr th {\n",
       "        vertical-align: top;\n",
       "    }\n",
       "\n",
       "    .dataframe thead th {\n",
       "        text-align: right;\n",
       "    }\n",
       "</style>\n",
       "<table border=\"1\" class=\"dataframe\">\n",
       "  <thead>\n",
       "    <tr style=\"text-align: right;\">\n",
       "      <th></th>\n",
       "      <th>Time</th>\n",
       "      <th>Creep Compliance</th>\n",
       "    </tr>\n",
       "  </thead>\n",
       "  <tbody>\n",
       "    <tr>\n",
       "      <th>0</th>\n",
       "      <td>0.5</td>\n",
       "      <td>0.983780</td>\n",
       "    </tr>\n",
       "    <tr>\n",
       "      <th>1</th>\n",
       "      <td>1.0</td>\n",
       "      <td>1.480515</td>\n",
       "    </tr>\n",
       "    <tr>\n",
       "      <th>2</th>\n",
       "      <td>1.5</td>\n",
       "      <td>1.678908</td>\n",
       "    </tr>\n",
       "    <tr>\n",
       "      <th>3</th>\n",
       "      <td>2.0</td>\n",
       "      <td>1.812351</td>\n",
       "    </tr>\n",
       "    <tr>\n",
       "      <th>4</th>\n",
       "      <td>2.5</td>\n",
       "      <td>1.883760</td>\n",
       "    </tr>\n",
       "  </tbody>\n",
       "</table>\n",
       "</div>"
      ],
      "text/plain": [
       "   Time  Creep Compliance\n",
       "0   0.5          0.983780\n",
       "1   1.0          1.480515\n",
       "2   1.5          1.678908\n",
       "3   2.0          1.812351\n",
       "4   2.5          1.883760"
      ]
     },
     "execution_count": 2,
     "metadata": {},
     "output_type": "execute_result"
    }
   ],
   "source": [
    "# Load rheological data from a CSV file\n",
    "# The file contains time (time) and relaxation (J_creep, ) data.\n",
    "data = pd.read_csv('./data/mucus/creep_mucus_data.csv', delimiter='\\t', decimal=\".\")\n",
    "\n",
    "# Extract time and relaxation as numpy arrays\n",
    "time = data['Time'].values\n",
    "J_creep = data['Creep Compliance'].values\n",
    "\n",
    "# Display the first few rows of the data for verification\n",
    "data.head()\n"
   ]
  },
  {
   "cell_type": "markdown",
   "id": "daa338e1-93e4-41a9-b3d5-dadd3976a2a1",
   "metadata": {},
   "source": [
    "# Initialize and fit the rheological model\n",
    "In this cell:\n",
    "1. The `CreepModel` class is instantiated with parameters for model fitting:\n",
    "   - Automatic model selection.\n",
    "   - Random initial guesses for optimization.\n",
    "   - 64 guesses for the optimizer to explore.\n",
    "   - The Powell algorithm for minimization.\n",
    "2. The model is fitted to the experimental data (`time`, `J_creep`, and ``).\n",
    "3. Fitted model parameters and error metrics are displayed.\n"
   ]
  },
  {
   "cell_type": "code",
   "execution_count": 3,
   "id": "c0de1bf1-4573-4baf-bcd8-9d7a04f25304",
   "metadata": {},
   "outputs": [
    {
     "name": "stdout",
     "output_type": "stream",
     "text": [
      "Search space: [Real(low=-1.3751933334279525, high=1.0071020270364528, prior='uniform', transform='identity'), Real(low=-1.3751933334279525, high=1.0071020270364528, prior='uniform', transform='identity'), Real(low=0.0001, high=0.98, prior='uniform', transform='identity')]\n",
      "Best initial guess was: [-0.06499162923091517, -0.37574500603625216, 0.18583930663850265]\n",
      "G: 0.5592623161935315\n",
      "eta_p: 0.311345334419145\n",
      "beta: 0.10559343301296215\n",
      "RSS: 0.001431460447772356\n",
      "Mean Percentage Error: 0.53%\n"
     ]
    }
   ],
   "source": [
    "# Initialize the rheological model with specific fitting parameters\n",
    "model = CreepModel(\n",
    "    model=\"FractionalKelvinVoigtD\",                   # Automatically selects the best model\n",
    "    initial_guesses=\"bayesian\",       # Uses random initial guesses\n",
    "    num_initial_guesses=16,         # Number of initial guesses for the optimizer\n",
    "    minimization_algorithm=\"Powell\",  # Optimization algorithm\n",
    "    mittag_leffler_type=\"Pade54\"\n",
    ")\n",
    "\n",
    "# Fit the model to the experimental data\n",
    "model.fit(time, J_creep)\n",
    "\n",
    "# Print the fitted parameters and error metrics\n",
    "model.print_parameters()  # Display model parameters\n",
    "model.print_error()       # Display error of the fit\n"
   ]
  },
  {
   "cell_type": "markdown",
   "id": "92d03191-507f-45c6-81ee-da0c98cd7598",
   "metadata": {},
   "source": [
    "# Generate and plot model fit\n",
    "In this cell:\n",
    "1. Predictions are generated using the fitted model at logarithmically spaced times.\n",
    "2. The experimental data and model predictions are visualized using a quick plot from the `pyRheo` library.\n"
   ]
  },
  {
   "cell_type": "code",
   "execution_count": 4,
   "id": "5b599f04-d013-4c8c-b88f-59ad5572f022",
   "metadata": {},
   "outputs": [
    {
     "data": {
      "image/png": "[encoded data removed]",
      "text/plain": [
       "<Figure size 320x300 with 1 Axes>"
      ]
     },
     "metadata": {},
     "output_type": "display_data"
    }
   ],
   "source": [
    "# Generate predictions using the fitted model for a smooth curve\n",
    "time_predict = np.logspace(np.min(np.log10(time)), np.max(np.log10(time)), 100)\n",
    "J_creep_predict = model.predict(time_predict)\n",
    "\n",
    "# Plot the experimental data and the model prediction\n",
    "model.plot(time, J_creep, savefig=False)  # Quick overview plot\n"
   ]
  },
  {
   "cell_type": "markdown",
   "id": "355cd7ac-79c4-4027-a14e-1ae949ac8227",
   "metadata": {},
   "source": [
    "# Create a customized plot\n",
    "This cell generates a detailed J_creep, , publication-quality plot:\n",
    "1. The experimental data and the model predictions are plotted together.\n",
    "2. Both axes are set to logarithmic scales to represent the data more effectively.\n",
    "3. Axis labels, legend, and tick font sizes are adjusted for readability.\n"
   ]
  },
  {
   "cell_type": "code",
   "execution_count": 5,
   "id": "019cffee-3da4-4b46-be52-a1897988cff0",
   "metadata": {},
   "outputs": [
    {
     "data": {
      "image/png": "[encoded data removed]",
      "text/plain": [
       "<Figure size 320x300 with 1 Axes>"
      ]
     },
     "metadata": {},
     "output_type": "display_data"
    }
   ],
   "source": [
    "#import scienceplots\n",
    "\n",
    "# Ensure the 'scienceplots' style is used for better visualization\n",
    "#plt.style.use(['science', 'nature', 'bright'])\n",
    "\n",
    "# Create a new figure with adjusted size for better visualization\n",
    "plt.figure(figsize=(3.2, 3))\n",
    "\n",
    "# Plot experimental data\n",
    "plt.plot(time, J_creep, 'o', markersize=6, markevery=1, alpha=1)\n",
    "\n",
    "# Plot the model predictions\n",
    "plt.plot(time_predict, J_creep_predict, '-', color=\"k\", lw=2, label='$J(t)$ fit')\n",
    "\n",
    "\n",
    "# Set logarithmic scales for both axes\n",
    "plt.xscale(\"linear\")\n",
    "plt.yscale(\"linear\")\n",
    "\n",
    "# Customize axis labels, ticks, and font sizes\n",
    "plt.xticks(fontsize=16)\n",
    "plt.yticks(fontsize=16)\n",
    "plt.xlabel(r'$t$ [s]', fontsize=16)\n",
    "plt.ylabel(r'$J(t)$ [Pa$^{-1}$]', fontsize=16)\n",
    "\n",
    "# Add a legend with customized font size\n",
    "plt.legend(fontsize=13.5, handletextpad=0.5)\n",
    "\n",
    "# Final plot adjustments for readability\n",
    "plt.grid(False)\n",
    "plt.tight_layout()\n",
    "\n",
    "# Display the plot\n",
    "plt.show()\n"
   ]
  },
  {
   "cell_type": "raw",
   "id": "edd3fd29-21bd-4a52-bedf-852135b5f9e4",
   "metadata": {},
   "source": [
    "import numpy as np\n",
    "import matplotlib.pyplot as plt\n",
    "from matplotlib import cm\n",
    "from pyRheo.creep_evaluator import CreepEvaluator\n",
    "import scienceplots\n",
    "plt.style.use(['science', 'nature'])\n",
    "\n",
    "\n",
    "# Model name\n",
    "model = \"FractionalKelvinVoigtD\"\n",
    "\n",
    "# Provided parameter sets\n",
    "parameter_sets = [\n",
    "    [10**0.939864709978562, 10**0.26495912068806615, 0.8607909307678064],\n",
    "    [10**-0.2512829702536403, 10**-0.926188559544136, 0.37579143076780624],\n",
    "    [10**0.34429086986246094, 10**0.8605329608041676, 0.6182911807678063],\n",
    "    [10**-0.8468568103697417, 10**-0.33061471942803466, 0.13329168076780631],\n",
    "    [10**-0.22914966429536632, 10**-0.5460275847298418, 0.10905565226020222],\n",
    "    #[10**-0.06744447019434019, 10**1.0071020270364526, 1e-06],\n",
    "    #[10**0.6367276353263829, 10**-0.7347655140602599, 0.14981680666315428],\n",
    "    #[10**-1.3751933334279525, 10**1.0071020270364526, 0.97]\n",
    "]\n",
    "\n",
    "# Create a plasma colormap\n",
    "cmap = cm.tab20c\n",
    "\n",
    "# Initialize list to store weighted RSS values\n",
    "weighted_rss_values = []\n",
    "\n",
    "# Create a figure\n",
    "plt.figure(figsize=(4.5, 3))\n",
    "\n",
    "# Plot experimental data\n",
    "plt.plot(time, J_creep, 'o', color=\"pink\", linestyle=\"none\", markersize=6, markevery=1, alpha=1, label=\"mucus\")\n",
    "\n",
    "# Loop over parameter sets\n",
    "for i, params in enumerate(parameter_sets):\n",
    "    evaluator = CreepEvaluator(model=model)\n",
    "    \n",
    "    # Compute creep compliance\n",
    "    J_creep_i = evaluator.compute_model(params, time, mittag_leffler_type=\"Pade54\")\n",
    "\n",
    "    # Compute weighted RSS (example calculation, adjust as needed)\n",
    "    residual = J_creep - J_creep_i\n",
    "    weights = J_creep\n",
    "    normalized_residuals = residual / J_creep\n",
    "    rss = np.sum((normalized_residuals)**2)\n",
    "    weighted_rss_values.append(rss)\n",
    "\n",
    "    # Select a color from the plasma colormap\n",
    "    color = cmap(i / len(parameter_sets))  # Scale the color index\n",
    "\n",
    "    # Plotting creep compliance vs. time\n",
    "    plt.plot(time, J_creep_i, '--', lw=2, label=f'$n_{{i = {i+1}}}$', color=color)\n",
    "\n",
    "\n",
    "\n",
    "# Plot the model predictions\n",
    "#plt.plot(time_predict, J_creep_predict, '-', color=\"k\", lw=2, label='$J(t)$ fit')\n",
    "\n",
    "# Customize the plot\n",
    "plt.tick_params(axis='both', which='major', labelsize=16)  # For major ticks\n",
    "plt.tick_params(axis='both', which='minor', labelsize=10)  # For minor ticks\n",
    "plt.xscale(\"linear\")\n",
    "plt.yscale(\"linear\")\n",
    "#plt.ylim(0.0, 5.5)\n",
    "plt.xlabel('$t$ [s]', fontsize=16)\n",
    "plt.ylabel('$J(t)$ [Pa$^{-1}$]', fontsize=16)\n",
    "plt.legend(fontsize=13.5, loc=\"upper left\", bbox_to_anchor=(1.05, 1.0))\n",
    "plt.grid(False)\n",
    "plt.tight_layout()\n",
    "plt.savefig(\"fig_results_bo_iterations_mucus.pdf\")\n",
    "\n",
    "# Show the plot\n",
    "plt.show()\n"
   ]
  },
  {
   "cell_type": "raw",
   "id": "4f98f76b-1400-4969-8312-bb3f1e009c96",
   "metadata": {},
   "source": [
    "plt.figure(figsize=(4.5, 3))\n",
    "\n",
    "n = [1, 2, 3, 4, 5]\n",
    "\n",
    "plt.plot(n, weighted_rss_values, 'o', color=\"k\", markersize=8, label='$J(t)$ fit')\n",
    "\n",
    "plt.tick_params(axis='both', which='major', labelsize=16)  # For major ticks\n",
    "plt.tick_params(axis='both', which='minor', labelsize=10)  # For minor ticks\n",
    "plt.xscale(\"linear\")\n",
    "plt.yscale(\"linear\")\n",
    "plt.xlabel('$n_i$ [s]', fontsize=16)\n",
    "plt.ylabel('RSS$_{w_{i}}$', fontsize=16)\n",
    "plt.legend(fontsize=13.5, loc=\"upper left\", bbox_to_anchor=(1.05, 1.0))\n",
    "plt.grid(False)\n",
    "plt.tight_layout()\n",
    "plt.savefig(\"fig_results_bo_iterations_mucus_rss.pdf\")\n",
    "\n",
    "# Show the plot\n",
    "plt.show()"
   ]
  },
  {
   "cell_type": "code",
   "execution_count": null,
   "id": "e4a0a26a-0cd4-4710-85be-712b3f9ea848",
   "metadata": {},
   "outputs": [],
   "source": []
  }
 ],
 "metadata": {
  "kernelspec": {
   "display_name": "Python 3 (ipykernel)",
   "language": "python",
   "name": "python3"
  },
  "language_info": {
   "codemirror_mode": {
    "name": "ipython",
    "version": 3
   },
   "file_extension": ".py",
   "mimetype": "text/x-python",
   "name": "python",
   "nbconvert_exporter": "python",
   "pygments_lexer": "ipython3",
   "version": "3.10.10"
  }
 },
 "nbformat": 4,
 "nbformat_minor": 5
}

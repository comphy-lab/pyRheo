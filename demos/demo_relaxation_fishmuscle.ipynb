{
 "cells": [
  {
   "cell_type": "markdown",
   "id": "59b31080-1a12-4ab2-8a9a-69a8f03f1fdc",
   "metadata": {},
   "source": [
    "# Rheological analysis of fish muscle Relaxation behavior\n",
    "\n",
    "This notebook demonstrates the use of the `pyRheo` library to fit the Relaxation behavior of a fish muscle. The experimental data includes angular frequency (`time`) and the Relaxation Modulus (`G_relax`), which are analyzed using a rheological model. The data is from Jesús Puente-Córdova's archive.\n",
    "\n",
    "We import the following libraries:\n",
    "- `pandas`: For handling the experimental data in tabular format.\n",
    "- `numpy`: For numerical operations and transformations.\n",
    "- `matplotlib.pyplot`: For creating visualizations of the data and model predictions.\n",
    "- `pyRheo.creep_model.RelaxationModel`: To perform rheological model fitting and analysis of the Relaxation Modulus (`G_relax`) data.\n",
    "\n"
   ]
  },
  {
   "cell_type": "code",
   "execution_count": 7,
   "id": "84ef1df4-88bf-4085-99f0-e9b2a3531b0c",
   "metadata": {},
   "outputs": [],
   "source": [
    "# Import required libraries\n",
    "import pandas as pd  # For data manipulation and analysis\n",
    "import numpy as np  # For numerical operations\n",
    "import matplotlib.pyplot as plt  # For plotting\n",
    "from pyRheo.relaxation_model import RelaxationModel  # For rheological modeling\n"
   ]
  },
  {
   "cell_type": "markdown",
   "id": "7d8576a7-dd7e-4074-84d2-90bd358f7281",
   "metadata": {},
   "source": [
    "# Load and inspect rheological data\n",
    "This cell loads experimental data from a CSV file containing:\n",
    "- Angular frequency (`time`) in [rad/s].\n",
    "- Relaxation Modulus (`G_relax`) in [Pa].\n",
    "\n",
    "The data is loaded using `pandas` and the first few rows are displayed for verification.\n"
   ]
  },
  {
   "cell_type": "code",
   "execution_count": 8,
   "id": "4b630ca9-cf1a-43de-a8e8-c99bbd1e89e2",
   "metadata": {},
   "outputs": [
    {
     "data": {
      "text/html": [
       "<div>\n",
       "<style scoped>\n",
       "    .dataframe tbody tr th:only-of-type {\n",
       "        vertical-align: middle;\n",
       "    }\n",
       "\n",
       "    .dataframe tbody tr th {\n",
       "        vertical-align: top;\n",
       "    }\n",
       "\n",
       "    .dataframe thead th {\n",
       "        text-align: right;\n",
       "    }\n",
       "</style>\n",
       "<table border=\"1\" class=\"dataframe\">\n",
       "  <thead>\n",
       "    <tr style=\"text-align: right;\">\n",
       "      <th></th>\n",
       "      <th>Time</th>\n",
       "      <th>Relaxation Modulus</th>\n",
       "    </tr>\n",
       "  </thead>\n",
       "  <tbody>\n",
       "    <tr>\n",
       "      <th>0</th>\n",
       "      <td>0.0139</td>\n",
       "      <td>33600.0</td>\n",
       "    </tr>\n",
       "    <tr>\n",
       "      <th>1</th>\n",
       "      <td>0.0149</td>\n",
       "      <td>33243.0</td>\n",
       "    </tr>\n",
       "    <tr>\n",
       "      <th>2</th>\n",
       "      <td>0.0159</td>\n",
       "      <td>31100.0</td>\n",
       "    </tr>\n",
       "    <tr>\n",
       "      <th>3</th>\n",
       "      <td>0.0169</td>\n",
       "      <td>30900.0</td>\n",
       "    </tr>\n",
       "    <tr>\n",
       "      <th>4</th>\n",
       "      <td>0.0180</td>\n",
       "      <td>31700.0</td>\n",
       "    </tr>\n",
       "  </tbody>\n",
       "</table>\n",
       "</div>"
      ],
      "text/plain": [
       "     Time  Relaxation Modulus\n",
       "0  0.0139             33600.0\n",
       "1  0.0149             33243.0\n",
       "2  0.0159             31100.0\n",
       "3  0.0169             30900.0\n",
       "4  0.0180             31700.0"
      ]
     },
     "execution_count": 8,
     "metadata": {},
     "output_type": "execute_result"
    }
   ],
   "source": [
    "# Load rheological data from a CSV file\n",
    "# The file contains time (time) and relaxation (G_relax, ) data.\n",
    "data = pd.read_csv('./data/fish_muscle/stressrelaxation_fishmuscle_data.csv', delimiter='\\t', decimal=\".\")\n",
    "\n",
    "# Extract time and relaxation as numpy arrays\n",
    "time = data['Time'].values\n",
    "G_relax = data['Relaxation Modulus'].values\n",
    "\n",
    "# Display the first few rows of the data for verification\n",
    "data.head()\n"
   ]
  },
  {
   "cell_type": "markdown",
   "id": "daa338e1-93e4-41a9-b3d5-dadd3976a2a1",
   "metadata": {},
   "source": [
    "# Initialize and fit the rheological model\n",
    "In this cell:\n",
    "1. The `RelaxationModel` class is instantiated with parameters for model fitting:\n",
    "   - Automatic model selection.\n",
    "   - Random initial guesses for optimization.\n",
    "   - 64 guesses for the optimizer to explore.\n",
    "   - The Powell algorithm for minimization.\n",
    "2. The model is fitted to the experimental data (`time`, `G_relax`, and ``).\n",
    "3. Fitted model parameters and error metrics are displayed.\n"
   ]
  },
  {
   "cell_type": "code",
   "execution_count": 9,
   "id": "c0de1bf1-4573-4baf-bcd8-9d7a04f25304",
   "metadata": {},
   "outputs": [
    {
     "name": "stderr",
     "output_type": "stream",
     "text": [
      "/m/home/home8/81/mirandi1/data/Downloads/pyRheo/pyRheo/rheo_models/relaxation_models.py:209: RuntimeWarning: overflow encountered in scalar power\n",
      "  tau_c = (V / G)**(1 / (alpha - beta))\n",
      "/m/home/home8/81/mirandi1/data/Downloads/pyRheo/pyRheo/rheo_models/relaxation_models.py:228: RuntimeWarning: divide by zero encountered in power\n",
      "  result = G_c * np.multiply(np.power(np.divide(t, tau_c), -beta), response_func(z, a, b))\n",
      "/m/home/home8/81/mirandi1/data/Downloads/pyRheo/pyRheo/rheo_models/relaxation_models.py:228: RuntimeWarning: invalid value encountered in multiply\n",
      "  result = G_c * np.multiply(np.power(np.divide(t, tau_c), -beta), response_func(z, a, b))\n",
      "/m/home/home8/81/mirandi1/data/Downloads/pyRheo/pyRheo/rheo_models/relaxation_models.py:210: RuntimeWarning: divide by zero encountered in scalar power\n",
      "  G_c = V * (tau_c**(-alpha))\n",
      "/m/home/home8/81/mirandi1/data/Downloads/pyRheo/pyRheo/rheo_models/relaxation_models.py:211: RuntimeWarning: divide by zero encountered in divide\n",
      "  z = -np.power(np.divide(t, tau_c), alpha - beta)\n",
      "/m/home/home8/81/mirandi1/data/Downloads/pyRheo/pyRheo/rheo_models/relaxation_models.py:228: RuntimeWarning: divide by zero encountered in divide\n",
      "  result = G_c * np.multiply(np.power(np.divide(t, tau_c), -beta), response_func(z, a, b))\n",
      "/m/home/home8/81/mirandi1/data/Downloads/pyRheo/pyRheo/mittag_leffler/ml_pade54.py:44: RuntimeWarning: invalid value encountered in divide\n",
      "  R_val = (1 / gamma(beta - alpha)) * (p[0] + p[1] * (-x) + p[2] * (-x)**2 + (-x)**3) / (q[0] + q[1] * (-x) + q[2] * (-x)**2 + q[3] * (-x)**3 + x**4)\n",
      "/m/home/home8/81/mirandi1/data/Downloads/pyRheo/pyRheo/rheo_models/relaxation_models.py:211: RuntimeWarning: overflow encountered in divide\n",
      "  z = -np.power(np.divide(t, tau_c), alpha - beta)\n",
      "/m/home/home8/81/mirandi1/data/Downloads/pyRheo/pyRheo/rheo_models/relaxation_models.py:228: RuntimeWarning: overflow encountered in divide\n",
      "  result = G_c * np.multiply(np.power(np.divide(t, tau_c), -beta), response_func(z, a, b))\n"
     ]
    },
    {
     "name": "stdout",
     "output_type": "stream",
     "text": [
      "Best initial guess was: [3295783.033133741, 2669068.936501509, 0.2942480414062173, 0.146814842043166]\n",
      "G: 22074.379708820103\n",
      "V: 870055.6182448406\n",
      "alpha: 0.6743984144629115\n",
      "beta: 0.11006447648414713\n",
      "RSS: 0.010755895697229735\n",
      "Mean Percentage Error: 0.24%\n"
     ]
    }
   ],
   "source": [
    "# Initialize the rheological model with specific fitting parameters\n",
    "model = RelaxationModel(\n",
    "    model=\"FractionalMaxwell\",                   # Automatically selects the best model\n",
    "    initial_guesses=\"random\",       # Uses random initial guesses\n",
    "    num_initial_guesses=10,         # Number of initial guesses for the optimizer\n",
    "    minimization_algorithm=\"Powell\",  # Optimization algorithm\n",
    "    mittag_leffler_type=\"Pade54\"\n",
    ")\n",
    "\n",
    "# Fit the model to the experimental data\n",
    "model.fit(time, G_relax)\n",
    "\n",
    "# Print the fitted parameters and error metrics\n",
    "model.print_parameters()  # Display model parameters\n",
    "model.print_error()       # Display error of the fit\n"
   ]
  },
  {
   "cell_type": "markdown",
   "id": "92d03191-507f-45c6-81ee-da0c98cd7598",
   "metadata": {},
   "source": [
    "# Generate and plot model fit\n",
    "In this cell:\n",
    "1. Predictions are generated using the fitted model at logarithmically spaced times.\n",
    "2. The experimental data and model predictions are visualized using a quick plot from the `pyRheo` library.\n"
   ]
  },
  {
   "cell_type": "code",
   "execution_count": 10,
   "id": "5b599f04-d013-4c8c-b88f-59ad5572f022",
   "metadata": {},
   "outputs": [
    {
     "data": {
      "image/png": "[encoded data removed]",
      "text/plain": [
       "<Figure size 320x300 with 1 Axes>"
      ]
     },
     "metadata": {},
     "output_type": "display_data"
    }
   ],
   "source": [
    "# Generate predictions using the fitted model for a smooth curve\n",
    "time_predict = np.logspace(np.min(np.log10(time)), np.max(np.log10(time)), 100)\n",
    "G_relax_predict = model.predict(time_predict)\n",
    "\n",
    "# Plot the experimental data and the model prediction\n",
    "model.plot(time, G_relax, savefig=False)  # Quick overview plot\n"
   ]
  },
  {
   "cell_type": "markdown",
   "id": "355cd7ac-79c4-4027-a14e-1ae949ac8227",
   "metadata": {},
   "source": [
    "# Create a customized plot\n",
    "This cell generates a detailed G_relax, , publication-quality plot:\n",
    "1. The experimental data and the model predictions are plotted together.\n",
    "2. Both axes are set to logarithmic scales to represent the data more effectively.\n",
    "3. Axis labels, legend, and tick font sizes are adjusted for readability.\n"
   ]
  },
  {
   "cell_type": "code",
   "execution_count": 11,
   "id": "019cffee-3da4-4b46-be52-a1897988cff0",
   "metadata": {},
   "outputs": [
    {
     "data": {
      "image/png": "[encoded data removed]",
      "text/plain": [
       "<Figure size 320x300 with 1 Axes>"
      ]
     },
     "metadata": {},
     "output_type": "display_data"
    }
   ],
   "source": [
    "# Create a new figure with adjusted size for better visualization\n",
    "plt.figure(figsize=(3.2, 3))\n",
    "\n",
    "# Plot experimental data\n",
    "plt.plot(time, G_relax, 'o', markersize=6, markevery=1, alpha=1)\n",
    "\n",
    "# Plot the model predictions\n",
    "plt.plot(time_predict, G_relax_predict, '-', color=\"k\", lw=2, label='fit')\n",
    "\n",
    "\n",
    "# Set logarithmic scales for both axes\n",
    "plt.xscale(\"log\")\n",
    "plt.yscale(\"log\")\n",
    "\n",
    "# Customize axis labels, ticks, and font sizes\n",
    "plt.xticks(fontsize=14)\n",
    "plt.yticks(fontsize=14)\n",
    "plt.xlabel(r'$t$ [s]', fontsize=14)\n",
    "plt.ylabel(r'$G(t)$ [Pa]', fontsize=14)\n",
    "\n",
    "# Add a legend with customized font size\n",
    "plt.legend(fontsize=13.5, handletextpad=0.5)\n",
    "\n",
    "# Final plot adjustments for readability\n",
    "plt.grid(False)\n",
    "plt.tight_layout()\n",
    "\n",
    "# Display the plot\n",
    "plt.show()\n"
   ]
  }
 ],
 "metadata": {
  "kernelspec": {
   "display_name": "Python 3 (ipykernel)",
   "language": "python",
   "name": "python3"
  },
  "language_info": {
   "codemirror_mode": {
    "name": "ipython",
    "version": 3
   },
   "file_extension": ".py",
   "mimetype": "text/x-python",
   "name": "python",
   "nbconvert_exporter": "python",
   "pygments_lexer": "ipython3",
   "version": "3.10.10"
  }
 },
 "nbformat": 4,
 "nbformat_minor": 5
}

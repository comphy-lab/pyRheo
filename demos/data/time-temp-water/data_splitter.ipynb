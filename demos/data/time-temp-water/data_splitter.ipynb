{
 "cells": [
  {
   "cell_type": "code",
   "execution_count": 8,
   "id": "de830aaa-ba28-4c4b-905d-a0c83ec905f3",
   "metadata": {},
   "outputs": [
    {
     "name": "stdout",
     "output_type": "stream",
     "text": [
      "Saved ttw_95_25.csv\n",
      "Saved ttw_95_27.csv\n",
      "Saved ttw_95_30.csv\n",
      "Saved ttw_95_32.csv\n"
     ]
    }
   ],
   "source": [
    "import pandas as pd\n",
    "\n",
    "# Load the CSV file\n",
    "input_file = 'ttw_95.csv'\n",
    "data = pd.read_csv(input_file, header=1)\n",
    "\n",
    "# Manually specify the temperatures based on your structure\n",
    "temperatures = [25, 27, 30, 32]\n",
    "\n",
    "# Iterate over each temperature and create a separate file\n",
    "for i, temp in enumerate(temperatures):\n",
    "    # Calculate the column positions for each temperature block\n",
    "    start_col = 1 + i * 2  # 'w' column is index 0, then 'Gp', 'Gpp' repeat in pairs\n",
    "    columns = ['w', f'Gp_{temp}', f'Gpp_{temp}']\n",
    "    \n",
    "    # Select the relevant columns: 'w', 'Gp', 'Gpp' for the current temperature\n",
    "    temp_data = data.iloc[:, [0, start_col, start_col + 1]]\n",
    "    temp_data.columns = ['Angular Frequency', 'Storage Modulus', 'Loss Modulus']  # Rename for simplicity in output files\n",
    "    \n",
    "    # Save to a new CSV file\n",
    "    output_file = f'ttw_95_{temp}.csv'\n",
    "    temp_data.to_csv(output_file, index=False)\n",
    "    print(f\"Saved {output_file}\")\n"
   ]
  },
  {
   "cell_type": "code",
   "execution_count": null,
   "id": "b747b8e7-fa8d-4737-b596-95fdf62211e0",
   "metadata": {},
   "outputs": [],
   "source": []
  }
 ],
 "metadata": {
  "kernelspec": {
   "display_name": "Python 3 (ipykernel)",
   "language": "python",
   "name": "python3"
  },
  "language_info": {
   "codemirror_mode": {
    "name": "ipython",
    "version": 3
   },
   "file_extension": ".py",
   "mimetype": "text/x-python",
   "name": "python",
   "nbconvert_exporter": "python",
   "pygments_lexer": "ipython3",
   "version": "3.10.10"
  }
 },
 "nbformat": 4,
 "nbformat_minor": 5
}

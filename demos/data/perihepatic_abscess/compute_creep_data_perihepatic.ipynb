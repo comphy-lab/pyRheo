{
 "cells": [
  {
   "cell_type": "markdown",
   "id": "33888ede-4e7d-4b9c-9779-0c0cf69aee81",
   "metadata": {},
   "source": [
    "# Creep Compliance Calculation in Viscoelastic Materials\n",
    "This notebook calculates the creep compliance \\( J(t) \\) according to the data reported in A. Shih, S. J. Chung, O. B. Shende, S. E. Herwald, A. M. Vezeridis, G. G. Fuller; Viscoelastic measurements of abscess fluids using a magnetic stress rheometer. Physics of Fluids 1 November 2024; 36 (11): 111919. https://doi.org/10.1063/5.0238703\n",
    "\n",
    "where:\n",
    "- \\( \\eta_0 \\): Viscosity coefficient\n",
    "- \\( G_1, G_2 \\): Shear moduli\n",
    "- \\( \\eta_1, \\eta_2 \\): Viscosity coefficients  \n",
    "We compute \\( J(t) \\) over a range of time values.\n"
   ]
  },
  {
   "cell_type": "markdown",
   "id": "7c932336-972e-4d03-91ef-f12b839f8f34",
   "metadata": {},
   "source": [
    "## Step 1: Import Required Libraries\n",
    "We import `numpy` for numerical operations and `matplotlib` for plotting results.\n"
   ]
  },
  {
   "cell_type": "code",
   "execution_count": 40,
   "id": "1eb56964-ce41-477e-af10-bcc344322c3a",
   "metadata": {},
   "outputs": [],
   "source": [
    "# Import necessary libraries\n",
    "import numpy as np\n",
    "import matplotlib.pyplot as plt\n",
    "import pandas"
   ]
  },
  {
   "cell_type": "markdown",
   "id": "bfd036d1-a328-4ab6-a8a4-5fe759161513",
   "metadata": {},
   "source": [
    "## Step 2: Define the Function \\( J(t) \\)\n",
    "This function computes the creep compliance \\( J(t) \\) for given parameters:\n",
    "- \\( \\eta_0 \\): Viscosity coefficient\n",
    "- \\( G_1, G_2 \\): Shear moduli\n",
    "- \\( \\eta_1, \\eta_2 \\): Viscosity coefficients\n"
   ]
  },
  {
   "cell_type": "code",
   "execution_count": 45,
   "id": "5804bf9d-e619-45bb-9429-44095f459f23",
   "metadata": {},
   "outputs": [],
   "source": [
    "def J(t, eta_0, eta1_G1, eta2_G2, error_percent=0.03):\n",
    "    \"\"\"\n",
    "    Compute the creep compliance J(t) at time t.\n",
    "    \n",
    "    Parameters:\n",
    "        t (float or array): Time variable.\n",
    "        eta_0 (float): Viscosity coefficient.\n",
    "        eta1_G1 (float): Ratio of eta_1 / G_1.\n",
    "        eta2_G2 (float): Ratio of eta_2 / G_2.\n",
    "        \n",
    "    Returns:\n",
    "        float or array: Creep compliance J(t).\n",
    "    \"\"\"\n",
    "    # Term 1: Linear contribution with viscosity eta_0\n",
    "    term1 = t / eta_0\n",
    "    \n",
    "    # Term 2: Contribution with eta_1 / G_1\n",
    "    term2 = eta1_G1 * (1 - np.exp(-t / eta1_G1))\n",
    "    \n",
    "    # Term 3: Contribution with eta_2 / G_2\n",
    "    term3 = eta2_G2 * (1 - np.exp(-t / eta2_G2))\n",
    "    \n",
    "    # Combine terms\n",
    "    J_value = term1 + term2 + term3\n",
    "    \n",
    "    # Add percentage error if error_percent > 0\n",
    "    if error_percent > 0:\n",
    "        noise = np.random.normal(0, error_percent * J_value, size=np.shape(J_value))\n",
    "        J_value += noise\n",
    "    \n",
    "    return J_value\n"
   ]
  },
  {
   "cell_type": "markdown",
   "id": "b5d8539a-286f-46dd-a2f9-8f239fed76c2",
   "metadata": {},
   "source": [
    "## Step 4: Compute \\( J(t) \\) Over a Range of Time\n",
    "We evaluate \\( J(t) \\) for a range of time values from \\( t = 0 \\) to \\( t = 50 \\).\n"
   ]
  },
  {
   "cell_type": "code",
   "execution_count": 46,
   "id": "2c0c7391-418d-4220-b665-5c2f070d2018",
   "metadata": {},
   "outputs": [],
   "source": [
    "# Given parameters\n",
    "eta_0 = 4.02       # Viscosity coefficient\n",
    "eta1_G1 = 1.08     # eta_1 / G_1\n",
    "eta2_G2 = 8.45     # eta_2 / G_2\n",
    "\n",
    "# Time range: From 0 to 50 with 100 steps\n",
    "t_values = np.logspace(-2, 0.6, 250)\n",
    "\n",
    "# Compute J(t) for all time values\n",
    "J_values = J(t_values, eta_0, eta1_G1, eta2_G2)\n"
   ]
  },
  {
   "cell_type": "markdown",
   "id": "9f0a05ac-87b1-4566-9546-6d7589b4293c",
   "metadata": {},
   "source": [
    "## Step 5: Plot the Results\n",
    "We plot \\( J(t) \\) as a function of time to visualize the creep compliance behavior.\n"
   ]
  },
  {
   "cell_type": "code",
   "execution_count": 47,
   "id": "bed6c805-6fb3-4166-b333-2d41c0ac7ed6",
   "metadata": {},
   "outputs": [
    {
     "data": {
      "image/png": "[encoded data removed]",
      "text/plain": [
       "<Figure size 800x600 with 1 Axes>"
      ]
     },
     "metadata": {},
     "output_type": "display_data"
    }
   ],
   "source": [
    "import matplotlib.pyplot as plt\n",
    "\n",
    "# Plot J(t) vs Time\n",
    "plt.figure(figsize=(8, 6))\n",
    "plt.plot(t_values, J_values, \"o\", label='Creep Compliance $J(t)$', color='blue')\n",
    "plt.xscale(\"log\")\n",
    "plt.yscale(\"log\")\n",
    "plt.xlabel('Time $t$')\n",
    "plt.ylabel('Creep Compliance $J(t)$')\n",
    "plt.title('Creep Compliance over Time')\n",
    "plt.legend()\n",
    "plt.grid(True)\n",
    "plt.show()\n"
   ]
  },
  {
   "cell_type": "markdown",
   "id": "0d4e007e-9a95-48da-b19b-6a32ef56dddd",
   "metadata": {},
   "source": [
    "## Step 6: Save Results to CSV\n",
    "We save the computed \\( J(t) \\) values into a CSV file using `pandas`. The file will have two columns:\n",
    "1. **Time**: Time values \\( t \\)\n",
    "2. **Creep Compliance**: Corresponding \\( J(t) \\) values  \n",
    "\n",
    "The file will be tab-separated for better readability.\n"
   ]
  },
  {
   "cell_type": "code",
   "execution_count": 48,
   "id": "2cd7eb8f-002b-474d-8544-06e0feb428ff",
   "metadata": {},
   "outputs": [
    {
     "name": "stdout",
     "output_type": "stream",
     "text": [
      "Data saved successfully to 'creep_perihepatic_data.csv'\n"
     ]
    }
   ],
   "source": [
    "import pandas as pd\n",
    "\n",
    "# Create a DataFrame to store Time and Creep Compliance\n",
    "data = pd.DataFrame({\n",
    "    \"Time\": t_values,\n",
    "    \"Creep Compliance\": J_values\n",
    "})\n",
    "\n",
    "# Save DataFrame to a tab-separated CSV file\n",
    "data.to_csv(\"creep_perihepatic_data.csv\", sep=\"\\t\", index=False)\n",
    "\n",
    "print(\"Data saved successfully to 'creep_perihepatic_data.csv'\")\n"
   ]
  },
  {
   "cell_type": "code",
   "execution_count": null,
   "id": "98a32dc1-cd0c-40a6-a916-e58401d8d57a",
   "metadata": {},
   "outputs": [],
   "source": []
  },
  {
   "cell_type": "code",
   "execution_count": null,
   "id": "3fd606ce-e276-4770-8fdc-b567f8c6ad96",
   "metadata": {},
   "outputs": [],
   "source": []
  }
 ],
 "metadata": {
  "kernelspec": {
   "display_name": "Python 3 (ipykernel)",
   "language": "python",
   "name": "python3"
  },
  "language_info": {
   "codemirror_mode": {
    "name": "ipython",
    "version": 3
   },
   "file_extension": ".py",
   "mimetype": "text/x-python",
   "name": "python",
   "nbconvert_exporter": "python",
   "pygments_lexer": "ipython3",
   "version": "3.10.10"
  }
 },
 "nbformat": 4,
 "nbformat_minor": 5
}

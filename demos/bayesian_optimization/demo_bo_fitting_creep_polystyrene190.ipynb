{
 "cells": [
  {
   "cell_type": "markdown",
   "id": "f86531a5-a2fd-4b3c-8fc0-1f640ba4b316",
   "metadata": {},
   "source": [
    "## Bayesian optimization to infer Fractional Maxwell Liquid model fitting parameters for the creep data of polystyrene at 175C\n",
    "\n",
    "First, we are importing a variety of essential libraries that will help us with numerical computations, data manipulation, plotting, machine learning, Bayesian optimization, and other specialized tasks.\n",
    "\n",
    "### Libraries:\n",
    "- **NumPy (`numpy`)**: A fundamental package for numerical operations in Python.\n",
    "- **Pandas (`pandas`)**: A powerful data manipulation and analysis library.\n",
    "- **Matplotlib (`matplotlib.pyplot`)**: A plotting library used for creating static, animated, and interactive visualizations.\n",
    "- **SciPy Special Functions (`scipy.special`)**: Specifically importing the gamma function for mathematical computations.\n",
    "- **PyTorch (`torch`)**: A deep learning library for tensor computations and building neural networks.\n",
    "- **BoTorch and GPyTorch**: Libraries for Gaussian Process Regression:\n",
    "  - `SingleTaskGP`: For constructing Gaussian Process models.\n",
    "  - `Standardize`: For standardizing outcomes.\n",
    "  - `ExactMarginalLogLikelihood`: For exact marginal log likelihood calculation.\n",
    "  - `fit_gpytorch_mll`: For fitting GP models.\n",
    "- **Sobol Sequence (`sobol_seq`)**: For generating Sobol sequences for quasi-random sampling.\n",
    "- **BoTorch Acquisition and Optimization**:\n",
    "  - `qExpectedImprovement`: For Monte Carlo-based expected improvement.\n",
    "  - `optimize_acqf`: For optimizing the acquisition function.\n",
    "- **Scikit-Learn Preprocessing (`sklearn.preprocessing`)**: A collection of scalers for feature scaling, including:\n",
    "  - `MinMaxScaler`\n",
    "  - `RobustScaler`\n",
    "  - `StandardScaler`\n",
    "  - `MaxAbsScaler`\n",
    "- **pyRheo (`pyRheo.creep_evaluator`)**: A custom library for evaluating properties in creep.\n",
    "- **SciencePlots (`scienceplots`)**: A library to enhance Matplotlib plots with scientific visual styles.\n",
    "\n",
    "These imports will provide all the necessary tools for the subsequent analysis and model building steps in this notebook.\n"
   ]
  },
  {
   "cell_type": "code",
   "execution_count": 1,
   "id": "500d3598-5ca2-47f5-a48d-92470317db3c",
   "metadata": {},
   "outputs": [],
   "source": [
    "# Import packages\n",
    "import numpy as np\n",
    "import pandas as pd\n",
    "import matplotlib.pyplot as plt\n",
    "from scipy.special import gamma\n",
    "import torch\n",
    "from botorch.models.gp_regression import SingleTaskGP\n",
    "from botorch.models.transforms.outcome import Standardize\n",
    "from gpytorch.mlls.exact_marginal_log_likelihood import ExactMarginalLogLikelihood\n",
    "from botorch.fit import fit_gpytorch_mll\n",
    "import sobol_seq\n",
    "from botorch.acquisition.monte_carlo import qExpectedImprovement\n",
    "from botorch.acquisition.logei import qLogExpectedImprovement\n",
    "from botorch.optim.optimize import optimize_acqf\n",
    "from sklearn.preprocessing import MinMaxScaler, RobustScaler, StandardScaler, MaxAbsScaler\n",
    "from gpytorch.kernels import RBFKernel, MaternKernel, ScaleKernel\n",
    "from pyRheo.creep_evaluator import CreepEvaluator\n",
    "import scienceplots\n",
    "plt.style.use(['science', 'nature', 'retro'])"
   ]
  },
  {
   "cell_type": "markdown",
   "id": "8774f387-717c-498e-b58f-6fdd776f721e",
   "metadata": {},
   "source": [
    "## Random Error Generation, Objective Function, Sobol Sampling and Model Initialization\n",
    "\n",
    "In this section, we define various key functions and setup procedures required for our model analysis and optimization:\n",
    "\n"
   ]
  },
  {
   "cell_type": "code",
   "execution_count": 2,
   "id": "b0965faf-e14f-4ad6-be86-382080f09dfe",
   "metadata": {},
   "outputs": [],
   "source": [
    "# Error function to add to the fractional rheology model\n",
    "def createRandomError(n, std):\n",
    "    return np.random.normal(loc=1, scale=std, size=n)\n",
    "\n",
    "# Objective function to minimize (RRS weighted by true values)\n",
    "def objective(params):\n",
    "    logG, logeta, beta = params\n",
    "    G = 10 ** logG\n",
    "    eta = 10 ** logeta\n",
    "    params_no_scale = G, eta, beta\n",
    "    model = \"FractionalMaxwellLiquid\"\n",
    "    evaluator = CreepEvaluator(model=model)\n",
    "    # Compute relaxation\n",
    "    model_values = evaluator.compute_model(params_no_scale, time) \n",
    "    # Add noise\n",
    "    error = createRandomError(time.shape[0], 0.00) # 2% noise\n",
    "    model_values_noisy = np.multiply(model_values, error)\n",
    "    # Define objective functions\n",
    "    obj1 = np.sum(((y_true - model_values_noisy) / y_true) ** 2)\n",
    "    return -np.log10(obj1) # we take the negative because the EI by default maximizes and we are looking to minimize\n",
    "    \n",
    "# Function to create Sobol samples\n",
    "def sobol_sample(space, n_samples, seed=None):\n",
    "    if seed is not None:\n",
    "        np.random.seed(seed)\n",
    "    sobol_samples = sobol_seq.i4_sobol_generate(len(space), n_samples)\n",
    "    sobol_scaled = sobol_samples * (space[:, 1] - space[:, 0]) + space[:, 0]\n",
    "    return np.array(sobol_scaled)\n",
    "\n",
    "# Initialize model function for single-objective problem\n",
    "def initialize_model(train_x, train_obj):\n",
    "    train_obj = train_obj.unsqueeze(-1)  # Add dimension for single task GP\n",
    "    model = SingleTaskGP(train_x, train_obj, covar_module=MaternKernel(nu=1.5))\n",
    "    mll = ExactMarginalLogLikelihood(model.likelihood, model)\n",
    "    return mll, model\n",
    "\n",
    "# Compute the qEI acquisition function to find new candidate points that maximize the objective\n",
    "def compute_qei_acquisition_function(model, train_x, bounds):\n",
    "    acq_func = qLogExpectedImprovement(\n",
    "        model=model,\n",
    "        best_f=train_x.max(),\n",
    "    )\n",
    "    candidates, _ = optimize_acqf(\n",
    "        acq_function=acq_func,\n",
    "        bounds=bounds,\n",
    "        q=1,  # Number of candidates to generate in a batch\n",
    "        num_restarts=5,\n",
    "        raw_samples=50,\n",
    "        options={\"batch_limit\": 5, \"maxiter\": 50},\n",
    "    )\n",
    "    return candidates"
   ]
  },
  {
   "cell_type": "markdown",
   "id": "25fad4a0-9f7f-48f7-8469-851b60ab5b60",
   "metadata": {},
   "source": [
    "## Loading Rheological Data and Defining Search Space\n",
    "\n",
    "In this section, we load the rheological data from a CSV file and define the search space bounds for our parameter optimization."
   ]
  },
  {
   "cell_type": "code",
   "execution_count": 3,
   "id": "f9e8ad61-5b92-4736-b5e9-f9fd6d428801",
   "metadata": {},
   "outputs": [],
   "source": [
    "# Load rheological data\n",
    "data = pd.read_csv('./data/polystyrene/creep_ps175_data.csv', delimiter='\\t', decimal=\".\")\n",
    "time = data['Time'].values\n",
    "y_true = data['Creep Compliance'].values\n",
    "\n",
    "# Define search space bounds\n",
    "param_space = np.array([\n",
    "    [4, 7],  # log10 scale for G\n",
    "    [4, 7],  # log10 scale for eta\n",
    "    [0.0, 1.0]   # real scale for beta\n",
    "])"
   ]
  },
  {
   "cell_type": "markdown",
   "id": "66be9fd5-5d49-4185-960c-4aaebb615318",
   "metadata": {},
   "source": [
    "## Exploration Phase: Initial Sampling, Scaling, and Model Initialization\n",
    "\n",
    "In this section, we conduct the initial exploration phase of our optimization process.\n"
   ]
  },
  {
   "cell_type": "code",
   "execution_count": 4,
   "id": "0ff673ff-b425-41ff-9442-8f37b022e274",
   "metadata": {},
   "outputs": [
    {
     "name": "stderr",
     "output_type": "stream",
     "text": [
      "/u/81/mirandi1/unix/.local/lib/python3.10/site-packages/botorch/models/utils/assorted.py:257: InputDataWarning: Input data is not contained to the unit cube. Please consider min-max scaling the input data.\n",
      "  check_min_max_scaling(\n"
     ]
    },
    {
     "data": {
      "text/plain": [
       "ExactMarginalLogLikelihood(\n",
       "  (likelihood): GaussianLikelihood(\n",
       "    (noise_covar): HomoskedasticNoise(\n",
       "      (noise_prior): GammaPrior()\n",
       "      (raw_noise_constraint): GreaterThan(1.000E-04)\n",
       "    )\n",
       "  )\n",
       "  (model): SingleTaskGP(\n",
       "    (likelihood): GaussianLikelihood(\n",
       "      (noise_covar): HomoskedasticNoise(\n",
       "        (noise_prior): GammaPrior()\n",
       "        (raw_noise_constraint): GreaterThan(1.000E-04)\n",
       "      )\n",
       "    )\n",
       "    (mean_module): ConstantMean()\n",
       "    (covar_module): MaternKernel(\n",
       "      (raw_lengthscale_constraint): Positive()\n",
       "    )\n",
       "  )\n",
       ")"
      ]
     },
     "execution_count": 4,
     "metadata": {},
     "output_type": "execute_result"
    }
   ],
   "source": [
    "# Set random seed\n",
    "seed = 42\n",
    "\n",
    "# Initial sampling using Sobol sequence\n",
    "n_initial_points = 64\n",
    "X_samples = sobol_sample(param_space, n_initial_points, seed=seed)\n",
    "y_samples = np.array([objective(x) for x in X_samples])\n",
    "\n",
    "# Apply MinMax scaling to the target values\n",
    "scaler = StandardScaler()\n",
    "y_samples_scaled = scaler.fit_transform(y_samples.reshape(-1, 1)).flatten()\n",
    "\n",
    "# Convert to tensors for BoTorch\n",
    "X_samples_tensor = torch.tensor(X_samples, dtype=torch.double)\n",
    "y_samples_tensor = torch.tensor(y_samples_scaled, dtype=torch.double)\n",
    "\n",
    "# Compute bounds for optimization\n",
    "bounds = torch.stack([\n",
    "    torch.tensor(param_space[:, 0], dtype=torch.double),\n",
    "    torch.tensor(param_space[:, 1], dtype=torch.double)\n",
    "])\n",
    "\n",
    "# Initialize and fit the GP model\n",
    "mll, model = initialize_model(X_samples_tensor, y_samples_tensor)\n",
    "fit_gpytorch_mll(mll)"
   ]
  },
  {
   "cell_type": "markdown",
   "id": "8d33474a-d014-4c30-9728-192667b05cac",
   "metadata": {},
   "source": [
    "## Exploitation Phase: Iterative Sampling and Model Updating\n",
    "\n",
    "In this section, we perform the exploitation phase of our optimization process. We iteratively generate new samples using the q-Expected Improvement (qEI) acquisition function, evaluate the objective function at these new sample points, and update our model accordingly.\n",
    "\n",
    "### Iterative Exploitation Process\n",
    "\n",
    "For each iteration in the exploitation phase:\n",
    "1. **Generate New Candidates**: We compute new candidate points using the qEI acquisition function.\n",
    "2. **Evaluate Objective**: The objective function is evaluated at the new candidate points.\n",
    "3. **Apply Scaling**: The new objective values are scaled using the previously defined MaxAbsScaler.\n",
    "4. **Update Samples and Objectives**: The new sample and corresponding objective values (both original and scaled) are appended to the existing lists of samples and objective values. We also save the index of the new sample for tracking purposes.\n",
    "5. **Update Tensors**: The updated samples and objective values are converted to tensors.\n",
    "6. **Model Update**: The GP model is re-initialized and fitted using the updated data.\n",
    "7. **Logging**: The iteration details, including the new sample and objective value, are printed.\n"
   ]
  },
  {
   "cell_type": "code",
   "execution_count": 5,
   "id": "2d521b90-f230-4820-acf7-5f747e3c2a98",
   "metadata": {},
   "outputs": [
    {
     "name": "stderr",
     "output_type": "stream",
     "text": [
      "/u/81/mirandi1/unix/.local/lib/python3.10/site-packages/botorch/models/utils/assorted.py:257: InputDataWarning: Input data is not contained to the unit cube. Please consider min-max scaling the input data.\n",
      "  check_min_max_scaling(\n",
      "/u/81/mirandi1/unix/.local/lib/python3.10/site-packages/botorch/models/utils/assorted.py:260: InputDataWarning: Data is not standardized (std = tensor([1.0132], dtype=torch.float64), mean = tensor([0.0202], dtype=torch.float64)). Please consider scaling the input to zero mean and unit variance.\n",
      "  check_standardization(Y=train_Y, raise_on_fail=raise_on_fail)\n",
      "/u/81/mirandi1/unix/.local/lib/python3.10/site-packages/botorch/models/utils/assorted.py:257: InputDataWarning: Input data is not contained to the unit cube. Please consider min-max scaling the input data.\n",
      "  check_min_max_scaling(\n",
      "/u/81/mirandi1/unix/.local/lib/python3.10/site-packages/botorch/models/utils/assorted.py:260: InputDataWarning: Data is not standardized (std = tensor([1.0140], dtype=torch.float64), mean = tensor([0.0365], dtype=torch.float64)). Please consider scaling the input to zero mean and unit variance.\n",
      "  check_standardization(Y=train_Y, raise_on_fail=raise_on_fail)\n"
     ]
    },
    {
     "name": "stdout",
     "output_type": "stream",
     "text": [
      "Exploitation 1/200 - New sample: [4.78504528 5.57530635 0.34847737], Objective value: -2.505324306658939\n",
      "Exploitation 2/200 - New sample: [4.51311962 5.59175142 0.        ], Objective value: -2.7411987631324966\n"
     ]
    },
    {
     "name": "stderr",
     "output_type": "stream",
     "text": [
      "/u/81/mirandi1/unix/.local/lib/python3.10/site-packages/botorch/models/utils/assorted.py:257: InputDataWarning: Input data is not contained to the unit cube. Please consider min-max scaling the input data.\n",
      "  check_min_max_scaling(\n",
      "/u/81/mirandi1/unix/.local/lib/python3.10/site-packages/botorch/models/utils/assorted.py:260: InputDataWarning: Data is not standardized (std = tensor([1.0252], dtype=torch.float64), mean = tensor([0.0604], dtype=torch.float64)). Please consider scaling the input to zero mean and unit variance.\n",
      "  check_standardization(Y=train_Y, raise_on_fail=raise_on_fail)\n",
      "/u/81/mirandi1/unix/.local/lib/python3.10/site-packages/botorch/models/utils/assorted.py:257: InputDataWarning: Input data is not contained to the unit cube. Please consider min-max scaling the input data.\n",
      "  check_min_max_scaling(\n",
      "/u/81/mirandi1/unix/.local/lib/python3.10/site-packages/botorch/models/utils/assorted.py:260: InputDataWarning: Data is not standardized (std = tensor([1.0403], dtype=torch.float64), mean = tensor([0.0867], dtype=torch.float64)). Please consider scaling the input to zero mean and unit variance.\n",
      "  check_standardization(Y=train_Y, raise_on_fail=raise_on_fail)\n"
     ]
    },
    {
     "name": "stdout",
     "output_type": "stream",
     "text": [
      "Exploitation 3/200 - New sample: [5.16337324 5.44607535 0.31490539], Objective value: -2.153417472568432\n",
      "Exploitation 4/200 - New sample: [5.30135212 5.36522294 0.24159366], Objective value: -1.9331495526868392\n"
     ]
    },
    {
     "name": "stderr",
     "output_type": "stream",
     "text": [
      "/u/81/mirandi1/unix/.local/lib/python3.10/site-packages/botorch/models/utils/assorted.py:257: InputDataWarning: Input data is not contained to the unit cube. Please consider min-max scaling the input data.\n",
      "  check_min_max_scaling(\n",
      "/u/81/mirandi1/unix/.local/lib/python3.10/site-packages/botorch/models/utils/assorted.py:260: InputDataWarning: Data is not standardized (std = tensor([1.0468], dtype=torch.float64), mean = tensor([0.1073], dtype=torch.float64)). Please consider scaling the input to zero mean and unit variance.\n",
      "  check_standardization(Y=train_Y, raise_on_fail=raise_on_fail)\n"
     ]
    },
    {
     "name": "stdout",
     "output_type": "stream",
     "text": [
      "Exploitation 5/200 - New sample: [5.14361642 5.49578742 0.43179134], Objective value: -2.292403561153054\n"
     ]
    },
    {
     "name": "stderr",
     "output_type": "stream",
     "text": [
      "/u/81/mirandi1/unix/.local/lib/python3.10/site-packages/botorch/models/utils/assorted.py:257: InputDataWarning: Input data is not contained to the unit cube. Please consider min-max scaling the input data.\n",
      "  check_min_max_scaling(\n",
      "/u/81/mirandi1/unix/.local/lib/python3.10/site-packages/botorch/models/utils/assorted.py:260: InputDataWarning: Data is not standardized (std = tensor([1.0607], dtype=torch.float64), mean = tensor([0.1327], dtype=torch.float64)). Please consider scaling the input to zero mean and unit variance.\n",
      "  check_standardization(Y=train_Y, raise_on_fail=raise_on_fail)\n"
     ]
    },
    {
     "name": "stdout",
     "output_type": "stream",
     "text": [
      "Exploitation 6/200 - New sample: [5.09614261 5.35722805 0.15468523], Objective value: -1.892336604973748\n"
     ]
    },
    {
     "name": "stderr",
     "output_type": "stream",
     "text": [
      "/u/81/mirandi1/unix/.local/lib/python3.10/site-packages/botorch/models/utils/assorted.py:257: InputDataWarning: Input data is not contained to the unit cube. Please consider min-max scaling the input data.\n",
      "  check_min_max_scaling(\n",
      "/u/81/mirandi1/unix/.local/lib/python3.10/site-packages/botorch/models/utils/assorted.py:260: InputDataWarning: Data is not standardized (std = tensor([1.0664], dtype=torch.float64), mean = tensor([0.1527], dtype=torch.float64)). Please consider scaling the input to zero mean and unit variance.\n",
      "  check_standardization(Y=train_Y, raise_on_fail=raise_on_fail)\n",
      "/u/81/mirandi1/unix/.local/lib/python3.10/site-packages/botorch/models/utils/assorted.py:257: InputDataWarning: Input data is not contained to the unit cube. Please consider min-max scaling the input data.\n",
      "  check_min_max_scaling(\n",
      "/u/81/mirandi1/unix/.local/lib/python3.10/site-packages/botorch/models/utils/assorted.py:260: InputDataWarning: Data is not standardized (std = tensor([1.0640], dtype=torch.float64), mean = tensor([0.1649], dtype=torch.float64)). Please consider scaling the input to zero mean and unit variance.\n",
      "  check_standardization(Y=train_Y, raise_on_fail=raise_on_fail)\n"
     ]
    },
    {
     "name": "stdout",
     "output_type": "stream",
     "text": [
      "Exploitation 7/200 - New sample: [5.32404795 5.30093026 0.        ], Objective value: -2.250367876877855\n",
      "Exploitation 8/200 - New sample: [6.24455398 5.67397598 1.        ], Objective value: -2.8060789838102846\n"
     ]
    },
    {
     "name": "stderr",
     "output_type": "stream",
     "text": [
      "/u/81/mirandi1/unix/.local/lib/python3.10/site-packages/botorch/models/utils/assorted.py:257: InputDataWarning: Input data is not contained to the unit cube. Please consider min-max scaling the input data.\n",
      "  check_min_max_scaling(\n",
      "/u/81/mirandi1/unix/.local/lib/python3.10/site-packages/botorch/models/utils/assorted.py:260: InputDataWarning: Data is not standardized (std = tensor([1.0776], dtype=torch.float64), mean = tensor([0.1897], dtype=torch.float64)). Please consider scaling the input to zero mean and unit variance.\n",
      "  check_standardization(Y=train_Y, raise_on_fail=raise_on_fail)\n",
      "/u/81/mirandi1/unix/.local/lib/python3.10/site-packages/botorch/models/utils/assorted.py:257: InputDataWarning: Input data is not contained to the unit cube. Please consider min-max scaling the input data.\n",
      "  check_min_max_scaling(\n",
      "/u/81/mirandi1/unix/.local/lib/python3.10/site-packages/botorch/models/utils/assorted.py:260: InputDataWarning: Data is not standardized (std = tensor([1.0871], dtype=torch.float64), mean = tensor([0.2119], dtype=torch.float64)). Please consider scaling the input to zero mean and unit variance.\n",
      "  check_standardization(Y=train_Y, raise_on_fail=raise_on_fail)\n"
     ]
    },
    {
     "name": "stdout",
     "output_type": "stream",
     "text": [
      "Exploitation 9/200 - New sample: [5.04147557 5.37031405 0.2291531 ], Objective value: -1.7955323890493644\n",
      "Exploitation 10/200 - New sample: [5.11180476 5.33744096 0.24562191], Objective value: -1.947781863249379\n"
     ]
    },
    {
     "name": "stderr",
     "output_type": "stream",
     "text": [
      "/u/81/mirandi1/unix/.local/lib/python3.10/site-packages/botorch/models/utils/assorted.py:257: InputDataWarning: Input data is not contained to the unit cube. Please consider min-max scaling the input data.\n",
      "  check_min_max_scaling(\n",
      "/u/81/mirandi1/unix/.local/lib/python3.10/site-packages/botorch/models/utils/assorted.py:260: InputDataWarning: Data is not standardized (std = tensor([1.0998], dtype=torch.float64), mean = tensor([0.2361], dtype=torch.float64)). Please consider scaling the input to zero mean and unit variance.\n",
      "  check_standardization(Y=train_Y, raise_on_fail=raise_on_fail)\n",
      "/u/81/mirandi1/unix/.local/lib/python3.10/site-packages/botorch/models/utils/assorted.py:257: InputDataWarning: Input data is not contained to the unit cube. Please consider min-max scaling the input data.\n",
      "  check_min_max_scaling(\n",
      "/u/81/mirandi1/unix/.local/lib/python3.10/site-packages/botorch/models/utils/assorted.py:260: InputDataWarning: Data is not standardized (std = tensor([1.1114], dtype=torch.float64), mean = tensor([0.2596], dtype=torch.float64)). Please consider scaling the input to zero mean and unit variance.\n",
      "  check_standardization(Y=train_Y, raise_on_fail=raise_on_fail)\n"
     ]
    },
    {
     "name": "stdout",
     "output_type": "stream",
     "text": [
      "Exploitation 11/200 - New sample: [4.99108346 5.37171051 0.23822835], Objective value: -1.743320025961216\n",
      "Exploitation 12/200 - New sample: [4.99404543 5.36080556 0.26782847], Objective value: -1.7450736319247342\n"
     ]
    },
    {
     "name": "stderr",
     "output_type": "stream",
     "text": [
      "/u/81/mirandi1/unix/.local/lib/python3.10/site-packages/botorch/models/utils/assorted.py:257: InputDataWarning: Input data is not contained to the unit cube. Please consider min-max scaling the input data.\n",
      "  check_min_max_scaling(\n",
      "/u/81/mirandi1/unix/.local/lib/python3.10/site-packages/botorch/models/utils/assorted.py:260: InputDataWarning: Data is not standardized (std = tensor([1.1207], dtype=torch.float64), mean = tensor([0.2814], dtype=torch.float64)). Please consider scaling the input to zero mean and unit variance.\n",
      "  check_standardization(Y=train_Y, raise_on_fail=raise_on_fail)\n",
      "/u/81/mirandi1/unix/.local/lib/python3.10/site-packages/botorch/models/utils/assorted.py:257: InputDataWarning: Input data is not contained to the unit cube. Please consider min-max scaling the input data.\n",
      "  check_min_max_scaling(\n",
      "/u/81/mirandi1/unix/.local/lib/python3.10/site-packages/botorch/models/utils/assorted.py:260: InputDataWarning: Data is not standardized (std = tensor([1.1282], dtype=torch.float64), mean = tensor([0.3021], dtype=torch.float64)). Please consider scaling the input to zero mean and unit variance.\n",
      "  check_standardization(Y=train_Y, raise_on_fail=raise_on_fail)\n"
     ]
    },
    {
     "name": "stdout",
     "output_type": "stream",
     "text": [
      "Exploitation 13/200 - New sample: [5.00692872 5.34660969 0.29211474], Objective value: -1.8279268209953141\n",
      "Exploitation 14/200 - New sample: [4.95605061 5.33904921 0.20042505], Objective value: -1.884942432448371\n"
     ]
    },
    {
     "name": "stderr",
     "output_type": "stream",
     "text": [
      "/u/81/mirandi1/unix/.local/lib/python3.10/site-packages/botorch/models/utils/assorted.py:257: InputDataWarning: Input data is not contained to the unit cube. Please consider min-max scaling the input data.\n",
      "  check_min_max_scaling(\n",
      "/u/81/mirandi1/unix/.local/lib/python3.10/site-packages/botorch/models/utils/assorted.py:260: InputDataWarning: Data is not standardized (std = tensor([1.1210], dtype=torch.float64), mean = tensor([0.3035], dtype=torch.float64)). Please consider scaling the input to zero mean and unit variance.\n",
      "  check_standardization(Y=train_Y, raise_on_fail=raise_on_fail)\n",
      "/u/81/mirandi1/unix/.local/lib/python3.10/site-packages/botorch/models/utils/assorted.py:257: InputDataWarning: Input data is not contained to the unit cube. Please consider min-max scaling the input data.\n",
      "  check_min_max_scaling(\n",
      "/u/81/mirandi1/unix/.local/lib/python3.10/site-packages/botorch/models/utils/assorted.py:260: InputDataWarning: Data is not standardized (std = tensor([1.1149], dtype=torch.float64), mean = tensor([0.3090], dtype=torch.float64)). Please consider scaling the input to zero mean and unit variance.\n",
      "  check_standardization(Y=train_Y, raise_on_fail=raise_on_fail)\n"
     ]
    },
    {
     "name": "stdout",
     "output_type": "stream",
     "text": [
      "Exploitation 15/200 - New sample: [4. 7. 0.], Objective value: -3.466048902613241\n",
      "Exploitation 16/200 - New sample: [7.         5.74369166 0.        ], Objective value: -3.121349621302677\n"
     ]
    },
    {
     "name": "stderr",
     "output_type": "stream",
     "text": [
      "/u/81/mirandi1/unix/.local/lib/python3.10/site-packages/botorch/models/utils/assorted.py:257: InputDataWarning: Input data is not contained to the unit cube. Please consider min-max scaling the input data.\n",
      "  check_min_max_scaling(\n",
      "/u/81/mirandi1/unix/.local/lib/python3.10/site-packages/botorch/models/utils/assorted.py:260: InputDataWarning: Data is not standardized (std = tensor([1.1229], dtype=torch.float64), mean = tensor([0.3293], dtype=torch.float64)). Please consider scaling the input to zero mean and unit variance.\n",
      "  check_standardization(Y=train_Y, raise_on_fail=raise_on_fail)\n"
     ]
    },
    {
     "name": "stdout",
     "output_type": "stream",
     "text": [
      "Exploitation 17/200 - New sample: [5.01996725 5.34796346 0.31566667], Objective value: -1.8197582019891045\n"
     ]
    },
    {
     "name": "stderr",
     "output_type": "stream",
     "text": [
      "/u/81/mirandi1/unix/.local/lib/python3.10/site-packages/botorch/models/utils/assorted.py:257: InputDataWarning: Input data is not contained to the unit cube. Please consider min-max scaling the input data.\n",
      "  check_min_max_scaling(\n",
      "/u/81/mirandi1/unix/.local/lib/python3.10/site-packages/botorch/models/utils/assorted.py:260: InputDataWarning: Data is not standardized (std = tensor([1.1194], dtype=torch.float64), mean = tensor([0.3390], dtype=torch.float64)). Please consider scaling the input to zero mean and unit variance.\n",
      "  check_standardization(Y=train_Y, raise_on_fail=raise_on_fail)\n"
     ]
    },
    {
     "name": "stdout",
     "output_type": "stream",
     "text": [
      "Exploitation 18/200 - New sample: [4.57716822 5.78866289 0.44482669], Objective value: -2.7074674587701604\n"
     ]
    },
    {
     "name": "stderr",
     "output_type": "stream",
     "text": [
      "/u/81/mirandi1/unix/.local/lib/python3.10/site-packages/botorch/models/utils/assorted.py:257: InputDataWarning: Input data is not contained to the unit cube. Please consider min-max scaling the input data.\n",
      "  check_min_max_scaling(\n",
      "/u/81/mirandi1/unix/.local/lib/python3.10/site-packages/botorch/models/utils/assorted.py:260: InputDataWarning: Data is not standardized (std = tensor([1.1287], dtype=torch.float64), mean = tensor([0.3599], dtype=torch.float64)). Please consider scaling the input to zero mean and unit variance.\n",
      "  check_standardization(Y=train_Y, raise_on_fail=raise_on_fail)\n"
     ]
    },
    {
     "name": "stdout",
     "output_type": "stream",
     "text": [
      "Exploitation 19/200 - New sample: [5.00101015 5.38334118 0.29535507], Objective value: -1.6896240092533432\n"
     ]
    },
    {
     "name": "stderr",
     "output_type": "stream",
     "text": [
      "/u/81/mirandi1/unix/.local/lib/python3.10/site-packages/botorch/models/utils/assorted.py:257: InputDataWarning: Input data is not contained to the unit cube. Please consider min-max scaling the input data.\n",
      "  check_min_max_scaling(\n",
      "/u/81/mirandi1/unix/.local/lib/python3.10/site-packages/botorch/models/utils/assorted.py:260: InputDataWarning: Data is not standardized (std = tensor([1.1255], dtype=torch.float64), mean = tensor([0.3697], dtype=torch.float64)). Please consider scaling the input to zero mean and unit variance.\n",
      "  check_standardization(Y=train_Y, raise_on_fail=raise_on_fail)\n",
      "/u/81/mirandi1/unix/.local/lib/python3.10/site-packages/botorch/models/utils/assorted.py:257: InputDataWarning: Input data is not contained to the unit cube. Please consider min-max scaling the input data.\n",
      "  check_min_max_scaling(\n",
      "/u/81/mirandi1/unix/.local/lib/python3.10/site-packages/botorch/models/utils/assorted.py:260: InputDataWarning: Data is not standardized (std = tensor([1.1281], dtype=torch.float64), mean = tensor([0.3854], dtype=torch.float64)). Please consider scaling the input to zero mean and unit variance.\n",
      "  check_standardization(Y=train_Y, raise_on_fail=raise_on_fail)\n"
     ]
    },
    {
     "name": "stdout",
     "output_type": "stream",
     "text": [
      "Exploitation 20/200 - New sample: [4.         5.53029415 0.        ], Objective value: -2.6420106027111365\n",
      "Exploitation 21/200 - New sample: [7.         5.36866998 0.65168418], Objective value: -2.085082152902767\n"
     ]
    },
    {
     "name": "stderr",
     "output_type": "stream",
     "text": [
      "/u/81/mirandi1/unix/.local/lib/python3.10/site-packages/botorch/models/utils/assorted.py:257: InputDataWarning: Input data is not contained to the unit cube. Please consider min-max scaling the input data.\n",
      "  check_min_max_scaling(\n",
      "/u/81/mirandi1/unix/.local/lib/python3.10/site-packages/botorch/models/utils/assorted.py:260: InputDataWarning: Data is not standardized (std = tensor([1.1301], dtype=torch.float64), mean = tensor([0.4005], dtype=torch.float64)). Please consider scaling the input to zero mean and unit variance.\n",
      "  check_standardization(Y=train_Y, raise_on_fail=raise_on_fail)\n",
      "/u/81/mirandi1/unix/.local/lib/python3.10/site-packages/botorch/models/utils/assorted.py:257: InputDataWarning: Input data is not contained to the unit cube. Please consider min-max scaling the input data.\n",
      "  check_min_max_scaling(\n",
      "/u/81/mirandi1/unix/.local/lib/python3.10/site-packages/botorch/models/utils/assorted.py:260: InputDataWarning: Data is not standardized (std = tensor([1.1236], dtype=torch.float64), mean = tensor([0.4000], dtype=torch.float64)). Please consider scaling the input to zero mean and unit variance.\n",
      "  check_standardization(Y=train_Y, raise_on_fail=raise_on_fail)\n"
     ]
    },
    {
     "name": "stdout",
     "output_type": "stream",
     "text": [
      "Exploitation 22/200 - New sample: [6.76526228 5.34164759 0.82231038], Objective value: -2.1095895937894618\n",
      "Exploitation 23/200 - New sample: [7. 7. 0.], Objective value: -3.536657484155028\n"
     ]
    },
    {
     "name": "stderr",
     "output_type": "stream",
     "text": [
      "/u/81/mirandi1/unix/.local/lib/python3.10/site-packages/botorch/models/utils/assorted.py:257: InputDataWarning: Input data is not contained to the unit cube. Please consider min-max scaling the input data.\n",
      "  check_min_max_scaling(\n",
      "/u/81/mirandi1/unix/.local/lib/python3.10/site-packages/botorch/models/utils/assorted.py:260: InputDataWarning: Data is not standardized (std = tensor([1.1223], dtype=torch.float64), mean = tensor([0.4115], dtype=torch.float64)). Please consider scaling the input to zero mean and unit variance.\n",
      "  check_standardization(Y=train_Y, raise_on_fail=raise_on_fail)\n"
     ]
    },
    {
     "name": "stdout",
     "output_type": "stream",
     "text": [
      "Exploitation 24/200 - New sample: [6.80729694 5.45476745 0.58830475], Objective value: -2.4006404220671493\n",
      "Exploitation 25/200 - New sample: [7.         5.25367426 1.        ], Objective value: -2.6324023653190154\n"
     ]
    },
    {
     "name": "stderr",
     "output_type": "stream",
     "text": [
      "/u/81/mirandi1/unix/.local/lib/python3.10/site-packages/botorch/models/utils/assorted.py:257: InputDataWarning: Input data is not contained to the unit cube. Please consider min-max scaling the input data.\n",
      "  check_min_max_scaling(\n",
      "/u/81/mirandi1/unix/.local/lib/python3.10/site-packages/botorch/models/utils/assorted.py:260: InputDataWarning: Data is not standardized (std = tensor([1.1190], dtype=torch.float64), mean = tensor([0.4203], dtype=torch.float64)). Please consider scaling the input to zero mean and unit variance.\n",
      "  check_standardization(Y=train_Y, raise_on_fail=raise_on_fail)\n",
      "/u/81/mirandi1/unix/.local/lib/python3.10/site-packages/botorch/models/utils/assorted.py:257: InputDataWarning: Input data is not contained to the unit cube. Please consider min-max scaling the input data.\n",
      "  check_min_max_scaling(\n",
      "/u/81/mirandi1/unix/.local/lib/python3.10/site-packages/botorch/models/utils/assorted.py:260: InputDataWarning: Data is not standardized (std = tensor([1.1278], dtype=torch.float64), mean = tensor([0.4397], dtype=torch.float64)). Please consider scaling the input to zero mean and unit variance.\n",
      "  check_standardization(Y=train_Y, raise_on_fail=raise_on_fail)\n"
     ]
    },
    {
     "name": "stdout",
     "output_type": "stream",
     "text": [
      "Exploitation 26/200 - New sample: [4.96120721 5.37716905 0.33209776], Objective value: -1.587344829937453\n"
     ]
    },
    {
     "name": "stderr",
     "output_type": "stream",
     "text": [
      "/u/81/mirandi1/unix/.local/lib/python3.10/site-packages/botorch/models/utils/assorted.py:257: InputDataWarning: Input data is not contained to the unit cube. Please consider min-max scaling the input data.\n",
      "  check_min_max_scaling(\n",
      "/u/81/mirandi1/unix/.local/lib/python3.10/site-packages/botorch/models/utils/assorted.py:260: InputDataWarning: Data is not standardized (std = tensor([1.1319], dtype=torch.float64), mean = tensor([0.4557], dtype=torch.float64)). Please consider scaling the input to zero mean and unit variance.\n",
      "  check_standardization(Y=train_Y, raise_on_fail=raise_on_fail)\n"
     ]
    },
    {
     "name": "stdout",
     "output_type": "stream",
     "text": [
      "Exploitation 27/200 - New sample: [4.90560045 5.35990895 0.        ], Objective value: -1.8789038348802436\n"
     ]
    },
    {
     "name": "stderr",
     "output_type": "stream",
     "text": [
      "/u/81/mirandi1/unix/.local/lib/python3.10/site-packages/botorch/models/utils/assorted.py:257: InputDataWarning: Input data is not contained to the unit cube. Please consider min-max scaling the input data.\n",
      "  check_min_max_scaling(\n",
      "/u/81/mirandi1/unix/.local/lib/python3.10/site-packages/botorch/models/utils/assorted.py:260: InputDataWarning: Data is not standardized (std = tensor([1.1384], dtype=torch.float64), mean = tensor([0.4734], dtype=torch.float64)). Please consider scaling the input to zero mean and unit variance.\n",
      "  check_standardization(Y=train_Y, raise_on_fail=raise_on_fail)\n"
     ]
    },
    {
     "name": "stdout",
     "output_type": "stream",
     "text": [
      "Exploitation 28/200 - New sample: [4.85213593 5.36060821 0.20079105], Objective value: -1.6750361480030191\n"
     ]
    },
    {
     "name": "stderr",
     "output_type": "stream",
     "text": [
      "/u/81/mirandi1/unix/.local/lib/python3.10/site-packages/botorch/models/utils/assorted.py:257: InputDataWarning: Input data is not contained to the unit cube. Please consider min-max scaling the input data.\n",
      "  check_min_max_scaling(\n",
      "/u/81/mirandi1/unix/.local/lib/python3.10/site-packages/botorch/models/utils/assorted.py:260: InputDataWarning: Data is not standardized (std = tensor([1.1447], dtype=torch.float64), mean = tensor([0.4909], dtype=torch.float64)). Please consider scaling the input to zero mean and unit variance.\n",
      "  check_standardization(Y=train_Y, raise_on_fail=raise_on_fail)\n"
     ]
    },
    {
     "name": "stdout",
     "output_type": "stream",
     "text": [
      "Exploitation 29/200 - New sample: [4.87616945 5.35714979 0.28515741], Objective value: -1.657246345691087\n"
     ]
    },
    {
     "name": "stderr",
     "output_type": "stream",
     "text": [
      "/u/81/mirandi1/unix/.local/lib/python3.10/site-packages/botorch/models/utils/assorted.py:257: InputDataWarning: Input data is not contained to the unit cube. Please consider min-max scaling the input data.\n",
      "  check_min_max_scaling(\n",
      "/u/81/mirandi1/unix/.local/lib/python3.10/site-packages/botorch/models/utils/assorted.py:260: InputDataWarning: Data is not standardized (std = tensor([1.1389], dtype=torch.float64), mean = tensor([0.4938], dtype=torch.float64)). Please consider scaling the input to zero mean and unit variance.\n",
      "  check_standardization(Y=train_Y, raise_on_fail=raise_on_fail)\n"
     ]
    },
    {
     "name": "stdout",
     "output_type": "stream",
     "text": [
      "Exploitation 30/200 - New sample: [7.         5.16285847 0.64836743], Objective value: -3.1015367772340907\n"
     ]
    },
    {
     "name": "stderr",
     "output_type": "stream",
     "text": [
      "/u/81/mirandi1/unix/.local/lib/python3.10/site-packages/botorch/models/utils/assorted.py:257: InputDataWarning: Input data is not contained to the unit cube. Please consider min-max scaling the input data.\n",
      "  check_min_max_scaling(\n",
      "/u/81/mirandi1/unix/.local/lib/python3.10/site-packages/botorch/models/utils/assorted.py:260: InputDataWarning: Data is not standardized (std = tensor([1.1429], dtype=torch.float64), mean = tensor([0.5093], dtype=torch.float64)). Please consider scaling the input to zero mean and unit variance.\n",
      "  check_standardization(Y=train_Y, raise_on_fail=raise_on_fail)\n"
     ]
    },
    {
     "name": "stdout",
     "output_type": "stream",
     "text": [
      "Exploitation 31/200 - New sample: [4.88986848 5.40172869 0.1883765 ], Objective value: -1.798584817641327\n"
     ]
    },
    {
     "name": "stderr",
     "output_type": "stream",
     "text": [
      "/u/81/mirandi1/unix/.local/lib/python3.10/site-packages/botorch/models/utils/assorted.py:257: InputDataWarning: Input data is not contained to the unit cube. Please consider min-max scaling the input data.\n",
      "  check_min_max_scaling(\n",
      "/u/81/mirandi1/unix/.local/lib/python3.10/site-packages/botorch/models/utils/assorted.py:260: InputDataWarning: Data is not standardized (std = tensor([1.1476], dtype=torch.float64), mean = tensor([0.5253], dtype=torch.float64)). Please consider scaling the input to zero mean and unit variance.\n",
      "  check_standardization(Y=train_Y, raise_on_fail=raise_on_fail)\n"
     ]
    },
    {
     "name": "stdout",
     "output_type": "stream",
     "text": [
      "Exploitation 32/200 - New sample: [4.90077177 5.35205692 0.33254221], Objective value: -1.7232302896820162\n"
     ]
    },
    {
     "name": "stderr",
     "output_type": "stream",
     "text": [
      "/u/81/mirandi1/unix/.local/lib/python3.10/site-packages/botorch/models/utils/assorted.py:257: InputDataWarning: Input data is not contained to the unit cube. Please consider min-max scaling the input data.\n",
      "  check_min_max_scaling(\n",
      "/u/81/mirandi1/unix/.local/lib/python3.10/site-packages/botorch/models/utils/assorted.py:260: InputDataWarning: Data is not standardized (std = tensor([1.1469], dtype=torch.float64), mean = tensor([0.5365], dtype=torch.float64)). Please consider scaling the input to zero mean and unit variance.\n",
      "  check_standardization(Y=train_Y, raise_on_fail=raise_on_fail)\n",
      "/u/81/mirandi1/unix/.local/lib/python3.10/site-packages/botorch/models/utils/assorted.py:257: InputDataWarning: Input data is not contained to the unit cube. Please consider min-max scaling the input data.\n",
      "  check_min_max_scaling(\n",
      "/u/81/mirandi1/unix/.local/lib/python3.10/site-packages/botorch/models/utils/assorted.py:260: InputDataWarning: Data is not standardized (std = tensor([1.1461], dtype=torch.float64), mean = tensor([0.5474], dtype=torch.float64)). Please consider scaling the input to zero mean and unit variance.\n",
      "  check_standardization(Y=train_Y, raise_on_fail=raise_on_fail)\n"
     ]
    },
    {
     "name": "stdout",
     "output_type": "stream",
     "text": [
      "Exploitation 33/200 - New sample: [5.96653522 5.31709887 0.        ], Objective value: -2.1868570808735055\n",
      "Exploitation 34/200 - New sample: [5.92870628 5.41491821 0.36277895], Objective value: -2.1902459329880353\n"
     ]
    },
    {
     "name": "stderr",
     "output_type": "stream",
     "text": [
      "/u/81/mirandi1/unix/.local/lib/python3.10/site-packages/botorch/models/utils/assorted.py:257: InputDataWarning: Input data is not contained to the unit cube. Please consider min-max scaling the input data.\n",
      "  check_min_max_scaling(\n",
      "/u/81/mirandi1/unix/.local/lib/python3.10/site-packages/botorch/models/utils/assorted.py:260: InputDataWarning: Data is not standardized (std = tensor([1.1475], dtype=torch.float64), mean = tensor([0.5603], dtype=torch.float64)). Please consider scaling the input to zero mean and unit variance.\n",
      "  check_standardization(Y=train_Y, raise_on_fail=raise_on_fail)\n"
     ]
    },
    {
     "name": "stdout",
     "output_type": "stream",
     "text": [
      "Exploitation 35/200 - New sample: [4.7846274  5.32501895 0.13727414], Objective value: -1.9519199623751209\n"
     ]
    },
    {
     "name": "stderr",
     "output_type": "stream",
     "text": [
      "/u/81/mirandi1/unix/.local/lib/python3.10/site-packages/botorch/models/utils/assorted.py:257: InputDataWarning: Input data is not contained to the unit cube. Please consider min-max scaling the input data.\n",
      "  check_min_max_scaling(\n",
      "/u/81/mirandi1/unix/.local/lib/python3.10/site-packages/botorch/models/utils/assorted.py:260: InputDataWarning: Data is not standardized (std = tensor([1.1546], dtype=torch.float64), mean = tensor([0.5775], dtype=torch.float64)). Please consider scaling the input to zero mean and unit variance.\n",
      "  check_standardization(Y=train_Y, raise_on_fail=raise_on_fail)\n"
     ]
    },
    {
     "name": "stdout",
     "output_type": "stream",
     "text": [
      "Exploitation 36/200 - New sample: [4.94017865 5.39373097 0.36888821], Objective value: -1.4662083560883497\n"
     ]
    },
    {
     "name": "stderr",
     "output_type": "stream",
     "text": [
      "/u/81/mirandi1/unix/.local/lib/python3.10/site-packages/botorch/models/utils/assorted.py:257: InputDataWarning: Input data is not contained to the unit cube. Please consider min-max scaling the input data.\n",
      "  check_min_max_scaling(\n",
      "/u/81/mirandi1/unix/.local/lib/python3.10/site-packages/botorch/models/utils/assorted.py:260: InputDataWarning: Data is not standardized (std = tensor([1.1636], dtype=torch.float64), mean = tensor([0.5960], dtype=torch.float64)). Please consider scaling the input to zero mean and unit variance.\n",
      "  check_standardization(Y=train_Y, raise_on_fail=raise_on_fail)\n"
     ]
    },
    {
     "name": "stdout",
     "output_type": "stream",
     "text": [
      "Exploitation 37/200 - New sample: [4.91693931 5.39562433 0.43045044], Objective value: -1.2960077418399054\n"
     ]
    },
    {
     "name": "stderr",
     "output_type": "stream",
     "text": [
      "/u/81/mirandi1/unix/.local/lib/python3.10/site-packages/botorch/models/utils/assorted.py:257: InputDataWarning: Input data is not contained to the unit cube. Please consider min-max scaling the input data.\n",
      "  check_min_max_scaling(\n",
      "/u/81/mirandi1/unix/.local/lib/python3.10/site-packages/botorch/models/utils/assorted.py:260: InputDataWarning: Data is not standardized (std = tensor([1.1697], dtype=torch.float64), mean = tensor([0.6124], dtype=torch.float64)). Please consider scaling the input to zero mean and unit variance.\n",
      "  check_standardization(Y=train_Y, raise_on_fail=raise_on_fail)\n"
     ]
    },
    {
     "name": "stdout",
     "output_type": "stream",
     "text": [
      "Exploitation 38/200 - New sample: [4.89535623 5.38801403 0.46967481], Objective value: -1.4716121693820923\n"
     ]
    },
    {
     "name": "stderr",
     "output_type": "stream",
     "text": [
      "/u/81/mirandi1/unix/.local/lib/python3.10/site-packages/botorch/models/utils/assorted.py:257: InputDataWarning: Input data is not contained to the unit cube. Please consider min-max scaling the input data.\n",
      "  check_min_max_scaling(\n",
      "/u/81/mirandi1/unix/.local/lib/python3.10/site-packages/botorch/models/utils/assorted.py:260: InputDataWarning: Data is not standardized (std = tensor([1.1775], dtype=torch.float64), mean = tensor([0.6300], dtype=torch.float64)). Please consider scaling the input to zero mean and unit variance.\n",
      "  check_standardization(Y=train_Y, raise_on_fail=raise_on_fail)\n"
     ]
    },
    {
     "name": "stdout",
     "output_type": "stream",
     "text": [
      "Exploitation 39/200 - New sample: [4.9408723  5.4250234  0.44952948], Objective value: -1.3214819457799338\n"
     ]
    },
    {
     "name": "stderr",
     "output_type": "stream",
     "text": [
      "/u/81/mirandi1/unix/.local/lib/python3.10/site-packages/botorch/models/utils/assorted.py:257: InputDataWarning: Input data is not contained to the unit cube. Please consider min-max scaling the input data.\n",
      "  check_min_max_scaling(\n",
      "/u/81/mirandi1/unix/.local/lib/python3.10/site-packages/botorch/models/utils/assorted.py:260: InputDataWarning: Data is not standardized (std = tensor([1.1764], dtype=torch.float64), mean = tensor([0.6403], dtype=torch.float64)). Please consider scaling the input to zero mean and unit variance.\n",
      "  check_standardization(Y=train_Y, raise_on_fail=raise_on_fail)\n"
     ]
    },
    {
     "name": "stdout",
     "output_type": "stream",
     "text": [
      "Exploitation 40/200 - New sample: [6.5528101 5.392778  1.       ], Objective value: -2.08908472367945\n"
     ]
    },
    {
     "name": "stderr",
     "output_type": "stream",
     "text": [
      "/u/81/mirandi1/unix/.local/lib/python3.10/site-packages/botorch/models/utils/assorted.py:257: InputDataWarning: Input data is not contained to the unit cube. Please consider min-max scaling the input data.\n",
      "  check_min_max_scaling(\n",
      "/u/81/mirandi1/unix/.local/lib/python3.10/site-packages/botorch/models/utils/assorted.py:260: InputDataWarning: Data is not standardized (std = tensor([1.1834], dtype=torch.float64), mean = tensor([0.6571], dtype=torch.float64)). Please consider scaling the input to zero mean and unit variance.\n",
      "  check_standardization(Y=train_Y, raise_on_fail=raise_on_fail)\n"
     ]
    },
    {
     "name": "stdout",
     "output_type": "stream",
     "text": [
      "Exploitation 41/200 - New sample: [4.94473571 5.41885407 0.44097479], Objective value: -1.3312110465117568\n"
     ]
    },
    {
     "name": "stderr",
     "output_type": "stream",
     "text": [
      "/u/81/mirandi1/unix/.local/lib/python3.10/site-packages/botorch/models/utils/assorted.py:257: InputDataWarning: Input data is not contained to the unit cube. Please consider min-max scaling the input data.\n",
      "  check_min_max_scaling(\n",
      "/u/81/mirandi1/unix/.local/lib/python3.10/site-packages/botorch/models/utils/assorted.py:260: InputDataWarning: Data is not standardized (std = tensor([1.1890], dtype=torch.float64), mean = tensor([0.6729], dtype=torch.float64)). Please consider scaling the input to zero mean and unit variance.\n",
      "  check_standardization(Y=train_Y, raise_on_fail=raise_on_fail)\n",
      "/u/81/mirandi1/unix/.local/lib/python3.10/site-packages/botorch/models/utils/assorted.py:257: InputDataWarning: Input data is not contained to the unit cube. Please consider min-max scaling the input data.\n",
      "  check_min_max_scaling(\n",
      "/u/81/mirandi1/unix/.local/lib/python3.10/site-packages/botorch/models/utils/assorted.py:260: InputDataWarning: Data is not standardized (std = tensor([1.1949], dtype=torch.float64), mean = tensor([0.6890], dtype=torch.float64)). Please consider scaling the input to zero mean and unit variance.\n",
      "  check_standardization(Y=train_Y, raise_on_fail=raise_on_fail)\n"
     ]
    },
    {
     "name": "stdout",
     "output_type": "stream",
     "text": [
      "Exploitation 42/200 - New sample: [4.92573187 5.42902339 0.43011934], Objective value: -1.4030447220856577\n",
      "Exploitation 43/200 - New sample: [4.95491194 5.39600152 0.45163912], Objective value: -1.352371862373549\n"
     ]
    },
    {
     "name": "stderr",
     "output_type": "stream",
     "text": [
      "/u/81/mirandi1/unix/.local/lib/python3.10/site-packages/botorch/models/utils/assorted.py:257: InputDataWarning: Input data is not contained to the unit cube. Please consider min-max scaling the input data.\n",
      "  check_min_max_scaling(\n",
      "/u/81/mirandi1/unix/.local/lib/python3.10/site-packages/botorch/models/utils/assorted.py:260: InputDataWarning: Data is not standardized (std = tensor([1.2021], dtype=torch.float64), mean = tensor([0.7058], dtype=torch.float64)). Please consider scaling the input to zero mean and unit variance.\n",
      "  check_standardization(Y=train_Y, raise_on_fail=raise_on_fail)\n"
     ]
    },
    {
     "name": "stdout",
     "output_type": "stream",
     "text": [
      "Exploitation 44/200 - New sample: [4.95502654 5.41753013 0.47745656], Objective value: -1.2218561867108553\n"
     ]
    },
    {
     "name": "stderr",
     "output_type": "stream",
     "text": [
      "/u/81/mirandi1/unix/.local/lib/python3.10/site-packages/botorch/models/utils/assorted.py:257: InputDataWarning: Input data is not contained to the unit cube. Please consider min-max scaling the input data.\n",
      "  check_min_max_scaling(\n",
      "/u/81/mirandi1/unix/.local/lib/python3.10/site-packages/botorch/models/utils/assorted.py:260: InputDataWarning: Data is not standardized (std = tensor([1.2100], dtype=torch.float64), mean = tensor([0.7230], dtype=torch.float64)). Please consider scaling the input to zero mean and unit variance.\n",
      "  check_standardization(Y=train_Y, raise_on_fail=raise_on_fail)\n"
     ]
    },
    {
     "name": "stdout",
     "output_type": "stream",
     "text": [
      "Exploitation 45/200 - New sample: [4.94892397 5.44023186 0.50930177], Objective value: -1.1437214797394233\n"
     ]
    },
    {
     "name": "stderr",
     "output_type": "stream",
     "text": [
      "/u/81/mirandi1/unix/.local/lib/python3.10/site-packages/botorch/models/utils/assorted.py:257: InputDataWarning: Input data is not contained to the unit cube. Please consider min-max scaling the input data.\n",
      "  check_min_max_scaling(\n",
      "/u/81/mirandi1/unix/.local/lib/python3.10/site-packages/botorch/models/utils/assorted.py:260: InputDataWarning: Data is not standardized (std = tensor([1.2171], dtype=torch.float64), mean = tensor([0.7397], dtype=torch.float64)). Please consider scaling the input to zero mean and unit variance.\n",
      "  check_standardization(Y=train_Y, raise_on_fail=raise_on_fail)\n"
     ]
    },
    {
     "name": "stdout",
     "output_type": "stream",
     "text": [
      "Exploitation 46/200 - New sample: [4.94321461 5.46013179 0.5306613 ], Objective value: -1.1652881356031872\n"
     ]
    },
    {
     "name": "stderr",
     "output_type": "stream",
     "text": [
      "/u/81/mirandi1/unix/.local/lib/python3.10/site-packages/botorch/models/utils/assorted.py:257: InputDataWarning: Input data is not contained to the unit cube. Please consider min-max scaling the input data.\n",
      "  check_min_max_scaling(\n",
      "/u/81/mirandi1/unix/.local/lib/python3.10/site-packages/botorch/models/utils/assorted.py:260: InputDataWarning: Data is not standardized (std = tensor([1.2248], dtype=torch.float64), mean = tensor([0.7568], dtype=torch.float64)). Please consider scaling the input to zero mean and unit variance.\n",
      "  check_standardization(Y=train_Y, raise_on_fail=raise_on_fail)\n"
     ]
    },
    {
     "name": "stdout",
     "output_type": "stream",
     "text": [
      "Exploitation 47/200 - New sample: [4.96018613 5.4399761  0.5331694 ], Objective value: -1.084700505700056\n"
     ]
    },
    {
     "name": "stderr",
     "output_type": "stream",
     "text": [
      "/u/81/mirandi1/unix/.local/lib/python3.10/site-packages/botorch/models/utils/assorted.py:257: InputDataWarning: Input data is not contained to the unit cube. Please consider min-max scaling the input data.\n",
      "  check_min_max_scaling(\n",
      "/u/81/mirandi1/unix/.local/lib/python3.10/site-packages/botorch/models/utils/assorted.py:260: InputDataWarning: Data is not standardized (std = tensor([1.2310], dtype=torch.float64), mean = tensor([0.7728], dtype=torch.float64)). Please consider scaling the input to zero mean and unit variance.\n",
      "  check_standardization(Y=train_Y, raise_on_fail=raise_on_fail)\n"
     ]
    },
    {
     "name": "stdout",
     "output_type": "stream",
     "text": [
      "Exploitation 48/200 - New sample: [4.97228013 5.43084909 0.55123253], Objective value: -1.1821910452735391\n"
     ]
    },
    {
     "name": "stderr",
     "output_type": "stream",
     "text": [
      "/u/81/mirandi1/unix/.local/lib/python3.10/site-packages/botorch/models/utils/assorted.py:257: InputDataWarning: Input data is not contained to the unit cube. Please consider min-max scaling the input data.\n",
      "  check_min_max_scaling(\n",
      "/u/81/mirandi1/unix/.local/lib/python3.10/site-packages/botorch/models/utils/assorted.py:260: InputDataWarning: Data is not standardized (std = tensor([1.2301], dtype=torch.float64), mean = tensor([0.7628], dtype=torch.float64)). Please consider scaling the input to zero mean and unit variance.\n",
      "  check_standardization(Y=train_Y, raise_on_fail=raise_on_fail)\n"
     ]
    },
    {
     "name": "stdout",
     "output_type": "stream",
     "text": [
      "Exploitation 49/200 - New sample: [4.83128 7.      1.     ], Objective value: -4.3015809239557985\n"
     ]
    },
    {
     "name": "stderr",
     "output_type": "stream",
     "text": [
      "/u/81/mirandi1/unix/.local/lib/python3.10/site-packages/botorch/models/utils/assorted.py:257: InputDataWarning: Input data is not contained to the unit cube. Please consider min-max scaling the input data.\n",
      "  check_min_max_scaling(\n",
      "/u/81/mirandi1/unix/.local/lib/python3.10/site-packages/botorch/models/utils/assorted.py:260: InputDataWarning: Data is not standardized (std = tensor([1.2323], dtype=torch.float64), mean = tensor([0.7756], dtype=torch.float64)). Please consider scaling the input to zero mean and unit variance.\n",
      "  check_standardization(Y=train_Y, raise_on_fail=raise_on_fail)\n"
     ]
    },
    {
     "name": "stdout",
     "output_type": "stream",
     "text": [
      "Exploitation 50/200 - New sample: [4.96594292 5.47592973 0.52518293], Objective value: -1.5255214124741003\n"
     ]
    },
    {
     "name": "stderr",
     "output_type": "stream",
     "text": [
      "/u/81/mirandi1/unix/.local/lib/python3.10/site-packages/botorch/models/utils/assorted.py:257: InputDataWarning: Input data is not contained to the unit cube. Please consider min-max scaling the input data.\n",
      "  check_min_max_scaling(\n",
      "/u/81/mirandi1/unix/.local/lib/python3.10/site-packages/botorch/models/utils/assorted.py:260: InputDataWarning: Data is not standardized (std = tensor([1.2388], dtype=torch.float64), mean = tensor([0.7916], dtype=torch.float64)). Please consider scaling the input to zero mean and unit variance.\n",
      "  check_standardization(Y=train_Y, raise_on_fail=raise_on_fail)\n"
     ]
    },
    {
     "name": "stdout",
     "output_type": "stream",
     "text": [
      "Exploitation 51/200 - New sample: [4.92244714 5.42905236 0.53198261], Objective value: -1.104293141677387\n"
     ]
    },
    {
     "name": "stderr",
     "output_type": "stream",
     "text": [
      "/u/81/mirandi1/unix/.local/lib/python3.10/site-packages/botorch/models/utils/assorted.py:257: InputDataWarning: Input data is not contained to the unit cube. Please consider min-max scaling the input data.\n",
      "  check_min_max_scaling(\n",
      "/u/81/mirandi1/unix/.local/lib/python3.10/site-packages/botorch/models/utils/assorted.py:260: InputDataWarning: Data is not standardized (std = tensor([1.2403], dtype=torch.float64), mean = tensor([0.8037], dtype=torch.float64)). Please consider scaling the input to zero mean and unit variance.\n",
      "  check_standardization(Y=train_Y, raise_on_fail=raise_on_fail)\n"
     ]
    },
    {
     "name": "stdout",
     "output_type": "stream",
     "text": [
      "Exploitation 52/200 - New sample: [4.93454126 5.40680086 0.5460331 ], Objective value: -1.5587673877878214\n"
     ]
    },
    {
     "name": "stderr",
     "output_type": "stream",
     "text": [
      "/u/81/mirandi1/unix/.local/lib/python3.10/site-packages/botorch/models/utils/assorted.py:257: InputDataWarning: Input data is not contained to the unit cube. Please consider min-max scaling the input data.\n",
      "  check_min_max_scaling(\n",
      "/u/81/mirandi1/unix/.local/lib/python3.10/site-packages/botorch/models/utils/assorted.py:260: InputDataWarning: Data is not standardized (std = tensor([1.2486], dtype=torch.float64), mean = tensor([0.8207], dtype=torch.float64)). Please consider scaling the input to zero mean and unit variance.\n",
      "  check_standardization(Y=train_Y, raise_on_fail=raise_on_fail)\n",
      "/u/81/mirandi1/unix/.local/lib/python3.10/site-packages/botorch/models/utils/assorted.py:257: InputDataWarning: Input data is not contained to the unit cube. Please consider min-max scaling the input data.\n",
      "  check_min_max_scaling(\n",
      "/u/81/mirandi1/unix/.local/lib/python3.10/site-packages/botorch/models/utils/assorted.py:260: InputDataWarning: Data is not standardized (std = tensor([1.2562], dtype=torch.float64), mean = tensor([0.8373], dtype=torch.float64)). Please consider scaling the input to zero mean and unit variance.\n",
      "  check_standardization(Y=train_Y, raise_on_fail=raise_on_fail)\n"
     ]
    },
    {
     "name": "stdout",
     "output_type": "stream",
     "text": [
      "Exploitation 53/200 - New sample: [4.88619236 5.46634675 0.52694167], Objective value: -0.9120215155237671\n",
      "Exploitation 54/200 - New sample: [4.89287177 5.46185251 0.52319487], Objective value: -0.9307079079475187\n"
     ]
    },
    {
     "name": "stderr",
     "output_type": "stream",
     "text": [
      "/u/81/mirandi1/unix/.local/lib/python3.10/site-packages/botorch/models/utils/assorted.py:257: InputDataWarning: Input data is not contained to the unit cube. Please consider min-max scaling the input data.\n",
      "  check_min_max_scaling(\n",
      "/u/81/mirandi1/unix/.local/lib/python3.10/site-packages/botorch/models/utils/assorted.py:260: InputDataWarning: Data is not standardized (std = tensor([1.2660], dtype=torch.float64), mean = tensor([0.8552], dtype=torch.float64)). Please consider scaling the input to zero mean and unit variance.\n",
      "  check_standardization(Y=train_Y, raise_on_fail=raise_on_fail)\n"
     ]
    },
    {
     "name": "stdout",
     "output_type": "stream",
     "text": [
      "Exploitation 55/200 - New sample: [4.83186729 5.47622386 0.54849823], Objective value: -0.7315667741236125\n"
     ]
    },
    {
     "name": "stderr",
     "output_type": "stream",
     "text": [
      "/u/81/mirandi1/unix/.local/lib/python3.10/site-packages/botorch/models/utils/assorted.py:257: InputDataWarning: Input data is not contained to the unit cube. Please consider min-max scaling the input data.\n",
      "  check_min_max_scaling(\n",
      "/u/81/mirandi1/unix/.local/lib/python3.10/site-packages/botorch/models/utils/assorted.py:260: InputDataWarning: Data is not standardized (std = tensor([1.2655], dtype=torch.float64), mean = tensor([0.8653], dtype=torch.float64)). Please consider scaling the input to zero mean and unit variance.\n",
      "  check_standardization(Y=train_Y, raise_on_fail=raise_on_fail)\n"
     ]
    },
    {
     "name": "stdout",
     "output_type": "stream",
     "text": [
      "Exploitation 56/200 - New sample: [4.76431314 5.45900781 0.56109492], Objective value: -1.7026059671028202\n"
     ]
    },
    {
     "name": "stderr",
     "output_type": "stream",
     "text": [
      "/u/81/mirandi1/unix/.local/lib/python3.10/site-packages/botorch/models/utils/assorted.py:257: InputDataWarning: Input data is not contained to the unit cube. Please consider min-max scaling the input data.\n",
      "  check_min_max_scaling(\n",
      "/u/81/mirandi1/unix/.local/lib/python3.10/site-packages/botorch/models/utils/assorted.py:260: InputDataWarning: Data is not standardized (std = tensor([1.2714], dtype=torch.float64), mean = tensor([0.8806], dtype=torch.float64)). Please consider scaling the input to zero mean and unit variance.\n",
      "  check_standardization(Y=train_Y, raise_on_fail=raise_on_fail)\n"
     ]
    },
    {
     "name": "stdout",
     "output_type": "stream",
     "text": [
      "Exploitation 57/200 - New sample: [4.87888891 5.47651868 0.53099315], Objective value: -0.9922035808849987\n"
     ]
    },
    {
     "name": "stderr",
     "output_type": "stream",
     "text": [
      "/u/81/mirandi1/unix/.local/lib/python3.10/site-packages/botorch/models/utils/assorted.py:257: InputDataWarning: Input data is not contained to the unit cube. Please consider min-max scaling the input data.\n",
      "  check_min_max_scaling(\n",
      "/u/81/mirandi1/unix/.local/lib/python3.10/site-packages/botorch/models/utils/assorted.py:260: InputDataWarning: Data is not standardized (std = tensor([1.2768], dtype=torch.float64), mean = tensor([0.8955], dtype=torch.float64)). Please consider scaling the input to zero mean and unit variance.\n",
      "  check_standardization(Y=train_Y, raise_on_fail=raise_on_fail)\n"
     ]
    },
    {
     "name": "stdout",
     "output_type": "stream",
     "text": [
      "Exploitation 58/200 - New sample: [4.87752095 5.47921321 0.53198704], Objective value: -1.0211490441808553\n"
     ]
    },
    {
     "name": "stderr",
     "output_type": "stream",
     "text": [
      "/u/81/mirandi1/unix/.local/lib/python3.10/site-packages/botorch/models/utils/assorted.py:257: InputDataWarning: Input data is not contained to the unit cube. Please consider min-max scaling the input data.\n",
      "  check_min_max_scaling(\n",
      "/u/81/mirandi1/unix/.local/lib/python3.10/site-packages/botorch/models/utils/assorted.py:260: InputDataWarning: Data is not standardized (std = tensor([1.2816], dtype=torch.float64), mean = tensor([0.9099], dtype=torch.float64)). Please consider scaling the input to zero mean and unit variance.\n",
      "  check_standardization(Y=train_Y, raise_on_fail=raise_on_fail)\n"
     ]
    },
    {
     "name": "stdout",
     "output_type": "stream",
     "text": [
      "Exploitation 59/200 - New sample: [4.87584681 5.48113926 0.53233713], Objective value: -1.0415602158728745\n"
     ]
    },
    {
     "name": "stderr",
     "output_type": "stream",
     "text": [
      "/u/81/mirandi1/unix/.local/lib/python3.10/site-packages/botorch/models/utils/assorted.py:257: InputDataWarning: Input data is not contained to the unit cube. Please consider min-max scaling the input data.\n",
      "  check_min_max_scaling(\n",
      "/u/81/mirandi1/unix/.local/lib/python3.10/site-packages/botorch/models/utils/assorted.py:260: InputDataWarning: Data is not standardized (std = tensor([1.2856], dtype=torch.float64), mean = tensor([0.9237], dtype=torch.float64)). Please consider scaling the input to zero mean and unit variance.\n",
      "  check_standardization(Y=train_Y, raise_on_fail=raise_on_fail)\n",
      "/u/81/mirandi1/unix/.local/lib/python3.10/site-packages/botorch/models/utils/assorted.py:257: InputDataWarning: Input data is not contained to the unit cube. Please consider min-max scaling the input data.\n",
      "  check_min_max_scaling(\n",
      "/u/81/mirandi1/unix/.local/lib/python3.10/site-packages/botorch/models/utils/assorted.py:260: InputDataWarning: Data is not standardized (std = tensor([1.2848], dtype=torch.float64), mean = tensor([0.9332], dtype=torch.float64)). Please consider scaling the input to zero mean and unit variance.\n",
      "  check_standardization(Y=train_Y, raise_on_fail=raise_on_fail)\n"
     ]
    },
    {
     "name": "stdout",
     "output_type": "stream",
     "text": [
      "Exploitation 60/200 - New sample: [4.88242823 5.48098083 0.53061941], Objective value: -1.1067231723840352\n",
      "Exploitation 61/200 - New sample: [4.88186027 5.5052146  0.51189441], Objective value: -1.6508450686524032\n"
     ]
    },
    {
     "name": "stderr",
     "output_type": "stream",
     "text": [
      "/u/81/mirandi1/unix/.local/lib/python3.10/site-packages/botorch/models/utils/assorted.py:257: InputDataWarning: Input data is not contained to the unit cube. Please consider min-max scaling the input data.\n",
      "  check_min_max_scaling(\n",
      "/u/81/mirandi1/unix/.local/lib/python3.10/site-packages/botorch/models/utils/assorted.py:260: InputDataWarning: Data is not standardized (std = tensor([1.2922], dtype=torch.float64), mean = tensor([0.9492], dtype=torch.float64)). Please consider scaling the input to zero mean and unit variance.\n",
      "  check_standardization(Y=train_Y, raise_on_fail=raise_on_fail)\n",
      "/u/81/mirandi1/unix/.local/lib/python3.10/site-packages/botorch/models/utils/assorted.py:257: InputDataWarning: Input data is not contained to the unit cube. Please consider min-max scaling the input data.\n",
      "  check_min_max_scaling(\n",
      "/u/81/mirandi1/unix/.local/lib/python3.10/site-packages/botorch/models/utils/assorted.py:260: InputDataWarning: Data is not standardized (std = tensor([1.2992], dtype=torch.float64), mean = tensor([0.9649], dtype=torch.float64)). Please consider scaling the input to zero mean and unit variance.\n",
      "  check_standardization(Y=train_Y, raise_on_fail=raise_on_fail)\n"
     ]
    },
    {
     "name": "stdout",
     "output_type": "stream",
     "text": [
      "Exploitation 62/200 - New sample: [4.88047048 5.45593517 0.53140861], Objective value: -0.7460093771047727\n",
      "Exploitation 63/200 - New sample: [4.8777567  5.4534207  0.53244375], Objective value: -0.7524103620908261\n"
     ]
    },
    {
     "name": "stderr",
     "output_type": "stream",
     "text": [
      "/u/81/mirandi1/unix/.local/lib/python3.10/site-packages/botorch/models/utils/assorted.py:257: InputDataWarning: Input data is not contained to the unit cube. Please consider min-max scaling the input data.\n",
      "  check_min_max_scaling(\n",
      "/u/81/mirandi1/unix/.local/lib/python3.10/site-packages/botorch/models/utils/assorted.py:260: InputDataWarning: Data is not standardized (std = tensor([1.3054], dtype=torch.float64), mean = tensor([0.9801], dtype=torch.float64)). Please consider scaling the input to zero mean and unit variance.\n",
      "  check_standardization(Y=train_Y, raise_on_fail=raise_on_fail)\n"
     ]
    },
    {
     "name": "stdout",
     "output_type": "stream",
     "text": [
      "Exploitation 64/200 - New sample: [4.87499245 5.45083532 0.53386964], Objective value: -0.7900011093691253\n"
     ]
    },
    {
     "name": "stderr",
     "output_type": "stream",
     "text": [
      "/u/81/mirandi1/unix/.local/lib/python3.10/site-packages/botorch/models/utils/assorted.py:257: InputDataWarning: Input data is not contained to the unit cube. Please consider min-max scaling the input data.\n",
      "  check_min_max_scaling(\n",
      "/u/81/mirandi1/unix/.local/lib/python3.10/site-packages/botorch/models/utils/assorted.py:260: InputDataWarning: Data is not standardized (std = tensor([1.3107], dtype=torch.float64), mean = tensor([0.9946], dtype=torch.float64)). Please consider scaling the input to zero mean and unit variance.\n",
      "  check_standardization(Y=train_Y, raise_on_fail=raise_on_fail)\n"
     ]
    },
    {
     "name": "stdout",
     "output_type": "stream",
     "text": [
      "Exploitation 65/200 - New sample: [4.87279308 5.44828693 0.53539711], Objective value: -0.8518357285072932\n"
     ]
    },
    {
     "name": "stderr",
     "output_type": "stream",
     "text": [
      "/u/81/mirandi1/unix/.local/lib/python3.10/site-packages/botorch/models/utils/assorted.py:257: InputDataWarning: Input data is not contained to the unit cube. Please consider min-max scaling the input data.\n",
      "  check_min_max_scaling(\n",
      "/u/81/mirandi1/unix/.local/lib/python3.10/site-packages/botorch/models/utils/assorted.py:260: InputDataWarning: Data is not standardized (std = tensor([1.3151], dtype=torch.float64), mean = tensor([1.0084], dtype=torch.float64)). Please consider scaling the input to zero mean and unit variance.\n",
      "  check_standardization(Y=train_Y, raise_on_fail=raise_on_fail)\n"
     ]
    },
    {
     "name": "stdout",
     "output_type": "stream",
     "text": [
      "Exploitation 66/200 - New sample: [4.87137882 5.44596558 0.53694255], Objective value: -0.9213236139358951\n"
     ]
    },
    {
     "name": "stderr",
     "output_type": "stream",
     "text": [
      "/u/81/mirandi1/unix/.local/lib/python3.10/site-packages/botorch/models/utils/assorted.py:257: InputDataWarning: Input data is not contained to the unit cube. Please consider min-max scaling the input data.\n",
      "  check_min_max_scaling(\n",
      "/u/81/mirandi1/unix/.local/lib/python3.10/site-packages/botorch/models/utils/assorted.py:260: InputDataWarning: Data is not standardized (std = tensor([1.3190], dtype=torch.float64), mean = tensor([1.0219], dtype=torch.float64)). Please consider scaling the input to zero mean and unit variance.\n",
      "  check_standardization(Y=train_Y, raise_on_fail=raise_on_fail)\n"
     ]
    },
    {
     "name": "stdout",
     "output_type": "stream",
     "text": [
      "Exploitation 67/200 - New sample: [4.87067225 5.44566831 0.53747329], Objective value: -0.9369582253812355\n"
     ]
    },
    {
     "name": "stderr",
     "output_type": "stream",
     "text": [
      "/u/81/mirandi1/unix/.local/lib/python3.10/site-packages/botorch/models/utils/assorted.py:257: InputDataWarning: Input data is not contained to the unit cube. Please consider min-max scaling the input data.\n",
      "  check_min_max_scaling(\n",
      "/u/81/mirandi1/unix/.local/lib/python3.10/site-packages/botorch/models/utils/assorted.py:260: InputDataWarning: Data is not standardized (std = tensor([1.3217], dtype=torch.float64), mean = tensor([1.0343], dtype=torch.float64)). Please consider scaling the input to zero mean and unit variance.\n",
      "  check_standardization(Y=train_Y, raise_on_fail=raise_on_fail)\n"
     ]
    },
    {
     "name": "stdout",
     "output_type": "stream",
     "text": [
      "Exploitation 68/200 - New sample: [4.86775584 5.43908305 0.53508531], Objective value: -1.058322280805317\n"
     ]
    },
    {
     "name": "stderr",
     "output_type": "stream",
     "text": [
      "/u/81/mirandi1/unix/.local/lib/python3.10/site-packages/botorch/models/utils/assorted.py:257: InputDataWarning: Input data is not contained to the unit cube. Please consider min-max scaling the input data.\n",
      "  check_min_max_scaling(\n",
      "/u/81/mirandi1/unix/.local/lib/python3.10/site-packages/botorch/models/utils/assorted.py:260: InputDataWarning: Data is not standardized (std = tensor([1.3256], dtype=torch.float64), mean = tensor([1.0476], dtype=torch.float64)). Please consider scaling the input to zero mean and unit variance.\n",
      "  check_standardization(Y=train_Y, raise_on_fail=raise_on_fail)\n"
     ]
    },
    {
     "name": "stdout",
     "output_type": "stream",
     "text": [
      "Exploitation 69/200 - New sample: [4.8711862  5.4470468  0.53760011], Objective value: -0.9081462029411344\n"
     ]
    },
    {
     "name": "stderr",
     "output_type": "stream",
     "text": [
      "/u/81/mirandi1/unix/.local/lib/python3.10/site-packages/botorch/models/utils/assorted.py:257: InputDataWarning: Input data is not contained to the unit cube. Please consider min-max scaling the input data.\n",
      "  check_min_max_scaling(\n",
      "/u/81/mirandi1/unix/.local/lib/python3.10/site-packages/botorch/models/utils/assorted.py:260: InputDataWarning: Data is not standardized (std = tensor([1.3290], dtype=torch.float64), mean = tensor([1.0605], dtype=torch.float64)). Please consider scaling the input to zero mean and unit variance.\n",
      "  check_standardization(Y=train_Y, raise_on_fail=raise_on_fail)\n"
     ]
    },
    {
     "name": "stdout",
     "output_type": "stream",
     "text": [
      "Exploitation 70/200 - New sample: [4.87111682 5.44641067 0.53865398], Objective value: -0.9356880806399838\n"
     ]
    },
    {
     "name": "stderr",
     "output_type": "stream",
     "text": [
      "/u/81/mirandi1/unix/.local/lib/python3.10/site-packages/botorch/models/utils/assorted.py:257: InputDataWarning: Input data is not contained to the unit cube. Please consider min-max scaling the input data.\n",
      "  check_min_max_scaling(\n",
      "/u/81/mirandi1/unix/.local/lib/python3.10/site-packages/botorch/models/utils/assorted.py:260: InputDataWarning: Data is not standardized (std = tensor([1.3321], dtype=torch.float64), mean = tensor([1.0731], dtype=torch.float64)). Please consider scaling the input to zero mean and unit variance.\n",
      "  check_standardization(Y=train_Y, raise_on_fail=raise_on_fail)\n"
     ]
    },
    {
     "name": "stdout",
     "output_type": "stream",
     "text": [
      "Exploitation 71/200 - New sample: [4.87091238 5.44628543 0.53924098], Objective value: -0.9470372415103169\n",
      "Exploitation 72/200 - New sample: [4.87118459 5.4465015  0.53916126], Objective value: -0.9404193314673377\n"
     ]
    },
    {
     "name": "stderr",
     "output_type": "stream",
     "text": [
      "/u/81/mirandi1/unix/.local/lib/python3.10/site-packages/botorch/models/utils/assorted.py:257: InputDataWarning: Input data is not contained to the unit cube. Please consider min-max scaling the input data.\n",
      "  check_min_max_scaling(\n",
      "/u/81/mirandi1/unix/.local/lib/python3.10/site-packages/botorch/models/utils/assorted.py:260: InputDataWarning: Data is not standardized (std = tensor([1.3351], dtype=torch.float64), mean = tensor([1.0856], dtype=torch.float64)). Please consider scaling the input to zero mean and unit variance.\n",
      "  check_standardization(Y=train_Y, raise_on_fail=raise_on_fail)\n",
      "/u/81/mirandi1/unix/.local/lib/python3.10/site-packages/botorch/models/utils/assorted.py:257: InputDataWarning: Input data is not contained to the unit cube. Please consider min-max scaling the input data.\n",
      "  check_min_max_scaling(\n",
      "/u/81/mirandi1/unix/.local/lib/python3.10/site-packages/botorch/models/utils/assorted.py:260: InputDataWarning: Data is not standardized (std = tensor([1.3379], dtype=torch.float64), mean = tensor([1.0978], dtype=torch.float64)). Please consider scaling the input to zero mean and unit variance.\n",
      "  check_standardization(Y=train_Y, raise_on_fail=raise_on_fail)\n",
      "/u/81/mirandi1/unix/.local/lib/python3.10/site-packages/botorch/models/utils/assorted.py:257: InputDataWarning: Input data is not contained to the unit cube. Please consider min-max scaling the input data.\n",
      "  check_min_max_scaling(\n",
      "/u/81/mirandi1/unix/.local/lib/python3.10/site-packages/botorch/models/utils/assorted.py:260: InputDataWarning: Data is not standardized (std = tensor([1.3337], dtype=torch.float64), mean = tensor([1.1015], dtype=torch.float64)). Please consider scaling the input to zero mean and unit variance.\n",
      "  check_standardization(Y=train_Y, raise_on_fail=raise_on_fail)\n"
     ]
    },
    {
     "name": "stdout",
     "output_type": "stream",
     "text": [
      "Exploitation 73/200 - New sample: [4.87092961 5.44662146 0.53979734], Objective value: -0.9475122988717762\n",
      "Exploitation 74/200 - New sample: [6.65563812 5.41820239 0.89133186], Objective value: -2.186959799918288\n"
     ]
    },
    {
     "name": "stderr",
     "output_type": "stream",
     "text": [
      "/u/81/mirandi1/unix/.local/lib/python3.10/site-packages/botorch/models/utils/assorted.py:257: InputDataWarning: Input data is not contained to the unit cube. Please consider min-max scaling the input data.\n",
      "  check_min_max_scaling(\n",
      "/u/81/mirandi1/unix/.local/lib/python3.10/site-packages/botorch/models/utils/assorted.py:260: InputDataWarning: Data is not standardized (std = tensor([1.3363], dtype=torch.float64), mean = tensor([1.1134], dtype=torch.float64)). Please consider scaling the input to zero mean and unit variance.\n",
      "  check_standardization(Y=train_Y, raise_on_fail=raise_on_fail)\n"
     ]
    },
    {
     "name": "stdout",
     "output_type": "stream",
     "text": [
      "Exploitation 75/200 - New sample: [4.87064073 5.4462717  0.5399625 ], Objective value: -0.9582721527308566\n"
     ]
    },
    {
     "name": "stderr",
     "output_type": "stream",
     "text": [
      "/u/81/mirandi1/unix/.local/lib/python3.10/site-packages/botorch/models/utils/assorted.py:257: InputDataWarning: Input data is not contained to the unit cube. Please consider min-max scaling the input data.\n",
      "  check_min_max_scaling(\n",
      "/u/81/mirandi1/unix/.local/lib/python3.10/site-packages/botorch/models/utils/assorted.py:260: InputDataWarning: Data is not standardized (std = tensor([1.3390], dtype=torch.float64), mean = tensor([1.1254], dtype=torch.float64)). Please consider scaling the input to zero mean and unit variance.\n",
      "  check_standardization(Y=train_Y, raise_on_fail=raise_on_fail)\n"
     ]
    },
    {
     "name": "stdout",
     "output_type": "stream",
     "text": [
      "Exploitation 76/200 - New sample: [4.87197997 5.44764582 0.53922389], Objective value: -0.9147447385355983\n"
     ]
    },
    {
     "name": "stderr",
     "output_type": "stream",
     "text": [
      "/u/81/mirandi1/unix/.local/lib/python3.10/site-packages/botorch/models/utils/assorted.py:257: InputDataWarning: Input data is not contained to the unit cube. Please consider min-max scaling the input data.\n",
      "  check_min_max_scaling(\n",
      "/u/81/mirandi1/unix/.local/lib/python3.10/site-packages/botorch/models/utils/assorted.py:260: InputDataWarning: Data is not standardized (std = tensor([1.3413], dtype=torch.float64), mean = tensor([1.1370], dtype=torch.float64)). Please consider scaling the input to zero mean and unit variance.\n",
      "  check_standardization(Y=train_Y, raise_on_fail=raise_on_fail)\n"
     ]
    },
    {
     "name": "stdout",
     "output_type": "stream",
     "text": [
      "Exploitation 77/200 - New sample: [4.87097608 5.446797   0.5402527 ], Objective value: -0.9499175979605263\n"
     ]
    },
    {
     "name": "stderr",
     "output_type": "stream",
     "text": [
      "/u/81/mirandi1/unix/.local/lib/python3.10/site-packages/botorch/models/utils/assorted.py:257: InputDataWarning: Input data is not contained to the unit cube. Please consider min-max scaling the input data.\n",
      "  check_min_max_scaling(\n",
      "/u/81/mirandi1/unix/.local/lib/python3.10/site-packages/botorch/models/utils/assorted.py:260: InputDataWarning: Data is not standardized (std = tensor([1.3435], dtype=torch.float64), mean = tensor([1.1485], dtype=torch.float64)). Please consider scaling the input to zero mean and unit variance.\n",
      "  check_standardization(Y=train_Y, raise_on_fail=raise_on_fail)\n"
     ]
    },
    {
     "name": "stdout",
     "output_type": "stream",
     "text": [
      "Exploitation 78/200 - New sample: [4.87115743 5.44714684 0.54075319], Objective value: -0.9488005775551452\n"
     ]
    },
    {
     "name": "stderr",
     "output_type": "stream",
     "text": [
      "/u/81/mirandi1/unix/.local/lib/python3.10/site-packages/botorch/models/utils/assorted.py:257: InputDataWarning: Input data is not contained to the unit cube. Please consider min-max scaling the input data.\n",
      "  check_min_max_scaling(\n",
      "/u/81/mirandi1/unix/.local/lib/python3.10/site-packages/botorch/models/utils/assorted.py:260: InputDataWarning: Data is not standardized (std = tensor([1.3451], dtype=torch.float64), mean = tensor([1.1594], dtype=torch.float64)). Please consider scaling the input to zero mean and unit variance.\n",
      "  check_standardization(Y=train_Y, raise_on_fail=raise_on_fail)\n",
      "/u/81/mirandi1/unix/.local/lib/python3.10/site-packages/botorch/models/utils/assorted.py:257: InputDataWarning: Input data is not contained to the unit cube. Please consider min-max scaling the input data.\n",
      "  check_min_max_scaling(\n",
      "/u/81/mirandi1/unix/.local/lib/python3.10/site-packages/botorch/models/utils/assorted.py:260: InputDataWarning: Data is not standardized (std = tensor([1.3473], dtype=torch.float64), mean = tensor([1.1707], dtype=torch.float64)). Please consider scaling the input to zero mean and unit variance.\n",
      "  check_standardization(Y=train_Y, raise_on_fail=raise_on_fail)\n"
     ]
    },
    {
     "name": "stdout",
     "output_type": "stream",
     "text": [
      "Exploitation 79/200 - New sample: [4.86888065 5.44553861 0.54136242], Objective value: -1.0007659256783734\n",
      "Exploitation 80/200 - New sample: [4.87207982 5.45448309 0.54939543], Objective value: -0.918354383257125\n"
     ]
    },
    {
     "name": "stderr",
     "output_type": "stream",
     "text": [
      "/u/81/mirandi1/unix/.local/lib/python3.10/site-packages/botorch/models/utils/assorted.py:257: InputDataWarning: Input data is not contained to the unit cube. Please consider min-max scaling the input data.\n",
      "  check_min_max_scaling(\n",
      "/u/81/mirandi1/unix/.local/lib/python3.10/site-packages/botorch/models/utils/assorted.py:260: InputDataWarning: Data is not standardized (std = tensor([1.3491], dtype=torch.float64), mean = tensor([1.1817], dtype=torch.float64)). Please consider scaling the input to zero mean and unit variance.\n",
      "  check_standardization(Y=train_Y, raise_on_fail=raise_on_fail)\n"
     ]
    },
    {
     "name": "stdout",
     "output_type": "stream",
     "text": [
      "Exploitation 81/200 - New sample: [4.87010229 5.44808723 0.54206028], Objective value: -0.9513725335040271\n"
     ]
    },
    {
     "name": "stderr",
     "output_type": "stream",
     "text": [
      "/u/81/mirandi1/unix/.local/lib/python3.10/site-packages/botorch/models/utils/assorted.py:257: InputDataWarning: Input data is not contained to the unit cube. Please consider min-max scaling the input data.\n",
      "  check_min_max_scaling(\n",
      "/u/81/mirandi1/unix/.local/lib/python3.10/site-packages/botorch/models/utils/assorted.py:260: InputDataWarning: Data is not standardized (std = tensor([1.3504], dtype=torch.float64), mean = tensor([1.1922], dtype=torch.float64)). Please consider scaling the input to zero mean and unit variance.\n",
      "  check_standardization(Y=train_Y, raise_on_fail=raise_on_fail)\n"
     ]
    },
    {
     "name": "stdout",
     "output_type": "stream",
     "text": [
      "Exploitation 82/200 - New sample: [4.87539842 5.44641196 0.54451385], Objective value: -1.0001158998042736\n"
     ]
    },
    {
     "name": "stderr",
     "output_type": "stream",
     "text": [
      "/u/81/mirandi1/unix/.local/lib/python3.10/site-packages/botorch/models/utils/assorted.py:257: InputDataWarning: Input data is not contained to the unit cube. Please consider min-max scaling the input data.\n",
      "  check_min_max_scaling(\n",
      "/u/81/mirandi1/unix/.local/lib/python3.10/site-packages/botorch/models/utils/assorted.py:260: InputDataWarning: Data is not standardized (std = tensor([1.3522], dtype=torch.float64), mean = tensor([1.2031], dtype=torch.float64)). Please consider scaling the input to zero mean and unit variance.\n",
      "  check_standardization(Y=train_Y, raise_on_fail=raise_on_fail)\n"
     ]
    },
    {
     "name": "stdout",
     "output_type": "stream",
     "text": [
      "Exploitation 83/200 - New sample: [4.87129446 5.44870427 0.54104014], Objective value: -0.9198040751772095\n"
     ]
    },
    {
     "name": "stderr",
     "output_type": "stream",
     "text": [
      "/u/81/mirandi1/unix/.local/lib/python3.10/site-packages/botorch/models/utils/assorted.py:257: InputDataWarning: Input data is not contained to the unit cube. Please consider min-max scaling the input data.\n",
      "  check_min_max_scaling(\n",
      "/u/81/mirandi1/unix/.local/lib/python3.10/site-packages/botorch/models/utils/assorted.py:260: InputDataWarning: Data is not standardized (std = tensor([1.3539], dtype=torch.float64), mean = tensor([1.2138], dtype=torch.float64)). Please consider scaling the input to zero mean and unit variance.\n",
      "  check_standardization(Y=train_Y, raise_on_fail=raise_on_fail)\n"
     ]
    },
    {
     "name": "stdout",
     "output_type": "stream",
     "text": [
      "Exploitation 84/200 - New sample: [4.8715931  5.448823   0.54129198], Objective value: -0.9197606510340255\n"
     ]
    },
    {
     "name": "stderr",
     "output_type": "stream",
     "text": [
      "/u/81/mirandi1/unix/.local/lib/python3.10/site-packages/botorch/models/utils/assorted.py:257: InputDataWarning: Input data is not contained to the unit cube. Please consider min-max scaling the input data.\n",
      "  check_min_max_scaling(\n",
      "/u/81/mirandi1/unix/.local/lib/python3.10/site-packages/botorch/models/utils/assorted.py:260: InputDataWarning: Data is not standardized (std = tensor([1.3553], dtype=torch.float64), mean = tensor([1.2243], dtype=torch.float64)). Please consider scaling the input to zero mean and unit variance.\n",
      "  check_standardization(Y=train_Y, raise_on_fail=raise_on_fail)\n"
     ]
    },
    {
     "name": "stdout",
     "output_type": "stream",
     "text": [
      "Exploitation 85/200 - New sample: [4.87141248 5.44829185 0.54145068], Objective value: -0.9335724488023975\n"
     ]
    },
    {
     "name": "stderr",
     "output_type": "stream",
     "text": [
      "/u/81/mirandi1/unix/.local/lib/python3.10/site-packages/botorch/models/utils/assorted.py:257: InputDataWarning: Input data is not contained to the unit cube. Please consider min-max scaling the input data.\n",
      "  check_min_max_scaling(\n",
      "/u/81/mirandi1/unix/.local/lib/python3.10/site-packages/botorch/models/utils/assorted.py:260: InputDataWarning: Data is not standardized (std = tensor([1.3568], dtype=torch.float64), mean = tensor([1.2346], dtype=torch.float64)). Please consider scaling the input to zero mean and unit variance.\n",
      "  check_standardization(Y=train_Y, raise_on_fail=raise_on_fail)\n",
      "/u/81/mirandi1/unix/.local/lib/python3.10/site-packages/botorch/models/utils/assorted.py:257: InputDataWarning: Input data is not contained to the unit cube. Please consider min-max scaling the input data.\n",
      "  check_min_max_scaling(\n",
      "/u/81/mirandi1/unix/.local/lib/python3.10/site-packages/botorch/models/utils/assorted.py:260: InputDataWarning: Data is not standardized (std = tensor([1.3586], dtype=torch.float64), mean = tensor([1.2453], dtype=torch.float64)). Please consider scaling the input to zero mean and unit variance.\n",
      "  check_standardization(Y=train_Y, raise_on_fail=raise_on_fail)\n"
     ]
    },
    {
     "name": "stdout",
     "output_type": "stream",
     "text": [
      "Exploitation 86/200 - New sample: [4.87098782 5.44878439 0.54177925], Objective value: -0.9294609256236255\n",
      "Exploitation 87/200 - New sample: [4.87225965 5.45289916 0.5427122 ], Objective value: -0.8561453709819233\n"
     ]
    },
    {
     "name": "stderr",
     "output_type": "stream",
     "text": [
      "/u/81/mirandi1/unix/.local/lib/python3.10/site-packages/botorch/models/utils/assorted.py:257: InputDataWarning: Input data is not contained to the unit cube. Please consider min-max scaling the input data.\n",
      "  check_min_max_scaling(\n",
      "/u/81/mirandi1/unix/.local/lib/python3.10/site-packages/botorch/models/utils/assorted.py:260: InputDataWarning: Data is not standardized (std = tensor([1.3598], dtype=torch.float64), mean = tensor([1.2555], dtype=torch.float64)). Please consider scaling the input to zero mean and unit variance.\n",
      "  check_standardization(Y=train_Y, raise_on_fail=raise_on_fail)\n"
     ]
    },
    {
     "name": "stdout",
     "output_type": "stream",
     "text": [
      "Exploitation 88/200 - New sample: [4.87134255 5.4497967  0.54285506], Objective value: -0.9222650880098829\n"
     ]
    },
    {
     "name": "stderr",
     "output_type": "stream",
     "text": [
      "/u/81/mirandi1/unix/.local/lib/python3.10/site-packages/botorch/models/utils/assorted.py:257: InputDataWarning: Input data is not contained to the unit cube. Please consider min-max scaling the input data.\n",
      "  check_min_max_scaling(\n",
      "/u/81/mirandi1/unix/.local/lib/python3.10/site-packages/botorch/models/utils/assorted.py:260: InputDataWarning: Data is not standardized (std = tensor([1.3610], dtype=torch.float64), mean = tensor([1.2655], dtype=torch.float64)). Please consider scaling the input to zero mean and unit variance.\n",
      "  check_standardization(Y=train_Y, raise_on_fail=raise_on_fail)\n"
     ]
    },
    {
     "name": "stdout",
     "output_type": "stream",
     "text": [
      "Exploitation 89/200 - New sample: [4.87131685 5.45008555 0.54295395], Objective value: -0.9178233815691674\n"
     ]
    },
    {
     "name": "stderr",
     "output_type": "stream",
     "text": [
      "/u/81/mirandi1/unix/.local/lib/python3.10/site-packages/botorch/models/utils/assorted.py:257: InputDataWarning: Input data is not contained to the unit cube. Please consider min-max scaling the input data.\n",
      "  check_min_max_scaling(\n",
      "/u/81/mirandi1/unix/.local/lib/python3.10/site-packages/botorch/models/utils/assorted.py:260: InputDataWarning: Data is not standardized (std = tensor([1.3622], dtype=torch.float64), mean = tensor([1.2754], dtype=torch.float64)). Please consider scaling the input to zero mean and unit variance.\n",
      "  check_standardization(Y=train_Y, raise_on_fail=raise_on_fail)\n"
     ]
    },
    {
     "name": "stdout",
     "output_type": "stream",
     "text": [
      "Exploitation 90/200 - New sample: [4.87214746 5.44953533 0.54224485], Objective value: -0.9162867110530171\n"
     ]
    },
    {
     "name": "stderr",
     "output_type": "stream",
     "text": [
      "/u/81/mirandi1/unix/.local/lib/python3.10/site-packages/botorch/models/utils/assorted.py:257: InputDataWarning: Input data is not contained to the unit cube. Please consider min-max scaling the input data.\n",
      "  check_min_max_scaling(\n",
      "/u/81/mirandi1/unix/.local/lib/python3.10/site-packages/botorch/models/utils/assorted.py:260: InputDataWarning: Data is not standardized (std = tensor([1.3632], dtype=torch.float64), mean = tensor([1.2853], dtype=torch.float64)). Please consider scaling the input to zero mean and unit variance.\n",
      "  check_standardization(Y=train_Y, raise_on_fail=raise_on_fail)\n"
     ]
    },
    {
     "name": "stdout",
     "output_type": "stream",
     "text": [
      "Exploitation 91/200 - New sample: [4.87137667 5.4508544  0.54327209], Objective value: -0.9064109717564605\n"
     ]
    },
    {
     "name": "stderr",
     "output_type": "stream",
     "text": [
      "/u/81/mirandi1/unix/.local/lib/python3.10/site-packages/botorch/models/utils/assorted.py:257: InputDataWarning: Input data is not contained to the unit cube. Please consider min-max scaling the input data.\n",
      "  check_min_max_scaling(\n",
      "/u/81/mirandi1/unix/.local/lib/python3.10/site-packages/botorch/models/utils/assorted.py:260: InputDataWarning: Data is not standardized (std = tensor([1.3642], dtype=torch.float64), mean = tensor([1.2949], dtype=torch.float64)). Please consider scaling the input to zero mean and unit variance.\n",
      "  check_standardization(Y=train_Y, raise_on_fail=raise_on_fail)\n"
     ]
    },
    {
     "name": "stdout",
     "output_type": "stream",
     "text": [
      "Exploitation 92/200 - New sample: [4.87138268 5.45075427 0.54390265], Objective value: -0.9172172930789786\n"
     ]
    },
    {
     "name": "stderr",
     "output_type": "stream",
     "text": [
      "/u/81/mirandi1/unix/.local/lib/python3.10/site-packages/botorch/models/utils/assorted.py:257: InputDataWarning: Input data is not contained to the unit cube. Please consider min-max scaling the input data.\n",
      "  check_min_max_scaling(\n",
      "/u/81/mirandi1/unix/.local/lib/python3.10/site-packages/botorch/models/utils/assorted.py:260: InputDataWarning: Data is not standardized (std = tensor([1.3651], dtype=torch.float64), mean = tensor([1.3045], dtype=torch.float64)). Please consider scaling the input to zero mean and unit variance.\n",
      "  check_standardization(Y=train_Y, raise_on_fail=raise_on_fail)\n"
     ]
    },
    {
     "name": "stdout",
     "output_type": "stream",
     "text": [
      "Exploitation 93/200 - New sample: [4.87111845 5.45111703 0.54394386], Objective value: -0.9114083856478434\n"
     ]
    },
    {
     "name": "stderr",
     "output_type": "stream",
     "text": [
      "/u/81/mirandi1/unix/.local/lib/python3.10/site-packages/botorch/models/utils/assorted.py:257: InputDataWarning: Input data is not contained to the unit cube. Please consider min-max scaling the input data.\n",
      "  check_min_max_scaling(\n",
      "/u/81/mirandi1/unix/.local/lib/python3.10/site-packages/botorch/models/utils/assorted.py:260: InputDataWarning: Data is not standardized (std = tensor([1.3611], dtype=torch.float64), mean = tensor([1.3069], dtype=torch.float64)). Please consider scaling the input to zero mean and unit variance.\n",
      "  check_standardization(Y=train_Y, raise_on_fail=raise_on_fail)\n",
      "/u/81/mirandi1/unix/.local/lib/python3.10/site-packages/botorch/models/utils/assorted.py:257: InputDataWarning: Input data is not contained to the unit cube. Please consider min-max scaling the input data.\n",
      "  check_min_max_scaling(\n",
      "/u/81/mirandi1/unix/.local/lib/python3.10/site-packages/botorch/models/utils/assorted.py:260: InputDataWarning: Data is not standardized (std = tensor([1.3568], dtype=torch.float64), mean = tensor([1.3059], dtype=torch.float64)). Please consider scaling the input to zero mean and unit variance.\n",
      "  check_standardization(Y=train_Y, raise_on_fail=raise_on_fail)\n"
     ]
    },
    {
     "name": "stdout",
     "output_type": "stream",
     "text": [
      "Exploitation 94/200 - New sample: [5.6828355 5.6771684 1.       ], Objective value: -2.1120586906635803\n",
      "Exploitation 95/200 - New sample: [5.80758751 5.60038313 0.76642165], Objective value: -2.685546020046904\n"
     ]
    },
    {
     "name": "stderr",
     "output_type": "stream",
     "text": [
      "/u/81/mirandi1/unix/.local/lib/python3.10/site-packages/botorch/models/utils/assorted.py:257: InputDataWarning: Input data is not contained to the unit cube. Please consider min-max scaling the input data.\n",
      "  check_min_max_scaling(\n",
      "/u/81/mirandi1/unix/.local/lib/python3.10/site-packages/botorch/models/utils/assorted.py:260: InputDataWarning: Data is not standardized (std = tensor([1.3577], dtype=torch.float64), mean = tensor([1.3152], dtype=torch.float64)). Please consider scaling the input to zero mean and unit variance.\n",
      "  check_standardization(Y=train_Y, raise_on_fail=raise_on_fail)\n"
     ]
    },
    {
     "name": "stdout",
     "output_type": "stream",
     "text": [
      "Exploitation 96/200 - New sample: [4.87093594 5.45158666 0.54384876], Objective value: -0.9012683463260858\n"
     ]
    },
    {
     "name": "stderr",
     "output_type": "stream",
     "text": [
      "/u/81/mirandi1/unix/.local/lib/python3.10/site-packages/botorch/models/utils/assorted.py:257: InputDataWarning: Input data is not contained to the unit cube. Please consider min-max scaling the input data.\n",
      "  check_min_max_scaling(\n",
      "/u/81/mirandi1/unix/.local/lib/python3.10/site-packages/botorch/models/utils/assorted.py:260: InputDataWarning: Data is not standardized (std = tensor([1.3546], dtype=torch.float64), mean = tensor([1.3108], dtype=torch.float64)). Please consider scaling the input to zero mean and unit variance.\n",
      "  check_standardization(Y=train_Y, raise_on_fail=raise_on_fail)\n"
     ]
    },
    {
     "name": "stdout",
     "output_type": "stream",
     "text": [
      "Exploitation 97/200 - New sample: [5.92549585 7.         1.        ], Objective value: -3.268270511221464\n"
     ]
    },
    {
     "name": "stderr",
     "output_type": "stream",
     "text": [
      "/u/81/mirandi1/unix/.local/lib/python3.10/site-packages/botorch/models/utils/assorted.py:257: InputDataWarning: Input data is not contained to the unit cube. Please consider min-max scaling the input data.\n",
      "  check_min_max_scaling(\n",
      "/u/81/mirandi1/unix/.local/lib/python3.10/site-packages/botorch/models/utils/assorted.py:260: InputDataWarning: Data is not standardized (std = tensor([1.3555], dtype=torch.float64), mean = tensor([1.3201], dtype=torch.float64)). Please consider scaling the input to zero mean and unit variance.\n",
      "  check_standardization(Y=train_Y, raise_on_fail=raise_on_fail)\n"
     ]
    },
    {
     "name": "stdout",
     "output_type": "stream",
     "text": [
      "Exploitation 98/200 - New sample: [4.87081179 5.45179421 0.54408529], Objective value: -0.9008585576969121\n"
     ]
    },
    {
     "name": "stderr",
     "output_type": "stream",
     "text": [
      "/u/81/mirandi1/unix/.local/lib/python3.10/site-packages/botorch/models/utils/assorted.py:257: InputDataWarning: Input data is not contained to the unit cube. Please consider min-max scaling the input data.\n",
      "  check_min_max_scaling(\n",
      "/u/81/mirandi1/unix/.local/lib/python3.10/site-packages/botorch/models/utils/assorted.py:260: InputDataWarning: Data is not standardized (std = tensor([1.3563], dtype=torch.float64), mean = tensor([1.3292], dtype=torch.float64)). Please consider scaling the input to zero mean and unit variance.\n",
      "  check_standardization(Y=train_Y, raise_on_fail=raise_on_fail)\n"
     ]
    },
    {
     "name": "stdout",
     "output_type": "stream",
     "text": [
      "Exploitation 99/200 - New sample: [4.87076782 5.45185864 0.54437306], Objective value: -0.9037663702727871\n"
     ]
    },
    {
     "name": "stderr",
     "output_type": "stream",
     "text": [
      "/u/81/mirandi1/unix/.local/lib/python3.10/site-packages/botorch/models/utils/assorted.py:257: InputDataWarning: Input data is not contained to the unit cube. Please consider min-max scaling the input data.\n",
      "  check_min_max_scaling(\n",
      "/u/81/mirandi1/unix/.local/lib/python3.10/site-packages/botorch/models/utils/assorted.py:260: InputDataWarning: Data is not standardized (std = tensor([1.3572], dtype=torch.float64), mean = tensor([1.3383], dtype=torch.float64)). Please consider scaling the input to zero mean and unit variance.\n",
      "  check_standardization(Y=train_Y, raise_on_fail=raise_on_fail)\n"
     ]
    },
    {
     "name": "stdout",
     "output_type": "stream",
     "text": [
      "Exploitation 100/200 - New sample: [4.87102678 5.45433608 0.54583967], Objective value: -0.8745924501523515\n"
     ]
    },
    {
     "name": "stderr",
     "output_type": "stream",
     "text": [
      "/u/81/mirandi1/unix/.local/lib/python3.10/site-packages/botorch/models/utils/assorted.py:257: InputDataWarning: Input data is not contained to the unit cube. Please consider min-max scaling the input data.\n",
      "  check_min_max_scaling(\n",
      "/u/81/mirandi1/unix/.local/lib/python3.10/site-packages/botorch/models/utils/assorted.py:260: InputDataWarning: Data is not standardized (std = tensor([1.3578], dtype=torch.float64), mean = tensor([1.3472], dtype=torch.float64)). Please consider scaling the input to zero mean and unit variance.\n",
      "  check_standardization(Y=train_Y, raise_on_fail=raise_on_fail)\n"
     ]
    },
    {
     "name": "stdout",
     "output_type": "stream",
     "text": [
      "Exploitation 101/200 - New sample: [4.87066392 5.45267498 0.54606401], Objective value: -0.9117999898914007\n"
     ]
    },
    {
     "name": "stderr",
     "output_type": "stream",
     "text": [
      "/u/81/mirandi1/unix/.local/lib/python3.10/site-packages/botorch/models/utils/assorted.py:257: InputDataWarning: Input data is not contained to the unit cube. Please consider min-max scaling the input data.\n",
      "  check_min_max_scaling(\n",
      "/u/81/mirandi1/unix/.local/lib/python3.10/site-packages/botorch/models/utils/assorted.py:260: InputDataWarning: Data is not standardized (std = tensor([1.3585], dtype=torch.float64), mean = tensor([1.3560], dtype=torch.float64)). Please consider scaling the input to zero mean and unit variance.\n",
      "  check_standardization(Y=train_Y, raise_on_fail=raise_on_fail)\n"
     ]
    },
    {
     "name": "stdout",
     "output_type": "stream",
     "text": [
      "Exploitation 102/200 - New sample: [4.8702776  5.45342035 0.54590091], Objective value: -0.8960515663769772\n"
     ]
    },
    {
     "name": "stderr",
     "output_type": "stream",
     "text": [
      "/u/81/mirandi1/unix/.local/lib/python3.10/site-packages/botorch/models/utils/assorted.py:257: InputDataWarning: Input data is not contained to the unit cube. Please consider min-max scaling the input data.\n",
      "  check_min_max_scaling(\n",
      "/u/81/mirandi1/unix/.local/lib/python3.10/site-packages/botorch/models/utils/assorted.py:260: InputDataWarning: Data is not standardized (std = tensor([1.3593], dtype=torch.float64), mean = tensor([1.3649], dtype=torch.float64)). Please consider scaling the input to zero mean and unit variance.\n",
      "  check_standardization(Y=train_Y, raise_on_fail=raise_on_fail)\n"
     ]
    },
    {
     "name": "stdout",
     "output_type": "stream",
     "text": [
      "Exploitation 103/200 - New sample: [4.87032205 5.45288579 0.5426587 ], Objective value: -0.8614802945513595\n"
     ]
    },
    {
     "name": "stderr",
     "output_type": "stream",
     "text": [
      "/u/81/mirandi1/unix/.local/lib/python3.10/site-packages/botorch/models/utils/assorted.py:257: InputDataWarning: Input data is not contained to the unit cube. Please consider min-max scaling the input data.\n",
      "  check_min_max_scaling(\n",
      "/u/81/mirandi1/unix/.local/lib/python3.10/site-packages/botorch/models/utils/assorted.py:260: InputDataWarning: Data is not standardized (std = tensor([1.3554], dtype=torch.float64), mean = tensor([1.3633], dtype=torch.float64)). Please consider scaling the input to zero mean and unit variance.\n",
      "  check_standardization(Y=train_Y, raise_on_fail=raise_on_fail)\n"
     ]
    },
    {
     "name": "stdout",
     "output_type": "stream",
     "text": [
      "Exploitation 104/200 - New sample: [5.75094834 5.54941889 0.        ], Objective value: -2.7391870233786695\n"
     ]
    },
    {
     "name": "stderr",
     "output_type": "stream",
     "text": [
      "/u/81/mirandi1/unix/.local/lib/python3.10/site-packages/botorch/models/utils/assorted.py:257: InputDataWarning: Input data is not contained to the unit cube. Please consider min-max scaling the input data.\n",
      "  check_min_max_scaling(\n",
      "/u/81/mirandi1/unix/.local/lib/python3.10/site-packages/botorch/models/utils/assorted.py:260: InputDataWarning: Data is not standardized (std = tensor([1.3560], dtype=torch.float64), mean = tensor([1.3719], dtype=torch.float64)). Please consider scaling the input to zero mean and unit variance.\n",
      "  check_standardization(Y=train_Y, raise_on_fail=raise_on_fail)\n",
      "/u/81/mirandi1/unix/.local/lib/python3.10/site-packages/botorch/models/utils/assorted.py:257: InputDataWarning: Input data is not contained to the unit cube. Please consider min-max scaling the input data.\n",
      "  check_min_max_scaling(\n",
      "/u/81/mirandi1/unix/.local/lib/python3.10/site-packages/botorch/models/utils/assorted.py:260: InputDataWarning: Data is not standardized (std = tensor([1.3542], dtype=torch.float64), mean = tensor([1.3659], dtype=torch.float64)). Please consider scaling the input to zero mean and unit variance.\n",
      "  check_standardization(Y=train_Y, raise_on_fail=raise_on_fail)\n"
     ]
    },
    {
     "name": "stdout",
     "output_type": "stream",
     "text": [
      "Exploitation 105/200 - New sample: [4.86990816 5.45453886 0.54650457], Objective value: -0.8840314831438136\n",
      "Exploitation 106/200 - New sample: [6.22465905 7.         0.        ], Objective value: -3.5359402567605986\n",
      "Exploitation 107/200 - New sample: [6.96754566 5.43545743 0.75222935], Objective value: -2.310612568704657\n"
     ]
    },
    {
     "name": "stderr",
     "output_type": "stream",
     "text": [
      "/u/81/mirandi1/unix/.local/lib/python3.10/site-packages/botorch/models/utils/assorted.py:257: InputDataWarning: Input data is not contained to the unit cube. Please consider min-max scaling the input data.\n",
      "  check_min_max_scaling(\n",
      "/u/81/mirandi1/unix/.local/lib/python3.10/site-packages/botorch/models/utils/assorted.py:260: InputDataWarning: Data is not standardized (std = tensor([1.3503], dtype=torch.float64), mean = tensor([1.3667], dtype=torch.float64)). Please consider scaling the input to zero mean and unit variance.\n",
      "  check_standardization(Y=train_Y, raise_on_fail=raise_on_fail)\n",
      "/u/81/mirandi1/unix/.local/lib/python3.10/site-packages/botorch/models/utils/assorted.py:257: InputDataWarning: Input data is not contained to the unit cube. Please consider min-max scaling the input data.\n",
      "  check_min_max_scaling(\n",
      "/u/81/mirandi1/unix/.local/lib/python3.10/site-packages/botorch/models/utils/assorted.py:260: InputDataWarning: Data is not standardized (std = tensor([1.3507], dtype=torch.float64), mean = tensor([1.3750], dtype=torch.float64)). Please consider scaling the input to zero mean and unit variance.\n",
      "  check_standardization(Y=train_Y, raise_on_fail=raise_on_fail)\n"
     ]
    },
    {
     "name": "stdout",
     "output_type": "stream",
     "text": [
      "Exploitation 108/200 - New sample: [4.87002323 5.45378341 0.54772954], Objective value: -0.9163018543199232\n"
     ]
    },
    {
     "name": "stderr",
     "output_type": "stream",
     "text": [
      "/u/81/mirandi1/unix/.local/lib/python3.10/site-packages/botorch/models/utils/assorted.py:257: InputDataWarning: Input data is not contained to the unit cube. Please consider min-max scaling the input data.\n",
      "  check_min_max_scaling(\n",
      "/u/81/mirandi1/unix/.local/lib/python3.10/site-packages/botorch/models/utils/assorted.py:260: InputDataWarning: Data is not standardized (std = tensor([1.3512], dtype=torch.float64), mean = tensor([1.3833], dtype=torch.float64)). Please consider scaling the input to zero mean and unit variance.\n",
      "  check_standardization(Y=train_Y, raise_on_fail=raise_on_fail)\n"
     ]
    },
    {
     "name": "stdout",
     "output_type": "stream",
     "text": [
      "Exploitation 109/200 - New sample: [4.86976017 5.45450754 0.54702137], Objective value: -0.8926225374521362\n"
     ]
    },
    {
     "name": "stderr",
     "output_type": "stream",
     "text": [
      "/u/81/mirandi1/unix/.local/lib/python3.10/site-packages/botorch/models/utils/assorted.py:257: InputDataWarning: Input data is not contained to the unit cube. Please consider min-max scaling the input data.\n",
      "  check_min_max_scaling(\n",
      "/u/81/mirandi1/unix/.local/lib/python3.10/site-packages/botorch/models/utils/assorted.py:260: InputDataWarning: Data is not standardized (std = tensor([1.3517], dtype=torch.float64), mean = tensor([1.3915], dtype=torch.float64)). Please consider scaling the input to zero mean and unit variance.\n",
      "  check_standardization(Y=train_Y, raise_on_fail=raise_on_fail)\n"
     ]
    },
    {
     "name": "stdout",
     "output_type": "stream",
     "text": [
      "Exploitation 110/200 - New sample: [4.86980516 5.45529446 0.547998  ], Objective value: -0.891154556222963\n"
     ]
    },
    {
     "name": "stderr",
     "output_type": "stream",
     "text": [
      "/u/81/mirandi1/unix/.local/lib/python3.10/site-packages/botorch/models/utils/assorted.py:257: InputDataWarning: Input data is not contained to the unit cube. Please consider min-max scaling the input data.\n",
      "  check_min_max_scaling(\n",
      "/u/81/mirandi1/unix/.local/lib/python3.10/site-packages/botorch/models/utils/assorted.py:260: InputDataWarning: Data is not standardized (std = tensor([1.3521], dtype=torch.float64), mean = tensor([1.3997], dtype=torch.float64)). Please consider scaling the input to zero mean and unit variance.\n",
      "  check_standardization(Y=train_Y, raise_on_fail=raise_on_fail)\n"
     ]
    },
    {
     "name": "stdout",
     "output_type": "stream",
     "text": [
      "Exploitation 111/200 - New sample: [4.86907109 5.45572885 0.54812035], Objective value: -0.8873606718219199\n"
     ]
    },
    {
     "name": "stderr",
     "output_type": "stream",
     "text": [
      "/u/81/mirandi1/unix/.local/lib/python3.10/site-packages/botorch/models/utils/assorted.py:257: InputDataWarning: Input data is not contained to the unit cube. Please consider min-max scaling the input data.\n",
      "  check_min_max_scaling(\n",
      "/u/81/mirandi1/unix/.local/lib/python3.10/site-packages/botorch/models/utils/assorted.py:260: InputDataWarning: Data is not standardized (std = tensor([1.3524], dtype=torch.float64), mean = tensor([1.4077], dtype=torch.float64)). Please consider scaling the input to zero mean and unit variance.\n",
      "  check_standardization(Y=train_Y, raise_on_fail=raise_on_fail)\n"
     ]
    },
    {
     "name": "stdout",
     "output_type": "stream",
     "text": [
      "Exploitation 112/200 - New sample: [4.86730594 5.45622392 0.54863215], Objective value: -0.8924825303444703\n"
     ]
    },
    {
     "name": "stderr",
     "output_type": "stream",
     "text": [
      "/u/81/mirandi1/unix/.local/lib/python3.10/site-packages/botorch/models/utils/assorted.py:257: InputDataWarning: Input data is not contained to the unit cube. Please consider min-max scaling the input data.\n",
      "  check_min_max_scaling(\n",
      "/u/81/mirandi1/unix/.local/lib/python3.10/site-packages/botorch/models/utils/assorted.py:260: InputDataWarning: Data is not standardized (std = tensor([1.3521], dtype=torch.float64), mean = tensor([1.4151], dtype=torch.float64)). Please consider scaling the input to zero mean and unit variance.\n",
      "  check_standardization(Y=train_Y, raise_on_fail=raise_on_fail)\n"
     ]
    },
    {
     "name": "stdout",
     "output_type": "stream",
     "text": [
      "Exploitation 113/200 - New sample: [4.86949791 5.45255514 0.55230083], Objective value: -1.0132923665084321\n"
     ]
    },
    {
     "name": "stderr",
     "output_type": "stream",
     "text": [
      "/u/81/mirandi1/unix/.local/lib/python3.10/site-packages/botorch/models/utils/assorted.py:257: InputDataWarning: Input data is not contained to the unit cube. Please consider min-max scaling the input data.\n",
      "  check_min_max_scaling(\n",
      "/u/81/mirandi1/unix/.local/lib/python3.10/site-packages/botorch/models/utils/assorted.py:260: InputDataWarning: Data is not standardized (std = tensor([1.3526], dtype=torch.float64), mean = tensor([1.4231], dtype=torch.float64)). Please consider scaling the input to zero mean and unit variance.\n",
      "  check_standardization(Y=train_Y, raise_on_fail=raise_on_fail)\n"
     ]
    },
    {
     "name": "stdout",
     "output_type": "stream",
     "text": [
      "Exploitation 114/200 - New sample: [4.86875006 5.45613019 0.54594139], Objective value: -0.8498419072546053\n"
     ]
    },
    {
     "name": "stderr",
     "output_type": "stream",
     "text": [
      "/u/81/mirandi1/unix/.local/lib/python3.10/site-packages/botorch/models/utils/assorted.py:257: InputDataWarning: Input data is not contained to the unit cube. Please consider min-max scaling the input data.\n",
      "  check_min_max_scaling(\n",
      "/u/81/mirandi1/unix/.local/lib/python3.10/site-packages/botorch/models/utils/assorted.py:260: InputDataWarning: Data is not standardized (std = tensor([1.3531], dtype=torch.float64), mean = tensor([1.4312], dtype=torch.float64)). Please consider scaling the input to zero mean and unit variance.\n",
      "  check_standardization(Y=train_Y, raise_on_fail=raise_on_fail)\n"
     ]
    },
    {
     "name": "stdout",
     "output_type": "stream",
     "text": [
      "Exploitation 115/200 - New sample: [4.86774991 5.45732239 0.54648788], Objective value: -0.8387882580461177\n"
     ]
    },
    {
     "name": "stderr",
     "output_type": "stream",
     "text": [
      "/u/81/mirandi1/unix/.local/lib/python3.10/site-packages/botorch/models/utils/assorted.py:257: InputDataWarning: Input data is not contained to the unit cube. Please consider min-max scaling the input data.\n",
      "  check_min_max_scaling(\n",
      "/u/81/mirandi1/unix/.local/lib/python3.10/site-packages/botorch/models/utils/assorted.py:260: InputDataWarning: Data is not standardized (std = tensor([1.3548], dtype=torch.float64), mean = tensor([1.4403], dtype=torch.float64)). Please consider scaling the input to zero mean and unit variance.\n",
      "  check_standardization(Y=train_Y, raise_on_fail=raise_on_fail)\n"
     ]
    },
    {
     "name": "stdout",
     "output_type": "stream",
     "text": [
      "Exploitation 116/200 - New sample: [4.83619511 5.47308593 0.53233349], Objective value: -0.622003253901531\n"
     ]
    },
    {
     "name": "stderr",
     "output_type": "stream",
     "text": [
      "/u/81/mirandi1/unix/.local/lib/python3.10/site-packages/botorch/models/utils/assorted.py:257: InputDataWarning: Input data is not contained to the unit cube. Please consider min-max scaling the input data.\n",
      "  check_min_max_scaling(\n",
      "/u/81/mirandi1/unix/.local/lib/python3.10/site-packages/botorch/models/utils/assorted.py:260: InputDataWarning: Data is not standardized (std = tensor([1.3511], dtype=torch.float64), mean = tensor([1.4391], dtype=torch.float64)). Please consider scaling the input to zero mean and unit variance.\n",
      "  check_standardization(Y=train_Y, raise_on_fail=raise_on_fail)\n"
     ]
    },
    {
     "name": "stdout",
     "output_type": "stream",
     "text": [
      "Exploitation 117/200 - New sample: [6.34894722 5.25202505 0.        ], Objective value: -2.5930378906041143\n"
     ]
    },
    {
     "name": "stderr",
     "output_type": "stream",
     "text": [
      "/u/81/mirandi1/unix/.local/lib/python3.10/site-packages/botorch/models/utils/assorted.py:257: InputDataWarning: Input data is not contained to the unit cube. Please consider min-max scaling the input data.\n",
      "  check_min_max_scaling(\n",
      "/u/81/mirandi1/unix/.local/lib/python3.10/site-packages/botorch/models/utils/assorted.py:260: InputDataWarning: Data is not standardized (std = tensor([1.3474], dtype=torch.float64), mean = tensor([1.4389], dtype=torch.float64)). Please consider scaling the input to zero mean and unit variance.\n",
      "  check_standardization(Y=train_Y, raise_on_fail=raise_on_fail)\n"
     ]
    },
    {
     "name": "stdout",
     "output_type": "stream",
     "text": [
      "Exploitation 118/200 - New sample: [5.38336102 5.96071526 1.        ], Objective value: -2.406518577070265\n"
     ]
    },
    {
     "name": "stderr",
     "output_type": "stream",
     "text": [
      "/u/81/mirandi1/unix/.local/lib/python3.10/site-packages/botorch/models/utils/assorted.py:257: InputDataWarning: Input data is not contained to the unit cube. Please consider min-max scaling the input data.\n",
      "  check_min_max_scaling(\n",
      "/u/81/mirandi1/unix/.local/lib/python3.10/site-packages/botorch/models/utils/assorted.py:260: InputDataWarning: Data is not standardized (std = tensor([1.3481], dtype=torch.float64), mean = tensor([1.4470], dtype=torch.float64)). Please consider scaling the input to zero mean and unit variance.\n",
      "  check_standardization(Y=train_Y, raise_on_fail=raise_on_fail)\n"
     ]
    },
    {
     "name": "stdout",
     "output_type": "stream",
     "text": [
      "Exploitation 119/200 - New sample: [4.85740844 5.4589251  0.54167911], Objective value: -0.7777118439308994\n"
     ]
    },
    {
     "name": "stderr",
     "output_type": "stream",
     "text": [
      "/u/81/mirandi1/unix/.local/lib/python3.10/site-packages/botorch/models/utils/assorted.py:257: InputDataWarning: Input data is not contained to the unit cube. Please consider min-max scaling the input data.\n",
      "  check_min_max_scaling(\n",
      "/u/81/mirandi1/unix/.local/lib/python3.10/site-packages/botorch/models/utils/assorted.py:260: InputDataWarning: Data is not standardized (std = tensor([1.3498], dtype=torch.float64), mean = tensor([1.4559], dtype=torch.float64)). Please consider scaling the input to zero mean and unit variance.\n",
      "  check_standardization(Y=train_Y, raise_on_fail=raise_on_fail)\n",
      "/u/81/mirandi1/unix/.local/lib/python3.10/site-packages/botorch/models/utils/assorted.py:257: InputDataWarning: Input data is not contained to the unit cube. Please consider min-max scaling the input data.\n",
      "  check_min_max_scaling(\n",
      "/u/81/mirandi1/unix/.local/lib/python3.10/site-packages/botorch/models/utils/assorted.py:260: InputDataWarning: Data is not standardized (std = tensor([1.3463], dtype=torch.float64), mean = tensor([1.4541], dtype=torch.float64)). Please consider scaling the input to zero mean and unit variance.\n",
      "  check_standardization(Y=train_Y, raise_on_fail=raise_on_fail)\n"
     ]
    },
    {
     "name": "stdout",
     "output_type": "stream",
     "text": [
      "Exploitation 120/200 - New sample: [4.83594783 5.461939   0.5281977 ], Objective value: -0.6144056487688945\n",
      "Exploitation 121/200 - New sample: [6.67051491 5.53939907 0.27957814], Objective value: -2.7164608935215058\n"
     ]
    },
    {
     "name": "stderr",
     "output_type": "stream",
     "text": [
      "/u/81/mirandi1/unix/.local/lib/python3.10/site-packages/botorch/models/utils/assorted.py:257: InputDataWarning: Input data is not contained to the unit cube. Please consider min-max scaling the input data.\n",
      "  check_min_max_scaling(\n",
      "/u/81/mirandi1/unix/.local/lib/python3.10/site-packages/botorch/models/utils/assorted.py:260: InputDataWarning: Data is not standardized (std = tensor([1.3427], dtype=torch.float64), mean = tensor([1.4549], dtype=torch.float64)). Please consider scaling the input to zero mean and unit variance.\n",
      "  check_standardization(Y=train_Y, raise_on_fail=raise_on_fail)\n"
     ]
    },
    {
     "name": "stdout",
     "output_type": "stream",
     "text": [
      "Exploitation 122/200 - New sample: [6.1262297  5.31782817 0.21780902], Objective value: -2.183169163918358\n"
     ]
    },
    {
     "name": "stderr",
     "output_type": "stream",
     "text": [
      "/u/81/mirandi1/unix/.local/lib/python3.10/site-packages/botorch/models/utils/assorted.py:257: InputDataWarning: Input data is not contained to the unit cube. Please consider min-max scaling the input data.\n",
      "  check_min_max_scaling(\n",
      "/u/81/mirandi1/unix/.local/lib/python3.10/site-packages/botorch/models/utils/assorted.py:260: InputDataWarning: Data is not standardized (std = tensor([1.3429], dtype=torch.float64), mean = tensor([1.4623], dtype=torch.float64)). Please consider scaling the input to zero mean and unit variance.\n",
      "  check_standardization(Y=train_Y, raise_on_fail=raise_on_fail)\n"
     ]
    },
    {
     "name": "stdout",
     "output_type": "stream",
     "text": [
      "Exploitation 123/200 - New sample: [4.84060009 5.45250778 0.53388028], Objective value: -0.8634531249902668\n"
     ]
    },
    {
     "name": "stderr",
     "output_type": "stream",
     "text": [
      "/u/81/mirandi1/unix/.local/lib/python3.10/site-packages/botorch/models/utils/assorted.py:257: InputDataWarning: Input data is not contained to the unit cube. Please consider min-max scaling the input data.\n",
      "  check_min_max_scaling(\n",
      "/u/81/mirandi1/unix/.local/lib/python3.10/site-packages/botorch/models/utils/assorted.py:260: InputDataWarning: Data is not standardized (std = tensor([1.3442], dtype=torch.float64), mean = tensor([1.4707], dtype=torch.float64)). Please consider scaling the input to zero mean and unit variance.\n",
      "  check_standardization(Y=train_Y, raise_on_fail=raise_on_fail)\n"
     ]
    },
    {
     "name": "stdout",
     "output_type": "stream",
     "text": [
      "Exploitation 124/200 - New sample: [4.82762139 5.46960491 0.51342529], Objective value: -0.6561852917613576\n"
     ]
    },
    {
     "name": "stderr",
     "output_type": "stream",
     "text": [
      "/u/81/mirandi1/unix/.local/lib/python3.10/site-packages/botorch/models/utils/assorted.py:257: InputDataWarning: Input data is not contained to the unit cube. Please consider min-max scaling the input data.\n",
      "  check_min_max_scaling(\n",
      "/u/81/mirandi1/unix/.local/lib/python3.10/site-packages/botorch/models/utils/assorted.py:260: InputDataWarning: Data is not standardized (std = tensor([1.3407], dtype=torch.float64), mean = tensor([1.4715], dtype=torch.float64)). Please consider scaling the input to zero mean and unit variance.\n",
      "  check_standardization(Y=train_Y, raise_on_fail=raise_on_fail)\n"
     ]
    },
    {
     "name": "stdout",
     "output_type": "stream",
     "text": [
      "Exploitation 125/200 - New sample: [6.40393605 5.42059077 0.80156352], Objective value: -2.1807353216995615\n"
     ]
    },
    {
     "name": "stderr",
     "output_type": "stream",
     "text": [
      "/u/81/mirandi1/unix/.local/lib/python3.10/site-packages/botorch/models/utils/assorted.py:257: InputDataWarning: Input data is not contained to the unit cube. Please consider min-max scaling the input data.\n",
      "  check_min_max_scaling(\n",
      "/u/81/mirandi1/unix/.local/lib/python3.10/site-packages/botorch/models/utils/assorted.py:260: InputDataWarning: Data is not standardized (std = tensor([1.3373], dtype=torch.float64), mean = tensor([1.4703], dtype=torch.float64)). Please consider scaling the input to zero mean and unit variance.\n",
      "  check_standardization(Y=train_Y, raise_on_fail=raise_on_fail)\n"
     ]
    },
    {
     "name": "stdout",
     "output_type": "stream",
     "text": [
      "Exploitation 126/200 - New sample: [5.48826919 5.72671103 0.83191943], Objective value: -2.5704150705695614\n"
     ]
    },
    {
     "name": "stderr",
     "output_type": "stream",
     "text": [
      "/u/81/mirandi1/unix/.local/lib/python3.10/site-packages/botorch/models/utils/assorted.py:257: InputDataWarning: Input data is not contained to the unit cube. Please consider min-max scaling the input data.\n",
      "  check_min_max_scaling(\n",
      "/u/81/mirandi1/unix/.local/lib/python3.10/site-packages/botorch/models/utils/assorted.py:260: InputDataWarning: Data is not standardized (std = tensor([1.3337], dtype=torch.float64), mean = tensor([1.4699], dtype=torch.float64)). Please consider scaling the input to zero mean and unit variance.\n",
      "  check_standardization(Y=train_Y, raise_on_fail=raise_on_fail)\n",
      "/u/81/mirandi1/unix/.local/lib/python3.10/site-packages/botorch/models/utils/assorted.py:257: InputDataWarning: Input data is not contained to the unit cube. Please consider min-max scaling the input data.\n",
      "  check_min_max_scaling(\n",
      "/u/81/mirandi1/unix/.local/lib/python3.10/site-packages/botorch/models/utils/assorted.py:260: InputDataWarning: Data is not standardized (std = tensor([1.3303], dtype=torch.float64), mean = tensor([1.4708], dtype=torch.float64)). Please consider scaling the input to zero mean and unit variance.\n",
      "  check_standardization(Y=train_Y, raise_on_fail=raise_on_fail)\n"
     ]
    },
    {
     "name": "stdout",
     "output_type": "stream",
     "text": [
      "Exploitation 127/200 - New sample: [5.51290901 5.47147651 0.21890447], Objective value: -2.427091866598746\n",
      "Exploitation 128/200 - New sample: [5.70544219 5.32268711 0.45427196], Objective value: -2.137045946406992\n"
     ]
    },
    {
     "name": "stderr",
     "output_type": "stream",
     "text": [
      "/u/81/mirandi1/unix/.local/lib/python3.10/site-packages/botorch/models/utils/assorted.py:257: InputDataWarning: Input data is not contained to the unit cube. Please consider min-max scaling the input data.\n",
      "  check_min_max_scaling(\n",
      "/u/81/mirandi1/unix/.local/lib/python3.10/site-packages/botorch/models/utils/assorted.py:260: InputDataWarning: Data is not standardized (std = tensor([1.3307], dtype=torch.float64), mean = tensor([1.4782], dtype=torch.float64)). Please consider scaling the input to zero mean and unit variance.\n",
      "  check_standardization(Y=train_Y, raise_on_fail=raise_on_fail)\n"
     ]
    },
    {
     "name": "stdout",
     "output_type": "stream",
     "text": [
      "Exploitation 129/200 - New sample: [4.63066433 5.41376749 0.28420713], Objective value: -0.8162333290166159\n"
     ]
    },
    {
     "name": "stderr",
     "output_type": "stream",
     "text": [
      "/u/81/mirandi1/unix/.local/lib/python3.10/site-packages/botorch/models/utils/assorted.py:257: InputDataWarning: Input data is not contained to the unit cube. Please consider min-max scaling the input data.\n",
      "  check_min_max_scaling(\n",
      "/u/81/mirandi1/unix/.local/lib/python3.10/site-packages/botorch/models/utils/assorted.py:260: InputDataWarning: Data is not standardized (std = tensor([1.3273], dtype=torch.float64), mean = tensor([1.4775], dtype=torch.float64)). Please consider scaling the input to zero mean and unit variance.\n",
      "  check_standardization(Y=train_Y, raise_on_fail=raise_on_fail)\n",
      "/u/81/mirandi1/unix/.local/lib/python3.10/site-packages/botorch/models/utils/assorted.py:257: InputDataWarning: Input data is not contained to the unit cube. Please consider min-max scaling the input data.\n",
      "  check_min_max_scaling(\n",
      "/u/81/mirandi1/unix/.local/lib/python3.10/site-packages/botorch/models/utils/assorted.py:260: InputDataWarning: Data is not standardized (std = tensor([1.3244], dtype=torch.float64), mean = tensor([1.4750], dtype=torch.float64)). Please consider scaling the input to zero mean and unit variance.\n",
      "  check_standardization(Y=train_Y, raise_on_fail=raise_on_fail)\n"
     ]
    },
    {
     "name": "stdout",
     "output_type": "stream",
     "text": [
      "Exploitation 130/200 - New sample: [5.66588285 5.90454854 1.        ], Objective value: -2.4682437448264904\n",
      "Exploitation 131/200 - New sample: [5.90873228 5.21033291 0.23078583], Objective value: -2.8464915684336205\n"
     ]
    },
    {
     "name": "stderr",
     "output_type": "stream",
     "text": [
      "/u/81/mirandi1/unix/.local/lib/python3.10/site-packages/botorch/models/utils/assorted.py:257: InputDataWarning: Input data is not contained to the unit cube. Please consider min-max scaling the input data.\n",
      "  check_min_max_scaling(\n",
      "/u/81/mirandi1/unix/.local/lib/python3.10/site-packages/botorch/models/utils/assorted.py:260: InputDataWarning: Data is not standardized (std = tensor([1.3210], dtype=torch.float64), mean = tensor([1.4748], dtype=torch.float64)). Please consider scaling the input to zero mean and unit variance.\n",
      "  check_standardization(Y=train_Y, raise_on_fail=raise_on_fail)\n"
     ]
    },
    {
     "name": "stdout",
     "output_type": "stream",
     "text": [
      "Exploitation 132/200 - New sample: [6.58650329 5.44995289 0.        ], Objective value: -2.3895792105533826\n"
     ]
    },
    {
     "name": "stderr",
     "output_type": "stream",
     "text": [
      "/u/81/mirandi1/unix/.local/lib/python3.10/site-packages/botorch/models/utils/assorted.py:257: InputDataWarning: Input data is not contained to the unit cube. Please consider min-max scaling the input data.\n",
      "  check_min_max_scaling(\n",
      "/u/81/mirandi1/unix/.local/lib/python3.10/site-packages/botorch/models/utils/assorted.py:260: InputDataWarning: Data is not standardized (std = tensor([1.3189], dtype=torch.float64), mean = tensor([1.4790], dtype=torch.float64)). Please consider scaling the input to zero mean and unit variance.\n",
      "  check_standardization(Y=train_Y, raise_on_fail=raise_on_fail)\n"
     ]
    },
    {
     "name": "stdout",
     "output_type": "stream",
     "text": [
      "Exploitation 133/200 - New sample: [4.55077484 5.44656083 0.25874944], Objective value: -1.4320443145049462\n"
     ]
    },
    {
     "name": "stderr",
     "output_type": "stream",
     "text": [
      "/u/81/mirandi1/unix/.local/lib/python3.10/site-packages/botorch/models/utils/assorted.py:257: InputDataWarning: Input data is not contained to the unit cube. Please consider min-max scaling the input data.\n",
      "  check_min_max_scaling(\n",
      "/u/81/mirandi1/unix/.local/lib/python3.10/site-packages/botorch/models/utils/assorted.py:260: InputDataWarning: Data is not standardized (std = tensor([1.3206], dtype=torch.float64), mean = tensor([1.4872], dtype=torch.float64)). Please consider scaling the input to zero mean and unit variance.\n",
      "  check_standardization(Y=train_Y, raise_on_fail=raise_on_fail)\n"
     ]
    },
    {
     "name": "stdout",
     "output_type": "stream",
     "text": [
      "Exploitation 134/200 - New sample: [4.69245107 5.40858743 0.33606554], Objective value: -0.5845089191682947\n"
     ]
    },
    {
     "name": "stderr",
     "output_type": "stream",
     "text": [
      "/u/81/mirandi1/unix/.local/lib/python3.10/site-packages/botorch/models/utils/assorted.py:257: InputDataWarning: Input data is not contained to the unit cube. Please consider min-max scaling the input data.\n",
      "  check_min_max_scaling(\n",
      "/u/81/mirandi1/unix/.local/lib/python3.10/site-packages/botorch/models/utils/assorted.py:260: InputDataWarning: Data is not standardized (std = tensor([1.3266], dtype=torch.float64), mean = tensor([1.4983], dtype=torch.float64)). Please consider scaling the input to zero mean and unit variance.\n",
      "  check_standardization(Y=train_Y, raise_on_fail=raise_on_fail)\n"
     ]
    },
    {
     "name": "stdout",
     "output_type": "stream",
     "text": [
      "Exploitation 135/200 - New sample: [4.65528718 5.42621017 0.35726695], Objective value: 0.058259444918455805\n"
     ]
    },
    {
     "name": "stderr",
     "output_type": "stream",
     "text": [
      "/u/81/mirandi1/unix/.local/lib/python3.10/site-packages/botorch/models/utils/assorted.py:257: InputDataWarning: Input data is not contained to the unit cube. Please consider min-max scaling the input data.\n",
      "  check_min_max_scaling(\n",
      "/u/81/mirandi1/unix/.local/lib/python3.10/site-packages/botorch/models/utils/assorted.py:260: InputDataWarning: Data is not standardized (std = tensor([1.3324], dtype=torch.float64), mean = tensor([1.5094], dtype=torch.float64)). Please consider scaling the input to zero mean and unit variance.\n",
      "  check_standardization(Y=train_Y, raise_on_fail=raise_on_fail)\n",
      "/u/81/mirandi1/unix/.local/lib/python3.10/site-packages/botorch/models/utils/assorted.py:257: InputDataWarning: Input data is not contained to the unit cube. Please consider min-max scaling the input data.\n",
      "  check_min_max_scaling(\n",
      "/u/81/mirandi1/unix/.local/lib/python3.10/site-packages/botorch/models/utils/assorted.py:260: InputDataWarning: Data is not standardized (std = tensor([1.3312], dtype=torch.float64), mean = tensor([1.5041], dtype=torch.float64)). Please consider scaling the input to zero mean and unit variance.\n",
      "  check_standardization(Y=train_Y, raise_on_fail=raise_on_fail)\n"
     ]
    },
    {
     "name": "stdout",
     "output_type": "stream",
     "text": [
      "Exploitation 136/200 - New sample: [4.63290714 5.43807115 0.38187279], Objective value: 0.0631134826262302\n",
      "Exploitation 137/200 - New sample: [6.88205997 6.34875794 1.        ], Objective value: -3.4377025313822793\n"
     ]
    },
    {
     "name": "stderr",
     "output_type": "stream",
     "text": [
      "/u/81/mirandi1/unix/.local/lib/python3.10/site-packages/botorch/models/utils/assorted.py:257: InputDataWarning: Input data is not contained to the unit cube. Please consider min-max scaling the input data.\n",
      "  check_min_max_scaling(\n",
      "/u/81/mirandi1/unix/.local/lib/python3.10/site-packages/botorch/models/utils/assorted.py:260: InputDataWarning: Data is not standardized (std = tensor([1.3286], dtype=torch.float64), mean = tensor([1.5010], dtype=torch.float64)). Please consider scaling the input to zero mean and unit variance.\n",
      "  check_standardization(Y=train_Y, raise_on_fail=raise_on_fail)\n"
     ]
    },
    {
     "name": "stdout",
     "output_type": "stream",
     "text": [
      "Exploitation 138/200 - New sample: [5.76205952 5.65214976 0.38164105], Objective value: -2.955093864101687\n"
     ]
    },
    {
     "name": "stderr",
     "output_type": "stream",
     "text": [
      "/u/81/mirandi1/unix/.local/lib/python3.10/site-packages/botorch/models/utils/assorted.py:257: InputDataWarning: Input data is not contained to the unit cube. Please consider min-max scaling the input data.\n",
      "  check_min_max_scaling(\n",
      "/u/81/mirandi1/unix/.local/lib/python3.10/site-packages/botorch/models/utils/assorted.py:260: InputDataWarning: Data is not standardized (std = tensor([1.3320], dtype=torch.float64), mean = tensor([1.5104], dtype=torch.float64)). Please consider scaling the input to zero mean and unit variance.\n",
      "  check_standardization(Y=train_Y, raise_on_fail=raise_on_fail)\n"
     ]
    },
    {
     "name": "stdout",
     "output_type": "stream",
     "text": [
      "Exploitation 139/200 - New sample: [4.64253505 5.43877303 0.36959766], Objective value: -0.2581825682373638\n"
     ]
    },
    {
     "name": "stderr",
     "output_type": "stream",
     "text": [
      "/u/81/mirandi1/unix/.local/lib/python3.10/site-packages/botorch/models/utils/assorted.py:257: InputDataWarning: Input data is not contained to the unit cube. Please consider min-max scaling the input data.\n",
      "  check_min_max_scaling(\n",
      "/u/81/mirandi1/unix/.local/lib/python3.10/site-packages/botorch/models/utils/assorted.py:260: InputDataWarning: Data is not standardized (std = tensor([1.3297], dtype=torch.float64), mean = tensor([1.5140], dtype=torch.float64)). Please consider scaling the input to zero mean and unit variance.\n",
      "  check_standardization(Y=train_Y, raise_on_fail=raise_on_fail)\n"
     ]
    },
    {
     "name": "stdout",
     "output_type": "stream",
     "text": [
      "Exploitation 140/200 - New sample: [4.62100425 5.39636457 0.39367653], Objective value: -1.5009742766832423\n"
     ]
    },
    {
     "name": "stderr",
     "output_type": "stream",
     "text": [
      "/u/81/mirandi1/unix/.local/lib/python3.10/site-packages/botorch/models/utils/assorted.py:257: InputDataWarning: Input data is not contained to the unit cube. Please consider min-max scaling the input data.\n",
      "  check_min_max_scaling(\n",
      "/u/81/mirandi1/unix/.local/lib/python3.10/site-packages/botorch/models/utils/assorted.py:260: InputDataWarning: Data is not standardized (std = tensor([1.3306], dtype=torch.float64), mean = tensor([1.5214], dtype=torch.float64)). Please consider scaling the input to zero mean and unit variance.\n",
      "  check_standardization(Y=train_Y, raise_on_fail=raise_on_fail)\n"
     ]
    },
    {
     "name": "stdout",
     "output_type": "stream",
     "text": [
      "Exploitation 141/200 - New sample: [4.62907824 5.46053253 0.40871496], Objective value: -0.6805600469910777\n"
     ]
    },
    {
     "name": "stderr",
     "output_type": "stream",
     "text": [
      "/u/81/mirandi1/unix/.local/lib/python3.10/site-packages/botorch/models/utils/assorted.py:257: InputDataWarning: Input data is not contained to the unit cube. Please consider min-max scaling the input data.\n",
      "  check_min_max_scaling(\n",
      "/u/81/mirandi1/unix/.local/lib/python3.10/site-packages/botorch/models/utils/assorted.py:260: InputDataWarning: Data is not standardized (std = tensor([1.3273], dtype=torch.float64), mean = tensor([1.5215], dtype=torch.float64)). Please consider scaling the input to zero mean and unit variance.\n",
      "  check_standardization(Y=train_Y, raise_on_fail=raise_on_fail)\n"
     ]
    },
    {
     "name": "stdout",
     "output_type": "stream",
     "text": [
      "Exploitation 142/200 - New sample: [5.92472896 5.42409302 0.16080603], Objective value: -2.2544806025748674\n"
     ]
    },
    {
     "name": "stderr",
     "output_type": "stream",
     "text": [
      "/u/81/mirandi1/unix/.local/lib/python3.10/site-packages/botorch/models/utils/assorted.py:257: InputDataWarning: Input data is not contained to the unit cube. Please consider min-max scaling the input data.\n",
      "  check_min_max_scaling(\n",
      "/u/81/mirandi1/unix/.local/lib/python3.10/site-packages/botorch/models/utils/assorted.py:260: InputDataWarning: Data is not standardized (std = tensor([1.3241], dtype=torch.float64), mean = tensor([1.5222], dtype=torch.float64)). Please consider scaling the input to zero mean and unit variance.\n",
      "  check_standardization(Y=train_Y, raise_on_fail=raise_on_fail)\n"
     ]
    },
    {
     "name": "stdout",
     "output_type": "stream",
     "text": [
      "Exploitation 143/200 - New sample: [5.51681206 5.32178097 0.3458786 ], Objective value: -2.121828107011103\n"
     ]
    },
    {
     "name": "stderr",
     "output_type": "stream",
     "text": [
      "/u/81/mirandi1/unix/.local/lib/python3.10/site-packages/botorch/models/utils/assorted.py:257: InputDataWarning: Input data is not contained to the unit cube. Please consider min-max scaling the input data.\n",
      "  check_min_max_scaling(\n",
      "/u/81/mirandi1/unix/.local/lib/python3.10/site-packages/botorch/models/utils/assorted.py:260: InputDataWarning: Data is not standardized (std = tensor([1.3286], dtype=torch.float64), mean = tensor([1.5321], dtype=torch.float64)). Please consider scaling the input to zero mean and unit variance.\n",
      "  check_standardization(Y=train_Y, raise_on_fail=raise_on_fail)\n"
     ]
    },
    {
     "name": "stdout",
     "output_type": "stream",
     "text": [
      "Exploitation 144/200 - New sample: [4.62359633 5.43815329 0.38031154], Objective value: -0.06973065870612832\n"
     ]
    },
    {
     "name": "stderr",
     "output_type": "stream",
     "text": [
      "/u/81/mirandi1/unix/.local/lib/python3.10/site-packages/botorch/models/utils/assorted.py:257: InputDataWarning: Input data is not contained to the unit cube. Please consider min-max scaling the input data.\n",
      "  check_min_max_scaling(\n",
      "/u/81/mirandi1/unix/.local/lib/python3.10/site-packages/botorch/models/utils/assorted.py:260: InputDataWarning: Data is not standardized (std = tensor([1.3263], dtype=torch.float64), mean = tensor([1.5354], dtype=torch.float64)). Please consider scaling the input to zero mean and unit variance.\n",
      "  check_standardization(Y=train_Y, raise_on_fail=raise_on_fail)\n"
     ]
    },
    {
     "name": "stdout",
     "output_type": "stream",
     "text": [
      "Exploitation 145/200 - New sample: [4.65618245 5.47202068 0.35500137], Objective value: -1.5296029461905516\n"
     ]
    },
    {
     "name": "stderr",
     "output_type": "stream",
     "text": [
      "/u/81/mirandi1/unix/.local/lib/python3.10/site-packages/botorch/models/utils/assorted.py:257: InputDataWarning: Input data is not contained to the unit cube. Please consider min-max scaling the input data.\n",
      "  check_min_max_scaling(\n",
      "/u/81/mirandi1/unix/.local/lib/python3.10/site-packages/botorch/models/utils/assorted.py:260: InputDataWarning: Data is not standardized (std = tensor([1.3272], dtype=torch.float64), mean = tensor([1.5426], dtype=torch.float64)). Please consider scaling the input to zero mean and unit variance.\n",
      "  check_standardization(Y=train_Y, raise_on_fail=raise_on_fail)\n"
     ]
    },
    {
     "name": "stdout",
     "output_type": "stream",
     "text": [
      "Exploitation 146/200 - New sample: [4.66020441 5.41424155 0.38804611], Objective value: -0.6484235235749055\n"
     ]
    },
    {
     "name": "stderr",
     "output_type": "stream",
     "text": [
      "/u/81/mirandi1/unix/.local/lib/python3.10/site-packages/botorch/models/utils/assorted.py:257: InputDataWarning: Input data is not contained to the unit cube. Please consider min-max scaling the input data.\n",
      "  check_min_max_scaling(\n",
      "/u/81/mirandi1/unix/.local/lib/python3.10/site-packages/botorch/models/utils/assorted.py:260: InputDataWarning: Data is not standardized (std = tensor([1.3288], dtype=torch.float64), mean = tensor([1.5503], dtype=torch.float64)). Please consider scaling the input to zero mean and unit variance.\n",
      "  check_standardization(Y=train_Y, raise_on_fail=raise_on_fail)\n"
     ]
    },
    {
     "name": "stdout",
     "output_type": "stream",
     "text": [
      "Exploitation 147/200 - New sample: [4.6562055  5.41727063 0.38709114], Objective value: -0.512596346573923\n"
     ]
    },
    {
     "name": "stderr",
     "output_type": "stream",
     "text": [
      "/u/81/mirandi1/unix/.local/lib/python3.10/site-packages/botorch/models/utils/assorted.py:257: InputDataWarning: Input data is not contained to the unit cube. Please consider min-max scaling the input data.\n",
      "  check_min_max_scaling(\n",
      "/u/81/mirandi1/unix/.local/lib/python3.10/site-packages/botorch/models/utils/assorted.py:260: InputDataWarning: Data is not standardized (std = tensor([1.3295], dtype=torch.float64), mean = tensor([1.5572], dtype=torch.float64)). Please consider scaling the input to zero mean and unit variance.\n",
      "  check_standardization(Y=train_Y, raise_on_fail=raise_on_fail)\n"
     ]
    },
    {
     "name": "stdout",
     "output_type": "stream",
     "text": [
      "Exploitation 148/200 - New sample: [4.66489602 5.41559297 0.3941938 ], Objective value: -0.6657284624962705\n",
      "Exploitation 149/200 - New sample: [4.65056386 5.41902524 0.39110823], Objective value: -0.5891855011443619\n",
      "Stopping early due to no significant improvement (>0.0001) in the last 100 iterations.\n"
     ]
    },
    {
     "name": "stderr",
     "output_type": "stream",
     "text": [
      "/u/81/mirandi1/unix/.local/lib/python3.10/site-packages/botorch/models/utils/assorted.py:257: InputDataWarning: Input data is not contained to the unit cube. Please consider min-max scaling the input data.\n",
      "  check_min_max_scaling(\n",
      "/u/81/mirandi1/unix/.local/lib/python3.10/site-packages/botorch/models/utils/assorted.py:260: InputDataWarning: Data is not standardized (std = tensor([1.3305], dtype=torch.float64), mean = tensor([1.5645], dtype=torch.float64)). Please consider scaling the input to zero mean and unit variance.\n",
      "  check_standardization(Y=train_Y, raise_on_fail=raise_on_fail)\n"
     ]
    }
   ],
   "source": [
    "import time as timer\n",
    "\n",
    "# Exploitation phase using qEI\n",
    "n_exploitation_iter = 200 # Number of iterations\n",
    "new_indices = []  # To keep track of new points added during exploitation\n",
    "objective_values = list(y_samples)  # Track original (not scaled) objective values\n",
    "\n",
    "# Initialize timing variables\n",
    "times_per_iteration = []\n",
    "cumulative_time = 0\n",
    "\n",
    "# Stop condition parameters\n",
    "no_improvement_limit = 100  # Stop if no improvement after 50 iterations\n",
    "no_improvement_counter = 0\n",
    "best_objective_value = float('inf')  # Assuming we're minimizing\n",
    "tolerance = 1e-4  # Minimum improvement required to reset the counter\n",
    "\n",
    "for i in range(n_exploitation_iter):\n",
    "    new_candidates = compute_qei_acquisition_function(model, y_samples_tensor, bounds)\n",
    "    new_sample = new_candidates.detach().cpu().numpy().reshape(-1)\n",
    "    new_sample_y = objective(new_sample)\n",
    "    \n",
    "    # Apply scaling to the new y value\n",
    "    new_sample_y_scaled = scaler.transform(np.array([new_sample_y]).reshape(-1, 1)).flatten()[0]\n",
    "    \n",
    "    # Append the new sample to the samples and objective values (both original and scaled)\n",
    "    new_indices.append(len(y_samples))  # Save the index of the new sample\n",
    "    X_samples = np.vstack([X_samples, new_sample])\n",
    "    y_samples = np.append(y_samples, new_sample_y)  # Original scale objective values\n",
    "    y_samples_scaled = np.append(y_samples_scaled, new_sample_y_scaled)  # Scaled objective values\n",
    "    \n",
    "    # Update tensors\n",
    "    X_samples_tensor = torch.tensor(X_samples, dtype=torch.double)\n",
    "    y_samples_tensor = torch.tensor(y_samples_scaled, dtype=torch.double)\n",
    "\n",
    "    # Append the objective value to the list (original scale)\n",
    "    objective_values.append(new_sample_y)\n",
    "    \n",
    "    # Update the model with the new data\n",
    "    mll, model = initialize_model(X_samples_tensor, y_samples_tensor)\n",
    "    start_time = timer.time()\n",
    "\n",
    "    fit_gpytorch_mll(mll)\n",
    "    \n",
    "    # Record iteration time\n",
    "    iteration_time = timer.time() - start_time\n",
    "    times_per_iteration.append(iteration_time)\n",
    "    cumulative_time += iteration_time\n",
    "    \n",
    "    print(f\"Exploitation {i + 1}/{n_exploitation_iter} - New sample: {new_sample}, Objective value: {new_sample_y}\")\n",
    "    \n",
    "    # Check stop condition based on no improvement with tolerance\n",
    "    improvement = best_objective_value - new_sample_y\n",
    "    if improvement > tolerance:\n",
    "        best_objective_value = new_sample_y\n",
    "        no_improvement_counter = 0\n",
    "    else:\n",
    "        no_improvement_counter += 1\n",
    "\n",
    "    if no_improvement_counter >= no_improvement_limit:\n",
    "        print(f\"Stopping early due to no significant improvement (>{tolerance}) in the last {no_improvement_limit} iterations.\")\n",
    "        break"
   ]
  },
  {
   "cell_type": "markdown",
   "id": "e4f7d9e7-3e21-4ba7-b372-628c85c177d2",
   "metadata": {},
   "source": [
    "## Visualizing Optimization Progress\n",
    "\n",
    "In this section, we plot the negative of the objective function values as a function of the number of iterations. This helps us visually assess the optimization progress and the performance of the Sobol and Expected Improvement (EI) sampling strategies.\n",
    "\n",
    "### Steps Involved in the Plotting Process:\n",
    "\n",
    "1. **Configure the Plot**:\n",
    "   We set the figure size and layout for constrained layout setting for better spacing.\n",
    "   \n",
    "2. **Prepare Data for Plotting**:\n",
    "   - We create an array representing the iterations.\n",
    "   - We negate the objective function values (`neg_objective_values`) because we are minimizing the objective, and lower values represent better performance.\n",
    "\n",
    "3. **Plot the Sobol and EI Samples**:\n",
    "   - Plot the initial Sobol samples in one color (`#89BFA9`), marking them as 'Sobol'.\n",
    "   - Plot the subsequent EI samples in another color (`#60568A`), marking them as 'EI'.\n",
    "\n",
    "4. **Customize Plot Appearance**:\n",
    "   - Set the limits for the x-axis.\n",
    "   - Label the x-axis as the number of iterations (`$n$`).\n",
    "   - Label the y-axis as the log of the Residual Sum of Squares (RSS) weighted by true values (`$\\\\log$ RSS$_{w_{i}}$`).\n",
    "   - Customize the font size of axis labels and tick labels.\n",
    "   - Add a legend to distinguish between Sobol and EI samples.\n",
    "  \n",
    "5. **Display the Plot**:\n",
    "   - Show the plot using `plt.show()`.\n",
    "   \n",
    "6. **Print the Minimum Objective Value**:\n",
    "   - Print the minimum value of the negated objective values to see the best objective value achieved during the optimization process.\n"
   ]
  },
  {
   "cell_type": "code",
   "execution_count": 6,
   "id": "0b1b04c2-0b3c-41d9-8d47-0c04266243f3",
   "metadata": {},
   "outputs": [
    {
     "data": {
      "image/png": "[encoded data removed]",
      "text/plain": [
       "<Figure size 300x275 with 1 Axes>"
      ]
     },
     "metadata": {},
     "output_type": "display_data"
    },
    {
     "name": "stdout",
     "output_type": "stream",
     "text": [
      "The minimum value of the objective function in log10 scale is -0.0631\n",
      "Cumulative time for all iterations: 9.9937 seconds\n"
     ]
    },
    {
     "data": {
      "image/png": "[encoded data removed]",
      "text/plain": [
       "<Figure size 300x275 with 1 Axes>"
      ]
     },
     "metadata": {},
     "output_type": "display_data"
    }
   ],
   "source": [
    "# Plotting the negative of the objective as a function of iterations\n",
    "\n",
    "# Configure the Figure\n",
    "plt.figure(figsize=(3, 2.75), constrained_layout=True)\n",
    "\n",
    "# Prepare Data for Plotting\n",
    "iterations = np.arange(len(objective_values))             # Array of iteration indices\n",
    "neg_objective_values = -np.array(objective_values)        # Convert back to original scale by multiplying by -1\n",
    "\n",
    "# Plot Initial Sobol Samples\n",
    "plt.plot(\n",
    "    iterations[:n_initial_points], \n",
    "    neg_objective_values[:n_initial_points], \n",
    "    'o', \n",
    "    markersize=8, \n",
    "    label='Sobol', \n",
    "    color='#89BFA9'\n",
    ")\n",
    "\n",
    "# Plot EI Samples\n",
    "plt.plot(\n",
    "    iterations[n_initial_points:], \n",
    "    neg_objective_values[n_initial_points:], \n",
    "    'o', \n",
    "    markersize=8, \n",
    "    label='logEI', \n",
    "    color='#60568A'\n",
    ")\n",
    "\n",
    "# Customize Plot Appearance\n",
    "#plt.xlim(0, 21)                                          # Set x-axis limit\n",
    "#plt.ylim(-1, 6)                                        # Uncomment and set y-axis limit if needed\n",
    "plt.xlabel('$n$', fontsize=14)                            # X-axis label\n",
    "plt.ylabel('$\\\\log$ RSS$_{w_{i}}$', fontsize=14)           # Y-axis label\n",
    "plt.xticks(fontsize=14)                                   # X-axis tick label size\n",
    "plt.yticks(fontsize=14)                                   # Y-axis tick label size\n",
    "plt.legend(fontsize=14, loc=\"best\")                       # Display legend\n",
    "\n",
    "# Display the Plot\n",
    "plt.savefig(\"fig_ei_creep_polystyrene190.pdf\")                    # Uncomment to save the plot\n",
    "plt.show()\n",
    "\n",
    "# Print the Minimum Objective Value\n",
    "print(f\"The minimum value of the objective function in log10 scale is {np.min(neg_objective_values):.4f}\")\n",
    "\n",
    "# Plotting the time per iteration\n",
    "plt.figure(figsize=(3, 2.75))\n",
    "plt.plot(times_per_iteration, 'o', markersize=8, color='#60568A')\n",
    "plt.xlabel('$n$', fontsize=14)                            # X-axis label\n",
    "plt.ylabel('$t$ [s]', fontsize=14)           # Y-axis label\n",
    "plt.xticks(fontsize=14)                                   # X-axis tick label size\n",
    "plt.yticks(fontsize=14)                                   # Y-axis tick label size\n",
    "#plt.legend(fontsize=14, loc=\"best\")                       # Display legend\n",
    "\n",
    "# Printing the cumulative time\n",
    "print(f\"Cumulative time for all iterations: {cumulative_time:.4f} seconds\")"
   ]
  },
  {
   "cell_type": "markdown",
   "id": "1e9cf156-36d1-4701-aed2-d891e73e33cc",
   "metadata": {},
   "source": [
    "## Fitting and Visualizing the Model with Best Parameters from Bayesian Optimization\n",
    "\n",
    "In this section, we:\n",
    "1. Define the fractional model evaluator.\n",
    "2. Extract and print the best parameters obtained from the Bayesian Optimization (BO) phase.\n",
    "3. Fit the model using the best parameters and compute the model values.\n",
    "4. Calculate the Residual Sum of Squares (RSS) for the fitted model.\n",
    "5. Plot the original data, the fitted model from Bayesian Optimization, and the optimized model.\n"
   ]
  },
  {
   "cell_type": "code",
   "execution_count": 7,
   "id": "a7e62b49-80e8-4938-b4e1-78d32bc750cf",
   "metadata": {},
   "outputs": [
    {
     "name": "stdout",
     "output_type": "stream",
     "text": [
      "Best parameters from Bayesian Optimization: G = 42944.46, eta = 274202.34, beta = 0.38\n",
      "RSS_w for the Bayesian Optimization model: 0.86474\n"
     ]
    },
    {
     "data": {
      "image/png": "[encoded data removed]",
      "text/plain": [
       "<Figure size 300x275 with 1 Axes>"
      ]
     },
     "metadata": {},
     "output_type": "display_data"
    }
   ],
   "source": [
    "from cycler import cycler  # Import the cycler for customizing plot cycles\n",
    "\n",
    "# Define model evaluator\n",
    "fractional_model_name = \"FractionalMaxwellLiquid\"\n",
    "evaluator = CreepEvaluator(model=fractional_model_name)\n",
    "\n",
    "# Extract the best parameters from Bayesian Optimization phase\n",
    "best_idx = np.argmax(y_samples)\n",
    "best_params = X_samples[best_idx]\n",
    "logG_best, logeta_best, beta_best = best_params\n",
    "G_best_bo = 10 ** logG_best\n",
    "eta_best_bo = 10 ** logeta_best\n",
    "\n",
    "# Print the best parameters from Bayesian Optimization\n",
    "print(\"Best parameters from Bayesian Optimization: G = {:.2f}, eta = {:.2f}, beta = {:.2f}\".format(G_best_bo, eta_best_bo, beta_best))\n",
    "\n",
    "# Fit the model with the best parameters from Bayesian Optimization\n",
    "best_params_no_scale = G_best_bo, eta_best_bo, beta_best\n",
    "bo_model_values = evaluator.compute_model(best_params_no_scale, time)\n",
    "\n",
    "# Compute the RSS for the Bayesian Optimization model\n",
    "rss_bo = np.sum(((y_true - bo_model_values) / y_true) ** 2)\n",
    "print(f\"RSS_w for the Bayesian Optimization model: {rss_bo:.5f}\")\n",
    "\n",
    "# Get the default color cycle\n",
    "colors = plt.rcParams['axes.prop_cycle'].by_key()['color']\n",
    "\n",
    "# Plot the data, the fitted model from Bayesian Optimization, and the final optimized model\n",
    "plt.figure(figsize=(3.0, 2.75), constrained_layout=True)\n",
    "plt.plot(time, y_true, 'o', markersize=8, color='#89BFA9', label='$J(t)$')  # Original data\n",
    "plt.plot(time, bo_model_values, '-', color='#60568A', lw=2, label='BO')   # BO model fit\n",
    "\n",
    "# Configure the plot\n",
    "plt.xscale('log')\n",
    "plt.yscale('log')\n",
    "plt.xlabel('$t$ [s]', fontsize=14)\n",
    "plt.ylabel(r'$J(t)$ [Pa$^{-1}$]', fontsize=14)\n",
    "plt.xticks(fontsize=14)\n",
    "plt.yticks(fontsize=14)\n",
    "plt.legend(fontsize=14, loc=\"best\")\n",
    "\n",
    "# Display the plot\n",
    "plt.savefig(\"fig_bo_fit_creep_data_polystyrene190.pdf\")  # Uncomment to save the plot\n",
    "plt.show()"
   ]
  },
  {
   "cell_type": "markdown",
   "id": "e0b39e1f-73a2-4a1f-a8ac-85ead62951ac",
   "metadata": {},
   "source": [
    "## Visualizing Surrogate Model Predictions for Different parameter Values\n",
    "\n",
    "In this section, we:\n",
    "1. Define a function to predict model outputs on a 2D grid of parameters.\n",
    "2. Evaluate the model on a grid for various fixed beta values.\n",
    "3. Create contour plots for each beta value showing the predictions of the model.\n",
    "4. Identify and display the global minima for each beta value."
   ]
  },
  {
   "cell_type": "code",
   "execution_count": 8,
   "id": "75d8f269-6140-4083-b06f-9b84f555ab4d",
   "metadata": {},
   "outputs": [
    {
     "data": {
      "image/png": "[encoded data removed]",
      "text/plain": [
       "<Figure size 900x550 with 7 Axes>"
      ]
     },
     "metadata": {},
     "output_type": "display_data"
    }
   ],
   "source": [
    "import matplotlib.colors as mcolors\n",
    "\n",
    "def predict_model_on_grid_2D(model, param_space, beta_value, resolution=100):\n",
    "    \"\"\"\n",
    "    Predict the model outputs on a 2D grid over logG and log_eta with a fixed beta value.\n",
    "    \"\"\"\n",
    "    # Create a 2D mesh grid over logG and log_eta\n",
    "    logG_range = torch.linspace(param_space[0, 0], param_space[0, 1], resolution)\n",
    "    logV_range = torch.linspace(param_space[1, 0], param_space[1, 1], resolution)\n",
    "\n",
    "    logG_grid, logV_grid = torch.meshgrid(logG_range, logV_range, indexing=\"ij\")\n",
    "    beta_grid = torch.full_like(logG_grid, beta_value)  # Keep beta fixed\n",
    "\n",
    "    param_grid = torch.stack([logG_grid.reshape(-1), logV_grid.reshape(-1), beta_grid.reshape(-1)], dim=-1)\n",
    "\n",
    "    # Predict using the trained model\n",
    "    with torch.no_grad():\n",
    "        preds_1 = model.posterior(param_grid).mean.numpy().reshape(logG_grid.shape)\n",
    "\n",
    "    return logG_grid, logV_grid, preds_1\n",
    "\n",
    "# Define specific beta values to plot\n",
    "beta_values = [0.5, 0.4, 0.3, 0.2, 0.1, 0.0]\n",
    "resolution = 100\n",
    "\n",
    "# Ensure these values are correctly calculated\n",
    "min_val, max_val = (-max(objective_values), -min(objective_values))\n",
    "\n",
    "# Create subplots for each beta value\n",
    "fig, axes = plt.subplots(2, 3, figsize=(9, 5.5), constrained_layout=True)\n",
    "contours_list = []\n",
    "global_minima = []  # To store global minima parameters\n",
    "\n",
    "for ax, beta in zip(axes.flatten(), beta_values):\n",
    "    logG_grid, logV_grid, preds_obj1 = predict_model_on_grid_2D(model, param_space, beta, resolution)\n",
    "    \n",
    "    # Convert logG and logV to G and V\n",
    "    G = 10 ** logG_grid.numpy()\n",
    "    V = 10 ** logV_grid.numpy()\n",
    "\n",
    "    # Take negative predictions because of the sign inversion\n",
    "    neg_preds_obj1 = -1 * scaler.inverse_transform(preds_obj1)\n",
    "    \n",
    "    # Find global minima\n",
    "    min_index = np.unravel_index(neg_preds_obj1.argmin(), neg_preds_obj1.shape)\n",
    "    global_min_logG = logG_grid[min_index]\n",
    "    global_min_logV = logV_grid[min_index]\n",
    "    global_min_G = 10 ** global_min_logG\n",
    "    global_min_V = 10 ** global_min_logV\n",
    "    global_min_value = neg_preds_obj1[min_index]\n",
    "    global_minima.append((global_min_G.item(), global_min_V.item(), 10 ** global_min_value))\n",
    "    \n",
    "    # Create the 2D contour plot\n",
    "    contour = ax.contourf(G, V, neg_preds_obj1, levels=100, vmin=min_val, vmax=max_val, cmap='YlGnBu_r')\n",
    "    contours_list.append(contour)\n",
    "    ax.contour(G, V, neg_preds_obj1, levels=10, colors='black', linewidths=0.5)\n",
    "    ax.set_xscale('log')\n",
    "    ax.set_yscale('log')\n",
    "    ax.tick_params(axis='both', which='major', labelsize=14)\n",
    "    ax.set_title(f'$\\\\beta$ = {beta}', fontsize=14)\n",
    "\n",
    "# Create a ScalarMappable for the colorbar\n",
    "norm = mcolors.Normalize(vmin=min_val, vmax=max_val)\n",
    "sm = plt.cm.ScalarMappable(cmap='YlGnBu_r', norm=norm)\n",
    "sm.set_array([])  # Only needed for ScalarMappable\n",
    "\n",
    "# Add a single colorbar for all subplots\n",
    "cbar = fig.colorbar(sm, ax=axes, location='right', aspect=20, pad=0.02, format='%.2f')\n",
    "cbar.set_label('$\\\\log$ RSS$_{w_{i}}$', fontsize=14)\n",
    "cbar.ax.tick_params(labelsize=14)\n",
    "\n",
    "# Add common labels\n",
    "fig.text(0.5, -0.05, '$\\mathbb{G}$ [Pa s$^{\\\\beta}$]', ha='center', va='center', fontsize=14)\n",
    "fig.text(-0.01, 0.5, '$\\eta$ [Pa s]', ha='center', va='center', rotation='vertical', fontsize=14)\n",
    "\n",
    "# Save the plot and show\n",
    "plt.savefig(\"fig_obj1_creep_polystyrene190.pdf\")\n",
    "plt.show()"
   ]
  },
  {
   "cell_type": "code",
   "execution_count": 9,
   "id": "520a6684-d639-48cc-bea6-34c4f053ec38",
   "metadata": {},
   "outputs": [],
   "source": [
    "# Objective function to minimize (RRS weighted by true values)\n",
    "def objective_minimize(params, time, y_true):\n",
    "    logG, logV, beta = params\n",
    "    G = 10 ** logG\n",
    "    V = 10 ** logV\n",
    "    params_no_scale = G, V, beta\n",
    "    model = \"FractionalMaxwellLiquid\"\n",
    "    evaluator = CreepEvaluator(model=model)\n",
    "    \n",
    "    # Compute oscillation data\n",
    "    model_values = evaluator.compute_model(params_no_scale, time)\n",
    "    \n",
    "    # Add noise\n",
    "    error = createRandomError(time.shape[0], 0.02)\n",
    "    model_values_noisy = np.multiply(model_values, error)\n",
    "    \n",
    "    # Define objective function: sum of squared relative errors for G' and G''\n",
    "    obj1 = np.sum(((y_true - model_values_noisy) / y_true) ** 2)\n",
    "    \n",
    "    return obj1  # Return the raw error (we no longer need the -log10)\n",
    "\n",
    "def callback(params):\n",
    "    obj_value = objective_minimize(params, time, y_true)\n",
    "    current_errors.append(obj_value)"
   ]
  },
  {
   "cell_type": "code",
   "execution_count": 10,
   "id": "a726b9d9-d493-4bb7-b411-e8bfa9709eff",
   "metadata": {},
   "outputs": [
    {
     "name": "stdout",
     "output_type": "stream",
     "text": [
      "Running optimization with method: Nelder-Mead\n"
     ]
    },
    {
     "name": "stderr",
     "output_type": "stream",
     "text": [
      "/tmp/ipykernel_41469/1822520037.py:37: RuntimeWarning: Maximum number of function evaluations has been exceeded.\n",
      "  res = minimize(\n"
     ]
    },
    {
     "name": "stdout",
     "output_type": "stream",
     "text": [
      "Final time for all iterations: 1.4953 seconds\n"
     ]
    }
   ],
   "source": [
    "import numpy as np\n",
    "from scipy.optimize import minimize\n",
    "\n",
    "custom_bounds = [(low, high) if i < 2 else (low, high) for i, (low, high) in enumerate(param_space)]\n",
    "\n",
    "\n",
    "np.random.seed(42)\n",
    "initial_guesses = np.random.uniform(param_space[:, 0], param_space[:, 1], (5, 3))\n",
    "initial_guesses_list = initial_guesses.tolist()\n",
    "\n",
    "\n",
    "# Define lists to store optimization results and errors\n",
    "all_errors = []\n",
    "results = []\n",
    "\n",
    "# List of optimization methods to try\n",
    "methods = ['Nelder-Mead']\n",
    "\n",
    "start_time_NM = timer.time()\n",
    "\n",
    "\n",
    "for method in methods:\n",
    "    print(f\"Running optimization with method: {method}\")\n",
    "    for initial_guess in initial_guesses_list:\n",
    "        current_errors = []\n",
    "        \n",
    "        # Adjust options based on the method\n",
    "        options = {'disp': True, 'maxiter': 1000}\n",
    "        if method == 'Nelder-Mead':\n",
    "            options.update({'xatol': 1e-9, 'fatol': 1e-9, 'maxfev': 2000})\n",
    "        elif method in ['L-BFGS-B', 'TNC', 'SLSQP']:\n",
    "            options.update({'ftol': 1e-9})\n",
    "\n",
    "        # Bounds are only passed if the method supports them\n",
    "        bounds = custom_bounds if method in ['L-BFGS-B', 'TNC', 'SLSQP', 'Powell'] else None\n",
    "        \n",
    "        res = minimize(\n",
    "            objective_minimize,\n",
    "            initial_guess,\n",
    "            args=(time, y_true),\n",
    "            method=method,\n",
    "            bounds=bounds,\n",
    "            callback=callback if method != 'TNC' else None,  # TNC does not support callback\n",
    "            options=options\n",
    "        )\n",
    "        \n",
    "        results.append({'method': method, 'result': res})\n",
    "        all_errors.append({'method': method, 'errors': current_errors})\n",
    "\n",
    "final_time_NM = timer.time() - start_time_NM \n",
    "\n",
    "# Printing the cumulative time\n",
    "print(f\"Final time for all iterations: {final_time_NM:.4f} seconds\")\n",
    "\n",
    "# Extracting function values and optimized parameters\n",
    "function_values = [res['result'].fun for res in results]\n",
    "optimized_parameters = [res['result'].x for res in results]"
   ]
  },
  {
   "cell_type": "code",
   "execution_count": 11,
   "id": "3e271ca6-1f20-42dd-97d9-05847bccf333",
   "metadata": {},
   "outputs": [
    {
     "data": {
      "image/png": "[encoded data removed]",
      "text/plain": [
       "<Figure size 300x275 with 1 Axes>"
      ]
     },
     "metadata": {},
     "output_type": "display_data"
    }
   ],
   "source": [
    "# Filter errors by method\n",
    "nm_errors = [err['errors'] for err in all_errors if err['method'] == 'Nelder-Mead']\n",
    "#powell_errors = [err['errors'] for err in all_errors if err['method'] == 'Powell']\n",
    "#lbfgsb_errors = [err['errors'] for err in all_errors if err['method'] == 'L-BFGS-B']\n",
    "\n",
    "# Configure the Figure\n",
    "plt.figure(figsize=(3, 2.75), constrained_layout=True)\n",
    "\n",
    "# Plot errors for Nelder-Mead runs\n",
    "for i, error_list in enumerate(nm_errors):\n",
    "    plt.plot(\n",
    "        np.log10(error_list), \n",
    "        '-', \n",
    "        markersize=4,\n",
    "        color='#FF8C42',               # Orange for Nelder-Mead\n",
    "        label='NM' if i == 0 else \"\"  # Label only the first run\n",
    "    )\n",
    "\n",
    "# Plot errors for L-BFGS-B runs\n",
    "#for i, error_list in enumerate(lbfgsb_errors):\n",
    "#    plt.plot(\n",
    "#        np.log10(error_list), \n",
    "#        '-',                         # Dashed line for L-BFGS-B\n",
    "#        markersize=4,\n",
    "#        color='#1F77B4',              # Blue for L-BFGS-B\n",
    "#        label='L-BFGS-B' if i == 0 else \"\"     # Label only the first run\n",
    "#    )\n",
    "\n",
    "# Plot Initial Sobol Samples\n",
    "plt.plot(\n",
    "    iterations[:n_initial_points], \n",
    "    neg_objective_values[:n_initial_points], \n",
    "    'o', \n",
    "    markersize=8, \n",
    "    label='Sobol', \n",
    "    color='#89BFA9'\n",
    ")\n",
    "\n",
    "# Plot EI Samples\n",
    "plt.plot(\n",
    "    iterations[n_initial_points:], \n",
    "    neg_objective_values[n_initial_points:], \n",
    "    'o', \n",
    "    markersize=8, \n",
    "    label='logEI', \n",
    "    color='#60568A'\n",
    ")\n",
    "\n",
    "\n",
    "# Customize Plot Appearance\n",
    "plt.xlim(0, 300)                                          # Set x-axis limit\n",
    "plt.ylim(-0, 5)                                        # Uncomment and set y-axis limit if needed\n",
    "plt.xlabel('$n$', fontsize=14)                            # X-axis label\n",
    "plt.ylabel('$\\\\log$ RSS$_{w_{i}=y_{i}}$', fontsize=14)           # Y-axis label\n",
    "plt.xticks(fontsize=14)                                   # X-axis tick label size\n",
    "plt.yticks(fontsize=14)                                   # Y-axis tick label size\n",
    "plt.legend(fontsize=12, loc=\"upper right\", ncols=2, columnspacing=0.1, \n",
    "           #bbox_to_anchor=(1.05, 1)\n",
    "          )                       # Display legend\n",
    "\n",
    "# Display the Plot\n",
    "plt.savefig(\"fig_ei_creep_polystyrene190_comparison.pdf\")                    # Uncomment to save the plot\n",
    "plt.show()"
   ]
  },
  {
   "cell_type": "code",
   "execution_count": 12,
   "id": "21e0a58c-9570-4802-93b8-eb787873e043",
   "metadata": {},
   "outputs": [
    {
     "name": "stdout",
     "output_type": "stream",
     "text": [
      "Best Nelder-Mead Parameters: [4.94037536 5.51937929 0.63333403]\n",
      "Best Nelder-Mead Function Value: 11.518673794203405\n"
     ]
    },
    {
     "data": {
      "image/png": "[encoded data removed]",
      "text/plain": [
       "<Figure size 300x275 with 1 Axes>"
      ]
     },
     "metadata": {},
     "output_type": "display_data"
    }
   ],
   "source": [
    "# Find the best results for Nelder-Mead and L-BFGS-B\n",
    "nm_results = [res['result'] for res in results if res['method'] == 'Nelder-Mead']\n",
    "#lbfgsb_results = [res['result'] for res in results if res['method'] == 'L-BFGS-B']\n",
    "\n",
    "# Identify the best (lowest function value) result for each method\n",
    "best_nm_result = min(nm_results, key=lambda r: r.fun)\n",
    "#best_lbfgsb_result = min(lbfgsb_results, key=lambda r: r.fun)\n",
    "\n",
    "# Extract optimized parameters and function values\n",
    "best_nm_params = best_nm_result.x\n",
    "#best_lbfgsb_params = best_lbfgsb_result.x\n",
    "\n",
    "best_nm_value = best_nm_result.fun\n",
    "#best_lbfgsb_value = best_lbfgsb_result.fun\n",
    "\n",
    "# Print best results\n",
    "print(\"Best Nelder-Mead Parameters:\", best_nm_params)\n",
    "print(\"Best Nelder-Mead Function Value:\", best_nm_value)\n",
    "\n",
    "#print(\"Best L-BFGS-B Parameters:\", best_lbfgsb_params)\n",
    "#print(\"Best L-BFGS-B Function Value:\", best_lbfgsb_value)\n",
    "\n",
    "# Compute model outputs for both best parameter sets\n",
    "nm_model_values = evaluator.compute_model(\n",
    "    (10**best_nm_params[0], 10**best_nm_params[1], best_nm_params[2]), time\n",
    ")\n",
    "#lbfgsb_model_values = evaluator.compute_model(\n",
    "#    (best_lbfgsb_params[0], best_lbfgsb_params[1], best_lbfgsb_params[2]), time\n",
    "#)\n",
    "\n",
    "# Plot the data\n",
    "plt.figure(figsize=(3, 2.75))\n",
    "\n",
    "# Experimental data\n",
    "plt.plot(time, y_true, 'o', markersize=8, color='#89BFA9')\n",
    "\n",
    "# Nelder-Mead solution\n",
    "plt.plot(time, nm_model_values, '-', color='#FF8C42', lw=2, label='NM')\n",
    "\n",
    "# L-BFGS-B solution\n",
    "#plt.plot(time, lbfgsb_model_values, '-', color='#1F77B4', lw=2, label='L-BFGS-B')\n",
    "\n",
    "# BO solution\n",
    "plt.plot(time, bo_model_values, '-', color='#60568A', lw=2, label='BO')   # BO model fit\n",
    "\n",
    "\n",
    "# Configure the plot\n",
    "plt.xscale('log')\n",
    "plt.yscale('log')\n",
    "plt.xlabel('$t$ [s]', fontsize=14)\n",
    "plt.ylabel(r'$G(t)$ [Pa]', fontsize=14)\n",
    "plt.xticks(fontsize=14)\n",
    "plt.yticks(fontsize=14)\n",
    "plt.legend(fontsize=12, loc=\"best\")\n",
    "\n",
    "# Display the plot\n",
    "plt.savefig(\"fig_bo_fit_creep_data_polystyrene190_comparison.pdf\")  # Uncomment to save the plot\n",
    "plt.show()"
   ]
  }
 ],
 "metadata": {
  "kernelspec": {
   "display_name": "Python 3 (ipykernel)",
   "language": "python",
   "name": "python3"
  },
  "language_info": {
   "codemirror_mode": {
    "name": "ipython",
    "version": 3
   },
   "file_extension": ".py",
   "mimetype": "text/x-python",
   "name": "python",
   "nbconvert_exporter": "python",
   "pygments_lexer": "ipython3",
   "version": "3.10.10"
  }
 },
 "nbformat": 4,
 "nbformat_minor": 5
}

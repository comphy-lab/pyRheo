{
 "cells": [
  {
   "cell_type": "markdown",
   "id": "f86531a5-a2fd-4b3c-8fc0-1f640ba4b316",
   "metadata": {},
   "source": [
    "## Bayesian optimization to infer Fractional Maxwell model fitting parameters for the stress relaxation data of a fish muscle\n",
    "\n",
    "First, we are importing a variety of essential libraries that will help us with numerical computations, data manipulation, plotting, machine learning, Bayesian optimization, and other specialized tasks.\n",
    "\n",
    "### Libraries:\n",
    "- **NumPy (`numpy`)**: A fundamental package for numerical operations in Python.\n",
    "- **Pandas (`pandas`)**: A powerful data manipulation and analysis library.\n",
    "- **Matplotlib (`matplotlib.pyplot`)**: A plotting library used for creating static, animated, and interactive visualizations.\n",
    "- **SciPy Special Functions (`scipy.special`)**: Specifically importing the gamma function for mathematical computations.\n",
    "- **PyTorch (`torch`)**: A deep learning library for tensor computations and building neural networks.\n",
    "- **BoTorch and GPyTorch**: Libraries for Gaussian Process Regression:\n",
    "  - `SingleTaskGP`: For constructing Gaussian Process models.\n",
    "  - `Standardize`: For standardizing outcomes.\n",
    "  - `ExactMarginalLogLikelihood`: For exact marginal log likelihood calculation.\n",
    "  - `fit_gpytorch_mll`: For fitting GP models.\n",
    "- **Sobol Sequence (`sobol_seq`)**: For generating Sobol sequences for quasi-random sampling.\n",
    "- **BoTorch Acquisition and Optimization**:\n",
    "  - `qExpectedImprovement`: For Monte Carlo-based expected improvement.\n",
    "  - `optimize_acqf`: For optimizing the acquisition function.\n",
    "- **Scikit-Learn Preprocessing (`sklearn.preprocessing`)**: A collection of scalers for feature scaling, including:\n",
    "  - `MinMaxScaler`\n",
    "  - `RobustScaler`\n",
    "  - `StandardScaler`\n",
    "  - `MaxAbsScaler`\n",
    "- **pyRheo (`pyRheo.oscillation_evaluator`)**: A custom library for evaluating properties in oscillation.\n",
    "- **SciencePlots (`scienceplots`)**: A library to enhance Matplotlib plots with scientific visual styles.\n",
    "\n",
    "These imports will provide all the necessary tools for the subsequent analysis and model building steps in this notebook.\n"
   ]
  },
  {
   "cell_type": "code",
   "execution_count": 9,
   "id": "500d3598-5ca2-47f5-a48d-92470317db3c",
   "metadata": {},
   "outputs": [],
   "source": [
    "# Import packages\n",
    "import numpy as np\n",
    "import pandas as pd\n",
    "import matplotlib.pyplot as plt\n",
    "from scipy.special import gamma\n",
    "import torch\n",
    "from botorch.models.gp_regression import SingleTaskGP\n",
    "from botorch.models.transforms.outcome import Standardize\n",
    "from gpytorch.mlls.exact_marginal_log_likelihood import ExactMarginalLogLikelihood\n",
    "from botorch.fit import fit_gpytorch_mll\n",
    "import sobol_seq\n",
    "from botorch.acquisition.monte_carlo import qExpectedImprovement\n",
    "from botorch.acquisition.logei import qLogExpectedImprovement\n",
    "from botorch.optim.optimize import optimize_acqf\n",
    "from sklearn.preprocessing import MinMaxScaler, RobustScaler, StandardScaler, MaxAbsScaler\n",
    "from gpytorch.kernels import RBFKernel, MaternKernel, ScaleKernel\n",
    "from pyRheo.relaxation_evaluator import RelaxationEvaluator\n",
    "import scienceplots\n",
    "plt.style.use(['science', 'nature', 'retro'])"
   ]
  },
  {
   "cell_type": "markdown",
   "id": "8774f387-717c-498e-b58f-6fdd776f721e",
   "metadata": {},
   "source": [
    "## Random Error Generation, Objective Function, Sobol Sampling and Model Initialization\n",
    "\n",
    "In this section, we define various key functions and setup procedures required for our model analysis and optimization:\n",
    "\n"
   ]
  },
  {
   "cell_type": "code",
   "execution_count": 10,
   "id": "b0965faf-e14f-4ad6-be86-382080f09dfe",
   "metadata": {},
   "outputs": [],
   "source": [
    "# Error function to add to the fractional rheology model\n",
    "def createRandomError(n, std):\n",
    "    return np.random.normal(loc=1, scale=std, size=n)\n",
    "\n",
    "# Objective function to minimize (RRS weighted by true values)\n",
    "def objective(params):\n",
    "    logG, logV, alpha, beta = params\n",
    "    G = 10 ** logG\n",
    "    V = 10 ** logV\n",
    "    params_no_scale = G, V, alpha, beta\n",
    "    model = \"FractionalMaxwell\"\n",
    "    evaluator = RelaxationEvaluator(model=model)\n",
    "    # Compute oscillation data\n",
    "    model_values = evaluator.compute_model(params_no_scale, time, mittag_leffler_type=\"Pade72\" ) \n",
    "    # Add noise\n",
    "    error = createRandomError(time.shape[0], 0.00)\n",
    "    model_values_noisy = np.multiply(model_values, error)\n",
    "    # Define objective functions\n",
    "    obj1 = np.sum(((y_true - model_values_noisy) / y_true) ** 2)\n",
    "    return -np.log10(obj1) # we take the negative because the EI by default maximizes and we are looking to minimize\n",
    "    \n",
    "# Function to create Sobol samples\n",
    "def sobol_sample(space, n_samples, seed=None):\n",
    "    if seed is not None:\n",
    "        np.random.seed(seed)\n",
    "    sobol_samples = sobol_seq.i4_sobol_generate(len(space), n_samples)\n",
    "    sobol_scaled = sobol_samples * (space[:, 1] - space[:, 0]) + space[:, 0]\n",
    "    return np.array(sobol_scaled)\n",
    "\n",
    "# Initialize model function for single-objective problem\n",
    "def initialize_model(train_x, train_obj):\n",
    "    train_obj = train_obj.unsqueeze(-1)  # Add dimension for single task GP\n",
    "    model = SingleTaskGP(train_x, train_obj, covar_module=MaternKernel(nu=1.5),)\n",
    "                        #outcome_transform=Standardize(m=1))\n",
    "    mll = ExactMarginalLogLikelihood(model.likelihood, model)\n",
    "    return mll, model\n",
    "\n",
    "# Compute the qEI acquisition function to find new candidate points that maximize the objective\n",
    "def compute_qei_acquisition_function(model, train_x, bounds):\n",
    "    acq_func = qLogExpectedImprovement(\n",
    "        model=model,\n",
    "        best_f=train_x.max(),\n",
    "    )\n",
    "    candidates, _ = optimize_acqf(\n",
    "        acq_function=acq_func,\n",
    "        bounds=bounds,\n",
    "        q=1,  # Number of candidates to generate in a batch\n",
    "        num_restarts=3,\n",
    "        raw_samples=50,\n",
    "        options={\"batch_limit\": 5, \"maxiter\": 50},\n",
    "    )\n",
    "    return candidates"
   ]
  },
  {
   "cell_type": "markdown",
   "id": "25fad4a0-9f7f-48f7-8469-851b60ab5b60",
   "metadata": {},
   "source": [
    "## Loading Rheological Data and Defining Search Space\n",
    "\n",
    "In this section, we load the rheological data from a CSV file and define the search space bounds for our parameter optimization."
   ]
  },
  {
   "cell_type": "code",
   "execution_count": 11,
   "id": "f9e8ad61-5b92-4736-b5e9-f9fd6d428801",
   "metadata": {},
   "outputs": [],
   "source": [
    "# Load rheological data\n",
    "data = pd.read_csv('./data/fish_muscle/stressrelaxation_fishmuscle_data.csv', delimiter='\\t', decimal=\".\")\n",
    "time = data['Time'].values\n",
    "G_relax = data['Relaxation Modulus'].values\n",
    "y_true = G_relax\n",
    "\n",
    "# Define search space bounds\n",
    "param_space = np.array([\n",
    "    [3, 5],  # log10 scale for G\n",
    "    [5, 8],  # log10 scale for V\n",
    "    [0.5, 1],   # real scale for alpha\n",
    "    [0.01, 0.49]   # real scale for beta\n",
    "])"
   ]
  },
  {
   "cell_type": "markdown",
   "id": "66be9fd5-5d49-4185-960c-4aaebb615318",
   "metadata": {},
   "source": [
    "## Exploration Phase: Initial Sampling, Scaling, and Model Initialization\n",
    "\n",
    "In this section, we conduct the initial exploration phase of our optimization process.\n"
   ]
  },
  {
   "cell_type": "code",
   "execution_count": 12,
   "id": "0ff673ff-b425-41ff-9442-8f37b022e274",
   "metadata": {},
   "outputs": [
    {
     "name": "stderr",
     "output_type": "stream",
     "text": [
      "/u/81/mirandi1/unix/.local/lib/python3.10/site-packages/botorch/models/utils/assorted.py:257: InputDataWarning: Input data is not contained to the unit cube. Please consider min-max scaling the input data.\n",
      "  check_min_max_scaling(\n",
      "/u/81/mirandi1/unix/.local/lib/python3.10/site-packages/botorch/models/utils/assorted.py:260: InputDataWarning: Data is not standardized (std = tensor([1.0160], dtype=torch.float64), mean = tensor([-2.0817e-17], dtype=torch.float64)). Please consider scaling the input to zero mean and unit variance.\n",
      "  check_standardization(Y=train_Y, raise_on_fail=raise_on_fail)\n"
     ]
    },
    {
     "data": {
      "text/plain": [
       "ExactMarginalLogLikelihood(\n",
       "  (likelihood): GaussianLikelihood(\n",
       "    (noise_covar): HomoskedasticNoise(\n",
       "      (noise_prior): GammaPrior()\n",
       "      (raw_noise_constraint): GreaterThan(1.000E-04)\n",
       "    )\n",
       "  )\n",
       "  (model): SingleTaskGP(\n",
       "    (likelihood): GaussianLikelihood(\n",
       "      (noise_covar): HomoskedasticNoise(\n",
       "        (noise_prior): GammaPrior()\n",
       "        (raw_noise_constraint): GreaterThan(1.000E-04)\n",
       "      )\n",
       "    )\n",
       "    (mean_module): ConstantMean()\n",
       "    (covar_module): MaternKernel(\n",
       "      (raw_lengthscale_constraint): Positive()\n",
       "    )\n",
       "  )\n",
       ")"
      ]
     },
     "execution_count": 12,
     "metadata": {},
     "output_type": "execute_result"
    }
   ],
   "source": [
    "# Set random seed\n",
    "seed = 42\n",
    "\n",
    "# Initial sampling using Sobol sequence\n",
    "n_initial_points = 32\n",
    "X_samples = sobol_sample(param_space, n_initial_points, seed=seed)\n",
    "y_samples = np.array([objective(x) for x in X_samples])\n",
    "\n",
    "# Apply MaxAbs scaling to the target values\n",
    "scaler = StandardScaler()\n",
    "y_samples_scaled = scaler.fit_transform(y_samples.reshape(-1, 1)).flatten()\n",
    "\n",
    "# Convert to tensors for BoTorch\n",
    "X_samples_tensor = torch.tensor(X_samples, dtype=torch.double)\n",
    "y_samples_tensor = torch.tensor(y_samples_scaled, dtype=torch.double)\n",
    "\n",
    "# Compute bounds for optimization\n",
    "bounds = torch.stack([\n",
    "    torch.tensor(param_space[:, 0], dtype=torch.double),\n",
    "    torch.tensor(param_space[:, 1], dtype=torch.double)\n",
    "])\n",
    "\n",
    "# Initialize and fit the GP model\n",
    "mll, model = initialize_model(X_samples_tensor, y_samples_tensor)\n",
    "fit_gpytorch_mll(mll)"
   ]
  },
  {
   "cell_type": "markdown",
   "id": "8d33474a-d014-4c30-9728-192667b05cac",
   "metadata": {},
   "source": [
    "## Exploitation Phase: Iterative Sampling and Model Updating\n",
    "\n",
    "In this section, we perform the exploitation phase of our optimization process. We iteratively generate new samples using the q-Expected Improvement (qEI) acquisition function, evaluate the objective function at these new sample points, and update our model accordingly.\n",
    "\n",
    "### Iterative Exploitation Process\n",
    "\n",
    "For each iteration in the exploitation phase:\n",
    "1. **Generate New Candidates**: We compute new candidate points using the qEI acquisition function.\n",
    "2. **Evaluate Objective**: The objective function is evaluated at the new candidate points.\n",
    "3. **Apply Scaling**: The new objective values are scaled using the previously defined MaxAbsScaler.\n",
    "4. **Update Samples and Objectives**: The new sample and corresponding objective values (both original and scaled) are appended to the existing lists of samples and objective values. We also save the index of the new sample for tracking purposes.\n",
    "5. **Update Tensors**: The updated samples and objective values are converted to tensors.\n",
    "6. **Model Update**: The GP model is re-initialized and fitted using the updated data.\n",
    "7. **Logging**: The iteration details, including the new sample and objective value, are printed.\n"
   ]
  },
  {
   "cell_type": "code",
   "execution_count": 13,
   "id": "2d521b90-f230-4820-acf7-5f747e3c2a98",
   "metadata": {},
   "outputs": [
    {
     "name": "stderr",
     "output_type": "stream",
     "text": [
      "/u/81/mirandi1/unix/.local/lib/python3.10/site-packages/botorch/models/utils/assorted.py:257: InputDataWarning: Input data is not contained to the unit cube. Please consider min-max scaling the input data.\n",
      "  check_min_max_scaling(\n",
      "/u/81/mirandi1/unix/.local/lib/python3.10/site-packages/botorch/models/utils/assorted.py:260: InputDataWarning: Data is not standardized (std = tensor([1.1432], dtype=torch.float64), mean = tensor([0.0964], dtype=torch.float64)). Please consider scaling the input to zero mean and unit variance.\n",
      "  check_standardization(Y=train_Y, raise_on_fail=raise_on_fail)\n"
     ]
    },
    {
     "name": "stdout",
     "output_type": "stream",
     "text": [
      "Exploitation 1/200 - New sample: [4.28959561 6.96164741 0.50234772 0.18527047], Objective value: -1.2275210417666897\n",
      "Exploitation 2/200 - New sample: [4.28124729 7.00344808 0.52598724 0.18699862], Objective value: -1.2689355584320536\n"
     ]
    },
    {
     "name": "stderr",
     "output_type": "stream",
     "text": [
      "/u/81/mirandi1/unix/.local/lib/python3.10/site-packages/botorch/models/utils/assorted.py:257: InputDataWarning: Input data is not contained to the unit cube. Please consider min-max scaling the input data.\n",
      "  check_min_max_scaling(\n",
      "/u/81/mirandi1/unix/.local/lib/python3.10/site-packages/botorch/models/utils/assorted.py:260: InputDataWarning: Data is not standardized (std = tensor([1.2368], dtype=torch.float64), mean = tensor([0.1843], dtype=torch.float64)). Please consider scaling the input to zero mean and unit variance.\n",
      "  check_standardization(Y=train_Y, raise_on_fail=raise_on_fail)\n",
      "/u/81/mirandi1/unix/.local/lib/python3.10/site-packages/botorch/models/utils/assorted.py:257: InputDataWarning: Input data is not contained to the unit cube. Please consider min-max scaling the input data.\n",
      "  check_min_max_scaling(\n",
      "/u/81/mirandi1/unix/.local/lib/python3.10/site-packages/botorch/models/utils/assorted.py:260: InputDataWarning: Data is not standardized (std = tensor([1.2650], dtype=torch.float64), mean = tensor([0.2417], dtype=torch.float64)). Please consider scaling the input to zero mean and unit variance.\n",
      "  check_standardization(Y=train_Y, raise_on_fail=raise_on_fail)\n"
     ]
    },
    {
     "name": "stdout",
     "output_type": "stream",
     "text": [
      "Exploitation 3/200 - New sample: [4.28104444 6.96962058 0.5        0.13449208], Objective value: -1.6449637243752673\n"
     ]
    },
    {
     "name": "stderr",
     "output_type": "stream",
     "text": [
      "/u/81/mirandi1/unix/.local/lib/python3.10/site-packages/botorch/models/utils/assorted.py:257: InputDataWarning: Input data is not contained to the unit cube. Please consider min-max scaling the input data.\n",
      "  check_min_max_scaling(\n",
      "/u/81/mirandi1/unix/.local/lib/python3.10/site-packages/botorch/models/utils/assorted.py:260: InputDataWarning: Data is not standardized (std = tensor([1.3303], dtype=torch.float64), mean = tensor([0.3190], dtype=torch.float64)). Please consider scaling the input to zero mean and unit variance.\n",
      "  check_standardization(Y=train_Y, raise_on_fail=raise_on_fail)\n",
      "/u/81/mirandi1/unix/.local/lib/python3.10/site-packages/botorch/models/utils/assorted.py:257: InputDataWarning: Input data is not contained to the unit cube. Please consider min-max scaling the input data.\n",
      "  check_min_max_scaling(\n",
      "/u/81/mirandi1/unix/.local/lib/python3.10/site-packages/botorch/models/utils/assorted.py:260: InputDataWarning: Data is not standardized (std = tensor([1.3320], dtype=torch.float64), mean = tensor([0.3572], dtype=torch.float64)). Please consider scaling the input to zero mean and unit variance.\n",
      "  check_standardization(Y=train_Y, raise_on_fail=raise_on_fail)\n"
     ]
    },
    {
     "name": "stdout",
     "output_type": "stream",
     "text": [
      "Exploitation 4/200 - New sample: [4.30686726 6.9739932  0.51938759 0.2090667 ], Objective value: -1.2939692984153515\n",
      "Exploitation 5/200 - New sample: [4.38715975 5.89962297 0.85589208 0.07437414], Objective value: -1.8415104885867875\n"
     ]
    },
    {
     "name": "stderr",
     "output_type": "stream",
     "text": [
      "/u/81/mirandi1/unix/.local/lib/python3.10/site-packages/botorch/models/utils/assorted.py:257: InputDataWarning: Input data is not contained to the unit cube. Please consider min-max scaling the input data.\n",
      "  check_min_max_scaling(\n",
      "/u/81/mirandi1/unix/.local/lib/python3.10/site-packages/botorch/models/utils/assorted.py:260: InputDataWarning: Data is not standardized (std = tensor([1.3694], dtype=torch.float64), mean = tensor([0.4198], dtype=torch.float64)). Please consider scaling the input to zero mean and unit variance.\n",
      "  check_standardization(Y=train_Y, raise_on_fail=raise_on_fail)\n",
      "/u/81/mirandi1/unix/.local/lib/python3.10/site-packages/botorch/models/utils/assorted.py:257: InputDataWarning: Input data is not contained to the unit cube. Please consider min-max scaling the input data.\n",
      "  check_min_max_scaling(\n",
      "/u/81/mirandi1/unix/.local/lib/python3.10/site-packages/botorch/models/utils/assorted.py:260: InputDataWarning: Data is not standardized (std = tensor([1.4262], dtype=torch.float64), mean = tensor([0.4928], dtype=torch.float64)). Please consider scaling the input to zero mean and unit variance.\n",
      "  check_standardization(Y=train_Y, raise_on_fail=raise_on_fail)\n"
     ]
    },
    {
     "name": "stdout",
     "output_type": "stream",
     "text": [
      "Exploitation 6/200 - New sample: [4.28159694 6.9537065  0.54487586 0.20862538], Objective value: -1.4160036046715103\n",
      "Exploitation 7/200 - New sample: [4.31083743 6.99371798 0.5        0.19762385], Objective value: -1.1906572594952465\n"
     ]
    },
    {
     "name": "stderr",
     "output_type": "stream",
     "text": [
      "/u/81/mirandi1/unix/.local/lib/python3.10/site-packages/botorch/models/utils/assorted.py:257: InputDataWarning: Input data is not contained to the unit cube. Please consider min-max scaling the input data.\n",
      "  check_min_max_scaling(\n",
      "/u/81/mirandi1/unix/.local/lib/python3.10/site-packages/botorch/models/utils/assorted.py:260: InputDataWarning: Data is not standardized (std = tensor([1.4745], dtype=torch.float64), mean = tensor([0.5622], dtype=torch.float64)). Please consider scaling the input to zero mean and unit variance.\n",
      "  check_standardization(Y=train_Y, raise_on_fail=raise_on_fail)\n",
      "/u/81/mirandi1/unix/.local/lib/python3.10/site-packages/botorch/models/utils/assorted.py:257: InputDataWarning: Input data is not contained to the unit cube. Please consider min-max scaling the input data.\n",
      "  check_min_max_scaling(\n",
      "/u/81/mirandi1/unix/.local/lib/python3.10/site-packages/botorch/models/utils/assorted.py:260: InputDataWarning: Data is not standardized (std = tensor([1.5185], dtype=torch.float64), mean = tensor([0.6295], dtype=torch.float64)). Please consider scaling the input to zero mean and unit variance.\n",
      "  check_standardization(Y=train_Y, raise_on_fail=raise_on_fail)\n"
     ]
    },
    {
     "name": "stdout",
     "output_type": "stream",
     "text": [
      "Exploitation 8/200 - New sample: [4.30372641 6.9856958  0.5        0.19214837], Objective value: -1.1921708170968823\n",
      "Exploitation 9/200 - New sample: [4.31501458 6.99363857 0.50766351 0.18333756], Objective value: -1.1671241815481956\n"
     ]
    },
    {
     "name": "stderr",
     "output_type": "stream",
     "text": [
      "/u/81/mirandi1/unix/.local/lib/python3.10/site-packages/botorch/models/utils/assorted.py:257: InputDataWarning: Input data is not contained to the unit cube. Please consider min-max scaling the input data.\n",
      "  check_min_max_scaling(\n",
      "/u/81/mirandi1/unix/.local/lib/python3.10/site-packages/botorch/models/utils/assorted.py:260: InputDataWarning: Data is not standardized (std = tensor([1.5002], dtype=torch.float64), mean = tensor([0.6337], dtype=torch.float64)). Please consider scaling the input to zero mean and unit variance.\n",
      "  check_standardization(Y=train_Y, raise_on_fail=raise_on_fail)\n",
      "/u/81/mirandi1/unix/.local/lib/python3.10/site-packages/botorch/models/utils/assorted.py:257: InputDataWarning: Input data is not contained to the unit cube. Please consider min-max scaling the input data.\n",
      "  check_min_max_scaling(\n",
      "/u/81/mirandi1/unix/.local/lib/python3.10/site-packages/botorch/models/utils/assorted.py:260: InputDataWarning: Data is not standardized (std = tensor([1.5341], dtype=torch.float64), mean = tensor([0.6941], dtype=torch.float64)). Please consider scaling the input to zero mean and unit variance.\n",
      "  check_standardization(Y=train_Y, raise_on_fail=raise_on_fail)\n"
     ]
    },
    {
     "name": "stdout",
     "output_type": "stream",
     "text": [
      "Exploitation 10/200 - New sample: [4.43154878 5.9045497  0.97865618 0.01      ], Objective value: -2.2322867745128994\n",
      "Exploitation 11/200 - New sample: [4.33868237 6.99081298 0.5        0.18331438], Objective value: -1.2075214455649137\n"
     ]
    },
    {
     "name": "stderr",
     "output_type": "stream",
     "text": [
      "/u/81/mirandi1/unix/.local/lib/python3.10/site-packages/botorch/models/utils/assorted.py:257: InputDataWarning: Input data is not contained to the unit cube. Please consider min-max scaling the input data.\n",
      "  check_min_max_scaling(\n",
      "/u/81/mirandi1/unix/.local/lib/python3.10/site-packages/botorch/models/utils/assorted.py:260: InputDataWarning: Data is not standardized (std = tensor([1.5681], dtype=torch.float64), mean = tensor([0.7544], dtype=torch.float64)). Please consider scaling the input to zero mean and unit variance.\n",
      "  check_standardization(Y=train_Y, raise_on_fail=raise_on_fail)\n",
      "/u/81/mirandi1/unix/.local/lib/python3.10/site-packages/botorch/models/utils/assorted.py:257: InputDataWarning: Input data is not contained to the unit cube. Please consider min-max scaling the input data.\n",
      "  check_min_max_scaling(\n",
      "/u/81/mirandi1/unix/.local/lib/python3.10/site-packages/botorch/models/utils/assorted.py:260: InputDataWarning: Data is not standardized (std = tensor([1.5913], dtype=torch.float64), mean = tensor([0.8080], dtype=torch.float64)). Please consider scaling the input to zero mean and unit variance.\n",
      "  check_standardization(Y=train_Y, raise_on_fail=raise_on_fail)\n"
     ]
    },
    {
     "name": "stdout",
     "output_type": "stream",
     "text": [
      "Exploitation 12/200 - New sample: [4.32122294 7.02572417 0.50236246 0.18636427], Objective value: -1.1568225739044256\n",
      "Exploitation 13/200 - New sample: [4.3194575  7.05449322 0.5        0.20850338], Objective value: -1.2348182441111646\n"
     ]
    },
    {
     "name": "stderr",
     "output_type": "stream",
     "text": [
      "/u/81/mirandi1/unix/.local/lib/python3.10/site-packages/botorch/models/utils/assorted.py:257: InputDataWarning: Input data is not contained to the unit cube. Please consider min-max scaling the input data.\n",
      "  check_min_max_scaling(\n",
      "/u/81/mirandi1/unix/.local/lib/python3.10/site-packages/botorch/models/utils/assorted.py:260: InputDataWarning: Data is not standardized (std = tensor([1.6182], dtype=torch.float64), mean = tensor([0.8636], dtype=torch.float64)). Please consider scaling the input to zero mean and unit variance.\n",
      "  check_standardization(Y=train_Y, raise_on_fail=raise_on_fail)\n",
      "/u/81/mirandi1/unix/.local/lib/python3.10/site-packages/botorch/models/utils/assorted.py:257: InputDataWarning: Input data is not contained to the unit cube. Please consider min-max scaling the input data.\n",
      "  check_min_max_scaling(\n",
      "/u/81/mirandi1/unix/.local/lib/python3.10/site-packages/botorch/models/utils/assorted.py:260: InputDataWarning: Data is not standardized (std = tensor([1.6325], dtype=torch.float64), mean = tensor([0.9106], dtype=torch.float64)). Please consider scaling the input to zero mean and unit variance.\n",
      "  check_standardization(Y=train_Y, raise_on_fail=raise_on_fail)\n"
     ]
    },
    {
     "name": "stdout",
     "output_type": "stream",
     "text": [
      "Exploitation 14/200 - New sample: [4.32649563 7.02291445 0.52017817 0.18803773], Objective value: -1.1490045284396624\n",
      "Exploitation 15/200 - New sample: [4.34060775 7.04073622 0.51670945 0.17777559], Objective value: -1.2742291749277639\n"
     ]
    },
    {
     "name": "stderr",
     "output_type": "stream",
     "text": [
      "/u/81/mirandi1/unix/.local/lib/python3.10/site-packages/botorch/models/utils/assorted.py:257: InputDataWarning: Input data is not contained to the unit cube. Please consider min-max scaling the input data.\n",
      "  check_min_max_scaling(\n",
      "/u/81/mirandi1/unix/.local/lib/python3.10/site-packages/botorch/models/utils/assorted.py:260: InputDataWarning: Data is not standardized (std = tensor([1.6529], dtype=torch.float64), mean = tensor([0.9614], dtype=torch.float64)). Please consider scaling the input to zero mean and unit variance.\n",
      "  check_standardization(Y=train_Y, raise_on_fail=raise_on_fail)\n"
     ]
    },
    {
     "name": "stdout",
     "output_type": "stream",
     "text": [
      "Exploitation 16/200 - New sample: [4.31504009 7.01449212 0.52025993 0.18576519], Objective value: -1.1579217380504312\n"
     ]
    },
    {
     "name": "stderr",
     "output_type": "stream",
     "text": [
      "/u/81/mirandi1/unix/.local/lib/python3.10/site-packages/botorch/models/utils/assorted.py:257: InputDataWarning: Input data is not contained to the unit cube. Please consider min-max scaling the input data.\n",
      "  check_min_max_scaling(\n",
      "/u/81/mirandi1/unix/.local/lib/python3.10/site-packages/botorch/models/utils/assorted.py:260: InputDataWarning: Data is not standardized (std = tensor([1.6713], dtype=torch.float64), mean = tensor([1.0105], dtype=torch.float64)). Please consider scaling the input to zero mean and unit variance.\n",
      "  check_standardization(Y=train_Y, raise_on_fail=raise_on_fail)\n"
     ]
    },
    {
     "name": "stdout",
     "output_type": "stream",
     "text": [
      "Exploitation 17/200 - New sample: [4.32251132 7.02009619 0.51139141 0.19533968], Objective value: -1.1491427000470074\n"
     ]
    },
    {
     "name": "stderr",
     "output_type": "stream",
     "text": [
      "/u/81/mirandi1/unix/.local/lib/python3.10/site-packages/botorch/models/utils/assorted.py:257: InputDataWarning: Input data is not contained to the unit cube. Please consider min-max scaling the input data.\n",
      "  check_min_max_scaling(\n",
      "/u/81/mirandi1/unix/.local/lib/python3.10/site-packages/botorch/models/utils/assorted.py:260: InputDataWarning: Data is not standardized (std = tensor([1.6871], dtype=torch.float64), mean = tensor([1.0574], dtype=torch.float64)). Please consider scaling the input to zero mean and unit variance.\n",
      "  check_standardization(Y=train_Y, raise_on_fail=raise_on_fail)\n",
      "/u/81/mirandi1/unix/.local/lib/python3.10/site-packages/botorch/models/utils/assorted.py:257: InputDataWarning: Input data is not contained to the unit cube. Please consider min-max scaling the input data.\n",
      "  check_min_max_scaling(\n",
      "/u/81/mirandi1/unix/.local/lib/python3.10/site-packages/botorch/models/utils/assorted.py:260: InputDataWarning: Data is not standardized (std = tensor([1.6995], dtype=torch.float64), mean = tensor([1.1014], dtype=torch.float64)). Please consider scaling the input to zero mean and unit variance.\n",
      "  check_standardization(Y=train_Y, raise_on_fail=raise_on_fail)\n"
     ]
    },
    {
     "name": "stdout",
     "output_type": "stream",
     "text": [
      "Exploitation 18/200 - New sample: [4.31622951 7.02669767 0.51525924 0.19160266], Objective value: -1.1538765556465334\n",
      "Exploitation 19/200 - New sample: [4.32559405 7.01792832 0.5121106  0.18287499], Objective value: -1.176181702682688\n"
     ]
    },
    {
     "name": "stderr",
     "output_type": "stream",
     "text": [
      "/u/81/mirandi1/unix/.local/lib/python3.10/site-packages/botorch/models/utils/assorted.py:257: InputDataWarning: Input data is not contained to the unit cube. Please consider min-max scaling the input data.\n",
      "  check_min_max_scaling(\n",
      "/u/81/mirandi1/unix/.local/lib/python3.10/site-packages/botorch/models/utils/assorted.py:260: InputDataWarning: Data is not standardized (std = tensor([1.6949], dtype=torch.float64), mean = tensor([1.1295], dtype=torch.float64)). Please consider scaling the input to zero mean and unit variance.\n",
      "  check_standardization(Y=train_Y, raise_on_fail=raise_on_fail)\n",
      "/u/81/mirandi1/unix/.local/lib/python3.10/site-packages/botorch/models/utils/assorted.py:257: InputDataWarning: Input data is not contained to the unit cube. Please consider min-max scaling the input data.\n",
      "  check_min_max_scaling(\n",
      "/u/81/mirandi1/unix/.local/lib/python3.10/site-packages/botorch/models/utils/assorted.py:260: InputDataWarning: Data is not standardized (std = tensor([1.7092], dtype=torch.float64), mean = tensor([1.1738], dtype=torch.float64)). Please consider scaling the input to zero mean and unit variance.\n",
      "  check_standardization(Y=train_Y, raise_on_fail=raise_on_fail)\n"
     ]
    },
    {
     "name": "stdout",
     "output_type": "stream",
     "text": [
      "Exploitation 20/200 - New sample: [4.26969553 6.00020814 0.78082252 0.12218693], Objective value: -1.488959022873018\n",
      "Exploitation 21/200 - New sample: [4.26867895 5.95418792 0.72282955 0.03122141], Objective value: -1.1035634208591352\n"
     ]
    },
    {
     "name": "stderr",
     "output_type": "stream",
     "text": [
      "/u/81/mirandi1/unix/.local/lib/python3.10/site-packages/botorch/models/utils/assorted.py:257: InputDataWarning: Input data is not contained to the unit cube. Please consider min-max scaling the input data.\n",
      "  check_min_max_scaling(\n",
      "/u/81/mirandi1/unix/.local/lib/python3.10/site-packages/botorch/models/utils/assorted.py:260: InputDataWarning: Data is not standardized (std = tensor([1.7352], dtype=torch.float64), mean = tensor([1.2256], dtype=torch.float64)). Please consider scaling the input to zero mean and unit variance.\n",
      "  check_standardization(Y=train_Y, raise_on_fail=raise_on_fail)\n"
     ]
    },
    {
     "name": "stdout",
     "output_type": "stream",
     "text": [
      "Exploitation 22/200 - New sample: [4.29303984 5.95952297 0.69818878 0.05124086], Objective value: -0.8946177739418322\n"
     ]
    },
    {
     "name": "stderr",
     "output_type": "stream",
     "text": [
      "/u/81/mirandi1/unix/.local/lib/python3.10/site-packages/botorch/models/utils/assorted.py:257: InputDataWarning: Input data is not contained to the unit cube. Please consider min-max scaling the input data.\n",
      "  check_min_max_scaling(\n",
      "/u/81/mirandi1/unix/.local/lib/python3.10/site-packages/botorch/models/utils/assorted.py:260: InputDataWarning: Data is not standardized (std = tensor([1.7212], dtype=torch.float64), mean = tensor([1.2371], dtype=torch.float64)). Please consider scaling the input to zero mean and unit variance.\n",
      "  check_standardization(Y=train_Y, raise_on_fail=raise_on_fail)\n"
     ]
    },
    {
     "name": "stdout",
     "output_type": "stream",
     "text": [
      "Exploitation 23/200 - New sample: [4.28554421 7.10579895 0.60687718 0.25848432], Objective value: -1.7868538114785464\n"
     ]
    },
    {
     "name": "stderr",
     "output_type": "stream",
     "text": [
      "/u/81/mirandi1/unix/.local/lib/python3.10/site-packages/botorch/models/utils/assorted.py:257: InputDataWarning: Input data is not contained to the unit cube. Please consider min-max scaling the input data.\n",
      "  check_min_max_scaling(\n",
      "/u/81/mirandi1/unix/.local/lib/python3.10/site-packages/botorch/models/utils/assorted.py:260: InputDataWarning: Data is not standardized (std = tensor([1.7416], dtype=torch.float64), mean = tensor([1.2843], dtype=torch.float64)). Please consider scaling the input to zero mean and unit variance.\n",
      "  check_standardization(Y=train_Y, raise_on_fail=raise_on_fail)\n",
      "/u/81/mirandi1/unix/.local/lib/python3.10/site-packages/botorch/models/utils/assorted.py:257: InputDataWarning: Input data is not contained to the unit cube. Please consider min-max scaling the input data.\n",
      "  check_min_max_scaling(\n",
      "/u/81/mirandi1/unix/.local/lib/python3.10/site-packages/botorch/models/utils/assorted.py:260: InputDataWarning: Data is not standardized (std = tensor([1.7520], dtype=torch.float64), mean = tensor([1.3241], dtype=torch.float64)). Please consider scaling the input to zero mean and unit variance.\n",
      "  check_standardization(Y=train_Y, raise_on_fail=raise_on_fail)\n"
     ]
    },
    {
     "name": "stdout",
     "output_type": "stream",
     "text": [
      "Exploitation 24/200 - New sample: [4.30900309 5.95721173 0.67196872 0.06322201], Objective value: -0.9330635270194163\n",
      "Exploitation 25/200 - New sample: [4.31196255 5.98172142 0.69403804 0.04824903], Objective value: -1.0703570654309822\n"
     ]
    },
    {
     "name": "stderr",
     "output_type": "stream",
     "text": [
      "/u/81/mirandi1/unix/.local/lib/python3.10/site-packages/botorch/models/utils/assorted.py:257: InputDataWarning: Input data is not contained to the unit cube. Please consider min-max scaling the input data.\n",
      "  check_min_max_scaling(\n",
      "/u/81/mirandi1/unix/.local/lib/python3.10/site-packages/botorch/models/utils/assorted.py:260: InputDataWarning: Data is not standardized (std = tensor([1.7839], dtype=torch.float64), mean = tensor([1.3777], dtype=torch.float64)). Please consider scaling the input to zero mean and unit variance.\n",
      "  check_standardization(Y=train_Y, raise_on_fail=raise_on_fail)\n"
     ]
    },
    {
     "name": "stdout",
     "output_type": "stream",
     "text": [
      "Exploitation 26/200 - New sample: [4.28846243 5.93957651 0.68867913 0.06934322], Objective value: -0.6978798032655404\n"
     ]
    },
    {
     "name": "stderr",
     "output_type": "stream",
     "text": [
      "/u/81/mirandi1/unix/.local/lib/python3.10/site-packages/botorch/models/utils/assorted.py:257: InputDataWarning: Input data is not contained to the unit cube. Please consider min-max scaling the input data.\n",
      "  check_min_max_scaling(\n",
      "/u/81/mirandi1/unix/.local/lib/python3.10/site-packages/botorch/models/utils/assorted.py:260: InputDataWarning: Data is not standardized (std = tensor([1.8060], dtype=torch.float64), mean = tensor([1.4254], dtype=torch.float64)). Please consider scaling the input to zero mean and unit variance.\n",
      "  check_standardization(Y=train_Y, raise_on_fail=raise_on_fail)\n"
     ]
    },
    {
     "name": "stdout",
     "output_type": "stream",
     "text": [
      "Exploitation 27/200 - New sample: [4.2810257  5.92030116 0.69122042 0.08687875], Objective value: -0.8014387312665879\n"
     ]
    },
    {
     "name": "stderr",
     "output_type": "stream",
     "text": [
      "/u/81/mirandi1/unix/.local/lib/python3.10/site-packages/botorch/models/utils/assorted.py:257: InputDataWarning: Input data is not contained to the unit cube. Please consider min-max scaling the input data.\n",
      "  check_min_max_scaling(\n",
      "/u/81/mirandi1/unix/.local/lib/python3.10/site-packages/botorch/models/utils/assorted.py:260: InputDataWarning: Data is not standardized (std = tensor([1.8230], dtype=torch.float64), mean = tensor([1.4696], dtype=torch.float64)). Please consider scaling the input to zero mean and unit variance.\n",
      "  check_standardization(Y=train_Y, raise_on_fail=raise_on_fail)\n"
     ]
    },
    {
     "name": "stdout",
     "output_type": "stream",
     "text": [
      "Exploitation 28/200 - New sample: [4.27048295 5.94685478 0.68292177 0.08169283], Objective value: -0.8492974639479911\n"
     ]
    },
    {
     "name": "stderr",
     "output_type": "stream",
     "text": [
      "/u/81/mirandi1/unix/.local/lib/python3.10/site-packages/botorch/models/utils/assorted.py:257: InputDataWarning: Input data is not contained to the unit cube. Please consider min-max scaling the input data.\n",
      "  check_min_max_scaling(\n",
      "/u/81/mirandi1/unix/.local/lib/python3.10/site-packages/botorch/models/utils/assorted.py:260: InputDataWarning: Data is not standardized (std = tensor([1.8511], dtype=torch.float64), mean = tensor([1.5205], dtype=torch.float64)). Please consider scaling the input to zero mean and unit variance.\n",
      "  check_standardization(Y=train_Y, raise_on_fail=raise_on_fail)\n"
     ]
    },
    {
     "name": "stdout",
     "output_type": "stream",
     "text": [
      "Exploitation 29/200 - New sample: [4.29618586 5.92886589 0.69546635 0.06778978], Objective value: -0.6367944380026899\n"
     ]
    },
    {
     "name": "stderr",
     "output_type": "stream",
     "text": [
      "/u/81/mirandi1/unix/.local/lib/python3.10/site-packages/botorch/models/utils/assorted.py:257: InputDataWarning: Input data is not contained to the unit cube. Please consider min-max scaling the input data.\n",
      "  check_min_max_scaling(\n",
      "/u/81/mirandi1/unix/.local/lib/python3.10/site-packages/botorch/models/utils/assorted.py:260: InputDataWarning: Data is not standardized (std = tensor([1.8734], dtype=torch.float64), mean = tensor([1.5679], dtype=torch.float64)). Please consider scaling the input to zero mean and unit variance.\n",
      "  check_standardization(Y=train_Y, raise_on_fail=raise_on_fail)\n"
     ]
    },
    {
     "name": "stdout",
     "output_type": "stream",
     "text": [
      "Exploitation 30/200 - New sample: [4.30467653 5.9156875  0.69709649 0.05888765], Objective value: -0.6882382073016542\n"
     ]
    },
    {
     "name": "stderr",
     "output_type": "stream",
     "text": [
      "/u/81/mirandi1/unix/.local/lib/python3.10/site-packages/botorch/models/utils/assorted.py:257: InputDataWarning: Input data is not contained to the unit cube. Please consider min-max scaling the input data.\n",
      "  check_min_max_scaling(\n",
      "/u/81/mirandi1/unix/.local/lib/python3.10/site-packages/botorch/models/utils/assorted.py:260: InputDataWarning: Data is not standardized (std = tensor([1.9013], dtype=torch.float64), mean = tensor([1.6186], dtype=torch.float64)). Please consider scaling the input to zero mean and unit variance.\n",
      "  check_standardization(Y=train_Y, raise_on_fail=raise_on_fail)\n"
     ]
    },
    {
     "name": "stdout",
     "output_type": "stream",
     "text": [
      "Exploitation 31/200 - New sample: [4.30618657 5.93043706 0.70633051 0.07423757], Objective value: -0.5584770553431473\n",
      "Exploitation 32/200 - New sample: [4.32299025 7.02198233 0.51966926 0.19371525], Objective value: -1.144611373659492\n"
     ]
    },
    {
     "name": "stderr",
     "output_type": "stream",
     "text": [
      "/u/81/mirandi1/unix/.local/lib/python3.10/site-packages/botorch/models/utils/assorted.py:257: InputDataWarning: Input data is not contained to the unit cube. Please consider min-max scaling the input data.\n",
      "  check_min_max_scaling(\n",
      "/u/81/mirandi1/unix/.local/lib/python3.10/site-packages/botorch/models/utils/assorted.py:260: InputDataWarning: Data is not standardized (std = tensor([1.8990], dtype=torch.float64), mean = tensor([1.6461], dtype=torch.float64)). Please consider scaling the input to zero mean and unit variance.\n",
      "  check_standardization(Y=train_Y, raise_on_fail=raise_on_fail)\n",
      "/u/81/mirandi1/unix/.local/lib/python3.10/site-packages/botorch/models/utils/assorted.py:257: InputDataWarning: Input data is not contained to the unit cube. Please consider min-max scaling the input data.\n",
      "  check_min_max_scaling(\n",
      "/u/81/mirandi1/unix/.local/lib/python3.10/site-packages/botorch/models/utils/assorted.py:260: InputDataWarning: Data is not standardized (std = tensor([1.9239], dtype=torch.float64), mean = tensor([1.6944], dtype=torch.float64)). Please consider scaling the input to zero mean and unit variance.\n",
      "  check_standardization(Y=train_Y, raise_on_fail=raise_on_fail)\n"
     ]
    },
    {
     "name": "stdout",
     "output_type": "stream",
     "text": [
      "Exploitation 33/200 - New sample: [4.31653268 5.93130563 0.7142221  0.08190336], Objective value: -0.54928483278611\n"
     ]
    },
    {
     "name": "stderr",
     "output_type": "stream",
     "text": [
      "/u/81/mirandi1/unix/.local/lib/python3.10/site-packages/botorch/models/utils/assorted.py:257: InputDataWarning: Input data is not contained to the unit cube. Please consider min-max scaling the input data.\n",
      "  check_min_max_scaling(\n",
      "/u/81/mirandi1/unix/.local/lib/python3.10/site-packages/botorch/models/utils/assorted.py:260: InputDataWarning: Data is not standardized (std = tensor([1.9395], dtype=torch.float64), mean = tensor([1.7366], dtype=torch.float64)). Please consider scaling the input to zero mean and unit variance.\n",
      "  check_standardization(Y=train_Y, raise_on_fail=raise_on_fail)\n",
      "/u/81/mirandi1/unix/.local/lib/python3.10/site-packages/botorch/models/utils/assorted.py:257: InputDataWarning: Input data is not contained to the unit cube. Please consider min-max scaling the input data.\n",
      "  check_min_max_scaling(\n",
      "/u/81/mirandi1/unix/.local/lib/python3.10/site-packages/botorch/models/utils/assorted.py:260: InputDataWarning: Data is not standardized (std = tensor([1.9796], dtype=torch.float64), mean = tensor([1.7931], dtype=torch.float64)). Please consider scaling the input to zero mean and unit variance.\n",
      "  check_standardization(Y=train_Y, raise_on_fail=raise_on_fail)\n"
     ]
    },
    {
     "name": "stdout",
     "output_type": "stream",
     "text": [
      "Exploitation 34/200 - New sample: [4.30955034 5.93069122 0.71903021 0.07723368], Objective value: -0.6802836116411104\n",
      "Exploitation 35/200 - New sample: [4.32308117 5.92918551 0.7001752  0.08639814], Objective value: -0.23772974901460955\n"
     ]
    },
    {
     "name": "stderr",
     "output_type": "stream",
     "text": [
      "/u/81/mirandi1/unix/.local/lib/python3.10/site-packages/botorch/models/utils/assorted.py:257: InputDataWarning: Input data is not contained to the unit cube. Please consider min-max scaling the input data.\n",
      "  check_min_max_scaling(\n",
      "/u/81/mirandi1/unix/.local/lib/python3.10/site-packages/botorch/models/utils/assorted.py:260: InputDataWarning: Data is not standardized (std = tensor([2.0440], dtype=torch.float64), mean = tensor([1.8614], dtype=torch.float64)). Please consider scaling the input to zero mean and unit variance.\n",
      "  check_standardization(Y=train_Y, raise_on_fail=raise_on_fail)\n"
     ]
    },
    {
     "name": "stdout",
     "output_type": "stream",
     "text": [
      "Exploitation 36/200 - New sample: [4.33344499 5.9253169  0.69061315 0.09495956], Objective value: 0.15018066172586464\n"
     ]
    },
    {
     "name": "stderr",
     "output_type": "stream",
     "text": [
      "/u/81/mirandi1/unix/.local/lib/python3.10/site-packages/botorch/models/utils/assorted.py:257: InputDataWarning: Input data is not contained to the unit cube. Please consider min-max scaling the input data.\n",
      "  check_min_max_scaling(\n",
      "/u/81/mirandi1/unix/.local/lib/python3.10/site-packages/botorch/models/utils/assorted.py:260: InputDataWarning: Data is not standardized (std = tensor([2.1281], dtype=torch.float64), mean = tensor([1.9387], dtype=torch.float64)). Please consider scaling the input to zero mean and unit variance.\n",
      "  check_standardization(Y=train_Y, raise_on_fail=raise_on_fail)\n",
      "/u/81/mirandi1/unix/.local/lib/python3.10/site-packages/botorch/models/utils/assorted.py:257: InputDataWarning: Input data is not contained to the unit cube. Please consider min-max scaling the input data.\n",
      "  check_min_max_scaling(\n",
      "/u/81/mirandi1/unix/.local/lib/python3.10/site-packages/botorch/models/utils/assorted.py:260: InputDataWarning: Data is not standardized (std = tensor([2.1881], dtype=torch.float64), mean = tensor([2.0068], dtype=torch.float64)). Please consider scaling the input to zero mean and unit variance.\n",
      "  check_standardization(Y=train_Y, raise_on_fail=raise_on_fail)\n"
     ]
    },
    {
     "name": "stdout",
     "output_type": "stream",
     "text": [
      "Exploitation 37/200 - New sample: [4.346262   5.91992917 0.6835338  0.10572881], Objective value: 0.46970913849604345\n",
      "Exploitation 38/200 - New sample: [4.35558486 5.91617714 0.67947357 0.11327922], Objective value: 0.2616902776366745\n",
      "Exploitation 39/200 - New sample: [4.32318794 7.02330897 0.51804089 0.19397614], Objective value: -1.1449138350309596\n"
     ]
    },
    {
     "name": "stderr",
     "output_type": "stream",
     "text": [
      "/u/81/mirandi1/unix/.local/lib/python3.10/site-packages/botorch/models/utils/assorted.py:257: InputDataWarning: Input data is not contained to the unit cube. Please consider min-max scaling the input data.\n",
      "  check_min_max_scaling(\n",
      "/u/81/mirandi1/unix/.local/lib/python3.10/site-packages/botorch/models/utils/assorted.py:260: InputDataWarning: Data is not standardized (std = tensor([2.1785], dtype=torch.float64), mean = tensor([2.0261], dtype=torch.float64)). Please consider scaling the input to zero mean and unit variance.\n",
      "  check_standardization(Y=train_Y, raise_on_fail=raise_on_fail)\n",
      "/u/81/mirandi1/unix/.local/lib/python3.10/site-packages/botorch/models/utils/assorted.py:257: InputDataWarning: Input data is not contained to the unit cube. Please consider min-max scaling the input data.\n",
      "  check_min_max_scaling(\n",
      "/u/81/mirandi1/unix/.local/lib/python3.10/site-packages/botorch/models/utils/assorted.py:260: InputDataWarning: Data is not standardized (std = tensor([2.2537], dtype=torch.float64), mean = tensor([2.1007], dtype=torch.float64)). Please consider scaling the input to zero mean and unit variance.\n",
      "  check_standardization(Y=train_Y, raise_on_fail=raise_on_fail)\n"
     ]
    },
    {
     "name": "stdout",
     "output_type": "stream",
     "text": [
      "Exploitation 40/200 - New sample: [4.34236985 5.91931883 0.68049884 0.10720588], Objective value: 0.5542835394302601\n",
      "Exploitation 41/200 - New sample: [4.33815734 5.9182973  0.67655079 0.11007372], Objective value: 0.4395946806733391\n"
     ]
    },
    {
     "name": "stderr",
     "output_type": "stream",
     "text": [
      "/u/81/mirandi1/unix/.local/lib/python3.10/site-packages/botorch/models/utils/assorted.py:257: InputDataWarning: Input data is not contained to the unit cube. Please consider min-max scaling the input data.\n",
      "  check_min_max_scaling(\n",
      "/u/81/mirandi1/unix/.local/lib/python3.10/site-packages/botorch/models/utils/assorted.py:260: InputDataWarning: Data is not standardized (std = tensor([2.3140], dtype=torch.float64), mean = tensor([2.1695], dtype=torch.float64)). Please consider scaling the input to zero mean and unit variance.\n",
      "  check_standardization(Y=train_Y, raise_on_fail=raise_on_fail)\n",
      "/u/81/mirandi1/unix/.local/lib/python3.10/site-packages/botorch/models/utils/assorted.py:257: InputDataWarning: Input data is not contained to the unit cube. Please consider min-max scaling the input data.\n",
      "  check_min_max_scaling(\n",
      "/u/81/mirandi1/unix/.local/lib/python3.10/site-packages/botorch/models/utils/assorted.py:260: InputDataWarning: Data is not standardized (std = tensor([2.3936], dtype=torch.float64), mean = tensor([2.2474], dtype=torch.float64)). Please consider scaling the input to zero mean and unit variance.\n",
      "  check_standardization(Y=train_Y, raise_on_fail=raise_on_fail)\n",
      "/u/81/mirandi1/unix/.local/lib/python3.10/site-packages/botorch/models/utils/assorted.py:257: InputDataWarning: Input data is not contained to the unit cube. Please consider min-max scaling the input data.\n",
      "  check_min_max_scaling(\n",
      "/u/81/mirandi1/unix/.local/lib/python3.10/site-packages/botorch/models/utils/assorted.py:260: InputDataWarning: Data is not standardized (std = tensor([2.3809], dtype=torch.float64), mean = tensor([2.2623], dtype=torch.float64)). Please consider scaling the input to zero mean and unit variance.\n",
      "  check_standardization(Y=train_Y, raise_on_fail=raise_on_fail)\n"
     ]
    },
    {
     "name": "stdout",
     "output_type": "stream",
     "text": [
      "Exploitation 42/200 - New sample: [4.34291312 5.91031757 0.67622903 0.10116599], Objective value: 0.7793049374372669\n",
      "Exploitation 43/200 - New sample: [4.32206795 7.0249593  0.51362961 0.19469423], Objective value: -1.148338899642517\n",
      "Exploitation 44/200 - New sample: [4.34407188 5.90424897 0.67371793 0.09651736], Objective value: 0.49710805440377814\n"
     ]
    },
    {
     "name": "stderr",
     "output_type": "stream",
     "text": [
      "/u/81/mirandi1/unix/.local/lib/python3.10/site-packages/botorch/models/utils/assorted.py:257: InputDataWarning: Input data is not contained to the unit cube. Please consider min-max scaling the input data.\n",
      "  check_min_max_scaling(\n",
      "/u/81/mirandi1/unix/.local/lib/python3.10/site-packages/botorch/models/utils/assorted.py:260: InputDataWarning: Data is not standardized (std = tensor([2.4335], dtype=torch.float64), mean = tensor([2.3281], dtype=torch.float64)). Please consider scaling the input to zero mean and unit variance.\n",
      "  check_standardization(Y=train_Y, raise_on_fail=raise_on_fail)\n",
      "/u/81/mirandi1/unix/.local/lib/python3.10/site-packages/botorch/models/utils/assorted.py:257: InputDataWarning: Input data is not contained to the unit cube. Please consider min-max scaling the input data.\n",
      "  check_min_max_scaling(\n",
      "/u/81/mirandi1/unix/.local/lib/python3.10/site-packages/botorch/models/utils/assorted.py:260: InputDataWarning: Data is not standardized (std = tensor([2.5081], dtype=torch.float64), mean = tensor([2.4042], dtype=torch.float64)). Please consider scaling the input to zero mean and unit variance.\n",
      "  check_standardization(Y=train_Y, raise_on_fail=raise_on_fail)\n"
     ]
    },
    {
     "name": "stdout",
     "output_type": "stream",
     "text": [
      "Exploitation 45/200 - New sample: [4.34218823 5.90807847 0.67440287 0.10293191], Objective value: 0.8905309145488023\n",
      "Exploitation 46/200 - New sample: [4.31877313 7.01664821 0.51169158 0.19356475], Objective value: -1.1521217062586584\n"
     ]
    },
    {
     "name": "stderr",
     "output_type": "stream",
     "text": [
      "/u/81/mirandi1/unix/.local/lib/python3.10/site-packages/botorch/models/utils/assorted.py:257: InputDataWarning: Input data is not contained to the unit cube. Please consider min-max scaling the input data.\n",
      "  check_min_max_scaling(\n",
      "/u/81/mirandi1/unix/.local/lib/python3.10/site-packages/botorch/models/utils/assorted.py:260: InputDataWarning: Data is not standardized (std = tensor([2.4941], dtype=torch.float64), mean = tensor([2.4165], dtype=torch.float64)). Please consider scaling the input to zero mean and unit variance.\n",
      "  check_standardization(Y=train_Y, raise_on_fail=raise_on_fail)\n",
      "/u/81/mirandi1/unix/.local/lib/python3.10/site-packages/botorch/models/utils/assorted.py:257: InputDataWarning: Input data is not contained to the unit cube. Please consider min-max scaling the input data.\n",
      "  check_min_max_scaling(\n",
      "/u/81/mirandi1/unix/.local/lib/python3.10/site-packages/botorch/models/utils/assorted.py:260: InputDataWarning: Data is not standardized (std = tensor([2.5226], dtype=torch.float64), mean = tensor([2.4696], dtype=torch.float64)). Please consider scaling the input to zero mean and unit variance.\n",
      "  check_standardization(Y=train_Y, raise_on_fail=raise_on_fail)\n"
     ]
    },
    {
     "name": "stdout",
     "output_type": "stream",
     "text": [
      "Exploitation 47/200 - New sample: [4.33836266 5.893103   0.66819276 0.11237033], Objective value: 0.22309766907693904\n"
     ]
    },
    {
     "name": "stderr",
     "output_type": "stream",
     "text": [
      "/u/81/mirandi1/unix/.local/lib/python3.10/site-packages/botorch/models/utils/assorted.py:257: InputDataWarning: Input data is not contained to the unit cube. Please consider min-max scaling the input data.\n",
      "  check_min_max_scaling(\n",
      "/u/81/mirandi1/unix/.local/lib/python3.10/site-packages/botorch/models/utils/assorted.py:260: InputDataWarning: Data is not standardized (std = tensor([2.5852], dtype=torch.float64), mean = tensor([2.5403], dtype=torch.float64)). Please consider scaling the input to zero mean and unit variance.\n",
      "  check_standardization(Y=train_Y, raise_on_fail=raise_on_fail)\n",
      "/u/81/mirandi1/unix/.local/lib/python3.10/site-packages/botorch/models/utils/assorted.py:257: InputDataWarning: Input data is not contained to the unit cube. Please consider min-max scaling the input data.\n",
      "  check_min_max_scaling(\n",
      "/u/81/mirandi1/unix/.local/lib/python3.10/site-packages/botorch/models/utils/assorted.py:260: InputDataWarning: Data is not standardized (std = tensor([2.5706], dtype=torch.float64), mean = tensor([2.5505], dtype=torch.float64)). Please consider scaling the input to zero mean and unit variance.\n",
      "  check_standardization(Y=train_Y, raise_on_fail=raise_on_fail)\n"
     ]
    },
    {
     "name": "stdout",
     "output_type": "stream",
     "text": [
      "Exploitation 48/200 - New sample: [4.34315084 5.91000694 0.67376681 0.10097466], Objective value: 0.8633827376388772\n",
      "Exploitation 49/200 - New sample: [4.31979083 7.01966744 0.51212808 0.1932608 ], Objective value: -1.1497047327996097\n"
     ]
    },
    {
     "name": "stderr",
     "output_type": "stream",
     "text": [
      "/u/81/mirandi1/unix/.local/lib/python3.10/site-packages/botorch/models/utils/assorted.py:257: InputDataWarning: Input data is not contained to the unit cube. Please consider min-max scaling the input data.\n",
      "  check_min_max_scaling(\n",
      "/u/81/mirandi1/unix/.local/lib/python3.10/site-packages/botorch/models/utils/assorted.py:260: InputDataWarning: Data is not standardized (std = tensor([2.5870], dtype=torch.float64), mean = tensor([2.5955], dtype=torch.float64)). Please consider scaling the input to zero mean and unit variance.\n",
      "  check_standardization(Y=train_Y, raise_on_fail=raise_on_fail)\n",
      "/u/81/mirandi1/unix/.local/lib/python3.10/site-packages/botorch/models/utils/assorted.py:257: InputDataWarning: Input data is not contained to the unit cube. Please consider min-max scaling the input data.\n",
      "  check_min_max_scaling(\n",
      "/u/81/mirandi1/unix/.local/lib/python3.10/site-packages/botorch/models/utils/assorted.py:260: InputDataWarning: Data is not standardized (std = tensor([2.5996], dtype=torch.float64), mean = tensor([2.6376], dtype=torch.float64)). Please consider scaling the input to zero mean and unit variance.\n",
      "  check_standardization(Y=train_Y, raise_on_fail=raise_on_fail)\n"
     ]
    },
    {
     "name": "stdout",
     "output_type": "stream",
     "text": [
      "Exploitation 50/200 - New sample: [4.34539535 5.91473026 0.66261107 0.09742371], Objective value: 0.06573375567858135\n",
      "Exploitation 51/200 - New sample: [4.34397061 5.90064755 0.68772773 0.1023545 ], Objective value: 0.0003997373014157607\n"
     ]
    },
    {
     "name": "stderr",
     "output_type": "stream",
     "text": [
      "/u/81/mirandi1/unix/.local/lib/python3.10/site-packages/botorch/models/utils/assorted.py:257: InputDataWarning: Input data is not contained to the unit cube. Please consider min-max scaling the input data.\n",
      "  check_min_max_scaling(\n",
      "/u/81/mirandi1/unix/.local/lib/python3.10/site-packages/botorch/models/utils/assorted.py:260: InputDataWarning: Data is not standardized (std = tensor([2.6635], dtype=torch.float64), mean = tensor([2.7081], dtype=torch.float64)). Please consider scaling the input to zero mean and unit variance.\n",
      "  check_standardization(Y=train_Y, raise_on_fail=raise_on_fail)\n",
      "/u/81/mirandi1/unix/.local/lib/python3.10/site-packages/botorch/models/utils/assorted.py:257: InputDataWarning: Input data is not contained to the unit cube. Please consider min-max scaling the input data.\n",
      "  check_min_max_scaling(\n",
      "/u/81/mirandi1/unix/.local/lib/python3.10/site-packages/botorch/models/utils/assorted.py:260: InputDataWarning: Data is not standardized (std = tensor([2.7277], dtype=torch.float64), mean = tensor([2.7793], dtype=torch.float64)). Please consider scaling the input to zero mean and unit variance.\n",
      "  check_standardization(Y=train_Y, raise_on_fail=raise_on_fail)\n"
     ]
    },
    {
     "name": "stdout",
     "output_type": "stream",
     "text": [
      "Exploitation 52/200 - New sample: [4.34394145 5.91074843 0.67375585 0.10499549], Objective value: 1.0483377904076119\n",
      "Exploitation 53/200 - New sample: [4.34411709 5.91076343 0.67290941 0.10570277], Objective value: 1.1292875392868948\n"
     ]
    },
    {
     "name": "stderr",
     "output_type": "stream",
     "text": [
      "/u/81/mirandi1/unix/.local/lib/python3.10/site-packages/botorch/models/utils/assorted.py:257: InputDataWarning: Input data is not contained to the unit cube. Please consider min-max scaling the input data.\n",
      "  check_min_max_scaling(\n",
      "/u/81/mirandi1/unix/.local/lib/python3.10/site-packages/botorch/models/utils/assorted.py:260: InputDataWarning: Data is not standardized (std = tensor([2.7925], dtype=torch.float64), mean = tensor([2.8513], dtype=torch.float64)). Please consider scaling the input to zero mean and unit variance.\n",
      "  check_standardization(Y=train_Y, raise_on_fail=raise_on_fail)\n",
      "/u/81/mirandi1/unix/.local/lib/python3.10/site-packages/botorch/models/utils/assorted.py:257: InputDataWarning: Input data is not contained to the unit cube. Please consider min-max scaling the input data.\n",
      "  check_min_max_scaling(\n",
      "/u/81/mirandi1/unix/.local/lib/python3.10/site-packages/botorch/models/utils/assorted.py:260: InputDataWarning: Data is not standardized (std = tensor([2.8584], dtype=torch.float64), mean = tensor([2.9242], dtype=torch.float64)). Please consider scaling the input to zero mean and unit variance.\n",
      "  check_standardization(Y=train_Y, raise_on_fail=raise_on_fail)\n"
     ]
    },
    {
     "name": "stdout",
     "output_type": "stream",
     "text": [
      "Exploitation 54/200 - New sample: [4.34437294 5.91073867 0.67196392 0.10651358], Objective value: 1.2190657362177861\n",
      "Exploitation 55/200 - New sample: [4.34462721 5.91075338 0.67088346 0.10744694], Objective value: 1.3165650271562905\n"
     ]
    },
    {
     "name": "stderr",
     "output_type": "stream",
     "text": [
      "/u/81/mirandi1/unix/.local/lib/python3.10/site-packages/botorch/models/utils/assorted.py:257: InputDataWarning: Input data is not contained to the unit cube. Please consider min-max scaling the input data.\n",
      "  check_min_max_scaling(\n",
      "/u/81/mirandi1/unix/.local/lib/python3.10/site-packages/botorch/models/utils/assorted.py:260: InputDataWarning: Data is not standardized (std = tensor([2.9249], dtype=torch.float64), mean = tensor([2.9979], dtype=torch.float64)). Please consider scaling the input to zero mean and unit variance.\n",
      "  check_standardization(Y=train_Y, raise_on_fail=raise_on_fail)\n",
      "/u/81/mirandi1/unix/.local/lib/python3.10/site-packages/botorch/models/utils/assorted.py:257: InputDataWarning: Input data is not contained to the unit cube. Please consider min-max scaling the input data.\n",
      "  check_min_max_scaling(\n",
      "/u/81/mirandi1/unix/.local/lib/python3.10/site-packages/botorch/models/utils/assorted.py:260: InputDataWarning: Data is not standardized (std = tensor([2.9890], dtype=torch.float64), mean = tensor([3.0711], dtype=torch.float64)). Please consider scaling the input to zero mean and unit variance.\n",
      "  check_standardization(Y=train_Y, raise_on_fail=raise_on_fail)\n"
     ]
    },
    {
     "name": "stdout",
     "output_type": "stream",
     "text": [
      "Exploitation 56/200 - New sample: [4.34488708 5.91081494 0.66963901 0.1085286 ], Objective value: 1.406389888362939\n",
      "Exploitation 57/200 - New sample: [4.3451222  5.91094975 0.66821437 0.10977997], Objective value: 1.4476158310659308\n"
     ]
    },
    {
     "name": "stderr",
     "output_type": "stream",
     "text": [
      "/u/81/mirandi1/unix/.local/lib/python3.10/site-packages/botorch/models/utils/assorted.py:257: InputDataWarning: Input data is not contained to the unit cube. Please consider min-max scaling the input data.\n",
      "  check_min_max_scaling(\n",
      "/u/81/mirandi1/unix/.local/lib/python3.10/site-packages/botorch/models/utils/assorted.py:260: InputDataWarning: Data is not standardized (std = tensor([3.0447], dtype=torch.float64), mean = tensor([3.1407], dtype=torch.float64)). Please consider scaling the input to zero mean and unit variance.\n",
      "  check_standardization(Y=train_Y, raise_on_fail=raise_on_fail)\n",
      "/u/81/mirandi1/unix/.local/lib/python3.10/site-packages/botorch/models/utils/assorted.py:257: InputDataWarning: Input data is not contained to the unit cube. Please consider min-max scaling the input data.\n",
      "  check_min_max_scaling(\n",
      "/u/81/mirandi1/unix/.local/lib/python3.10/site-packages/botorch/models/utils/assorted.py:260: InputDataWarning: Data is not standardized (std = tensor([3.0907], dtype=torch.float64), mean = tensor([3.2058], dtype=torch.float64)). Please consider scaling the input to zero mean and unit variance.\n",
      "  check_standardization(Y=train_Y, raise_on_fail=raise_on_fail)\n"
     ]
    },
    {
     "name": "stdout",
     "output_type": "stream",
     "text": [
      "Exploitation 58/200 - New sample: [4.34521716 5.91122895 0.66663753 0.11124109], Objective value: 1.3761997907731258\n",
      "Exploitation 59/200 - New sample: [4.34511816 5.91152753 0.665312   0.11243074], Objective value: 1.2589065339579029\n"
     ]
    },
    {
     "name": "stderr",
     "output_type": "stream",
     "text": [
      "/u/81/mirandi1/unix/.local/lib/python3.10/site-packages/botorch/models/utils/assorted.py:257: InputDataWarning: Input data is not contained to the unit cube. Please consider min-max scaling the input data.\n",
      "  check_min_max_scaling(\n",
      "/u/81/mirandi1/unix/.local/lib/python3.10/site-packages/botorch/models/utils/assorted.py:260: InputDataWarning: Data is not standardized (std = tensor([3.1299], dtype=torch.float64), mean = tensor([3.2674], dtype=torch.float64)). Please consider scaling the input to zero mean and unit variance.\n",
      "  check_standardization(Y=train_Y, raise_on_fail=raise_on_fail)\n",
      "/u/81/mirandi1/unix/.local/lib/python3.10/site-packages/botorch/models/utils/assorted.py:257: InputDataWarning: Input data is not contained to the unit cube. Please consider min-max scaling the input data.\n",
      "  check_min_max_scaling(\n",
      "/u/81/mirandi1/unix/.local/lib/python3.10/site-packages/botorch/models/utils/assorted.py:260: InputDataWarning: Data is not standardized (std = tensor([3.1609], dtype=torch.float64), mean = tensor([3.3243], dtype=torch.float64)). Please consider scaling the input to zero mean and unit variance.\n",
      "  check_standardization(Y=train_Y, raise_on_fail=raise_on_fail)\n"
     ]
    },
    {
     "name": "stdout",
     "output_type": "stream",
     "text": [
      "Exploitation 60/200 - New sample: [4.34473206 5.91185137 0.66462098 0.11302227], Objective value: 1.1778379089238407\n",
      "Exploitation 61/200 - New sample: [4.34432766 5.91196953 0.66436892 0.11370128], Objective value: 1.0474069296379969\n"
     ]
    },
    {
     "name": "stderr",
     "output_type": "stream",
     "text": [
      "/u/81/mirandi1/unix/.local/lib/python3.10/site-packages/botorch/models/utils/assorted.py:257: InputDataWarning: Input data is not contained to the unit cube. Please consider min-max scaling the input data.\n",
      "  check_min_max_scaling(\n",
      "/u/81/mirandi1/unix/.local/lib/python3.10/site-packages/botorch/models/utils/assorted.py:260: InputDataWarning: Data is not standardized (std = tensor([3.1439], dtype=torch.float64), mean = tensor([3.3246], dtype=torch.float64)). Please consider scaling the input to zero mean and unit variance.\n",
      "  check_standardization(Y=train_Y, raise_on_fail=raise_on_fail)\n",
      "/u/81/mirandi1/unix/.local/lib/python3.10/site-packages/botorch/models/utils/assorted.py:257: InputDataWarning: Input data is not contained to the unit cube. Please consider min-max scaling the input data.\n",
      "  check_min_max_scaling(\n",
      "/u/81/mirandi1/unix/.local/lib/python3.10/site-packages/botorch/models/utils/assorted.py:260: InputDataWarning: Data is not standardized (std = tensor([3.1756], dtype=torch.float64), mean = tensor([3.3813], dtype=torch.float64)). Please consider scaling the input to zero mean and unit variance.\n",
      "  check_standardization(Y=train_Y, raise_on_fail=raise_on_fail)\n"
     ]
    },
    {
     "name": "stdout",
     "output_type": "stream",
     "text": [
      "Exploitation 62/200 - New sample: [4.31712758 7.01764883 0.50630074 0.18690793], Objective value: -1.1558670931195667\n",
      "Exploitation 63/200 - New sample: [4.34415389 5.91129827 0.66634519 0.11232494], Objective value: 1.1097759061607504\n"
     ]
    },
    {
     "name": "stderr",
     "output_type": "stream",
     "text": [
      "/u/81/mirandi1/unix/.local/lib/python3.10/site-packages/botorch/models/utils/assorted.py:257: InputDataWarning: Input data is not contained to the unit cube. Please consider min-max scaling the input data.\n",
      "  check_min_max_scaling(\n",
      "/u/81/mirandi1/unix/.local/lib/python3.10/site-packages/botorch/models/utils/assorted.py:260: InputDataWarning: Data is not standardized (std = tensor([3.2078], dtype=torch.float64), mean = tensor([3.4383], dtype=torch.float64)). Please consider scaling the input to zero mean and unit variance.\n",
      "  check_standardization(Y=train_Y, raise_on_fail=raise_on_fail)\n",
      "/u/81/mirandi1/unix/.local/lib/python3.10/site-packages/botorch/models/utils/assorted.py:257: InputDataWarning: Input data is not contained to the unit cube. Please consider min-max scaling the input data.\n",
      "  check_min_max_scaling(\n",
      "/u/81/mirandi1/unix/.local/lib/python3.10/site-packages/botorch/models/utils/assorted.py:260: InputDataWarning: Data is not standardized (std = tensor([3.2003], dtype=torch.float64), mean = tensor([3.4137], dtype=torch.float64)). Please consider scaling the input to zero mean and unit variance.\n",
      "  check_standardization(Y=train_Y, raise_on_fail=raise_on_fail)\n"
     ]
    },
    {
     "name": "stdout",
     "output_type": "stream",
     "text": [
      "Exploitation 64/200 - New sample: [4.34761909 5.90803424 0.66877063 0.11025951], Objective value: 1.1712516754880968\n",
      "Exploitation 65/200 - New sample: [4.48312765 5.77234104 0.87157876 0.12174854], Objective value: -2.1290942951524183\n"
     ]
    },
    {
     "name": "stderr",
     "output_type": "stream",
     "text": [
      "/u/81/mirandi1/unix/.local/lib/python3.10/site-packages/botorch/models/utils/assorted.py:257: InputDataWarning: Input data is not contained to the unit cube. Please consider min-max scaling the input data.\n",
      "  check_min_max_scaling(\n",
      "/u/81/mirandi1/unix/.local/lib/python3.10/site-packages/botorch/models/utils/assorted.py:260: InputDataWarning: Data is not standardized (std = tensor([3.2300], dtype=torch.float64), mean = tensor([3.4687], dtype=torch.float64)). Please consider scaling the input to zero mean and unit variance.\n",
      "  check_standardization(Y=train_Y, raise_on_fail=raise_on_fail)\n",
      "/u/81/mirandi1/unix/.local/lib/python3.10/site-packages/botorch/models/utils/assorted.py:257: InputDataWarning: Input data is not contained to the unit cube. Please consider min-max scaling the input data.\n",
      "  check_min_max_scaling(\n",
      "/u/81/mirandi1/unix/.local/lib/python3.10/site-packages/botorch/models/utils/assorted.py:260: InputDataWarning: Data is not standardized (std = tensor([3.2175], dtype=torch.float64), mean = tensor([3.4526], dtype=torch.float64)). Please consider scaling the input to zero mean and unit variance.\n",
      "  check_standardization(Y=train_Y, raise_on_fail=raise_on_fail)\n"
     ]
    },
    {
     "name": "stdout",
     "output_type": "stream",
     "text": [
      "Exploitation 66/200 - New sample: [4.34512391 5.90961784 0.66914801 0.11024678], Objective value: 1.150846268997109\n",
      "Exploitation 67/200 - New sample: [4.28594978 7.10477926 0.60558688 0.25765837], Objective value: -1.7803928926467825\n"
     ]
    },
    {
     "name": "stderr",
     "output_type": "stream",
     "text": [
      "/u/81/mirandi1/unix/.local/lib/python3.10/site-packages/botorch/models/utils/assorted.py:257: InputDataWarning: Input data is not contained to the unit cube. Please consider min-max scaling the input data.\n",
      "  check_min_max_scaling(\n",
      "/u/81/mirandi1/unix/.local/lib/python3.10/site-packages/botorch/models/utils/assorted.py:260: InputDataWarning: Data is not standardized (std = tensor([3.2023], dtype=torch.float64), mean = tensor([3.4444], dtype=torch.float64)). Please consider scaling the input to zero mean and unit variance.\n",
      "  check_standardization(Y=train_Y, raise_on_fail=raise_on_fail)\n",
      "/u/81/mirandi1/unix/.local/lib/python3.10/site-packages/botorch/models/utils/assorted.py:257: InputDataWarning: Input data is not contained to the unit cube. Please consider min-max scaling the input data.\n",
      "  check_min_max_scaling(\n",
      "/u/81/mirandi1/unix/.local/lib/python3.10/site-packages/botorch/models/utils/assorted.py:260: InputDataWarning: Data is not standardized (std = tensor([3.1900], dtype=torch.float64), mean = tensor([3.4289], dtype=torch.float64)). Please consider scaling the input to zero mean and unit variance.\n",
      "  check_standardization(Y=train_Y, raise_on_fail=raise_on_fail)\n",
      "/u/81/mirandi1/unix/.local/lib/python3.10/site-packages/botorch/models/utils/assorted.py:257: InputDataWarning: Input data is not contained to the unit cube. Please consider min-max scaling the input data.\n",
      "  check_min_max_scaling(\n",
      "/u/81/mirandi1/unix/.local/lib/python3.10/site-packages/botorch/models/utils/assorted.py:260: InputDataWarning: Data is not standardized (std = tensor([3.1803], dtype=torch.float64), mean = tensor([3.4094], dtype=torch.float64)). Please consider scaling the input to zero mean and unit variance.\n",
      "  check_standardization(Y=train_Y, raise_on_fail=raise_on_fail)\n"
     ]
    },
    {
     "name": "stdout",
     "output_type": "stream",
     "text": [
      "Exploitation 68/200 - New sample: [4.2708578  5.9978794  0.77754822 0.11988251], Objective value: -1.4613270297322842\n",
      "Exploitation 69/200 - New sample: [4.28617678 7.10422078 0.60488424 0.25720227], Objective value: -1.7767882214591082\n",
      "Exploitation 70/200 - New sample: [4.43718507 6.03073278 0.85922968 0.02522142], Objective value: -1.9672631397719398\n",
      "Exploitation 71/200 - New sample: [4.34525475 5.91021988 0.66881796 0.10992577], Objective value: 1.2890828178227527\n",
      "Exploitation 72/200 - New sample: [4.24990844 5.37510848 0.68738955 0.18982727], Objective value: -2.125220001879913\n"
     ]
    },
    {
     "name": "stderr",
     "output_type": "stream",
     "text": [
      "/u/81/mirandi1/unix/.local/lib/python3.10/site-packages/botorch/models/utils/assorted.py:257: InputDataWarning: Input data is not contained to the unit cube. Please consider min-max scaling the input data.\n",
      "  check_min_max_scaling(\n",
      "/u/81/mirandi1/unix/.local/lib/python3.10/site-packages/botorch/models/utils/assorted.py:260: InputDataWarning: Data is not standardized (std = tensor([3.2146], dtype=torch.float64), mean = tensor([3.4649], dtype=torch.float64)). Please consider scaling the input to zero mean and unit variance.\n",
      "  check_standardization(Y=train_Y, raise_on_fail=raise_on_fail)\n",
      "/u/81/mirandi1/unix/.local/lib/python3.10/site-packages/botorch/models/utils/assorted.py:257: InputDataWarning: Input data is not contained to the unit cube. Please consider min-max scaling the input data.\n",
      "  check_min_max_scaling(\n",
      "/u/81/mirandi1/unix/.local/lib/python3.10/site-packages/botorch/models/utils/assorted.py:260: InputDataWarning: Data is not standardized (std = tensor([3.2076], dtype=torch.float64), mean = tensor([3.4418], dtype=torch.float64)). Please consider scaling the input to zero mean and unit variance.\n",
      "  check_standardization(Y=train_Y, raise_on_fail=raise_on_fail)\n",
      "/u/81/mirandi1/unix/.local/lib/python3.10/site-packages/botorch/models/utils/assorted.py:257: InputDataWarning: Input data is not contained to the unit cube. Please consider min-max scaling the input data.\n",
      "  check_min_max_scaling(\n",
      "/u/81/mirandi1/unix/.local/lib/python3.10/site-packages/botorch/models/utils/assorted.py:260: InputDataWarning: Data is not standardized (std = tensor([3.2418], dtype=torch.float64), mean = tensor([3.4970], dtype=torch.float64)). Please consider scaling the input to zero mean and unit variance.\n",
      "  check_standardization(Y=train_Y, raise_on_fail=raise_on_fail)\n",
      "/u/81/mirandi1/unix/.local/lib/python3.10/site-packages/botorch/models/utils/assorted.py:257: InputDataWarning: Input data is not contained to the unit cube. Please consider min-max scaling the input data.\n",
      "  check_min_max_scaling(\n",
      "/u/81/mirandi1/unix/.local/lib/python3.10/site-packages/botorch/models/utils/assorted.py:260: InputDataWarning: Data is not standardized (std = tensor([3.2751], dtype=torch.float64), mean = tensor([3.5517], dtype=torch.float64)). Please consider scaling the input to zero mean and unit variance.\n",
      "  check_standardization(Y=train_Y, raise_on_fail=raise_on_fail)\n"
     ]
    },
    {
     "name": "stdout",
     "output_type": "stream",
     "text": [
      "Exploitation 73/200 - New sample: [4.34530006 5.91036229 0.6687848  0.10977376], Objective value: 1.3315840308076057\n",
      "Exploitation 74/200 - New sample: [4.34533748 5.91044613 0.66876541 0.10968865], Objective value: 1.3565784013789035\n"
     ]
    },
    {
     "name": "stderr",
     "output_type": "stream",
     "text": [
      "/u/81/mirandi1/unix/.local/lib/python3.10/site-packages/botorch/models/utils/assorted.py:257: InputDataWarning: Input data is not contained to the unit cube. Please consider min-max scaling the input data.\n",
      "  check_min_max_scaling(\n",
      "/u/81/mirandi1/unix/.local/lib/python3.10/site-packages/botorch/models/utils/assorted.py:260: InputDataWarning: Data is not standardized (std = tensor([3.2608], dtype=torch.float64), mean = tensor([3.5433], dtype=torch.float64)). Please consider scaling the input to zero mean and unit variance.\n",
      "  check_standardization(Y=train_Y, raise_on_fail=raise_on_fail)\n",
      "/u/81/mirandi1/unix/.local/lib/python3.10/site-packages/botorch/models/utils/assorted.py:257: InputDataWarning: Input data is not contained to the unit cube. Please consider min-max scaling the input data.\n",
      "  check_min_max_scaling(\n",
      "/u/81/mirandi1/unix/.local/lib/python3.10/site-packages/botorch/models/utils/assorted.py:260: InputDataWarning: Data is not standardized (std = tensor([3.2939], dtype=torch.float64), mean = tensor([3.5974], dtype=torch.float64)). Please consider scaling the input to zero mean and unit variance.\n",
      "  check_standardization(Y=train_Y, raise_on_fail=raise_on_fail)\n"
     ]
    },
    {
     "name": "stdout",
     "output_type": "stream",
     "text": [
      "Exploitation 75/200 - New sample: [4.27129011 5.99697815 0.77629131 0.11898585], Objective value: -1.4504345934890235\n",
      "Exploitation 76/200 - New sample: [4.34540521 5.9105847  0.66872508 0.10956765], Objective value: 1.3961345021506282\n"
     ]
    },
    {
     "name": "stderr",
     "output_type": "stream",
     "text": [
      "/u/81/mirandi1/unix/.local/lib/python3.10/site-packages/botorch/models/utils/assorted.py:257: InputDataWarning: Input data is not contained to the unit cube. Please consider min-max scaling the input data.\n",
      "  check_min_max_scaling(\n",
      "/u/81/mirandi1/unix/.local/lib/python3.10/site-packages/botorch/models/utils/assorted.py:260: InputDataWarning: Data is not standardized (std = tensor([3.3262], dtype=torch.float64), mean = tensor([3.6511], dtype=torch.float64)). Please consider scaling the input to zero mean and unit variance.\n",
      "  check_standardization(Y=train_Y, raise_on_fail=raise_on_fail)\n",
      "/u/81/mirandi1/unix/.local/lib/python3.10/site-packages/botorch/models/utils/assorted.py:257: InputDataWarning: Input data is not contained to the unit cube. Please consider min-max scaling the input data.\n",
      "  check_min_max_scaling(\n",
      "/u/81/mirandi1/unix/.local/lib/python3.10/site-packages/botorch/models/utils/assorted.py:260: InputDataWarning: Data is not standardized (std = tensor([3.3111], dtype=torch.float64), mean = tensor([3.6476], dtype=torch.float64)). Please consider scaling the input to zero mean and unit variance.\n",
      "  check_standardization(Y=train_Y, raise_on_fail=raise_on_fail)\n"
     ]
    },
    {
     "name": "stdout",
     "output_type": "stream",
     "text": [
      "Exploitation 77/200 - New sample: [4.34548652 5.91068683 0.66869608 0.10948995], Objective value: 1.4242630404362244\n",
      "Exploitation 78/200 - New sample: [4.29909749 6.9790155  0.51554214 0.18723009], Objective value: -1.1943010884320788\n"
     ]
    },
    {
     "name": "stderr",
     "output_type": "stream",
     "text": [
      "/u/81/mirandi1/unix/.local/lib/python3.10/site-packages/botorch/models/utils/assorted.py:257: InputDataWarning: Input data is not contained to the unit cube. Please consider min-max scaling the input data.\n",
      "  check_min_max_scaling(\n",
      "/u/81/mirandi1/unix/.local/lib/python3.10/site-packages/botorch/models/utils/assorted.py:260: InputDataWarning: Data is not standardized (std = tensor([3.2961], dtype=torch.float64), mean = tensor([3.6451], dtype=torch.float64)). Please consider scaling the input to zero mean and unit variance.\n",
      "  check_standardization(Y=train_Y, raise_on_fail=raise_on_fail)\n",
      "/u/81/mirandi1/unix/.local/lib/python3.10/site-packages/botorch/models/utils/assorted.py:257: InputDataWarning: Input data is not contained to the unit cube. Please consider min-max scaling the input data.\n",
      "  check_min_max_scaling(\n",
      "/u/81/mirandi1/unix/.local/lib/python3.10/site-packages/botorch/models/utils/assorted.py:260: InputDataWarning: Data is not standardized (std = tensor([3.3279], dtype=torch.float64), mean = tensor([3.6976], dtype=torch.float64)). Please consider scaling the input to zero mean and unit variance.\n",
      "  check_standardization(Y=train_Y, raise_on_fail=raise_on_fail)\n"
     ]
    },
    {
     "name": "stdout",
     "output_type": "stream",
     "text": [
      "Exploitation 79/200 - New sample: [4.32249297 6.99886045 0.50796626 0.18957091], Objective value: -1.1463301836822262\n",
      "Exploitation 80/200 - New sample: [4.34561567 5.91079685 0.66866653 0.10941936], Objective value: 1.4526582667079693\n"
     ]
    },
    {
     "name": "stderr",
     "output_type": "stream",
     "text": [
      "/u/81/mirandi1/unix/.local/lib/python3.10/site-packages/botorch/models/utils/assorted.py:257: InputDataWarning: Input data is not contained to the unit cube. Please consider min-max scaling the input data.\n",
      "  check_min_max_scaling(\n",
      "/u/81/mirandi1/unix/.local/lib/python3.10/site-packages/botorch/models/utils/assorted.py:260: InputDataWarning: Data is not standardized (std = tensor([3.3144], dtype=torch.float64), mean = tensor([3.6885], dtype=torch.float64)). Please consider scaling the input to zero mean and unit variance.\n",
      "  check_standardization(Y=train_Y, raise_on_fail=raise_on_fail)\n",
      "/u/81/mirandi1/unix/.local/lib/python3.10/site-packages/botorch/models/utils/assorted.py:257: InputDataWarning: Input data is not contained to the unit cube. Please consider min-max scaling the input data.\n",
      "  check_min_max_scaling(\n",
      "/u/81/mirandi1/unix/.local/lib/python3.10/site-packages/botorch/models/utils/assorted.py:260: InputDataWarning: Data is not standardized (std = tensor([3.3090], dtype=torch.float64), mean = tensor([3.6653], dtype=torch.float64)). Please consider scaling the input to zero mean and unit variance.\n",
      "  check_standardization(Y=train_Y, raise_on_fail=raise_on_fail)\n",
      "/u/81/mirandi1/unix/.local/lib/python3.10/site-packages/botorch/models/utils/assorted.py:257: InputDataWarning: Input data is not contained to the unit cube. Please consider min-max scaling the input data.\n",
      "  check_min_max_scaling(\n",
      "/u/81/mirandi1/unix/.local/lib/python3.10/site-packages/botorch/models/utils/assorted.py:260: InputDataWarning: Data is not standardized (std = tensor([3.2957], dtype=torch.float64), mean = tensor([3.6568], dtype=torch.float64)). Please consider scaling the input to zero mean and unit variance.\n",
      "  check_standardization(Y=train_Y, raise_on_fail=raise_on_fail)\n"
     ]
    },
    {
     "name": "stdout",
     "output_type": "stream",
     "text": [
      "Exploitation 81/200 - New sample: [4.27152187 5.99648574 0.77560548 0.118493  ], Objective value: -1.4444207564078213\n",
      "Exploitation 82/200 - New sample: [4.24270771 5.38310703 0.68949427 0.18917188], Objective value: -2.129889912521724\n",
      "Exploitation 83/200 - New sample: [4.27171476 5.99598201 0.77492627 0.11797158], Objective value: -1.4384367736725898\n"
     ]
    },
    {
     "name": "stderr",
     "output_type": "stream",
     "text": [
      "/u/81/mirandi1/unix/.local/lib/python3.10/site-packages/botorch/models/utils/assorted.py:257: InputDataWarning: Input data is not contained to the unit cube. Please consider min-max scaling the input data.\n",
      "  check_min_max_scaling(\n",
      "/u/81/mirandi1/unix/.local/lib/python3.10/site-packages/botorch/models/utils/assorted.py:260: InputDataWarning: Data is not standardized (std = tensor([3.2903], dtype=torch.float64), mean = tensor([3.6343], dtype=torch.float64)). Please consider scaling the input to zero mean and unit variance.\n",
      "  check_standardization(Y=train_Y, raise_on_fail=raise_on_fail)\n",
      "/u/81/mirandi1/unix/.local/lib/python3.10/site-packages/botorch/models/utils/assorted.py:257: InputDataWarning: Input data is not contained to the unit cube. Please consider min-max scaling the input data.\n",
      "  check_min_max_scaling(\n",
      "/u/81/mirandi1/unix/.local/lib/python3.10/site-packages/botorch/models/utils/assorted.py:260: InputDataWarning: Data is not standardized (std = tensor([3.3241], dtype=torch.float64), mean = tensor([3.6863], dtype=torch.float64)). Please consider scaling the input to zero mean and unit variance.\n",
      "  check_standardization(Y=train_Y, raise_on_fail=raise_on_fail)\n"
     ]
    },
    {
     "name": "stdout",
     "output_type": "stream",
     "text": [
      "Exploitation 84/200 - New sample: [4.24016341 5.37134731 0.68518345 0.1863045 ], Objective value: -2.130051084009358\n",
      "Exploitation 85/200 - New sample: [4.34713837 5.91315085 0.66639408 0.10833216], Objective value: 1.539357482946893\n",
      "Exploitation 86/200 - New sample: [4.31596011 6.98607182 0.50783443 0.18970043], Objective value: -1.1530991201067016\n"
     ]
    },
    {
     "name": "stderr",
     "output_type": "stream",
     "text": [
      "/u/81/mirandi1/unix/.local/lib/python3.10/site-packages/botorch/models/utils/assorted.py:257: InputDataWarning: Input data is not contained to the unit cube. Please consider min-max scaling the input data.\n",
      "  check_min_max_scaling(\n",
      "/u/81/mirandi1/unix/.local/lib/python3.10/site-packages/botorch/models/utils/assorted.py:260: InputDataWarning: Data is not standardized (std = tensor([3.3100], dtype=torch.float64), mean = tensor([3.6835], dtype=torch.float64)). Please consider scaling the input to zero mean and unit variance.\n",
      "  check_standardization(Y=train_Y, raise_on_fail=raise_on_fail)\n",
      "/u/81/mirandi1/unix/.local/lib/python3.10/site-packages/botorch/models/utils/assorted.py:257: InputDataWarning: Input data is not contained to the unit cube. Please consider min-max scaling the input data.\n",
      "  check_min_max_scaling(\n",
      "/u/81/mirandi1/unix/.local/lib/python3.10/site-packages/botorch/models/utils/assorted.py:260: InputDataWarning: Data is not standardized (std = tensor([3.3001], dtype=torch.float64), mean = tensor([3.6684], dtype=torch.float64)). Please consider scaling the input to zero mean and unit variance.\n",
      "  check_standardization(Y=train_Y, raise_on_fail=raise_on_fail)\n"
     ]
    },
    {
     "name": "stdout",
     "output_type": "stream",
     "text": [
      "Exploitation 87/200 - New sample: [4.28625303 7.10403228 0.60463605 0.25704585], Objective value: -1.775551091426833\n",
      "Exploitation 88/200 - New sample: [4.34824585 5.91363678 0.66778192 0.10878647], Objective value: 1.450784009126952\n"
     ]
    },
    {
     "name": "stderr",
     "output_type": "stream",
     "text": [
      "/u/81/mirandi1/unix/.local/lib/python3.10/site-packages/botorch/models/utils/assorted.py:257: InputDataWarning: Input data is not contained to the unit cube. Please consider min-max scaling the input data.\n",
      "  check_min_max_scaling(\n",
      "/u/81/mirandi1/unix/.local/lib/python3.10/site-packages/botorch/models/utils/assorted.py:260: InputDataWarning: Data is not standardized (std = tensor([3.3293], dtype=torch.float64), mean = tensor([3.7172], dtype=torch.float64)). Please consider scaling the input to zero mean and unit variance.\n",
      "  check_standardization(Y=train_Y, raise_on_fail=raise_on_fail)\n",
      "/u/81/mirandi1/unix/.local/lib/python3.10/site-packages/botorch/models/utils/assorted.py:257: InputDataWarning: Input data is not contained to the unit cube. Please consider min-max scaling the input data.\n",
      "  check_min_max_scaling(\n",
      "/u/81/mirandi1/unix/.local/lib/python3.10/site-packages/botorch/models/utils/assorted.py:260: InputDataWarning: Data is not standardized (std = tensor([3.3155], dtype=torch.float64), mean = tensor([3.7143], dtype=torch.float64)). Please consider scaling the input to zero mean and unit variance.\n",
      "  check_standardization(Y=train_Y, raise_on_fail=raise_on_fail)\n"
     ]
    },
    {
     "name": "stdout",
     "output_type": "stream",
     "text": [
      "Exploitation 89/200 - New sample: [4.32399594 7.02723902 0.51086179 0.18817184], Objective value: -1.1497342979351692\n",
      "Exploitation 90/200 - New sample: [4.34584083 5.91182315 0.666941   0.10840451], Objective value: 1.832286453083919\n",
      "Exploitation 91/200 - New sample: [4.39981069 5.91145575 0.74019219 0.30068181], Objective value: -2.103926442304673\n"
     ]
    },
    {
     "name": "stderr",
     "output_type": "stream",
     "text": [
      "/u/81/mirandi1/unix/.local/lib/python3.10/site-packages/botorch/models/utils/assorted.py:257: InputDataWarning: Input data is not contained to the unit cube. Please consider min-max scaling the input data.\n",
      "  check_min_max_scaling(\n",
      "/u/81/mirandi1/unix/.local/lib/python3.10/site-packages/botorch/models/utils/assorted.py:260: InputDataWarning: Data is not standardized (std = tensor([3.3571], dtype=torch.float64), mean = tensor([3.7692], dtype=torch.float64)). Please consider scaling the input to zero mean and unit variance.\n",
      "  check_standardization(Y=train_Y, raise_on_fail=raise_on_fail)\n",
      "/u/81/mirandi1/unix/.local/lib/python3.10/site-packages/botorch/models/utils/assorted.py:257: InputDataWarning: Input data is not contained to the unit cube. Please consider min-max scaling the input data.\n",
      "  check_min_max_scaling(\n",
      "/u/81/mirandi1/unix/.local/lib/python3.10/site-packages/botorch/models/utils/assorted.py:260: InputDataWarning: Data is not standardized (std = tensor([3.3519], dtype=torch.float64), mean = tensor([3.7476], dtype=torch.float64)). Please consider scaling the input to zero mean and unit variance.\n",
      "  check_standardization(Y=train_Y, raise_on_fail=raise_on_fail)\n",
      "/u/81/mirandi1/unix/.local/lib/python3.10/site-packages/botorch/models/utils/assorted.py:257: InputDataWarning: Input data is not contained to the unit cube. Please consider min-max scaling the input data.\n",
      "  check_min_max_scaling(\n",
      "/u/81/mirandi1/unix/.local/lib/python3.10/site-packages/botorch/models/utils/assorted.py:260: InputDataWarning: Data is not standardized (std = tensor([3.3385], dtype=torch.float64), mean = tensor([3.7445], dtype=torch.float64)). Please consider scaling the input to zero mean and unit variance.\n",
      "  check_standardization(Y=train_Y, raise_on_fail=raise_on_fail)\n",
      "/u/81/mirandi1/unix/.local/lib/python3.10/site-packages/botorch/models/utils/assorted.py:257: InputDataWarning: Input data is not contained to the unit cube. Please consider min-max scaling the input data.\n",
      "  check_min_max_scaling(\n",
      "/u/81/mirandi1/unix/.local/lib/python3.10/site-packages/botorch/models/utils/assorted.py:260: InputDataWarning: Data is not standardized (std = tensor([3.3721], dtype=torch.float64), mean = tensor([3.7947], dtype=torch.float64)). Please consider scaling the input to zero mean and unit variance.\n",
      "  check_standardization(Y=train_Y, raise_on_fail=raise_on_fail)\n",
      "/u/81/mirandi1/unix/.local/lib/python3.10/site-packages/botorch/models/utils/assorted.py:257: InputDataWarning: Input data is not contained to the unit cube. Please consider min-max scaling the input data.\n",
      "  check_min_max_scaling(\n",
      "/u/81/mirandi1/unix/.local/lib/python3.10/site-packages/botorch/models/utils/assorted.py:260: InputDataWarning: Data is not standardized (std = tensor([3.3785], dtype=torch.float64), mean = tensor([3.7620], dtype=torch.float64)). Please consider scaling the input to zero mean and unit variance.\n",
      "  check_standardization(Y=train_Y, raise_on_fail=raise_on_fail)\n"
     ]
    },
    {
     "name": "stdout",
     "output_type": "stream",
     "text": [
      "Exploitation 92/200 - New sample: [4.31632714 7.00530429 0.51173058 0.189818  ], Objective value: -1.1525115183715935\n",
      "Exploitation 93/200 - New sample: [4.34695947 5.91189765 0.66752339 0.10879744], Objective value: 1.6655183597487668\n",
      "Exploitation 94/200 - New sample: [4.21293686 6.89439346 0.51639245 0.01213327], Objective value: -2.7087802143246154\n"
     ]
    },
    {
     "name": "stderr",
     "output_type": "stream",
     "text": [
      "/u/81/mirandi1/unix/.local/lib/python3.10/site-packages/botorch/models/utils/assorted.py:257: InputDataWarning: Input data is not contained to the unit cube. Please consider min-max scaling the input data.\n",
      "  check_min_max_scaling(\n",
      "/u/81/mirandi1/unix/.local/lib/python3.10/site-packages/botorch/models/utils/assorted.py:260: InputDataWarning: Data is not standardized (std = tensor([3.3784], dtype=torch.float64), mean = tensor([3.7354], dtype=torch.float64)). Please consider scaling the input to zero mean and unit variance.\n",
      "  check_standardization(Y=train_Y, raise_on_fail=raise_on_fail)\n",
      "/u/81/mirandi1/unix/.local/lib/python3.10/site-packages/botorch/models/utils/assorted.py:257: InputDataWarning: Input data is not contained to the unit cube. Please consider min-max scaling the input data.\n",
      "  check_min_max_scaling(\n",
      "/u/81/mirandi1/unix/.local/lib/python3.10/site-packages/botorch/models/utils/assorted.py:260: InputDataWarning: Data is not standardized (std = tensor([3.3735], dtype=torch.float64), mean = tensor([3.7144], dtype=torch.float64)). Please consider scaling the input to zero mean and unit variance.\n",
      "  check_standardization(Y=train_Y, raise_on_fail=raise_on_fail)\n",
      "/u/81/mirandi1/unix/.local/lib/python3.10/site-packages/botorch/models/utils/assorted.py:257: InputDataWarning: Input data is not contained to the unit cube. Please consider min-max scaling the input data.\n",
      "  check_min_max_scaling(\n",
      "/u/81/mirandi1/unix/.local/lib/python3.10/site-packages/botorch/models/utils/assorted.py:260: InputDataWarning: Data is not standardized (std = tensor([3.3615], dtype=torch.float64), mean = tensor([3.7065], dtype=torch.float64)). Please consider scaling the input to zero mean and unit variance.\n",
      "  check_standardization(Y=train_Y, raise_on_fail=raise_on_fail)\n"
     ]
    },
    {
     "name": "stdout",
     "output_type": "stream",
     "text": [
      "Exploitation 95/200 - New sample: [4.3260629  7.03884855 0.64493823 0.07839002], Objective value: -2.4127397081214053\n",
      "Exploitation 96/200 - New sample: [4.1107871  6.09005717 0.80362591 0.18929797], Objective value: -2.1278065365656302\n",
      "Exploitation 97/200 - New sample: [4.2717516  5.99595375 0.77486536 0.1179576 ], Objective value: -1.4379466270300447\n"
     ]
    },
    {
     "name": "stderr",
     "output_type": "stream",
     "text": [
      "/u/81/mirandi1/unix/.local/lib/python3.10/site-packages/botorch/models/utils/assorted.py:257: InputDataWarning: Input data is not contained to the unit cube. Please consider min-max scaling the input data.\n",
      "  check_min_max_scaling(\n",
      "/u/81/mirandi1/unix/.local/lib/python3.10/site-packages/botorch/models/utils/assorted.py:260: InputDataWarning: Data is not standardized (std = tensor([3.3922], dtype=torch.float64), mean = tensor([3.7541], dtype=torch.float64)). Please consider scaling the input to zero mean and unit variance.\n",
      "  check_standardization(Y=train_Y, raise_on_fail=raise_on_fail)\n",
      "/u/81/mirandi1/unix/.local/lib/python3.10/site-packages/botorch/models/utils/assorted.py:257: InputDataWarning: Input data is not contained to the unit cube. Please consider min-max scaling the input data.\n",
      "  check_min_max_scaling(\n",
      "/u/81/mirandi1/unix/.local/lib/python3.10/site-packages/botorch/models/utils/assorted.py:260: InputDataWarning: Data is not standardized (std = tensor([3.3793], dtype=torch.float64), mean = tensor([3.7512], dtype=torch.float64)). Please consider scaling the input to zero mean and unit variance.\n",
      "  check_standardization(Y=train_Y, raise_on_fail=raise_on_fail)\n"
     ]
    },
    {
     "name": "stdout",
     "output_type": "stream",
     "text": [
      "Exploitation 98/200 - New sample: [4.34727518 5.91209665 0.66737752 0.10859335], Objective value: 1.612454093078142\n",
      "Exploitation 99/200 - New sample: [4.32244623 7.02294543 0.51437329 0.19003263], Objective value: -1.145638997303272\n"
     ]
    },
    {
     "name": "stderr",
     "output_type": "stream",
     "text": [
      "/u/81/mirandi1/unix/.local/lib/python3.10/site-packages/botorch/models/utils/assorted.py:257: InputDataWarning: Input data is not contained to the unit cube. Please consider min-max scaling the input data.\n",
      "  check_min_max_scaling(\n",
      "/u/81/mirandi1/unix/.local/lib/python3.10/site-packages/botorch/models/utils/assorted.py:260: InputDataWarning: Data is not standardized (std = tensor([3.4072], dtype=torch.float64), mean = tensor([3.7970], dtype=torch.float64)). Please consider scaling the input to zero mean and unit variance.\n",
      "  check_standardization(Y=train_Y, raise_on_fail=raise_on_fail)\n"
     ]
    },
    {
     "name": "stdout",
     "output_type": "stream",
     "text": [
      "Exploitation 100/200 - New sample: [4.34736698 5.91227757 0.66718304 0.10832999], Objective value: 1.5673032166333831\n"
     ]
    },
    {
     "name": "stderr",
     "output_type": "stream",
     "text": [
      "/u/81/mirandi1/unix/.local/lib/python3.10/site-packages/botorch/models/utils/assorted.py:257: InputDataWarning: Input data is not contained to the unit cube. Please consider min-max scaling the input data.\n",
      "  check_min_max_scaling(\n",
      "/u/81/mirandi1/unix/.local/lib/python3.10/site-packages/botorch/models/utils/assorted.py:260: InputDataWarning: Data is not standardized (std = tensor([3.4336], dtype=torch.float64), mean = tensor([3.8419], dtype=torch.float64)). Please consider scaling the input to zero mean and unit variance.\n",
      "  check_standardization(Y=train_Y, raise_on_fail=raise_on_fail)\n",
      "/u/81/mirandi1/unix/.local/lib/python3.10/site-packages/botorch/models/utils/assorted.py:257: InputDataWarning: Input data is not contained to the unit cube. Please consider min-max scaling the input data.\n",
      "  check_min_max_scaling(\n",
      "/u/81/mirandi1/unix/.local/lib/python3.10/site-packages/botorch/models/utils/assorted.py:260: InputDataWarning: Data is not standardized (std = tensor([3.4222], dtype=torch.float64), mean = tensor([3.8333], dtype=torch.float64)). Please consider scaling the input to zero mean and unit variance.\n",
      "  check_standardization(Y=train_Y, raise_on_fail=raise_on_fail)\n"
     ]
    },
    {
     "name": "stdout",
     "output_type": "stream",
     "text": [
      "Exploitation 101/200 - New sample: [4.34728112 5.91230213 0.66706862 0.10820277], Objective value: 1.5616643580623377\n",
      "Exploitation 102/200 - New sample: [4.2716348  5.99612966 0.7751317  0.11812214], Objective value: -1.4403195101899104\n"
     ]
    },
    {
     "name": "stderr",
     "output_type": "stream",
     "text": [
      "/u/81/mirandi1/unix/.local/lib/python3.10/site-packages/botorch/models/utils/assorted.py:257: InputDataWarning: Input data is not contained to the unit cube. Please consider min-max scaling the input data.\n",
      "  check_min_max_scaling(\n",
      "/u/81/mirandi1/unix/.local/lib/python3.10/site-packages/botorch/models/utils/assorted.py:260: InputDataWarning: Data is not standardized (std = tensor([3.4099], dtype=torch.float64), mean = tensor([3.8385], dtype=torch.float64)). Please consider scaling the input to zero mean and unit variance.\n",
      "  check_standardization(Y=train_Y, raise_on_fail=raise_on_fail)\n",
      "/u/81/mirandi1/unix/.local/lib/python3.10/site-packages/botorch/models/utils/assorted.py:257: InputDataWarning: Input data is not contained to the unit cube. Please consider min-max scaling the input data.\n",
      "  check_min_max_scaling(\n",
      "/u/81/mirandi1/unix/.local/lib/python3.10/site-packages/botorch/models/utils/assorted.py:260: InputDataWarning: Data is not standardized (std = tensor([3.4057], dtype=torch.float64), mean = tensor([3.8180], dtype=torch.float64)). Please consider scaling the input to zero mean and unit variance.\n",
      "  check_standardization(Y=train_Y, raise_on_fail=raise_on_fail)\n",
      "/u/81/mirandi1/unix/.local/lib/python3.10/site-packages/botorch/models/utils/assorted.py:257: InputDataWarning: Input data is not contained to the unit cube. Please consider min-max scaling the input data.\n",
      "  check_min_max_scaling(\n",
      "/u/81/mirandi1/unix/.local/lib/python3.10/site-packages/botorch/models/utils/assorted.py:260: InputDataWarning: Data is not standardized (std = tensor([3.4042], dtype=torch.float64), mean = tensor([3.7946], dtype=torch.float64)). Please consider scaling the input to zero mean and unit variance.\n",
      "  check_standardization(Y=train_Y, raise_on_fail=raise_on_fail)\n"
     ]
    },
    {
     "name": "stdout",
     "output_type": "stream",
     "text": [
      "Exploitation 103/200 - New sample: [4.30162691 5.97143466 0.72453    0.0819201 ], Objective value: -0.6511498108745399\n",
      "Exploitation 104/200 - New sample: [4.41141449 5.90973294 0.7472727  0.30520693], Objective value: -2.1312225463064784\n",
      "Exploitation 105/200 - New sample: [4.54083824 5.62054253 0.8829223  0.03737183], Objective value: -2.31538556678731\n",
      "Exploitation 106/200 - New sample: [4.34723437 5.9122947  0.66701707 0.10815594], Objective value: 1.561251693738297\n"
     ]
    },
    {
     "name": "stderr",
     "output_type": "stream",
     "text": [
      "/u/81/mirandi1/unix/.local/lib/python3.10/site-packages/botorch/models/utils/assorted.py:257: InputDataWarning: Input data is not contained to the unit cube. Please consider min-max scaling the input data.\n",
      "  check_min_max_scaling(\n",
      "/u/81/mirandi1/unix/.local/lib/python3.10/site-packages/botorch/models/utils/assorted.py:260: InputDataWarning: Data is not standardized (std = tensor([3.4298], dtype=torch.float64), mean = tensor([3.8379], dtype=torch.float64)). Please consider scaling the input to zero mean and unit variance.\n",
      "  check_standardization(Y=train_Y, raise_on_fail=raise_on_fail)\n",
      "/u/81/mirandi1/unix/.local/lib/python3.10/site-packages/botorch/models/utils/assorted.py:257: InputDataWarning: Input data is not contained to the unit cube. Please consider min-max scaling the input data.\n",
      "  check_min_max_scaling(\n",
      "/u/81/mirandi1/unix/.local/lib/python3.10/site-packages/botorch/models/utils/assorted.py:260: InputDataWarning: Data is not standardized (std = tensor([3.4214], dtype=torch.float64), mean = tensor([3.8239], dtype=torch.float64)). Please consider scaling the input to zero mean and unit variance.\n",
      "  check_standardization(Y=train_Y, raise_on_fail=raise_on_fail)\n"
     ]
    },
    {
     "name": "stdout",
     "output_type": "stream",
     "text": [
      "Exploitation 107/200 - New sample: [4.28627878 7.10397184 0.60455554 0.25699614], Objective value: -1.7751532240076147\n",
      "Exploitation 108/200 - New sample: [4.34708834 5.91226707 0.66694906 0.10809469], Objective value: 1.5752999899823323\n"
     ]
    },
    {
     "name": "stderr",
     "output_type": "stream",
     "text": [
      "/u/81/mirandi1/unix/.local/lib/python3.10/site-packages/botorch/models/utils/assorted.py:257: InputDataWarning: Input data is not contained to the unit cube. Please consider min-max scaling the input data.\n",
      "  check_min_max_scaling(\n",
      "/u/81/mirandi1/unix/.local/lib/python3.10/site-packages/botorch/models/utils/assorted.py:260: InputDataWarning: Data is not standardized (std = tensor([3.4464], dtype=torch.float64), mean = tensor([3.8666], dtype=torch.float64)). Please consider scaling the input to zero mean and unit variance.\n",
      "  check_standardization(Y=train_Y, raise_on_fail=raise_on_fail)\n",
      "/u/81/mirandi1/unix/.local/lib/python3.10/site-packages/botorch/models/utils/assorted.py:257: InputDataWarning: Input data is not contained to the unit cube. Please consider min-max scaling the input data.\n",
      "  check_min_max_scaling(\n",
      "/u/81/mirandi1/unix/.local/lib/python3.10/site-packages/botorch/models/utils/assorted.py:260: InputDataWarning: Data is not standardized (std = tensor([3.4416], dtype=torch.float64), mean = tensor([3.8475], dtype=torch.float64)). Please consider scaling the input to zero mean and unit variance.\n",
      "  check_standardization(Y=train_Y, raise_on_fail=raise_on_fail)\n"
     ]
    },
    {
     "name": "stdout",
     "output_type": "stream",
     "text": [
      "Exploitation 109/200 - New sample: [4.46896569 5.79222466 0.8661162  0.11640174], Objective value: -2.0794859984446292\n",
      "Exploitation 110/200 - New sample: [4.24819245 5.3701263  0.7079866  0.18033608], Objective value: -2.1465553176086183\n"
     ]
    },
    {
     "name": "stderr",
     "output_type": "stream",
     "text": [
      "/u/81/mirandi1/unix/.local/lib/python3.10/site-packages/botorch/models/utils/assorted.py:257: InputDataWarning: Input data is not contained to the unit cube. Please consider min-max scaling the input data.\n",
      "  check_min_max_scaling(\n",
      "/u/81/mirandi1/unix/.local/lib/python3.10/site-packages/botorch/models/utils/assorted.py:260: InputDataWarning: Data is not standardized (std = tensor([3.4376], dtype=torch.float64), mean = tensor([3.8275], dtype=torch.float64)). Please consider scaling the input to zero mean and unit variance.\n",
      "  check_standardization(Y=train_Y, raise_on_fail=raise_on_fail)\n",
      "/u/81/mirandi1/unix/.local/lib/python3.10/site-packages/botorch/models/utils/assorted.py:257: InputDataWarning: Input data is not contained to the unit cube. Please consider min-max scaling the input data.\n",
      "  check_min_max_scaling(\n",
      "/u/81/mirandi1/unix/.local/lib/python3.10/site-packages/botorch/models/utils/assorted.py:260: InputDataWarning: Data is not standardized (std = tensor([3.4300], dtype=torch.float64), mean = tensor([3.8128], dtype=torch.float64)). Please consider scaling the input to zero mean and unit variance.\n",
      "  check_standardization(Y=train_Y, raise_on_fail=raise_on_fail)\n"
     ]
    },
    {
     "name": "stdout",
     "output_type": "stream",
     "text": [
      "Exploitation 111/200 - New sample: [4.3871225  5.89966128 0.85579204 0.07438072], Objective value: -1.8410583037505466\n",
      "Exploitation 112/200 - New sample: [4.3253266  6.9940871  0.50460715 0.18693323], Objective value: -1.154008107788725\n"
     ]
    },
    {
     "name": "stderr",
     "output_type": "stream",
     "text": [
      "/u/81/mirandi1/unix/.local/lib/python3.10/site-packages/botorch/models/utils/assorted.py:257: InputDataWarning: Input data is not contained to the unit cube. Please consider min-max scaling the input data.\n",
      "  check_min_max_scaling(\n",
      "/u/81/mirandi1/unix/.local/lib/python3.10/site-packages/botorch/models/utils/assorted.py:260: InputDataWarning: Data is not standardized (std = tensor([3.4182], dtype=torch.float64), mean = tensor([3.8097], dtype=torch.float64)). Please consider scaling the input to zero mean and unit variance.\n",
      "  check_standardization(Y=train_Y, raise_on_fail=raise_on_fail)\n",
      "/u/81/mirandi1/unix/.local/lib/python3.10/site-packages/botorch/models/utils/assorted.py:257: InputDataWarning: Input data is not contained to the unit cube. Please consider min-max scaling the input data.\n",
      "  check_min_max_scaling(\n",
      "/u/81/mirandi1/unix/.local/lib/python3.10/site-packages/botorch/models/utils/assorted.py:260: InputDataWarning: Data is not standardized (std = tensor([3.4430], dtype=torch.float64), mean = tensor([3.8513], dtype=torch.float64)). Please consider scaling the input to zero mean and unit variance.\n",
      "  check_standardization(Y=train_Y, raise_on_fail=raise_on_fail)\n",
      "/u/81/mirandi1/unix/.local/lib/python3.10/site-packages/botorch/models/utils/assorted.py:257: InputDataWarning: Input data is not contained to the unit cube. Please consider min-max scaling the input data.\n",
      "  check_min_max_scaling(\n",
      "/u/81/mirandi1/unix/.local/lib/python3.10/site-packages/botorch/models/utils/assorted.py:260: InputDataWarning: Data is not standardized (std = tensor([3.4670], dtype=torch.float64), mean = tensor([3.8925], dtype=torch.float64)). Please consider scaling the input to zero mean and unit variance.\n",
      "  check_standardization(Y=train_Y, raise_on_fail=raise_on_fail)\n"
     ]
    },
    {
     "name": "stdout",
     "output_type": "stream",
     "text": [
      "Exploitation 113/200 - New sample: [4.34694985 5.9122293  0.66688673 0.10804509], Objective value: 1.5895422947008804\n",
      "Exploitation 114/200 - New sample: [4.34685633 5.91219774 0.66684069 0.10800855], Objective value: 1.5981333799688169\n"
     ]
    },
    {
     "name": "stderr",
     "output_type": "stream",
     "text": [
      "/u/81/mirandi1/unix/.local/lib/python3.10/site-packages/botorch/models/utils/assorted.py:257: InputDataWarning: Input data is not contained to the unit cube. Please consider min-max scaling the input data.\n",
      "  check_min_max_scaling(\n",
      "/u/81/mirandi1/unix/.local/lib/python3.10/site-packages/botorch/models/utils/assorted.py:260: InputDataWarning: Data is not standardized (std = tensor([3.4554], dtype=torch.float64), mean = tensor([3.8885], dtype=torch.float64)). Please consider scaling the input to zero mean and unit variance.\n",
      "  check_standardization(Y=train_Y, raise_on_fail=raise_on_fail)\n",
      "/u/81/mirandi1/unix/.local/lib/python3.10/site-packages/botorch/models/utils/assorted.py:257: InputDataWarning: Input data is not contained to the unit cube. Please consider min-max scaling the input data.\n",
      "  check_min_max_scaling(\n",
      "/u/81/mirandi1/unix/.local/lib/python3.10/site-packages/botorch/models/utils/assorted.py:260: InputDataWarning: Data is not standardized (std = tensor([3.4507], dtype=torch.float64), mean = tensor([3.8704], dtype=torch.float64)). Please consider scaling the input to zero mean and unit variance.\n",
      "  check_standardization(Y=train_Y, raise_on_fail=raise_on_fail)\n"
     ]
    },
    {
     "name": "stdout",
     "output_type": "stream",
     "text": [
      "Exploitation 115/200 - New sample: [4.30709938 6.97455444 0.50860398 0.18543089], Objective value: -1.1712790640244055\n",
      "Exploitation 116/200 - New sample: [4.4683203  5.7908117  0.85968956 0.1232742 ], Objective value: -2.0674340671205913\n"
     ]
    },
    {
     "name": "stderr",
     "output_type": "stream",
     "text": [
      "/u/81/mirandi1/unix/.local/lib/python3.10/site-packages/botorch/models/utils/assorted.py:257: InputDataWarning: Input data is not contained to the unit cube. Please consider min-max scaling the input data.\n",
      "  check_min_max_scaling(\n",
      "/u/81/mirandi1/unix/.local/lib/python3.10/site-packages/botorch/models/utils/assorted.py:260: InputDataWarning: Data is not standardized (std = tensor([3.4741], dtype=torch.float64), mean = tensor([3.9107], dtype=torch.float64)). Please consider scaling the input to zero mean and unit variance.\n",
      "  check_standardization(Y=train_Y, raise_on_fail=raise_on_fail)\n",
      "/u/81/mirandi1/unix/.local/lib/python3.10/site-packages/botorch/models/utils/assorted.py:257: InputDataWarning: Input data is not contained to the unit cube. Please consider min-max scaling the input data.\n",
      "  check_min_max_scaling(\n",
      "/u/81/mirandi1/unix/.local/lib/python3.10/site-packages/botorch/models/utils/assorted.py:260: InputDataWarning: Data is not standardized (std = tensor([3.4638], dtype=torch.float64), mean = tensor([3.9026], dtype=torch.float64)). Please consider scaling the input to zero mean and unit variance.\n",
      "  check_standardization(Y=train_Y, raise_on_fail=raise_on_fail)\n"
     ]
    },
    {
     "name": "stdout",
     "output_type": "stream",
     "text": [
      "Exploitation 117/200 - New sample: [4.34678231 5.91216871 0.66680038 0.10797831], Objective value: 1.6042705642837558\n",
      "Exploitation 118/200 - New sample: [4.27215762 5.99589944 0.77441903 0.11760283], Objective value: -1.4321275660291477\n"
     ]
    },
    {
     "name": "stderr",
     "output_type": "stream",
     "text": [
      "/u/81/mirandi1/unix/.local/lib/python3.10/site-packages/botorch/models/utils/assorted.py:257: InputDataWarning: Input data is not contained to the unit cube. Please consider min-max scaling the input data.\n",
      "  check_min_max_scaling(\n",
      "/u/81/mirandi1/unix/.local/lib/python3.10/site-packages/botorch/models/utils/assorted.py:260: InputDataWarning: Data is not standardized (std = tensor([3.4607], dtype=torch.float64), mean = tensor([3.8829], dtype=torch.float64)). Please consider scaling the input to zero mean and unit variance.\n",
      "  check_standardization(Y=train_Y, raise_on_fail=raise_on_fail)\n",
      "/u/81/mirandi1/unix/.local/lib/python3.10/site-packages/botorch/models/utils/assorted.py:257: InputDataWarning: Input data is not contained to the unit cube. Please consider min-max scaling the input data.\n",
      "  check_min_max_scaling(\n",
      "/u/81/mirandi1/unix/.local/lib/python3.10/site-packages/botorch/models/utils/assorted.py:260: InputDataWarning: Data is not standardized (std = tensor([3.4506], dtype=torch.float64), mean = tensor([3.8752], dtype=torch.float64)). Please consider scaling the input to zero mean and unit variance.\n",
      "  check_standardization(Y=train_Y, raise_on_fail=raise_on_fail)\n"
     ]
    },
    {
     "name": "stdout",
     "output_type": "stream",
     "text": [
      "Exploitation 119/200 - New sample: [4.24053006 5.36856196 0.69575738 0.21193919], Objective value: -2.1778847029985804\n",
      "Exploitation 120/200 - New sample: [4.27253653 5.99582256 0.77397909 0.11726914], Objective value: -1.426569983108094\n"
     ]
    },
    {
     "name": "stderr",
     "output_type": "stream",
     "text": [
      "/u/81/mirandi1/unix/.local/lib/python3.10/site-packages/botorch/models/utils/assorted.py:257: InputDataWarning: Input data is not contained to the unit cube. Please consider min-max scaling the input data.\n",
      "  check_min_max_scaling(\n",
      "/u/81/mirandi1/unix/.local/lib/python3.10/site-packages/botorch/models/utils/assorted.py:260: InputDataWarning: Data is not standardized (std = tensor([3.4459], dtype=torch.float64), mean = tensor([3.8578], dtype=torch.float64)). Please consider scaling the input to zero mean and unit variance.\n",
      "  check_standardization(Y=train_Y, raise_on_fail=raise_on_fail)\n",
      "/u/81/mirandi1/unix/.local/lib/python3.10/site-packages/botorch/models/utils/assorted.py:257: InputDataWarning: Input data is not contained to the unit cube. Please consider min-max scaling the input data.\n",
      "  check_min_max_scaling(\n",
      "/u/81/mirandi1/unix/.local/lib/python3.10/site-packages/botorch/models/utils/assorted.py:260: InputDataWarning: Data is not standardized (std = tensor([3.4692], dtype=torch.float64), mean = tensor([3.8972], dtype=torch.float64)). Please consider scaling the input to zero mean and unit variance.\n",
      "  check_standardization(Y=train_Y, raise_on_fail=raise_on_fail)\n"
     ]
    },
    {
     "name": "stdout",
     "output_type": "stream",
     "text": [
      "Exploitation 121/200 - New sample: [4.25706212 5.38321958 0.67781952 0.16424644], Objective value: -2.0600127136290043\n",
      "Exploitation 122/200 - New sample: [4.34662875 5.91211414 0.66674066 0.10793944], Objective value: 1.6218896133219864\n"
     ]
    },
    {
     "name": "stderr",
     "output_type": "stream",
     "text": [
      "/u/81/mirandi1/unix/.local/lib/python3.10/site-packages/botorch/models/utils/assorted.py:257: InputDataWarning: Input data is not contained to the unit cube. Please consider min-max scaling the input data.\n",
      "  check_min_max_scaling(\n",
      "/u/81/mirandi1/unix/.local/lib/python3.10/site-packages/botorch/models/utils/assorted.py:260: InputDataWarning: Data is not standardized (std = tensor([3.4919], dtype=torch.float64), mean = tensor([3.9362], dtype=torch.float64)). Please consider scaling the input to zero mean and unit variance.\n",
      "  check_standardization(Y=train_Y, raise_on_fail=raise_on_fail)\n",
      "/u/81/mirandi1/unix/.local/lib/python3.10/site-packages/botorch/models/utils/assorted.py:257: InputDataWarning: Input data is not contained to the unit cube. Please consider min-max scaling the input data.\n",
      "  check_min_max_scaling(\n",
      "/u/81/mirandi1/unix/.local/lib/python3.10/site-packages/botorch/models/utils/assorted.py:260: InputDataWarning: Data is not standardized (std = tensor([3.4819], dtype=torch.float64), mean = tensor([3.9285], dtype=torch.float64)). Please consider scaling the input to zero mean and unit variance.\n",
      "  check_standardization(Y=train_Y, raise_on_fail=raise_on_fail)\n"
     ]
    },
    {
     "name": "stdout",
     "output_type": "stream",
     "text": [
      "Exploitation 123/200 - New sample: [4.34652286 5.9120698  0.66668742 0.10790222], Objective value: 1.6309407875774597\n",
      "Exploitation 124/200 - New sample: [4.27316378 5.99586167 0.77340402 0.11681876], Objective value: -1.4182797355898218\n"
     ]
    },
    {
     "name": "stderr",
     "output_type": "stream",
     "text": [
      "/u/81/mirandi1/unix/.local/lib/python3.10/site-packages/botorch/models/utils/assorted.py:257: InputDataWarning: Input data is not contained to the unit cube. Please consider min-max scaling the input data.\n",
      "  check_min_max_scaling(\n",
      "/u/81/mirandi1/unix/.local/lib/python3.10/site-packages/botorch/models/utils/assorted.py:260: InputDataWarning: Data is not standardized (std = tensor([3.5041], dtype=torch.float64), mean = tensor([3.9670], dtype=torch.float64)). Please consider scaling the input to zero mean and unit variance.\n",
      "  check_standardization(Y=train_Y, raise_on_fail=raise_on_fail)\n",
      "/u/81/mirandi1/unix/.local/lib/python3.10/site-packages/botorch/models/utils/assorted.py:257: InputDataWarning: Input data is not contained to the unit cube. Please consider min-max scaling the input data.\n",
      "  check_min_max_scaling(\n",
      "/u/81/mirandi1/unix/.local/lib/python3.10/site-packages/botorch/models/utils/assorted.py:260: InputDataWarning: Data is not standardized (std = tensor([3.5256], dtype=torch.float64), mean = tensor([4.0051], dtype=torch.float64)). Please consider scaling the input to zero mean and unit variance.\n",
      "  check_standardization(Y=train_Y, raise_on_fail=raise_on_fail)\n"
     ]
    },
    {
     "name": "stdout",
     "output_type": "stream",
     "text": [
      "Exploitation 125/200 - New sample: [4.34639093 5.91201508 0.66662719 0.10786433], Objective value: 1.6434919224138567\n",
      "Exploitation 126/200 - New sample: [4.34627786 5.91196443 0.66656799 0.10782649], Objective value: 1.6519805682158142\n"
     ]
    },
    {
     "name": "stderr",
     "output_type": "stream",
     "text": [
      "/u/81/mirandi1/unix/.local/lib/python3.10/site-packages/botorch/models/utils/assorted.py:257: InputDataWarning: Input data is not contained to the unit cube. Please consider min-max scaling the input data.\n",
      "  check_min_max_scaling(\n",
      "/u/81/mirandi1/unix/.local/lib/python3.10/site-packages/botorch/models/utils/assorted.py:260: InputDataWarning: Data is not standardized (std = tensor([3.5466], dtype=torch.float64), mean = tensor([4.0429], dtype=torch.float64)). Please consider scaling the input to zero mean and unit variance.\n",
      "  check_standardization(Y=train_Y, raise_on_fail=raise_on_fail)\n",
      "/u/81/mirandi1/unix/.local/lib/python3.10/site-packages/botorch/models/utils/assorted.py:257: InputDataWarning: Input data is not contained to the unit cube. Please consider min-max scaling the input data.\n",
      "  check_min_max_scaling(\n",
      "/u/81/mirandi1/unix/.local/lib/python3.10/site-packages/botorch/models/utils/assorted.py:260: InputDataWarning: Data is not standardized (std = tensor([3.5414], dtype=torch.float64), mean = tensor([4.0266], dtype=torch.float64)). Please consider scaling the input to zero mean and unit variance.\n",
      "  check_standardization(Y=train_Y, raise_on_fail=raise_on_fail)\n"
     ]
    },
    {
     "name": "stdout",
     "output_type": "stream",
     "text": [
      "Exploitation 127/200 - New sample: [4.34616649 5.9119131  0.66650819 0.10778998], Objective value: 1.659640405717115\n",
      "Exploitation 128/200 - New sample: [4.43701064 6.03044575 0.85914984 0.02534821], Objective value: -1.9661953452913596\n",
      "Exploitation 129/200 - New sample: [4.42880405 5.84156645 0.85414036 0.10660921], Objective value: -1.9435831462923954\n"
     ]
    },
    {
     "name": "stderr",
     "output_type": "stream",
     "text": [
      "/u/81/mirandi1/unix/.local/lib/python3.10/site-packages/botorch/models/utils/assorted.py:257: InputDataWarning: Input data is not contained to the unit cube. Please consider min-max scaling the input data.\n",
      "  check_min_max_scaling(\n",
      "/u/81/mirandi1/unix/.local/lib/python3.10/site-packages/botorch/models/utils/assorted.py:260: InputDataWarning: Data is not standardized (std = tensor([3.5360], dtype=torch.float64), mean = tensor([4.0108], dtype=torch.float64)). Please consider scaling the input to zero mean and unit variance.\n",
      "  check_standardization(Y=train_Y, raise_on_fail=raise_on_fail)\n",
      "/u/81/mirandi1/unix/.local/lib/python3.10/site-packages/botorch/models/utils/assorted.py:257: InputDataWarning: Input data is not contained to the unit cube. Please consider min-max scaling the input data.\n",
      "  check_min_max_scaling(\n",
      "/u/81/mirandi1/unix/.local/lib/python3.10/site-packages/botorch/models/utils/assorted.py:260: InputDataWarning: Data is not standardized (std = tensor([3.5534], dtype=torch.float64), mean = tensor([4.0460], dtype=torch.float64)). Please consider scaling the input to zero mean and unit variance.\n",
      "  check_standardization(Y=train_Y, raise_on_fail=raise_on_fail)\n"
     ]
    },
    {
     "name": "stdout",
     "output_type": "stream",
     "text": [
      "Exploitation 130/200 - New sample: [4.34685055 5.91203108 0.66649123 0.10777426], Objective value: 1.5362208879964776\n",
      "Exploitation 131/200 - New sample: [4.39352043 5.91213538 0.73441567 0.27768692], Objective value: -2.0130875507797783\n"
     ]
    },
    {
     "name": "stderr",
     "output_type": "stream",
     "text": [
      "/u/81/mirandi1/unix/.local/lib/python3.10/site-packages/botorch/models/utils/assorted.py:257: InputDataWarning: Input data is not contained to the unit cube. Please consider min-max scaling the input data.\n",
      "  check_min_max_scaling(\n",
      "/u/81/mirandi1/unix/.local/lib/python3.10/site-packages/botorch/models/utils/assorted.py:260: InputDataWarning: Data is not standardized (std = tensor([3.5488], dtype=torch.float64), mean = tensor([4.0293], dtype=torch.float64)). Please consider scaling the input to zero mean and unit variance.\n",
      "  check_standardization(Y=train_Y, raise_on_fail=raise_on_fail)\n",
      "/u/81/mirandi1/unix/.local/lib/python3.10/site-packages/botorch/models/utils/assorted.py:257: InputDataWarning: Input data is not contained to the unit cube. Please consider min-max scaling the input data.\n",
      "  check_min_max_scaling(\n",
      "/u/81/mirandi1/unix/.local/lib/python3.10/site-packages/botorch/models/utils/assorted.py:260: InputDataWarning: Data is not standardized (std = tensor([3.5501], dtype=torch.float64), mean = tensor([4.0064], dtype=torch.float64)). Please consider scaling the input to zero mean and unit variance.\n",
      "  check_standardization(Y=train_Y, raise_on_fail=raise_on_fail)\n"
     ]
    },
    {
     "name": "stdout",
     "output_type": "stream",
     "text": [
      "Exploitation 132/200 - New sample: [4.58623817 5.96461113 0.77069594 0.30485474], Objective value: -2.4610662159555163\n",
      "Exploitation 133/200 - New sample: [4.34608409 5.91196501 0.66655639 0.10781441], Objective value: 1.6802694656460544\n"
     ]
    },
    {
     "name": "stderr",
     "output_type": "stream",
     "text": [
      "/u/81/mirandi1/unix/.local/lib/python3.10/site-packages/botorch/models/utils/assorted.py:257: InputDataWarning: Input data is not contained to the unit cube. Please consider min-max scaling the input data.\n",
      "  check_min_max_scaling(\n",
      "/u/81/mirandi1/unix/.local/lib/python3.10/site-packages/botorch/models/utils/assorted.py:260: InputDataWarning: Data is not standardized (std = tensor([3.5705], dtype=torch.float64), mean = tensor([4.0431], dtype=torch.float64)). Please consider scaling the input to zero mean and unit variance.\n",
      "  check_standardization(Y=train_Y, raise_on_fail=raise_on_fail)\n",
      "/u/81/mirandi1/unix/.local/lib/python3.10/site-packages/botorch/models/utils/assorted.py:257: InputDataWarning: Input data is not contained to the unit cube. Please consider min-max scaling the input data.\n",
      "  check_min_max_scaling(\n",
      "/u/81/mirandi1/unix/.local/lib/python3.10/site-packages/botorch/models/utils/assorted.py:260: InputDataWarning: Data is not standardized (std = tensor([3.5601], dtype=torch.float64), mean = tensor([4.0388], dtype=torch.float64)). Please consider scaling the input to zero mean and unit variance.\n",
      "  check_standardization(Y=train_Y, raise_on_fail=raise_on_fail)\n"
     ]
    },
    {
     "name": "stdout",
     "output_type": "stream",
     "text": [
      "Exploitation 134/200 - New sample: [4.42623847 5.69397503 0.52111655 0.1611319 ], Objective value: -1.1609530791611506\n"
     ]
    },
    {
     "name": "stderr",
     "output_type": "stream",
     "text": [
      "/u/81/mirandi1/unix/.local/lib/python3.10/site-packages/botorch/models/utils/assorted.py:257: InputDataWarning: Input data is not contained to the unit cube. Please consider min-max scaling the input data.\n",
      "  check_min_max_scaling(\n",
      "/u/81/mirandi1/unix/.local/lib/python3.10/site-packages/botorch/models/utils/assorted.py:260: InputDataWarning: Data is not standardized (std = tensor([3.5801], dtype=torch.float64), mean = tensor([4.0750], dtype=torch.float64)). Please consider scaling the input to zero mean and unit variance.\n",
      "  check_standardization(Y=train_Y, raise_on_fail=raise_on_fail)\n",
      "/u/81/mirandi1/unix/.local/lib/python3.10/site-packages/botorch/models/utils/assorted.py:257: InputDataWarning: Input data is not contained to the unit cube. Please consider min-max scaling the input data.\n",
      "  check_min_max_scaling(\n",
      "/u/81/mirandi1/unix/.local/lib/python3.10/site-packages/botorch/models/utils/assorted.py:260: InputDataWarning: Data is not standardized (std = tensor([3.5821], dtype=torch.float64), mean = tensor([4.0518], dtype=torch.float64)). Please consider scaling the input to zero mean and unit variance.\n",
      "  check_standardization(Y=train_Y, raise_on_fail=raise_on_fail)\n",
      "/u/81/mirandi1/unix/.local/lib/python3.10/site-packages/botorch/models/utils/assorted.py:257: InputDataWarning: Input data is not contained to the unit cube. Please consider min-max scaling the input data.\n",
      "  check_min_max_scaling(\n",
      "/u/81/mirandi1/unix/.local/lib/python3.10/site-packages/botorch/models/utils/assorted.py:260: InputDataWarning: Data is not standardized (std = tensor([3.5787], dtype=torch.float64), mean = tensor([4.0342], dtype=torch.float64)). Please consider scaling the input to zero mean and unit variance.\n",
      "  check_standardization(Y=train_Y, raise_on_fail=raise_on_fail)\n"
     ]
    },
    {
     "name": "stdout",
     "output_type": "stream",
     "text": [
      "Exploitation 135/200 - New sample: [4.34593841 5.91193143 0.66650148 0.10777668], Objective value: 1.6919094539088837\n",
      "Exploitation 136/200 - New sample: [4.38490496 7.1512927  0.5207031  0.48172649], Objective value: -2.5018959285437\n",
      "Exploitation 137/200 - New sample: [4.31280488 5.5616376  0.52823645 0.31127637], Objective value: -2.1171569137571664\n"
     ]
    },
    {
     "name": "stderr",
     "output_type": "stream",
     "text": [
      "/u/81/mirandi1/unix/.local/lib/python3.10/site-packages/botorch/models/utils/assorted.py:257: InputDataWarning: Input data is not contained to the unit cube. Please consider min-max scaling the input data.\n",
      "  check_min_max_scaling(\n",
      "/u/81/mirandi1/unix/.local/lib/python3.10/site-packages/botorch/models/utils/assorted.py:260: InputDataWarning: Data is not standardized (std = tensor([3.5983], dtype=torch.float64), mean = tensor([4.0699], dtype=torch.float64)). Please consider scaling the input to zero mean and unit variance.\n",
      "  check_standardization(Y=train_Y, raise_on_fail=raise_on_fail)\n",
      "/u/81/mirandi1/unix/.local/lib/python3.10/site-packages/botorch/models/utils/assorted.py:257: InputDataWarning: Input data is not contained to the unit cube. Please consider min-max scaling the input data.\n",
      "  check_min_max_scaling(\n",
      "/u/81/mirandi1/unix/.local/lib/python3.10/site-packages/botorch/models/utils/assorted.py:260: InputDataWarning: Data is not standardized (std = tensor([3.5933], dtype=torch.float64), mean = tensor([4.0545], dtype=torch.float64)). Please consider scaling the input to zero mean and unit variance.\n",
      "  check_standardization(Y=train_Y, raise_on_fail=raise_on_fail)\n"
     ]
    },
    {
     "name": "stdout",
     "output_type": "stream",
     "text": [
      "Exploitation 138/200 - New sample: [4.34579763 5.91190107 0.6664371  0.10773094], Objective value: 1.698651270599896\n",
      "Exploitation 139/200 - New sample: [4.43645559 6.02952584 0.85889547 0.02574492], Objective value: -1.9628240879138632\n"
     ]
    },
    {
     "name": "stderr",
     "output_type": "stream",
     "text": [
      "/u/81/mirandi1/unix/.local/lib/python3.10/site-packages/botorch/models/utils/assorted.py:257: InputDataWarning: Input data is not contained to the unit cube. Please consider min-max scaling the input data.\n",
      "  check_min_max_scaling(\n",
      "/u/81/mirandi1/unix/.local/lib/python3.10/site-packages/botorch/models/utils/assorted.py:260: InputDataWarning: Data is not standardized (std = tensor([3.5872], dtype=torch.float64), mean = tensor([4.0410], dtype=torch.float64)). Please consider scaling the input to zero mean and unit variance.\n",
      "  check_standardization(Y=train_Y, raise_on_fail=raise_on_fail)\n",
      "/u/81/mirandi1/unix/.local/lib/python3.10/site-packages/botorch/models/utils/assorted.py:257: InputDataWarning: Input data is not contained to the unit cube. Please consider min-max scaling the input data.\n",
      "  check_min_max_scaling(\n",
      "/u/81/mirandi1/unix/.local/lib/python3.10/site-packages/botorch/models/utils/assorted.py:260: InputDataWarning: Data is not standardized (std = tensor([3.5772], dtype=torch.float64), mean = tensor([4.0370], dtype=torch.float64)). Please consider scaling the input to zero mean and unit variance.\n",
      "  check_standardization(Y=train_Y, raise_on_fail=raise_on_fail)\n"
     ]
    },
    {
     "name": "stdout",
     "output_type": "stream",
     "text": [
      "Exploitation 140/200 - New sample: [4.3873893  5.89928728 0.85577342 0.07459116], Objective value: -1.8415857668394389\n",
      "Exploitation 141/200 - New sample: [4.4262384  5.69397539 0.5211166  0.16113156], Objective value: -1.1609528853569113\n"
     ]
    },
    {
     "name": "stderr",
     "output_type": "stream",
     "text": [
      "/u/81/mirandi1/unix/.local/lib/python3.10/site-packages/botorch/models/utils/assorted.py:257: InputDataWarning: Input data is not contained to the unit cube. Please consider min-max scaling the input data.\n",
      "  check_min_max_scaling(\n",
      "/u/81/mirandi1/unix/.local/lib/python3.10/site-packages/botorch/models/utils/assorted.py:260: InputDataWarning: Data is not standardized (std = tensor([3.5735], dtype=torch.float64), mean = tensor([4.0204], dtype=torch.float64)). Please consider scaling the input to zero mean and unit variance.\n",
      "  check_standardization(Y=train_Y, raise_on_fail=raise_on_fail)\n",
      "/u/81/mirandi1/unix/.local/lib/python3.10/site-packages/botorch/models/utils/assorted.py:257: InputDataWarning: Input data is not contained to the unit cube. Please consider min-max scaling the input data.\n",
      "  check_min_max_scaling(\n",
      "/u/81/mirandi1/unix/.local/lib/python3.10/site-packages/botorch/models/utils/assorted.py:260: InputDataWarning: Data is not standardized (std = tensor([3.5645], dtype=torch.float64), mean = tensor([4.0132], dtype=torch.float64)). Please consider scaling the input to zero mean and unit variance.\n",
      "  check_standardization(Y=train_Y, raise_on_fail=raise_on_fail)\n"
     ]
    },
    {
     "name": "stdout",
     "output_type": "stream",
     "text": [
      "Exploitation 142/200 - New sample: [4.40210217 7.13350207 0.57572824 0.33087136], Objective value: -2.083346071220906\n",
      "Exploitation 143/200 - New sample: [4.27413186 5.99624345 0.77281939 0.11632911], Objective value: -1.4073525389741712\n"
     ]
    },
    {
     "name": "stderr",
     "output_type": "stream",
     "text": [
      "/u/81/mirandi1/unix/.local/lib/python3.10/site-packages/botorch/models/utils/assorted.py:257: InputDataWarning: Input data is not contained to the unit cube. Please consider min-max scaling the input data.\n",
      "  check_min_max_scaling(\n",
      "/u/81/mirandi1/unix/.local/lib/python3.10/site-packages/botorch/models/utils/assorted.py:260: InputDataWarning: Data is not standardized (std = tensor([3.5546], dtype=torch.float64), mean = tensor([4.0094], dtype=torch.float64)). Please consider scaling the input to zero mean and unit variance.\n",
      "  check_standardization(Y=train_Y, raise_on_fail=raise_on_fail)\n",
      "/u/81/mirandi1/unix/.local/lib/python3.10/site-packages/botorch/models/utils/assorted.py:257: InputDataWarning: Input data is not contained to the unit cube. Please consider min-max scaling the input data.\n",
      "  check_min_max_scaling(\n",
      "/u/81/mirandi1/unix/.local/lib/python3.10/site-packages/botorch/models/utils/assorted.py:260: InputDataWarning: Data is not standardized (std = tensor([3.5449], dtype=torch.float64), mean = tensor([4.0055], dtype=torch.float64)). Please consider scaling the input to zero mean and unit variance.\n",
      "  check_standardization(Y=train_Y, raise_on_fail=raise_on_fail)\n"
     ]
    },
    {
     "name": "stdout",
     "output_type": "stream",
     "text": [
      "Exploitation 144/200 - New sample: [4.42623843 5.69397522 0.52111658 0.16113173], Objective value: -1.1609529285456421\n",
      "Exploitation 145/200 - New sample: [4.31033796 6.99257545 0.50879101 0.19200428], Objective value: -1.1692309086703518\n"
     ]
    },
    {
     "name": "stderr",
     "output_type": "stream",
     "text": [
      "/u/81/mirandi1/unix/.local/lib/python3.10/site-packages/botorch/models/utils/assorted.py:257: InputDataWarning: Input data is not contained to the unit cube. Please consider min-max scaling the input data.\n",
      "  check_min_max_scaling(\n",
      "/u/81/mirandi1/unix/.local/lib/python3.10/site-packages/botorch/models/utils/assorted.py:260: InputDataWarning: Data is not standardized (std = tensor([3.5436], dtype=torch.float64), mean = tensor([3.9868], dtype=torch.float64)). Please consider scaling the input to zero mean and unit variance.\n",
      "  check_standardization(Y=train_Y, raise_on_fail=raise_on_fail)\n",
      "/u/81/mirandi1/unix/.local/lib/python3.10/site-packages/botorch/models/utils/assorted.py:257: InputDataWarning: Input data is not contained to the unit cube. Please consider min-max scaling the input data.\n",
      "  check_min_max_scaling(\n",
      "/u/81/mirandi1/unix/.local/lib/python3.10/site-packages/botorch/models/utils/assorted.py:260: InputDataWarning: Data is not standardized (std = tensor([3.5340], dtype=torch.float64), mean = tensor([3.9832], dtype=torch.float64)). Please consider scaling the input to zero mean and unit variance.\n",
      "  check_standardization(Y=train_Y, raise_on_fail=raise_on_fail)\n",
      "/u/81/mirandi1/unix/.local/lib/python3.10/site-packages/botorch/models/utils/assorted.py:257: InputDataWarning: Input data is not contained to the unit cube. Please consider min-max scaling the input data.\n",
      "  check_min_max_scaling(\n",
      "/u/81/mirandi1/unix/.local/lib/python3.10/site-packages/botorch/models/utils/assorted.py:260: InputDataWarning: Data is not standardized (std = tensor([3.5256], dtype=torch.float64), mean = tensor([3.9754], dtype=torch.float64)). Please consider scaling the input to zero mean and unit variance.\n",
      "  check_standardization(Y=train_Y, raise_on_fail=raise_on_fail)\n"
     ]
    },
    {
     "name": "stdout",
     "output_type": "stream",
     "text": [
      "Exploitation 146/200 - New sample: [4.41310475 5.86166218 0.59765466 0.37324347], Objective value: -2.2839956873309197\n",
      "Exploitation 147/200 - New sample: [4.42623843 5.69397522 0.52111659 0.16113173], Objective value: -1.160952917004252\n",
      "Exploitation 148/200 - New sample: [4.46448917 5.60166955 0.63259565 0.13006545], Objective value: -1.4782028150345228\n"
     ]
    },
    {
     "name": "stderr",
     "output_type": "stream",
     "text": [
      "/u/81/mirandi1/unix/.local/lib/python3.10/site-packages/botorch/models/utils/assorted.py:257: InputDataWarning: Input data is not contained to the unit cube. Please consider min-max scaling the input data.\n",
      "  check_min_max_scaling(\n",
      "/u/81/mirandi1/unix/.local/lib/python3.10/site-packages/botorch/models/utils/assorted.py:260: InputDataWarning: Data is not standardized (std = tensor([3.5459], dtype=torch.float64), mean = tensor([4.0097], dtype=torch.float64)). Please consider scaling the input to zero mean and unit variance.\n",
      "  check_standardization(Y=train_Y, raise_on_fail=raise_on_fail)\n",
      "/u/81/mirandi1/unix/.local/lib/python3.10/site-packages/botorch/models/utils/assorted.py:257: InputDataWarning: Input data is not contained to the unit cube. Please consider min-max scaling the input data.\n",
      "  check_min_max_scaling(\n",
      "/u/81/mirandi1/unix/.local/lib/python3.10/site-packages/botorch/models/utils/assorted.py:260: InputDataWarning: Data is not standardized (std = tensor([3.5655], dtype=torch.float64), mean = tensor([4.0436], dtype=torch.float64)). Please consider scaling the input to zero mean and unit variance.\n",
      "  check_standardization(Y=train_Y, raise_on_fail=raise_on_fail)\n"
     ]
    },
    {
     "name": "stdout",
     "output_type": "stream",
     "text": [
      "Exploitation 149/200 - New sample: [4.34556194 5.91186574 0.66639044 0.10771782], Objective value: 1.7269092093087968\n",
      "Exploitation 150/200 - New sample: [4.3453675  5.91184415 0.66630639 0.10766166], Objective value: 1.7320299120813683\n"
     ]
    },
    {
     "name": "stderr",
     "output_type": "stream",
     "text": [
      "/u/81/mirandi1/unix/.local/lib/python3.10/site-packages/botorch/models/utils/assorted.py:257: InputDataWarning: Input data is not contained to the unit cube. Please consider min-max scaling the input data.\n",
      "  check_min_max_scaling(\n",
      "/u/81/mirandi1/unix/.local/lib/python3.10/site-packages/botorch/models/utils/assorted.py:260: InputDataWarning: Data is not standardized (std = tensor([3.5569], dtype=torch.float64), mean = tensor([4.0366], dtype=torch.float64)). Please consider scaling the input to zero mean and unit variance.\n",
      "  check_standardization(Y=train_Y, raise_on_fail=raise_on_fail)\n",
      "/u/81/mirandi1/unix/.local/lib/python3.10/site-packages/botorch/models/utils/assorted.py:257: InputDataWarning: Input data is not contained to the unit cube. Please consider min-max scaling the input data.\n",
      "  check_min_max_scaling(\n",
      "/u/81/mirandi1/unix/.local/lib/python3.10/site-packages/botorch/models/utils/assorted.py:260: InputDataWarning: Data is not standardized (std = tensor([3.5649], dtype=torch.float64), mean = tensor([4.0105], dtype=torch.float64)). Please consider scaling the input to zero mean and unit variance.\n",
      "  check_standardization(Y=train_Y, raise_on_fail=raise_on_fail)\n"
     ]
    },
    {
     "name": "stdout",
     "output_type": "stream",
     "text": [
      "Exploitation 151/200 - New sample: [4.35575854 5.50822286 0.50057238 0.04087271], Objective value: -1.399501522953368\n",
      "Exploitation 152/200 - New sample: [4.88456234 5.02355393 0.9632398  0.0632963 ], Objective value: -2.899994480792264\n"
     ]
    },
    {
     "name": "stderr",
     "output_type": "stream",
     "text": [
      "/u/81/mirandi1/unix/.local/lib/python3.10/site-packages/botorch/models/utils/assorted.py:257: InputDataWarning: Input data is not contained to the unit cube. Please consider min-max scaling the input data.\n",
      "  check_min_max_scaling(\n",
      "/u/81/mirandi1/unix/.local/lib/python3.10/site-packages/botorch/models/utils/assorted.py:260: InputDataWarning: Data is not standardized (std = tensor([3.5567], dtype=torch.float64), mean = tensor([4.0028], dtype=torch.float64)). Please consider scaling the input to zero mean and unit variance.\n",
      "  check_standardization(Y=train_Y, raise_on_fail=raise_on_fail)\n",
      "/u/81/mirandi1/unix/.local/lib/python3.10/site-packages/botorch/models/utils/assorted.py:257: InputDataWarning: Input data is not contained to the unit cube. Please consider min-max scaling the input data.\n",
      "  check_min_max_scaling(\n",
      "/u/81/mirandi1/unix/.local/lib/python3.10/site-packages/botorch/models/utils/assorted.py:260: InputDataWarning: Data is not standardized (std = tensor([3.5761], dtype=torch.float64), mean = tensor([4.0361], dtype=torch.float64)). Please consider scaling the input to zero mean and unit variance.\n",
      "  check_standardization(Y=train_Y, raise_on_fail=raise_on_fail)\n"
     ]
    },
    {
     "name": "stdout",
     "output_type": "stream",
     "text": [
      "Exploitation 153/200 - New sample: [4.46448911 5.60167433 0.63258715 0.13006921], Objective value: -1.4781719698000475\n",
      "Exploitation 154/200 - New sample: [4.34516001 5.91183106 0.6662317  0.1076191 ], Objective value: 1.7393697179255825\n",
      "Exploitation 155/200 - New sample: [4.46448783 5.60167502 0.63258759 0.13006836], Objective value: -1.4781637305422546\n"
     ]
    },
    {
     "name": "stderr",
     "output_type": "stream",
     "text": [
      "/u/81/mirandi1/unix/.local/lib/python3.10/site-packages/botorch/models/utils/assorted.py:257: InputDataWarning: Input data is not contained to the unit cube. Please consider min-max scaling the input data.\n",
      "  check_min_max_scaling(\n",
      "/u/81/mirandi1/unix/.local/lib/python3.10/site-packages/botorch/models/utils/assorted.py:260: InputDataWarning: Data is not standardized (std = tensor([3.5680], dtype=torch.float64), mean = tensor([4.0284], dtype=torch.float64)). Please consider scaling the input to zero mean and unit variance.\n",
      "  check_standardization(Y=train_Y, raise_on_fail=raise_on_fail)\n",
      "/u/81/mirandi1/unix/.local/lib/python3.10/site-packages/botorch/models/utils/assorted.py:257: InputDataWarning: Input data is not contained to the unit cube. Please consider min-max scaling the input data.\n",
      "  check_min_max_scaling(\n",
      "/u/81/mirandi1/unix/.local/lib/python3.10/site-packages/botorch/models/utils/assorted.py:260: InputDataWarning: Data is not standardized (std = tensor([3.5870], dtype=torch.float64), mean = tensor([4.0613], dtype=torch.float64)). Please consider scaling the input to zero mean and unit variance.\n",
      "  check_standardization(Y=train_Y, raise_on_fail=raise_on_fail)\n"
     ]
    },
    {
     "name": "stdout",
     "output_type": "stream",
     "text": [
      "Exploitation 156/200 - New sample: [4.34496043 5.911832   0.66617012 0.10758861], Objective value: 1.7462531604347742\n",
      "Exploitation 157/200 - New sample: [4.42623874 5.69397391 0.52111702 0.1611311 ], Objective value: -1.1609530417025995\n"
     ]
    },
    {
     "name": "stderr",
     "output_type": "stream",
     "text": [
      "/u/81/mirandi1/unix/.local/lib/python3.10/site-packages/botorch/models/utils/assorted.py:257: InputDataWarning: Input data is not contained to the unit cube. Please consider min-max scaling the input data.\n",
      "  check_min_max_scaling(\n",
      "/u/81/mirandi1/unix/.local/lib/python3.10/site-packages/botorch/models/utils/assorted.py:260: InputDataWarning: Data is not standardized (std = tensor([3.5778], dtype=torch.float64), mean = tensor([4.0575], dtype=torch.float64)). Please consider scaling the input to zero mean and unit variance.\n",
      "  check_standardization(Y=train_Y, raise_on_fail=raise_on_fail)\n",
      "/u/81/mirandi1/unix/.local/lib/python3.10/site-packages/botorch/models/utils/assorted.py:257: InputDataWarning: Input data is not contained to the unit cube. Please consider min-max scaling the input data.\n",
      "  check_min_max_scaling(\n",
      "/u/81/mirandi1/unix/.local/lib/python3.10/site-packages/botorch/models/utils/assorted.py:260: InputDataWarning: Data is not standardized (std = tensor([3.5691], dtype=torch.float64), mean = tensor([4.0521], dtype=torch.float64)). Please consider scaling the input to zero mean and unit variance.\n",
      "  check_standardization(Y=train_Y, raise_on_fail=raise_on_fail)\n",
      "/u/81/mirandi1/unix/.local/lib/python3.10/site-packages/botorch/models/utils/assorted.py:257: InputDataWarning: Input data is not contained to the unit cube. Please consider min-max scaling the input data.\n",
      "  check_min_max_scaling(\n",
      "/u/81/mirandi1/unix/.local/lib/python3.10/site-packages/botorch/models/utils/assorted.py:260: InputDataWarning: Data is not standardized (std = tensor([3.5687], dtype=torch.float64), mean = tensor([4.0338], dtype=torch.float64)). Please consider scaling the input to zero mean and unit variance.\n",
      "  check_standardization(Y=train_Y, raise_on_fail=raise_on_fail)\n"
     ]
    },
    {
     "name": "stdout",
     "output_type": "stream",
     "text": [
      "Exploitation 158/200 - New sample: [4.26038508 5.46252377 0.59064728 0.01239874], Objective value: -1.2900147342953792\n",
      "Exploitation 159/200 - New sample: [4.1533925  6.79317565 0.64029619 0.36560047], Objective value: -2.3395374498467887\n",
      "Exploitation 160/200 - New sample: [4.29458858 6.94955212 0.89480384 0.27562898], Objective value: -1.9156443960126124\n"
     ]
    },
    {
     "name": "stderr",
     "output_type": "stream",
     "text": [
      "/u/81/mirandi1/unix/.local/lib/python3.10/site-packages/botorch/models/utils/assorted.py:257: InputDataWarning: Input data is not contained to the unit cube. Please consider min-max scaling the input data.\n",
      "  check_min_max_scaling(\n",
      "/u/81/mirandi1/unix/.local/lib/python3.10/site-packages/botorch/models/utils/assorted.py:260: InputDataWarning: Data is not standardized (std = tensor([3.5638], dtype=torch.float64), mean = tensor([4.0209], dtype=torch.float64)). Please consider scaling the input to zero mean and unit variance.\n",
      "  check_standardization(Y=train_Y, raise_on_fail=raise_on_fail)\n",
      "/u/81/mirandi1/unix/.local/lib/python3.10/site-packages/botorch/models/utils/assorted.py:257: InputDataWarning: Input data is not contained to the unit cube. Please consider min-max scaling the input data.\n",
      "  check_min_max_scaling(\n",
      "/u/81/mirandi1/unix/.local/lib/python3.10/site-packages/botorch/models/utils/assorted.py:260: InputDataWarning: Data is not standardized (std = tensor([3.5606], dtype=torch.float64), mean = tensor([4.0059], dtype=torch.float64)). Please consider scaling the input to zero mean and unit variance.\n",
      "  check_standardization(Y=train_Y, raise_on_fail=raise_on_fail)\n",
      "/u/81/mirandi1/unix/.local/lib/python3.10/site-packages/botorch/models/utils/assorted.py:257: InputDataWarning: Input data is not contained to the unit cube. Please consider min-max scaling the input data.\n",
      "  check_min_max_scaling(\n",
      "/u/81/mirandi1/unix/.local/lib/python3.10/site-packages/botorch/models/utils/assorted.py:260: InputDataWarning: Data is not standardized (std = tensor([3.5528], dtype=torch.float64), mean = tensor([3.9986], dtype=torch.float64)). Please consider scaling the input to zero mean and unit variance.\n",
      "  check_standardization(Y=train_Y, raise_on_fail=raise_on_fail)\n"
     ]
    },
    {
     "name": "stdout",
     "output_type": "stream",
     "text": [
      "Exploitation 161/200 - New sample: [4.36880755 5.58762572 0.7495027  0.24201303], Objective value: -2.0931361046055454\n",
      "Exploitation 162/200 - New sample: [4.46448779 5.60167504 0.63258768 0.1300683 ], Objective value: -1.4781636899477502\n",
      "Exploitation 163/200 - New sample: [3.05343874 6.70833003 0.56887295 0.48223022], Objective value: -2.726278241277941\n"
     ]
    },
    {
     "name": "stderr",
     "output_type": "stream",
     "text": [
      "/u/81/mirandi1/unix/.local/lib/python3.10/site-packages/botorch/models/utils/assorted.py:257: InputDataWarning: Input data is not contained to the unit cube. Please consider min-max scaling the input data.\n",
      "  check_min_max_scaling(\n",
      "/u/81/mirandi1/unix/.local/lib/python3.10/site-packages/botorch/models/utils/assorted.py:260: InputDataWarning: Data is not standardized (std = tensor([3.5574], dtype=torch.float64), mean = tensor([3.9762], dtype=torch.float64)). Please consider scaling the input to zero mean and unit variance.\n",
      "  check_standardization(Y=train_Y, raise_on_fail=raise_on_fail)\n",
      "/u/81/mirandi1/unix/.local/lib/python3.10/site-packages/botorch/models/utils/assorted.py:257: InputDataWarning: Input data is not contained to the unit cube. Please consider min-max scaling the input data.\n",
      "  check_min_max_scaling(\n",
      "/u/81/mirandi1/unix/.local/lib/python3.10/site-packages/botorch/models/utils/assorted.py:260: InputDataWarning: Data is not standardized (std = tensor([3.5518], dtype=torch.float64), mean = tensor([3.9649], dtype=torch.float64)). Please consider scaling the input to zero mean and unit variance.\n",
      "  check_standardization(Y=train_Y, raise_on_fail=raise_on_fail)\n"
     ]
    },
    {
     "name": "stdout",
     "output_type": "stream",
     "text": [
      "Exploitation 164/200 - New sample: [4.38436264 5.89876379 0.85312219 0.07474311], Objective value: -1.828941295994251\n",
      "Exploitation 165/200 - New sample: [4.32129353 7.02461504 0.50670732 0.19013194], Objective value: -1.147523895703347\n"
     ]
    },
    {
     "name": "stderr",
     "output_type": "stream",
     "text": [
      "/u/81/mirandi1/unix/.local/lib/python3.10/site-packages/botorch/models/utils/assorted.py:257: InputDataWarning: Input data is not contained to the unit cube. Please consider min-max scaling the input data.\n",
      "  check_min_max_scaling(\n",
      "/u/81/mirandi1/unix/.local/lib/python3.10/site-packages/botorch/models/utils/assorted.py:260: InputDataWarning: Data is not standardized (std = tensor([3.5430], dtype=torch.float64), mean = tensor([3.9619], dtype=torch.float64)). Please consider scaling the input to zero mean and unit variance.\n",
      "  check_standardization(Y=train_Y, raise_on_fail=raise_on_fail)\n",
      "/u/81/mirandi1/unix/.local/lib/python3.10/site-packages/botorch/models/utils/assorted.py:257: InputDataWarning: Input data is not contained to the unit cube. Please consider min-max scaling the input data.\n",
      "  check_min_max_scaling(\n",
      "/u/81/mirandi1/unix/.local/lib/python3.10/site-packages/botorch/models/utils/assorted.py:260: InputDataWarning: Data is not standardized (std = tensor([3.5427], dtype=torch.float64), mean = tensor([3.9443], dtype=torch.float64)). Please consider scaling the input to zero mean and unit variance.\n",
      "  check_standardization(Y=train_Y, raise_on_fail=raise_on_fail)\n"
     ]
    },
    {
     "name": "stdout",
     "output_type": "stream",
     "text": [
      "Exploitation 166/200 - New sample: [4.16174904 6.99710674 0.93959238 0.39183342], Objective value: -2.375684765452693\n",
      "Exploitation 167/200 - New sample: [4.42623891 5.69397395 0.52111776 0.16113128], Objective value: -1.1609525059776213\n"
     ]
    },
    {
     "name": "stderr",
     "output_type": "stream",
     "text": [
      "/u/81/mirandi1/unix/.local/lib/python3.10/site-packages/botorch/models/utils/assorted.py:257: InputDataWarning: Input data is not contained to the unit cube. Please consider min-max scaling the input data.\n",
      "  check_min_max_scaling(\n",
      "/u/81/mirandi1/unix/.local/lib/python3.10/site-packages/botorch/models/utils/assorted.py:260: InputDataWarning: Data is not standardized (std = tensor([3.5340], dtype=torch.float64), mean = tensor([3.9412], dtype=torch.float64)). Please consider scaling the input to zero mean and unit variance.\n",
      "  check_standardization(Y=train_Y, raise_on_fail=raise_on_fail)\n",
      "/u/81/mirandi1/unix/.local/lib/python3.10/site-packages/botorch/models/utils/assorted.py:257: InputDataWarning: Input data is not contained to the unit cube. Please consider min-max scaling the input data.\n",
      "  check_min_max_scaling(\n",
      "/u/81/mirandi1/unix/.local/lib/python3.10/site-packages/botorch/models/utils/assorted.py:260: InputDataWarning: Data is not standardized (std = tensor([3.5327], dtype=torch.float64), mean = tensor([3.9249], dtype=torch.float64)). Please consider scaling the input to zero mean and unit variance.\n",
      "  check_standardization(Y=train_Y, raise_on_fail=raise_on_fail)\n"
     ]
    },
    {
     "name": "stdout",
     "output_type": "stream",
     "text": [
      "Exploitation 168/200 - New sample: [4.34642889 5.54647141 0.53513983 0.38075846], Objective value: -2.290012495488511\n",
      "Exploitation 169/200 - New sample: [4.29165847 7.0711605  0.99499885 0.28344234], Objective value: -1.9728733300473844\n"
     ]
    },
    {
     "name": "stderr",
     "output_type": "stream",
     "text": [
      "/u/81/mirandi1/unix/.local/lib/python3.10/site-packages/botorch/models/utils/assorted.py:257: InputDataWarning: Input data is not contained to the unit cube. Please consider min-max scaling the input data.\n",
      "  check_min_max_scaling(\n",
      "/u/81/mirandi1/unix/.local/lib/python3.10/site-packages/botorch/models/utils/assorted.py:260: InputDataWarning: Data is not standardized (std = tensor([3.5283], dtype=torch.float64), mean = tensor([3.9124], dtype=torch.float64)). Please consider scaling the input to zero mean and unit variance.\n",
      "  check_standardization(Y=train_Y, raise_on_fail=raise_on_fail)\n",
      "/u/81/mirandi1/unix/.local/lib/python3.10/site-packages/botorch/models/utils/assorted.py:257: InputDataWarning: Input data is not contained to the unit cube. Please consider min-max scaling the input data.\n",
      "  check_min_max_scaling(\n",
      "/u/81/mirandi1/unix/.local/lib/python3.10/site-packages/botorch/models/utils/assorted.py:260: InputDataWarning: Data is not standardized (std = tensor([3.5477], dtype=torch.float64), mean = tensor([3.9438], dtype=torch.float64)). Please consider scaling the input to zero mean and unit variance.\n",
      "  check_standardization(Y=train_Y, raise_on_fail=raise_on_fail)\n"
     ]
    },
    {
     "name": "stdout",
     "output_type": "stream",
     "text": [
      "Exploitation 170/200 - New sample: [4.34475646 5.91186464 0.6661496  0.10759639], Objective value: 1.7630597636464809\n",
      "Exploitation 171/200 - New sample: [4.42766586 5.84302579 0.85413761 0.10569775], Objective value: -1.94039879931504\n"
     ]
    },
    {
     "name": "stderr",
     "output_type": "stream",
     "text": [
      "/u/81/mirandi1/unix/.local/lib/python3.10/site-packages/botorch/models/utils/assorted.py:257: InputDataWarning: Input data is not contained to the unit cube. Please consider min-max scaling the input data.\n",
      "  check_min_max_scaling(\n",
      "/u/81/mirandi1/unix/.local/lib/python3.10/site-packages/botorch/models/utils/assorted.py:260: InputDataWarning: Data is not standardized (std = tensor([3.5430], dtype=torch.float64), mean = tensor([3.9317], dtype=torch.float64)). Please consider scaling the input to zero mean and unit variance.\n",
      "  check_standardization(Y=train_Y, raise_on_fail=raise_on_fail)\n",
      "/u/81/mirandi1/unix/.local/lib/python3.10/site-packages/botorch/models/utils/assorted.py:257: InputDataWarning: Input data is not contained to the unit cube. Please consider min-max scaling the input data.\n",
      "  check_min_max_scaling(\n",
      "/u/81/mirandi1/unix/.local/lib/python3.10/site-packages/botorch/models/utils/assorted.py:260: InputDataWarning: Data is not standardized (std = tensor([3.5355], dtype=torch.float64), mean = tensor([3.9252], dtype=torch.float64)). Please consider scaling the input to zero mean and unit variance.\n",
      "  check_standardization(Y=train_Y, raise_on_fail=raise_on_fail)\n"
     ]
    },
    {
     "name": "stdout",
     "output_type": "stream",
     "text": [
      "Exploitation 172/200 - New sample: [4.46448769 5.60167461 0.63258713 0.13006812], Objective value: -1.4781607592599872\n",
      "Exploitation 173/200 - New sample: [4.30627666 6.01084838 0.64025457 0.23542033], Objective value: -1.740919046074202\n",
      "Exploitation 174/200 - New sample: [4.23151972 7.01538692 0.98536997 0.25545097], Objective value: -1.9728146208871844\n"
     ]
    },
    {
     "name": "stderr",
     "output_type": "stream",
     "text": [
      "/u/81/mirandi1/unix/.local/lib/python3.10/site-packages/botorch/models/utils/assorted.py:257: InputDataWarning: Input data is not contained to the unit cube. Please consider min-max scaling the input data.\n",
      "  check_min_max_scaling(\n",
      "/u/81/mirandi1/unix/.local/lib/python3.10/site-packages/botorch/models/utils/assorted.py:260: InputDataWarning: Data is not standardized (std = tensor([3.5295], dtype=torch.float64), mean = tensor([3.9156], dtype=torch.float64)). Please consider scaling the input to zero mean and unit variance.\n",
      "  check_standardization(Y=train_Y, raise_on_fail=raise_on_fail)\n",
      "/u/81/mirandi1/unix/.local/lib/python3.10/site-packages/botorch/models/utils/assorted.py:257: InputDataWarning: Input data is not contained to the unit cube. Please consider min-max scaling the input data.\n",
      "  check_min_max_scaling(\n",
      "/u/81/mirandi1/unix/.local/lib/python3.10/site-packages/botorch/models/utils/assorted.py:260: InputDataWarning: Data is not standardized (std = tensor([3.5252], dtype=torch.float64), mean = tensor([3.9035], dtype=torch.float64)). Please consider scaling the input to zero mean and unit variance.\n",
      "  check_standardization(Y=train_Y, raise_on_fail=raise_on_fail)\n",
      "/u/81/mirandi1/unix/.local/lib/python3.10/site-packages/botorch/models/utils/assorted.py:257: InputDataWarning: Input data is not contained to the unit cube. Please consider min-max scaling the input data.\n",
      "  check_min_max_scaling(\n",
      "/u/81/mirandi1/unix/.local/lib/python3.10/site-packages/botorch/models/utils/assorted.py:260: InputDataWarning: Data is not standardized (std = tensor([3.5473], dtype=torch.float64), mean = tensor([3.9359], dtype=torch.float64)). Please consider scaling the input to zero mean and unit variance.\n",
      "  check_standardization(Y=train_Y, raise_on_fail=raise_on_fail)\n",
      "/u/81/mirandi1/unix/.local/lib/python3.10/site-packages/botorch/models/utils/assorted.py:257: InputDataWarning: Input data is not contained to the unit cube. Please consider min-max scaling the input data.\n",
      "  check_min_max_scaling(\n",
      "/u/81/mirandi1/unix/.local/lib/python3.10/site-packages/botorch/models/utils/assorted.py:260: InputDataWarning: Data is not standardized (std = tensor([3.5390], dtype=torch.float64), mean = tensor([3.9331], dtype=torch.float64)). Please consider scaling the input to zero mean and unit variance.\n",
      "  check_standardization(Y=train_Y, raise_on_fail=raise_on_fail)\n"
     ]
    },
    {
     "name": "stdout",
     "output_type": "stream",
     "text": [
      "Exploitation 175/200 - New sample: [4.34516398 5.91219879 0.66686746 0.10858345], Objective value: 1.9102086224309198\n",
      "Exploitation 176/200 - New sample: [4.31624002 6.99337655 0.50467785 0.18970428], Objective value: -1.1532437784508145\n"
     ]
    },
    {
     "name": "stderr",
     "output_type": "stream",
     "text": [
      "/u/81/mirandi1/unix/.local/lib/python3.10/site-packages/botorch/models/utils/assorted.py:257: InputDataWarning: Input data is not contained to the unit cube. Please consider min-max scaling the input data.\n",
      "  check_min_max_scaling(\n",
      "/u/81/mirandi1/unix/.local/lib/python3.10/site-packages/botorch/models/utils/assorted.py:260: InputDataWarning: Data is not standardized (std = tensor([3.5364], dtype=torch.float64), mean = tensor([3.9189], dtype=torch.float64)). Please consider scaling the input to zero mean and unit variance.\n",
      "  check_standardization(Y=train_Y, raise_on_fail=raise_on_fail)\n",
      "/u/81/mirandi1/unix/.local/lib/python3.10/site-packages/botorch/models/utils/assorted.py:257: InputDataWarning: Input data is not contained to the unit cube. Please consider min-max scaling the input data.\n",
      "  check_min_max_scaling(\n",
      "/u/81/mirandi1/unix/.local/lib/python3.10/site-packages/botorch/models/utils/assorted.py:260: InputDataWarning: Data is not standardized (std = tensor([3.5285], dtype=torch.float64), mean = tensor([3.9147], dtype=torch.float64)). Please consider scaling the input to zero mean and unit variance.\n",
      "  check_standardization(Y=train_Y, raise_on_fail=raise_on_fail)\n"
     ]
    },
    {
     "name": "stdout",
     "output_type": "stream",
     "text": [
      "Exploitation 177/200 - New sample: [4.53248214 5.79248863 0.5139673  0.29132448], Objective value: -2.16469022174141\n",
      "Exploitation 178/200 - New sample: [4.26038508 5.46252376 0.59064727 0.01239874], Objective value: -1.29001473355544\n"
     ]
    },
    {
     "name": "stderr",
     "output_type": "stream",
     "text": [
      "/u/81/mirandi1/unix/.local/lib/python3.10/site-packages/botorch/models/utils/assorted.py:257: InputDataWarning: Input data is not contained to the unit cube. Please consider min-max scaling the input data.\n",
      "  check_min_max_scaling(\n",
      "/u/81/mirandi1/unix/.local/lib/python3.10/site-packages/botorch/models/utils/assorted.py:260: InputDataWarning: Data is not standardized (std = tensor([3.5212], dtype=torch.float64), mean = tensor([3.9084], dtype=torch.float64)). Please consider scaling the input to zero mean and unit variance.\n",
      "  check_standardization(Y=train_Y, raise_on_fail=raise_on_fail)\n",
      "/u/81/mirandi1/unix/.local/lib/python3.10/site-packages/botorch/models/utils/assorted.py:257: InputDataWarning: Input data is not contained to the unit cube. Please consider min-max scaling the input data.\n",
      "  check_min_max_scaling(\n",
      "/u/81/mirandi1/unix/.local/lib/python3.10/site-packages/botorch/models/utils/assorted.py:260: InputDataWarning: Data is not standardized (std = tensor([3.5171], dtype=torch.float64), mean = tensor([3.8966], dtype=torch.float64)). Please consider scaling the input to zero mean and unit variance.\n",
      "  check_standardization(Y=train_Y, raise_on_fail=raise_on_fail)\n"
     ]
    },
    {
     "name": "stdout",
     "output_type": "stream",
     "text": [
      "Exploitation 179/200 - New sample: [4.46448707 5.60167851 0.63258143 0.13007035], Objective value: -1.4781353403947597\n",
      "Exploitation 180/200 - New sample: [4.0487678  5.96760633 0.63010276 0.09277194], Objective value: -1.974903203334132\n"
     ]
    },
    {
     "name": "stderr",
     "output_type": "stream",
     "text": [
      "/u/81/mirandi1/unix/.local/lib/python3.10/site-packages/botorch/models/utils/assorted.py:257: InputDataWarning: Input data is not contained to the unit cube. Please consider min-max scaling the input data.\n",
      "  check_min_max_scaling(\n",
      "/u/81/mirandi1/unix/.local/lib/python3.10/site-packages/botorch/models/utils/assorted.py:260: InputDataWarning: Data is not standardized (std = tensor([3.5112], dtype=torch.float64), mean = tensor([3.8876], dtype=torch.float64)). Please consider scaling the input to zero mean and unit variance.\n",
      "  check_standardization(Y=train_Y, raise_on_fail=raise_on_fail)\n",
      "/u/81/mirandi1/unix/.local/lib/python3.10/site-packages/botorch/models/utils/assorted.py:257: InputDataWarning: Input data is not contained to the unit cube. Please consider min-max scaling the input data.\n",
      "  check_min_max_scaling(\n",
      "/u/81/mirandi1/unix/.local/lib/python3.10/site-packages/botorch/models/utils/assorted.py:260: InputDataWarning: Data is not standardized (std = tensor([3.5047], dtype=torch.float64), mean = tensor([3.8801], dtype=torch.float64)). Please consider scaling the input to zero mean and unit variance.\n",
      "  check_standardization(Y=train_Y, raise_on_fail=raise_on_fail)\n",
      "/u/81/mirandi1/unix/.local/lib/python3.10/site-packages/botorch/models/utils/assorted.py:257: InputDataWarning: Input data is not contained to the unit cube. Please consider min-max scaling the input data.\n",
      "  check_min_max_scaling(\n",
      "/u/81/mirandi1/unix/.local/lib/python3.10/site-packages/botorch/models/utils/assorted.py:260: InputDataWarning: Data is not standardized (std = tensor([3.4971], dtype=torch.float64), mean = tensor([3.8757], dtype=torch.float64)). Please consider scaling the input to zero mean and unit variance.\n",
      "  check_standardization(Y=train_Y, raise_on_fail=raise_on_fail)\n"
     ]
    },
    {
     "name": "stdout",
     "output_type": "stream",
     "text": [
      "Exploitation 181/200 - New sample: [4.30627381 6.01084194 0.64025755 0.23541519], Objective value: -1.7408991272625274\n",
      "Exploitation 182/200 - New sample: [4.21775715 7.22686741 0.57694751 0.18943223], Objective value: -1.6023628229946432\n",
      "Exploitation 183/200 - New sample: [4.33995979 7.23784494 0.59751328 0.22507352], Objective value: -1.33166121970689\n",
      "Exploitation 184/200 - New sample: [4.22178136 6.05103627 0.71604143 0.31884177], Objective value: -2.2159029655500384\n"
     ]
    },
    {
     "name": "stderr",
     "output_type": "stream",
     "text": [
      "/u/81/mirandi1/unix/.local/lib/python3.10/site-packages/botorch/models/utils/assorted.py:257: InputDataWarning: Input data is not contained to the unit cube. Please consider min-max scaling the input data.\n",
      "  check_min_max_scaling(\n",
      "/u/81/mirandi1/unix/.local/lib/python3.10/site-packages/botorch/models/utils/assorted.py:260: InputDataWarning: Data is not standardized (std = tensor([3.4950], dtype=torch.float64), mean = tensor([3.8617], dtype=torch.float64)). Please consider scaling the input to zero mean and unit variance.\n",
      "  check_standardization(Y=train_Y, raise_on_fail=raise_on_fail)\n",
      "/u/81/mirandi1/unix/.local/lib/python3.10/site-packages/botorch/models/utils/assorted.py:257: InputDataWarning: Input data is not contained to the unit cube. Please consider min-max scaling the input data.\n",
      "  check_min_max_scaling(\n",
      "/u/81/mirandi1/unix/.local/lib/python3.10/site-packages/botorch/models/utils/assorted.py:260: InputDataWarning: Data is not standardized (std = tensor([3.5153], dtype=torch.float64), mean = tensor([3.8920], dtype=torch.float64)). Please consider scaling the input to zero mean and unit variance.\n",
      "  check_standardization(Y=train_Y, raise_on_fail=raise_on_fail)\n"
     ]
    },
    {
     "name": "stdout",
     "output_type": "stream",
     "text": [
      "Exploitation 185/200 - New sample: [4.34440633 5.9126324  0.66638758 0.10786542], Objective value: 1.8382082576008087\n",
      "Exploitation 186/200 - New sample: [4.10285801 7.2047225  0.5367994  0.33317074], Objective value: -2.3353775096776435\n"
     ]
    },
    {
     "name": "stderr",
     "output_type": "stream",
     "text": [
      "/u/81/mirandi1/unix/.local/lib/python3.10/site-packages/botorch/models/utils/assorted.py:257: InputDataWarning: Input data is not contained to the unit cube. Please consider min-max scaling the input data.\n",
      "  check_min_max_scaling(\n",
      "/u/81/mirandi1/unix/.local/lib/python3.10/site-packages/botorch/models/utils/assorted.py:260: InputDataWarning: Data is not standardized (std = tensor([3.5145], dtype=torch.float64), mean = tensor([3.8767], dtype=torch.float64)). Please consider scaling the input to zero mean and unit variance.\n",
      "  check_standardization(Y=train_Y, raise_on_fail=raise_on_fail)\n",
      "/u/81/mirandi1/unix/.local/lib/python3.10/site-packages/botorch/models/utils/assorted.py:257: InputDataWarning: Input data is not contained to the unit cube. Please consider min-max scaling the input data.\n",
      "  check_min_max_scaling(\n",
      "/u/81/mirandi1/unix/.local/lib/python3.10/site-packages/botorch/models/utils/assorted.py:260: InputDataWarning: Data is not standardized (std = tensor([3.5080], dtype=torch.float64), mean = tensor([3.8695], dtype=torch.float64)). Please consider scaling the input to zero mean and unit variance.\n",
      "  check_standardization(Y=train_Y, raise_on_fail=raise_on_fail)\n"
     ]
    },
    {
     "name": "stdout",
     "output_type": "stream",
     "text": [
      "Exploitation 187/200 - New sample: [4.21775716 7.22686737 0.57694762 0.18943222], Objective value: -1.6023627561105096\n",
      "Exploitation 188/200 - New sample: [4.26080148 7.86467881 0.54437762 0.08428546], Objective value: -2.2265173896994406\n",
      "Exploitation 189/200 - New sample: [4.32970325 5.48722715 0.67850325 0.03147745], Objective value: -1.6395612421738481\n"
     ]
    },
    {
     "name": "stderr",
     "output_type": "stream",
     "text": [
      "/u/81/mirandi1/unix/.local/lib/python3.10/site-packages/botorch/models/utils/assorted.py:257: InputDataWarning: Input data is not contained to the unit cube. Please consider min-max scaling the input data.\n",
      "  check_min_max_scaling(\n",
      "/u/81/mirandi1/unix/.local/lib/python3.10/site-packages/botorch/models/utils/assorted.py:260: InputDataWarning: Data is not standardized (std = tensor([3.5061], dtype=torch.float64), mean = tensor([3.8556], dtype=torch.float64)). Please consider scaling the input to zero mean and unit variance.\n",
      "  check_standardization(Y=train_Y, raise_on_fail=raise_on_fail)\n",
      "/u/81/mirandi1/unix/.local/lib/python3.10/site-packages/botorch/models/utils/assorted.py:257: InputDataWarning: Input data is not contained to the unit cube. Please consider min-max scaling the input data.\n",
      "  check_min_max_scaling(\n",
      "/u/81/mirandi1/unix/.local/lib/python3.10/site-packages/botorch/models/utils/assorted.py:260: InputDataWarning: Data is not standardized (std = tensor([3.4998], dtype=torch.float64), mean = tensor([3.8482], dtype=torch.float64)). Please consider scaling the input to zero mean and unit variance.\n",
      "  check_standardization(Y=train_Y, raise_on_fail=raise_on_fail)\n",
      "/u/81/mirandi1/unix/.local/lib/python3.10/site-packages/botorch/models/utils/assorted.py:257: InputDataWarning: Input data is not contained to the unit cube. Please consider min-max scaling the input data.\n",
      "  check_min_max_scaling(\n",
      "/u/81/mirandi1/unix/.local/lib/python3.10/site-packages/botorch/models/utils/assorted.py:260: InputDataWarning: Data is not standardized (std = tensor([3.4974], dtype=torch.float64), mean = tensor([3.8350], dtype=torch.float64)). Please consider scaling the input to zero mean and unit variance.\n",
      "  check_standardization(Y=train_Y, raise_on_fail=raise_on_fail)\n"
     ]
    },
    {
     "name": "stdout",
     "output_type": "stream",
     "text": [
      "Exploitation 190/200 - New sample: [4.29252658 7.10174881 0.81307268 0.34613223], Objective value: -2.177816579788254\n",
      "Exploitation 191/200 - New sample: [4.24708724 6.0976629  0.66601189 0.23718605], Objective value: -1.890604213069355\n"
     ]
    },
    {
     "name": "stderr",
     "output_type": "stream",
     "text": [
      "/u/81/mirandi1/unix/.local/lib/python3.10/site-packages/botorch/models/utils/assorted.py:257: InputDataWarning: Input data is not contained to the unit cube. Please consider min-max scaling the input data.\n",
      "  check_min_max_scaling(\n",
      "/u/81/mirandi1/unix/.local/lib/python3.10/site-packages/botorch/models/utils/assorted.py:260: InputDataWarning: Data is not standardized (std = tensor([3.4927], dtype=torch.float64), mean = tensor([3.8251], dtype=torch.float64)). Please consider scaling the input to zero mean and unit variance.\n",
      "  check_standardization(Y=train_Y, raise_on_fail=raise_on_fail)\n",
      "/u/81/mirandi1/unix/.local/lib/python3.10/site-packages/botorch/models/utils/assorted.py:257: InputDataWarning: Input data is not contained to the unit cube. Please consider min-max scaling the input data.\n",
      "  check_min_max_scaling(\n",
      "/u/81/mirandi1/unix/.local/lib/python3.10/site-packages/botorch/models/utils/assorted.py:260: InputDataWarning: Data is not standardized (std = tensor([3.4958], dtype=torch.float64), mean = tensor([3.8065], dtype=torch.float64)). Please consider scaling the input to zero mean and unit variance.\n",
      "  check_standardization(Y=train_Y, raise_on_fail=raise_on_fail)\n"
     ]
    },
    {
     "name": "stdout",
     "output_type": "stream",
     "text": [
      "Exploitation 192/200 - New sample: [3.03609264 6.96026791 0.50933927 0.20495012], Objective value: -2.7098022891698568\n",
      "Exploitation 193/200 - New sample: [4.46448522 5.60168565 0.6325703  0.13007412], Objective value: -1.4780810892001006\n"
     ]
    },
    {
     "name": "stderr",
     "output_type": "stream",
     "text": [
      "/u/81/mirandi1/unix/.local/lib/python3.10/site-packages/botorch/models/utils/assorted.py:257: InputDataWarning: Input data is not contained to the unit cube. Please consider min-max scaling the input data.\n",
      "  check_min_max_scaling(\n",
      "/u/81/mirandi1/unix/.local/lib/python3.10/site-packages/botorch/models/utils/assorted.py:260: InputDataWarning: Data is not standardized (std = tensor([3.4890], dtype=torch.float64), mean = tensor([3.8011], dtype=torch.float64)). Please consider scaling the input to zero mean and unit variance.\n",
      "  check_standardization(Y=train_Y, raise_on_fail=raise_on_fail)\n",
      "/u/81/mirandi1/unix/.local/lib/python3.10/site-packages/botorch/models/utils/assorted.py:257: InputDataWarning: Input data is not contained to the unit cube. Please consider min-max scaling the input data.\n",
      "  check_min_max_scaling(\n",
      "/u/81/mirandi1/unix/.local/lib/python3.10/site-packages/botorch/models/utils/assorted.py:260: InputDataWarning: Data is not standardized (std = tensor([3.5108], dtype=torch.float64), mean = tensor([3.8314], dtype=torch.float64)). Please consider scaling the input to zero mean and unit variance.\n",
      "  check_standardization(Y=train_Y, raise_on_fail=raise_on_fail)\n",
      "/u/81/mirandi1/unix/.local/lib/python3.10/site-packages/botorch/models/utils/assorted.py:257: InputDataWarning: Input data is not contained to the unit cube. Please consider min-max scaling the input data.\n",
      "  check_min_max_scaling(\n",
      "/u/81/mirandi1/unix/.local/lib/python3.10/site-packages/botorch/models/utils/assorted.py:260: InputDataWarning: Data is not standardized (std = tensor([3.5062], dtype=torch.float64), mean = tensor([3.8213], dtype=torch.float64)). Please consider scaling the input to zero mean and unit variance.\n",
      "  check_standardization(Y=train_Y, raise_on_fail=raise_on_fail)\n"
     ]
    },
    {
     "name": "stdout",
     "output_type": "stream",
     "text": [
      "Exploitation 194/200 - New sample: [4.3449506  5.91256307 0.66685031 0.1086957 ], Objective value: 1.9237153622948657\n",
      "Exploitation 195/200 - New sample: [4.24786603 6.09244176 0.66043825 0.24392291], Objective value: -1.9167605534094063\n"
     ]
    },
    {
     "name": "stderr",
     "output_type": "stream",
     "text": [
      "/u/81/mirandi1/unix/.local/lib/python3.10/site-packages/botorch/models/utils/assorted.py:257: InputDataWarning: Input data is not contained to the unit cube. Please consider min-max scaling the input data.\n",
      "  check_min_max_scaling(\n",
      "/u/81/mirandi1/unix/.local/lib/python3.10/site-packages/botorch/models/utils/assorted.py:260: InputDataWarning: Data is not standardized (std = tensor([3.4992], dtype=torch.float64), mean = tensor([3.8166], dtype=torch.float64)). Please consider scaling the input to zero mean and unit variance.\n",
      "  check_standardization(Y=train_Y, raise_on_fail=raise_on_fail)\n",
      "/u/81/mirandi1/unix/.local/lib/python3.10/site-packages/botorch/models/utils/assorted.py:257: InputDataWarning: Input data is not contained to the unit cube. Please consider min-max scaling the input data.\n",
      "  check_min_max_scaling(\n",
      "/u/81/mirandi1/unix/.local/lib/python3.10/site-packages/botorch/models/utils/assorted.py:260: InputDataWarning: Data is not standardized (std = tensor([3.4917], dtype=torch.float64), mean = tensor([3.8144], dtype=torch.float64)). Please consider scaling the input to zero mean and unit variance.\n",
      "  check_standardization(Y=train_Y, raise_on_fail=raise_on_fail)\n"
     ]
    },
    {
     "name": "stdout",
     "output_type": "stream",
     "text": [
      "Exploitation 196/200 - New sample: [4.28198491 6.95413263 0.54427821 0.20838035], Objective value: -1.4119243714467782\n",
      "Exploitation 197/200 - New sample: [4.3074548  6.98382487 0.50758235 0.19028704], Objective value: -1.1737841846204888\n"
     ]
    },
    {
     "name": "stderr",
     "output_type": "stream",
     "text": [
      "/u/81/mirandi1/unix/.local/lib/python3.10/site-packages/botorch/models/utils/assorted.py:257: InputDataWarning: Input data is not contained to the unit cube. Please consider min-max scaling the input data.\n",
      "  check_min_max_scaling(\n",
      "/u/81/mirandi1/unix/.local/lib/python3.10/site-packages/botorch/models/utils/assorted.py:260: InputDataWarning: Data is not standardized (std = tensor([3.4845], dtype=torch.float64), mean = tensor([3.8110], dtype=torch.float64)). Please consider scaling the input to zero mean and unit variance.\n",
      "  check_standardization(Y=train_Y, raise_on_fail=raise_on_fail)\n",
      "/u/81/mirandi1/unix/.local/lib/python3.10/site-packages/botorch/models/utils/assorted.py:257: InputDataWarning: Input data is not contained to the unit cube. Please consider min-max scaling the input data.\n",
      "  check_min_max_scaling(\n",
      "/u/81/mirandi1/unix/.local/lib/python3.10/site-packages/botorch/models/utils/assorted.py:260: InputDataWarning: Data is not standardized (std = tensor([3.4787], dtype=torch.float64), mean = tensor([3.8036], dtype=torch.float64)). Please consider scaling the input to zero mean and unit variance.\n",
      "  check_standardization(Y=train_Y, raise_on_fail=raise_on_fail)\n",
      "/u/81/mirandi1/unix/.local/lib/python3.10/site-packages/botorch/models/utils/assorted.py:257: InputDataWarning: Input data is not contained to the unit cube. Please consider min-max scaling the input data.\n",
      "  check_min_max_scaling(\n",
      "/u/81/mirandi1/unix/.local/lib/python3.10/site-packages/botorch/models/utils/assorted.py:260: InputDataWarning: Data is not standardized (std = tensor([3.4753], dtype=torch.float64), mean = tensor([3.7925], dtype=torch.float64)). Please consider scaling the input to zero mean and unit variance.\n",
      "  check_standardization(Y=train_Y, raise_on_fail=raise_on_fail)\n"
     ]
    },
    {
     "name": "stdout",
     "output_type": "stream",
     "text": [
      "Exploitation 198/200 - New sample: [4.26038532 5.46252226 0.59064731 0.01239825], Objective value: -1.2900168118663025\n",
      "Exploitation 199/200 - New sample: [4.18981538 6.16880659 0.50072558 0.10315467], Objective value: -1.6887065729133541\n",
      "Exploitation 200/200 - New sample: [4.12981882 5.95460969 0.86306551 0.0867547 ], Objective value: -2.0539312403580765\n"
     ]
    }
   ],
   "source": [
    "import time as timer\n",
    "\n",
    "# Exploitation phase using qEI\n",
    "n_exploitation_iter = 200 # Number of iterations\n",
    "new_indices = []  # To keep track of new points added during exploitation\n",
    "objective_values = list(y_samples)  # Track original (not scaled) objective values\n",
    "\n",
    "# Initialize timing variables\n",
    "times_per_iteration = []\n",
    "cumulative_time = 0\n",
    "\n",
    "# Stop condition parameters\n",
    "no_improvement_limit = 100  # Stop if no improvement after 50 iterations\n",
    "no_improvement_counter = 0\n",
    "best_objective_value = float('inf')  # Assuming we're minimizing\n",
    "tolerance = 1e-3  # Minimum improvement required to reset the counter\n",
    "\n",
    "for i in range(n_exploitation_iter):\n",
    "    new_candidates = compute_qei_acquisition_function(model, y_samples_tensor, bounds)\n",
    "    new_sample = new_candidates.detach().cpu().numpy().reshape(-1)\n",
    "    new_sample_y = objective(new_sample)\n",
    "    \n",
    "    # Apply scaling to the new y value\n",
    "    new_sample_y_scaled = scaler.transform(np.array([new_sample_y]).reshape(-1, 1)).flatten()[0]\n",
    "    \n",
    "    # Append the new sample to the samples and objective values (both original and scaled)\n",
    "    new_indices.append(len(y_samples))  # Save the index of the new sample\n",
    "    X_samples = np.vstack([X_samples, new_sample])\n",
    "    y_samples = np.append(y_samples, new_sample_y)  # Original scale objective values\n",
    "    y_samples_scaled = np.append(y_samples_scaled, new_sample_y_scaled)  # Scaled objective values\n",
    "    \n",
    "    # Update tensors\n",
    "    X_samples_tensor = torch.tensor(X_samples, dtype=torch.double)\n",
    "    y_samples_tensor = torch.tensor(y_samples_scaled, dtype=torch.double)\n",
    "\n",
    "    # Append the objective value to the list (original scale)\n",
    "    objective_values.append(new_sample_y)\n",
    "    \n",
    "    # Update the model with the new data\n",
    "    mll, model = initialize_model(X_samples_tensor, y_samples_tensor)\n",
    "    start_time = timer.time()\n",
    "\n",
    "    fit_gpytorch_mll(mll)\n",
    "    \n",
    "    # Record iteration time\n",
    "    iteration_time = timer.time() - start_time\n",
    "    times_per_iteration.append(iteration_time)\n",
    "    cumulative_time += iteration_time\n",
    "    \n",
    "    print(f\"Exploitation {i + 1}/{n_exploitation_iter} - New sample: {new_sample}, Objective value: {new_sample_y}\")\n",
    "    \n",
    "    # Check stop condition based on no improvement with tolerance\n",
    "    improvement = best_objective_value - new_sample_y\n",
    "    if improvement > tolerance:\n",
    "        best_objective_value = new_sample_y\n",
    "        no_improvement_counter = 0\n",
    "    else:\n",
    "        no_improvement_counter += 1\n",
    "\n",
    "    if no_improvement_counter >= no_improvement_limit:\n",
    "        print(f\"Stopping early due to no significant improvement (>{tolerance}) in the last {no_improvement_limit} iterations.\")\n",
    "        break"
   ]
  },
  {
   "cell_type": "markdown",
   "id": "e4f7d9e7-3e21-4ba7-b372-628c85c177d2",
   "metadata": {},
   "source": [
    "## Visualizing Optimization Progress\n",
    "\n",
    "In this section, we plot the negative of the objective function values as a function of the number of iterations. This helps us visually assess the optimization progress and the performance of the Sobol and Expected Improvement (EI) sampling strategies.\n",
    "\n",
    "### Steps Involved in the Plotting Process:\n",
    "\n",
    "1. **Configure the Plot**:\n",
    "   We set the figure size and layout for constrained layout setting for better spacing.\n",
    "   \n",
    "2. **Prepare Data for Plotting**:\n",
    "   - We create an array representing the iterations.\n",
    "   - We negate the objective function values (`neg_objective_values`) because we are minimizing the objective, and lower values represent better performance.\n",
    "\n",
    "3. **Plot the Sobol and EI Samples**:\n",
    "   - Plot the initial Sobol samples in one color (`#89BFA9`), marking them as 'Sobol'.\n",
    "   - Plot the subsequent EI samples in another color (`#60568A`), marking them as 'EI'.\n",
    "\n",
    "4. **Customize Plot Appearance**:\n",
    "   - Set the limits for the x-axis.\n",
    "   - Label the x-axis as the number of iterations (`$n$`).\n",
    "   - Label the y-axis as the log of the Residual Sum of Squares (RSS) weighted by true values (`$\\\\log$ RSS$_{w_{i}}$`).\n",
    "   - Customize the font size of axis labels and tick labels.\n",
    "   - Add a legend to distinguish between Sobol and EI samples.\n",
    "  \n",
    "5. **Display the Plot**:\n",
    "   - Show the plot using `plt.show()`.\n",
    "   \n",
    "6. **Print the Minimum Objective Value**:\n",
    "   - Print the minimum value of the negated objective values to see the best objective value achieved during the optimization process.\n"
   ]
  },
  {
   "cell_type": "code",
   "execution_count": 14,
   "id": "0b1b04c2-0b3c-41d9-8d47-0c04266243f3",
   "metadata": {},
   "outputs": [
    {
     "data": {
      "image/png": "[encoded data removed]",
      "text/plain": [
       "<Figure size 300x275 with 1 Axes>"
      ]
     },
     "metadata": {},
     "output_type": "display_data"
    },
    {
     "name": "stdout",
     "output_type": "stream",
     "text": [
      "The minimum value of the objective function in log10 scale is -1.9237\n",
      "Cumulative time for all iterations: 11.6194 seconds\n"
     ]
    },
    {
     "data": {
      "image/png": "[encoded data removed]",
      "text/plain": [
       "<Figure size 300x275 with 1 Axes>"
      ]
     },
     "metadata": {},
     "output_type": "display_data"
    }
   ],
   "source": [
    "# Plotting the negative of the objective as a function of iterations\n",
    "\n",
    "# Configure the Figure\n",
    "plt.figure(figsize=(3, 2.75), constrained_layout=True)\n",
    "\n",
    "# Prepare Data for Plotting\n",
    "iterations = np.arange(len(objective_values))             # Array of iteration indices\n",
    "neg_objective_values = -np.array(objective_values)        # Convert back to original scale by multiplying by -1\n",
    "\n",
    "# Plot Initial Sobol Samples\n",
    "plt.plot(\n",
    "    iterations[:n_initial_points], \n",
    "    neg_objective_values[:n_initial_points], \n",
    "    'o', \n",
    "    markersize=8, \n",
    "    label='Sobol', \n",
    "    color='#89BFA9'\n",
    ")\n",
    "\n",
    "# Plot EI Samples\n",
    "plt.plot(\n",
    "    iterations[n_initial_points:], \n",
    "    neg_objective_values[n_initial_points:], \n",
    "    'o', \n",
    "    markersize=8, \n",
    "    label='logEI', \n",
    "    color='#60568A'\n",
    ")\n",
    "\n",
    "# Customize Plot Appearance\n",
    "#plt.xlim(0, 21)                                          # Set x-axis limit\n",
    "#plt.ylim(-1, 6)                                        # Uncomment and set y-axis limit if needed\n",
    "plt.xlabel('$n$', fontsize=14)                            # X-axis label\n",
    "plt.ylabel('$\\\\log$ RSS$_{w_{i}}$', fontsize=14)           # Y-axis label\n",
    "plt.xticks(fontsize=14)                                   # X-axis tick label size\n",
    "plt.yticks(fontsize=14)                                   # Y-axis tick label size\n",
    "plt.legend(fontsize=14, loc=\"best\")                       # Display legend\n",
    "\n",
    "# Display the Plot\n",
    "plt.savefig(\"fig_ei_relaxation_fish.pdf\")                    # Uncomment to save the plot\n",
    "plt.show()\n",
    "\n",
    "# Print the Minimum Objective Value\n",
    "print(f\"The minimum value of the objective function in log10 scale is {np.min(neg_objective_values):.4f}\")\n",
    "\n",
    "# Plotting the time per iteration\n",
    "plt.figure(figsize=(3, 2.75))\n",
    "plt.plot(times_per_iteration, 'o', markersize=8, color='#60568A')\n",
    "plt.xlabel('$n$', fontsize=14)                            # X-axis label\n",
    "plt.ylabel('$t$ [s]', fontsize=14)           # Y-axis label\n",
    "plt.xticks(fontsize=14)                                   # X-axis tick label size\n",
    "plt.yticks(fontsize=14)                                   # Y-axis tick label size\n",
    "#plt.legend(fontsize=14, loc=\"best\")                       # Display legend\n",
    "\n",
    "# Printing the cumulative time\n",
    "print(f\"Cumulative time for all iterations: {cumulative_time:.4f} seconds\")"
   ]
  },
  {
   "cell_type": "markdown",
   "id": "1e9cf156-36d1-4701-aed2-d891e73e33cc",
   "metadata": {},
   "source": [
    "## Fitting and Visualizing the Model with Best Parameters from Bayesian Optimization\n",
    "\n",
    "In this section, we:\n",
    "1. Define the fractional model evaluator.\n",
    "2. Extract and print the best parameters obtained from the Bayesian Optimization (BO) phase.\n",
    "3. Fit the model using the best parameters and compute the model values.\n",
    "4. Calculate the Residual Sum of Squares (RSS) for the fitted model.\n",
    "5. Plot the original data, the fitted model from Bayesian Optimization, and the optimized model.\n"
   ]
  },
  {
   "cell_type": "code",
   "execution_count": 15,
   "id": "a7e62b49-80e8-4938-b4e1-78d32bc750cf",
   "metadata": {},
   "outputs": [
    {
     "name": "stdout",
     "output_type": "stream",
     "text": [
      "Best parameters from Bayesian Optimization: G = 22128.43, V = 817641.76, alpha = 0.67, beta = 0.11\n",
      "RSS_w for the Bayesian Optimization model: 0.01192\n"
     ]
    },
    {
     "data": {
      "image/png": "[encoded data removed]",
      "text/plain": [
       "<Figure size 300x275 with 1 Axes>"
      ]
     },
     "metadata": {},
     "output_type": "display_data"
    }
   ],
   "source": [
    "from cycler import cycler  # Import the cycler for customizing plot cycles\n",
    "\n",
    "# Define model evaluator\n",
    "fractional_model_name = \"FractionalMaxwell\"\n",
    "evaluator = RelaxationEvaluator(model=fractional_model_name)\n",
    "\n",
    "# Extract the best parameters from Bayesian Optimization phase\n",
    "best_idx = np.argmax(y_samples)\n",
    "best_params = X_samples[best_idx]\n",
    "logG_best, logV_best, alpha_best, beta_best = best_params\n",
    "G_best_bo = 10 ** logG_best\n",
    "V_best_bo = 10 ** logV_best\n",
    "\n",
    "# Print the best parameters from Bayesian Optimization\n",
    "print(\"Best parameters from Bayesian Optimization: G = {:.2f}, V = {:.2f}, alpha = {:.2f}, beta = {:.2f}\".format(G_best_bo, V_best_bo, alpha_best, beta_best))\n",
    "\n",
    "# Fit the model with the best parameters from Bayesian Optimization\n",
    "best_params_no_scale = G_best_bo, V_best_bo, alpha_best, beta_best\n",
    "bo_model_values = evaluator.compute_model(best_params_no_scale, time, mittag_leffler_type=\"Pade72\")\n",
    "\n",
    "# Compute the RSS for the Bayesian Optimization model\n",
    "rss_bo = np.sum(((y_true - bo_model_values) / y_true) ** 2) \n",
    "print(f\"RSS_w for the Bayesian Optimization model: {rss_bo:.5f}\")\n",
    "\n",
    "# Get the default color cycle\n",
    "colors = plt.rcParams['axes.prop_cycle'].by_key()['color']\n",
    "\n",
    "# Plot the data, the fitted model from Bayesian Optimization, and the final optimized model\n",
    "plt.figure(figsize=(3.0, 2.75), constrained_layout=True)\n",
    "plt.plot(time, G_relax, 'o', markersize=8, color='#89BFA9')\n",
    "plt.plot(time, bo_model_values, '-', color='#60568A', lw=2, label='BO')\n",
    "\n",
    "# Configure the plot\n",
    "plt.xscale('log')\n",
    "plt.yscale('log')\n",
    "plt.xlabel('$t$ [s]', fontsize=14)\n",
    "plt.ylabel(r'$G(t)$ [Pa]', fontsize=14)\n",
    "plt.xticks(fontsize=14)\n",
    "plt.yticks(fontsize=14)\n",
    "plt.legend(fontsize=14)\n",
    "\n",
    "# Display the plot\n",
    "plt.savefig(\"fig_bo_fit_relaxation_data_fish.pdf\")\n",
    "plt.show()"
   ]
  },
  {
   "cell_type": "markdown",
   "id": "e0b39e1f-73a2-4a1f-a8ac-85ead62951ac",
   "metadata": {},
   "source": [
    "## Visualizing Surrogate Model Predictions for Different parameter Values\n",
    "\n",
    "In this section, we:\n",
    "1. Define a function to predict model outputs on a 2D grid of parameters.\n",
    "2. Evaluate the model on a grid for various fixed alpha values.\n",
    "3. Create contour plots for each alpha value showing the predictions of the model.\n",
    "4. Identify and display the global minima for each alpha value."
   ]
  },
  {
   "cell_type": "code",
   "execution_count": 16,
   "id": "75d8f269-6140-4083-b06f-9b84f555ab4d",
   "metadata": {},
   "outputs": [
    {
     "data": {
      "image/png": "[encoded data removed]",
      "text/plain": [
       "<Figure size 900x550 with 7 Axes>"
      ]
     },
     "metadata": {},
     "output_type": "display_data"
    }
   ],
   "source": [
    "import matplotlib.colors as mcolors\n",
    "\n",
    "def predict_model_on_grid_2D(model, param_space, alpha_value, beta_value, resolution=100):\n",
    "    # Create a 2D mesh grid over logG and log_eta\n",
    "    logG_range = torch.linspace(param_space[0, 0], param_space[0, 1], resolution)\n",
    "    logV_range = torch.linspace(param_space[1, 0], param_space[1, 1], resolution)\n",
    "\n",
    "    logG_grid, logV_grid = torch.meshgrid(logG_range, logV_range, indexing=\"ij\")\n",
    "    alpha_grid = torch.full_like(logG_grid, alpha_value) # keep alpha fixed\n",
    "    beta_grid = torch.full_like(logG_grid, beta_value) # keep beta fixed\n",
    "\n",
    "    param_grid = torch.stack([logG_grid.reshape(-1), logV_grid.reshape(-1), alpha_grid.reshape(-1), beta_grid.reshape(-1)], dim=-1)\n",
    "\n",
    "    # Predict using the trained model\n",
    "    with torch.no_grad():\n",
    "        preds_1 = model.posterior(param_grid).mean.numpy().reshape(logG_grid.shape)\n",
    "\n",
    "    return logG_grid, logV_grid, preds_1\n",
    "\n",
    "# Define specific (alpha, beta) pairs to plot.\n",
    "alpha_beta_pairs = [\n",
    "(1.0, 0.1),\n",
    "(0.9, 0.3),\n",
    "(0.8, 0.4),\n",
    "(0.7, 0.4),\n",
    "(0.6, 0.3),\n",
    "(0.6, 0.1)\n",
    "]\n",
    "\n",
    "resolution = 100\n",
    "\n",
    "# Ensure these values are correctly calculated\n",
    "min_val, max_val = (-max(objective_values), -min(objective_values))\n",
    "\n",
    "# Create subplots\n",
    "fig, axes = plt.subplots(2, 3, figsize=(9, 5.5), constrained_layout=True)\n",
    "contours_list = []\n",
    "\n",
    "global_minima = []  # To store global minima parameters\n",
    "\n",
    "for ax, (alpha, beta) in zip(axes.flatten(), alpha_beta_pairs):\n",
    "    logG_grid, logV_grid, preds_obj1 = predict_model_on_grid_2D(model, param_space, alpha, beta, resolution)\n",
    "    \n",
    "    # Convert logG and logV to G and V\n",
    "    G = 10 ** logG_grid.numpy()\n",
    "    V = 10 ** logV_grid.numpy()\n",
    "\n",
    "    # Take negative predictions because of the sign inversion\n",
    "    neg_preds_obj1 = -1 * scaler.inverse_transform(preds_obj1)\n",
    "    \n",
    "    # Find global minima\n",
    "    min_index = np.unravel_index(neg_preds_obj1.argmin(), neg_preds_obj1.shape)\n",
    "    global_min_logG = logG_grid[min_index]\n",
    "    global_min_logV = logV_grid[min_index]\n",
    "    global_min_G = 10**global_min_logG\n",
    "    global_min_V = 10**global_min_logV\n",
    "    global_min_value = neg_preds_obj1[min_index]\n",
    "    global_minima.append((global_min_G.item(), global_min_V.item(), 10**global_min_value))\n",
    "    \n",
    "    # Create the 2D contour plot for Objective 1\n",
    "    contour = ax.contourf(G, V, neg_preds_obj1, levels=100, vmin=min_val, vmax=max_val, cmap='YlGnBu_r')\n",
    "    contours_list.append(contour)\n",
    "    ax.contour(G, V, neg_preds_obj1, levels=10, colors='black', linewidths=0.5)\n",
    "    ax.set_xscale('log')\n",
    "    ax.set_yscale('log')\n",
    "    ax.tick_params(axis='both', which='major', labelsize=14)\n",
    "    ax.set_title(f'$\\\\alpha$ = {alpha}, $\\\\beta$ = {beta}', fontsize=14)\n",
    "\n",
    "# Create a ScalarMappable with the same colormap and normalization\n",
    "norm = mcolors.Normalize(vmin=min_val, vmax=max_val)\n",
    "sm = plt.cm.ScalarMappable(cmap='YlGnBu_r', norm=norm)\n",
    "sm.set_array([])  # Only needed for ScalarMappable\n",
    "\n",
    "# Add a single colorbar for all subplots\n",
    "cbar = fig.colorbar(sm, ax=axes, location='right', aspect=20, pad=0.02, format='%.2f')\n",
    "cbar.set_label('$\\\\log$ RSS$_{w_{i}}$', fontsize=14)\n",
    "cbar.ax.tick_params(labelsize=14)\n",
    "\n",
    "# Add common labels\n",
    "fig.text(0.5, -0.05, '$\\mathbb{G}$ [Pa s$^{\\\\beta}$]', ha='center', va='center', fontsize=14)\n",
    "fig.text(-0.01, 0.5, '$\\mathbb{V}$ [Pa s$^{\\\\alpha}$]', ha='center', va='center', rotation='vertical', fontsize=14)\n",
    "\n",
    "# Save the plot and show\n",
    "plt.savefig(\"fig_obj1_relaxation_fish.pdf\")\n",
    "plt.show()"
   ]
  },
  {
   "cell_type": "code",
   "execution_count": null,
   "id": "0a6e71a8-afcf-4e68-8633-ca6892e58f6f",
   "metadata": {},
   "outputs": [],
   "source": []
  },
  {
   "cell_type": "code",
   "execution_count": null,
   "id": "57d08b85-1f9e-4003-ab01-9d59d2c13c17",
   "metadata": {},
   "outputs": [],
   "source": []
  }
 ],
 "metadata": {
  "kernelspec": {
   "display_name": "Python 3 (ipykernel)",
   "language": "python",
   "name": "python3"
  },
  "language_info": {
   "codemirror_mode": {
    "name": "ipython",
    "version": 3
   },
   "file_extension": ".py",
   "mimetype": "text/x-python",
   "name": "python",
   "nbconvert_exporter": "python",
   "pygments_lexer": "ipython3",
   "version": "3.10.10"
  }
 },
 "nbformat": 4,
 "nbformat_minor": 5
}

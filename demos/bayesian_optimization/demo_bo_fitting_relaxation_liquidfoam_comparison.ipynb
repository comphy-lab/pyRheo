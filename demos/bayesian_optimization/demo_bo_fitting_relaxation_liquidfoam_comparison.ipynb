{
 "cells": [
  {
   "cell_type": "markdown",
   "id": "f86531a5-a2fd-4b3c-8fc0-1f640ba4b316",
   "metadata": {},
   "source": [
    "## Bayesian optimization to infer Fractional Maxwell Liquid fitting parameters for the stress relaxation of shaving foam \n",
    "\n",
    "First, we are importing a variety of essential libraries that will help us with numerical computations, data manipulation, plotting, machine learning, Bayesian optimization, and other specialized tasks.\n",
    "\n",
    "### Libraries:\n",
    "- **NumPy (`numpy`)**: A fundamental package for numerical operations in Python.\n",
    "- **Pandas (`pandas`)**: A powerful data manipulation and analysis library.\n",
    "- **Matplotlib (`matplotlib.pyplot`)**: A plotting library used for creating static, animated, and interactive visualizations.\n",
    "- **SciPy Special Functions (`scipy.special`)**: Specifically importing the gamma function for mathematical computations.\n",
    "- **PyTorch (`torch`)**: A deep learning library for tensor computations and building neural networks.\n",
    "- **BoTorch and GPyTorch**: Libraries for Gaussian Process Regression:\n",
    "  - `SingleTaskGP`: For constructing Gaussian Process models.\n",
    "  - `Standardize`: For standardizing outcomes.\n",
    "  - `ExactMarginalLogLikelihood`: For exact marginal log likelihood calculation.\n",
    "  - `fit_gpytorch_mll`: For fitting GP models.\n",
    "- **Sobol Sequence (`sobol_seq`)**: For generating Sobol sequences for quasi-random sampling.\n",
    "- **BoTorch Acquisition and Optimization**:\n",
    "  - `qExpectedImprovement`: For Monte Carlo-based expected improvement.\n",
    "  - `optimize_acqf`: For optimizing the acquisition function.\n",
    "- **Scikit-Learn Preprocessing (`sklearn.preprocessing`)**: A collection of scalers for feature scaling, including:\n",
    "  - `MinMaxScaler`\n",
    "  - `RobustScaler`\n",
    "  - `StandardScaler`\n",
    "  - `MaxAbsScaler`\n",
    "- **pyRheo (`pyRheo.relaxation_evaluator`)**: A custom library for evaluating relaxation properties.\n",
    "- **SciencePlots (`scienceplots`)**: A library to enhance Matplotlib plots with scientific visual styles.\n",
    "\n",
    "These imports will provide all the necessary tools for the subsequent analysis and model building steps in this notebook.\n"
   ]
  },
  {
   "cell_type": "code",
   "execution_count": 14,
   "id": "500d3598-5ca2-47f5-a48d-92470317db3c",
   "metadata": {},
   "outputs": [],
   "source": [
    "# Import packages\n",
    "import numpy as np\n",
    "import pandas as pd\n",
    "import matplotlib.pyplot as plt\n",
    "from scipy.special import gamma\n",
    "from scipy.optimize import minimize\n",
    "import torch\n",
    "from botorch.models.gp_regression import SingleTaskGP\n",
    "from botorch.models.transforms.outcome import Standardize\n",
    "from gpytorch.mlls.exact_marginal_log_likelihood import ExactMarginalLogLikelihood\n",
    "from botorch.fit import fit_gpytorch_mll\n",
    "import sobol_seq\n",
    "from botorch.acquisition.monte_carlo import qExpectedImprovement\n",
    "from botorch.acquisition.logei import qLogExpectedImprovement, qLogNoisyExpectedImprovement\n",
    "from botorch.optim.optimize import optimize_acqf\n",
    "from sklearn.preprocessing import MinMaxScaler, RobustScaler, StandardScaler, MaxAbsScaler\n",
    "from gpytorch.kernels import RBFKernel, MaternKernel, ScaleKernel, LinearKernel\n",
    "from gpytorch.constraints import Interval\n",
    "from pyRheo.relaxation_evaluator import RelaxationEvaluator\n",
    "import scienceplots\n",
    "plt.style.use(['science', 'nature', 'retro'])"
   ]
  },
  {
   "cell_type": "markdown",
   "id": "8774f387-717c-498e-b58f-6fdd776f721e",
   "metadata": {},
   "source": [
    "## Random Error Generation, Objective Function, Sobol Sampling and Model Initialization\n",
    "\n",
    "In this section, we define various key functions and setup procedures required for our model analysis and optimization:\n",
    "\n"
   ]
  },
  {
   "cell_type": "code",
   "execution_count": 15,
   "id": "b0965faf-e14f-4ad6-be86-382080f09dfe",
   "metadata": {},
   "outputs": [],
   "source": [
    "# Error function to add to the fractional rheology model\n",
    "def createRandomError(n, std):\n",
    "    return np.random.normal(loc=1, scale=std, size=n)\n",
    "\n",
    "# Objective function to minimize (RRS weighted by true values)\n",
    "def objective(params):\n",
    "    logG, logeta, beta = params\n",
    "    G = 10 ** logG\n",
    "    eta = 10 ** logeta\n",
    "    params_no_scale = G, eta, beta\n",
    "    model = \"FractionalMaxwellLiquid\"\n",
    "    evaluator = RelaxationEvaluator(model=model)\n",
    "    # Compute relaxation\n",
    "    model_values = evaluator.compute_model(params_no_scale, time, mittag_leffler_type=\"Pade72\") \n",
    "    # Add noise\n",
    "    error = createRandomError(time.shape[0], 0.02)\n",
    "    model_values_noisy = np.multiply(model_values, error)\n",
    "    # Define objective functions\n",
    "    obj1 = np.sum(((y_true - model_values_noisy) / y_true) ** 2)\n",
    "    return -np.log10(obj1) # we take the negative because the EI by default maximizes and we are looking to minimize\n",
    "    \n",
    "# Function to create Sobol samples\n",
    "def sobol_sample(space, n_samples, seed=None):\n",
    "    if seed is not None:\n",
    "        np.random.seed(seed)\n",
    "    sobol_samples = sobol_seq.i4_sobol_generate(len(space), n_samples)\n",
    "    sobol_scaled = sobol_samples * (space[:, 1] - space[:, 0]) + space[:, 0]\n",
    "    return np.array(sobol_scaled)\n",
    "\n",
    "# Initialize model function for single-objective problem\n",
    "def initialize_model(train_x, train_obj):\n",
    "    train_obj = train_obj.unsqueeze(-1)  # Add dimension for single task GP\n",
    "    model = SingleTaskGP(train_x, train_obj, \n",
    "                         covar_module=MaternKernel(nu=1.5,\n",
    "                                                   #ard_num_dims=4,\n",
    "                                                   lengthscale_constraint=Interval(0.001, 100)), \n",
    "                         outcome_transform=None)\n",
    "    mll = ExactMarginalLogLikelihood(model.likelihood, model)\n",
    "    return mll, model\n",
    "\n",
    "# Compute the qEI acquisition function to find new candidate points that maximize the objective\n",
    "def compute_qei_acquisition_function(model, train_x, bounds):\n",
    "    acq_func = qLogExpectedImprovement(\n",
    "        model=model,\n",
    "        best_f=train_x.max(),\n",
    "    )\n",
    "    candidates, _ = optimize_acqf(\n",
    "        acq_function=acq_func,\n",
    "        bounds=bounds,\n",
    "        q=1,  # Number of candidates to generate in a batch\n",
    "        num_restarts=5,\n",
    "        raw_samples=50,\n",
    "        options={\"batch_limit\": 5, \"maxiter\": 50},\n",
    "    )\n",
    "    return candidates\n",
    "\n",
    "# Compute the qEI acquisition function to find new candidate points that maximize the objective\n",
    "def compute_noisy_qei_acquisition_function(model, train_x, bounds):\n",
    "    acq_func = qLogExpectedImprovement(\n",
    "        model=model,\n",
    "        best_f=train_x.max(),\n",
    "    )\n",
    "    candidates, _ = optimize_acqf(\n",
    "        acq_function=acq_func,\n",
    "        bounds=bounds,\n",
    "        q=1,  # Number of candidates to generate in a batch\n",
    "        num_restarts=5,\n",
    "        raw_samples=50,\n",
    "        options={\"batch_limit\": 5, \"maxiter\": 50},\n",
    "    )\n",
    "    return candidates"
   ]
  },
  {
   "cell_type": "markdown",
   "id": "25fad4a0-9f7f-48f7-8469-851b60ab5b60",
   "metadata": {},
   "source": [
    "## Loading Rheological Data and Defining Search Space\n",
    "\n",
    "In this section, we load the rheological data from a CSV file and define the search space bounds for our parameter optimization."
   ]
  },
  {
   "cell_type": "code",
   "execution_count": 16,
   "id": "f9e8ad61-5b92-4736-b5e9-f9fd6d428801",
   "metadata": {},
   "outputs": [],
   "source": [
    "# Load rheological data\n",
    "data = pd.read_csv('./data/shaving_foam/stressrelaxation_liquidfoam_data.csv', delimiter='\\t', decimal=\".\")\n",
    "time = data['Time'].values\n",
    "y_true = data['Relaxation Modulus'].values\n",
    "\n",
    "# Define search space bounds\n",
    "param_space = np.array([\n",
    "    [1, 3],  # log10 scale for G\n",
    "    [4, 6],  # log10 scale for V\n",
    "    [0.001, 0.5]   # real scale for beta\n",
    "])"
   ]
  },
  {
   "cell_type": "markdown",
   "id": "66be9fd5-5d49-4185-960c-4aaebb615318",
   "metadata": {},
   "source": [
    "## Exploration Phase: Initial Sampling, Scaling, and Model Initialization\n",
    "\n",
    "In this section, we conduct the initial exploration phase of our optimization process.\n"
   ]
  },
  {
   "cell_type": "code",
   "execution_count": 17,
   "id": "0ff673ff-b425-41ff-9442-8f37b022e274",
   "metadata": {},
   "outputs": [
    {
     "name": "stderr",
     "output_type": "stream",
     "text": [
      "/u/81/mirandi1/unix/.local/lib/python3.10/site-packages/botorch/models/utils/assorted.py:257: InputDataWarning: Input data is not contained to the unit cube. Please consider min-max scaling the input data.\n",
      "  check_min_max_scaling(\n",
      "/u/81/mirandi1/unix/.local/lib/python3.10/site-packages/botorch/models/utils/assorted.py:260: InputDataWarning: Data is not standardized (std = tensor([1.0690], dtype=torch.float64), mean = tensor([2.3592e-16], dtype=torch.float64)). Please consider scaling the input to zero mean and unit variance.\n",
      "  check_standardization(Y=train_Y, raise_on_fail=raise_on_fail)\n"
     ]
    },
    {
     "data": {
      "text/plain": [
       "ExactMarginalLogLikelihood(\n",
       "  (likelihood): GaussianLikelihood(\n",
       "    (noise_covar): HomoskedasticNoise(\n",
       "      (noise_prior): GammaPrior()\n",
       "      (raw_noise_constraint): GreaterThan(1.000E-04)\n",
       "    )\n",
       "  )\n",
       "  (model): SingleTaskGP(\n",
       "    (likelihood): GaussianLikelihood(\n",
       "      (noise_covar): HomoskedasticNoise(\n",
       "        (noise_prior): GammaPrior()\n",
       "        (raw_noise_constraint): GreaterThan(1.000E-04)\n",
       "      )\n",
       "    )\n",
       "    (mean_module): ConstantMean()\n",
       "    (covar_module): MaternKernel(\n",
       "      (raw_lengthscale_constraint): Interval(1.000E-03, 1.000E+02)\n",
       "    )\n",
       "  )\n",
       ")"
      ]
     },
     "execution_count": 17,
     "metadata": {},
     "output_type": "execute_result"
    }
   ],
   "source": [
    "# Set random seed\n",
    "seed = 42\n",
    "\n",
    "# Initial sampling using Sobol sequence\n",
    "n_initial_points = 8\n",
    "X_samples = sobol_sample(param_space, n_initial_points, seed=seed)\n",
    "y_samples = np.array([objective(x) for x in X_samples])\n",
    "\n",
    "# Apply MaxAbs scaling to the target values\n",
    "scaler = StandardScaler()\n",
    "y_samples_scaled = scaler.fit_transform(y_samples.reshape(-1, 1)).flatten()\n",
    "\n",
    "# Convert to tensors for BoTorch\n",
    "X_samples_tensor = torch.tensor(X_samples, dtype=torch.double)\n",
    "y_samples_tensor = torch.tensor(y_samples_scaled, dtype=torch.double)\n",
    "\n",
    "# Compute bounds for optimization\n",
    "bounds = torch.stack([\n",
    "    torch.tensor(param_space[:, 0], dtype=torch.double),\n",
    "    torch.tensor(param_space[:, 1], dtype=torch.double)\n",
    "])\n",
    "\n",
    "# Initialize and fit the GP model\n",
    "mll, model = initialize_model(X_samples_tensor, y_samples_tensor)\n",
    "fit_gpytorch_mll(mll)"
   ]
  },
  {
   "cell_type": "markdown",
   "id": "8d33474a-d014-4c30-9728-192667b05cac",
   "metadata": {},
   "source": [
    "## Exploitation Phase: Iterative Sampling and Model Updating\n",
    "\n",
    "In this section, we perform the exploitation phase of our optimization process. We iteratively generate new samples using the q-Expected Improvement (qEI) acquisition function, evaluate the objective function at these new sample points, and update our model accordingly.\n",
    "\n",
    "### Iterative Exploitation Process\n",
    "\n",
    "For each iteration in the exploitation phase:\n",
    "1. **Generate New Candidates**: We compute new candidate points using the qEI acquisition function.\n",
    "2. **Evaluate Objective**: The objective function is evaluated at the new candidate points.\n",
    "3. **Apply Scaling**: The new objective values are scaled using the previously defined MaxAbsScaler.\n",
    "4. **Update Samples and Objectives**: The new sample and corresponding objective values (both original and scaled) are appended to the existing lists of samples and objective values. We also save the index of the new sample for tracking purposes.\n",
    "5. **Update Tensors**: The updated samples and objective values are converted to tensors.\n",
    "6. **Model Update**: The GP model is re-initialized and fitted using the updated data.\n",
    "7. **Logging**: The iteration details, including the new sample and objective value, are printed.\n"
   ]
  },
  {
   "cell_type": "code",
   "execution_count": 18,
   "id": "2d521b90-f230-4820-acf7-5f747e3c2a98",
   "metadata": {},
   "outputs": [
    {
     "name": "stderr",
     "output_type": "stream",
     "text": [
      "/u/81/mirandi1/unix/.local/lib/python3.10/site-packages/botorch/models/utils/assorted.py:257: InputDataWarning: Input data is not contained to the unit cube. Please consider min-max scaling the input data.\n",
      "  check_min_max_scaling(\n",
      "/u/81/mirandi1/unix/.local/lib/python3.10/site-packages/botorch/models/utils/assorted.py:260: InputDataWarning: Data is not standardized (std = tensor([1.0406], dtype=torch.float64), mean = tensor([0.0960], dtype=torch.float64)). Please consider scaling the input to zero mean and unit variance.\n",
      "  check_standardization(Y=train_Y, raise_on_fail=raise_on_fail)\n",
      "/u/81/mirandi1/unix/.local/lib/python3.10/site-packages/botorch/models/utils/assorted.py:257: InputDataWarning: Input data is not contained to the unit cube. Please consider min-max scaling the input data.\n",
      "  check_min_max_scaling(\n",
      "/u/81/mirandi1/unix/.local/lib/python3.10/site-packages/botorch/models/utils/assorted.py:260: InputDataWarning: Data is not standardized (std = tensor([0.9815], dtype=torch.float64), mean = tensor([0.0878], dtype=torch.float64)). Please consider scaling the input to zero mean and unit variance.\n",
      "  check_standardization(Y=train_Y, raise_on_fail=raise_on_fail)\n"
     ]
    },
    {
     "name": "stdout",
     "output_type": "stream",
     "text": [
      "Exploitation 1/200 - New sample: [2.18648097e+00 4.62634431e+00 1.00000000e-03], Objective value: -2.5157351958699703\n",
      "Exploitation 2/200 - New sample: [2.47923097e+00 4.48392313e+00 1.00000000e-03], Objective value: -3.1606057073152045\n"
     ]
    },
    {
     "name": "stderr",
     "output_type": "stream",
     "text": [
      "/u/81/mirandi1/unix/.local/lib/python3.10/site-packages/botorch/models/utils/assorted.py:257: InputDataWarning: Input data is not contained to the unit cube. Please consider min-max scaling the input data.\n",
      "  check_min_max_scaling(\n",
      "/u/81/mirandi1/unix/.local/lib/python3.10/site-packages/botorch/models/utils/assorted.py:260: InputDataWarning: Data is not standardized (std = tensor([0.9352], dtype=torch.float64), mean = tensor([0.1142], dtype=torch.float64)). Please consider scaling the input to zero mean and unit variance.\n",
      "  check_standardization(Y=train_Y, raise_on_fail=raise_on_fail)\n",
      "/u/81/mirandi1/unix/.local/lib/python3.10/site-packages/botorch/models/utils/assorted.py:257: InputDataWarning: Input data is not contained to the unit cube. Please consider min-max scaling the input data.\n",
      "  check_min_max_scaling(\n",
      "/u/81/mirandi1/unix/.local/lib/python3.10/site-packages/botorch/models/utils/assorted.py:260: InputDataWarning: Data is not standardized (std = tensor([0.9177], dtype=torch.float64), mean = tensor([0.1768], dtype=torch.float64)). Please consider scaling the input to zero mean and unit variance.\n",
      "  check_standardization(Y=train_Y, raise_on_fail=raise_on_fail)\n"
     ]
    },
    {
     "name": "stdout",
     "output_type": "stream",
     "text": [
      "Exploitation 3/200 - New sample: [2.17009463 4.57808946 0.36126748], Objective value: -2.884200076739092\n",
      "Exploitation 4/200 - New sample: [1.93109128e+00 4.74587053e+00 1.00000000e-03], Objective value: -2.5139959152568747\n"
     ]
    },
    {
     "name": "stderr",
     "output_type": "stream",
     "text": [
      "/u/81/mirandi1/unix/.local/lib/python3.10/site-packages/botorch/models/utils/assorted.py:257: InputDataWarning: Input data is not contained to the unit cube. Please consider min-max scaling the input data.\n",
      "  check_min_max_scaling(\n",
      "/u/81/mirandi1/unix/.local/lib/python3.10/site-packages/botorch/models/utils/assorted.py:260: InputDataWarning: Data is not standardized (std = tensor([0.8787], dtype=torch.float64), mean = tensor([0.1748], dtype=torch.float64)). Please consider scaling the input to zero mean and unit variance.\n",
      "  check_standardization(Y=train_Y, raise_on_fail=raise_on_fail)\n",
      "/u/81/mirandi1/unix/.local/lib/python3.10/site-packages/botorch/models/utils/assorted.py:257: InputDataWarning: Input data is not contained to the unit cube. Please consider min-max scaling the input data.\n",
      "  check_min_max_scaling(\n",
      "/u/81/mirandi1/unix/.local/lib/python3.10/site-packages/botorch/models/utils/assorted.py:260: InputDataWarning: Data is not standardized (std = tensor([0.8501], dtype=torch.float64), mean = tensor([0.1480], dtype=torch.float64)). Please consider scaling the input to zero mean and unit variance.\n",
      "  check_standardization(Y=train_Y, raise_on_fail=raise_on_fail)\n"
     ]
    },
    {
     "name": "stdout",
     "output_type": "stream",
     "text": [
      "Exploitation 5/200 - New sample: [2.64052818 4.         0.5       ], Objective value: -3.0569332852187974\n",
      "Exploitation 6/200 - New sample: [1.79170906e+00 4.99572099e+00 1.00000000e-03], Objective value: -3.322761728226173\n"
     ]
    },
    {
     "name": "stderr",
     "output_type": "stream",
     "text": [
      "/u/81/mirandi1/unix/.local/lib/python3.10/site-packages/botorch/models/utils/assorted.py:257: InputDataWarning: Input data is not contained to the unit cube. Please consider min-max scaling the input data.\n",
      "  check_min_max_scaling(\n",
      "/u/81/mirandi1/unix/.local/lib/python3.10/site-packages/botorch/models/utils/assorted.py:260: InputDataWarning: Data is not standardized (std = tensor([0.8196], dtype=torch.float64), mean = tensor([0.1546], dtype=torch.float64)). Please consider scaling the input to zero mean and unit variance.\n",
      "  check_standardization(Y=train_Y, raise_on_fail=raise_on_fail)\n",
      "/u/81/mirandi1/unix/.local/lib/python3.10/site-packages/botorch/models/utils/assorted.py:257: InputDataWarning: Input data is not contained to the unit cube. Please consider min-max scaling the input data.\n",
      "  check_min_max_scaling(\n",
      "/u/81/mirandi1/unix/.local/lib/python3.10/site-packages/botorch/models/utils/assorted.py:260: InputDataWarning: Data is not standardized (std = tensor([0.7937], dtype=torch.float64), mean = tensor([0.1410], dtype=torch.float64)). Please consider scaling the input to zero mean and unit variance.\n",
      "  check_standardization(Y=train_Y, raise_on_fail=raise_on_fail)\n"
     ]
    },
    {
     "name": "stdout",
     "output_type": "stream",
     "text": [
      "Exploitation 7/200 - New sample: [1.77412243e+00 4.00000000e+00 1.00000000e-03], Objective value: -2.983891286321686\n",
      "Exploitation 8/200 - New sample: [1.  4.  0.5], Objective value: -3.218778844000144\n"
     ]
    },
    {
     "name": "stderr",
     "output_type": "stream",
     "text": [
      "/u/81/mirandi1/unix/.local/lib/python3.10/site-packages/botorch/models/utils/assorted.py:257: InputDataWarning: Input data is not contained to the unit cube. Please consider min-max scaling the input data.\n",
      "  check_min_max_scaling(\n",
      "/u/81/mirandi1/unix/.local/lib/python3.10/site-packages/botorch/models/utils/assorted.py:260: InputDataWarning: Data is not standardized (std = tensor([0.8031], dtype=torch.float64), mean = tensor([0.1976], dtype=torch.float64)). Please consider scaling the input to zero mean and unit variance.\n",
      "  check_standardization(Y=train_Y, raise_on_fail=raise_on_fail)\n",
      "/u/81/mirandi1/unix/.local/lib/python3.10/site-packages/botorch/models/utils/assorted.py:257: InputDataWarning: Input data is not contained to the unit cube. Please consider min-max scaling the input data.\n",
      "  check_min_max_scaling(\n",
      "/u/81/mirandi1/unix/.local/lib/python3.10/site-packages/botorch/models/utils/assorted.py:260: InputDataWarning: Data is not standardized (std = tensor([0.7794], dtype=torch.float64), mean = tensor([0.2017], dtype=torch.float64)). Please consider scaling the input to zero mean and unit variance.\n",
      "  check_standardization(Y=train_Y, raise_on_fail=raise_on_fail)\n"
     ]
    },
    {
     "name": "stdout",
     "output_type": "stream",
     "text": [
      "Exploitation 9/200 - New sample: [1.97738003e+00 4.46093675e+00 1.00000000e-03], Objective value: -2.3340818489120525\n",
      "Exploitation 10/200 - New sample: [1.e+00 6.e+00 1.e-03], Objective value: -2.9649002257069053\n"
     ]
    },
    {
     "name": "stderr",
     "output_type": "stream",
     "text": [
      "/u/81/mirandi1/unix/.local/lib/python3.10/site-packages/botorch/models/utils/assorted.py:257: InputDataWarning: Input data is not contained to the unit cube. Please consider min-max scaling the input data.\n",
      "  check_min_max_scaling(\n",
      "/u/81/mirandi1/unix/.local/lib/python3.10/site-packages/botorch/models/utils/assorted.py:260: InputDataWarning: Data is not standardized (std = tensor([0.7840], dtype=torch.float64), mean = tensor([0.2482], dtype=torch.float64)). Please consider scaling the input to zero mean and unit variance.\n",
      "  check_standardization(Y=train_Y, raise_on_fail=raise_on_fail)\n",
      "/u/81/mirandi1/unix/.local/lib/python3.10/site-packages/botorch/models/utils/assorted.py:257: InputDataWarning: Input data is not contained to the unit cube. Please consider min-max scaling the input data.\n",
      "  check_min_max_scaling(\n",
      "/u/81/mirandi1/unix/.local/lib/python3.10/site-packages/botorch/models/utils/assorted.py:260: InputDataWarning: Data is not standardized (std = tensor([0.7658], dtype=torch.float64), mean = tensor([0.2336], dtype=torch.float64)). Please consider scaling the input to zero mean and unit variance.\n",
      "  check_standardization(Y=train_Y, raise_on_fail=raise_on_fail)\n"
     ]
    },
    {
     "name": "stdout",
     "output_type": "stream",
     "text": [
      "Exploitation 11/200 - New sample: [1.93772430e+00 4.44225858e+00 1.00000000e-03], Objective value: -2.348660361802565\n",
      "Exploitation 12/200 - New sample: [1.39946616 6.         0.5       ], Objective value: -3.2033434837556602\n"
     ]
    },
    {
     "name": "stderr",
     "output_type": "stream",
     "text": [
      "/u/81/mirandi1/unix/.local/lib/python3.10/site-packages/botorch/models/utils/assorted.py:257: InputDataWarning: Input data is not contained to the unit cube. Please consider min-max scaling the input data.\n",
      "  check_min_max_scaling(\n",
      "/u/81/mirandi1/unix/.local/lib/python3.10/site-packages/botorch/models/utils/assorted.py:260: InputDataWarning: Data is not standardized (std = tensor([0.8216], dtype=torch.float64), mean = tensor([0.3085], dtype=torch.float64)). Please consider scaling the input to zero mean and unit variance.\n",
      "  check_standardization(Y=train_Y, raise_on_fail=raise_on_fail)\n",
      "/u/81/mirandi1/unix/.local/lib/python3.10/site-packages/botorch/models/utils/assorted.py:257: InputDataWarning: Input data is not contained to the unit cube. Please consider min-max scaling the input data.\n",
      "  check_min_max_scaling(\n",
      "/u/81/mirandi1/unix/.local/lib/python3.10/site-packages/botorch/models/utils/assorted.py:260: InputDataWarning: Data is not standardized (std = tensor([0.8139], dtype=torch.float64), mean = tensor([0.2788], dtype=torch.float64)). Please consider scaling the input to zero mean and unit variance.\n",
      "  check_standardization(Y=train_Y, raise_on_fail=raise_on_fail)\n"
     ]
    },
    {
     "name": "stdout",
     "output_type": "stream",
     "text": [
      "Exploitation 13/200 - New sample: [1.97964311e+00 4.57028359e+00 1.00000000e-03], Objective value: -1.800336947012744\n",
      "Exploitation 14/200 - New sample: [3.e+00 4.e+00 1.e-03], Objective value: -3.4331822838846566\n"
     ]
    },
    {
     "name": "stderr",
     "output_type": "stream",
     "text": [
      "/u/81/mirandi1/unix/.local/lib/python3.10/site-packages/botorch/models/utils/assorted.py:257: InputDataWarning: Input data is not contained to the unit cube. Please consider min-max scaling the input data.\n",
      "  check_min_max_scaling(\n",
      "/u/81/mirandi1/unix/.local/lib/python3.10/site-packages/botorch/models/utils/assorted.py:260: InputDataWarning: Data is not standardized (std = tensor([0.7972], dtype=torch.float64), mean = tensor([0.2669], dtype=torch.float64)). Please consider scaling the input to zero mean and unit variance.\n",
      "  check_standardization(Y=train_Y, raise_on_fail=raise_on_fail)\n",
      "/u/81/mirandi1/unix/.local/lib/python3.10/site-packages/botorch/models/utils/assorted.py:257: InputDataWarning: Input data is not contained to the unit cube. Please consider min-max scaling the input data.\n",
      "  check_min_max_scaling(\n",
      "/u/81/mirandi1/unix/.local/lib/python3.10/site-packages/botorch/models/utils/assorted.py:260: InputDataWarning: Data is not standardized (std = tensor([0.7797], dtype=torch.float64), mean = tensor([0.2671], dtype=torch.float64)). Please consider scaling the input to zero mean and unit variance.\n",
      "  check_standardization(Y=train_Y, raise_on_fail=raise_on_fail)\n"
     ]
    },
    {
     "name": "stdout",
     "output_type": "stream",
     "text": [
      "Exploitation 15/200 - New sample: [1.87064665 4.         0.5       ], Objective value: -3.167738290735212\n",
      "Exploitation 16/200 - New sample: [1.00000000e+00 5.24440834e+00 1.00000000e-03], Objective value: -2.964934182689613\n"
     ]
    },
    {
     "name": "stderr",
     "output_type": "stream",
     "text": [
      "/u/81/mirandi1/unix/.local/lib/python3.10/site-packages/botorch/models/utils/assorted.py:257: InputDataWarning: Input data is not contained to the unit cube. Please consider min-max scaling the input data.\n",
      "  check_min_max_scaling(\n",
      "/u/81/mirandi1/unix/.local/lib/python3.10/site-packages/botorch/models/utils/assorted.py:260: InputDataWarning: Data is not standardized (std = tensor([0.7636], dtype=torch.float64), mean = tensor([0.2627], dtype=torch.float64)). Please consider scaling the input to zero mean and unit variance.\n",
      "  check_standardization(Y=train_Y, raise_on_fail=raise_on_fail)\n",
      "/u/81/mirandi1/unix/.local/lib/python3.10/site-packages/botorch/models/utils/assorted.py:257: InputDataWarning: Input data is not contained to the unit cube. Please consider min-max scaling the input data.\n",
      "  check_min_max_scaling(\n",
      "/u/81/mirandi1/unix/.local/lib/python3.10/site-packages/botorch/models/utils/assorted.py:260: InputDataWarning: Data is not standardized (std = tensor([0.7863], dtype=torch.float64), mean = tensor([0.3102], dtype=torch.float64)). Please consider scaling the input to zero mean and unit variance.\n",
      "  check_standardization(Y=train_Y, raise_on_fail=raise_on_fail)\n"
     ]
    },
    {
     "name": "stdout",
     "output_type": "stream",
     "text": [
      "Exploitation 17/200 - New sample: [1.e+00 4.e+00 1.e-03], Objective value: -3.0504425765307435\n",
      "Exploitation 18/200 - New sample: [1.96754049e+00 4.52246250e+00 1.00000000e-03], Objective value: -2.036057575641923\n"
     ]
    },
    {
     "name": "stderr",
     "output_type": "stream",
     "text": [
      "/u/81/mirandi1/unix/.local/lib/python3.10/site-packages/botorch/models/utils/assorted.py:257: InputDataWarning: Input data is not contained to the unit cube. Please consider min-max scaling the input data.\n",
      "  check_min_max_scaling(\n",
      "/u/81/mirandi1/unix/.local/lib/python3.10/site-packages/botorch/models/utils/assorted.py:260: InputDataWarning: Data is not standardized (std = tensor([0.8130], dtype=torch.float64), mean = tensor([0.3598], dtype=torch.float64)). Please consider scaling the input to zero mean and unit variance.\n",
      "  check_standardization(Y=train_Y, raise_on_fail=raise_on_fail)\n",
      "/u/81/mirandi1/unix/.local/lib/python3.10/site-packages/botorch/models/utils/assorted.py:257: InputDataWarning: Input data is not contained to the unit cube. Please consider min-max scaling the input data.\n",
      "  check_min_max_scaling(\n",
      "/u/81/mirandi1/unix/.local/lib/python3.10/site-packages/botorch/models/utils/assorted.py:260: InputDataWarning: Data is not standardized (std = tensor([0.7992], dtype=torch.float64), mean = tensor([0.3689], dtype=torch.float64)). Please consider scaling the input to zero mean and unit variance.\n",
      "  check_standardization(Y=train_Y, raise_on_fail=raise_on_fail)\n"
     ]
    },
    {
     "name": "stdout",
     "output_type": "stream",
     "text": [
      "Exploitation 19/200 - New sample: [1.96667724e+00 4.54248522e+00 1.00000000e-03], Objective value: -1.9200453641483386\n",
      "Exploitation 20/200 - New sample: [2.98084979 4.61083311 0.5       ], Objective value: -2.7037864230530753\n"
     ]
    },
    {
     "name": "stderr",
     "output_type": "stream",
     "text": [
      "/u/81/mirandi1/unix/.local/lib/python3.10/site-packages/botorch/models/utils/assorted.py:257: InputDataWarning: Input data is not contained to the unit cube. Please consider min-max scaling the input data.\n",
      "  check_min_max_scaling(\n",
      "/u/81/mirandi1/unix/.local/lib/python3.10/site-packages/botorch/models/utils/assorted.py:260: InputDataWarning: Data is not standardized (std = tensor([0.8409], dtype=torch.float64), mean = tensor([0.4250], dtype=torch.float64)). Please consider scaling the input to zero mean and unit variance.\n",
      "  check_standardization(Y=train_Y, raise_on_fail=raise_on_fail)\n",
      "/u/81/mirandi1/unix/.local/lib/python3.10/site-packages/botorch/models/utils/assorted.py:257: InputDataWarning: Input data is not contained to the unit cube. Please consider min-max scaling the input data.\n",
      "  check_min_max_scaling(\n",
      "/u/81/mirandi1/unix/.local/lib/python3.10/site-packages/botorch/models/utils/assorted.py:260: InputDataWarning: Data is not standardized (std = tensor([0.8262], dtype=torch.float64), mean = tensor([0.4251], dtype=torch.float64)). Please consider scaling the input to zero mean and unit variance.\n",
      "  check_standardization(Y=train_Y, raise_on_fail=raise_on_fail)\n"
     ]
    },
    {
     "name": "stdout",
     "output_type": "stream",
     "text": [
      "Exploitation 21/200 - New sample: [1.97413149e+00 4.59942608e+00 1.00000000e-03], Objective value: -1.6581799136447395\n",
      "Exploitation 22/200 - New sample: [2.5833608  4.89653116 0.5       ], Objective value: -2.846894616147683\n"
     ]
    },
    {
     "name": "stderr",
     "output_type": "stream",
     "text": [
      "/u/81/mirandi1/unix/.local/lib/python3.10/site-packages/botorch/models/utils/assorted.py:257: InputDataWarning: Input data is not contained to the unit cube. Please consider min-max scaling the input data.\n",
      "  check_min_max_scaling(\n",
      "/u/81/mirandi1/unix/.local/lib/python3.10/site-packages/botorch/models/utils/assorted.py:260: InputDataWarning: Data is not standardized (std = tensor([0.8153], dtype=torch.float64), mean = tensor([0.4127], dtype=torch.float64)). Please consider scaling the input to zero mean and unit variance.\n",
      "  check_standardization(Y=train_Y, raise_on_fail=raise_on_fail)\n",
      "/u/81/mirandi1/unix/.local/lib/python3.10/site-packages/botorch/models/utils/assorted.py:257: InputDataWarning: Input data is not contained to the unit cube. Please consider min-max scaling the input data.\n",
      "  check_min_max_scaling(\n",
      "/u/81/mirandi1/unix/.local/lib/python3.10/site-packages/botorch/models/utils/assorted.py:260: InputDataWarning: Data is not standardized (std = tensor([0.8429], dtype=torch.float64), mean = tensor([0.4585], dtype=torch.float64)). Please consider scaling the input to zero mean and unit variance.\n",
      "  check_standardization(Y=train_Y, raise_on_fail=raise_on_fail)\n"
     ]
    },
    {
     "name": "stdout",
     "output_type": "stream",
     "text": [
      "Exploitation 23/200 - New sample: [1.94202188 5.35919333 0.5       ], Objective value: -3.13943004015607\n",
      "Exploitation 24/200 - New sample: [1.96058696 4.61265617 0.04232487], Objective value: -1.745621848873742\n",
      "Exploitation 25/200 - New sample: [1.62511726e+00 6.00000000e+00 1.00000000e-03], Objective value: -3.6172821789278196\n"
     ]
    },
    {
     "name": "stderr",
     "output_type": "stream",
     "text": [
      "/u/81/mirandi1/unix/.local/lib/python3.10/site-packages/botorch/models/utils/assorted.py:257: InputDataWarning: Input data is not contained to the unit cube. Please consider min-max scaling the input data.\n",
      "  check_min_max_scaling(\n",
      "/u/81/mirandi1/unix/.local/lib/python3.10/site-packages/botorch/models/utils/assorted.py:260: InputDataWarning: Data is not standardized (std = tensor([0.8494], dtype=torch.float64), mean = tensor([0.4268], dtype=torch.float64)). Please consider scaling the input to zero mean and unit variance.\n",
      "  check_standardization(Y=train_Y, raise_on_fail=raise_on_fail)\n",
      "/u/81/mirandi1/unix/.local/lib/python3.10/site-packages/botorch/models/utils/assorted.py:257: InputDataWarning: Input data is not contained to the unit cube. Please consider min-max scaling the input data.\n",
      "  check_min_max_scaling(\n",
      "/u/81/mirandi1/unix/.local/lib/python3.10/site-packages/botorch/models/utils/assorted.py:260: InputDataWarning: Data is not standardized (std = tensor([0.8666], dtype=torch.float64), mean = tensor([0.3879], dtype=torch.float64)). Please consider scaling the input to zero mean and unit variance.\n",
      "  check_standardization(Y=train_Y, raise_on_fail=raise_on_fail)\n"
     ]
    },
    {
     "name": "stdout",
     "output_type": "stream",
     "text": [
      "Exploitation 26/200 - New sample: [3.         4.78030963 0.0927253 ], Objective value: -3.850042937188413\n"
     ]
    },
    {
     "name": "stderr",
     "output_type": "stream",
     "text": [
      "/u/81/mirandi1/unix/.local/lib/python3.10/site-packages/botorch/models/utils/assorted.py:257: InputDataWarning: Input data is not contained to the unit cube. Please consider min-max scaling the input data.\n",
      "  check_min_max_scaling(\n",
      "/u/81/mirandi1/unix/.local/lib/python3.10/site-packages/botorch/models/utils/assorted.py:260: InputDataWarning: Data is not standardized (std = tensor([0.8685], dtype=torch.float64), mean = tensor([0.4149], dtype=torch.float64)). Please consider scaling the input to zero mean and unit variance.\n",
      "  check_standardization(Y=train_Y, raise_on_fail=raise_on_fail)\n"
     ]
    },
    {
     "name": "stdout",
     "output_type": "stream",
     "text": [
      "Exploitation 27/200 - New sample: [1.9816852  4.59389715 0.10434421], Objective value: -2.1607873755190674\n"
     ]
    },
    {
     "name": "stderr",
     "output_type": "stream",
     "text": [
      "/u/81/mirandi1/unix/.local/lib/python3.10/site-packages/botorch/models/utils/assorted.py:257: InputDataWarning: Input data is not contained to the unit cube. Please consider min-max scaling the input data.\n",
      "  check_min_max_scaling(\n",
      "/u/81/mirandi1/unix/.local/lib/python3.10/site-packages/botorch/models/utils/assorted.py:260: InputDataWarning: Data is not standardized (std = tensor([0.8971], dtype=torch.float64), mean = tensor([0.4596], dtype=torch.float64)). Please consider scaling the input to zero mean and unit variance.\n",
      "  check_standardization(Y=train_Y, raise_on_fail=raise_on_fail)\n",
      "/u/81/mirandi1/unix/.local/lib/python3.10/site-packages/botorch/models/utils/assorted.py:257: InputDataWarning: Input data is not contained to the unit cube. Please consider min-max scaling the input data.\n",
      "  check_min_max_scaling(\n",
      "/u/81/mirandi1/unix/.local/lib/python3.10/site-packages/botorch/models/utils/assorted.py:260: InputDataWarning: Data is not standardized (std = tensor([0.9119], dtype=torch.float64), mean = tensor([0.4960], dtype=torch.float64)). Please consider scaling the input to zero mean and unit variance.\n",
      "  check_standardization(Y=train_Y, raise_on_fail=raise_on_fail)\n"
     ]
    },
    {
     "name": "stdout",
     "output_type": "stream",
     "text": [
      "Exploitation 28/200 - New sample: [1.94701010e+00 4.61136245e+00 1.00000000e-03], Objective value: -1.6345257971882186\n",
      "Exploitation 29/200 - New sample: [1.87217685e+00 4.59162831e+00 1.00000000e-03], Objective value: -1.8002307190644011\n"
     ]
    },
    {
     "name": "stderr",
     "output_type": "stream",
     "text": [
      "/u/81/mirandi1/unix/.local/lib/python3.10/site-packages/botorch/models/utils/assorted.py:257: InputDataWarning: Input data is not contained to the unit cube. Please consider min-max scaling the input data.\n",
      "  check_min_max_scaling(\n",
      "/u/81/mirandi1/unix/.local/lib/python3.10/site-packages/botorch/models/utils/assorted.py:260: InputDataWarning: Data is not standardized (std = tensor([0.9003], dtype=torch.float64), mean = tensor([0.5021], dtype=torch.float64)). Please consider scaling the input to zero mean and unit variance.\n",
      "  check_standardization(Y=train_Y, raise_on_fail=raise_on_fail)\n",
      "/u/81/mirandi1/unix/.local/lib/python3.10/site-packages/botorch/models/utils/assorted.py:257: InputDataWarning: Input data is not contained to the unit cube. Please consider min-max scaling the input data.\n",
      "  check_min_max_scaling(\n",
      "/u/81/mirandi1/unix/.local/lib/python3.10/site-packages/botorch/models/utils/assorted.py:260: InputDataWarning: Data is not standardized (std = tensor([0.8892], dtype=torch.float64), mean = tensor([0.4958], dtype=torch.float64)). Please consider scaling the input to zero mean and unit variance.\n",
      "  check_standardization(Y=train_Y, raise_on_fail=raise_on_fail)\n"
     ]
    },
    {
     "name": "stdout",
     "output_type": "stream",
     "text": [
      "Exploitation 30/200 - New sample: [1.57070642e+00 4.36393684e+00 1.00000000e-03], Objective value: -2.620755401210444\n",
      "Exploitation 31/200 - New sample: [1.00000000e+00 4.54763462e+00 1.00000000e-03], Objective value: -2.9772728308656737\n",
      "Exploitation 32/200 - New sample: [3.         4.24996296 0.5       ], Objective value: -2.9662583724672302\n"
     ]
    },
    {
     "name": "stderr",
     "output_type": "stream",
     "text": [
      "/u/81/mirandi1/unix/.local/lib/python3.10/site-packages/botorch/models/utils/assorted.py:257: InputDataWarning: Input data is not contained to the unit cube. Please consider min-max scaling the input data.\n",
      "  check_min_max_scaling(\n",
      "/u/81/mirandi1/unix/.local/lib/python3.10/site-packages/botorch/models/utils/assorted.py:260: InputDataWarning: Data is not standardized (std = tensor([0.8785], dtype=torch.float64), mean = tensor([0.4901], dtype=torch.float64)). Please consider scaling the input to zero mean and unit variance.\n",
      "  check_standardization(Y=train_Y, raise_on_fail=raise_on_fail)\n",
      "/u/81/mirandi1/unix/.local/lib/python3.10/site-packages/botorch/models/utils/assorted.py:257: InputDataWarning: Input data is not contained to the unit cube. Please consider min-max scaling the input data.\n",
      "  check_min_max_scaling(\n",
      "/u/81/mirandi1/unix/.local/lib/python3.10/site-packages/botorch/models/utils/assorted.py:260: InputDataWarning: Data is not standardized (std = tensor([0.8717], dtype=torch.float64), mean = tensor([0.4766], dtype=torch.float64)). Please consider scaling the input to zero mean and unit variance.\n",
      "  check_standardization(Y=train_Y, raise_on_fail=raise_on_fail)\n"
     ]
    },
    {
     "name": "stdout",
     "output_type": "stream",
     "text": [
      "Exploitation 33/200 - New sample: [1.       5.716921 0.5     ], Objective value: -3.218476779127308\n",
      "Exploitation 34/200 - New sample: [1.         4.66084428 0.5       ], Objective value: -3.218547914668848\n"
     ]
    },
    {
     "name": "stderr",
     "output_type": "stream",
     "text": [
      "/u/81/mirandi1/unix/.local/lib/python3.10/site-packages/botorch/models/utils/assorted.py:257: InputDataWarning: Input data is not contained to the unit cube. Please consider min-max scaling the input data.\n",
      "  check_min_max_scaling(\n",
      "/u/81/mirandi1/unix/.local/lib/python3.10/site-packages/botorch/models/utils/assorted.py:260: InputDataWarning: Data is not standardized (std = tensor([0.8650], dtype=torch.float64), mean = tensor([0.4638], dtype=torch.float64)). Please consider scaling the input to zero mean and unit variance.\n",
      "  check_standardization(Y=train_Y, raise_on_fail=raise_on_fail)\n",
      "/u/81/mirandi1/unix/.local/lib/python3.10/site-packages/botorch/models/utils/assorted.py:257: InputDataWarning: Input data is not contained to the unit cube. Please consider min-max scaling the input data.\n",
      "  check_min_max_scaling(\n",
      "/u/81/mirandi1/unix/.local/lib/python3.10/site-packages/botorch/models/utils/assorted.py:260: InputDataWarning: Data is not standardized (std = tensor([0.8563], dtype=torch.float64), mean = tensor([0.4557], dtype=torch.float64)). Please consider scaling the input to zero mean and unit variance.\n",
      "  check_standardization(Y=train_Y, raise_on_fail=raise_on_fail)\n"
     ]
    },
    {
     "name": "stdout",
     "output_type": "stream",
     "text": [
      "Exploitation 35/200 - New sample: [2.35632956e+00 4.00000000e+00 1.00000000e-03], Objective value: -3.08270770139269\n",
      "Exploitation 36/200 - New sample: [1.45677679 4.28191502 0.5       ], Objective value: -3.201038134485825\n"
     ]
    },
    {
     "name": "stderr",
     "output_type": "stream",
     "text": [
      "/u/81/mirandi1/unix/.local/lib/python3.10/site-packages/botorch/models/utils/assorted.py:257: InputDataWarning: Input data is not contained to the unit cube. Please consider min-max scaling the input data.\n",
      "  check_min_max_scaling(\n",
      "/u/81/mirandi1/unix/.local/lib/python3.10/site-packages/botorch/models/utils/assorted.py:260: InputDataWarning: Data is not standardized (std = tensor([0.8496], dtype=torch.float64), mean = tensor([0.4445], dtype=torch.float64)). Please consider scaling the input to zero mean and unit variance.\n",
      "  check_standardization(Y=train_Y, raise_on_fail=raise_on_fail)\n",
      "/u/81/mirandi1/unix/.local/lib/python3.10/site-packages/botorch/models/utils/assorted.py:257: InputDataWarning: Input data is not contained to the unit cube. Please consider min-max scaling the input data.\n",
      "  check_min_max_scaling(\n",
      "/u/81/mirandi1/unix/.local/lib/python3.10/site-packages/botorch/models/utils/assorted.py:260: InputDataWarning: Data is not standardized (std = tensor([0.8412], dtype=torch.float64), mean = tensor([0.4375], dtype=torch.float64)). Please consider scaling the input to zero mean and unit variance.\n",
      "  check_standardization(Y=train_Y, raise_on_fail=raise_on_fail)\n"
     ]
    },
    {
     "name": "stdout",
     "output_type": "stream",
     "text": [
      "Exploitation 37/200 - New sample: [2.19743417 4.96773743 0.5       ], Objective value: -3.0700895964519135\n",
      "Exploitation 38/200 - New sample: [2.01311358 6.         0.5       ], Objective value: -3.1219782346198173\n"
     ]
    },
    {
     "name": "stderr",
     "output_type": "stream",
     "text": [
      "/u/81/mirandi1/unix/.local/lib/python3.10/site-packages/botorch/models/utils/assorted.py:257: InputDataWarning: Input data is not contained to the unit cube. Please consider min-max scaling the input data.\n",
      "  check_min_max_scaling(\n",
      "/u/81/mirandi1/unix/.local/lib/python3.10/site-packages/botorch/models/utils/assorted.py:260: InputDataWarning: Data is not standardized (std = tensor([0.8336], dtype=torch.float64), mean = tensor([0.4294], dtype=torch.float64)). Please consider scaling the input to zero mean and unit variance.\n",
      "  check_standardization(Y=train_Y, raise_on_fail=raise_on_fail)\n",
      "/u/81/mirandi1/unix/.local/lib/python3.10/site-packages/botorch/models/utils/assorted.py:257: InputDataWarning: Input data is not contained to the unit cube. Please consider min-max scaling the input data.\n",
      "  check_min_max_scaling(\n",
      "/u/81/mirandi1/unix/.local/lib/python3.10/site-packages/botorch/models/utils/assorted.py:260: InputDataWarning: Data is not standardized (std = tensor([0.8618], dtype=torch.float64), mean = tensor([0.3928], dtype=torch.float64)). Please consider scaling the input to zero mean and unit variance.\n",
      "  check_standardization(Y=train_Y, raise_on_fail=raise_on_fail)\n"
     ]
    },
    {
     "name": "stdout",
     "output_type": "stream",
     "text": [
      "Exploitation 39/200 - New sample: [1.97395484e+00 5.46806868e+00 1.00000000e-03], Objective value: -4.149526958986406\n",
      "Exploitation 40/200 - New sample: [1.12980748e+00 5.61941959e+00 1.00000000e-03], Objective value: -2.9326295879244686\n"
     ]
    },
    {
     "name": "stderr",
     "output_type": "stream",
     "text": [
      "/u/81/mirandi1/unix/.local/lib/python3.10/site-packages/botorch/models/utils/assorted.py:257: InputDataWarning: Input data is not contained to the unit cube. Please consider min-max scaling the input data.\n",
      "  check_min_max_scaling(\n",
      "/u/81/mirandi1/unix/.local/lib/python3.10/site-packages/botorch/models/utils/assorted.py:260: InputDataWarning: Data is not standardized (std = tensor([0.8526], dtype=torch.float64), mean = tensor([0.3912], dtype=torch.float64)). Please consider scaling the input to zero mean and unit variance.\n",
      "  check_standardization(Y=train_Y, raise_on_fail=raise_on_fail)\n",
      "/u/81/mirandi1/unix/.local/lib/python3.10/site-packages/botorch/models/utils/assorted.py:257: InputDataWarning: Input data is not contained to the unit cube. Please consider min-max scaling the input data.\n",
      "  check_min_max_scaling(\n",
      "/u/81/mirandi1/unix/.local/lib/python3.10/site-packages/botorch/models/utils/assorted.py:260: InputDataWarning: Data is not standardized (std = tensor([0.8472], dtype=torch.float64), mean = tensor([0.4022], dtype=torch.float64)). Please consider scaling the input to zero mean and unit variance.\n",
      "  check_standardization(Y=train_Y, raise_on_fail=raise_on_fail)\n"
     ]
    },
    {
     "name": "stdout",
     "output_type": "stream",
     "text": [
      "Exploitation 41/200 - New sample: [3.         5.17251329 0.5       ], Objective value: -2.464159353844918\n",
      "Exploitation 42/200 - New sample: [2.31252035 4.22897294 0.5       ], Objective value: -3.0738500960310815\n"
     ]
    },
    {
     "name": "stderr",
     "output_type": "stream",
     "text": [
      "/u/81/mirandi1/unix/.local/lib/python3.10/site-packages/botorch/models/utils/assorted.py:257: InputDataWarning: Input data is not contained to the unit cube. Please consider min-max scaling the input data.\n",
      "  check_min_max_scaling(\n",
      "/u/81/mirandi1/unix/.local/lib/python3.10/site-packages/botorch/models/utils/assorted.py:260: InputDataWarning: Data is not standardized (std = tensor([0.8394], dtype=torch.float64), mean = tensor([0.3968], dtype=torch.float64)). Please consider scaling the input to zero mean and unit variance.\n",
      "  check_standardization(Y=train_Y, raise_on_fail=raise_on_fail)\n",
      "/u/81/mirandi1/unix/.local/lib/python3.10/site-packages/botorch/models/utils/assorted.py:257: InputDataWarning: Input data is not contained to the unit cube. Please consider min-max scaling the input data.\n",
      "  check_min_max_scaling(\n",
      "/u/81/mirandi1/unix/.local/lib/python3.10/site-packages/botorch/models/utils/assorted.py:260: InputDataWarning: Data is not standardized (std = tensor([0.8313], dtype=torch.float64), mean = tensor([0.3938], dtype=torch.float64)). Please consider scaling the input to zero mean and unit variance.\n",
      "  check_standardization(Y=train_Y, raise_on_fail=raise_on_fail)\n"
     ]
    },
    {
     "name": "stdout",
     "output_type": "stream",
     "text": [
      "Exploitation 43/200 - New sample: [1.38231822e+00 4.00000000e+00 1.00000000e-03], Objective value: -2.984690788094479\n",
      "Exploitation 44/200 - New sample: [2.69578837 5.27117819 0.5       ], Objective value: -2.6770487068078026\n"
     ]
    },
    {
     "name": "stderr",
     "output_type": "stream",
     "text": [
      "/u/81/mirandi1/unix/.local/lib/python3.10/site-packages/botorch/models/utils/assorted.py:257: InputDataWarning: Input data is not contained to the unit cube. Please consider min-max scaling the input data.\n",
      "  check_min_max_scaling(\n",
      "/u/81/mirandi1/unix/.local/lib/python3.10/site-packages/botorch/models/utils/assorted.py:260: InputDataWarning: Data is not standardized (std = tensor([0.8238], dtype=torch.float64), mean = tensor([0.3987], dtype=torch.float64)). Please consider scaling the input to zero mean and unit variance.\n",
      "  check_standardization(Y=train_Y, raise_on_fail=raise_on_fail)\n",
      "/u/81/mirandi1/unix/.local/lib/python3.10/site-packages/botorch/models/utils/assorted.py:257: InputDataWarning: Input data is not contained to the unit cube. Please consider min-max scaling the input data.\n",
      "  check_min_max_scaling(\n",
      "/u/81/mirandi1/unix/.local/lib/python3.10/site-packages/botorch/models/utils/assorted.py:260: InputDataWarning: Data is not standardized (std = tensor([0.8187], dtype=torch.float64), mean = tensor([0.4081], dtype=torch.float64)). Please consider scaling the input to zero mean and unit variance.\n",
      "  check_standardization(Y=train_Y, raise_on_fail=raise_on_fail)\n"
     ]
    },
    {
     "name": "stdout",
     "output_type": "stream",
     "text": [
      "Exploitation 45/200 - New sample: [2.93345613 4.93810378 0.5       ], Objective value: -2.4924849621470786\n",
      "Exploitation 46/200 - New sample: [1.56239949 5.59748745 0.5       ], Objective value: -3.191823961991863\n"
     ]
    },
    {
     "name": "stderr",
     "output_type": "stream",
     "text": [
      "/u/81/mirandi1/unix/.local/lib/python3.10/site-packages/botorch/models/utils/assorted.py:257: InputDataWarning: Input data is not contained to the unit cube. Please consider min-max scaling the input data.\n",
      "  check_min_max_scaling(\n",
      "/u/81/mirandi1/unix/.local/lib/python3.10/site-packages/botorch/models/utils/assorted.py:260: InputDataWarning: Data is not standardized (std = tensor([0.8131], dtype=torch.float64), mean = tensor([0.4000], dtype=torch.float64)). Please consider scaling the input to zero mean and unit variance.\n",
      "  check_standardization(Y=train_Y, raise_on_fail=raise_on_fail)\n",
      "/u/81/mirandi1/unix/.local/lib/python3.10/site-packages/botorch/models/utils/assorted.py:257: InputDataWarning: Input data is not contained to the unit cube. Please consider min-max scaling the input data.\n",
      "  check_min_max_scaling(\n",
      "/u/81/mirandi1/unix/.local/lib/python3.10/site-packages/botorch/models/utils/assorted.py:260: InputDataWarning: Data is not standardized (std = tensor([0.8056], dtype=torch.float64), mean = tensor([0.3991], dtype=torch.float64)). Please consider scaling the input to zero mean and unit variance.\n",
      "  check_standardization(Y=train_Y, raise_on_fail=raise_on_fail)\n",
      "/u/81/mirandi1/unix/.local/lib/python3.10/site-packages/botorch/models/utils/assorted.py:257: InputDataWarning: Input data is not contained to the unit cube. Please consider min-max scaling the input data.\n",
      "  check_min_max_scaling(\n",
      "/u/81/mirandi1/unix/.local/lib/python3.10/site-packages/botorch/models/utils/assorted.py:260: InputDataWarning: Data is not standardized (std = tensor([0.7996], dtype=torch.float64), mean = tensor([0.3930], dtype=torch.float64)). Please consider scaling the input to zero mean and unit variance.\n",
      "  check_standardization(Y=train_Y, raise_on_fail=raise_on_fail)\n"
     ]
    },
    {
     "name": "stdout",
     "output_type": "stream",
     "text": [
      "Exploitation 47/200 - New sample: [1.30983732e+00 5.01896090e+00 1.00000000e-03], Objective value: -2.9052911354528774\n",
      "Exploitation 48/200 - New sample: [1.15299243 4.27898458 0.20199629], Objective value: -3.128957440383515\n"
     ]
    },
    {
     "name": "stderr",
     "output_type": "stream",
     "text": [
      "/u/81/mirandi1/unix/.local/lib/python3.10/site-packages/botorch/models/utils/assorted.py:257: InputDataWarning: Input data is not contained to the unit cube. Please consider min-max scaling the input data.\n",
      "  check_min_max_scaling(\n",
      "/u/81/mirandi1/unix/.local/lib/python3.10/site-packages/botorch/models/utils/assorted.py:260: InputDataWarning: Data is not standardized (std = tensor([0.8211], dtype=torch.float64), mean = tensor([0.4215], dtype=torch.float64)). Please consider scaling the input to zero mean and unit variance.\n",
      "  check_standardization(Y=train_Y, raise_on_fail=raise_on_fail)\n",
      "/u/81/mirandi1/unix/.local/lib/python3.10/site-packages/botorch/models/utils/assorted.py:257: InputDataWarning: Input data is not contained to the unit cube. Please consider min-max scaling the input data.\n",
      "  check_min_max_scaling(\n",
      "/u/81/mirandi1/unix/.local/lib/python3.10/site-packages/botorch/models/utils/assorted.py:260: InputDataWarning: Data is not standardized (std = tensor([0.8410], dtype=torch.float64), mean = tensor([0.4493], dtype=torch.float64)). Please consider scaling the input to zero mean and unit variance.\n",
      "  check_standardization(Y=train_Y, raise_on_fail=raise_on_fail)\n"
     ]
    },
    {
     "name": "stdout",
     "output_type": "stream",
     "text": [
      "Exploitation 49/200 - New sample: [1.96071974e+00 4.61577549e+00 1.00000000e-03], Objective value: -1.639628516027481\n",
      "Exploitation 50/200 - New sample: [1.95216397e+00 4.60626239e+00 1.00000000e-03], Objective value: -1.6284846621819689\n"
     ]
    },
    {
     "name": "stderr",
     "output_type": "stream",
     "text": [
      "/u/81/mirandi1/unix/.local/lib/python3.10/site-packages/botorch/models/utils/assorted.py:257: InputDataWarning: Input data is not contained to the unit cube. Please consider min-max scaling the input data.\n",
      "  check_min_max_scaling(\n",
      "/u/81/mirandi1/unix/.local/lib/python3.10/site-packages/botorch/models/utils/assorted.py:260: InputDataWarning: Data is not standardized (std = tensor([0.8359], dtype=torch.float64), mean = tensor([0.4414], dtype=torch.float64)). Please consider scaling the input to zero mean and unit variance.\n",
      "  check_standardization(Y=train_Y, raise_on_fail=raise_on_fail)\n"
     ]
    },
    {
     "name": "stdout",
     "output_type": "stream",
     "text": [
      "Exploitation 51/200 - New sample: [1.66131157 5.08204379 0.5       ], Objective value: -3.1827194521404127\n"
     ]
    },
    {
     "name": "stderr",
     "output_type": "stream",
     "text": [
      "/u/81/mirandi1/unix/.local/lib/python3.10/site-packages/botorch/models/utils/assorted.py:257: InputDataWarning: Input data is not contained to the unit cube. Please consider min-max scaling the input data.\n",
      "  check_min_max_scaling(\n",
      "/u/81/mirandi1/unix/.local/lib/python3.10/site-packages/botorch/models/utils/assorted.py:260: InputDataWarning: Data is not standardized (std = tensor([0.8528], dtype=torch.float64), mean = tensor([0.4674], dtype=torch.float64)). Please consider scaling the input to zero mean and unit variance.\n",
      "  check_standardization(Y=train_Y, raise_on_fail=raise_on_fail)\n"
     ]
    },
    {
     "name": "stdout",
     "output_type": "stream",
     "text": [
      "Exploitation 52/200 - New sample: [1.97194134e+00 4.61992660e+00 1.00000000e-03], Objective value: -1.655198878213057\n"
     ]
    },
    {
     "name": "stderr",
     "output_type": "stream",
     "text": [
      "/u/81/mirandi1/unix/.local/lib/python3.10/site-packages/botorch/models/utils/assorted.py:257: InputDataWarning: Input data is not contained to the unit cube. Please consider min-max scaling the input data.\n",
      "  check_min_max_scaling(\n",
      "/u/81/mirandi1/unix/.local/lib/python3.10/site-packages/botorch/models/utils/assorted.py:260: InputDataWarning: Data is not standardized (std = tensor([0.8691], dtype=torch.float64), mean = tensor([0.4931], dtype=torch.float64)). Please consider scaling the input to zero mean and unit variance.\n",
      "  check_standardization(Y=train_Y, raise_on_fail=raise_on_fail)\n"
     ]
    },
    {
     "name": "stdout",
     "output_type": "stream",
     "text": [
      "Exploitation 53/200 - New sample: [1.94561133e+00 4.60323126e+00 1.00000000e-03], Objective value: -1.6275646377168111\n"
     ]
    },
    {
     "name": "stderr",
     "output_type": "stream",
     "text": [
      "/u/81/mirandi1/unix/.local/lib/python3.10/site-packages/botorch/models/utils/assorted.py:257: InputDataWarning: Input data is not contained to the unit cube. Please consider min-max scaling the input data.\n",
      "  check_min_max_scaling(\n",
      "/u/81/mirandi1/unix/.local/lib/python3.10/site-packages/botorch/models/utils/assorted.py:260: InputDataWarning: Data is not standardized (std = tensor([0.8839], dtype=torch.float64), mean = tensor([0.5179], dtype=torch.float64)). Please consider scaling the input to zero mean and unit variance.\n",
      "  check_standardization(Y=train_Y, raise_on_fail=raise_on_fail)\n"
     ]
    },
    {
     "name": "stdout",
     "output_type": "stream",
     "text": [
      "Exploitation 54/200 - New sample: [1.95211916e+00 4.60489569e+00 1.00000000e-03], Objective value: -1.6277645694513936\n"
     ]
    },
    {
     "name": "stderr",
     "output_type": "stream",
     "text": [
      "/u/81/mirandi1/unix/.local/lib/python3.10/site-packages/botorch/models/utils/assorted.py:257: InputDataWarning: Input data is not contained to the unit cube. Please consider min-max scaling the input data.\n",
      "  check_min_max_scaling(\n",
      "/u/81/mirandi1/unix/.local/lib/python3.10/site-packages/botorch/models/utils/assorted.py:260: InputDataWarning: Data is not standardized (std = tensor([0.8975], dtype=torch.float64), mean = tensor([0.5421], dtype=torch.float64)). Please consider scaling the input to zero mean and unit variance.\n",
      "  check_standardization(Y=train_Y, raise_on_fail=raise_on_fail)\n"
     ]
    },
    {
     "name": "stdout",
     "output_type": "stream",
     "text": [
      "Exploitation 55/200 - New sample: [1.95203601e+00 4.60575691e+00 1.00000000e-03], Objective value: -1.6247908055207478\n"
     ]
    },
    {
     "name": "stderr",
     "output_type": "stream",
     "text": [
      "/u/81/mirandi1/unix/.local/lib/python3.10/site-packages/botorch/models/utils/assorted.py:257: InputDataWarning: Input data is not contained to the unit cube. Please consider min-max scaling the input data.\n",
      "  check_min_max_scaling(\n",
      "/u/81/mirandi1/unix/.local/lib/python3.10/site-packages/botorch/models/utils/assorted.py:260: InputDataWarning: Data is not standardized (std = tensor([0.9096], dtype=torch.float64), mean = tensor([0.5654], dtype=torch.float64)). Please consider scaling the input to zero mean and unit variance.\n",
      "  check_standardization(Y=train_Y, raise_on_fail=raise_on_fail)\n",
      "/u/81/mirandi1/unix/.local/lib/python3.10/site-packages/botorch/models/utils/assorted.py:257: InputDataWarning: Input data is not contained to the unit cube. Please consider min-max scaling the input data.\n",
      "  check_min_max_scaling(\n",
      "/u/81/mirandi1/unix/.local/lib/python3.10/site-packages/botorch/models/utils/assorted.py:260: InputDataWarning: Data is not standardized (std = tensor([0.9079], dtype=torch.float64), mean = tensor([0.5531], dtype=torch.float64)). Please consider scaling the input to zero mean and unit variance.\n",
      "  check_standardization(Y=train_Y, raise_on_fail=raise_on_fail)\n"
     ]
    },
    {
     "name": "stdout",
     "output_type": "stream",
     "text": [
      "Exploitation 56/200 - New sample: [1.93651279e+00 4.59769907e+00 1.00000000e-03], Objective value: -1.628685611429733\n",
      "Exploitation 57/200 - New sample: [2.420179   5.00029617 0.10514658], Objective value: -3.348941876059184\n"
     ]
    },
    {
     "name": "stderr",
     "output_type": "stream",
     "text": [
      "/u/81/mirandi1/unix/.local/lib/python3.10/site-packages/botorch/models/utils/assorted.py:257: InputDataWarning: Input data is not contained to the unit cube. Please consider min-max scaling the input data.\n",
      "  check_min_max_scaling(\n",
      "/u/81/mirandi1/unix/.local/lib/python3.10/site-packages/botorch/models/utils/assorted.py:260: InputDataWarning: Data is not standardized (std = tensor([0.9012], dtype=torch.float64), mean = tensor([0.5557], dtype=torch.float64)). Please consider scaling the input to zero mean and unit variance.\n",
      "  check_standardization(Y=train_Y, raise_on_fail=raise_on_fail)\n"
     ]
    },
    {
     "name": "stdout",
     "output_type": "stream",
     "text": [
      "Exploitation 58/200 - New sample: [3.  6.  0.5], Objective value: -2.617198853967215\n"
     ]
    },
    {
     "name": "stderr",
     "output_type": "stream",
     "text": [
      "/u/81/mirandi1/unix/.local/lib/python3.10/site-packages/botorch/models/utils/assorted.py:257: InputDataWarning: Input data is not contained to the unit cube. Please consider min-max scaling the input data.\n",
      "  check_min_max_scaling(\n",
      "/u/81/mirandi1/unix/.local/lib/python3.10/site-packages/botorch/models/utils/assorted.py:260: InputDataWarning: Data is not standardized (std = tensor([0.9122], dtype=torch.float64), mean = tensor([0.5777], dtype=torch.float64)). Please consider scaling the input to zero mean and unit variance.\n",
      "  check_standardization(Y=train_Y, raise_on_fail=raise_on_fail)\n",
      "/u/81/mirandi1/unix/.local/lib/python3.10/site-packages/botorch/models/utils/assorted.py:257: InputDataWarning: Input data is not contained to the unit cube. Please consider min-max scaling the input data.\n",
      "  check_min_max_scaling(\n",
      "/u/81/mirandi1/unix/.local/lib/python3.10/site-packages/botorch/models/utils/assorted.py:260: InputDataWarning: Data is not standardized (std = tensor([0.9054], dtype=torch.float64), mean = tensor([0.5758], dtype=torch.float64)). Please consider scaling the input to zero mean and unit variance.\n",
      "  check_standardization(Y=train_Y, raise_on_fail=raise_on_fail)\n"
     ]
    },
    {
     "name": "stdout",
     "output_type": "stream",
     "text": [
      "Exploitation 59/200 - New sample: [1.93805624e+00 4.60557757e+00 1.00000000e-03], Objective value: -1.6353120666153353\n",
      "Exploitation 60/200 - New sample: [2.54534174 6.         0.5       ], Objective value: -2.827216118706162\n"
     ]
    },
    {
     "name": "stderr",
     "output_type": "stream",
     "text": [
      "/u/81/mirandi1/unix/.local/lib/python3.10/site-packages/botorch/models/utils/assorted.py:257: InputDataWarning: Input data is not contained to the unit cube. Please consider min-max scaling the input data.\n",
      "  check_min_max_scaling(\n",
      "/u/81/mirandi1/unix/.local/lib/python3.10/site-packages/botorch/models/utils/assorted.py:260: InputDataWarning: Data is not standardized (std = tensor([0.9159], dtype=torch.float64), mean = tensor([0.5971], dtype=torch.float64)). Please consider scaling the input to zero mean and unit variance.\n",
      "  check_standardization(Y=train_Y, raise_on_fail=raise_on_fail)\n"
     ]
    },
    {
     "name": "stdout",
     "output_type": "stream",
     "text": [
      "Exploitation 61/200 - New sample: [1.94836659e+00 4.60059624e+00 1.00000000e-03], Objective value: -1.623703729749292\n"
     ]
    },
    {
     "name": "stderr",
     "output_type": "stream",
     "text": [
      "/u/81/mirandi1/unix/.local/lib/python3.10/site-packages/botorch/models/utils/assorted.py:257: InputDataWarning: Input data is not contained to the unit cube. Please consider min-max scaling the input data.\n",
      "  check_min_max_scaling(\n",
      "/u/81/mirandi1/unix/.local/lib/python3.10/site-packages/botorch/models/utils/assorted.py:260: InputDataWarning: Data is not standardized (std = tensor([0.9253], dtype=torch.float64), mean = tensor([0.6176], dtype=torch.float64)). Please consider scaling the input to zero mean and unit variance.\n",
      "  check_standardization(Y=train_Y, raise_on_fail=raise_on_fail)\n"
     ]
    },
    {
     "name": "stdout",
     "output_type": "stream",
     "text": [
      "Exploitation 62/200 - New sample: [1.94805294e+00 4.59915362e+00 1.00000000e-03], Objective value: -1.627565104037225\n"
     ]
    },
    {
     "name": "stderr",
     "output_type": "stream",
     "text": [
      "/u/81/mirandi1/unix/.local/lib/python3.10/site-packages/botorch/models/utils/assorted.py:257: InputDataWarning: Input data is not contained to the unit cube. Please consider min-max scaling the input data.\n",
      "  check_min_max_scaling(\n",
      "/u/81/mirandi1/unix/.local/lib/python3.10/site-packages/botorch/models/utils/assorted.py:260: InputDataWarning: Data is not standardized (std = tensor([0.9191], dtype=torch.float64), mean = tensor([0.6142], dtype=torch.float64)). Please consider scaling the input to zero mean and unit variance.\n",
      "  check_standardization(Y=train_Y, raise_on_fail=raise_on_fail)\n"
     ]
    },
    {
     "name": "stdout",
     "output_type": "stream",
     "text": [
      "Exploitation 63/200 - New sample: [2.71957826 4.42603024 0.5       ], Objective value: -2.8841738808963076\n"
     ]
    },
    {
     "name": "stderr",
     "output_type": "stream",
     "text": [
      "/u/81/mirandi1/unix/.local/lib/python3.10/site-packages/botorch/models/utils/assorted.py:257: InputDataWarning: Input data is not contained to the unit cube. Please consider min-max scaling the input data.\n",
      "  check_min_max_scaling(\n",
      "/u/81/mirandi1/unix/.local/lib/python3.10/site-packages/botorch/models/utils/assorted.py:260: InputDataWarning: Data is not standardized (std = tensor([0.9279], dtype=torch.float64), mean = tensor([0.6340], dtype=torch.float64)). Please consider scaling the input to zero mean and unit variance.\n",
      "  check_standardization(Y=train_Y, raise_on_fail=raise_on_fail)\n"
     ]
    },
    {
     "name": "stdout",
     "output_type": "stream",
     "text": [
      "Exploitation 64/200 - New sample: [1.94993661e+00 4.60165479e+00 1.00000000e-03], Objective value: -1.6260443621670695\n"
     ]
    },
    {
     "name": "stderr",
     "output_type": "stream",
     "text": [
      "/u/81/mirandi1/unix/.local/lib/python3.10/site-packages/botorch/models/utils/assorted.py:257: InputDataWarning: Input data is not contained to the unit cube. Please consider min-max scaling the input data.\n",
      "  check_min_max_scaling(\n",
      "/u/81/mirandi1/unix/.local/lib/python3.10/site-packages/botorch/models/utils/assorted.py:260: InputDataWarning: Data is not standardized (std = tensor([0.9368], dtype=torch.float64), mean = tensor([0.6537], dtype=torch.float64)). Please consider scaling the input to zero mean and unit variance.\n",
      "  check_standardization(Y=train_Y, raise_on_fail=raise_on_fail)\n"
     ]
    },
    {
     "name": "stdout",
     "output_type": "stream",
     "text": [
      "Exploitation 65/200 - New sample: [1.94810281 4.60137396 0.00853709], Objective value: -1.595992702329287\n"
     ]
    },
    {
     "name": "stderr",
     "output_type": "stream",
     "text": [
      "/u/81/mirandi1/unix/.local/lib/python3.10/site-packages/botorch/models/utils/assorted.py:257: InputDataWarning: Input data is not contained to the unit cube. Please consider min-max scaling the input data.\n",
      "  check_min_max_scaling(\n",
      "/u/81/mirandi1/unix/.local/lib/python3.10/site-packages/botorch/models/utils/assorted.py:260: InputDataWarning: Data is not standardized (std = tensor([0.9306], dtype=torch.float64), mean = tensor([0.6561], dtype=torch.float64)). Please consider scaling the input to zero mean and unit variance.\n",
      "  check_standardization(Y=train_Y, raise_on_fail=raise_on_fail)\n",
      "/u/81/mirandi1/unix/.local/lib/python3.10/site-packages/botorch/models/utils/assorted.py:257: InputDataWarning: Input data is not contained to the unit cube. Please consider min-max scaling the input data.\n",
      "  check_min_max_scaling(\n",
      "/u/81/mirandi1/unix/.local/lib/python3.10/site-packages/botorch/models/utils/assorted.py:260: InputDataWarning: Data is not standardized (std = tensor([0.9253], dtype=torch.float64), mean = tensor([0.6510], dtype=torch.float64)). Please consider scaling the input to zero mean and unit variance.\n",
      "  check_standardization(Y=train_Y, raise_on_fail=raise_on_fail)\n"
     ]
    },
    {
     "name": "stdout",
     "output_type": "stream",
     "text": [
      "Exploitation 66/200 - New sample: [3.         5.55396055 0.5       ], Objective value: -2.5427827314969025\n",
      "Exploitation 67/200 - New sample: [2.3901383  5.58315871 0.5       ], Objective value: -2.9623245290788573\n"
     ]
    },
    {
     "name": "stderr",
     "output_type": "stream",
     "text": [
      "/u/81/mirandi1/unix/.local/lib/python3.10/site-packages/botorch/models/utils/assorted.py:257: InputDataWarning: Input data is not contained to the unit cube. Please consider min-max scaling the input data.\n",
      "  check_min_max_scaling(\n",
      "/u/81/mirandi1/unix/.local/lib/python3.10/site-packages/botorch/models/utils/assorted.py:260: InputDataWarning: Data is not standardized (std = tensor([0.9315], dtype=torch.float64), mean = tensor([0.6684], dtype=torch.float64)). Please consider scaling the input to zero mean and unit variance.\n",
      "  check_standardization(Y=train_Y, raise_on_fail=raise_on_fail)\n",
      "/u/81/mirandi1/unix/.local/lib/python3.10/site-packages/botorch/models/utils/assorted.py:257: InputDataWarning: Input data is not contained to the unit cube. Please consider min-max scaling the input data.\n",
      "  check_min_max_scaling(\n",
      "/u/81/mirandi1/unix/.local/lib/python3.10/site-packages/botorch/models/utils/assorted.py:260: InputDataWarning: Data is not standardized (std = tensor([0.9291], dtype=torch.float64), mean = tensor([0.6589], dtype=torch.float64)). Please consider scaling the input to zero mean and unit variance.\n",
      "  check_standardization(Y=train_Y, raise_on_fail=raise_on_fail)\n"
     ]
    },
    {
     "name": "stdout",
     "output_type": "stream",
     "text": [
      "Exploitation 68/200 - New sample: [1.93205465 4.59628145 0.02018252], Objective value: -1.6771732315825774\n",
      "Exploitation 69/200 - New sample: [1.         5.05526298 0.5       ], Objective value: -3.2184971147687924\n"
     ]
    },
    {
     "name": "stderr",
     "output_type": "stream",
     "text": [
      "/u/81/mirandi1/unix/.local/lib/python3.10/site-packages/botorch/models/utils/assorted.py:257: InputDataWarning: Input data is not contained to the unit cube. Please consider min-max scaling the input data.\n",
      "  check_min_max_scaling(\n",
      "/u/81/mirandi1/unix/.local/lib/python3.10/site-packages/botorch/models/utils/assorted.py:260: InputDataWarning: Data is not standardized (std = tensor([0.9370], dtype=torch.float64), mean = tensor([0.6771], dtype=torch.float64)). Please consider scaling the input to zero mean and unit variance.\n",
      "  check_standardization(Y=train_Y, raise_on_fail=raise_on_fail)\n"
     ]
    },
    {
     "name": "stdout",
     "output_type": "stream",
     "text": [
      "Exploitation 70/200 - New sample: [1.95096998 4.60302753 0.00910165], Objective value: -1.5919901459341175\n"
     ]
    },
    {
     "name": "stderr",
     "output_type": "stream",
     "text": [
      "/u/81/mirandi1/unix/.local/lib/python3.10/site-packages/botorch/models/utils/assorted.py:257: InputDataWarning: Input data is not contained to the unit cube. Please consider min-max scaling the input data.\n",
      "  check_min_max_scaling(\n",
      "/u/81/mirandi1/unix/.local/lib/python3.10/site-packages/botorch/models/utils/assorted.py:260: InputDataWarning: Data is not standardized (std = tensor([0.9339], dtype=torch.float64), mean = tensor([0.6687], dtype=torch.float64)). Please consider scaling the input to zero mean and unit variance.\n",
      "  check_standardization(Y=train_Y, raise_on_fail=raise_on_fail)\n"
     ]
    },
    {
     "name": "stdout",
     "output_type": "stream",
     "text": [
      "Exploitation 71/200 - New sample: [1.85775812 4.41125139 0.5       ], Objective value: -3.1610218277691944\n"
     ]
    },
    {
     "name": "stderr",
     "output_type": "stream",
     "text": [
      "/u/81/mirandi1/unix/.local/lib/python3.10/site-packages/botorch/models/utils/assorted.py:257: InputDataWarning: Input data is not contained to the unit cube. Please consider min-max scaling the input data.\n",
      "  check_min_max_scaling(\n",
      "/u/81/mirandi1/unix/.local/lib/python3.10/site-packages/botorch/models/utils/assorted.py:260: InputDataWarning: Data is not standardized (std = tensor([0.9293], dtype=torch.float64), mean = tensor([0.6742], dtype=torch.float64)). Please consider scaling the input to zero mean and unit variance.\n",
      "  check_standardization(Y=train_Y, raise_on_fail=raise_on_fail)\n"
     ]
    },
    {
     "name": "stdout",
     "output_type": "stream",
     "text": [
      "Exploitation 72/200 - New sample: [1.69639402e+00 4.57173965e+00 1.00000000e-03], Objective value: -2.330522173384642\n"
     ]
    },
    {
     "name": "stderr",
     "output_type": "stream",
     "text": [
      "/u/81/mirandi1/unix/.local/lib/python3.10/site-packages/botorch/models/utils/assorted.py:257: InputDataWarning: Input data is not contained to the unit cube. Please consider min-max scaling the input data.\n",
      "  check_min_max_scaling(\n",
      "/u/81/mirandi1/unix/.local/lib/python3.10/site-packages/botorch/models/utils/assorted.py:260: InputDataWarning: Data is not standardized (std = tensor([0.9370], dtype=torch.float64), mean = tensor([0.6918], dtype=torch.float64)). Please consider scaling the input to zero mean and unit variance.\n",
      "  check_standardization(Y=train_Y, raise_on_fail=raise_on_fail)\n"
     ]
    },
    {
     "name": "stdout",
     "output_type": "stream",
     "text": [
      "Exploitation 73/200 - New sample: [1.9559831  4.60320348 0.01363391], Objective value: -1.5767727777892158\n"
     ]
    },
    {
     "name": "stderr",
     "output_type": "stream",
     "text": [
      "/u/81/mirandi1/unix/.local/lib/python3.10/site-packages/botorch/models/utils/assorted.py:257: InputDataWarning: Input data is not contained to the unit cube. Please consider min-max scaling the input data.\n",
      "  check_min_max_scaling(\n",
      "/u/81/mirandi1/unix/.local/lib/python3.10/site-packages/botorch/models/utils/assorted.py:260: InputDataWarning: Data is not standardized (std = tensor([0.9318], dtype=torch.float64), mean = tensor([0.6880], dtype=torch.float64)). Please consider scaling the input to zero mean and unit variance.\n",
      "  check_standardization(Y=train_Y, raise_on_fail=raise_on_fail)\n",
      "/u/81/mirandi1/unix/.local/lib/python3.10/site-packages/botorch/models/utils/assorted.py:257: InputDataWarning: Input data is not contained to the unit cube. Please consider min-max scaling the input data.\n",
      "  check_min_max_scaling(\n",
      "/u/81/mirandi1/unix/.local/lib/python3.10/site-packages/botorch/models/utils/assorted.py:260: InputDataWarning: Data is not standardized (std = tensor([0.9273], dtype=torch.float64), mean = tensor([0.6829], dtype=torch.float64)). Please consider scaling the input to zero mean and unit variance.\n",
      "  check_standardization(Y=train_Y, raise_on_fail=raise_on_fail)\n"
     ]
    },
    {
     "name": "stdout",
     "output_type": "stream",
     "text": [
      "Exploitation 74/200 - New sample: [1.76151817 4.29857829 0.18200183], Objective value: -2.886052226240231\n",
      "Exploitation 75/200 - New sample: [1.00000000e+00 4.88794302e+00 1.00000000e-03], Objective value: -2.9670086622648033\n"
     ]
    },
    {
     "name": "stderr",
     "output_type": "stream",
     "text": [
      "/u/81/mirandi1/unix/.local/lib/python3.10/site-packages/botorch/models/utils/assorted.py:257: InputDataWarning: Input data is not contained to the unit cube. Please consider min-max scaling the input data.\n",
      "  check_min_max_scaling(\n",
      "/u/81/mirandi1/unix/.local/lib/python3.10/site-packages/botorch/models/utils/assorted.py:260: InputDataWarning: Data is not standardized (std = tensor([0.9395], dtype=torch.float64), mean = tensor([0.6631], dtype=torch.float64)). Please consider scaling the input to zero mean and unit variance.\n",
      "  check_standardization(Y=train_Y, raise_on_fail=raise_on_fail)\n"
     ]
    },
    {
     "name": "stdout",
     "output_type": "stream",
     "text": [
      "Exploitation 76/200 - New sample: [3.         5.27142868 0.26786213], Objective value: -3.9183144341610086\n"
     ]
    },
    {
     "name": "stderr",
     "output_type": "stream",
     "text": [
      "/u/81/mirandi1/unix/.local/lib/python3.10/site-packages/botorch/models/utils/assorted.py:257: InputDataWarning: Input data is not contained to the unit cube. Please consider min-max scaling the input data.\n",
      "  check_min_max_scaling(\n",
      "/u/81/mirandi1/unix/.local/lib/python3.10/site-packages/botorch/models/utils/assorted.py:260: InputDataWarning: Data is not standardized (std = tensor([0.9470], dtype=torch.float64), mean = tensor([0.6801], dtype=torch.float64)). Please consider scaling the input to zero mean and unit variance.\n",
      "  check_standardization(Y=train_Y, raise_on_fail=raise_on_fail)\n"
     ]
    },
    {
     "name": "stdout",
     "output_type": "stream",
     "text": [
      "Exploitation 77/200 - New sample: [1.95986447 4.60195829 0.01526494], Objective value: -1.5689003971887814\n"
     ]
    },
    {
     "name": "stderr",
     "output_type": "stream",
     "text": [
      "/u/81/mirandi1/unix/.local/lib/python3.10/site-packages/botorch/models/utils/assorted.py:257: InputDataWarning: Input data is not contained to the unit cube. Please consider min-max scaling the input data.\n",
      "  check_min_max_scaling(\n",
      "/u/81/mirandi1/unix/.local/lib/python3.10/site-packages/botorch/models/utils/assorted.py:260: InputDataWarning: Data is not standardized (std = tensor([0.9422], dtype=torch.float64), mean = tensor([0.6759], dtype=torch.float64)). Please consider scaling the input to zero mean and unit variance.\n",
      "  check_standardization(Y=train_Y, raise_on_fail=raise_on_fail)\n",
      "/u/81/mirandi1/unix/.local/lib/python3.10/site-packages/botorch/models/utils/assorted.py:257: InputDataWarning: Input data is not contained to the unit cube. Please consider min-max scaling the input data.\n",
      "  check_min_max_scaling(\n",
      "/u/81/mirandi1/unix/.local/lib/python3.10/site-packages/botorch/models/utils/assorted.py:260: InputDataWarning: Data is not standardized (std = tensor([0.9378], dtype=torch.float64), mean = tensor([0.6710], dtype=torch.float64)). Please consider scaling the input to zero mean and unit variance.\n",
      "  check_standardization(Y=train_Y, raise_on_fail=raise_on_fail)\n"
     ]
    },
    {
     "name": "stdout",
     "output_type": "stream",
     "text": [
      "Exploitation 78/200 - New sample: [2.63996255 4.21400177 0.21294772], Objective value: -2.9327634493664014\n",
      "Exploitation 79/200 - New sample: [1.32045746e+00 5.33542119e+00 1.00000000e-03], Objective value: -2.976637835856449\n"
     ]
    },
    {
     "name": "stderr",
     "output_type": "stream",
     "text": [
      "/u/81/mirandi1/unix/.local/lib/python3.10/site-packages/botorch/models/utils/assorted.py:257: InputDataWarning: Input data is not contained to the unit cube. Please consider min-max scaling the input data.\n",
      "  check_min_max_scaling(\n",
      "/u/81/mirandi1/unix/.local/lib/python3.10/site-packages/botorch/models/utils/assorted.py:260: InputDataWarning: Data is not standardized (std = tensor([0.9351], dtype=torch.float64), mean = tensor([0.6636], dtype=torch.float64)). Please consider scaling the input to zero mean and unit variance.\n",
      "  check_standardization(Y=train_Y, raise_on_fail=raise_on_fail)\n",
      "/u/81/mirandi1/unix/.local/lib/python3.10/site-packages/botorch/models/utils/assorted.py:257: InputDataWarning: Input data is not contained to the unit cube. Please consider min-max scaling the input data.\n",
      "  check_min_max_scaling(\n",
      "/u/81/mirandi1/unix/.local/lib/python3.10/site-packages/botorch/models/utils/assorted.py:260: InputDataWarning: Data is not standardized (std = tensor([0.9328], dtype=torch.float64), mean = tensor([0.6556], dtype=torch.float64)). Please consider scaling the input to zero mean and unit variance.\n",
      "  check_standardization(Y=train_Y, raise_on_fail=raise_on_fail)\n"
     ]
    },
    {
     "name": "stdout",
     "output_type": "stream",
     "text": [
      "Exploitation 80/200 - New sample: [1.46431932 4.         0.3524797 ], Objective value: -3.1614123697441596\n",
      "Exploitation 81/200 - New sample: [1.38395214 4.77730067 0.5       ], Objective value: -3.2045102985700993\n"
     ]
    },
    {
     "name": "stderr",
     "output_type": "stream",
     "text": [
      "/u/81/mirandi1/unix/.local/lib/python3.10/site-packages/botorch/models/utils/assorted.py:257: InputDataWarning: Input data is not contained to the unit cube. Please consider min-max scaling the input data.\n",
      "  check_min_max_scaling(\n",
      "/u/81/mirandi1/unix/.local/lib/python3.10/site-packages/botorch/models/utils/assorted.py:260: InputDataWarning: Data is not standardized (std = tensor([0.9278], dtype=torch.float64), mean = tensor([0.6580], dtype=torch.float64)). Please consider scaling the input to zero mean and unit variance.\n",
      "  check_standardization(Y=train_Y, raise_on_fail=raise_on_fail)\n",
      "/u/81/mirandi1/unix/.local/lib/python3.10/site-packages/botorch/models/utils/assorted.py:257: InputDataWarning: Input data is not contained to the unit cube. Please consider min-max scaling the input data.\n",
      "  check_min_max_scaling(\n",
      "/u/81/mirandi1/unix/.local/lib/python3.10/site-packages/botorch/models/utils/assorted.py:260: InputDataWarning: Data is not standardized (std = tensor([0.9257], dtype=torch.float64), mean = tensor([0.6501], dtype=torch.float64)). Please consider scaling the input to zero mean and unit variance.\n",
      "  check_standardization(Y=train_Y, raise_on_fail=raise_on_fail)\n"
     ]
    },
    {
     "name": "stdout",
     "output_type": "stream",
     "text": [
      "Exploitation 82/200 - New sample: [2.79074593 5.74125665 0.5       ], Objective value: -2.511403053737913\n",
      "Exploitation 83/200 - New sample: [1.  6.  0.5], Objective value: -3.2184762359617918\n"
     ]
    },
    {
     "name": "stderr",
     "output_type": "stream",
     "text": [
      "/u/81/mirandi1/unix/.local/lib/python3.10/site-packages/botorch/models/utils/assorted.py:257: InputDataWarning: Input data is not contained to the unit cube. Please consider min-max scaling the input data.\n",
      "  check_min_max_scaling(\n",
      "/u/81/mirandi1/unix/.local/lib/python3.10/site-packages/botorch/models/utils/assorted.py:260: InputDataWarning: Data is not standardized (std = tensor([0.9224], dtype=torch.float64), mean = tensor([0.6441], dtype=torch.float64)). Please consider scaling the input to zero mean and unit variance.\n",
      "  check_standardization(Y=train_Y, raise_on_fail=raise_on_fail)\n",
      "/u/81/mirandi1/unix/.local/lib/python3.10/site-packages/botorch/models/utils/assorted.py:257: InputDataWarning: Input data is not contained to the unit cube. Please consider min-max scaling the input data.\n",
      "  check_min_max_scaling(\n",
      "/u/81/mirandi1/unix/.local/lib/python3.10/site-packages/botorch/models/utils/assorted.py:260: InputDataWarning: Data is not standardized (std = tensor([0.9604], dtype=torch.float64), mean = tensor([0.6146], dtype=torch.float64)). Please consider scaling the input to zero mean and unit variance.\n",
      "  check_standardization(Y=train_Y, raise_on_fail=raise_on_fail)\n"
     ]
    },
    {
     "name": "stdout",
     "output_type": "stream",
     "text": [
      "Exploitation 84/200 - New sample: [1.28446832 5.77644268 0.22214344], Objective value: -3.0927408715188083\n",
      "Exploitation 85/200 - New sample: [2.16352185e+00 6.00000000e+00 1.00000000e-03], Objective value: -4.76180271179798\n"
     ]
    },
    {
     "name": "stderr",
     "output_type": "stream",
     "text": [
      "/u/81/mirandi1/unix/.local/lib/python3.10/site-packages/botorch/models/utils/assorted.py:257: InputDataWarning: Input data is not contained to the unit cube. Please consider min-max scaling the input data.\n",
      "  check_min_max_scaling(\n",
      "/u/81/mirandi1/unix/.local/lib/python3.10/site-packages/botorch/models/utils/assorted.py:260: InputDataWarning: Data is not standardized (std = tensor([0.9677], dtype=torch.float64), mean = tensor([0.6307], dtype=torch.float64)). Please consider scaling the input to zero mean and unit variance.\n",
      "  check_standardization(Y=train_Y, raise_on_fail=raise_on_fail)\n",
      "/u/81/mirandi1/unix/.local/lib/python3.10/site-packages/botorch/models/utils/assorted.py:257: InputDataWarning: Input data is not contained to the unit cube. Please consider min-max scaling the input data.\n",
      "  check_min_max_scaling(\n",
      "/u/81/mirandi1/unix/.local/lib/python3.10/site-packages/botorch/models/utils/assorted.py:260: InputDataWarning: Data is not standardized (std = tensor([0.9635], dtype=torch.float64), mean = tensor([0.6264], dtype=torch.float64)). Please consider scaling the input to zero mean and unit variance.\n",
      "  check_standardization(Y=train_Y, raise_on_fail=raise_on_fail)\n"
     ]
    },
    {
     "name": "stdout",
     "output_type": "stream",
     "text": [
      "Exploitation 86/200 - New sample: [1.96103289 4.59984585 0.01708086], Objective value: -1.5629295374588388\n",
      "Exploitation 87/200 - New sample: [2.05605355 4.         0.25163192], Objective value: -3.002277869488107\n"
     ]
    },
    {
     "name": "stderr",
     "output_type": "stream",
     "text": [
      "/u/81/mirandi1/unix/.local/lib/python3.10/site-packages/botorch/models/utils/assorted.py:257: InputDataWarning: Input data is not contained to the unit cube. Please consider min-max scaling the input data.\n",
      "  check_min_max_scaling(\n",
      "/u/81/mirandi1/unix/.local/lib/python3.10/site-packages/botorch/models/utils/assorted.py:260: InputDataWarning: Data is not standardized (std = tensor([0.9598], dtype=torch.float64), mean = tensor([0.6211], dtype=torch.float64)). Please consider scaling the input to zero mean and unit variance.\n",
      "  check_standardization(Y=train_Y, raise_on_fail=raise_on_fail)\n"
     ]
    },
    {
     "name": "stdout",
     "output_type": "stream",
     "text": [
      "Exploitation 88/200 - New sample: [3.  4.  0.5], Objective value: -3.077876140912189\n"
     ]
    },
    {
     "name": "stderr",
     "output_type": "stream",
     "text": [
      "/u/81/mirandi1/unix/.local/lib/python3.10/site-packages/botorch/models/utils/assorted.py:257: InputDataWarning: Input data is not contained to the unit cube. Please consider min-max scaling the input data.\n",
      "  check_min_max_scaling(\n",
      "/u/81/mirandi1/unix/.local/lib/python3.10/site-packages/botorch/models/utils/assorted.py:260: InputDataWarning: Data is not standardized (std = tensor([0.9548], dtype=torch.float64), mean = tensor([0.6206], dtype=torch.float64)). Please consider scaling the input to zero mean and unit variance.\n",
      "  check_standardization(Y=train_Y, raise_on_fail=raise_on_fail)\n",
      "/u/81/mirandi1/unix/.local/lib/python3.10/site-packages/botorch/models/utils/assorted.py:257: InputDataWarning: Input data is not contained to the unit cube. Please consider min-max scaling the input data.\n",
      "  check_min_max_scaling(\n",
      "/u/81/mirandi1/unix/.local/lib/python3.10/site-packages/botorch/models/utils/assorted.py:260: InputDataWarning: Data is not standardized (std = tensor([0.9540], dtype=torch.float64), mean = tensor([0.6116], dtype=torch.float64)). Please consider scaling the input to zero mean and unit variance.\n",
      "  check_standardization(Y=train_Y, raise_on_fail=raise_on_fail)\n"
     ]
    },
    {
     "name": "stdout",
     "output_type": "stream",
     "text": [
      "Exploitation 89/200 - New sample: [2.75786245 4.71563379 0.5       ], Objective value: -2.7379701820967997\n",
      "Exploitation 90/200 - New sample: [3.         4.36891855 0.16721909], Objective value: -3.3716097540964376\n"
     ]
    },
    {
     "name": "stderr",
     "output_type": "stream",
     "text": [
      "/u/81/mirandi1/unix/.local/lib/python3.10/site-packages/botorch/models/utils/assorted.py:257: InputDataWarning: Input data is not contained to the unit cube. Please consider min-max scaling the input data.\n",
      "  check_min_max_scaling(\n",
      "/u/81/mirandi1/unix/.local/lib/python3.10/site-packages/botorch/models/utils/assorted.py:260: InputDataWarning: Data is not standardized (std = tensor([0.9493], dtype=torch.float64), mean = tensor([0.6131], dtype=torch.float64)). Please consider scaling the input to zero mean and unit variance.\n",
      "  check_standardization(Y=train_Y, raise_on_fail=raise_on_fail)\n"
     ]
    },
    {
     "name": "stdout",
     "output_type": "stream",
     "text": [
      "Exploitation 91/200 - New sample: [2.74143702 5.51598774 0.5       ], Objective value: -2.593010203862231\n"
     ]
    },
    {
     "name": "stderr",
     "output_type": "stream",
     "text": [
      "/u/81/mirandi1/unix/.local/lib/python3.10/site-packages/botorch/models/utils/assorted.py:257: InputDataWarning: Input data is not contained to the unit cube. Please consider min-max scaling the input data.\n",
      "  check_min_max_scaling(\n",
      "/u/81/mirandi1/unix/.local/lib/python3.10/site-packages/botorch/models/utils/assorted.py:260: InputDataWarning: Data is not standardized (std = tensor([0.9563], dtype=torch.float64), mean = tensor([0.6281], dtype=torch.float64)). Please consider scaling the input to zero mean and unit variance.\n",
      "  check_standardization(Y=train_Y, raise_on_fail=raise_on_fail)\n"
     ]
    },
    {
     "name": "stdout",
     "output_type": "stream",
     "text": [
      "Exploitation 92/200 - New sample: [1.96076588 4.59663338 0.0181206 ], Objective value: -1.5674443886228833\n"
     ]
    },
    {
     "name": "stderr",
     "output_type": "stream",
     "text": [
      "/u/81/mirandi1/unix/.local/lib/python3.10/site-packages/botorch/models/utils/assorted.py:257: InputDataWarning: Input data is not contained to the unit cube. Please consider min-max scaling the input data.\n",
      "  check_min_max_scaling(\n",
      "/u/81/mirandi1/unix/.local/lib/python3.10/site-packages/botorch/models/utils/assorted.py:260: InputDataWarning: Data is not standardized (std = tensor([0.9632], dtype=torch.float64), mean = tensor([0.6430], dtype=torch.float64)). Please consider scaling the input to zero mean and unit variance.\n",
      "  check_standardization(Y=train_Y, raise_on_fail=raise_on_fail)\n"
     ]
    },
    {
     "name": "stdout",
     "output_type": "stream",
     "text": [
      "Exploitation 93/200 - New sample: [1.96440903 4.60090935 0.01838547], Objective value: -1.5529059940706103\n"
     ]
    },
    {
     "name": "stderr",
     "output_type": "stream",
     "text": [
      "/u/81/mirandi1/unix/.local/lib/python3.10/site-packages/botorch/models/utils/assorted.py:257: InputDataWarning: Input data is not contained to the unit cube. Please consider min-max scaling the input data.\n",
      "  check_min_max_scaling(\n",
      "/u/81/mirandi1/unix/.local/lib/python3.10/site-packages/botorch/models/utils/assorted.py:260: InputDataWarning: Data is not standardized (std = tensor([0.9592], dtype=torch.float64), mean = tensor([0.6392], dtype=torch.float64)). Please consider scaling the input to zero mean and unit variance.\n",
      "  check_standardization(Y=train_Y, raise_on_fail=raise_on_fail)\n"
     ]
    },
    {
     "name": "stdout",
     "output_type": "stream",
     "text": [
      "Exploitation 94/200 - New sample: [2.37911652 5.25128508 0.5       ], Objective value: -2.975856862974674\n"
     ]
    },
    {
     "name": "stderr",
     "output_type": "stream",
     "text": [
      "/u/81/mirandi1/unix/.local/lib/python3.10/site-packages/botorch/models/utils/assorted.py:257: InputDataWarning: Input data is not contained to the unit cube. Please consider min-max scaling the input data.\n",
      "  check_min_max_scaling(\n",
      "/u/81/mirandi1/unix/.local/lib/python3.10/site-packages/botorch/models/utils/assorted.py:260: InputDataWarning: Data is not standardized (std = tensor([0.9546], dtype=torch.float64), mean = tensor([0.6405], dtype=torch.float64)). Please consider scaling the input to zero mean and unit variance.\n",
      "  check_standardization(Y=train_Y, raise_on_fail=raise_on_fail)\n"
     ]
    },
    {
     "name": "stdout",
     "output_type": "stream",
     "text": [
      "Exploitation 95/200 - New sample: [3.         5.76845599 0.5       ], Objective value: -2.584582361339311\n"
     ]
    },
    {
     "name": "stderr",
     "output_type": "stream",
     "text": [
      "/u/81/mirandi1/unix/.local/lib/python3.10/site-packages/botorch/models/utils/assorted.py:257: InputDataWarning: Input data is not contained to the unit cube. Please consider min-max scaling the input data.\n",
      "  check_min_max_scaling(\n",
      "/u/81/mirandi1/unix/.local/lib/python3.10/site-packages/botorch/models/utils/assorted.py:260: InputDataWarning: Data is not standardized (std = tensor([0.9511], dtype=torch.float64), mean = tensor([0.6451], dtype=torch.float64)). Please consider scaling the input to zero mean and unit variance.\n",
      "  check_standardization(Y=train_Y, raise_on_fail=raise_on_fail)\n"
     ]
    },
    {
     "name": "stdout",
     "output_type": "stream",
     "text": [
      "Exploitation 96/200 - New sample: [2.18855292 4.79071663 0.18829131], Objective value: -2.322768331882841\n"
     ]
    },
    {
     "name": "stderr",
     "output_type": "stream",
     "text": [
      "/u/81/mirandi1/unix/.local/lib/python3.10/site-packages/botorch/models/utils/assorted.py:257: InputDataWarning: Input data is not contained to the unit cube. Please consider min-max scaling the input data.\n",
      "  check_min_max_scaling(\n",
      "/u/81/mirandi1/unix/.local/lib/python3.10/site-packages/botorch/models/utils/assorted.py:260: InputDataWarning: Data is not standardized (std = tensor([0.9579], dtype=torch.float64), mean = tensor([0.6594], dtype=torch.float64)). Please consider scaling the input to zero mean and unit variance.\n",
      "  check_standardization(Y=train_Y, raise_on_fail=raise_on_fail)\n"
     ]
    },
    {
     "name": "stdout",
     "output_type": "stream",
     "text": [
      "Exploitation 97/200 - New sample: [1.9690162  4.60117141 0.01905577], Objective value: -1.5392833699206523\n"
     ]
    },
    {
     "name": "stderr",
     "output_type": "stream",
     "text": [
      "/u/81/mirandi1/unix/.local/lib/python3.10/site-packages/botorch/models/utils/assorted.py:257: InputDataWarning: Input data is not contained to the unit cube. Please consider min-max scaling the input data.\n",
      "  check_min_max_scaling(\n",
      "/u/81/mirandi1/unix/.local/lib/python3.10/site-packages/botorch/models/utils/assorted.py:260: InputDataWarning: Data is not standardized (std = tensor([0.9660], dtype=torch.float64), mean = tensor([0.6746], dtype=torch.float64)). Please consider scaling the input to zero mean and unit variance.\n",
      "  check_standardization(Y=train_Y, raise_on_fail=raise_on_fail)\n",
      "/u/81/mirandi1/unix/.local/lib/python3.10/site-packages/botorch/models/utils/assorted.py:257: InputDataWarning: Input data is not contained to the unit cube. Please consider min-max scaling the input data.\n",
      "  check_min_max_scaling(\n",
      "/u/81/mirandi1/unix/.local/lib/python3.10/site-packages/botorch/models/utils/assorted.py:260: InputDataWarning: Data is not standardized (std = tensor([0.9617], dtype=torch.float64), mean = tensor([0.6726], dtype=torch.float64)). Please consider scaling the input to zero mean and unit variance.\n",
      "  check_standardization(Y=train_Y, raise_on_fail=raise_on_fail)\n"
     ]
    },
    {
     "name": "stdout",
     "output_type": "stream",
     "text": [
      "Exploitation 98/200 - New sample: [2.00480624 4.60525031 0.03068978], Objective value: -1.4492202975173885\n",
      "Exploitation 99/200 - New sample: [1.30239833e+00 4.38610318e+00 1.00000000e-03], Objective value: -2.8245775724667275\n"
     ]
    },
    {
     "name": "stderr",
     "output_type": "stream",
     "text": [
      "/u/81/mirandi1/unix/.local/lib/python3.10/site-packages/botorch/models/utils/assorted.py:257: InputDataWarning: Input data is not contained to the unit cube. Please consider min-max scaling the input data.\n",
      "  check_min_max_scaling(\n",
      "/u/81/mirandi1/unix/.local/lib/python3.10/site-packages/botorch/models/utils/assorted.py:260: InputDataWarning: Data is not standardized (std = tensor([0.9711], dtype=torch.float64), mean = tensor([0.6883], dtype=torch.float64)). Please consider scaling the input to zero mean and unit variance.\n",
      "  check_standardization(Y=train_Y, raise_on_fail=raise_on_fail)\n",
      "/u/81/mirandi1/unix/.local/lib/python3.10/site-packages/botorch/models/utils/assorted.py:257: InputDataWarning: Input data is not contained to the unit cube. Please consider min-max scaling the input data.\n",
      "  check_min_max_scaling(\n",
      "/u/81/mirandi1/unix/.local/lib/python3.10/site-packages/botorch/models/utils/assorted.py:260: InputDataWarning: Data is not standardized (std = tensor([0.9671], dtype=torch.float64), mean = tensor([0.6852], dtype=torch.float64)). Please consider scaling the input to zero mean and unit variance.\n",
      "  check_standardization(Y=train_Y, raise_on_fail=raise_on_fail)\n"
     ]
    },
    {
     "name": "stdout",
     "output_type": "stream",
     "text": [
      "Exploitation 100/200 - New sample: [2.03031267 4.61360403 0.037724  ], Objective value: -1.372292188486217\n",
      "Exploitation 101/200 - New sample: [2.04941783e+00 4.16459867e+00 1.00000000e-03], Objective value: -2.9090954492985426\n"
     ]
    },
    {
     "name": "stderr",
     "output_type": "stream",
     "text": [
      "/u/81/mirandi1/unix/.local/lib/python3.10/site-packages/botorch/models/utils/assorted.py:257: InputDataWarning: Input data is not contained to the unit cube. Please consider min-max scaling the input data.\n",
      "  check_min_max_scaling(\n",
      "/u/81/mirandi1/unix/.local/lib/python3.10/site-packages/botorch/models/utils/assorted.py:260: InputDataWarning: Data is not standardized (std = tensor([0.9763], dtype=torch.float64), mean = tensor([0.7007], dtype=torch.float64)). Please consider scaling the input to zero mean and unit variance.\n",
      "  check_standardization(Y=train_Y, raise_on_fail=raise_on_fail)\n"
     ]
    },
    {
     "name": "stdout",
     "output_type": "stream",
     "text": [
      "Exploitation 102/200 - New sample: [2.04707888 4.62723475 0.04512195], Objective value: -1.3560815071401142\n"
     ]
    },
    {
     "name": "stderr",
     "output_type": "stream",
     "text": [
      "/u/81/mirandi1/unix/.local/lib/python3.10/site-packages/botorch/models/utils/assorted.py:257: InputDataWarning: Input data is not contained to the unit cube. Please consider min-max scaling the input data.\n",
      "  check_min_max_scaling(\n",
      "/u/81/mirandi1/unix/.local/lib/python3.10/site-packages/botorch/models/utils/assorted.py:260: InputDataWarning: Data is not standardized (std = tensor([0.9865], dtype=torch.float64), mean = tensor([0.7168], dtype=torch.float64)). Please consider scaling the input to zero mean and unit variance.\n",
      "  check_standardization(Y=train_Y, raise_on_fail=raise_on_fail)\n",
      "/u/81/mirandi1/unix/.local/lib/python3.10/site-packages/botorch/models/utils/assorted.py:257: InputDataWarning: Input data is not contained to the unit cube. Please consider min-max scaling the input data.\n",
      "  check_min_max_scaling(\n",
      "/u/81/mirandi1/unix/.local/lib/python3.10/site-packages/botorch/models/utils/assorted.py:260: InputDataWarning: Data is not standardized (std = tensor([0.9959], dtype=torch.float64), mean = tensor([0.7324], dtype=torch.float64)). Please consider scaling the input to zero mean and unit variance.\n",
      "  check_standardization(Y=train_Y, raise_on_fail=raise_on_fail)\n"
     ]
    },
    {
     "name": "stdout",
     "output_type": "stream",
     "text": [
      "Exploitation 103/200 - New sample: [2.05519806 4.61123045 0.05062118], Objective value: -1.288854356741606\n",
      "Exploitation 104/200 - New sample: [2.07486361 4.60635177 0.06668383], Objective value: -1.2995890021421768\n"
     ]
    },
    {
     "name": "stderr",
     "output_type": "stream",
     "text": [
      "/u/81/mirandi1/unix/.local/lib/python3.10/site-packages/botorch/models/utils/assorted.py:257: InputDataWarning: Input data is not contained to the unit cube. Please consider min-max scaling the input data.\n",
      "  check_min_max_scaling(\n",
      "/u/81/mirandi1/unix/.local/lib/python3.10/site-packages/botorch/models/utils/assorted.py:260: InputDataWarning: Data is not standardized (std = tensor([1.0047], dtype=torch.float64), mean = tensor([0.7477], dtype=torch.float64)). Please consider scaling the input to zero mean and unit variance.\n",
      "  check_standardization(Y=train_Y, raise_on_fail=raise_on_fail)\n"
     ]
    },
    {
     "name": "stdout",
     "output_type": "stream",
     "text": [
      "Exploitation 105/200 - New sample: [2.06316287 4.60176192 0.05540604], Objective value: -1.3035413633770165\n"
     ]
    },
    {
     "name": "stderr",
     "output_type": "stream",
     "text": [
      "/u/81/mirandi1/unix/.local/lib/python3.10/site-packages/botorch/models/utils/assorted.py:257: InputDataWarning: Input data is not contained to the unit cube. Please consider min-max scaling the input data.\n",
      "  check_min_max_scaling(\n",
      "/u/81/mirandi1/unix/.local/lib/python3.10/site-packages/botorch/models/utils/assorted.py:260: InputDataWarning: Data is not standardized (std = tensor([1.0121], dtype=torch.float64), mean = tensor([0.7622], dtype=torch.float64)). Please consider scaling the input to zero mean and unit variance.\n",
      "  check_standardization(Y=train_Y, raise_on_fail=raise_on_fail)\n"
     ]
    },
    {
     "name": "stdout",
     "output_type": "stream",
     "text": [
      "Exploitation 106/200 - New sample: [2.06076175 4.61418856 0.06337215], Objective value: -1.349102106830685\n"
     ]
    },
    {
     "name": "stderr",
     "output_type": "stream",
     "text": [
      "/u/81/mirandi1/unix/.local/lib/python3.10/site-packages/botorch/models/utils/assorted.py:257: InputDataWarning: Input data is not contained to the unit cube. Please consider min-max scaling the input data.\n",
      "  check_min_max_scaling(\n",
      "/u/81/mirandi1/unix/.local/lib/python3.10/site-packages/botorch/models/utils/assorted.py:260: InputDataWarning: Data is not standardized (std = tensor([1.0200], dtype=torch.float64), mean = tensor([0.7769], dtype=torch.float64)). Please consider scaling the input to zero mean and unit variance.\n",
      "  check_standardization(Y=train_Y, raise_on_fail=raise_on_fail)\n",
      "/u/81/mirandi1/unix/.local/lib/python3.10/site-packages/botorch/models/utils/assorted.py:257: InputDataWarning: Input data is not contained to the unit cube. Please consider min-max scaling the input data.\n",
      "  check_min_max_scaling(\n",
      "/u/81/mirandi1/unix/.local/lib/python3.10/site-packages/botorch/models/utils/assorted.py:260: InputDataWarning: Data is not standardized (std = tensor([1.0182], dtype=torch.float64), mean = tensor([0.7838], dtype=torch.float64)). Please consider scaling the input to zero mean and unit variance.\n",
      "  check_standardization(Y=train_Y, raise_on_fail=raise_on_fail)\n"
     ]
    },
    {
     "name": "stdout",
     "output_type": "stream",
     "text": [
      "Exploitation 107/200 - New sample: [2.07393765 4.60981906 0.04555738], Objective value: -1.3083417307267329\n",
      "Exploitation 108/200 - New sample: [2.42493643 4.71847185 0.26546747], Objective value: -1.9805686436025032\n"
     ]
    },
    {
     "name": "stderr",
     "output_type": "stream",
     "text": [
      "/u/81/mirandi1/unix/.local/lib/python3.10/site-packages/botorch/models/utils/assorted.py:257: InputDataWarning: Input data is not contained to the unit cube. Please consider min-max scaling the input data.\n",
      "  check_min_max_scaling(\n",
      "/u/81/mirandi1/unix/.local/lib/python3.10/site-packages/botorch/models/utils/assorted.py:260: InputDataWarning: Data is not standardized (std = tensor([1.0246], dtype=torch.float64), mean = tensor([0.7975], dtype=torch.float64)). Please consider scaling the input to zero mean and unit variance.\n",
      "  check_standardization(Y=train_Y, raise_on_fail=raise_on_fail)\n"
     ]
    },
    {
     "name": "stdout",
     "output_type": "stream",
     "text": [
      "Exploitation 109/200 - New sample: [2.09411961 4.58768738 0.07259451], Objective value: -1.3606545626802062\n"
     ]
    },
    {
     "name": "stderr",
     "output_type": "stream",
     "text": [
      "/u/81/mirandi1/unix/.local/lib/python3.10/site-packages/botorch/models/utils/assorted.py:257: InputDataWarning: Input data is not contained to the unit cube. Please consider min-max scaling the input data.\n",
      "  check_min_max_scaling(\n",
      "/u/81/mirandi1/unix/.local/lib/python3.10/site-packages/botorch/models/utils/assorted.py:260: InputDataWarning: Data is not standardized (std = tensor([1.0324], dtype=torch.float64), mean = tensor([0.8120], dtype=torch.float64)). Please consider scaling the input to zero mean and unit variance.\n",
      "  check_standardization(Y=train_Y, raise_on_fail=raise_on_fail)\n",
      "/u/81/mirandi1/unix/.local/lib/python3.10/site-packages/botorch/models/utils/assorted.py:257: InputDataWarning: Input data is not contained to the unit cube. Please consider min-max scaling the input data.\n",
      "  check_min_max_scaling(\n",
      "/u/81/mirandi1/unix/.local/lib/python3.10/site-packages/botorch/models/utils/assorted.py:260: InputDataWarning: Data is not standardized (std = tensor([1.0305], dtype=torch.float64), mean = tensor([0.8186], dtype=torch.float64)). Please consider scaling the input to zero mean and unit variance.\n",
      "  check_standardization(Y=train_Y, raise_on_fail=raise_on_fail)\n"
     ]
    },
    {
     "name": "stdout",
     "output_type": "stream",
     "text": [
      "Exploitation 110/200 - New sample: [2.07831925 4.60186837 0.05815532], Objective value: -1.2599461788049868\n",
      "Exploitation 111/200 - New sample: [2.61338117 4.70728447 0.23563863], Objective value: -1.9630049809599621\n"
     ]
    },
    {
     "name": "stderr",
     "output_type": "stream",
     "text": [
      "/u/81/mirandi1/unix/.local/lib/python3.10/site-packages/botorch/models/utils/assorted.py:257: InputDataWarning: Input data is not contained to the unit cube. Please consider min-max scaling the input data.\n",
      "  check_min_max_scaling(\n",
      "/u/81/mirandi1/unix/.local/lib/python3.10/site-packages/botorch/models/utils/assorted.py:260: InputDataWarning: Data is not standardized (std = tensor([1.0264], dtype=torch.float64), mean = tensor([0.8207], dtype=torch.float64)). Please consider scaling the input to zero mean and unit variance.\n",
      "  check_standardization(Y=train_Y, raise_on_fail=raise_on_fail)\n"
     ]
    },
    {
     "name": "stdout",
     "output_type": "stream",
     "text": [
      "Exploitation 112/200 - New sample: [2.53937093 4.72070453 0.35660655], Objective value: -2.3612187046340902\n"
     ]
    },
    {
     "name": "stderr",
     "output_type": "stream",
     "text": [
      "/u/81/mirandi1/unix/.local/lib/python3.10/site-packages/botorch/models/utils/assorted.py:257: InputDataWarning: Input data is not contained to the unit cube. Please consider min-max scaling the input data.\n",
      "  check_min_max_scaling(\n",
      "/u/81/mirandi1/unix/.local/lib/python3.10/site-packages/botorch/models/utils/assorted.py:260: InputDataWarning: Data is not standardized (std = tensor([1.0222], dtype=torch.float64), mean = tensor([0.8204], dtype=torch.float64)). Please consider scaling the input to zero mean and unit variance.\n",
      "  check_standardization(Y=train_Y, raise_on_fail=raise_on_fail)\n",
      "/u/81/mirandi1/unix/.local/lib/python3.10/site-packages/botorch/models/utils/assorted.py:257: InputDataWarning: Input data is not contained to the unit cube. Please consider min-max scaling the input data.\n",
      "  check_min_max_scaling(\n",
      "/u/81/mirandi1/unix/.local/lib/python3.10/site-packages/botorch/models/utils/assorted.py:260: InputDataWarning: Data is not standardized (std = tensor([1.0180], dtype=torch.float64), mean = tensor([0.8217], dtype=torch.float64)). Please consider scaling the input to zero mean and unit variance.\n",
      "  check_standardization(Y=train_Y, raise_on_fail=raise_on_fail)\n"
     ]
    },
    {
     "name": "stdout",
     "output_type": "stream",
     "text": [
      "Exploitation 113/200 - New sample: [2.6796555  4.55873466 0.22003012], Objective value: -2.571210019512445\n",
      "Exploitation 114/200 - New sample: [2.50467826 4.72014397 0.13505713], Objective value: -2.4346701310591237\n"
     ]
    },
    {
     "name": "stderr",
     "output_type": "stream",
     "text": [
      "/u/81/mirandi1/unix/.local/lib/python3.10/site-packages/botorch/models/utils/assorted.py:257: InputDataWarning: Input data is not contained to the unit cube. Please consider min-max scaling the input data.\n",
      "  check_min_max_scaling(\n",
      "/u/81/mirandi1/unix/.local/lib/python3.10/site-packages/botorch/models/utils/assorted.py:260: InputDataWarning: Data is not standardized (std = tensor([1.0150], dtype=torch.float64), mean = tensor([0.8261], dtype=torch.float64)). Please consider scaling the input to zero mean and unit variance.\n",
      "  check_standardization(Y=train_Y, raise_on_fail=raise_on_fail)\n"
     ]
    },
    {
     "name": "stdout",
     "output_type": "stream",
     "text": [
      "Exploitation 115/200 - New sample: [2.31481248 4.59033924 0.2284174 ], Objective value: -2.133826985495154\n"
     ]
    },
    {
     "name": "stderr",
     "output_type": "stream",
     "text": [
      "/u/81/mirandi1/unix/.local/lib/python3.10/site-packages/botorch/models/utils/assorted.py:257: InputDataWarning: Input data is not contained to the unit cube. Please consider min-max scaling the input data.\n",
      "  check_min_max_scaling(\n",
      "/u/81/mirandi1/unix/.local/lib/python3.10/site-packages/botorch/models/utils/assorted.py:260: InputDataWarning: Data is not standardized (std = tensor([1.0212], dtype=torch.float64), mean = tensor([0.8391], dtype=torch.float64)). Please consider scaling the input to zero mean and unit variance.\n",
      "  check_standardization(Y=train_Y, raise_on_fail=raise_on_fail)\n"
     ]
    },
    {
     "name": "stdout",
     "output_type": "stream",
     "text": [
      "Exploitation 116/200 - New sample: [2.08020945 4.59527576 0.05506627], Objective value: -1.3208907186218621\n"
     ]
    },
    {
     "name": "stderr",
     "output_type": "stream",
     "text": [
      "/u/81/mirandi1/unix/.local/lib/python3.10/site-packages/botorch/models/utils/assorted.py:257: InputDataWarning: Input data is not contained to the unit cube. Please consider min-max scaling the input data.\n",
      "  check_min_max_scaling(\n",
      "/u/81/mirandi1/unix/.local/lib/python3.10/site-packages/botorch/models/utils/assorted.py:260: InputDataWarning: Data is not standardized (std = tensor([1.0300], dtype=torch.float64), mean = tensor([0.8536], dtype=torch.float64)). Please consider scaling the input to zero mean and unit variance.\n",
      "  check_standardization(Y=train_Y, raise_on_fail=raise_on_fail)\n"
     ]
    },
    {
     "name": "stdout",
     "output_type": "stream",
     "text": [
      "Exploitation 117/200 - New sample: [2.09369578 4.61508409 0.06500829], Objective value: -1.157681700228992\n"
     ]
    },
    {
     "name": "stderr",
     "output_type": "stream",
     "text": [
      "/u/81/mirandi1/unix/.local/lib/python3.10/site-packages/botorch/models/utils/assorted.py:257: InputDataWarning: Input data is not contained to the unit cube. Please consider min-max scaling the input data.\n",
      "  check_min_max_scaling(\n",
      "/u/81/mirandi1/unix/.local/lib/python3.10/site-packages/botorch/models/utils/assorted.py:260: InputDataWarning: Data is not standardized (std = tensor([1.0381], dtype=torch.float64), mean = tensor([0.8678], dtype=torch.float64)). Please consider scaling the input to zero mean and unit variance.\n",
      "  check_standardization(Y=train_Y, raise_on_fail=raise_on_fail)\n"
     ]
    },
    {
     "name": "stdout",
     "output_type": "stream",
     "text": [
      "Exploitation 118/200 - New sample: [2.11248441 4.62981776 0.0793889 ], Objective value: -1.170883278682651\n"
     ]
    },
    {
     "name": "stderr",
     "output_type": "stream",
     "text": [
      "/u/81/mirandi1/unix/.local/lib/python3.10/site-packages/botorch/models/utils/assorted.py:257: InputDataWarning: Input data is not contained to the unit cube. Please consider min-max scaling the input data.\n",
      "  check_min_max_scaling(\n",
      "/u/81/mirandi1/unix/.local/lib/python3.10/site-packages/botorch/models/utils/assorted.py:260: InputDataWarning: Data is not standardized (std = tensor([1.0468], dtype=torch.float64), mean = tensor([0.8823], dtype=torch.float64)). Please consider scaling the input to zero mean and unit variance.\n",
      "  check_standardization(Y=train_Y, raise_on_fail=raise_on_fail)\n"
     ]
    },
    {
     "name": "stdout",
     "output_type": "stream",
     "text": [
      "Exploitation 119/200 - New sample: [2.1032486  4.6221512  0.06823663], Objective value: -1.112541091485632\n"
     ]
    },
    {
     "name": "stderr",
     "output_type": "stream",
     "text": [
      "/u/81/mirandi1/unix/.local/lib/python3.10/site-packages/botorch/models/utils/assorted.py:257: InputDataWarning: Input data is not contained to the unit cube. Please consider min-max scaling the input data.\n",
      "  check_min_max_scaling(\n",
      "/u/81/mirandi1/unix/.local/lib/python3.10/site-packages/botorch/models/utils/assorted.py:260: InputDataWarning: Data is not standardized (std = tensor([1.0550], dtype=torch.float64), mean = tensor([0.8965], dtype=torch.float64)). Please consider scaling the input to zero mean and unit variance.\n",
      "  check_standardization(Y=train_Y, raise_on_fail=raise_on_fail)\n",
      "/u/81/mirandi1/unix/.local/lib/python3.10/site-packages/botorch/models/utils/assorted.py:257: InputDataWarning: Input data is not contained to the unit cube. Please consider min-max scaling the input data.\n",
      "  check_min_max_scaling(\n",
      "/u/81/mirandi1/unix/.local/lib/python3.10/site-packages/botorch/models/utils/assorted.py:260: InputDataWarning: Data is not standardized (std = tensor([1.0510], dtype=torch.float64), mean = tensor([0.8957], dtype=torch.float64)). Please consider scaling the input to zero mean and unit variance.\n",
      "  check_standardization(Y=train_Y, raise_on_fail=raise_on_fail)\n"
     ]
    },
    {
     "name": "stdout",
     "output_type": "stream",
     "text": [
      "Exploitation 120/200 - New sample: [2.10432147 4.62993227 0.06429069], Objective value: -1.1221961384870778\n",
      "Exploitation 121/200 - New sample: [2.70231592 4.88602264 0.26927135], Objective value: -2.5746541653744823\n"
     ]
    },
    {
     "name": "stderr",
     "output_type": "stream",
     "text": [
      "/u/81/mirandi1/unix/.local/lib/python3.10/site-packages/botorch/models/utils/assorted.py:257: InputDataWarning: Input data is not contained to the unit cube. Please consider min-max scaling the input data.\n",
      "  check_min_max_scaling(\n",
      "/u/81/mirandi1/unix/.local/lib/python3.10/site-packages/botorch/models/utils/assorted.py:260: InputDataWarning: Data is not standardized (std = tensor([1.0587], dtype=torch.float64), mean = tensor([0.9095], dtype=torch.float64)). Please consider scaling the input to zero mean and unit variance.\n",
      "  check_standardization(Y=train_Y, raise_on_fail=raise_on_fail)\n"
     ]
    },
    {
     "name": "stdout",
     "output_type": "stream",
     "text": [
      "Exploitation 122/200 - New sample: [2.10146781 4.62637158 0.0684268 ], Objective value: -1.1291780182926545\n"
     ]
    },
    {
     "name": "stderr",
     "output_type": "stream",
     "text": [
      "/u/81/mirandi1/unix/.local/lib/python3.10/site-packages/botorch/models/utils/assorted.py:257: InputDataWarning: Input data is not contained to the unit cube. Please consider min-max scaling the input data.\n",
      "  check_min_max_scaling(\n",
      "/u/81/mirandi1/unix/.local/lib/python3.10/site-packages/botorch/models/utils/assorted.py:260: InputDataWarning: Data is not standardized (std = tensor([1.0609], dtype=torch.float64), mean = tensor([0.9196], dtype=torch.float64)). Please consider scaling the input to zero mean and unit variance.\n",
      "  check_standardization(Y=train_Y, raise_on_fail=raise_on_fail)\n"
     ]
    },
    {
     "name": "stdout",
     "output_type": "stream",
     "text": [
      "Exploitation 123/200 - New sample: [2.11199885 4.66630146 0.06729521], Objective value: -1.4796525621713004\n"
     ]
    },
    {
     "name": "stderr",
     "output_type": "stream",
     "text": [
      "/u/81/mirandi1/unix/.local/lib/python3.10/site-packages/botorch/models/utils/assorted.py:257: InputDataWarning: Input data is not contained to the unit cube. Please consider min-max scaling the input data.\n",
      "  check_min_max_scaling(\n",
      "/u/81/mirandi1/unix/.local/lib/python3.10/site-packages/botorch/models/utils/assorted.py:260: InputDataWarning: Data is not standardized (std = tensor([1.0686], dtype=torch.float64), mean = tensor([0.9334], dtype=torch.float64)). Please consider scaling the input to zero mean and unit variance.\n",
      "  check_standardization(Y=train_Y, raise_on_fail=raise_on_fail)\n"
     ]
    },
    {
     "name": "stdout",
     "output_type": "stream",
     "text": [
      "Exploitation 124/200 - New sample: [2.10946095 4.62131242 0.06502128], Objective value: -1.0923979477106758\n"
     ]
    },
    {
     "name": "stderr",
     "output_type": "stream",
     "text": [
      "/u/81/mirandi1/unix/.local/lib/python3.10/site-packages/botorch/models/utils/assorted.py:257: InputDataWarning: Input data is not contained to the unit cube. Please consider min-max scaling the input data.\n",
      "  check_min_max_scaling(\n",
      "/u/81/mirandi1/unix/.local/lib/python3.10/site-packages/botorch/models/utils/assorted.py:260: InputDataWarning: Data is not standardized (std = tensor([1.0725], dtype=torch.float64), mean = tensor([0.9446], dtype=torch.float64)). Please consider scaling the input to zero mean and unit variance.\n",
      "  check_standardization(Y=train_Y, raise_on_fail=raise_on_fail)\n"
     ]
    },
    {
     "name": "stdout",
     "output_type": "stream",
     "text": [
      "Exploitation 125/200 - New sample: [2.16421548 4.60825442 0.11360171], Objective value: -1.3263972174920455\n"
     ]
    },
    {
     "name": "stderr",
     "output_type": "stream",
     "text": [
      "/u/81/mirandi1/unix/.local/lib/python3.10/site-packages/botorch/models/utils/assorted.py:257: InputDataWarning: Input data is not contained to the unit cube. Please consider min-max scaling the input data.\n",
      "  check_min_max_scaling(\n",
      "/u/81/mirandi1/unix/.local/lib/python3.10/site-packages/botorch/models/utils/assorted.py:260: InputDataWarning: Data is not standardized (std = tensor([1.0707], dtype=torch.float64), mean = tensor([0.9507], dtype=torch.float64)). Please consider scaling the input to zero mean and unit variance.\n",
      "  check_standardization(Y=train_Y, raise_on_fail=raise_on_fail)\n",
      "/u/81/mirandi1/unix/.local/lib/python3.10/site-packages/botorch/models/utils/assorted.py:257: InputDataWarning: Input data is not contained to the unit cube. Please consider min-max scaling the input data.\n",
      "  check_min_max_scaling(\n",
      "/u/81/mirandi1/unix/.local/lib/python3.10/site-packages/botorch/models/utils/assorted.py:260: InputDataWarning: Data is not standardized (std = tensor([1.0699], dtype=torch.float64), mean = tensor([0.9436], dtype=torch.float64)). Please consider scaling the input to zero mean and unit variance.\n",
      "  check_standardization(Y=train_Y, raise_on_fail=raise_on_fail)\n"
     ]
    },
    {
     "name": "stdout",
     "output_type": "stream",
     "text": [
      "Exploitation 126/200 - New sample: [2.19996558 4.64914259 0.16238681], Objective value: -1.8363365698214775\n",
      "Exploitation 127/200 - New sample: [1.         5.44855922 0.26212835], Objective value: -3.1756255086810805\n"
     ]
    },
    {
     "name": "stderr",
     "output_type": "stream",
     "text": [
      "/u/81/mirandi1/unix/.local/lib/python3.10/site-packages/botorch/models/utils/assorted.py:257: InputDataWarning: Input data is not contained to the unit cube. Please consider min-max scaling the input data.\n",
      "  check_min_max_scaling(\n",
      "/u/81/mirandi1/unix/.local/lib/python3.10/site-packages/botorch/models/utils/assorted.py:260: InputDataWarning: Data is not standardized (std = tensor([1.0772], dtype=torch.float64), mean = tensor([0.9569], dtype=torch.float64)). Please consider scaling the input to zero mean and unit variance.\n",
      "  check_standardization(Y=train_Y, raise_on_fail=raise_on_fail)\n"
     ]
    },
    {
     "name": "stdout",
     "output_type": "stream",
     "text": [
      "Exploitation 128/200 - New sample: [2.11647148 4.61813941 0.06607348], Objective value: -1.0825113354108336\n",
      "Exploitation 129/200 - New sample: [1.53448828 5.17607182 0.20681054], Objective value: -2.9689382913008444\n"
     ]
    },
    {
     "name": "stderr",
     "output_type": "stream",
     "text": [
      "/u/81/mirandi1/unix/.local/lib/python3.10/site-packages/botorch/models/utils/assorted.py:257: InputDataWarning: Input data is not contained to the unit cube. Please consider min-max scaling the input data.\n",
      "  check_min_max_scaling(\n",
      "/u/81/mirandi1/unix/.local/lib/python3.10/site-packages/botorch/models/utils/assorted.py:260: InputDataWarning: Data is not standardized (std = tensor([1.0748], dtype=torch.float64), mean = tensor([0.9519], dtype=torch.float64)). Please consider scaling the input to zero mean and unit variance.\n",
      "  check_standardization(Y=train_Y, raise_on_fail=raise_on_fail)\n",
      "/u/81/mirandi1/unix/.local/lib/python3.10/site-packages/botorch/models/utils/assorted.py:257: InputDataWarning: Input data is not contained to the unit cube. Please consider min-max scaling the input data.\n",
      "  check_min_max_scaling(\n",
      "/u/81/mirandi1/unix/.local/lib/python3.10/site-packages/botorch/models/utils/assorted.py:260: InputDataWarning: Data is not standardized (std = tensor([1.0822], dtype=torch.float64), mean = tensor([0.9652], dtype=torch.float64)). Please consider scaling the input to zero mean and unit variance.\n",
      "  check_standardization(Y=train_Y, raise_on_fail=raise_on_fail)\n",
      "/u/81/mirandi1/unix/.local/lib/python3.10/site-packages/botorch/models/utils/assorted.py:257: InputDataWarning: Input data is not contained to the unit cube. Please consider min-max scaling the input data.\n",
      "  check_min_max_scaling(\n",
      "/u/81/mirandi1/unix/.local/lib/python3.10/site-packages/botorch/models/utils/assorted.py:260: InputDataWarning: Data is not standardized (std = tensor([1.0791], dtype=torch.float64), mean = tensor([0.9615], dtype=torch.float64)). Please consider scaling the input to zero mean and unit variance.\n",
      "  check_standardization(Y=train_Y, raise_on_fail=raise_on_fail)\n"
     ]
    },
    {
     "name": "stdout",
     "output_type": "stream",
     "text": [
      "Exploitation 130/200 - New sample: [2.12452038 4.61580174 0.07064487], Objective value: -1.0604084073934785\n",
      "Exploitation 131/200 - New sample: [1.53491212e+00 4.79018060e+00 1.00000000e-03], Objective value: -2.829631289894024\n"
     ]
    },
    {
     "name": "stderr",
     "output_type": "stream",
     "text": [
      "/u/81/mirandi1/unix/.local/lib/python3.10/site-packages/botorch/models/utils/assorted.py:257: InputDataWarning: Input data is not contained to the unit cube. Please consider min-max scaling the input data.\n",
      "  check_min_max_scaling(\n",
      "/u/81/mirandi1/unix/.local/lib/python3.10/site-packages/botorch/models/utils/assorted.py:260: InputDataWarning: Data is not standardized (std = tensor([1.0862], dtype=torch.float64), mean = tensor([0.9745], dtype=torch.float64)). Please consider scaling the input to zero mean and unit variance.\n",
      "  check_standardization(Y=train_Y, raise_on_fail=raise_on_fail)\n"
     ]
    },
    {
     "name": "stdout",
     "output_type": "stream",
     "text": [
      "Exploitation 132/200 - New sample: [2.1324921  4.61229269 0.07447578], Objective value: -1.0604560525433573\n"
     ]
    },
    {
     "name": "stderr",
     "output_type": "stream",
     "text": [
      "/u/81/mirandi1/unix/.local/lib/python3.10/site-packages/botorch/models/utils/assorted.py:257: InputDataWarning: Input data is not contained to the unit cube. Please consider min-max scaling the input data.\n",
      "  check_min_max_scaling(\n",
      "/u/81/mirandi1/unix/.local/lib/python3.10/site-packages/botorch/models/utils/assorted.py:260: InputDataWarning: Data is not standardized (std = tensor([1.0933], dtype=torch.float64), mean = tensor([0.9875], dtype=torch.float64)). Please consider scaling the input to zero mean and unit variance.\n",
      "  check_standardization(Y=train_Y, raise_on_fail=raise_on_fail)\n"
     ]
    },
    {
     "name": "stdout",
     "output_type": "stream",
     "text": [
      "Exploitation 133/200 - New sample: [2.13114117 4.6167654  0.07225512], Objective value: -1.0422178484101634\n"
     ]
    },
    {
     "name": "stderr",
     "output_type": "stream",
     "text": [
      "/u/81/mirandi1/unix/.local/lib/python3.10/site-packages/botorch/models/utils/assorted.py:257: InputDataWarning: Input data is not contained to the unit cube. Please consider min-max scaling the input data.\n",
      "  check_min_max_scaling(\n",
      "/u/81/mirandi1/unix/.local/lib/python3.10/site-packages/botorch/models/utils/assorted.py:260: InputDataWarning: Data is not standardized (std = tensor([1.1005], dtype=torch.float64), mean = tensor([1.0005], dtype=torch.float64)). Please consider scaling the input to zero mean and unit variance.\n",
      "  check_standardization(Y=train_Y, raise_on_fail=raise_on_fail)\n",
      "/u/81/mirandi1/unix/.local/lib/python3.10/site-packages/botorch/models/utils/assorted.py:257: InputDataWarning: Input data is not contained to the unit cube. Please consider min-max scaling the input data.\n",
      "  check_min_max_scaling(\n",
      "/u/81/mirandi1/unix/.local/lib/python3.10/site-packages/botorch/models/utils/assorted.py:260: InputDataWarning: Data is not standardized (std = tensor([1.0994], dtype=torch.float64), mean = tensor([0.9941], dtype=torch.float64)). Please consider scaling the input to zero mean and unit variance.\n",
      "  check_standardization(Y=train_Y, raise_on_fail=raise_on_fail)\n"
     ]
    },
    {
     "name": "stdout",
     "output_type": "stream",
     "text": [
      "Exploitation 134/200 - New sample: [2.13624251 4.62131205 0.0727286 ], Objective value: -1.0114227904377928\n",
      "Exploitation 135/200 - New sample: [2.03641858 5.67872393 0.5       ], Objective value: -3.1163772464946207\n"
     ]
    },
    {
     "name": "stderr",
     "output_type": "stream",
     "text": [
      "/u/81/mirandi1/unix/.local/lib/python3.10/site-packages/botorch/models/utils/assorted.py:257: InputDataWarning: Input data is not contained to the unit cube. Please consider min-max scaling the input data.\n",
      "  check_min_max_scaling(\n",
      "/u/81/mirandi1/unix/.local/lib/python3.10/site-packages/botorch/models/utils/assorted.py:260: InputDataWarning: Data is not standardized (std = tensor([1.1069], dtype=torch.float64), mean = tensor([1.0072], dtype=torch.float64)). Please consider scaling the input to zero mean and unit variance.\n",
      "  check_standardization(Y=train_Y, raise_on_fail=raise_on_fail)\n"
     ]
    },
    {
     "name": "stdout",
     "output_type": "stream",
     "text": [
      "Exploitation 136/200 - New sample: [2.14416971 4.62444394 0.07533191], Objective value: -0.9763261148506568\n"
     ]
    },
    {
     "name": "stderr",
     "output_type": "stream",
     "text": [
      "/u/81/mirandi1/unix/.local/lib/python3.10/site-packages/botorch/models/utils/assorted.py:257: InputDataWarning: Input data is not contained to the unit cube. Please consider min-max scaling the input data.\n",
      "  check_min_max_scaling(\n",
      "/u/81/mirandi1/unix/.local/lib/python3.10/site-packages/botorch/models/utils/assorted.py:260: InputDataWarning: Data is not standardized (std = tensor([1.1142], dtype=torch.float64), mean = tensor([1.0203], dtype=torch.float64)). Please consider scaling the input to zero mean and unit variance.\n",
      "  check_standardization(Y=train_Y, raise_on_fail=raise_on_fail)\n"
     ]
    },
    {
     "name": "stdout",
     "output_type": "stream",
     "text": [
      "Exploitation 137/200 - New sample: [2.15010952 4.62682226 0.07551794], Objective value: -0.9684832664621463\n"
     ]
    },
    {
     "name": "stderr",
     "output_type": "stream",
     "text": [
      "/u/81/mirandi1/unix/.local/lib/python3.10/site-packages/botorch/models/utils/assorted.py:257: InputDataWarning: Input data is not contained to the unit cube. Please consider min-max scaling the input data.\n",
      "  check_min_max_scaling(\n",
      "/u/81/mirandi1/unix/.local/lib/python3.10/site-packages/botorch/models/utils/assorted.py:260: InputDataWarning: Data is not standardized (std = tensor([1.1134], dtype=torch.float64), mean = tensor([1.0136], dtype=torch.float64)). Please consider scaling the input to zero mean and unit variance.\n",
      "  check_standardization(Y=train_Y, raise_on_fail=raise_on_fail)\n",
      "/u/81/mirandi1/unix/.local/lib/python3.10/site-packages/botorch/models/utils/assorted.py:257: InputDataWarning: Input data is not contained to the unit cube. Please consider min-max scaling the input data.\n",
      "  check_min_max_scaling(\n",
      "/u/81/mirandi1/unix/.local/lib/python3.10/site-packages/botorch/models/utils/assorted.py:260: InputDataWarning: Data is not standardized (std = tensor([1.1116], dtype=torch.float64), mean = tensor([1.0081], dtype=torch.float64)). Please consider scaling the input to zero mean and unit variance.\n",
      "  check_standardization(Y=train_Y, raise_on_fail=raise_on_fail)\n"
     ]
    },
    {
     "name": "stdout",
     "output_type": "stream",
     "text": [
      "Exploitation 138/200 - New sample: [1.18338495 4.91664597 0.24962864], Objective value: -3.1419410515125716\n",
      "Exploitation 139/200 - New sample: [2.34650245 4.69845131 0.5       ], Objective value: -3.0183914027477527\n"
     ]
    },
    {
     "name": "stderr",
     "output_type": "stream",
     "text": [
      "/u/81/mirandi1/unix/.local/lib/python3.10/site-packages/botorch/models/utils/assorted.py:257: InputDataWarning: Input data is not contained to the unit cube. Please consider min-max scaling the input data.\n",
      "  check_min_max_scaling(\n",
      "/u/81/mirandi1/unix/.local/lib/python3.10/site-packages/botorch/models/utils/assorted.py:260: InputDataWarning: Data is not standardized (std = tensor([1.1096], dtype=torch.float64), mean = tensor([1.0028], dtype=torch.float64)). Please consider scaling the input to zero mean and unit variance.\n",
      "  check_standardization(Y=train_Y, raise_on_fail=raise_on_fail)\n"
     ]
    },
    {
     "name": "stdout",
     "output_type": "stream",
     "text": [
      "Exploitation 140/200 - New sample: [2.38874495 4.         0.31281878], Objective value: -2.9972974556689063\n"
     ]
    },
    {
     "name": "stderr",
     "output_type": "stream",
     "text": [
      "/u/81/mirandi1/unix/.local/lib/python3.10/site-packages/botorch/models/utils/assorted.py:257: InputDataWarning: Input data is not contained to the unit cube. Please consider min-max scaling the input data.\n",
      "  check_min_max_scaling(\n",
      "/u/81/mirandi1/unix/.local/lib/python3.10/site-packages/botorch/models/utils/assorted.py:260: InputDataWarning: Data is not standardized (std = tensor([1.1178], dtype=torch.float64), mean = tensor([1.0162], dtype=torch.float64)). Please consider scaling the input to zero mean and unit variance.\n",
      "  check_standardization(Y=train_Y, raise_on_fail=raise_on_fail)\n"
     ]
    },
    {
     "name": "stdout",
     "output_type": "stream",
     "text": [
      "Exploitation 141/200 - New sample: [2.15119947 4.62870168 0.08032212], Objective value: -0.9007779473034341\n",
      "Exploitation 142/200 - New sample: [1.60873635 4.50328802 0.22207143], Objective value: -2.986379007596377\n"
     ]
    },
    {
     "name": "stderr",
     "output_type": "stream",
     "text": [
      "/u/81/mirandi1/unix/.local/lib/python3.10/site-packages/botorch/models/utils/assorted.py:257: InputDataWarning: Input data is not contained to the unit cube. Please consider min-max scaling the input data.\n",
      "  check_min_max_scaling(\n",
      "/u/81/mirandi1/unix/.local/lib/python3.10/site-packages/botorch/models/utils/assorted.py:260: InputDataWarning: Data is not standardized (std = tensor([1.1158], dtype=torch.float64), mean = tensor([1.0110], dtype=torch.float64)). Please consider scaling the input to zero mean and unit variance.\n",
      "  check_standardization(Y=train_Y, raise_on_fail=raise_on_fail)\n",
      "/u/81/mirandi1/unix/.local/lib/python3.10/site-packages/botorch/models/utils/assorted.py:257: InputDataWarning: Input data is not contained to the unit cube. Please consider min-max scaling the input data.\n",
      "  check_min_max_scaling(\n",
      "/u/81/mirandi1/unix/.local/lib/python3.10/site-packages/botorch/models/utils/assorted.py:260: InputDataWarning: Data is not standardized (std = tensor([1.1150], dtype=torch.float64), mean = tensor([1.0045], dtype=torch.float64)). Please consider scaling the input to zero mean and unit variance.\n",
      "  check_standardization(Y=train_Y, raise_on_fail=raise_on_fail)\n"
     ]
    },
    {
     "name": "stdout",
     "output_type": "stream",
     "text": [
      "Exploitation 143/200 - New sample: [1.92929387 4.85655078 0.5       ], Objective value: -3.14436521389347\n"
     ]
    },
    {
     "name": "stderr",
     "output_type": "stream",
     "text": [
      "/u/81/mirandi1/unix/.local/lib/python3.10/site-packages/botorch/models/utils/assorted.py:257: InputDataWarning: Input data is not contained to the unit cube. Please consider min-max scaling the input data.\n",
      "  check_min_max_scaling(\n",
      "/u/81/mirandi1/unix/.local/lib/python3.10/site-packages/botorch/models/utils/assorted.py:260: InputDataWarning: Data is not standardized (std = tensor([1.1129], dtype=torch.float64), mean = tensor([1.0095], dtype=torch.float64)). Please consider scaling the input to zero mean and unit variance.\n",
      "  check_standardization(Y=train_Y, raise_on_fail=raise_on_fail)\n"
     ]
    },
    {
     "name": "stdout",
     "output_type": "stream",
     "text": [
      "Exploitation 144/200 - New sample: [2.49436317 4.60339919 0.23451761], Objective value: -1.8367052087945586\n"
     ]
    },
    {
     "name": "stderr",
     "output_type": "stream",
     "text": [
      "/u/81/mirandi1/unix/.local/lib/python3.10/site-packages/botorch/models/utils/assorted.py:257: InputDataWarning: Input data is not contained to the unit cube. Please consider min-max scaling the input data.\n",
      "  check_min_max_scaling(\n",
      "/u/81/mirandi1/unix/.local/lib/python3.10/site-packages/botorch/models/utils/assorted.py:260: InputDataWarning: Data is not standardized (std = tensor([1.1093], dtype=torch.float64), mean = tensor([1.0090], dtype=torch.float64)). Please consider scaling the input to zero mean and unit variance.\n",
      "  check_standardization(Y=train_Y, raise_on_fail=raise_on_fail)\n",
      "/u/81/mirandi1/unix/.local/lib/python3.10/site-packages/botorch/models/utils/assorted.py:257: InputDataWarning: Input data is not contained to the unit cube. Please consider min-max scaling the input data.\n",
      "  check_min_max_scaling(\n",
      "/u/81/mirandi1/unix/.local/lib/python3.10/site-packages/botorch/models/utils/assorted.py:260: InputDataWarning: Data is not standardized (std = tensor([1.1088], dtype=torch.float64), mean = tensor([1.0157], dtype=torch.float64)). Please consider scaling the input to zero mean and unit variance.\n",
      "  check_standardization(Y=train_Y, raise_on_fail=raise_on_fail)\n"
     ]
    },
    {
     "name": "stdout",
     "output_type": "stream",
     "text": [
      "Exploitation 145/200 - New sample: [2.41351005 4.42216725 0.21252582], Objective value: -2.4704435364068225\n",
      "Exploitation 146/200 - New sample: [2.50642302 4.66160415 0.24738884], Objective value: -1.6162250650288856\n"
     ]
    },
    {
     "name": "stderr",
     "output_type": "stream",
     "text": [
      "/u/81/mirandi1/unix/.local/lib/python3.10/site-packages/botorch/models/utils/assorted.py:257: InputDataWarning: Input data is not contained to the unit cube. Please consider min-max scaling the input data.\n",
      "  check_min_max_scaling(\n",
      "/u/81/mirandi1/unix/.local/lib/python3.10/site-packages/botorch/models/utils/assorted.py:260: InputDataWarning: Data is not standardized (std = tensor([1.1168], dtype=torch.float64), mean = tensor([1.0286], dtype=torch.float64)). Please consider scaling the input to zero mean and unit variance.\n",
      "  check_standardization(Y=train_Y, raise_on_fail=raise_on_fail)\n"
     ]
    },
    {
     "name": "stdout",
     "output_type": "stream",
     "text": [
      "Exploitation 147/200 - New sample: [2.15417403 4.63456832 0.08690011], Objective value: -0.8840605067042672\n"
     ]
    },
    {
     "name": "stderr",
     "output_type": "stream",
     "text": [
      "/u/81/mirandi1/unix/.local/lib/python3.10/site-packages/botorch/models/utils/assorted.py:257: InputDataWarning: Input data is not contained to the unit cube. Please consider min-max scaling the input data.\n",
      "  check_min_max_scaling(\n",
      "/u/81/mirandi1/unix/.local/lib/python3.10/site-packages/botorch/models/utils/assorted.py:260: InputDataWarning: Data is not standardized (std = tensor([1.1241], dtype=torch.float64), mean = tensor([1.0411], dtype=torch.float64)). Please consider scaling the input to zero mean and unit variance.\n",
      "  check_standardization(Y=train_Y, raise_on_fail=raise_on_fail)\n"
     ]
    },
    {
     "name": "stdout",
     "output_type": "stream",
     "text": [
      "Exploitation 148/200 - New sample: [2.15205033 4.63235756 0.0876399 ], Objective value: -0.9107892249981674\n"
     ]
    },
    {
     "name": "stderr",
     "output_type": "stream",
     "text": [
      "/u/81/mirandi1/unix/.local/lib/python3.10/site-packages/botorch/models/utils/assorted.py:257: InputDataWarning: Input data is not contained to the unit cube. Please consider min-max scaling the input data.\n",
      "  check_min_max_scaling(\n",
      "/u/81/mirandi1/unix/.local/lib/python3.10/site-packages/botorch/models/utils/assorted.py:260: InputDataWarning: Data is not standardized (std = tensor([1.1316], dtype=torch.float64), mean = tensor([1.0537], dtype=torch.float64)). Please consider scaling the input to zero mean and unit variance.\n",
      "  check_standardization(Y=train_Y, raise_on_fail=raise_on_fail)\n"
     ]
    },
    {
     "name": "stdout",
     "output_type": "stream",
     "text": [
      "Exploitation 149/200 - New sample: [2.1623048  4.63896938 0.08545885], Objective value: -0.881467425687519\n"
     ]
    },
    {
     "name": "stderr",
     "output_type": "stream",
     "text": [
      "/u/81/mirandi1/unix/.local/lib/python3.10/site-packages/botorch/models/utils/assorted.py:257: InputDataWarning: Input data is not contained to the unit cube. Please consider min-max scaling the input data.\n",
      "  check_min_max_scaling(\n",
      "/u/81/mirandi1/unix/.local/lib/python3.10/site-packages/botorch/models/utils/assorted.py:260: InputDataWarning: Data is not standardized (std = tensor([1.1386], dtype=torch.float64), mean = tensor([1.0661], dtype=torch.float64)). Please consider scaling the input to zero mean and unit variance.\n",
      "  check_standardization(Y=train_Y, raise_on_fail=raise_on_fail)\n",
      "/u/81/mirandi1/unix/.local/lib/python3.10/site-packages/botorch/models/utils/assorted.py:257: InputDataWarning: Input data is not contained to the unit cube. Please consider min-max scaling the input data.\n",
      "  check_min_max_scaling(\n",
      "/u/81/mirandi1/unix/.local/lib/python3.10/site-packages/botorch/models/utils/assorted.py:260: InputDataWarning: Data is not standardized (std = tensor([1.1382], dtype=torch.float64), mean = tensor([1.0593], dtype=torch.float64)). Please consider scaling the input to zero mean and unit variance.\n",
      "  check_standardization(Y=train_Y, raise_on_fail=raise_on_fail)\n"
     ]
    },
    {
     "name": "stdout",
     "output_type": "stream",
     "text": [
      "Exploitation 150/200 - New sample: [2.15839751 4.63747035 0.08441933], Objective value: -0.8895371706512373\n",
      "Exploitation 151/200 - New sample: [1.71214035 6.         0.5       ], Objective value: -3.176316659005458\n"
     ]
    },
    {
     "name": "stderr",
     "output_type": "stream",
     "text": [
      "/u/81/mirandi1/unix/.local/lib/python3.10/site-packages/botorch/models/utils/assorted.py:257: InputDataWarning: Input data is not contained to the unit cube. Please consider min-max scaling the input data.\n",
      "  check_min_max_scaling(\n",
      "/u/81/mirandi1/unix/.local/lib/python3.10/site-packages/botorch/models/utils/assorted.py:260: InputDataWarning: Data is not standardized (std = tensor([1.1457], dtype=torch.float64), mean = tensor([1.0719], dtype=torch.float64)). Please consider scaling the input to zero mean and unit variance.\n",
      "  check_standardization(Y=train_Y, raise_on_fail=raise_on_fail)\n"
     ]
    },
    {
     "name": "stdout",
     "output_type": "stream",
     "text": [
      "Exploitation 152/200 - New sample: [2.16213372 4.63415826 0.0868817 ], Objective value: -0.8404745663035561\n"
     ]
    },
    {
     "name": "stderr",
     "output_type": "stream",
     "text": [
      "/u/81/mirandi1/unix/.local/lib/python3.10/site-packages/botorch/models/utils/assorted.py:257: InputDataWarning: Input data is not contained to the unit cube. Please consider min-max scaling the input data.\n",
      "  check_min_max_scaling(\n",
      "/u/81/mirandi1/unix/.local/lib/python3.10/site-packages/botorch/models/utils/assorted.py:260: InputDataWarning: Data is not standardized (std = tensor([1.1535], dtype=torch.float64), mean = tensor([1.0847], dtype=torch.float64)). Please consider scaling the input to zero mean and unit variance.\n",
      "  check_standardization(Y=train_Y, raise_on_fail=raise_on_fail)\n"
     ]
    },
    {
     "name": "stdout",
     "output_type": "stream",
     "text": [
      "Exploitation 153/200 - New sample: [2.16770719 4.630816   0.08782173], Objective value: -0.8016865937894231\n"
     ]
    },
    {
     "name": "stderr",
     "output_type": "stream",
     "text": [
      "/u/81/mirandi1/unix/.local/lib/python3.10/site-packages/botorch/models/utils/assorted.py:257: InputDataWarning: Input data is not contained to the unit cube. Please consider min-max scaling the input data.\n",
      "  check_min_max_scaling(\n",
      "/u/81/mirandi1/unix/.local/lib/python3.10/site-packages/botorch/models/utils/assorted.py:260: InputDataWarning: Data is not standardized (std = tensor([1.1616], dtype=torch.float64), mean = tensor([1.0976], dtype=torch.float64)). Please consider scaling the input to zero mean and unit variance.\n",
      "  check_standardization(Y=train_Y, raise_on_fail=raise_on_fail)\n"
     ]
    },
    {
     "name": "stdout",
     "output_type": "stream",
     "text": [
      "Exploitation 154/200 - New sample: [2.1762537  4.63234445 0.08976959], Objective value: -0.762550280688644\n"
     ]
    },
    {
     "name": "stderr",
     "output_type": "stream",
     "text": [
      "/u/81/mirandi1/unix/.local/lib/python3.10/site-packages/botorch/models/utils/assorted.py:257: InputDataWarning: Input data is not contained to the unit cube. Please consider min-max scaling the input data.\n",
      "  check_min_max_scaling(\n",
      "/u/81/mirandi1/unix/.local/lib/python3.10/site-packages/botorch/models/utils/assorted.py:260: InputDataWarning: Data is not standardized (std = tensor([1.1688], dtype=torch.float64), mean = tensor([1.1100], dtype=torch.float64)). Please consider scaling the input to zero mean and unit variance.\n",
      "  check_standardization(Y=train_Y, raise_on_fail=raise_on_fail)\n"
     ]
    },
    {
     "name": "stdout",
     "output_type": "stream",
     "text": [
      "Exploitation 155/200 - New sample: [2.18777385 4.63271937 0.08937793], Objective value: -0.8028099189561485\n"
     ]
    },
    {
     "name": "stderr",
     "output_type": "stream",
     "text": [
      "/u/81/mirandi1/unix/.local/lib/python3.10/site-packages/botorch/models/utils/assorted.py:257: InputDataWarning: Input data is not contained to the unit cube. Please consider min-max scaling the input data.\n",
      "  check_min_max_scaling(\n",
      "/u/81/mirandi1/unix/.local/lib/python3.10/site-packages/botorch/models/utils/assorted.py:260: InputDataWarning: Data is not standardized (std = tensor([1.1766], dtype=torch.float64), mean = tensor([1.1227], dtype=torch.float64)). Please consider scaling the input to zero mean and unit variance.\n",
      "  check_standardization(Y=train_Y, raise_on_fail=raise_on_fail)\n"
     ]
    },
    {
     "name": "stdout",
     "output_type": "stream",
     "text": [
      "Exploitation 156/200 - New sample: [2.17865117 4.6346723  0.09296328], Objective value: -0.7431179520554718\n"
     ]
    },
    {
     "name": "stderr",
     "output_type": "stream",
     "text": [
      "/u/81/mirandi1/unix/.local/lib/python3.10/site-packages/botorch/models/utils/assorted.py:257: InputDataWarning: Input data is not contained to the unit cube. Please consider min-max scaling the input data.\n",
      "  check_min_max_scaling(\n",
      "/u/81/mirandi1/unix/.local/lib/python3.10/site-packages/botorch/models/utils/assorted.py:260: InputDataWarning: Data is not standardized (std = tensor([1.1839], dtype=torch.float64), mean = tensor([1.1352], dtype=torch.float64)). Please consider scaling the input to zero mean and unit variance.\n",
      "  check_standardization(Y=train_Y, raise_on_fail=raise_on_fail)\n",
      "/u/81/mirandi1/unix/.local/lib/python3.10/site-packages/botorch/models/utils/assorted.py:257: InputDataWarning: Input data is not contained to the unit cube. Please consider min-max scaling the input data.\n",
      "  check_min_max_scaling(\n",
      "/u/81/mirandi1/unix/.local/lib/python3.10/site-packages/botorch/models/utils/assorted.py:260: InputDataWarning: Data is not standardized (std = tensor([1.1825], dtype=torch.float64), mean = tensor([1.1297], dtype=torch.float64)). Please consider scaling the input to zero mean and unit variance.\n",
      "  check_standardization(Y=train_Y, raise_on_fail=raise_on_fail)\n"
     ]
    },
    {
     "name": "stdout",
     "output_type": "stream",
     "text": [
      "Exploitation 157/200 - New sample: [2.18080277 4.63920947 0.0959073 ], Objective value: -0.7574091308702113\n",
      "Exploitation 158/200 - New sample: [2.30871137 5.88174828 0.5       ], Objective value: -3.009139909157587\n"
     ]
    },
    {
     "name": "stderr",
     "output_type": "stream",
     "text": [
      "/u/81/mirandi1/unix/.local/lib/python3.10/site-packages/botorch/models/utils/assorted.py:257: InputDataWarning: Input data is not contained to the unit cube. Please consider min-max scaling the input data.\n",
      "  check_min_max_scaling(\n",
      "/u/81/mirandi1/unix/.local/lib/python3.10/site-packages/botorch/models/utils/assorted.py:260: InputDataWarning: Data is not standardized (std = tensor([1.1893], dtype=torch.float64), mean = tensor([1.1418], dtype=torch.float64)). Please consider scaling the input to zero mean and unit variance.\n",
      "  check_standardization(Y=train_Y, raise_on_fail=raise_on_fail)\n"
     ]
    },
    {
     "name": "stdout",
     "output_type": "stream",
     "text": [
      "Exploitation 159/200 - New sample: [2.17970157 4.64019874 0.09177194], Objective value: -0.7789469266727537\n"
     ]
    },
    {
     "name": "stderr",
     "output_type": "stream",
     "text": [
      "/u/81/mirandi1/unix/.local/lib/python3.10/site-packages/botorch/models/utils/assorted.py:257: InputDataWarning: Input data is not contained to the unit cube. Please consider min-max scaling the input data.\n",
      "  check_min_max_scaling(\n",
      "/u/81/mirandi1/unix/.local/lib/python3.10/site-packages/botorch/models/utils/assorted.py:260: InputDataWarning: Data is not standardized (std = tensor([1.1964], dtype=torch.float64), mean = tensor([1.1541], dtype=torch.float64)). Please consider scaling the input to zero mean and unit variance.\n",
      "  check_standardization(Y=train_Y, raise_on_fail=raise_on_fail)\n"
     ]
    },
    {
     "name": "stdout",
     "output_type": "stream",
     "text": [
      "Exploitation 160/200 - New sample: [2.17946285 4.63362343 0.09573014], Objective value: -0.7373695309473729\n"
     ]
    },
    {
     "name": "stderr",
     "output_type": "stream",
     "text": [
      "/u/81/mirandi1/unix/.local/lib/python3.10/site-packages/botorch/models/utils/assorted.py:257: InputDataWarning: Input data is not contained to the unit cube. Please consider min-max scaling the input data.\n",
      "  check_min_max_scaling(\n",
      "/u/81/mirandi1/unix/.local/lib/python3.10/site-packages/botorch/models/utils/assorted.py:260: InputDataWarning: Data is not standardized (std = tensor([1.1929], dtype=torch.float64), mean = tensor([1.1537], dtype=torch.float64)). Please consider scaling the input to zero mean and unit variance.\n",
      "  check_standardization(Y=train_Y, raise_on_fail=raise_on_fail)\n"
     ]
    },
    {
     "name": "stdout",
     "output_type": "stream",
     "text": [
      "Exploitation 161/200 - New sample: [2.73562943 5.06470891 0.43357102], Objective value: -2.3396738793825236\n"
     ]
    },
    {
     "name": "stderr",
     "output_type": "stream",
     "text": [
      "/u/81/mirandi1/unix/.local/lib/python3.10/site-packages/botorch/models/utils/assorted.py:257: InputDataWarning: Input data is not contained to the unit cube. Please consider min-max scaling the input data.\n",
      "  check_min_max_scaling(\n",
      "/u/81/mirandi1/unix/.local/lib/python3.10/site-packages/botorch/models/utils/assorted.py:260: InputDataWarning: Data is not standardized (std = tensor([1.1912], dtype=torch.float64), mean = tensor([1.1588], dtype=torch.float64)). Please consider scaling the input to zero mean and unit variance.\n",
      "  check_standardization(Y=train_Y, raise_on_fail=raise_on_fail)\n"
     ]
    },
    {
     "name": "stdout",
     "output_type": "stream",
     "text": [
      "Exploitation 162/200 - New sample: [2.306804   4.68933969 0.10853124], Objective value: -1.6412022348405901\n"
     ]
    },
    {
     "name": "stderr",
     "output_type": "stream",
     "text": [
      "/u/81/mirandi1/unix/.local/lib/python3.10/site-packages/botorch/models/utils/assorted.py:257: InputDataWarning: Input data is not contained to the unit cube. Please consider min-max scaling the input data.\n",
      "  check_min_max_scaling(\n",
      "/u/81/mirandi1/unix/.local/lib/python3.10/site-packages/botorch/models/utils/assorted.py:260: InputDataWarning: Data is not standardized (std = tensor([1.1978], dtype=torch.float64), mean = tensor([1.1707], dtype=torch.float64)). Please consider scaling the input to zero mean and unit variance.\n",
      "  check_standardization(Y=train_Y, raise_on_fail=raise_on_fail)\n"
     ]
    },
    {
     "name": "stdout",
     "output_type": "stream",
     "text": [
      "Exploitation 163/200 - New sample: [2.17942655 4.63319174 0.0964336 ], Objective value: -0.750203303244157\n"
     ]
    },
    {
     "name": "stderr",
     "output_type": "stream",
     "text": [
      "/u/81/mirandi1/unix/.local/lib/python3.10/site-packages/botorch/models/utils/assorted.py:257: InputDataWarning: Input data is not contained to the unit cube. Please consider min-max scaling the input data.\n",
      "  check_min_max_scaling(\n",
      "/u/81/mirandi1/unix/.local/lib/python3.10/site-packages/botorch/models/utils/assorted.py:260: InputDataWarning: Data is not standardized (std = tensor([1.1980], dtype=torch.float64), mean = tensor([1.1635], dtype=torch.float64)). Please consider scaling the input to zero mean and unit variance.\n",
      "  check_standardization(Y=train_Y, raise_on_fail=raise_on_fail)\n"
     ]
    },
    {
     "name": "stdout",
     "output_type": "stream",
     "text": [
      "Exploitation 164/200 - New sample: [2.65788144e+00 4.00000000e+00 1.00000000e-03], Objective value: -3.2205816456116527\n"
     ]
    },
    {
     "name": "stderr",
     "output_type": "stream",
     "text": [
      "/u/81/mirandi1/unix/.local/lib/python3.10/site-packages/botorch/models/utils/assorted.py:257: InputDataWarning: Input data is not contained to the unit cube. Please consider min-max scaling the input data.\n",
      "  check_min_max_scaling(\n",
      "/u/81/mirandi1/unix/.local/lib/python3.10/site-packages/botorch/models/utils/assorted.py:260: InputDataWarning: Data is not standardized (std = tensor([1.2049], dtype=torch.float64), mean = tensor([1.1755], dtype=torch.float64)). Please consider scaling the input to zero mean and unit variance.\n",
      "  check_standardization(Y=train_Y, raise_on_fail=raise_on_fail)\n"
     ]
    },
    {
     "name": "stdout",
     "output_type": "stream",
     "text": [
      "Exploitation 165/200 - New sample: [2.18359457 4.63465839 0.09803686], Objective value: -0.7139541200147141\n"
     ]
    },
    {
     "name": "stderr",
     "output_type": "stream",
     "text": [
      "/u/81/mirandi1/unix/.local/lib/python3.10/site-packages/botorch/models/utils/assorted.py:257: InputDataWarning: Input data is not contained to the unit cube. Please consider min-max scaling the input data.\n",
      "  check_min_max_scaling(\n",
      "/u/81/mirandi1/unix/.local/lib/python3.10/site-packages/botorch/models/utils/assorted.py:260: InputDataWarning: Data is not standardized (std = tensor([1.2116], dtype=torch.float64), mean = tensor([1.1874], dtype=torch.float64)). Please consider scaling the input to zero mean and unit variance.\n",
      "  check_standardization(Y=train_Y, raise_on_fail=raise_on_fail)\n"
     ]
    },
    {
     "name": "stdout",
     "output_type": "stream",
     "text": [
      "Exploitation 166/200 - New sample: [2.19060493 4.63780494 0.10236622], Objective value: -0.7073258225207006\n"
     ]
    },
    {
     "name": "stderr",
     "output_type": "stream",
     "text": [
      "/u/81/mirandi1/unix/.local/lib/python3.10/site-packages/botorch/models/utils/assorted.py:257: InputDataWarning: Input data is not contained to the unit cube. Please consider min-max scaling the input data.\n",
      "  check_min_max_scaling(\n",
      "/u/81/mirandi1/unix/.local/lib/python3.10/site-packages/botorch/models/utils/assorted.py:260: InputDataWarning: Data is not standardized (std = tensor([1.2190], dtype=torch.float64), mean = tensor([1.1997], dtype=torch.float64)). Please consider scaling the input to zero mean and unit variance.\n",
      "  check_standardization(Y=train_Y, raise_on_fail=raise_on_fail)\n"
     ]
    },
    {
     "name": "stdout",
     "output_type": "stream",
     "text": [
      "Exploitation 167/200 - New sample: [2.19834373 4.63836245 0.1038601 ], Objective value: -0.6388469696465287\n"
     ]
    },
    {
     "name": "stderr",
     "output_type": "stream",
     "text": [
      "/u/81/mirandi1/unix/.local/lib/python3.10/site-packages/botorch/models/utils/assorted.py:257: InputDataWarning: Input data is not contained to the unit cube. Please consider min-max scaling the input data.\n",
      "  check_min_max_scaling(\n",
      "/u/81/mirandi1/unix/.local/lib/python3.10/site-packages/botorch/models/utils/assorted.py:260: InputDataWarning: Data is not standardized (std = tensor([1.2275], dtype=torch.float64), mean = tensor([1.2126], dtype=torch.float64)). Please consider scaling the input to zero mean and unit variance.\n",
      "  check_standardization(Y=train_Y, raise_on_fail=raise_on_fail)\n"
     ]
    },
    {
     "name": "stdout",
     "output_type": "stream",
     "text": [
      "Exploitation 168/200 - New sample: [2.21313436 4.64012694 0.10584054], Objective value: -0.541609508174861\n"
     ]
    },
    {
     "name": "stderr",
     "output_type": "stream",
     "text": [
      "/u/81/mirandi1/unix/.local/lib/python3.10/site-packages/botorch/models/utils/assorted.py:257: InputDataWarning: Input data is not contained to the unit cube. Please consider min-max scaling the input data.\n",
      "  check_min_max_scaling(\n",
      "/u/81/mirandi1/unix/.local/lib/python3.10/site-packages/botorch/models/utils/assorted.py:260: InputDataWarning: Data is not standardized (std = tensor([1.2257], dtype=torch.float64), mean = tensor([1.2174], dtype=torch.float64)). Please consider scaling the input to zero mean and unit variance.\n",
      "  check_standardization(Y=train_Y, raise_on_fail=raise_on_fail)\n"
     ]
    },
    {
     "name": "stdout",
     "output_type": "stream",
     "text": [
      "Exploitation 169/200 - New sample: [2.50810658 4.66480478 0.24732087], Objective value: -1.6050631535074062\n"
     ]
    },
    {
     "name": "stderr",
     "output_type": "stream",
     "text": [
      "/u/81/mirandi1/unix/.local/lib/python3.10/site-packages/botorch/models/utils/assorted.py:257: InputDataWarning: Input data is not contained to the unit cube. Please consider min-max scaling the input data.\n",
      "  check_min_max_scaling(\n",
      "/u/81/mirandi1/unix/.local/lib/python3.10/site-packages/botorch/models/utils/assorted.py:260: InputDataWarning: Data is not standardized (std = tensor([1.2338], dtype=torch.float64), mean = tensor([1.2300], dtype=torch.float64)). Please consider scaling the input to zero mean and unit variance.\n",
      "  check_standardization(Y=train_Y, raise_on_fail=raise_on_fail)\n"
     ]
    },
    {
     "name": "stdout",
     "output_type": "stream",
     "text": [
      "Exploitation 170/200 - New sample: [2.22445814 4.63942324 0.10627276], Objective value: -0.5402386585047881\n"
     ]
    },
    {
     "name": "stderr",
     "output_type": "stream",
     "text": [
      "/u/81/mirandi1/unix/.local/lib/python3.10/site-packages/botorch/models/utils/assorted.py:257: InputDataWarning: Input data is not contained to the unit cube. Please consider min-max scaling the input data.\n",
      "  check_min_max_scaling(\n",
      "/u/81/mirandi1/unix/.local/lib/python3.10/site-packages/botorch/models/utils/assorted.py:260: InputDataWarning: Data is not standardized (std = tensor([1.2409], dtype=torch.float64), mean = tensor([1.2421], dtype=torch.float64)). Please consider scaling the input to zero mean and unit variance.\n",
      "  check_standardization(Y=train_Y, raise_on_fail=raise_on_fail)\n"
     ]
    },
    {
     "name": "stdout",
     "output_type": "stream",
     "text": [
      "Exploitation 171/200 - New sample: [2.22060326 4.64626089 0.10552497], Objective value: -0.5963929538704509\n"
     ]
    },
    {
     "name": "stderr",
     "output_type": "stream",
     "text": [
      "/u/81/mirandi1/unix/.local/lib/python3.10/site-packages/botorch/models/utils/assorted.py:257: InputDataWarning: Input data is not contained to the unit cube. Please consider min-max scaling the input data.\n",
      "  check_min_max_scaling(\n",
      "/u/81/mirandi1/unix/.local/lib/python3.10/site-packages/botorch/models/utils/assorted.py:260: InputDataWarning: Data is not standardized (std = tensor([1.2481], dtype=torch.float64), mean = tensor([1.2543], dtype=torch.float64)). Please consider scaling the input to zero mean and unit variance.\n",
      "  check_standardization(Y=train_Y, raise_on_fail=raise_on_fail)\n"
     ]
    },
    {
     "name": "stdout",
     "output_type": "stream",
     "text": [
      "Exploitation 172/200 - New sample: [2.21901961 4.63080204 0.10818613], Objective value: -0.5728622552561731\n"
     ]
    },
    {
     "name": "stderr",
     "output_type": "stream",
     "text": [
      "/u/81/mirandi1/unix/.local/lib/python3.10/site-packages/botorch/models/utils/assorted.py:257: InputDataWarning: Input data is not contained to the unit cube. Please consider min-max scaling the input data.\n",
      "  check_min_max_scaling(\n",
      "/u/81/mirandi1/unix/.local/lib/python3.10/site-packages/botorch/models/utils/assorted.py:260: InputDataWarning: Data is not standardized (std = tensor([1.2463], dtype=torch.float64), mean = tensor([1.2590], dtype=torch.float64)). Please consider scaling the input to zero mean and unit variance.\n",
      "  check_standardization(Y=train_Y, raise_on_fail=raise_on_fail)\n"
     ]
    },
    {
     "name": "stdout",
     "output_type": "stream",
     "text": [
      "Exploitation 173/200 - New sample: [2.51968874 4.67423023 0.24634277], Objective value: -1.5647521872231493\n"
     ]
    },
    {
     "name": "stderr",
     "output_type": "stream",
     "text": [
      "/u/81/mirandi1/unix/.local/lib/python3.10/site-packages/botorch/models/utils/assorted.py:257: InputDataWarning: Input data is not contained to the unit cube. Please consider min-max scaling the input data.\n",
      "  check_min_max_scaling(\n",
      "/u/81/mirandi1/unix/.local/lib/python3.10/site-packages/botorch/models/utils/assorted.py:260: InputDataWarning: Data is not standardized (std = tensor([1.2515], dtype=torch.float64), mean = tensor([1.2700], dtype=torch.float64)). Please consider scaling the input to zero mean and unit variance.\n",
      "  check_standardization(Y=train_Y, raise_on_fail=raise_on_fail)\n"
     ]
    },
    {
     "name": "stdout",
     "output_type": "stream",
     "text": [
      "Exploitation 174/200 - New sample: [2.22652356 4.6335107  0.10356436], Objective value: -0.7087555480992602\n"
     ]
    },
    {
     "name": "stderr",
     "output_type": "stream",
     "text": [
      "/u/81/mirandi1/unix/.local/lib/python3.10/site-packages/botorch/models/utils/assorted.py:257: InputDataWarning: Input data is not contained to the unit cube. Please consider min-max scaling the input data.\n",
      "  check_min_max_scaling(\n",
      "/u/81/mirandi1/unix/.local/lib/python3.10/site-packages/botorch/models/utils/assorted.py:260: InputDataWarning: Data is not standardized (std = tensor([1.2585], dtype=torch.float64), mean = tensor([1.2819], dtype=torch.float64)). Please consider scaling the input to zero mean and unit variance.\n",
      "  check_standardization(Y=train_Y, raise_on_fail=raise_on_fail)\n"
     ]
    },
    {
     "name": "stdout",
     "output_type": "stream",
     "text": [
      "Exploitation 175/200 - New sample: [2.21993504 4.63920509 0.11449783], Objective value: -0.5508798109696442\n",
      "Exploitation 176/200 - New sample: [2.57925759 5.74266687 0.5       ], Objective value: -2.7947797104336862\n"
     ]
    },
    {
     "name": "stderr",
     "output_type": "stream",
     "text": [
      "/u/81/mirandi1/unix/.local/lib/python3.10/site-packages/botorch/models/utils/assorted.py:257: InputDataWarning: Input data is not contained to the unit cube. Please consider min-max scaling the input data.\n",
      "  check_min_max_scaling(\n",
      "/u/81/mirandi1/unix/.local/lib/python3.10/site-packages/botorch/models/utils/assorted.py:260: InputDataWarning: Data is not standardized (std = tensor([1.2564], dtype=torch.float64), mean = tensor([1.2776], dtype=torch.float64)). Please consider scaling the input to zero mean and unit variance.\n",
      "  check_standardization(Y=train_Y, raise_on_fail=raise_on_fail)\n",
      "/u/81/mirandi1/unix/.local/lib/python3.10/site-packages/botorch/models/utils/assorted.py:257: InputDataWarning: Input data is not contained to the unit cube. Please consider min-max scaling the input data.\n",
      "  check_min_max_scaling(\n",
      "/u/81/mirandi1/unix/.local/lib/python3.10/site-packages/botorch/models/utils/assorted.py:260: InputDataWarning: Data is not standardized (std = tensor([1.2637], dtype=torch.float64), mean = tensor([1.2897], dtype=torch.float64)). Please consider scaling the input to zero mean and unit variance.\n",
      "  check_standardization(Y=train_Y, raise_on_fail=raise_on_fail)\n"
     ]
    },
    {
     "name": "stdout",
     "output_type": "stream",
     "text": [
      "Exploitation 177/200 - New sample: [2.21725152 4.6380785  0.10942016], Objective value: -0.5089577949849112\n"
     ]
    },
    {
     "name": "stderr",
     "output_type": "stream",
     "text": [
      "/u/81/mirandi1/unix/.local/lib/python3.10/site-packages/botorch/models/utils/assorted.py:257: InputDataWarning: Input data is not contained to the unit cube. Please consider min-max scaling the input data.\n",
      "  check_min_max_scaling(\n",
      "/u/81/mirandi1/unix/.local/lib/python3.10/site-packages/botorch/models/utils/assorted.py:260: InputDataWarning: Data is not standardized (std = tensor([1.2706], dtype=torch.float64), mean = tensor([1.3016], dtype=torch.float64)). Please consider scaling the input to zero mean and unit variance.\n",
      "  check_standardization(Y=train_Y, raise_on_fail=raise_on_fail)\n"
     ]
    },
    {
     "name": "stdout",
     "output_type": "stream",
     "text": [
      "Exploitation 178/200 - New sample: [2.2161154  4.63716175 0.10966168], Objective value: -0.5176817811561597\n"
     ]
    },
    {
     "name": "stderr",
     "output_type": "stream",
     "text": [
      "/u/81/mirandi1/unix/.local/lib/python3.10/site-packages/botorch/models/utils/assorted.py:257: InputDataWarning: Input data is not contained to the unit cube. Please consider min-max scaling the input data.\n",
      "  check_min_max_scaling(\n",
      "/u/81/mirandi1/unix/.local/lib/python3.10/site-packages/botorch/models/utils/assorted.py:260: InputDataWarning: Data is not standardized (std = tensor([1.2773], dtype=torch.float64), mean = tensor([1.3133], dtype=torch.float64)). Please consider scaling the input to zero mean and unit variance.\n",
      "  check_standardization(Y=train_Y, raise_on_fail=raise_on_fail)\n"
     ]
    },
    {
     "name": "stdout",
     "output_type": "stream",
     "text": [
      "Exploitation 179/200 - New sample: [2.24640675 4.65237409 0.12373189], Objective value: -0.5174856202106259\n"
     ]
    },
    {
     "name": "stderr",
     "output_type": "stream",
     "text": [
      "/u/81/mirandi1/unix/.local/lib/python3.10/site-packages/botorch/models/utils/assorted.py:257: InputDataWarning: Input data is not contained to the unit cube. Please consider min-max scaling the input data.\n",
      "  check_min_max_scaling(\n",
      "/u/81/mirandi1/unix/.local/lib/python3.10/site-packages/botorch/models/utils/assorted.py:260: InputDataWarning: Data is not standardized (std = tensor([1.2841], dtype=torch.float64), mean = tensor([1.3251], dtype=torch.float64)). Please consider scaling the input to zero mean and unit variance.\n",
      "  check_standardization(Y=train_Y, raise_on_fail=raise_on_fail)\n"
     ]
    },
    {
     "name": "stdout",
     "output_type": "stream",
     "text": [
      "Exploitation 180/200 - New sample: [2.23921891 4.64987073 0.11949049], Objective value: -0.4960201200821402\n"
     ]
    },
    {
     "name": "stderr",
     "output_type": "stream",
     "text": [
      "/u/81/mirandi1/unix/.local/lib/python3.10/site-packages/botorch/models/utils/assorted.py:257: InputDataWarning: Input data is not contained to the unit cube. Please consider min-max scaling the input data.\n",
      "  check_min_max_scaling(\n",
      "/u/81/mirandi1/unix/.local/lib/python3.10/site-packages/botorch/models/utils/assorted.py:260: InputDataWarning: Data is not standardized (std = tensor([1.2911], dtype=torch.float64), mean = tensor([1.3370], dtype=torch.float64)). Please consider scaling the input to zero mean and unit variance.\n",
      "  check_standardization(Y=train_Y, raise_on_fail=raise_on_fail)\n"
     ]
    },
    {
     "name": "stdout",
     "output_type": "stream",
     "text": [
      "Exploitation 181/200 - New sample: [2.24099373 4.6457117  0.12165928], Objective value: -0.45979311893980945\n"
     ]
    },
    {
     "name": "stderr",
     "output_type": "stream",
     "text": [
      "/u/81/mirandi1/unix/.local/lib/python3.10/site-packages/botorch/models/utils/assorted.py:257: InputDataWarning: Input data is not contained to the unit cube. Please consider min-max scaling the input data.\n",
      "  check_min_max_scaling(\n",
      "/u/81/mirandi1/unix/.local/lib/python3.10/site-packages/botorch/models/utils/assorted.py:260: InputDataWarning: Data is not standardized (std = tensor([1.2881], dtype=torch.float64), mean = tensor([1.3346], dtype=torch.float64)). Please consider scaling the input to zero mean and unit variance.\n",
      "  check_standardization(Y=train_Y, raise_on_fail=raise_on_fail)\n"
     ]
    },
    {
     "name": "stdout",
     "output_type": "stream",
     "text": [
      "Exploitation 182/200 - New sample: [2.78964198 5.96654551 0.5       ], Objective value: -2.5053227616788933\n"
     ]
    },
    {
     "name": "stderr",
     "output_type": "stream",
     "text": [
      "/u/81/mirandi1/unix/.local/lib/python3.10/site-packages/botorch/models/utils/assorted.py:257: InputDataWarning: Input data is not contained to the unit cube. Please consider min-max scaling the input data.\n",
      "  check_min_max_scaling(\n",
      "/u/81/mirandi1/unix/.local/lib/python3.10/site-packages/botorch/models/utils/assorted.py:260: InputDataWarning: Data is not standardized (std = tensor([1.2945], dtype=torch.float64), mean = tensor([1.3461], dtype=torch.float64)). Please consider scaling the input to zero mean and unit variance.\n",
      "  check_standardization(Y=train_Y, raise_on_fail=raise_on_fail)\n"
     ]
    },
    {
     "name": "stdout",
     "output_type": "stream",
     "text": [
      "Exploitation 183/200 - New sample: [2.24498141 4.64142278 0.12528215], Objective value: -0.4940568277941233\n"
     ]
    },
    {
     "name": "stderr",
     "output_type": "stream",
     "text": [
      "/u/81/mirandi1/unix/.local/lib/python3.10/site-packages/botorch/models/utils/assorted.py:257: InputDataWarning: Input data is not contained to the unit cube. Please consider min-max scaling the input data.\n",
      "  check_min_max_scaling(\n",
      "/u/81/mirandi1/unix/.local/lib/python3.10/site-packages/botorch/models/utils/assorted.py:260: InputDataWarning: Data is not standardized (std = tensor([1.2911], dtype=torch.float64), mean = tensor([1.3460], dtype=torch.float64)). Please consider scaling the input to zero mean and unit variance.\n",
      "  check_standardization(Y=train_Y, raise_on_fail=raise_on_fail)\n"
     ]
    },
    {
     "name": "stdout",
     "output_type": "stream",
     "text": [
      "Exploitation 184/200 - New sample: [2.51603293 4.84590377 0.26284789], Objective value: -2.150863094418547\n",
      "Exploitation 185/200 - New sample: [2.57037444 5.08801246 0.33876129], Objective value: -2.429079072331867\n",
      "Stopping early due to no significant improvement (>0.001) in the last 100 iterations.\n"
     ]
    },
    {
     "name": "stderr",
     "output_type": "stream",
     "text": [
      "/u/81/mirandi1/unix/.local/lib/python3.10/site-packages/botorch/models/utils/assorted.py:257: InputDataWarning: Input data is not contained to the unit cube. Please consider min-max scaling the input data.\n",
      "  check_min_max_scaling(\n",
      "/u/81/mirandi1/unix/.local/lib/python3.10/site-packages/botorch/models/utils/assorted.py:260: InputDataWarning: Data is not standardized (std = tensor([1.2880], dtype=torch.float64), mean = tensor([1.3441], dtype=torch.float64)). Please consider scaling the input to zero mean and unit variance.\n",
      "  check_standardization(Y=train_Y, raise_on_fail=raise_on_fail)\n"
     ]
    }
   ],
   "source": [
    "import time as timer\n",
    "\n",
    "# Exploitation phase using qEI\n",
    "n_exploitation_iter = 200 # Number of iterations\n",
    "new_indices = []  # To keep track of new points added during exploitation\n",
    "objective_values = list(y_samples)  # Track original (not scaled) objective values\n",
    "\n",
    "# Initialize timing variables\n",
    "times_per_iteration = []\n",
    "cumulative_time = 0\n",
    "\n",
    "# Stop condition parameters\n",
    "no_improvement_limit = 100  # Stop if no improvement after 50 iterations\n",
    "no_improvement_counter = 0\n",
    "best_objective_value = float('inf')  # Assuming we're minimizing\n",
    "tolerance = 1e-3  # Minimum improvement required to reset the counter\n",
    "\n",
    "for i in range(n_exploitation_iter):\n",
    "    new_candidates = compute_qei_acquisition_function(model, y_samples_tensor, bounds)\n",
    "    new_sample = new_candidates.detach().cpu().numpy().reshape(-1)\n",
    "    new_sample_y = objective(new_sample)\n",
    "    \n",
    "    # Apply scaling to the new y value\n",
    "    new_sample_y_scaled = scaler.transform(np.array([new_sample_y]).reshape(-1, 1)).flatten()[0]\n",
    "    \n",
    "    # Append the new sample to the samples and objective values (both original and scaled)\n",
    "    new_indices.append(len(y_samples))  # Save the index of the new sample\n",
    "    X_samples = np.vstack([X_samples, new_sample])\n",
    "    y_samples = np.append(y_samples, new_sample_y)  # Original scale objective values\n",
    "    y_samples_scaled = np.append(y_samples_scaled, new_sample_y_scaled)  # Scaled objective values\n",
    "    \n",
    "    # Update tensors\n",
    "    X_samples_tensor = torch.tensor(X_samples, dtype=torch.double)\n",
    "    y_samples_tensor = torch.tensor(y_samples_scaled, dtype=torch.double)\n",
    "\n",
    "    # Append the objective value to the list (original scale)\n",
    "    objective_values.append(new_sample_y)\n",
    "    \n",
    "    # Update the model with the new data\n",
    "    mll, model = initialize_model(X_samples_tensor, y_samples_tensor)\n",
    "    start_time = timer.time()\n",
    "\n",
    "    fit_gpytorch_mll(mll)\n",
    "    \n",
    "    # Record iteration time\n",
    "    iteration_time = timer.time() - start_time\n",
    "    times_per_iteration.append(iteration_time)\n",
    "    cumulative_time += iteration_time\n",
    "    \n",
    "    print(f\"Exploitation {i + 1}/{n_exploitation_iter} - New sample: {new_sample}, Objective value: {new_sample_y}\")\n",
    "    \n",
    "    # Check stop condition based on no improvement with tolerance\n",
    "    improvement = best_objective_value - new_sample_y\n",
    "    if improvement > tolerance:\n",
    "        best_objective_value = new_sample_y\n",
    "        no_improvement_counter = 0\n",
    "    else:\n",
    "        no_improvement_counter += 1\n",
    "\n",
    "    if no_improvement_counter >= no_improvement_limit:\n",
    "        print(f\"Stopping early due to no significant improvement (>{tolerance}) in the last {no_improvement_limit} iterations.\")\n",
    "        break"
   ]
  },
  {
   "cell_type": "markdown",
   "id": "e4f7d9e7-3e21-4ba7-b372-628c85c177d2",
   "metadata": {},
   "source": [
    "## Visualizing Optimization Progress\n",
    "\n",
    "In this section, we plot the negative of the objective function values as a function of the number of iterations. This helps us visually assess the optimization progress and the performance of the Sobol and Expected Improvement (EI) sampling strategies.\n",
    "\n",
    "### Steps Involved in the Plotting Process:\n",
    "\n",
    "1. **Configure the Plot**:\n",
    "   We set the figure size and layout for constrained layout setting for better spacing.\n",
    "   \n",
    "2. **Prepare Data for Plotting**:\n",
    "   - We create an array representing the iterations.\n",
    "   - We negate the objective function values (`neg_objective_values`) because we are minimizing the objective, and lower values represent better performance.\n",
    "\n",
    "3. **Plot the Sobol and EI Samples**:\n",
    "   - Plot the initial Sobol samples in one color (`#89BFA9`), marking them as 'Sobol'.\n",
    "   - Plot the subsequent EI samples in another color (`#60568A`), marking them as 'EI'.\n",
    "\n",
    "4. **Customize Plot Appearance**:\n",
    "   - Set the limits for the x-axis.\n",
    "   - Label the x-axis as the number of iterations (`$n$`).\n",
    "   - Label the y-axis as the log of the Residual Sum of Squares (RSS) weighted by true values (`$\\\\log$ RSS$_{w_{i}}$`).\n",
    "   - Customize the font size of axis labels and tick labels.\n",
    "   - Add a legend to distinguish between Sobol and EI samples.\n",
    "  \n",
    "5. **Display the Plot**:\n",
    "   - Show the plot using `plt.show()`.\n",
    "   \n",
    "6. **Print the Minimum Objective Value**:\n",
    "   - Print the minimum value of the negated objective values to see the best objective value achieved during the optimization process.\n"
   ]
  },
  {
   "cell_type": "code",
   "execution_count": 19,
   "id": "0b1b04c2-0b3c-41d9-8d47-0c04266243f3",
   "metadata": {},
   "outputs": [
    {
     "data": {
      "image/png": "[encoded data removed]",
      "text/plain": [
       "<Figure size 300x275 with 1 Axes>"
      ]
     },
     "metadata": {},
     "output_type": "display_data"
    },
    {
     "name": "stdout",
     "output_type": "stream",
     "text": [
      "The minimum value of the objective function in log10 scale is 0.4598\n",
      "Cumulative time for all iterations: 14.4745 seconds\n"
     ]
    },
    {
     "data": {
      "image/png": "[encoded data removed]",
      "text/plain": [
       "<Figure size 300x275 with 1 Axes>"
      ]
     },
     "metadata": {},
     "output_type": "display_data"
    }
   ],
   "source": [
    "# Plotting the negative of the objective as a function of iterations\n",
    "\n",
    "# Configure the Figure\n",
    "plt.figure(figsize=(3, 2.75), constrained_layout=True)\n",
    "\n",
    "# Prepare Data for Plotting\n",
    "iterations = np.arange(len(objective_values))             # Array of iteration indices\n",
    "neg_objective_values = -np.array(objective_values)        # Convert back to original scale by multiplying by -1\n",
    "\n",
    "# Plot Initial Sobol Samples\n",
    "plt.plot(\n",
    "    iterations[:n_initial_points], \n",
    "    neg_objective_values[:n_initial_points], \n",
    "    'o', \n",
    "    markersize=8, \n",
    "    label='Sobol', \n",
    "    color='#89BFA9'\n",
    ")\n",
    "\n",
    "# Plot EI Samples\n",
    "plt.plot(\n",
    "    iterations[n_initial_points:], \n",
    "    neg_objective_values[n_initial_points:], \n",
    "    'o', \n",
    "    markersize=8, \n",
    "    label='logEI', \n",
    "    color='#60568A'\n",
    ")\n",
    "\n",
    "# Customize Plot Appearance\n",
    "#plt.xlim(0, 21)                                          # Set x-axis limit\n",
    "#plt.ylim(-1, 6)                                        # Uncomment and set y-axis limit if needed\n",
    "plt.xlabel('$n$', fontsize=14)                            # X-axis label\n",
    "plt.ylabel('$\\\\log$ RSS$_{w_{i}=y_i}$', fontsize=14)           # Y-axis label\n",
    "plt.xticks(fontsize=14)                                   # X-axis tick label size\n",
    "plt.yticks(fontsize=14)                                   # Y-axis tick label size\n",
    "plt.legend(fontsize=14, loc=\"best\")                       # Display legend\n",
    "\n",
    "# Display the Plot\n",
    "plt.savefig(\"fig_ei_relaxation_liquidfoam.pdf\")                    # Uncomment to save the plot\n",
    "plt.show()\n",
    "\n",
    "# Print the Minimum Objective Value\n",
    "print(f\"The minimum value of the objective function in log10 scale is {np.min(neg_objective_values):.4f}\")\n",
    "\n",
    "# Plotting the time per iteration\n",
    "plt.figure(figsize=(3, 2.75))\n",
    "plt.plot(times_per_iteration, 'o', markersize=8, color='#60568A')\n",
    "plt.xlabel('$n$', fontsize=14)                            # X-axis label\n",
    "plt.ylabel('$t$ [s]', fontsize=14)           # Y-axis label\n",
    "plt.xticks(fontsize=14)                                   # X-axis tick label size\n",
    "plt.yticks(fontsize=14)                                   # Y-axis tick label size\n",
    "#plt.legend(fontsize=14, loc=\"best\")                       # Display legend\n",
    "\n",
    "# Printing the cumulative time\n",
    "print(f\"Cumulative time for all iterations: {cumulative_time:.4f} seconds\")"
   ]
  },
  {
   "cell_type": "markdown",
   "id": "1e9cf156-36d1-4701-aed2-d891e73e33cc",
   "metadata": {},
   "source": [
    "## Fitting and Visualizing the Model with Best Parameters from Bayesian Optimization\n",
    "\n",
    "In this section, we:\n",
    "1. Define the fractional model evaluator.\n",
    "2. Extract and print the best parameters obtained from the Bayesian Optimization (BO) phase.\n",
    "3. Fit the model using the best parameters and compute the model values.\n",
    "4. Calculate the Residual Sum of Squares (RSS) for the fitted model.\n",
    "5. Plot the original data, the fitted model from Bayesian Optimization, and the optimized model.\n"
   ]
  },
  {
   "cell_type": "code",
   "execution_count": 20,
   "id": "a7e62b49-80e8-4938-b4e1-78d32bc750cf",
   "metadata": {},
   "outputs": [
    {
     "name": "stdout",
     "output_type": "stream",
     "text": [
      "Best parameters from Bayesian Optimization: G = 174.18, eta = 44229.47, beta = 0.12\n",
      "RSS_w for the Bayesian Optimization model: 2.20233\n"
     ]
    },
    {
     "data": {
      "image/png": "[encoded data removed]",
      "text/plain": [
       "<Figure size 300x275 with 1 Axes>"
      ]
     },
     "metadata": {},
     "output_type": "display_data"
    }
   ],
   "source": [
    "from cycler import cycler  # Import the cycler for customizing plot cycles\n",
    "\n",
    "# Define model evaluator\n",
    "fractional_model_name = \"FractionalMaxwellLiquid\"\n",
    "evaluator = RelaxationEvaluator(model=fractional_model_name)\n",
    "\n",
    "# Extract the best parameters from Bayesian Optimization phase\n",
    "best_idx = np.argmax(y_samples)\n",
    "best_params = X_samples[best_idx]\n",
    "logG_best, logeta_best, beta_best = best_params\n",
    "G_best_bo = 10 ** logG_best\n",
    "eta_best_bo = 10 ** logeta_best\n",
    "\n",
    "# Print the best parameters from Bayesian Optimization\n",
    "print(\"Best parameters from Bayesian Optimization: G = {:.2f}, eta = {:.2f}, beta = {:.2f}\".format(G_best_bo, eta_best_bo, beta_best))\n",
    "\n",
    "# Fit the model with the best parameters from Bayesian Optimization\n",
    "best_params_no_scale = G_best_bo, eta_best_bo, beta_best\n",
    "bo_model_values = evaluator.compute_model(best_params_no_scale, time, mittag_leffler_type=\"Pade72\")\n",
    "\n",
    "# Compute the RSS for the Bayesian Optimization model\n",
    "rss_bo = np.sum(((y_true - bo_model_values) / y_true) ** 2)\n",
    "print(f\"RSS_w for the Bayesian Optimization model: {rss_bo:.5f}\")\n",
    "\n",
    "# Get the default color cycle\n",
    "colors = plt.rcParams['axes.prop_cycle'].by_key()['color']\n",
    "\n",
    "# Plot the data, the fitted model from Bayesian Optimization, and the final optimized model\n",
    "plt.figure(figsize=(3.0, 2.75), constrained_layout=True)\n",
    "plt.plot(time, y_true, 'o', markersize=8, color='#89BFA9', label='$G(t)$')  # Original data\n",
    "plt.plot(time, bo_model_values, '-', color='#60568A', lw=2, label='BO')   # BO model fit\n",
    "#plt.plot(time, optimal_model_values, '-', color=colors[1], lw=2, label='L-BFGS-B')  # Uncomment to plot optimized model values\n",
    "\n",
    "# Configure the plot\n",
    "plt.xscale('log')\n",
    "plt.yscale('log')\n",
    "plt.xlabel('$t$ [s]', fontsize=14)\n",
    "plt.ylabel(r'$G(t)$ [Pa]', fontsize=14)\n",
    "plt.xticks(fontsize=14)\n",
    "plt.yticks(fontsize=14)\n",
    "plt.legend(fontsize=14, loc=\"lower left\")\n",
    "\n",
    "# Display the plot\n",
    "plt.savefig(\"fig_bo_fit_relaxation_data_liquidfoam.pdf\")  # Uncomment to save the plot\n",
    "plt.show()"
   ]
  },
  {
   "cell_type": "markdown",
   "id": "e0b39e1f-73a2-4a1f-a8ac-85ead62951ac",
   "metadata": {},
   "source": [
    "## Visualizing Surrogate Model Predictions for Different parameter Values\n",
    "\n",
    "In this section, we:\n",
    "1. Define a function to predict model outputs on a 2D grid of parameters.\n",
    "2. Evaluate the model on a grid for various fixed beta values.\n",
    "3. Create contour plots for each beta value showing the predictions of the model.\n",
    "4. Identify and display the global minima for each beta value."
   ]
  },
  {
   "cell_type": "code",
   "execution_count": 21,
   "id": "75d8f269-6140-4083-b06f-9b84f555ab4d",
   "metadata": {},
   "outputs": [
    {
     "data": {
      "image/png": "[encoded data removed]",
      "text/plain": [
       "<Figure size 900x550 with 7 Axes>"
      ]
     },
     "metadata": {},
     "output_type": "display_data"
    }
   ],
   "source": [
    "import matplotlib.colors as mcolors\n",
    "\n",
    "def predict_model_on_grid_2D(model, param_space, beta_value, resolution=100):\n",
    "    \"\"\"\n",
    "    Predict the model outputs on a 2D grid over logG and log_eta with a fixed beta value.\n",
    "    \"\"\"\n",
    "    # Create a 2D mesh grid over logG and log_eta\n",
    "    logG_range = torch.linspace(param_space[0, 0], param_space[0, 1], resolution)\n",
    "    logV_range = torch.linspace(param_space[1, 0], param_space[1, 1], resolution)\n",
    "\n",
    "    logG_grid, logV_grid = torch.meshgrid(logG_range, logV_range, indexing=\"ij\")\n",
    "    beta_grid = torch.full_like(logG_grid, beta_value)  # Keep beta fixed\n",
    "\n",
    "    param_grid = torch.stack([logG_grid.reshape(-1), logV_grid.reshape(-1), beta_grid.reshape(-1)], dim=-1)\n",
    "\n",
    "    # Predict using the trained model\n",
    "    with torch.no_grad():\n",
    "        preds_1 = model.posterior(param_grid).mean.numpy().reshape(logG_grid.shape)\n",
    "\n",
    "    return logG_grid, logV_grid, preds_1\n",
    "\n",
    "# Define specific beta values to plot\n",
    "beta_values = [0.5, 0.4, 0.3, 0.2, 0.1, 0.0]\n",
    "resolution = 100\n",
    "\n",
    "# Ensure these values are correctly calculated\n",
    "min_val, max_val = (-max(objective_values), -min(objective_values))\n",
    "\n",
    "# Create subplots for each beta value\n",
    "fig, axes = plt.subplots(2, 3, figsize=(9, 5.5), constrained_layout=True)\n",
    "contours_list = []\n",
    "global_minima = []  # To store global minima parameters\n",
    "\n",
    "for ax, beta in zip(axes.flatten(), beta_values):\n",
    "    logG_grid, logV_grid, preds_obj1 = predict_model_on_grid_2D(model, param_space, beta, resolution)\n",
    "    \n",
    "    # Convert logG and logV to G and V\n",
    "    G = 10 ** logG_grid.numpy()\n",
    "    V = 10 ** logV_grid.numpy()\n",
    "\n",
    "    # Take negative predictions because of the sign inversion\n",
    "    neg_preds_obj1 = -1 * scaler.inverse_transform(preds_obj1)\n",
    "    \n",
    "    # Find global minima\n",
    "    min_index = np.unravel_index(neg_preds_obj1.argmin(), neg_preds_obj1.shape)\n",
    "    global_min_logG = logG_grid[min_index]\n",
    "    global_min_logV = logV_grid[min_index]\n",
    "    global_min_G = 10 ** global_min_logG\n",
    "    global_min_V = 10 ** global_min_logV\n",
    "    global_min_value = neg_preds_obj1[min_index]\n",
    "    global_minima.append((global_min_G.item(), global_min_V.item(), 10 ** global_min_value))\n",
    "    \n",
    "    # Create the 2D contour plot\n",
    "    contour = ax.contourf(G, V, neg_preds_obj1, levels=100, vmin=min_val, vmax=max_val, cmap='YlGnBu_r')\n",
    "    contours_list.append(contour)\n",
    "    ax.contour(G, V, neg_preds_obj1, levels=10, colors='black', linewidths=0.5)\n",
    "    ax.set_xscale('log')\n",
    "    ax.set_yscale('log')\n",
    "    ax.tick_params(axis='both', which='major', labelsize=14)\n",
    "    ax.set_title(f'$\\\\beta$ = {beta}', fontsize=14)\n",
    "\n",
    "# Create a ScalarMappable for the colorbar\n",
    "norm = mcolors.Normalize(vmin=min_val, vmax=max_val)\n",
    "sm = plt.cm.ScalarMappable(cmap='YlGnBu_r', norm=norm)\n",
    "sm.set_array([])  # Only needed for ScalarMappable\n",
    "\n",
    "# Add a single colorbar for all subplots\n",
    "cbar = fig.colorbar(sm, ax=axes, location='right', aspect=20, pad=0.02, format='%.2f')\n",
    "cbar.set_label('$\\\\log$ RSS$_{w_{i}}$', fontsize=14)\n",
    "cbar.ax.tick_params(labelsize=14)\n",
    "\n",
    "# Add common labels\n",
    "fig.text(0.5, -0.05, '$\\mathbb{G}$ [Pa s$^{\\\\beta}$]', ha='center', va='center', fontsize=14)\n",
    "fig.text(-0.01, 0.5, '$\\eta$ [Pa s]', ha='center', va='center', rotation='vertical', fontsize=14)\n",
    "\n",
    "# Save the plot and show\n",
    "plt.savefig(\"fig_obj1_relaxation_liquidfoam.pdf\")\n",
    "plt.show()"
   ]
  },
  {
   "cell_type": "code",
   "execution_count": 22,
   "id": "9252d3d8-8069-4aa9-9e4a-0592844a6935",
   "metadata": {},
   "outputs": [
    {
     "data": {
      "image/png": "[encoded data removed]",
      "text/plain": [
       "<Figure size 600x275 with 3 Axes>"
      ]
     },
     "metadata": {},
     "output_type": "display_data"
    }
   ],
   "source": [
    "import matplotlib.colors as mcolors\n",
    "\n",
    "def predict_model_on_grid_2D(model, param_space, beta_value, resolution=100):\n",
    "    \"\"\"\n",
    "    Predict the model outputs on a 2D grid over logG and log_eta with a fixed beta value.\n",
    "    \"\"\"\n",
    "    # Create a 2D mesh grid over logG and log_eta\n",
    "    logG_range = torch.linspace(param_space[0, 0], param_space[0, 1], resolution)\n",
    "    logV_range = torch.linspace(param_space[1, 0], param_space[1, 1], resolution)\n",
    "\n",
    "    logG_grid, logV_grid = torch.meshgrid(logG_range, logV_range, indexing=\"ij\")\n",
    "    beta_grid = torch.full_like(logG_grid, beta_value)  # Keep beta fixed\n",
    "\n",
    "    param_grid = torch.stack([logG_grid.reshape(-1), logV_grid.reshape(-1), beta_grid.reshape(-1)], dim=-1)\n",
    "\n",
    "    # Predict using the trained model\n",
    "    with torch.no_grad():\n",
    "        preds_1 = model.posterior(param_grid).mean.numpy().reshape(logG_grid.shape)\n",
    "\n",
    "    return logG_grid, logV_grid, preds_1\n",
    "\n",
    "# Define specific beta values to plot\n",
    "beta_values = [0.13, 0.0]\n",
    "resolution = 100\n",
    "\n",
    "# Ensure these values are correctly calculated\n",
    "min_val, max_val = (-np.max(preds_obj1), -np.min(preds_obj1))\n",
    "\n",
    "# Collect all predictions for consistent color scaling\n",
    "all_preds = []\n",
    "\n",
    "\n",
    "# Create subplots for each beta value\n",
    "fig, axes = plt.subplots(1, 2, figsize=(6, 2.75), constrained_layout=True)\n",
    "contours_list = []\n",
    "global_minima = []  # To store global minima parameters\n",
    "\n",
    "# Loop over each beta value\n",
    "for ax, beta in zip(axes.flatten(), beta_values):\n",
    "    logG_grid, logV_grid, preds_obj1 = predict_model_on_grid_2D(model, param_space, beta, resolution)\n",
    "    \n",
    "    # Convert logG and logV to G and V\n",
    "    G = 10 ** logG_grid.numpy()\n",
    "    V = 10 ** logV_grid.numpy()\n",
    "\n",
    "    # Invert predictions\n",
    "    neg_preds_obj1 = -1 * preds_obj1  # Apply your scaler if needed\n",
    "    all_preds.append(neg_preds_obj1)\n",
    "    \n",
    "    # Find global minima\n",
    "    min_index = np.unravel_index(neg_preds_obj1.argmin(), neg_preds_obj1.shape)\n",
    "    global_min_logG = logG_grid[min_index]\n",
    "    global_min_logV = logV_grid[min_index]\n",
    "    global_min_G = 10 ** global_min_logG\n",
    "    global_min_V = 10 ** global_min_logV\n",
    "    global_min_value = neg_preds_obj1[min_index]\n",
    "    global_minima.append((global_min_G.item(), global_min_V.item(), 10 ** global_min_value))\n",
    "    \n",
    "    # 2D contour plot\n",
    "    contour = ax.contourf(G, V, neg_preds_obj1, levels=100, cmap='YlGnBu_r')\n",
    "    contours_list.append(contour)\n",
    "    ax.contour(G, V, neg_preds_obj1, levels=10, colors='black', linewidths=0.5)\n",
    "    ax.set_xscale('log')\n",
    "    ax.set_yscale('log')\n",
    "    ax.tick_params(axis='both', which='major', labelsize=14)\n",
    "\n",
    "    # Set custom axis limits\n",
    "    ax.set_xlim([10, 900])   # X-axis limits\n",
    "    ax.set_ylim([20000, 1000000])  # Y-axis limits\n",
    "    \n",
    "    # Title inside each subplot\n",
    "    ax.text(0.5, 0.85, f'$\\\\beta$ = {beta}', fontsize=14, ha='center', va='center', color='black', \n",
    "            transform=ax.transAxes)\n",
    "\n",
    "    # Remove y-axis ticks for second and third subplots\n",
    "    if ax != axes[0]:\n",
    "        ax.tick_params(axis='y', which='both', left=False, labelleft=False)\n",
    "\n",
    "# Determine global min/max for consistent color scaling\n",
    "all_preds_array = np.concatenate([p.flatten() for p in all_preds])\n",
    "min_val, max_val = all_preds_array.min(), all_preds_array.max()\n",
    "\n",
    "# Create a ScalarMappable for the colorbar\n",
    "norm = mcolors.Normalize(vmin=min_val, vmax=max_val)\n",
    "sm = plt.cm.ScalarMappable(cmap='YlGnBu_r', norm=norm)\n",
    "sm.set_array([])\n",
    "\n",
    "# Add a single colorbar for all subplots\n",
    "cbar = fig.colorbar(sm, ax=axes.ravel().tolist(), location='right', aspect=20, pad=0.02, format='%.2f')\n",
    "cbar.set_label('$\\\\log$ RSS$_{w_{i}=y_{i}}$', fontsize=14)\n",
    "cbar.ax.tick_params(labelsize=14)\n",
    "\n",
    "# Add common axis labels\n",
    "fig.text(0.5, -0.05, '$\\mathbb{G}$ [Pa s$^{\\\\beta}$]', ha='center', va='center', fontsize=14)\n",
    "fig.text(-0.01, 0.5, '$\\eta$ [Pa s]', ha='center', va='center', rotation='vertical', fontsize=14)\n",
    "\n",
    "# Save and display\n",
    "plt.savefig(\"fig_obj1_relaxation_liquidfoam_solution.pdf\")\n",
    "plt.show()"
   ]
  },
  {
   "cell_type": "code",
   "execution_count": 23,
   "id": "788ce29b-ff62-4c9e-831d-6406f7ff56ec",
   "metadata": {},
   "outputs": [],
   "source": [
    "# Objective function to minimize (RRS weighted by true values)\n",
    "def objective_minimize(params, time, y_true):\n",
    "    logG, logV, beta = params\n",
    "    G = 10 ** logG\n",
    "    V = 10 ** logV\n",
    "    params_no_scale = G, V, beta\n",
    "    model = \"FractionalMaxwellLiquid\"\n",
    "    evaluator = RelaxationEvaluator(model=model)\n",
    "    \n",
    "    # Compute oscillation data\n",
    "    model_values = evaluator.compute_model(params_no_scale, time, mittag_leffler_type=\"Pade72\")\n",
    "    \n",
    "    # Add noise\n",
    "    error = createRandomError(time.shape[0], 0.02)\n",
    "    model_values_noisy = np.multiply(model_values, error)\n",
    "    \n",
    "    # Define objective function: sum of squared relative errors for G' and G''\n",
    "    obj1 = np.sum(((y_true - model_values_noisy) / y_true) ** 2)\n",
    "    \n",
    "    return obj1  # Return the raw error (we no longer need the -log10)\n",
    "\n",
    "def callback(params):\n",
    "    obj_value = objective_minimize(params, time, y_true)\n",
    "    current_errors.append(obj_value)"
   ]
  },
  {
   "cell_type": "code",
   "execution_count": 24,
   "id": "f132df3f-402e-4dd9-9130-dbbd5ae00a77",
   "metadata": {},
   "outputs": [
    {
     "name": "stdout",
     "output_type": "stream",
     "text": [
      "Running optimization with method: Nelder-Mead\n"
     ]
    },
    {
     "name": "stderr",
     "output_type": "stream",
     "text": [
      "/tmp/ipykernel_32709/1822520037.py:37: RuntimeWarning: Maximum number of function evaluations has been exceeded.\n",
      "  res = minimize(\n"
     ]
    },
    {
     "name": "stdout",
     "output_type": "stream",
     "text": [
      "Final time for all iterations: 2.5097 seconds\n"
     ]
    }
   ],
   "source": [
    "import numpy as np\n",
    "from scipy.optimize import minimize\n",
    "\n",
    "custom_bounds = [(low, high) if i < 2 else (low, high) for i, (low, high) in enumerate(param_space)]\n",
    "\n",
    "\n",
    "np.random.seed(42)\n",
    "initial_guesses = np.random.uniform(param_space[:, 0], param_space[:, 1], (5, 3))\n",
    "initial_guesses_list = initial_guesses.tolist()\n",
    "\n",
    "\n",
    "# Define lists to store optimization results and errors\n",
    "all_errors = []\n",
    "results = []\n",
    "\n",
    "# List of optimization methods to try\n",
    "methods = ['Nelder-Mead']\n",
    "\n",
    "start_time_NM = timer.time()\n",
    "\n",
    "\n",
    "for method in methods:\n",
    "    print(f\"Running optimization with method: {method}\")\n",
    "    for initial_guess in initial_guesses_list:\n",
    "        current_errors = []\n",
    "        \n",
    "        # Adjust options based on the method\n",
    "        options = {'disp': True, 'maxiter': 1000}\n",
    "        if method == 'Nelder-Mead':\n",
    "            options.update({'xatol': 1e-9, 'fatol': 1e-9, 'maxfev': 2000})\n",
    "        elif method in ['L-BFGS-B', 'TNC', 'SLSQP']:\n",
    "            options.update({'ftol': 1e-9})\n",
    "\n",
    "        # Bounds are only passed if the method supports them\n",
    "        bounds = custom_bounds if method in ['L-BFGS-B', 'TNC', 'SLSQP', 'Powell'] else None\n",
    "        \n",
    "        res = minimize(\n",
    "            objective_minimize,\n",
    "            initial_guess,\n",
    "            args=(time, y_true),\n",
    "            method=method,\n",
    "            bounds=bounds,\n",
    "            callback=callback if method != 'TNC' else None,  # TNC does not support callback\n",
    "            options=options\n",
    "        )\n",
    "        \n",
    "        results.append({'method': method, 'result': res})\n",
    "        all_errors.append({'method': method, 'errors': current_errors})\n",
    "\n",
    "final_time_NM = timer.time() - start_time_NM \n",
    "\n",
    "# Printing the cumulative time\n",
    "print(f\"Final time for all iterations: {final_time_NM:.4f} seconds\")\n",
    "\n",
    "# Extracting function values and optimized parameters\n",
    "function_values = [res['result'].fun for res in results]\n",
    "optimized_parameters = [res['result'].x for res in results]"
   ]
  },
  {
   "cell_type": "code",
   "execution_count": 25,
   "id": "5fc3a9f3-0244-4cdb-bf64-94b234d3eaa7",
   "metadata": {},
   "outputs": [
    {
     "data": {
      "image/png": "[encoded data removed]",
      "text/plain": [
       "<Figure size 300x275 with 1 Axes>"
      ]
     },
     "metadata": {},
     "output_type": "display_data"
    }
   ],
   "source": [
    "# Filter errors by method\n",
    "nm_errors = [err['errors'] for err in all_errors if err['method'] == 'Nelder-Mead']\n",
    "#powell_errors = [err['errors'] for err in all_errors if err['method'] == 'Powell']\n",
    "#lbfgsb_errors = [err['errors'] for err in all_errors if err['method'] == 'L-BFGS-B']\n",
    "\n",
    "# Configure the Figure\n",
    "plt.figure(figsize=(3, 2.75), constrained_layout=True)\n",
    "\n",
    "# Plot errors for Nelder-Mead runs\n",
    "for i, error_list in enumerate(nm_errors):\n",
    "    plt.plot(\n",
    "        np.log10(error_list), \n",
    "        '-', \n",
    "        markersize=4,\n",
    "        color='#FF8C42',               # Orange for Nelder-Mead\n",
    "        label='NM' if i == 0 else \"\"  # Label only the first run\n",
    "    )\n",
    "\n",
    "# Plot errors for L-BFGS-B runs\n",
    "#for i, error_list in enumerate(lbfgsb_errors):\n",
    "#    plt.plot(\n",
    "#        np.log10(error_list), \n",
    "#        '-',                         # Dashed line for L-BFGS-B\n",
    "#        markersize=4,\n",
    "#        color='#1F77B4',              # Blue for L-BFGS-B\n",
    "#        label='L-BFGS-B' if i == 0 else \"\"     # Label only the first run\n",
    "#    )\n",
    "\n",
    "# Plot Initial Sobol Samples\n",
    "plt.plot(\n",
    "    iterations[:n_initial_points], \n",
    "    neg_objective_values[:n_initial_points], \n",
    "    'o', \n",
    "    markersize=8, \n",
    "    label='Sobol', \n",
    "    color='#89BFA9'\n",
    ")\n",
    "\n",
    "# Plot EI Samples\n",
    "plt.plot(\n",
    "    iterations[n_initial_points:], \n",
    "    neg_objective_values[n_initial_points:], \n",
    "    'o', \n",
    "    markersize=8, \n",
    "    label='logEI', \n",
    "    color='#60568A'\n",
    ")\n",
    "\n",
    "\n",
    "# Customize Plot Appearance\n",
    "plt.xlim(0, 135)                                          # Set x-axis limit\n",
    "plt.ylim(-0, 4.9)                                        # Uncomment and set y-axis limit if needed\n",
    "plt.xlabel('$n$', fontsize=14)                            # X-axis label\n",
    "plt.ylabel('$\\\\log$ RSS$_{w_{i}=y_{i}}$', fontsize=14)           # Y-axis label\n",
    "plt.xticks(fontsize=14)                                   # X-axis tick label size\n",
    "plt.yticks(fontsize=14)                                   # Y-axis tick label size\n",
    "plt.legend(fontsize=12, loc=\"upper right\", ncols=2, columnspacing=0.1, \n",
    "           #bbox_to_anchor=(1.05, 1)\n",
    "          )                       # Display legend\n",
    "\n",
    "# Display the Plot\n",
    "plt.savefig(\"fig_ei_relaxation_liquidfoam_comparison.pdf\")                    # Uncomment to save the plot\n",
    "plt.show()"
   ]
  },
  {
   "cell_type": "code",
   "execution_count": 26,
   "id": "41663527-480c-43b1-b019-0a434a03eea6",
   "metadata": {},
   "outputs": [
    {
     "name": "stdout",
     "output_type": "stream",
     "text": [
      "Best Nelder-Mead Parameters: [2.27113518 4.64547115 0.12957676]\n",
      "Best Nelder-Mead Function Value: 1.8270788622846506\n"
     ]
    },
    {
     "data": {
      "image/png": "[encoded data removed]",
      "text/plain": [
       "<Figure size 300x275 with 1 Axes>"
      ]
     },
     "metadata": {},
     "output_type": "display_data"
    }
   ],
   "source": [
    "# Find the best results for Nelder-Mead and L-BFGS-B\n",
    "nm_results = [res['result'] for res in results if res['method'] == 'Nelder-Mead']\n",
    "#lbfgsb_results = [res['result'] for res in results if res['method'] == 'L-BFGS-B']\n",
    "\n",
    "# Identify the best (lowest function value) result for each method\n",
    "best_nm_result = min(nm_results, key=lambda r: r.fun)\n",
    "#best_lbfgsb_result = min(lbfgsb_results, key=lambda r: r.fun)\n",
    "\n",
    "# Extract optimized parameters and function values\n",
    "best_nm_params = best_nm_result.x\n",
    "#best_lbfgsb_params = best_lbfgsb_result.x\n",
    "\n",
    "best_nm_value = best_nm_result.fun\n",
    "#best_lbfgsb_value = best_lbfgsb_result.fun\n",
    "\n",
    "# Print best results\n",
    "print(\"Best Nelder-Mead Parameters:\", best_nm_params)\n",
    "print(\"Best Nelder-Mead Function Value:\", best_nm_value)\n",
    "\n",
    "#print(\"Best L-BFGS-B Parameters:\", best_lbfgsb_params)\n",
    "#print(\"Best L-BFGS-B Function Value:\", best_lbfgsb_value)\n",
    "\n",
    "# Compute model outputs for both best parameter sets\n",
    "nm_model_values = evaluator.compute_model(\n",
    "    (10**best_nm_params[0], 10**best_nm_params[1], best_nm_params[2]), time\n",
    ")\n",
    "#lbfgsb_model_values = evaluator.compute_model(\n",
    "#    (best_lbfgsb_params[0], best_lbfgsb_params[1], best_lbfgsb_params[2]), time\n",
    "#)\n",
    "\n",
    "# Plot the data\n",
    "plt.figure(figsize=(3, 2.75))\n",
    "\n",
    "# Experimental data\n",
    "plt.plot(time, y_true, 'o', markersize=8, color='#89BFA9')\n",
    "\n",
    "# Nelder-Mead solution\n",
    "plt.plot(time, nm_model_values, '-', color='#FF8C42', lw=2, label='NM')\n",
    "\n",
    "# L-BFGS-B solution\n",
    "#plt.plot(time, lbfgsb_model_values, '-', color='#1F77B4', lw=2, label='L-BFGS-B')\n",
    "\n",
    "# BO solution\n",
    "plt.plot(time, bo_model_values, '--', color='#60568A', lw=2, label='BO')   # BO model fit\n",
    "\n",
    "\n",
    "# Configure the plot\n",
    "plt.xscale('log')\n",
    "plt.yscale('log')\n",
    "plt.xlabel('$t$ [s]', fontsize=14)\n",
    "plt.ylabel(r'$G(t)$ [Pa]', fontsize=14)\n",
    "plt.xticks(fontsize=14)\n",
    "plt.yticks(fontsize=14)\n",
    "plt.legend(fontsize=12, loc=\"lower left\")\n",
    "\n",
    "# Display the plot\n",
    "plt.savefig(\"fig_bo_fit_relaxation_data_liquidfoam_comparison.pdf\")  # Uncomment to save the plot\n",
    "plt.show()"
   ]
  },
  {
   "cell_type": "code",
   "execution_count": null,
   "id": "69f3d8fd-97f4-44b6-92c8-927e8f6be5ec",
   "metadata": {},
   "outputs": [],
   "source": []
  },
  {
   "cell_type": "code",
   "execution_count": null,
   "id": "eb3eebd5-cf12-4552-8c4d-7cd101595f96",
   "metadata": {},
   "outputs": [],
   "source": []
  }
 ],
 "metadata": {
  "kernelspec": {
   "display_name": "Python 3 (ipykernel)",
   "language": "python",
   "name": "python3"
  },
  "language_info": {
   "codemirror_mode": {
    "name": "ipython",
    "version": 3
   },
   "file_extension": ".py",
   "mimetype": "text/x-python",
   "name": "python",
   "nbconvert_exporter": "python",
   "pygments_lexer": "ipython3",
   "version": "3.10.10"
  }
 },
 "nbformat": 4,
 "nbformat_minor": 5
}

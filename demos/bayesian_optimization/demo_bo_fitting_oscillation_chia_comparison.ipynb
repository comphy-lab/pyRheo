{
 "cells": [
  {
   "cell_type": "markdown",
   "id": "f86531a5-a2fd-4b3c-8fc0-1f640ba4b316",
   "metadata": {},
   "source": [
    "## Bayesian optimization to infer Fractional Maxwell model fitting parameters for the oscillation data of a chia gel\n",
    "\n",
    "First, we are importing a variety of essential libraries that will help us with numerical computations, data manipulation, plotting, machine learning, Bayesian optimization, and other specialized tasks.\n",
    "\n",
    "### Libraries:\n",
    "- **NumPy (`numpy`)**: A fundamental package for numerical operations in Python.\n",
    "- **Pandas (`pandas`)**: A powerful data manipulation and analysis library.\n",
    "- **Matplotlib (`matplotlib.pyplot`)**: A plotting library used for creating static, animated, and interactive visualizations.\n",
    "- **SciPy Special Functions (`scipy.special`)**: Specifically importing the gamma function for mathematical computations.\n",
    "- **PyTorch (`torch`)**: A deep learning library for tensor computations and building neural networks.\n",
    "- **BoTorch and GPyTorch**: Libraries for Gaussian Process Regression:\n",
    "  - `SingleTaskGP`: For constructing Gaussian Process models.\n",
    "  - `Standardize`: For standardizing outcomes.\n",
    "  - `ExactMarginalLogLikelihood`: For exact marginal log likelihood calculation.\n",
    "  - `fit_gpytorch_mll`: For fitting GP models.\n",
    "- **Sobol Sequence (`sobol_seq`)**: For generating Sobol sequences for quasi-random sampling.\n",
    "- **BoTorch Acquisition and Optimization**:\n",
    "  - `qExpectedImprovement`: For Monte Carlo-based expected improvement.\n",
    "  - `optimize_acqf`: For optimizing the acquisition function.\n",
    "- **Scikit-Learn Preprocessing (`sklearn.preprocessing`)**: A collection of scalers for feature scaling, including:\n",
    "  - `MinMaxScaler`\n",
    "  - `RobustScaler`\n",
    "  - `StandardScaler`\n",
    "  - `MaxAbsScaler`\n",
    "- **pyRheo (`pyRheo.oscillation_evaluator`)**: A custom library for evaluating properties in oscillation.\n",
    "- **SciencePlots (`scienceplots`)**: A library to enhance Matplotlib plots with scientific visual styles.\n",
    "\n",
    "These imports will provide all the necessary tools for the subsequent analysis and model building steps in this notebook.\n"
   ]
  },
  {
   "cell_type": "code",
   "execution_count": 1,
   "id": "500d3598-5ca2-47f5-a48d-92470317db3c",
   "metadata": {},
   "outputs": [],
   "source": [
    "# Import packages\n",
    "import numpy as np\n",
    "import pandas as pd\n",
    "import matplotlib.pyplot as plt\n",
    "from scipy.special import gamma\n",
    "from scipy.optimize import minimize\n",
    "import torch\n",
    "from botorch.models.gp_regression import SingleTaskGP\n",
    "from botorch.models.transforms.outcome import Standardize\n",
    "from gpytorch.mlls.exact_marginal_log_likelihood import ExactMarginalLogLikelihood\n",
    "from botorch.fit import fit_gpytorch_mll\n",
    "import sobol_seq\n",
    "from botorch.acquisition.monte_carlo import qExpectedImprovement\n",
    "from botorch.acquisition.logei import qLogExpectedImprovement\n",
    "from botorch.optim.optimize import optimize_acqf\n",
    "from sklearn.preprocessing import MinMaxScaler, RobustScaler, StandardScaler, MaxAbsScaler\n",
    "from gpytorch.kernels import RBFKernel, MaternKernel, ScaleKernel\n",
    "from pyRheo.oscillation_evaluator import OscillationEvaluator\n",
    "import scienceplots\n",
    "plt.style.use(['science', 'nature', 'retro'])"
   ]
  },
  {
   "cell_type": "markdown",
   "id": "8774f387-717c-498e-b58f-6fdd776f721e",
   "metadata": {},
   "source": [
    "## Random Error Generation, Objective Function, Sobol Sampling and Model Initialization\n",
    "\n",
    "In this section, we define various key functions and setup procedures required for our model analysis and optimization:\n",
    "\n"
   ]
  },
  {
   "cell_type": "code",
   "execution_count": 2,
   "id": "b0965faf-e14f-4ad6-be86-382080f09dfe",
   "metadata": {},
   "outputs": [],
   "source": [
    "# Error function to add to the fractional rheology model\n",
    "def createRandomError(n, std):\n",
    "    return np.random.normal(loc=1, scale=std, size=n)\n",
    "\n",
    "# Objective function to minimize (RRS weighted by true values)\n",
    "def objective(params):\n",
    "    logG, logV, alpha, beta = params\n",
    "    G = 10 ** logG\n",
    "    V = 10 ** logV\n",
    "    params_no_scale = G, V, alpha, beta\n",
    "    model = \"FractionalKelvinVoigt\"\n",
    "    evaluator = OscillationEvaluator(model=model)\n",
    "    # Compute oscillation data\n",
    "    model_values = evaluator.compute_model(params_no_scale, omega) \n",
    "    # Add noise\n",
    "    error = createRandomError(omega.shape[0], 0.00)\n",
    "    model_values_noisy = np.multiply(model_values, error)\n",
    "    # Define objective functions\n",
    "    obj1 = np.sum(((G_prime - model_values_noisy[0]) / G_prime) ** 2) + np.sum(((G_double_prime - model_values_noisy[1]) / G_double_prime) ** 2)\n",
    "    return -np.log10(obj1) # we take the negative because the EI by default maximizes and we are looking to minimize\n",
    "    \n",
    "# Function to create Sobol samples\n",
    "def sobol_sample(space, n_samples, seed=42):\n",
    "    if seed is not None:\n",
    "        np.random.seed(seed)\n",
    "    sobol_samples = sobol_seq.i4_sobol_generate(len(space), n_samples)\n",
    "    sobol_scaled = sobol_samples * (space[:, 1] - space[:, 0]) + space[:, 0]\n",
    "    return np.array(sobol_scaled)\n",
    "\n",
    "# Initialize model function for single-objective problem\n",
    "def initialize_model(train_x, train_obj):\n",
    "    train_obj = train_obj.unsqueeze(-1)  # Add dimension for single task GP\n",
    "    model = SingleTaskGP(train_x, train_obj, covar_module=MaternKernel(nu=1.5),)\n",
    "                        #outcome_transform=Standardize(m=1))\n",
    "    mll = ExactMarginalLogLikelihood(model.likelihood, model)\n",
    "    return mll, model\n",
    "\n",
    "# Compute the qEI acquisition function to find new candidate points that maximize the objective\n",
    "def compute_qei_acquisition_function(model, train_x, bounds):\n",
    "    acq_func = qLogExpectedImprovement(\n",
    "        model=model,\n",
    "        best_f=train_x.max(),\n",
    "    )\n",
    "    candidates, _ = optimize_acqf(\n",
    "        acq_function=acq_func,\n",
    "        bounds=bounds,\n",
    "        q=1,  # Number of candidates to generate in a batch\n",
    "        num_restarts=5,\n",
    "        raw_samples=50,\n",
    "        options={\"batch_limit\": 5, \"maxiter\": 50},\n",
    "    )\n",
    "    return candidates"
   ]
  },
  {
   "cell_type": "markdown",
   "id": "25fad4a0-9f7f-48f7-8469-851b60ab5b60",
   "metadata": {},
   "source": [
    "## Loading Rheological Data and Defining Search Space\n",
    "\n",
    "In this section, we load the rheological data from a CSV file and define the search space bounds for our parameter optimization."
   ]
  },
  {
   "cell_type": "code",
   "execution_count": 3,
   "id": "f9e8ad61-5b92-4736-b5e9-f9fd6d428801",
   "metadata": {},
   "outputs": [],
   "source": [
    "# Load rheological data\n",
    "data = pd.read_csv('./data/chia_pudding/oscillation_chia_data.csv', delimiter=',', decimal=\".\")\n",
    "omega = data['Angular Frequency'].values\n",
    "G_prime = data['Storage Modulus'].values\n",
    "G_double_prime = data['Loss Modulus'].values\n",
    "y_true = np.concatenate([G_prime, G_double_prime])\n",
    "\n",
    "# Define search space bounds\n",
    "param_space = np.array([\n",
    "    [0, 2],  # log10 scale for G\n",
    "    [0, 2],  # log10 scale for V\n",
    "    [0.5, 1],   # real scale for alpha\n",
    "    [0, 0.5]   # real scale for beta\n",
    "])"
   ]
  },
  {
   "cell_type": "markdown",
   "id": "66be9fd5-5d49-4185-960c-4aaebb615318",
   "metadata": {},
   "source": [
    "## Exploration Phase: Initial Sampling, Scaling, and Model Initialization\n",
    "\n",
    "In this section, we conduct the initial exploration phase of our optimization process.\n"
   ]
  },
  {
   "cell_type": "code",
   "execution_count": 4,
   "id": "0ff673ff-b425-41ff-9442-8f37b022e274",
   "metadata": {},
   "outputs": [
    {
     "name": "stderr",
     "output_type": "stream",
     "text": [
      "/u/81/mirandi1/unix/.local/lib/python3.10/site-packages/botorch/models/utils/assorted.py:257: InputDataWarning: Input data is not contained to the unit cube. Please consider min-max scaling the input data.\n",
      "  check_min_max_scaling(\n",
      "/u/81/mirandi1/unix/.local/lib/python3.10/site-packages/botorch/models/utils/assorted.py:260: InputDataWarning: Data is not standardized (std = tensor([1.0690], dtype=torch.float64), mean = tensor([-4.0246e-16], dtype=torch.float64)). Please consider scaling the input to zero mean and unit variance.\n",
      "  check_standardization(Y=train_Y, raise_on_fail=raise_on_fail)\n"
     ]
    },
    {
     "data": {
      "text/plain": [
       "ExactMarginalLogLikelihood(\n",
       "  (likelihood): GaussianLikelihood(\n",
       "    (noise_covar): HomoskedasticNoise(\n",
       "      (noise_prior): GammaPrior()\n",
       "      (raw_noise_constraint): GreaterThan(1.000E-04)\n",
       "    )\n",
       "  )\n",
       "  (model): SingleTaskGP(\n",
       "    (likelihood): GaussianLikelihood(\n",
       "      (noise_covar): HomoskedasticNoise(\n",
       "        (noise_prior): GammaPrior()\n",
       "        (raw_noise_constraint): GreaterThan(1.000E-04)\n",
       "      )\n",
       "    )\n",
       "    (mean_module): ConstantMean()\n",
       "    (covar_module): MaternKernel(\n",
       "      (raw_lengthscale_constraint): Positive()\n",
       "    )\n",
       "  )\n",
       ")"
      ]
     },
     "execution_count": 4,
     "metadata": {},
     "output_type": "execute_result"
    }
   ],
   "source": [
    "# Set random seed\n",
    "seed = 42\n",
    "\n",
    "# Initial sampling using Sobol sequence\n",
    "n_initial_points = 8\n",
    "X_samples = sobol_sample(param_space, n_initial_points, seed=seed)\n",
    "y_samples = np.array([objective(x) for x in X_samples])\n",
    "\n",
    "# Apply MinMax scaling to the target values\n",
    "scaler = StandardScaler()\n",
    "y_samples_scaled = scaler.fit_transform(y_samples.reshape(-1, 1)).flatten()\n",
    "\n",
    "# Convert to tensors for BoTorch\n",
    "X_samples_tensor = torch.tensor(X_samples, dtype=torch.double)\n",
    "y_samples_tensor = torch.tensor(y_samples_scaled, dtype=torch.double)\n",
    "\n",
    "# Compute bounds for optimization\n",
    "bounds = torch.stack([\n",
    "    torch.tensor(param_space[:, 0], dtype=torch.double),\n",
    "    torch.tensor(param_space[:, 1], dtype=torch.double)\n",
    "])\n",
    "\n",
    "# Initialize and fit the GP model\n",
    "mll, model = initialize_model(X_samples_tensor, y_samples_tensor)\n",
    "fit_gpytorch_mll(mll)"
   ]
  },
  {
   "cell_type": "markdown",
   "id": "8d33474a-d014-4c30-9728-192667b05cac",
   "metadata": {},
   "source": [
    "## Exploitation Phase: Iterative Sampling and Model Updating\n",
    "\n",
    "In this section, we perform the exploitation phase of our optimization process. We iteratively generate new samples using the q-Expected Improvement (qEI) acquisition function, evaluate the objective function at these new sample points, and update our model accordingly.\n",
    "\n",
    "### Iterative Exploitation Process\n",
    "\n",
    "For each iteration in the exploitation phase:\n",
    "1. **Generate New Candidates**: We compute new candidate points using the qEI acquisition function.\n",
    "2. **Evaluate Objective**: The objective function is evaluated at the new candidate points.\n",
    "3. **Apply Scaling**: The new objective values are scaled using the previously defined MaxAbsScaler.\n",
    "4. **Update Samples and Objectives**: The new sample and corresponding objective values (both original and scaled) are appended to the existing lists of samples and objective values. We also save the index of the new sample for tracking purposes.\n",
    "5. **Update Tensors**: The updated samples and objective values are converted to tensors.\n",
    "6. **Model Update**: The GP model is re-initialized and fitted using the updated data.\n",
    "7. **Logging**: The iteration details, including the new sample and objective value, are printed.\n"
   ]
  },
  {
   "cell_type": "code",
   "execution_count": 5,
   "id": "2d521b90-f230-4820-acf7-5f747e3c2a98",
   "metadata": {},
   "outputs": [
    {
     "name": "stderr",
     "output_type": "stream",
     "text": [
      "/u/81/mirandi1/unix/.local/lib/python3.10/site-packages/botorch/models/utils/assorted.py:257: InputDataWarning: Input data is not contained to the unit cube. Please consider min-max scaling the input data.\n",
      "  check_min_max_scaling(\n",
      "/u/81/mirandi1/unix/.local/lib/python3.10/site-packages/botorch/models/utils/assorted.py:260: InputDataWarning: Data is not standardized (std = tensor([1.0409], dtype=torch.float64), mean = tensor([0.0963], dtype=torch.float64)). Please consider scaling the input to zero mean and unit variance.\n",
      "  check_standardization(Y=train_Y, raise_on_fail=raise_on_fail)\n",
      "/u/81/mirandi1/unix/.local/lib/python3.10/site-packages/botorch/models/utils/assorted.py:257: InputDataWarning: Input data is not contained to the unit cube. Please consider min-max scaling the input data.\n",
      "  check_min_max_scaling(\n",
      "/u/81/mirandi1/unix/.local/lib/python3.10/site-packages/botorch/models/utils/assorted.py:260: InputDataWarning: Data is not standardized (std = tensor([1.0082], dtype=torch.float64), mean = tensor([0.1694], dtype=torch.float64)). Please consider scaling the input to zero mean and unit variance.\n",
      "  check_standardization(Y=train_Y, raise_on_fail=raise_on_fail)\n"
     ]
    },
    {
     "name": "stdout",
     "output_type": "stream",
     "text": [
      "Exploitation 1/200 - New sample: [1.35758551 0.65615959 0.96655317 0.1446291 ], Objective value: -1.257429186366774\n",
      "Exploitation 2/200 - New sample: [1.69869764 0.4308071  0.88817733 0.        ], Objective value: -1.2727362626680128\n"
     ]
    },
    {
     "name": "stderr",
     "output_type": "stream",
     "text": [
      "/u/81/mirandi1/unix/.local/lib/python3.10/site-packages/botorch/models/utils/assorted.py:257: InputDataWarning: Input data is not contained to the unit cube. Please consider min-max scaling the input data.\n",
      "  check_min_max_scaling(\n",
      "/u/81/mirandi1/unix/.local/lib/python3.10/site-packages/botorch/models/utils/assorted.py:260: InputDataWarning: Data is not standardized (std = tensor([1.0671], dtype=torch.float64), mean = tensor([0.3120], dtype=torch.float64)). Please consider scaling the input to zero mean and unit variance.\n",
      "  check_standardization(Y=train_Y, raise_on_fail=raise_on_fail)\n",
      "/u/81/mirandi1/unix/.local/lib/python3.10/site-packages/botorch/models/utils/assorted.py:257: InputDataWarning: Input data is not contained to the unit cube. Please consider min-max scaling the input data.\n",
      "  check_min_max_scaling(\n",
      "/u/81/mirandi1/unix/.local/lib/python3.10/site-packages/botorch/models/utils/assorted.py:260: InputDataWarning: Data is not standardized (std = tensor([1.0254], dtype=torch.float64), mean = tensor([0.3488], dtype=torch.float64)). Please consider scaling the input to zero mean and unit variance.\n",
      "  check_standardization(Y=train_Y, raise_on_fail=raise_on_fail)\n"
     ]
    },
    {
     "name": "stdout",
     "output_type": "stream",
     "text": [
      "Exploitation 3/200 - New sample: [1.55752648 0.56354704 0.73629198 0.31437616], Objective value: -0.9196117097397192\n",
      "Exploitation 4/200 - New sample: [1.60961643 0.49572529 0.84034366 0.44664621], Objective value: -1.301415097967979\n"
     ]
    },
    {
     "name": "stderr",
     "output_type": "stream",
     "text": [
      "/u/81/mirandi1/unix/.local/lib/python3.10/site-packages/botorch/models/utils/assorted.py:257: InputDataWarning: Input data is not contained to the unit cube. Please consider min-max scaling the input data.\n",
      "  check_min_max_scaling(\n",
      "/u/81/mirandi1/unix/.local/lib/python3.10/site-packages/botorch/models/utils/assorted.py:260: InputDataWarning: Data is not standardized (std = tensor([1.0339], dtype=torch.float64), mean = tensor([0.4387], dtype=torch.float64)). Please consider scaling the input to zero mean and unit variance.\n",
      "  check_standardization(Y=train_Y, raise_on_fail=raise_on_fail)\n",
      "/u/81/mirandi1/unix/.local/lib/python3.10/site-packages/botorch/models/utils/assorted.py:257: InputDataWarning: Input data is not contained to the unit cube. Please consider min-max scaling the input data.\n",
      "  check_min_max_scaling(\n",
      "/u/81/mirandi1/unix/.local/lib/python3.10/site-packages/botorch/models/utils/assorted.py:260: InputDataWarning: Data is not standardized (std = tensor([1.0930], dtype=torch.float64), mean = tensor([0.5606], dtype=torch.float64)). Please consider scaling the input to zero mean and unit variance.\n",
      "  check_standardization(Y=train_Y, raise_on_fail=raise_on_fail)\n"
     ]
    },
    {
     "name": "stdout",
     "output_type": "stream",
     "text": [
      "Exploitation 5/200 - New sample: [1.51320666 0.6336274  0.6128368  0.19382991], Objective value: -1.0053032272345925\n",
      "Exploitation 6/200 - New sample: [1.59132778 0.64163043 0.73896037 0.21347248], Objective value: -0.7624248133791831\n"
     ]
    },
    {
     "name": "stderr",
     "output_type": "stream",
     "text": [
      "/u/81/mirandi1/unix/.local/lib/python3.10/site-packages/botorch/models/utils/assorted.py:257: InputDataWarning: Input data is not contained to the unit cube. Please consider min-max scaling the input data.\n",
      "  check_min_max_scaling(\n",
      "/u/81/mirandi1/unix/.local/lib/python3.10/site-packages/botorch/models/utils/assorted.py:260: InputDataWarning: Data is not standardized (std = tensor([1.1868], dtype=torch.float64), mean = tensor([0.7018], dtype=torch.float64)). Please consider scaling the input to zero mean and unit variance.\n",
      "  check_standardization(Y=train_Y, raise_on_fail=raise_on_fail)\n",
      "/u/81/mirandi1/unix/.local/lib/python3.10/site-packages/botorch/models/utils/assorted.py:257: InputDataWarning: Input data is not contained to the unit cube. Please consider min-max scaling the input data.\n",
      "  check_min_max_scaling(\n",
      "/u/81/mirandi1/unix/.local/lib/python3.10/site-packages/botorch/models/utils/assorted.py:260: InputDataWarning: Data is not standardized (std = tensor([1.2493], dtype=torch.float64), mean = tensor([0.8258], dtype=torch.float64)). Please consider scaling the input to zero mean and unit variance.\n",
      "  check_standardization(Y=train_Y, raise_on_fail=raise_on_fail)\n",
      "/u/81/mirandi1/unix/.local/lib/python3.10/site-packages/botorch/models/utils/assorted.py:257: InputDataWarning: Input data is not contained to the unit cube. Please consider min-max scaling the input data.\n",
      "  check_min_max_scaling(\n",
      "/u/81/mirandi1/unix/.local/lib/python3.10/site-packages/botorch/models/utils/assorted.py:260: InputDataWarning: Data is not standardized (std = tensor([1.2351], dtype=torch.float64), mean = tensor([0.7653], dtype=torch.float64)). Please consider scaling the input to zero mean and unit variance.\n",
      "  check_standardization(Y=train_Y, raise_on_fail=raise_on_fail)\n"
     ]
    },
    {
     "name": "stdout",
     "output_type": "stream",
     "text": [
      "Exploitation 7/200 - New sample: [1.66261621 0.72219547 0.76422125 0.21071522], Objective value: -0.5558673162080044\n",
      "Exploitation 8/200 - New sample: [1.72815255 0.79361632 0.76675708 0.21190713], Objective value: -0.5527061633185875\n",
      "Exploitation 9/200 - New sample: [0.  0.  0.5 0. ], Objective value: -1.6714128724016344\n"
     ]
    },
    {
     "name": "stderr",
     "output_type": "stream",
     "text": [
      "/u/81/mirandi1/unix/.local/lib/python3.10/site-packages/botorch/models/utils/assorted.py:257: InputDataWarning: Input data is not contained to the unit cube. Please consider min-max scaling the input data.\n",
      "  check_min_max_scaling(\n",
      "/u/81/mirandi1/unix/.local/lib/python3.10/site-packages/botorch/models/utils/assorted.py:260: InputDataWarning: Data is not standardized (std = tensor([1.2476], dtype=torch.float64), mean = tensor([0.8473], dtype=torch.float64)). Please consider scaling the input to zero mean and unit variance.\n",
      "  check_standardization(Y=train_Y, raise_on_fail=raise_on_fail)\n",
      "/u/81/mirandi1/unix/.local/lib/python3.10/site-packages/botorch/models/utils/assorted.py:257: InputDataWarning: Input data is not contained to the unit cube. Please consider min-max scaling the input data.\n",
      "  check_min_max_scaling(\n",
      "/u/81/mirandi1/unix/.local/lib/python3.10/site-packages/botorch/models/utils/assorted.py:260: InputDataWarning: Data is not standardized (std = tensor([1.3644], dtype=torch.float64), mean = tensor([0.9908], dtype=torch.float64)). Please consider scaling the input to zero mean and unit variance.\n",
      "  check_standardization(Y=train_Y, raise_on_fail=raise_on_fail)\n"
     ]
    },
    {
     "name": "stdout",
     "output_type": "stream",
     "text": [
      "Exploitation 10/200 - New sample: [1.66573557 0.79147077 0.79293049 0.23337916], Objective value: -0.725423656025975\n",
      "Exploitation 11/200 - New sample: [1.76712496 0.72750712 0.72062484 0.18361032], Objective value: -0.2088086530352375\n"
     ]
    },
    {
     "name": "stderr",
     "output_type": "stream",
     "text": [
      "/u/81/mirandi1/unix/.local/lib/python3.10/site-packages/botorch/models/utils/assorted.py:257: InputDataWarning: Input data is not contained to the unit cube. Please consider min-max scaling the input data.\n",
      "  check_min_max_scaling(\n",
      "/u/81/mirandi1/unix/.local/lib/python3.10/site-packages/botorch/models/utils/assorted.py:260: InputDataWarning: Data is not standardized (std = tensor([1.4488], dtype=torch.float64), mean = tensor([1.1203], dtype=torch.float64)). Please consider scaling the input to zero mean and unit variance.\n",
      "  check_standardization(Y=train_Y, raise_on_fail=raise_on_fail)\n",
      "/u/81/mirandi1/unix/.local/lib/python3.10/site-packages/botorch/models/utils/assorted.py:257: InputDataWarning: Input data is not contained to the unit cube. Please consider min-max scaling the input data.\n",
      "  check_min_max_scaling(\n",
      "/u/81/mirandi1/unix/.local/lib/python3.10/site-packages/botorch/models/utils/assorted.py:260: InputDataWarning: Data is not standardized (std = tensor([1.6170], dtype=torch.float64), mean = tensor([1.2922], dtype=torch.float64)). Please consider scaling the input to zero mean and unit variance.\n",
      "  check_standardization(Y=train_Y, raise_on_fail=raise_on_fail)\n"
     ]
    },
    {
     "name": "stdout",
     "output_type": "stream",
     "text": [
      "Exploitation 12/200 - New sample: [1.81200943 0.69720257 0.68460902 0.17415959], Objective value: -0.20651127775185427\n",
      "Exploitation 13/200 - New sample: [1.81111592 0.70929644 0.73482128 0.14228737], Objective value: 0.23845562625235925\n"
     ]
    },
    {
     "name": "stderr",
     "output_type": "stream",
     "text": [
      "/u/81/mirandi1/unix/.local/lib/python3.10/site-packages/botorch/models/utils/assorted.py:257: InputDataWarning: Input data is not contained to the unit cube. Please consider min-max scaling the input data.\n",
      "  check_min_max_scaling(\n",
      "/u/81/mirandi1/unix/.local/lib/python3.10/site-packages/botorch/models/utils/assorted.py:260: InputDataWarning: Data is not standardized (std = tensor([1.6526], dtype=torch.float64), mean = tensor([1.3969], dtype=torch.float64)). Please consider scaling the input to zero mean and unit variance.\n",
      "  check_standardization(Y=train_Y, raise_on_fail=raise_on_fail)\n",
      "/u/81/mirandi1/unix/.local/lib/python3.10/site-packages/botorch/models/utils/assorted.py:257: InputDataWarning: Input data is not contained to the unit cube. Please consider min-max scaling the input data.\n",
      "  check_min_max_scaling(\n",
      "/u/81/mirandi1/unix/.local/lib/python3.10/site-packages/botorch/models/utils/assorted.py:260: InputDataWarning: Data is not standardized (std = tensor([1.6147], dtype=torch.float64), mean = tensor([1.4003], dtype=torch.float64)). Please consider scaling the input to zero mean and unit variance.\n",
      "  check_standardization(Y=train_Y, raise_on_fail=raise_on_fail)\n"
     ]
    },
    {
     "name": "stdout",
     "output_type": "stream",
     "text": [
      "Exploitation 14/200 - New sample: [1.88057357 0.70742794 0.74458739 0.10295591], Objective value: -0.2013216633119218\n",
      "Exploitation 15/200 - New sample: [1.78383549 0.74816335 0.68627228 0.02412085], Objective value: -1.0217806753909426\n"
     ]
    },
    {
     "name": "stderr",
     "output_type": "stream",
     "text": [
      "/u/81/mirandi1/unix/.local/lib/python3.10/site-packages/botorch/models/utils/assorted.py:257: InputDataWarning: Input data is not contained to the unit cube. Please consider min-max scaling the input data.\n",
      "  check_min_max_scaling(\n",
      "/u/81/mirandi1/unix/.local/lib/python3.10/site-packages/botorch/models/utils/assorted.py:260: InputDataWarning: Data is not standardized (std = tensor([1.6177], dtype=torch.float64), mean = tensor([1.4720], dtype=torch.float64)). Please consider scaling the input to zero mean and unit variance.\n",
      "  check_standardization(Y=train_Y, raise_on_fail=raise_on_fail)\n"
     ]
    },
    {
     "name": "stdout",
     "output_type": "stream",
     "text": [
      "Exploitation 16/200 - New sample: [1.8365318  0.6698575  0.78671371 0.18435275], Objective value: -0.3847560053831896\n"
     ]
    },
    {
     "name": "stderr",
     "output_type": "stream",
     "text": [
      "/u/81/mirandi1/unix/.local/lib/python3.10/site-packages/botorch/models/utils/assorted.py:257: InputDataWarning: Input data is not contained to the unit cube. Please consider min-max scaling the input data.\n",
      "  check_min_max_scaling(\n",
      "/u/81/mirandi1/unix/.local/lib/python3.10/site-packages/botorch/models/utils/assorted.py:260: InputDataWarning: Data is not standardized (std = tensor([1.5837], dtype=torch.float64), mean = tensor([1.4690], dtype=torch.float64)). Please consider scaling the input to zero mean and unit variance.\n",
      "  check_standardization(Y=train_Y, raise_on_fail=raise_on_fail)\n",
      "/u/81/mirandi1/unix/.local/lib/python3.10/site-packages/botorch/models/utils/assorted.py:257: InputDataWarning: Input data is not contained to the unit cube. Please consider min-max scaling the input data.\n",
      "  check_min_max_scaling(\n",
      "/u/81/mirandi1/unix/.local/lib/python3.10/site-packages/botorch/models/utils/assorted.py:260: InputDataWarning: Data is not standardized (std = tensor([1.6582], dtype=torch.float64), mean = tensor([1.5837], dtype=torch.float64)). Please consider scaling the input to zero mean and unit variance.\n",
      "  check_standardization(Y=train_Y, raise_on_fail=raise_on_fail)\n"
     ]
    },
    {
     "name": "stdout",
     "output_type": "stream",
     "text": [
      "Exploitation 17/200 - New sample: [1.88280976 0.75911593 0.70953085 0.23179895], Objective value: -1.0512766908615607\n",
      "Exploitation 18/200 - New sample: [1.78966678 0.67914725 0.7485244  0.12601559], Objective value: 0.12991385652155452\n",
      "Exploitation 19/200 - New sample: [1.80629969 0.7088397  0.75027005 0.12943256], Objective value: 0.33809094637481\n"
     ]
    },
    {
     "name": "stderr",
     "output_type": "stream",
     "text": [
      "/u/81/mirandi1/unix/.local/lib/python3.10/site-packages/botorch/models/utils/assorted.py:257: InputDataWarning: Input data is not contained to the unit cube. Please consider min-max scaling the input data.\n",
      "  check_min_max_scaling(\n",
      "/u/81/mirandi1/unix/.local/lib/python3.10/site-packages/botorch/models/utils/assorted.py:260: InputDataWarning: Data is not standardized (std = tensor([1.7530], dtype=torch.float64), mean = tensor([1.7097], dtype=torch.float64)). Please consider scaling the input to zero mean and unit variance.\n",
      "  check_standardization(Y=train_Y, raise_on_fail=raise_on_fail)\n",
      "/u/81/mirandi1/unix/.local/lib/python3.10/site-packages/botorch/models/utils/assorted.py:257: InputDataWarning: Input data is not contained to the unit cube. Please consider min-max scaling the input data.\n",
      "  check_min_max_scaling(\n",
      "/u/81/mirandi1/unix/.local/lib/python3.10/site-packages/botorch/models/utils/assorted.py:260: InputDataWarning: Data is not standardized (std = tensor([1.8393], dtype=torch.float64), mean = tensor([1.8328], dtype=torch.float64)). Please consider scaling the input to zero mean and unit variance.\n",
      "  check_standardization(Y=train_Y, raise_on_fail=raise_on_fail)\n"
     ]
    },
    {
     "name": "stdout",
     "output_type": "stream",
     "text": [
      "Exploitation 20/200 - New sample: [1.80380524 0.71977015 0.76478618 0.12538737], Objective value: 0.40302456019160354\n"
     ]
    },
    {
     "name": "stderr",
     "output_type": "stream",
     "text": [
      "/u/81/mirandi1/unix/.local/lib/python3.10/site-packages/botorch/models/utils/assorted.py:257: InputDataWarning: Input data is not contained to the unit cube. Please consider min-max scaling the input data.\n",
      "  check_min_max_scaling(\n",
      "/u/81/mirandi1/unix/.local/lib/python3.10/site-packages/botorch/models/utils/assorted.py:260: InputDataWarning: Data is not standardized (std = tensor([1.8908], dtype=torch.float64), mean = tensor([1.9367], dtype=torch.float64)). Please consider scaling the input to zero mean and unit variance.\n",
      "  check_standardization(Y=train_Y, raise_on_fail=raise_on_fail)\n"
     ]
    },
    {
     "name": "stdout",
     "output_type": "stream",
     "text": [
      "Exploitation 21/200 - New sample: [1.78846518 0.72763425 0.76737342 0.12022791], Objective value: 0.28315556989523627\n"
     ]
    },
    {
     "name": "stderr",
     "output_type": "stream",
     "text": [
      "/u/81/mirandi1/unix/.local/lib/python3.10/site-packages/botorch/models/utils/assorted.py:257: InputDataWarning: Input data is not contained to the unit cube. Please consider min-max scaling the input data.\n",
      "  check_min_max_scaling(\n",
      "/u/81/mirandi1/unix/.local/lib/python3.10/site-packages/botorch/models/utils/assorted.py:260: InputDataWarning: Data is not standardized (std = tensor([1.9554], dtype=torch.float64), mean = tensor([2.0480], dtype=torch.float64)). Please consider scaling the input to zero mean and unit variance.\n",
      "  check_standardization(Y=train_Y, raise_on_fail=raise_on_fail)\n"
     ]
    },
    {
     "name": "stdout",
     "output_type": "stream",
     "text": [
      "Exploitation 22/200 - New sample: [1.81464954 0.71849037 0.77206918 0.1249878 ], Objective value: 0.4494291997664739\n"
     ]
    },
    {
     "name": "stderr",
     "output_type": "stream",
     "text": [
      "/u/81/mirandi1/unix/.local/lib/python3.10/site-packages/botorch/models/utils/assorted.py:257: InputDataWarning: Input data is not contained to the unit cube. Please consider min-max scaling the input data.\n",
      "  check_min_max_scaling(\n",
      "/u/81/mirandi1/unix/.local/lib/python3.10/site-packages/botorch/models/utils/assorted.py:260: InputDataWarning: Data is not standardized (std = tensor([1.9973], dtype=torch.float64), mean = tensor([2.1452], dtype=torch.float64)). Please consider scaling the input to zero mean and unit variance.\n",
      "  check_standardization(Y=train_Y, raise_on_fail=raise_on_fail)\n"
     ]
    },
    {
     "name": "stdout",
     "output_type": "stream",
     "text": [
      "Exploitation 23/200 - New sample: [1.81615558 0.71510587 0.78008466 0.11596927], Objective value: 0.3674741402066095\n"
     ]
    },
    {
     "name": "stderr",
     "output_type": "stream",
     "text": [
      "/u/81/mirandi1/unix/.local/lib/python3.10/site-packages/botorch/models/utils/assorted.py:257: InputDataWarning: Input data is not contained to the unit cube. Please consider min-max scaling the input data.\n",
      "  check_min_max_scaling(\n",
      "/u/81/mirandi1/unix/.local/lib/python3.10/site-packages/botorch/models/utils/assorted.py:260: InputDataWarning: Data is not standardized (std = tensor([2.0387], dtype=torch.float64), mean = tensor([2.2413], dtype=torch.float64)). Please consider scaling the input to zero mean and unit variance.\n",
      "  check_standardization(Y=train_Y, raise_on_fail=raise_on_fail)\n"
     ]
    },
    {
     "name": "stdout",
     "output_type": "stream",
     "text": [
      "Exploitation 24/200 - New sample: [1.817411   0.72657681 0.77201378 0.13326527], Objective value: 0.4282901927314636\n"
     ]
    },
    {
     "name": "stderr",
     "output_type": "stream",
     "text": [
      "/u/81/mirandi1/unix/.local/lib/python3.10/site-packages/botorch/models/utils/assorted.py:257: InputDataWarning: Input data is not contained to the unit cube. Please consider min-max scaling the input data.\n",
      "  check_min_max_scaling(\n",
      "/u/81/mirandi1/unix/.local/lib/python3.10/site-packages/botorch/models/utils/assorted.py:260: InputDataWarning: Data is not standardized (std = tensor([2.0708], dtype=torch.float64), mean = tensor([2.3304], dtype=torch.float64)). Please consider scaling the input to zero mean and unit variance.\n",
      "  check_standardization(Y=train_Y, raise_on_fail=raise_on_fail)\n"
     ]
    },
    {
     "name": "stdout",
     "output_type": "stream",
     "text": [
      "Exploitation 25/200 - New sample: [1.80715365 0.71622535 0.7753846  0.13730387], Objective value: 0.41309659597963755\n"
     ]
    },
    {
     "name": "stderr",
     "output_type": "stream",
     "text": [
      "/u/81/mirandi1/unix/.local/lib/python3.10/site-packages/botorch/models/utils/assorted.py:257: InputDataWarning: Input data is not contained to the unit cube. Please consider min-max scaling the input data.\n",
      "  check_min_max_scaling(\n",
      "/u/81/mirandi1/unix/.local/lib/python3.10/site-packages/botorch/models/utils/assorted.py:260: InputDataWarning: Data is not standardized (std = tensor([2.0981], dtype=torch.float64), mean = tensor([2.4151], dtype=torch.float64)). Please consider scaling the input to zero mean and unit variance.\n",
      "  check_standardization(Y=train_Y, raise_on_fail=raise_on_fail)\n"
     ]
    },
    {
     "name": "stdout",
     "output_type": "stream",
     "text": [
      "Exploitation 26/200 - New sample: [1.81666627 0.71447648 0.76646459 0.13212066], Objective value: 0.423607623046528\n"
     ]
    },
    {
     "name": "stderr",
     "output_type": "stream",
     "text": [
      "/u/81/mirandi1/unix/.local/lib/python3.10/site-packages/botorch/models/utils/assorted.py:257: InputDataWarning: Input data is not contained to the unit cube. Please consider min-max scaling the input data.\n",
      "  check_min_max_scaling(\n",
      "/u/81/mirandi1/unix/.local/lib/python3.10/site-packages/botorch/models/utils/assorted.py:260: InputDataWarning: Data is not standardized (std = tensor([2.1240], dtype=torch.float64), mean = tensor([2.4977], dtype=torch.float64)). Please consider scaling the input to zero mean and unit variance.\n",
      "  check_standardization(Y=train_Y, raise_on_fail=raise_on_fail)\n",
      "/u/81/mirandi1/unix/.local/lib/python3.10/site-packages/botorch/models/utils/assorted.py:257: InputDataWarning: Input data is not contained to the unit cube. Please consider min-max scaling the input data.\n",
      "  check_min_max_scaling(\n",
      "/u/81/mirandi1/unix/.local/lib/python3.10/site-packages/botorch/models/utils/assorted.py:260: InputDataWarning: Data is not standardized (std = tensor([2.1085], dtype=torch.float64), mean = tensor([2.5397], dtype=torch.float64)). Please consider scaling the input to zero mean and unit variance.\n",
      "  check_standardization(Y=train_Y, raise_on_fail=raise_on_fail)\n"
     ]
    },
    {
     "name": "stdout",
     "output_type": "stream",
     "text": [
      "Exploitation 27/200 - New sample: [1.81359083 0.72158686 0.77273752 0.12915468], Objective value: 0.4622720338553876\n",
      "Exploitation 28/200 - New sample: [1.80666091 0.76691176 0.8455839  0.12500247], Objective value: -0.041240331456121604\n"
     ]
    },
    {
     "name": "stderr",
     "output_type": "stream",
     "text": [
      "/u/81/mirandi1/unix/.local/lib/python3.10/site-packages/botorch/models/utils/assorted.py:257: InputDataWarning: Input data is not contained to the unit cube. Please consider min-max scaling the input data.\n",
      "  check_min_max_scaling(\n",
      "/u/81/mirandi1/unix/.local/lib/python3.10/site-packages/botorch/models/utils/assorted.py:260: InputDataWarning: Data is not standardized (std = tensor([2.1295], dtype=torch.float64), mean = tensor([2.6154], dtype=torch.float64)). Please consider scaling the input to zero mean and unit variance.\n",
      "  check_standardization(Y=train_Y, raise_on_fail=raise_on_fail)\n"
     ]
    },
    {
     "name": "stdout",
     "output_type": "stream",
     "text": [
      "Exploitation 29/200 - New sample: [1.81135816 0.72561603 0.77826471 0.12813839], Objective value: 0.475954333097591\n"
     ]
    },
    {
     "name": "stderr",
     "output_type": "stream",
     "text": [
      "/u/81/mirandi1/unix/.local/lib/python3.10/site-packages/botorch/models/utils/assorted.py:257: InputDataWarning: Input data is not contained to the unit cube. Please consider min-max scaling the input data.\n",
      "  check_min_max_scaling(\n",
      "/u/81/mirandi1/unix/.local/lib/python3.10/site-packages/botorch/models/utils/assorted.py:260: InputDataWarning: Data is not standardized (std = tensor([2.1465], dtype=torch.float64), mean = tensor([2.6871], dtype=torch.float64)). Please consider scaling the input to zero mean and unit variance.\n",
      "  check_standardization(Y=train_Y, raise_on_fail=raise_on_fail)\n",
      "/u/81/mirandi1/unix/.local/lib/python3.10/site-packages/botorch/models/utils/assorted.py:257: InputDataWarning: Input data is not contained to the unit cube. Please consider min-max scaling the input data.\n",
      "  check_min_max_scaling(\n",
      "/u/81/mirandi1/unix/.local/lib/python3.10/site-packages/botorch/models/utils/assorted.py:260: InputDataWarning: Data is not standardized (std = tensor([2.1605], dtype=torch.float64), mean = tensor([2.7554], dtype=torch.float64)). Please consider scaling the input to zero mean and unit variance.\n",
      "  check_standardization(Y=train_Y, raise_on_fail=raise_on_fail)\n"
     ]
    },
    {
     "name": "stdout",
     "output_type": "stream",
     "text": [
      "Exploitation 30/200 - New sample: [1.80932084 0.73106818 0.78519499 0.12816094], Objective value: 0.4742253066266811\n",
      "Exploitation 31/200 - New sample: [1.80965854 0.72877453 0.78080755 0.12710456], Objective value: 0.4780335898880156\n"
     ]
    },
    {
     "name": "stderr",
     "output_type": "stream",
     "text": [
      "/u/81/mirandi1/unix/.local/lib/python3.10/site-packages/botorch/models/utils/assorted.py:257: InputDataWarning: Input data is not contained to the unit cube. Please consider min-max scaling the input data.\n",
      "  check_min_max_scaling(\n",
      "/u/81/mirandi1/unix/.local/lib/python3.10/site-packages/botorch/models/utils/assorted.py:260: InputDataWarning: Data is not standardized (std = tensor([2.1717], dtype=torch.float64), mean = tensor([2.8202], dtype=torch.float64)). Please consider scaling the input to zero mean and unit variance.\n",
      "  check_standardization(Y=train_Y, raise_on_fail=raise_on_fail)\n"
     ]
    },
    {
     "name": "stdout",
     "output_type": "stream",
     "text": [
      "Exploitation 32/200 - New sample: [1.81230328 0.73255912 0.78160451 0.12485978], Objective value: 0.4781038537742183\n"
     ]
    },
    {
     "name": "stderr",
     "output_type": "stream",
     "text": [
      "/u/81/mirandi1/unix/.local/lib/python3.10/site-packages/botorch/models/utils/assorted.py:257: InputDataWarning: Input data is not contained to the unit cube. Please consider min-max scaling the input data.\n",
      "  check_min_max_scaling(\n",
      "/u/81/mirandi1/unix/.local/lib/python3.10/site-packages/botorch/models/utils/assorted.py:260: InputDataWarning: Data is not standardized (std = tensor([2.1806], dtype=torch.float64), mean = tensor([2.8820], dtype=torch.float64)). Please consider scaling the input to zero mean and unit variance.\n",
      "  check_standardization(Y=train_Y, raise_on_fail=raise_on_fail)\n",
      "/u/81/mirandi1/unix/.local/lib/python3.10/site-packages/botorch/models/utils/assorted.py:257: InputDataWarning: Input data is not contained to the unit cube. Please consider min-max scaling the input data.\n",
      "  check_min_max_scaling(\n",
      "/u/81/mirandi1/unix/.local/lib/python3.10/site-packages/botorch/models/utils/assorted.py:260: InputDataWarning: Data is not standardized (std = tensor([2.1873], dtype=torch.float64), mean = tensor([2.9408], dtype=torch.float64)). Please consider scaling the input to zero mean and unit variance.\n",
      "  check_standardization(Y=train_Y, raise_on_fail=raise_on_fail)\n"
     ]
    },
    {
     "name": "stdout",
     "output_type": "stream",
     "text": [
      "Exploitation 33/200 - New sample: [1.81251712 0.72925932 0.78214496 0.12641165], Objective value: 0.47992661568035333\n",
      "Exploitation 34/200 - New sample: [1.81156968 0.73096776 0.78091908 0.12742699], Objective value: 0.4787483646504011\n"
     ]
    },
    {
     "name": "stderr",
     "output_type": "stream",
     "text": [
      "/u/81/mirandi1/unix/.local/lib/python3.10/site-packages/botorch/models/utils/assorted.py:257: InputDataWarning: Input data is not contained to the unit cube. Please consider min-max scaling the input data.\n",
      "  check_min_max_scaling(\n",
      "/u/81/mirandi1/unix/.local/lib/python3.10/site-packages/botorch/models/utils/assorted.py:260: InputDataWarning: Data is not standardized (std = tensor([2.1920], dtype=torch.float64), mean = tensor([2.9967], dtype=torch.float64)). Please consider scaling the input to zero mean and unit variance.\n",
      "  check_standardization(Y=train_Y, raise_on_fail=raise_on_fail)\n"
     ]
    },
    {
     "name": "stdout",
     "output_type": "stream",
     "text": [
      "Exploitation 35/200 - New sample: [1.81108102 0.729465   0.78129149 0.1251533 ], Objective value: 0.4773832726033746\n"
     ]
    },
    {
     "name": "stderr",
     "output_type": "stream",
     "text": [
      "/u/81/mirandi1/unix/.local/lib/python3.10/site-packages/botorch/models/utils/assorted.py:257: InputDataWarning: Input data is not contained to the unit cube. Please consider min-max scaling the input data.\n",
      "  check_min_max_scaling(\n",
      "/u/81/mirandi1/unix/.local/lib/python3.10/site-packages/botorch/models/utils/assorted.py:260: InputDataWarning: Data is not standardized (std = tensor([2.1952], dtype=torch.float64), mean = tensor([3.0501], dtype=torch.float64)). Please consider scaling the input to zero mean and unit variance.\n",
      "  check_standardization(Y=train_Y, raise_on_fail=raise_on_fail)\n"
     ]
    },
    {
     "name": "stdout",
     "output_type": "stream",
     "text": [
      "Exploitation 36/200 - New sample: [1.81421703 0.73099352 0.78463995 0.12676844], Objective value: 0.4770905481765684\n"
     ]
    },
    {
     "name": "stderr",
     "output_type": "stream",
     "text": [
      "/u/81/mirandi1/unix/.local/lib/python3.10/site-packages/botorch/models/utils/assorted.py:257: InputDataWarning: Input data is not contained to the unit cube. Please consider min-max scaling the input data.\n",
      "  check_min_max_scaling(\n",
      "/u/81/mirandi1/unix/.local/lib/python3.10/site-packages/botorch/models/utils/assorted.py:260: InputDataWarning: Data is not standardized (std = tensor([2.1964], dtype=torch.float64), mean = tensor([3.1007], dtype=torch.float64)). Please consider scaling the input to zero mean and unit variance.\n",
      "  check_standardization(Y=train_Y, raise_on_fail=raise_on_fail)\n"
     ]
    },
    {
     "name": "stdout",
     "output_type": "stream",
     "text": [
      "Exploitation 37/200 - New sample: [1.81251886 0.73928188 0.7870441  0.12546482], Objective value: 0.4686874685644984\n"
     ]
    },
    {
     "name": "stderr",
     "output_type": "stream",
     "text": [
      "/u/81/mirandi1/unix/.local/lib/python3.10/site-packages/botorch/models/utils/assorted.py:257: InputDataWarning: Input data is not contained to the unit cube. Please consider min-max scaling the input data.\n",
      "  check_min_max_scaling(\n",
      "/u/81/mirandi1/unix/.local/lib/python3.10/site-packages/botorch/models/utils/assorted.py:260: InputDataWarning: Data is not standardized (std = tensor([2.1968], dtype=torch.float64), mean = tensor([3.1493], dtype=torch.float64)). Please consider scaling the input to zero mean and unit variance.\n",
      "  check_standardization(Y=train_Y, raise_on_fail=raise_on_fail)\n"
     ]
    },
    {
     "name": "stdout",
     "output_type": "stream",
     "text": [
      "Exploitation 38/200 - New sample: [1.81102666 0.73474256 0.78345783 0.12791534], Objective value: 0.4741242896038036\n"
     ]
    },
    {
     "name": "stderr",
     "output_type": "stream",
     "text": [
      "/u/81/mirandi1/unix/.local/lib/python3.10/site-packages/botorch/models/utils/assorted.py:257: InputDataWarning: Input data is not contained to the unit cube. Please consider min-max scaling the input data.\n",
      "  check_min_max_scaling(\n",
      "/u/81/mirandi1/unix/.local/lib/python3.10/site-packages/botorch/models/utils/assorted.py:260: InputDataWarning: Data is not standardized (std = tensor([2.1962], dtype=torch.float64), mean = tensor([3.1960], dtype=torch.float64)). Please consider scaling the input to zero mean and unit variance.\n",
      "  check_standardization(Y=train_Y, raise_on_fail=raise_on_fail)\n"
     ]
    },
    {
     "name": "stdout",
     "output_type": "stream",
     "text": [
      "Exploitation 39/200 - New sample: [1.81158452 0.73264352 0.7852714  0.1245523 ], Objective value: 0.4760051083252428\n"
     ]
    },
    {
     "name": "stderr",
     "output_type": "stream",
     "text": [
      "/u/81/mirandi1/unix/.local/lib/python3.10/site-packages/botorch/models/utils/assorted.py:257: InputDataWarning: Input data is not contained to the unit cube. Please consider min-max scaling the input data.\n",
      "  check_min_max_scaling(\n",
      "/u/81/mirandi1/unix/.local/lib/python3.10/site-packages/botorch/models/utils/assorted.py:260: InputDataWarning: Data is not standardized (std = tensor([2.1942], dtype=torch.float64), mean = tensor([3.2402], dtype=torch.float64)). Please consider scaling the input to zero mean and unit variance.\n",
      "  check_standardization(Y=train_Y, raise_on_fail=raise_on_fail)\n"
     ]
    },
    {
     "name": "stdout",
     "output_type": "stream",
     "text": [
      "Exploitation 40/200 - New sample: [1.81430754 0.73329645 0.78823877 0.12795389], Objective value: 0.4654687472737892\n"
     ]
    },
    {
     "name": "stderr",
     "output_type": "stream",
     "text": [
      "/u/81/mirandi1/unix/.local/lib/python3.10/site-packages/botorch/models/utils/assorted.py:257: InputDataWarning: Input data is not contained to the unit cube. Please consider min-max scaling the input data.\n",
      "  check_min_max_scaling(\n",
      "/u/81/mirandi1/unix/.local/lib/python3.10/site-packages/botorch/models/utils/assorted.py:260: InputDataWarning: Data is not standardized (std = tensor([2.1863], dtype=torch.float64), mean = tensor([3.2768], dtype=torch.float64)). Please consider scaling the input to zero mean and unit variance.\n",
      "  check_standardization(Y=train_Y, raise_on_fail=raise_on_fail)\n"
     ]
    },
    {
     "name": "stdout",
     "output_type": "stream",
     "text": [
      "Exploitation 41/200 - New sample: [1.82532889 0.76161856 0.78401344 0.11307768], Objective value: 0.3564118987984458\n"
     ]
    },
    {
     "name": "stderr",
     "output_type": "stream",
     "text": [
      "/u/81/mirandi1/unix/.local/lib/python3.10/site-packages/botorch/models/utils/assorted.py:257: InputDataWarning: Input data is not contained to the unit cube. Please consider min-max scaling the input data.\n",
      "  check_min_max_scaling(\n",
      "/u/81/mirandi1/unix/.local/lib/python3.10/site-packages/botorch/models/utils/assorted.py:260: InputDataWarning: Data is not standardized (std = tensor([2.1837], dtype=torch.float64), mean = tensor([3.3184], dtype=torch.float64)). Please consider scaling the input to zero mean and unit variance.\n",
      "  check_standardization(Y=train_Y, raise_on_fail=raise_on_fail)\n"
     ]
    },
    {
     "name": "stdout",
     "output_type": "stream",
     "text": [
      "Exploitation 42/200 - New sample: [1.81263289 0.73006302 0.78097117 0.12631164], Objective value: 0.4796456339525037\n"
     ]
    },
    {
     "name": "stderr",
     "output_type": "stream",
     "text": [
      "/u/81/mirandi1/unix/.local/lib/python3.10/site-packages/botorch/models/utils/assorted.py:257: InputDataWarning: Input data is not contained to the unit cube. Please consider min-max scaling the input data.\n",
      "  check_min_max_scaling(\n",
      "/u/81/mirandi1/unix/.local/lib/python3.10/site-packages/botorch/models/utils/assorted.py:260: InputDataWarning: Data is not standardized (std = tensor([2.1801], dtype=torch.float64), mean = tensor([3.3579], dtype=torch.float64)). Please consider scaling the input to zero mean and unit variance.\n",
      "  check_standardization(Y=train_Y, raise_on_fail=raise_on_fail)\n"
     ]
    },
    {
     "name": "stdout",
     "output_type": "stream",
     "text": [
      "Exploitation 43/200 - New sample: [1.81529723 0.73536953 0.78130124 0.12306785], Objective value: 0.4720747513528157\n"
     ]
    },
    {
     "name": "stderr",
     "output_type": "stream",
     "text": [
      "/u/81/mirandi1/unix/.local/lib/python3.10/site-packages/botorch/models/utils/assorted.py:257: InputDataWarning: Input data is not contained to the unit cube. Please consider min-max scaling the input data.\n",
      "  check_min_max_scaling(\n",
      "/u/81/mirandi1/unix/.local/lib/python3.10/site-packages/botorch/models/utils/assorted.py:260: InputDataWarning: Data is not standardized (std = tensor([2.1733], dtype=torch.float64), mean = tensor([3.3928], dtype=torch.float64)). Please consider scaling the input to zero mean and unit variance.\n",
      "  check_standardization(Y=train_Y, raise_on_fail=raise_on_fail)\n"
     ]
    },
    {
     "name": "stdout",
     "output_type": "stream",
     "text": [
      "Exploitation 44/200 - New sample: [1.81355143 0.73982239 0.78907521 0.1162833 ], Objective value: 0.4108489967982487\n"
     ]
    },
    {
     "name": "stderr",
     "output_type": "stream",
     "text": [
      "/u/81/mirandi1/unix/.local/lib/python3.10/site-packages/botorch/models/utils/assorted.py:257: InputDataWarning: Input data is not contained to the unit cube. Please consider min-max scaling the input data.\n",
      "  check_min_max_scaling(\n",
      "/u/81/mirandi1/unix/.local/lib/python3.10/site-packages/botorch/models/utils/assorted.py:260: InputDataWarning: Data is not standardized (std = tensor([2.1690], dtype=torch.float64), mean = tensor([3.4298], dtype=torch.float64)). Please consider scaling the input to zero mean and unit variance.\n",
      "  check_standardization(Y=train_Y, raise_on_fail=raise_on_fail)\n",
      "/u/81/mirandi1/unix/.local/lib/python3.10/site-packages/botorch/models/utils/assorted.py:257: InputDataWarning: Input data is not contained to the unit cube. Please consider min-max scaling the input data.\n",
      "  check_min_max_scaling(\n",
      "/u/81/mirandi1/unix/.local/lib/python3.10/site-packages/botorch/models/utils/assorted.py:260: InputDataWarning: Data is not standardized (std = tensor([2.1506], dtype=torch.float64), mean = tensor([3.4428], dtype=torch.float64)). Please consider scaling the input to zero mean and unit variance.\n",
      "  check_standardization(Y=train_Y, raise_on_fail=raise_on_fail)\n"
     ]
    },
    {
     "name": "stdout",
     "output_type": "stream",
     "text": [
      "Exploitation 45/200 - New sample: [1.81243644 0.72917709 0.78080131 0.12728476], Objective value: 0.4791391642218051\n",
      "Exploitation 46/200 - New sample: [1.82905294 0.84184943 0.78775469 0.12070965], Objective value: 0.006501004247884272\n"
     ]
    },
    {
     "name": "stderr",
     "output_type": "stream",
     "text": [
      "/u/81/mirandi1/unix/.local/lib/python3.10/site-packages/botorch/models/utils/assorted.py:257: InputDataWarning: Input data is not contained to the unit cube. Please consider min-max scaling the input data.\n",
      "  check_min_max_scaling(\n",
      "/u/81/mirandi1/unix/.local/lib/python3.10/site-packages/botorch/models/utils/assorted.py:260: InputDataWarning: Data is not standardized (std = tensor([2.1306], dtype=torch.float64), mean = tensor([3.4421], dtype=torch.float64)). Please consider scaling the input to zero mean and unit variance.\n",
      "  check_standardization(Y=train_Y, raise_on_fail=raise_on_fail)\n"
     ]
    },
    {
     "name": "stdout",
     "output_type": "stream",
     "text": [
      "Exploitation 47/200 - New sample: [1.88058548 0.78119705 0.81685816 0.12273221], Objective value: -0.2735222682973449\n"
     ]
    },
    {
     "name": "stderr",
     "output_type": "stream",
     "text": [
      "/u/81/mirandi1/unix/.local/lib/python3.10/site-packages/botorch/models/utils/assorted.py:257: InputDataWarning: Input data is not contained to the unit cube. Please consider min-max scaling the input data.\n",
      "  check_min_max_scaling(\n",
      "/u/81/mirandi1/unix/.local/lib/python3.10/site-packages/botorch/models/utils/assorted.py:260: InputDataWarning: Data is not standardized (std = tensor([2.1223], dtype=torch.float64), mean = tensor([3.4712], dtype=torch.float64)). Please consider scaling the input to zero mean and unit variance.\n",
      "  check_standardization(Y=train_Y, raise_on_fail=raise_on_fail)\n"
     ]
    },
    {
     "name": "stdout",
     "output_type": "stream",
     "text": [
      "Exploitation 48/200 - New sample: [1.8084839  0.76102273 0.78380072 0.13300976], Objective value: 0.37115895826153134\n"
     ]
    },
    {
     "name": "stderr",
     "output_type": "stream",
     "text": [
      "/u/81/mirandi1/unix/.local/lib/python3.10/site-packages/botorch/models/utils/assorted.py:257: InputDataWarning: Input data is not contained to the unit cube. Please consider min-max scaling the input data.\n",
      "  check_min_max_scaling(\n",
      "/u/81/mirandi1/unix/.local/lib/python3.10/site-packages/botorch/models/utils/assorted.py:260: InputDataWarning: Data is not standardized (std = tensor([2.1180], dtype=torch.float64), mean = tensor([3.5042], dtype=torch.float64)). Please consider scaling the input to zero mean and unit variance.\n",
      "  check_standardization(Y=train_Y, raise_on_fail=raise_on_fail)\n"
     ]
    },
    {
     "name": "stdout",
     "output_type": "stream",
     "text": [
      "Exploitation 49/200 - New sample: [1.81252549 0.73147455 0.78209887 0.12661265], Objective value: 0.47937426081396617\n"
     ]
    },
    {
     "name": "stderr",
     "output_type": "stream",
     "text": [
      "/u/81/mirandi1/unix/.local/lib/python3.10/site-packages/botorch/models/utils/assorted.py:257: InputDataWarning: Input data is not contained to the unit cube. Please consider min-max scaling the input data.\n",
      "  check_min_max_scaling(\n",
      "/u/81/mirandi1/unix/.local/lib/python3.10/site-packages/botorch/models/utils/assorted.py:260: InputDataWarning: Data is not standardized (std = tensor([2.1044], dtype=torch.float64), mean = tensor([3.5234], dtype=torch.float64)). Please consider scaling the input to zero mean and unit variance.\n",
      "  check_standardization(Y=train_Y, raise_on_fail=raise_on_fail)\n"
     ]
    },
    {
     "name": "stdout",
     "output_type": "stream",
     "text": [
      "Exploitation 50/200 - New sample: [1.79220243 0.79326173 0.78788473 0.10692213], Objective value: 0.1933122679620303\n"
     ]
    },
    {
     "name": "stderr",
     "output_type": "stream",
     "text": [
      "/u/81/mirandi1/unix/.local/lib/python3.10/site-packages/botorch/models/utils/assorted.py:257: InputDataWarning: Input data is not contained to the unit cube. Please consider min-max scaling the input data.\n",
      "  check_min_max_scaling(\n",
      "/u/81/mirandi1/unix/.local/lib/python3.10/site-packages/botorch/models/utils/assorted.py:260: InputDataWarning: Data is not standardized (std = tensor([2.0997], dtype=torch.float64), mean = tensor([3.5543], dtype=torch.float64)). Please consider scaling the input to zero mean and unit variance.\n",
      "  check_standardization(Y=train_Y, raise_on_fail=raise_on_fail)\n"
     ]
    },
    {
     "name": "stdout",
     "output_type": "stream",
     "text": [
      "Exploitation 51/200 - New sample: [1.81206472 0.73411309 0.78258814 0.12620988], Objective value: 0.47852207797335666\n"
     ]
    },
    {
     "name": "stderr",
     "output_type": "stream",
     "text": [
      "/u/81/mirandi1/unix/.local/lib/python3.10/site-packages/botorch/models/utils/assorted.py:257: InputDataWarning: Input data is not contained to the unit cube. Please consider min-max scaling the input data.\n",
      "  check_min_max_scaling(\n",
      "/u/81/mirandi1/unix/.local/lib/python3.10/site-packages/botorch/models/utils/assorted.py:260: InputDataWarning: Data is not standardized (std = tensor([2.0947], dtype=torch.float64), mean = tensor([3.5843], dtype=torch.float64)). Please consider scaling the input to zero mean and unit variance.\n",
      "  check_standardization(Y=train_Y, raise_on_fail=raise_on_fail)\n"
     ]
    },
    {
     "name": "stdout",
     "output_type": "stream",
     "text": [
      "Exploitation 52/200 - New sample: [1.8122445  0.73102754 0.78206911 0.12662138], Objective value: 0.4795563242376616\n"
     ]
    },
    {
     "name": "stderr",
     "output_type": "stream",
     "text": [
      "/u/81/mirandi1/unix/.local/lib/python3.10/site-packages/botorch/models/utils/assorted.py:257: InputDataWarning: Input data is not contained to the unit cube. Please consider min-max scaling the input data.\n",
      "  check_min_max_scaling(\n",
      "/u/81/mirandi1/unix/.local/lib/python3.10/site-packages/botorch/models/utils/assorted.py:260: InputDataWarning: Data is not standardized (std = tensor([2.0895], dtype=torch.float64), mean = tensor([3.6133], dtype=torch.float64)). Please consider scaling the input to zero mean and unit variance.\n",
      "  check_standardization(Y=train_Y, raise_on_fail=raise_on_fail)\n"
     ]
    },
    {
     "name": "stdout",
     "output_type": "stream",
     "text": [
      "Exploitation 53/200 - New sample: [1.81228263 0.72960778 0.78194199 0.12670559], Objective value: 0.4798012863332549\n"
     ]
    },
    {
     "name": "stderr",
     "output_type": "stream",
     "text": [
      "/u/81/mirandi1/unix/.local/lib/python3.10/site-packages/botorch/models/utils/assorted.py:257: InputDataWarning: Input data is not contained to the unit cube. Please consider min-max scaling the input data.\n",
      "  check_min_max_scaling(\n",
      "/u/81/mirandi1/unix/.local/lib/python3.10/site-packages/botorch/models/utils/assorted.py:260: InputDataWarning: Data is not standardized (std = tensor([2.0841], dtype=torch.float64), mean = tensor([3.6414], dtype=torch.float64)). Please consider scaling the input to zero mean and unit variance.\n",
      "  check_standardization(Y=train_Y, raise_on_fail=raise_on_fail)\n"
     ]
    },
    {
     "name": "stdout",
     "output_type": "stream",
     "text": [
      "Exploitation 54/200 - New sample: [1.81246615 0.73125341 0.78199965 0.12651897], Objective value: 0.4795334990525336\n"
     ]
    },
    {
     "name": "stderr",
     "output_type": "stream",
     "text": [
      "/u/81/mirandi1/unix/.local/lib/python3.10/site-packages/botorch/models/utils/assorted.py:257: InputDataWarning: Input data is not contained to the unit cube. Please consider min-max scaling the input data.\n",
      "  check_min_max_scaling(\n",
      "/u/81/mirandi1/unix/.local/lib/python3.10/site-packages/botorch/models/utils/assorted.py:260: InputDataWarning: Data is not standardized (std = tensor([2.0783], dtype=torch.float64), mean = tensor([3.6685], dtype=torch.float64)). Please consider scaling the input to zero mean and unit variance.\n",
      "  check_standardization(Y=train_Y, raise_on_fail=raise_on_fail)\n"
     ]
    },
    {
     "name": "stdout",
     "output_type": "stream",
     "text": [
      "Exploitation 55/200 - New sample: [1.81229841 0.72880613 0.779354   0.12564501], Objective value: 0.4777788975795573\n"
     ]
    },
    {
     "name": "stderr",
     "output_type": "stream",
     "text": [
      "/u/81/mirandi1/unix/.local/lib/python3.10/site-packages/botorch/models/utils/assorted.py:257: InputDataWarning: Input data is not contained to the unit cube. Please consider min-max scaling the input data.\n",
      "  check_min_max_scaling(\n",
      "/u/81/mirandi1/unix/.local/lib/python3.10/site-packages/botorch/models/utils/assorted.py:260: InputDataWarning: Data is not standardized (std = tensor([2.0725], dtype=torch.float64), mean = tensor([3.6948], dtype=torch.float64)). Please consider scaling the input to zero mean and unit variance.\n",
      "  check_standardization(Y=train_Y, raise_on_fail=raise_on_fail)\n"
     ]
    },
    {
     "name": "stdout",
     "output_type": "stream",
     "text": [
      "Exploitation 56/200 - New sample: [1.81350845 0.73205115 0.78162613 0.12595918], Objective value: 0.4791350306328229\n"
     ]
    },
    {
     "name": "stderr",
     "output_type": "stream",
     "text": [
      "/u/81/mirandi1/unix/.local/lib/python3.10/site-packages/botorch/models/utils/assorted.py:257: InputDataWarning: Input data is not contained to the unit cube. Please consider min-max scaling the input data.\n",
      "  check_min_max_scaling(\n",
      "/u/81/mirandi1/unix/.local/lib/python3.10/site-packages/botorch/models/utils/assorted.py:260: InputDataWarning: Data is not standardized (std = tensor([2.0665], dtype=torch.float64), mean = tensor([3.7203], dtype=torch.float64)). Please consider scaling the input to zero mean and unit variance.\n",
      "  check_standardization(Y=train_Y, raise_on_fail=raise_on_fail)\n"
     ]
    },
    {
     "name": "stdout",
     "output_type": "stream",
     "text": [
      "Exploitation 57/200 - New sample: [1.81208713 0.73048442 0.78209056 0.1266406 ], Objective value: 0.47968141393365915\n"
     ]
    },
    {
     "name": "stderr",
     "output_type": "stream",
     "text": [
      "/u/81/mirandi1/unix/.local/lib/python3.10/site-packages/botorch/models/utils/assorted.py:257: InputDataWarning: Input data is not contained to the unit cube. Please consider min-max scaling the input data.\n",
      "  check_min_max_scaling(\n",
      "/u/81/mirandi1/unix/.local/lib/python3.10/site-packages/botorch/models/utils/assorted.py:260: InputDataWarning: Data is not standardized (std = tensor([2.0597], dtype=torch.float64), mean = tensor([3.7442], dtype=torch.float64)). Please consider scaling the input to zero mean and unit variance.\n",
      "  check_standardization(Y=train_Y, raise_on_fail=raise_on_fail)\n"
     ]
    },
    {
     "name": "stdout",
     "output_type": "stream",
     "text": [
      "Exploitation 58/200 - New sample: [1.80659822 0.7312899  0.78554655 0.1307374 ], Objective value: 0.45952615363365823\n"
     ]
    },
    {
     "name": "stderr",
     "output_type": "stream",
     "text": [
      "/u/81/mirandi1/unix/.local/lib/python3.10/site-packages/botorch/models/utils/assorted.py:257: InputDataWarning: Input data is not contained to the unit cube. Please consider min-max scaling the input data.\n",
      "  check_min_max_scaling(\n",
      "/u/81/mirandi1/unix/.local/lib/python3.10/site-packages/botorch/models/utils/assorted.py:260: InputDataWarning: Data is not standardized (std = tensor([2.0535], dtype=torch.float64), mean = tensor([3.7682], dtype=torch.float64)). Please consider scaling the input to zero mean and unit variance.\n",
      "  check_standardization(Y=train_Y, raise_on_fail=raise_on_fail)\n"
     ]
    },
    {
     "name": "stdout",
     "output_type": "stream",
     "text": [
      "Exploitation 59/200 - New sample: [1.81212923 0.73114075 0.78233508 0.1265503 ], Objective value: 0.47953957503808303\n"
     ]
    },
    {
     "name": "stderr",
     "output_type": "stream",
     "text": [
      "/u/81/mirandi1/unix/.local/lib/python3.10/site-packages/botorch/models/utils/assorted.py:257: InputDataWarning: Input data is not contained to the unit cube. Please consider min-max scaling the input data.\n",
      "  check_min_max_scaling(\n",
      "/u/81/mirandi1/unix/.local/lib/python3.10/site-packages/botorch/models/utils/assorted.py:260: InputDataWarning: Data is not standardized (std = tensor([2.0471], dtype=torch.float64), mean = tensor([3.7915], dtype=torch.float64)). Please consider scaling the input to zero mean and unit variance.\n",
      "  check_standardization(Y=train_Y, raise_on_fail=raise_on_fail)\n"
     ]
    },
    {
     "name": "stdout",
     "output_type": "stream",
     "text": [
      "Exploitation 60/200 - New sample: [1.81317509 0.73017517 0.77891254 0.12567293], Objective value: 0.47804705881487264\n"
     ]
    },
    {
     "name": "stderr",
     "output_type": "stream",
     "text": [
      "/u/81/mirandi1/unix/.local/lib/python3.10/site-packages/botorch/models/utils/assorted.py:257: InputDataWarning: Input data is not contained to the unit cube. Please consider min-max scaling the input data.\n",
      "  check_min_max_scaling(\n",
      "/u/81/mirandi1/unix/.local/lib/python3.10/site-packages/botorch/models/utils/assorted.py:260: InputDataWarning: Data is not standardized (std = tensor([2.0407], dtype=torch.float64), mean = tensor([3.8141], dtype=torch.float64)). Please consider scaling the input to zero mean and unit variance.\n",
      "  check_standardization(Y=train_Y, raise_on_fail=raise_on_fail)\n"
     ]
    },
    {
     "name": "stdout",
     "output_type": "stream",
     "text": [
      "Exploitation 61/200 - New sample: [1.81207944 0.72958733 0.78186087 0.12688313], Objective value: 0.4796974815434525\n"
     ]
    },
    {
     "name": "stderr",
     "output_type": "stream",
     "text": [
      "/u/81/mirandi1/unix/.local/lib/python3.10/site-packages/botorch/models/utils/assorted.py:257: InputDataWarning: Input data is not contained to the unit cube. Please consider min-max scaling the input data.\n",
      "  check_min_max_scaling(\n",
      "/u/81/mirandi1/unix/.local/lib/python3.10/site-packages/botorch/models/utils/assorted.py:260: InputDataWarning: Data is not standardized (std = tensor([2.0342], dtype=torch.float64), mean = tensor([3.8361], dtype=torch.float64)). Please consider scaling the input to zero mean and unit variance.\n",
      "  check_standardization(Y=train_Y, raise_on_fail=raise_on_fail)\n"
     ]
    },
    {
     "name": "stdout",
     "output_type": "stream",
     "text": [
      "Exploitation 62/200 - New sample: [1.81270294 0.7270457  0.78123339 0.12692776], Objective value: 0.4795903483878244\n"
     ]
    },
    {
     "name": "stderr",
     "output_type": "stream",
     "text": [
      "/u/81/mirandi1/unix/.local/lib/python3.10/site-packages/botorch/models/utils/assorted.py:257: InputDataWarning: Input data is not contained to the unit cube. Please consider min-max scaling the input data.\n",
      "  check_min_max_scaling(\n",
      "/u/81/mirandi1/unix/.local/lib/python3.10/site-packages/botorch/models/utils/assorted.py:260: InputDataWarning: Data is not standardized (std = tensor([2.0275], dtype=torch.float64), mean = tensor([3.8574], dtype=torch.float64)). Please consider scaling the input to zero mean and unit variance.\n",
      "  check_standardization(Y=train_Y, raise_on_fail=raise_on_fail)\n"
     ]
    },
    {
     "name": "stdout",
     "output_type": "stream",
     "text": [
      "Exploitation 63/200 - New sample: [1.81212138 0.73053619 0.78481294 0.12756592], Objective value: 0.47707437025489585\n"
     ]
    },
    {
     "name": "stderr",
     "output_type": "stream",
     "text": [
      "/u/81/mirandi1/unix/.local/lib/python3.10/site-packages/botorch/models/utils/assorted.py:257: InputDataWarning: Input data is not contained to the unit cube. Please consider min-max scaling the input data.\n",
      "  check_min_max_scaling(\n",
      "/u/81/mirandi1/unix/.local/lib/python3.10/site-packages/botorch/models/utils/assorted.py:260: InputDataWarning: Data is not standardized (std = tensor([2.0209], dtype=torch.float64), mean = tensor([3.8781], dtype=torch.float64)). Please consider scaling the input to zero mean and unit variance.\n",
      "  check_standardization(Y=train_Y, raise_on_fail=raise_on_fail)\n"
     ]
    },
    {
     "name": "stdout",
     "output_type": "stream",
     "text": [
      "Exploitation 64/200 - New sample: [1.81281388 0.72916741 0.7810952  0.12696942], Objective value: 0.4794415360319655\n"
     ]
    },
    {
     "name": "stderr",
     "output_type": "stream",
     "text": [
      "/u/81/mirandi1/unix/.local/lib/python3.10/site-packages/botorch/models/utils/assorted.py:257: InputDataWarning: Input data is not contained to the unit cube. Please consider min-max scaling the input data.\n",
      "  check_min_max_scaling(\n",
      "/u/81/mirandi1/unix/.local/lib/python3.10/site-packages/botorch/models/utils/assorted.py:260: InputDataWarning: Data is not standardized (std = tensor([2.0124], dtype=torch.float64), mean = tensor([3.8957], dtype=torch.float64)). Please consider scaling the input to zero mean and unit variance.\n",
      "  check_standardization(Y=train_Y, raise_on_fail=raise_on_fail)\n"
     ]
    },
    {
     "name": "stdout",
     "output_type": "stream",
     "text": [
      "Exploitation 65/200 - New sample: [1.82142822 0.76474517 0.75130764 0.11861806], Objective value: 0.40528689741308593\n"
     ]
    },
    {
     "name": "stderr",
     "output_type": "stream",
     "text": [
      "/u/81/mirandi1/unix/.local/lib/python3.10/site-packages/botorch/models/utils/assorted.py:257: InputDataWarning: Input data is not contained to the unit cube. Please consider min-max scaling the input data.\n",
      "  check_min_max_scaling(\n",
      "/u/81/mirandi1/unix/.local/lib/python3.10/site-packages/botorch/models/utils/assorted.py:260: InputDataWarning: Data is not standardized (std = tensor([2.0054], dtype=torch.float64), mean = tensor([3.9148], dtype=torch.float64)). Please consider scaling the input to zero mean and unit variance.\n",
      "  check_standardization(Y=train_Y, raise_on_fail=raise_on_fail)\n"
     ]
    },
    {
     "name": "stdout",
     "output_type": "stream",
     "text": [
      "Exploitation 66/200 - New sample: [1.81542992 0.746204   0.76905936 0.12240075], Objective value: 0.4635599387748167\n"
     ]
    },
    {
     "name": "stderr",
     "output_type": "stream",
     "text": [
      "/u/81/mirandi1/unix/.local/lib/python3.10/site-packages/botorch/models/utils/assorted.py:257: InputDataWarning: Input data is not contained to the unit cube. Please consider min-max scaling the input data.\n",
      "  check_min_max_scaling(\n",
      "/u/81/mirandi1/unix/.local/lib/python3.10/site-packages/botorch/models/utils/assorted.py:260: InputDataWarning: Data is not standardized (std = tensor([1.9979], dtype=torch.float64), mean = tensor([3.9329], dtype=torch.float64)). Please consider scaling the input to zero mean and unit variance.\n",
      "  check_standardization(Y=train_Y, raise_on_fail=raise_on_fail)\n"
     ]
    },
    {
     "name": "stdout",
     "output_type": "stream",
     "text": [
      "Exploitation 67/200 - New sample: [1.82073569 0.75109908 0.76548299 0.12259191], Objective value: 0.4478956245062439\n"
     ]
    },
    {
     "name": "stderr",
     "output_type": "stream",
     "text": [
      "/u/81/mirandi1/unix/.local/lib/python3.10/site-packages/botorch/models/utils/assorted.py:257: InputDataWarning: Input data is not contained to the unit cube. Please consider min-max scaling the input data.\n",
      "  check_min_max_scaling(\n",
      "/u/81/mirandi1/unix/.local/lib/python3.10/site-packages/botorch/models/utils/assorted.py:260: InputDataWarning: Data is not standardized (std = tensor([1.9912], dtype=torch.float64), mean = tensor([3.9516], dtype=torch.float64)). Please consider scaling the input to zero mean and unit variance.\n",
      "  check_standardization(Y=train_Y, raise_on_fail=raise_on_fail)\n"
     ]
    },
    {
     "name": "stdout",
     "output_type": "stream",
     "text": [
      "Exploitation 68/200 - New sample: [1.81239204 0.73867455 0.77821812 0.12543859], Objective value: 0.47813493957595\n"
     ]
    },
    {
     "name": "stderr",
     "output_type": "stream",
     "text": [
      "/u/81/mirandi1/unix/.local/lib/python3.10/site-packages/botorch/models/utils/assorted.py:257: InputDataWarning: Input data is not contained to the unit cube. Please consider min-max scaling the input data.\n",
      "  check_min_max_scaling(\n",
      "/u/81/mirandi1/unix/.local/lib/python3.10/site-packages/botorch/models/utils/assorted.py:260: InputDataWarning: Data is not standardized (std = tensor([1.9845], dtype=torch.float64), mean = tensor([3.9697], dtype=torch.float64)). Please consider scaling the input to zero mean and unit variance.\n",
      "  check_standardization(Y=train_Y, raise_on_fail=raise_on_fail)\n"
     ]
    },
    {
     "name": "stdout",
     "output_type": "stream",
     "text": [
      "Exploitation 69/200 - New sample: [1.8117451  0.73462665 0.77882806 0.12534829], Objective value: 0.4783459612105435\n"
     ]
    },
    {
     "name": "stderr",
     "output_type": "stream",
     "text": [
      "/u/81/mirandi1/unix/.local/lib/python3.10/site-packages/botorch/models/utils/assorted.py:257: InputDataWarning: Input data is not contained to the unit cube. Please consider min-max scaling the input data.\n",
      "  check_min_max_scaling(\n",
      "/u/81/mirandi1/unix/.local/lib/python3.10/site-packages/botorch/models/utils/assorted.py:260: InputDataWarning: Data is not standardized (std = tensor([1.9777], dtype=torch.float64), mean = tensor([3.9874], dtype=torch.float64)). Please consider scaling the input to zero mean and unit variance.\n",
      "  check_standardization(Y=train_Y, raise_on_fail=raise_on_fail)\n"
     ]
    },
    {
     "name": "stdout",
     "output_type": "stream",
     "text": [
      "Exploitation 70/200 - New sample: [1.81325533 0.73656867 0.78044601 0.12630388], Objective value: 0.47758084943065626\n"
     ]
    },
    {
     "name": "stderr",
     "output_type": "stream",
     "text": [
      "/u/81/mirandi1/unix/.local/lib/python3.10/site-packages/botorch/models/utils/assorted.py:257: InputDataWarning: Input data is not contained to the unit cube. Please consider min-max scaling the input data.\n",
      "  check_min_max_scaling(\n",
      "/u/81/mirandi1/unix/.local/lib/python3.10/site-packages/botorch/models/utils/assorted.py:260: InputDataWarning: Data is not standardized (std = tensor([1.9708], dtype=torch.float64), mean = tensor([4.0044], dtype=torch.float64)). Please consider scaling the input to zero mean and unit variance.\n",
      "  check_standardization(Y=train_Y, raise_on_fail=raise_on_fail)\n"
     ]
    },
    {
     "name": "stdout",
     "output_type": "stream",
     "text": [
      "Exploitation 71/200 - New sample: [1.81240913 0.73545198 0.77663023 0.12367356], Objective value: 0.47266643220245064\n"
     ]
    },
    {
     "name": "stderr",
     "output_type": "stream",
     "text": [
      "/u/81/mirandi1/unix/.local/lib/python3.10/site-packages/botorch/models/utils/assorted.py:257: InputDataWarning: Input data is not contained to the unit cube. Please consider min-max scaling the input data.\n",
      "  check_min_max_scaling(\n",
      "/u/81/mirandi1/unix/.local/lib/python3.10/site-packages/botorch/models/utils/assorted.py:260: InputDataWarning: Data is not standardized (std = tensor([1.9640], dtype=torch.float64), mean = tensor([4.0211], dtype=torch.float64)). Please consider scaling the input to zero mean and unit variance.\n",
      "  check_standardization(Y=train_Y, raise_on_fail=raise_on_fail)\n"
     ]
    },
    {
     "name": "stdout",
     "output_type": "stream",
     "text": [
      "Exploitation 72/200 - New sample: [1.8146752  0.74215456 0.77838089 0.12562047], Objective value: 0.474168176487217\n"
     ]
    },
    {
     "name": "stderr",
     "output_type": "stream",
     "text": [
      "/u/81/mirandi1/unix/.local/lib/python3.10/site-packages/botorch/models/utils/assorted.py:257: InputDataWarning: Input data is not contained to the unit cube. Please consider min-max scaling the input data.\n",
      "  check_min_max_scaling(\n",
      "/u/81/mirandi1/unix/.local/lib/python3.10/site-packages/botorch/models/utils/assorted.py:260: InputDataWarning: Data is not standardized (std = tensor([1.9573], dtype=torch.float64), mean = tensor([4.0376], dtype=torch.float64)). Please consider scaling the input to zero mean and unit variance.\n",
      "  check_standardization(Y=train_Y, raise_on_fail=raise_on_fail)\n",
      "/u/81/mirandi1/unix/.local/lib/python3.10/site-packages/botorch/models/utils/assorted.py:257: InputDataWarning: Input data is not contained to the unit cube. Please consider min-max scaling the input data.\n",
      "  check_min_max_scaling(\n",
      "/u/81/mirandi1/unix/.local/lib/python3.10/site-packages/botorch/models/utils/assorted.py:260: InputDataWarning: Data is not standardized (std = tensor([1.9506], dtype=torch.float64), mean = tensor([4.0536], dtype=torch.float64)). Please consider scaling the input to zero mean and unit variance.\n",
      "  check_standardization(Y=train_Y, raise_on_fail=raise_on_fail)\n"
     ]
    },
    {
     "name": "stdout",
     "output_type": "stream",
     "text": [
      "Exploitation 73/200 - New sample: [1.81185739 0.73158317 0.78099964 0.12659723], Objective value: 0.479496442104132\n",
      "Exploitation 74/200 - New sample: [1.81171392 0.72880322 0.78162574 0.12712772], Objective value: 0.47955705922469066\n"
     ]
    },
    {
     "name": "stderr",
     "output_type": "stream",
     "text": [
      "/u/81/mirandi1/unix/.local/lib/python3.10/site-packages/botorch/models/utils/assorted.py:257: InputDataWarning: Input data is not contained to the unit cube. Please consider min-max scaling the input data.\n",
      "  check_min_max_scaling(\n",
      "/u/81/mirandi1/unix/.local/lib/python3.10/site-packages/botorch/models/utils/assorted.py:260: InputDataWarning: Data is not standardized (std = tensor([1.9439], dtype=torch.float64), mean = tensor([4.0692], dtype=torch.float64)). Please consider scaling the input to zero mean and unit variance.\n",
      "  check_standardization(Y=train_Y, raise_on_fail=raise_on_fail)\n"
     ]
    },
    {
     "name": "stdout",
     "output_type": "stream",
     "text": [
      "Exploitation 75/200 - New sample: [1.81183083 0.73001943 0.78128002 0.12689344], Objective value: 0.47956587594376376\n"
     ]
    },
    {
     "name": "stderr",
     "output_type": "stream",
     "text": [
      "/u/81/mirandi1/unix/.local/lib/python3.10/site-packages/botorch/models/utils/assorted.py:257: InputDataWarning: Input data is not contained to the unit cube. Please consider min-max scaling the input data.\n",
      "  check_min_max_scaling(\n",
      "/u/81/mirandi1/unix/.local/lib/python3.10/site-packages/botorch/models/utils/assorted.py:260: InputDataWarning: Data is not standardized (std = tensor([1.9372], dtype=torch.float64), mean = tensor([4.0845], dtype=torch.float64)). Please consider scaling the input to zero mean and unit variance.\n",
      "  check_standardization(Y=train_Y, raise_on_fail=raise_on_fail)\n"
     ]
    },
    {
     "name": "stdout",
     "output_type": "stream",
     "text": [
      "Exploitation 76/200 - New sample: [1.81203625 0.72778027 0.78219173 0.1269249 ], Objective value: 0.4799109834593812\n"
     ]
    },
    {
     "name": "stderr",
     "output_type": "stream",
     "text": [
      "/u/81/mirandi1/unix/.local/lib/python3.10/site-packages/botorch/models/utils/assorted.py:257: InputDataWarning: Input data is not contained to the unit cube. Please consider min-max scaling the input data.\n",
      "  check_min_max_scaling(\n",
      "/u/81/mirandi1/unix/.local/lib/python3.10/site-packages/botorch/models/utils/assorted.py:260: InputDataWarning: Data is not standardized (std = tensor([1.9300], dtype=torch.float64), mean = tensor([4.0986], dtype=torch.float64)). Please consider scaling the input to zero mean and unit variance.\n",
      "  check_standardization(Y=train_Y, raise_on_fail=raise_on_fail)\n"
     ]
    },
    {
     "name": "stdout",
     "output_type": "stream",
     "text": [
      "Exploitation 77/200 - New sample: [1.81069547 0.75678483 0.76661457 0.11979676], Objective value: 0.45201844440307853\n"
     ]
    },
    {
     "name": "stderr",
     "output_type": "stream",
     "text": [
      "/u/81/mirandi1/unix/.local/lib/python3.10/site-packages/botorch/models/utils/assorted.py:257: InputDataWarning: Input data is not contained to the unit cube. Please consider min-max scaling the input data.\n",
      "  check_min_max_scaling(\n",
      "/u/81/mirandi1/unix/.local/lib/python3.10/site-packages/botorch/models/utils/assorted.py:260: InputDataWarning: Data is not standardized (std = tensor([1.9233], dtype=torch.float64), mean = tensor([4.1131], dtype=torch.float64)). Please consider scaling the input to zero mean and unit variance.\n",
      "  check_standardization(Y=train_Y, raise_on_fail=raise_on_fail)\n"
     ]
    },
    {
     "name": "stdout",
     "output_type": "stream",
     "text": [
      "Exploitation 78/200 - New sample: [1.81140052 0.74433961 0.77747433 0.12414455], Objective value: 0.47556281851819393\n"
     ]
    },
    {
     "name": "stderr",
     "output_type": "stream",
     "text": [
      "/u/81/mirandi1/unix/.local/lib/python3.10/site-packages/botorch/models/utils/assorted.py:257: InputDataWarning: Input data is not contained to the unit cube. Please consider min-max scaling the input data.\n",
      "  check_min_max_scaling(\n",
      "/u/81/mirandi1/unix/.local/lib/python3.10/site-packages/botorch/models/utils/assorted.py:260: InputDataWarning: Data is not standardized (std = tensor([1.9165], dtype=torch.float64), mean = tensor([4.1270], dtype=torch.float64)). Please consider scaling the input to zero mean and unit variance.\n",
      "  check_standardization(Y=train_Y, raise_on_fail=raise_on_fail)\n"
     ]
    },
    {
     "name": "stdout",
     "output_type": "stream",
     "text": [
      "Exploitation 79/200 - New sample: [1.80902523 0.74501336 0.77771592 0.12819785], Objective value: 0.46924058312880385\n"
     ]
    },
    {
     "name": "stderr",
     "output_type": "stream",
     "text": [
      "/u/81/mirandi1/unix/.local/lib/python3.10/site-packages/botorch/models/utils/assorted.py:257: InputDataWarning: Input data is not contained to the unit cube. Please consider min-max scaling the input data.\n",
      "  check_min_max_scaling(\n",
      "/u/81/mirandi1/unix/.local/lib/python3.10/site-packages/botorch/models/utils/assorted.py:260: InputDataWarning: Data is not standardized (std = tensor([1.9099], dtype=torch.float64), mean = tensor([4.1409], dtype=torch.float64)). Please consider scaling the input to zero mean and unit variance.\n",
      "  check_standardization(Y=train_Y, raise_on_fail=raise_on_fail)\n",
      "/u/81/mirandi1/unix/.local/lib/python3.10/site-packages/botorch/models/utils/assorted.py:257: InputDataWarning: Input data is not contained to the unit cube. Please consider min-max scaling the input data.\n",
      "  check_min_max_scaling(\n",
      "/u/81/mirandi1/unix/.local/lib/python3.10/site-packages/botorch/models/utils/assorted.py:260: InputDataWarning: Data is not standardized (std = tensor([1.9033], dtype=torch.float64), mean = tensor([4.1545], dtype=torch.float64)). Please consider scaling the input to zero mean and unit variance.\n",
      "  check_standardization(Y=train_Y, raise_on_fail=raise_on_fail)\n"
     ]
    },
    {
     "name": "stdout",
     "output_type": "stream",
     "text": [
      "Exploitation 80/200 - New sample: [1.81165929 0.7410523  0.777063   0.12553334], Objective value: 0.4777988141695302\n",
      "Exploitation 81/200 - New sample: [1.81088591 0.73874984 0.78062262 0.12551123], Objective value: 0.47745067464505625\n"
     ]
    },
    {
     "name": "stderr",
     "output_type": "stream",
     "text": [
      "/u/81/mirandi1/unix/.local/lib/python3.10/site-packages/botorch/models/utils/assorted.py:257: InputDataWarning: Input data is not contained to the unit cube. Please consider min-max scaling the input data.\n",
      "  check_min_max_scaling(\n",
      "/u/81/mirandi1/unix/.local/lib/python3.10/site-packages/botorch/models/utils/assorted.py:260: InputDataWarning: Data is not standardized (std = tensor([1.8967], dtype=torch.float64), mean = tensor([4.1677], dtype=torch.float64)). Please consider scaling the input to zero mean and unit variance.\n",
      "  check_standardization(Y=train_Y, raise_on_fail=raise_on_fail)\n"
     ]
    },
    {
     "name": "stdout",
     "output_type": "stream",
     "text": [
      "Exploitation 82/200 - New sample: [1.81520868 0.72520408 0.78255219 0.1282756 ], Objective value: 0.47561830751024636\n"
     ]
    },
    {
     "name": "stderr",
     "output_type": "stream",
     "text": [
      "/u/81/mirandi1/unix/.local/lib/python3.10/site-packages/botorch/models/utils/assorted.py:257: InputDataWarning: Input data is not contained to the unit cube. Please consider min-max scaling the input data.\n",
      "  check_min_max_scaling(\n",
      "/u/81/mirandi1/unix/.local/lib/python3.10/site-packages/botorch/models/utils/assorted.py:260: InputDataWarning: Data is not standardized (std = tensor([1.8902], dtype=torch.float64), mean = tensor([4.1807], dtype=torch.float64)). Please consider scaling the input to zero mean and unit variance.\n",
      "  check_standardization(Y=train_Y, raise_on_fail=raise_on_fail)\n"
     ]
    },
    {
     "name": "stdout",
     "output_type": "stream",
     "text": [
      "Exploitation 83/200 - New sample: [1.81252957 0.72784057 0.78179036 0.12743093], Objective value: 0.4793136603701042\n"
     ]
    },
    {
     "name": "stderr",
     "output_type": "stream",
     "text": [
      "/u/81/mirandi1/unix/.local/lib/python3.10/site-packages/botorch/models/utils/assorted.py:257: InputDataWarning: Input data is not contained to the unit cube. Please consider min-max scaling the input data.\n",
      "  check_min_max_scaling(\n",
      "/u/81/mirandi1/unix/.local/lib/python3.10/site-packages/botorch/models/utils/assorted.py:260: InputDataWarning: Data is not standardized (std = tensor([1.8837], dtype=torch.float64), mean = tensor([4.1932], dtype=torch.float64)). Please consider scaling the input to zero mean and unit variance.\n",
      "  check_standardization(Y=train_Y, raise_on_fail=raise_on_fail)\n"
     ]
    },
    {
     "name": "stdout",
     "output_type": "stream",
     "text": [
      "Exploitation 84/200 - New sample: [1.80728261 0.73405956 0.77835749 0.1283954 ], Objective value: 0.47301121167489624\n"
     ]
    },
    {
     "name": "stderr",
     "output_type": "stream",
     "text": [
      "/u/81/mirandi1/unix/.local/lib/python3.10/site-packages/botorch/models/utils/assorted.py:257: InputDataWarning: Input data is not contained to the unit cube. Please consider min-max scaling the input data.\n",
      "  check_min_max_scaling(\n",
      "/u/81/mirandi1/unix/.local/lib/python3.10/site-packages/botorch/models/utils/assorted.py:260: InputDataWarning: Data is not standardized (std = tensor([1.8773], dtype=torch.float64), mean = tensor([4.2057], dtype=torch.float64)). Please consider scaling the input to zero mean and unit variance.\n",
      "  check_standardization(Y=train_Y, raise_on_fail=raise_on_fail)\n"
     ]
    },
    {
     "name": "stdout",
     "output_type": "stream",
     "text": [
      "Exploitation 85/200 - New sample: [1.81115135 0.73372512 0.78069909 0.12633102], Objective value: 0.4790786026266215\n"
     ]
    },
    {
     "name": "stderr",
     "output_type": "stream",
     "text": [
      "/u/81/mirandi1/unix/.local/lib/python3.10/site-packages/botorch/models/utils/assorted.py:257: InputDataWarning: Input data is not contained to the unit cube. Please consider min-max scaling the input data.\n",
      "  check_min_max_scaling(\n",
      "/u/81/mirandi1/unix/.local/lib/python3.10/site-packages/botorch/models/utils/assorted.py:260: InputDataWarning: Data is not standardized (std = tensor([1.8709], dtype=torch.float64), mean = tensor([4.2179], dtype=torch.float64)). Please consider scaling the input to zero mean and unit variance.\n",
      "  check_standardization(Y=train_Y, raise_on_fail=raise_on_fail)\n"
     ]
    },
    {
     "name": "stdout",
     "output_type": "stream",
     "text": [
      "Exploitation 86/200 - New sample: [1.81214144 0.72850187 0.78160965 0.12762042], Objective value: 0.4789580479692537\n"
     ]
    },
    {
     "name": "stderr",
     "output_type": "stream",
     "text": [
      "/u/81/mirandi1/unix/.local/lib/python3.10/site-packages/botorch/models/utils/assorted.py:257: InputDataWarning: Input data is not contained to the unit cube. Please consider min-max scaling the input data.\n",
      "  check_min_max_scaling(\n",
      "/u/81/mirandi1/unix/.local/lib/python3.10/site-packages/botorch/models/utils/assorted.py:260: InputDataWarning: Data is not standardized (std = tensor([1.8645], dtype=torch.float64), mean = tensor([4.2297], dtype=torch.float64)). Please consider scaling the input to zero mean and unit variance.\n",
      "  check_standardization(Y=train_Y, raise_on_fail=raise_on_fail)\n"
     ]
    },
    {
     "name": "stdout",
     "output_type": "stream",
     "text": [
      "Exploitation 87/200 - New sample: [1.80957851 0.73957702 0.778375   0.12435267], Objective value: 0.4749778094374898\n"
     ]
    },
    {
     "name": "stderr",
     "output_type": "stream",
     "text": [
      "/u/81/mirandi1/unix/.local/lib/python3.10/site-packages/botorch/models/utils/assorted.py:257: InputDataWarning: Input data is not contained to the unit cube. Please consider min-max scaling the input data.\n",
      "  check_min_max_scaling(\n",
      "/u/81/mirandi1/unix/.local/lib/python3.10/site-packages/botorch/models/utils/assorted.py:260: InputDataWarning: Data is not standardized (std = tensor([1.8582], dtype=torch.float64), mean = tensor([4.2414], dtype=torch.float64)). Please consider scaling the input to zero mean and unit variance.\n",
      "  check_standardization(Y=train_Y, raise_on_fail=raise_on_fail)\n"
     ]
    },
    {
     "name": "stdout",
     "output_type": "stream",
     "text": [
      "Exploitation 88/200 - New sample: [1.81193797 0.73456097 0.78059367 0.12669691], Objective value: 0.47865736866814335\n"
     ]
    },
    {
     "name": "stderr",
     "output_type": "stream",
     "text": [
      "/u/81/mirandi1/unix/.local/lib/python3.10/site-packages/botorch/models/utils/assorted.py:257: InputDataWarning: Input data is not contained to the unit cube. Please consider min-max scaling the input data.\n",
      "  check_min_max_scaling(\n",
      "/u/81/mirandi1/unix/.local/lib/python3.10/site-packages/botorch/models/utils/assorted.py:260: InputDataWarning: Data is not standardized (std = tensor([1.8519], dtype=torch.float64), mean = tensor([4.2528], dtype=torch.float64)). Please consider scaling the input to zero mean and unit variance.\n",
      "  check_standardization(Y=train_Y, raise_on_fail=raise_on_fail)\n"
     ]
    },
    {
     "name": "stdout",
     "output_type": "stream",
     "text": [
      "Exploitation 89/200 - New sample: [1.81387395 0.72617483 0.78073514 0.12770935], Objective value: 0.4779067292359923\n"
     ]
    },
    {
     "name": "stderr",
     "output_type": "stream",
     "text": [
      "/u/81/mirandi1/unix/.local/lib/python3.10/site-packages/botorch/models/utils/assorted.py:257: InputDataWarning: Input data is not contained to the unit cube. Please consider min-max scaling the input data.\n",
      "  check_min_max_scaling(\n",
      "/u/81/mirandi1/unix/.local/lib/python3.10/site-packages/botorch/models/utils/assorted.py:260: InputDataWarning: Data is not standardized (std = tensor([1.8456], dtype=torch.float64), mean = tensor([4.2639], dtype=torch.float64)). Please consider scaling the input to zero mean and unit variance.\n",
      "  check_standardization(Y=train_Y, raise_on_fail=raise_on_fail)\n"
     ]
    },
    {
     "name": "stdout",
     "output_type": "stream",
     "text": [
      "Exploitation 90/200 - New sample: [1.81210609 0.74220591 0.77326716 0.12574091], Objective value: 0.47655392596358914\n"
     ]
    },
    {
     "name": "stderr",
     "output_type": "stream",
     "text": [
      "/u/81/mirandi1/unix/.local/lib/python3.10/site-packages/botorch/models/utils/assorted.py:257: InputDataWarning: Input data is not contained to the unit cube. Please consider min-max scaling the input data.\n",
      "  check_min_max_scaling(\n",
      "/u/81/mirandi1/unix/.local/lib/python3.10/site-packages/botorch/models/utils/assorted.py:260: InputDataWarning: Data is not standardized (std = tensor([1.8394], dtype=torch.float64), mean = tensor([4.2749], dtype=torch.float64)). Please consider scaling the input to zero mean and unit variance.\n",
      "  check_standardization(Y=train_Y, raise_on_fail=raise_on_fail)\n"
     ]
    },
    {
     "name": "stdout",
     "output_type": "stream",
     "text": [
      "Exploitation 91/200 - New sample: [1.81141286 0.73779808 0.77892146 0.12698074], Objective value: 0.4773884898730822\n"
     ]
    },
    {
     "name": "stderr",
     "output_type": "stream",
     "text": [
      "/u/81/mirandi1/unix/.local/lib/python3.10/site-packages/botorch/models/utils/assorted.py:257: InputDataWarning: Input data is not contained to the unit cube. Please consider min-max scaling the input data.\n",
      "  check_min_max_scaling(\n",
      "/u/81/mirandi1/unix/.local/lib/python3.10/site-packages/botorch/models/utils/assorted.py:260: InputDataWarning: Data is not standardized (std = tensor([1.8332], dtype=torch.float64), mean = tensor([4.2857], dtype=torch.float64)). Please consider scaling the input to zero mean and unit variance.\n",
      "  check_standardization(Y=train_Y, raise_on_fail=raise_on_fail)\n"
     ]
    },
    {
     "name": "stdout",
     "output_type": "stream",
     "text": [
      "Exploitation 92/200 - New sample: [1.81253179 0.72901003 0.78191726 0.12718005], Objective value: 0.4794500901389576\n"
     ]
    },
    {
     "name": "stderr",
     "output_type": "stream",
     "text": [
      "/u/81/mirandi1/unix/.local/lib/python3.10/site-packages/botorch/models/utils/assorted.py:257: InputDataWarning: Input data is not contained to the unit cube. Please consider min-max scaling the input data.\n",
      "  check_min_max_scaling(\n",
      "/u/81/mirandi1/unix/.local/lib/python3.10/site-packages/botorch/models/utils/assorted.py:260: InputDataWarning: Data is not standardized (std = tensor([1.8269], dtype=torch.float64), mean = tensor([4.2958], dtype=torch.float64)). Please consider scaling the input to zero mean and unit variance.\n",
      "  check_standardization(Y=train_Y, raise_on_fail=raise_on_fail)\n"
     ]
    },
    {
     "name": "stdout",
     "output_type": "stream",
     "text": [
      "Exploitation 93/200 - New sample: [1.80995925 0.7490037  0.76291292 0.12810644], Objective value: 0.4638453901805796\n"
     ]
    },
    {
     "name": "stderr",
     "output_type": "stream",
     "text": [
      "/u/81/mirandi1/unix/.local/lib/python3.10/site-packages/botorch/models/utils/assorted.py:257: InputDataWarning: Input data is not contained to the unit cube. Please consider min-max scaling the input data.\n",
      "  check_min_max_scaling(\n",
      "/u/81/mirandi1/unix/.local/lib/python3.10/site-packages/botorch/models/utils/assorted.py:260: InputDataWarning: Data is not standardized (std = tensor([1.8199], dtype=torch.float64), mean = tensor([4.3045], dtype=torch.float64)). Please consider scaling the input to zero mean and unit variance.\n",
      "  check_standardization(Y=train_Y, raise_on_fail=raise_on_fail)\n"
     ]
    },
    {
     "name": "stdout",
     "output_type": "stream",
     "text": [
      "Exploitation 94/200 - New sample: [1.81323185 0.7610899  0.75916774 0.13273864], Objective value: 0.4118192100662982\n"
     ]
    },
    {
     "name": "stderr",
     "output_type": "stream",
     "text": [
      "/u/81/mirandi1/unix/.local/lib/python3.10/site-packages/botorch/models/utils/assorted.py:257: InputDataWarning: Input data is not contained to the unit cube. Please consider min-max scaling the input data.\n",
      "  check_min_max_scaling(\n",
      "/u/81/mirandi1/unix/.local/lib/python3.10/site-packages/botorch/models/utils/assorted.py:260: InputDataWarning: Data is not standardized (std = tensor([1.8139], dtype=torch.float64), mean = tensor([4.3147], dtype=torch.float64)). Please consider scaling the input to zero mean and unit variance.\n",
      "  check_standardization(Y=train_Y, raise_on_fail=raise_on_fail)\n"
     ]
    },
    {
     "name": "stdout",
     "output_type": "stream",
     "text": [
      "Exploitation 95/200 - New sample: [1.81247185 0.72851741 0.78188315 0.12701508], Objective value: 0.4797190260001156\n"
     ]
    },
    {
     "name": "stderr",
     "output_type": "stream",
     "text": [
      "/u/81/mirandi1/unix/.local/lib/python3.10/site-packages/botorch/models/utils/assorted.py:257: InputDataWarning: Input data is not contained to the unit cube. Please consider min-max scaling the input data.\n",
      "  check_min_max_scaling(\n",
      "/u/81/mirandi1/unix/.local/lib/python3.10/site-packages/botorch/models/utils/assorted.py:260: InputDataWarning: Data is not standardized (std = tensor([1.8069], dtype=torch.float64), mean = tensor([4.3226], dtype=torch.float64)). Please consider scaling the input to zero mean and unit variance.\n",
      "  check_standardization(Y=train_Y, raise_on_fail=raise_on_fail)\n"
     ]
    },
    {
     "name": "stdout",
     "output_type": "stream",
     "text": [
      "Exploitation 96/200 - New sample: [1.81322389 0.74495947 0.74966067 0.12149112], Objective value: 0.39693424520288656\n"
     ]
    },
    {
     "name": "stderr",
     "output_type": "stream",
     "text": [
      "/u/81/mirandi1/unix/.local/lib/python3.10/site-packages/botorch/models/utils/assorted.py:257: InputDataWarning: Input data is not contained to the unit cube. Please consider min-max scaling the input data.\n",
      "  check_min_max_scaling(\n",
      "/u/81/mirandi1/unix/.local/lib/python3.10/site-packages/botorch/models/utils/assorted.py:260: InputDataWarning: Data is not standardized (std = tensor([1.8010], dtype=torch.float64), mean = tensor([4.3323], dtype=torch.float64)). Please consider scaling the input to zero mean and unit variance.\n",
      "  check_standardization(Y=train_Y, raise_on_fail=raise_on_fail)\n"
     ]
    },
    {
     "name": "stdout",
     "output_type": "stream",
     "text": [
      "Exploitation 97/200 - New sample: [1.80979301 0.74555542 0.77152728 0.12578945], Objective value: 0.4757043273463577\n"
     ]
    },
    {
     "name": "stderr",
     "output_type": "stream",
     "text": [
      "/u/81/mirandi1/unix/.local/lib/python3.10/site-packages/botorch/models/utils/assorted.py:257: InputDataWarning: Input data is not contained to the unit cube. Please consider min-max scaling the input data.\n",
      "  check_min_max_scaling(\n",
      "/u/81/mirandi1/unix/.local/lib/python3.10/site-packages/botorch/models/utils/assorted.py:260: InputDataWarning: Data is not standardized (std = tensor([1.7949], dtype=torch.float64), mean = tensor([4.3415], dtype=torch.float64)). Please consider scaling the input to zero mean and unit variance.\n",
      "  check_standardization(Y=train_Y, raise_on_fail=raise_on_fail)\n"
     ]
    },
    {
     "name": "stdout",
     "output_type": "stream",
     "text": [
      "Exploitation 98/200 - New sample: [1.80513983 0.74289124 0.76603964 0.12878849], Objective value: 0.4604778929281923\n"
     ]
    },
    {
     "name": "stderr",
     "output_type": "stream",
     "text": [
      "/u/81/mirandi1/unix/.local/lib/python3.10/site-packages/botorch/models/utils/assorted.py:257: InputDataWarning: Input data is not contained to the unit cube. Please consider min-max scaling the input data.\n",
      "  check_min_max_scaling(\n",
      "/u/81/mirandi1/unix/.local/lib/python3.10/site-packages/botorch/models/utils/assorted.py:260: InputDataWarning: Data is not standardized (std = tensor([1.7890], dtype=torch.float64), mean = tensor([4.3509], dtype=torch.float64)). Please consider scaling the input to zero mean and unit variance.\n",
      "  check_standardization(Y=train_Y, raise_on_fail=raise_on_fail)\n"
     ]
    },
    {
     "name": "stdout",
     "output_type": "stream",
     "text": [
      "Exploitation 99/200 - New sample: [1.81230442 0.73002466 0.78136166 0.12711841], Objective value: 0.47933342080827546\n"
     ]
    },
    {
     "name": "stderr",
     "output_type": "stream",
     "text": [
      "/u/81/mirandi1/unix/.local/lib/python3.10/site-packages/botorch/models/utils/assorted.py:257: InputDataWarning: Input data is not contained to the unit cube. Please consider min-max scaling the input data.\n",
      "  check_min_max_scaling(\n",
      "/u/81/mirandi1/unix/.local/lib/python3.10/site-packages/botorch/models/utils/assorted.py:260: InputDataWarning: Data is not standardized (std = tensor([1.7832], dtype=torch.float64), mean = tensor([4.3601], dtype=torch.float64)). Please consider scaling the input to zero mean and unit variance.\n",
      "  check_standardization(Y=train_Y, raise_on_fail=raise_on_fail)\n"
     ]
    },
    {
     "name": "stdout",
     "output_type": "stream",
     "text": [
      "Exploitation 100/200 - New sample: [1.81165505 0.72791215 0.7799448  0.12488326], Objective value: 0.4754115139444434\n"
     ]
    },
    {
     "name": "stderr",
     "output_type": "stream",
     "text": [
      "/u/81/mirandi1/unix/.local/lib/python3.10/site-packages/botorch/models/utils/assorted.py:257: InputDataWarning: Input data is not contained to the unit cube. Please consider min-max scaling the input data.\n",
      "  check_min_max_scaling(\n",
      "/u/81/mirandi1/unix/.local/lib/python3.10/site-packages/botorch/models/utils/assorted.py:260: InputDataWarning: Data is not standardized (std = tensor([1.7775], dtype=torch.float64), mean = tensor([4.3692], dtype=torch.float64)). Please consider scaling the input to zero mean and unit variance.\n",
      "  check_standardization(Y=train_Y, raise_on_fail=raise_on_fail)\n"
     ]
    },
    {
     "name": "stdout",
     "output_type": "stream",
     "text": [
      "Exploitation 101/200 - New sample: [1.81285895 0.729375   0.7822031  0.12683734], Objective value: 0.479644221436377\n"
     ]
    },
    {
     "name": "stderr",
     "output_type": "stream",
     "text": [
      "/u/81/mirandi1/unix/.local/lib/python3.10/site-packages/botorch/models/utils/assorted.py:257: InputDataWarning: Input data is not contained to the unit cube. Please consider min-max scaling the input data.\n",
      "  check_min_max_scaling(\n",
      "/u/81/mirandi1/unix/.local/lib/python3.10/site-packages/botorch/models/utils/assorted.py:260: InputDataWarning: Data is not standardized (std = tensor([1.7718], dtype=torch.float64), mean = tensor([4.3781], dtype=torch.float64)). Please consider scaling the input to zero mean and unit variance.\n",
      "  check_standardization(Y=train_Y, raise_on_fail=raise_on_fail)\n"
     ]
    },
    {
     "name": "stdout",
     "output_type": "stream",
     "text": [
      "Exploitation 102/200 - New sample: [1.81013308 0.7399982  0.77458497 0.12660147], Objective value: 0.47689633767842793\n"
     ]
    },
    {
     "name": "stderr",
     "output_type": "stream",
     "text": [
      "/u/81/mirandi1/unix/.local/lib/python3.10/site-packages/botorch/models/utils/assorted.py:257: InputDataWarning: Input data is not contained to the unit cube. Please consider min-max scaling the input data.\n",
      "  check_min_max_scaling(\n",
      "/u/81/mirandi1/unix/.local/lib/python3.10/site-packages/botorch/models/utils/assorted.py:260: InputDataWarning: Data is not standardized (std = tensor([1.7661], dtype=torch.float64), mean = tensor([4.3868], dtype=torch.float64)). Please consider scaling the input to zero mean and unit variance.\n",
      "  check_standardization(Y=train_Y, raise_on_fail=raise_on_fail)\n"
     ]
    },
    {
     "name": "stdout",
     "output_type": "stream",
     "text": [
      "Exploitation 103/200 - New sample: [1.81005249 0.74157991 0.77339758 0.12521223], Objective value: 0.47576187806181214\n"
     ]
    },
    {
     "name": "stderr",
     "output_type": "stream",
     "text": [
      "/u/81/mirandi1/unix/.local/lib/python3.10/site-packages/botorch/models/utils/assorted.py:257: InputDataWarning: Input data is not contained to the unit cube. Please consider min-max scaling the input data.\n",
      "  check_min_max_scaling(\n",
      "/u/81/mirandi1/unix/.local/lib/python3.10/site-packages/botorch/models/utils/assorted.py:260: InputDataWarning: Data is not standardized (std = tensor([1.7605], dtype=torch.float64), mean = tensor([4.3954], dtype=torch.float64)). Please consider scaling the input to zero mean and unit variance.\n",
      "  check_standardization(Y=train_Y, raise_on_fail=raise_on_fail)\n"
     ]
    },
    {
     "name": "stdout",
     "output_type": "stream",
     "text": [
      "Exploitation 104/200 - New sample: [1.81195392 0.73147258 0.78098343 0.12688233], Objective value: 0.47931893841431067\n"
     ]
    },
    {
     "name": "stderr",
     "output_type": "stream",
     "text": [
      "/u/81/mirandi1/unix/.local/lib/python3.10/site-packages/botorch/models/utils/assorted.py:257: InputDataWarning: Input data is not contained to the unit cube. Please consider min-max scaling the input data.\n",
      "  check_min_max_scaling(\n",
      "/u/81/mirandi1/unix/.local/lib/python3.10/site-packages/botorch/models/utils/assorted.py:260: InputDataWarning: Data is not standardized (std = tensor([1.7549], dtype=torch.float64), mean = tensor([4.4039], dtype=torch.float64)). Please consider scaling the input to zero mean and unit variance.\n",
      "  check_standardization(Y=train_Y, raise_on_fail=raise_on_fail)\n"
     ]
    },
    {
     "name": "stdout",
     "output_type": "stream",
     "text": [
      "Exploitation 105/200 - New sample: [1.81209698 0.73004603 0.78148671 0.12712641], Objective value: 0.4793607422103878\n"
     ]
    },
    {
     "name": "stderr",
     "output_type": "stream",
     "text": [
      "/u/81/mirandi1/unix/.local/lib/python3.10/site-packages/botorch/models/utils/assorted.py:257: InputDataWarning: Input data is not contained to the unit cube. Please consider min-max scaling the input data.\n",
      "  check_min_max_scaling(\n",
      "/u/81/mirandi1/unix/.local/lib/python3.10/site-packages/botorch/models/utils/assorted.py:260: InputDataWarning: Data is not standardized (std = tensor([1.7494], dtype=torch.float64), mean = tensor([4.4122], dtype=torch.float64)). Please consider scaling the input to zero mean and unit variance.\n",
      "  check_standardization(Y=train_Y, raise_on_fail=raise_on_fail)\n"
     ]
    },
    {
     "name": "stdout",
     "output_type": "stream",
     "text": [
      "Exploitation 106/200 - New sample: [1.81155606 0.73578609 0.77992923 0.12641035], Objective value: 0.47868262797916417\n"
     ]
    },
    {
     "name": "stderr",
     "output_type": "stream",
     "text": [
      "/u/81/mirandi1/unix/.local/lib/python3.10/site-packages/botorch/models/utils/assorted.py:257: InputDataWarning: Input data is not contained to the unit cube. Please consider min-max scaling the input data.\n",
      "  check_min_max_scaling(\n",
      "/u/81/mirandi1/unix/.local/lib/python3.10/site-packages/botorch/models/utils/assorted.py:260: InputDataWarning: Data is not standardized (std = tensor([1.7438], dtype=torch.float64), mean = tensor([4.4202], dtype=torch.float64)). Please consider scaling the input to zero mean and unit variance.\n",
      "  check_standardization(Y=train_Y, raise_on_fail=raise_on_fail)\n"
     ]
    },
    {
     "name": "stdout",
     "output_type": "stream",
     "text": [
      "Exploitation 107/200 - New sample: [1.81365748 0.73965832 0.7719385  0.12647053], Objective value: 0.4737493649254786\n"
     ]
    },
    {
     "name": "stderr",
     "output_type": "stream",
     "text": [
      "/u/81/mirandi1/unix/.local/lib/python3.10/site-packages/botorch/models/utils/assorted.py:257: InputDataWarning: Input data is not contained to the unit cube. Please consider min-max scaling the input data.\n",
      "  check_min_max_scaling(\n",
      "/u/81/mirandi1/unix/.local/lib/python3.10/site-packages/botorch/models/utils/assorted.py:260: InputDataWarning: Data is not standardized (std = tensor([1.7383], dtype=torch.float64), mean = tensor([4.4281], dtype=torch.float64)). Please consider scaling the input to zero mean and unit variance.\n",
      "  check_standardization(Y=train_Y, raise_on_fail=raise_on_fail)\n"
     ]
    },
    {
     "name": "stdout",
     "output_type": "stream",
     "text": [
      "Exploitation 108/200 - New sample: [1.81208167 0.74498419 0.77237153 0.12746036], Objective value: 0.4727392551581404\n",
      "Exploitation 109/200 - New sample: [1.81583093 0.73605434 0.7801311  0.12778958], Objective value: 0.46957625076365817\n",
      "Stopping early due to no significant improvement (>0.0001) in the last 100 iterations.\n"
     ]
    },
    {
     "name": "stderr",
     "output_type": "stream",
     "text": [
      "/u/81/mirandi1/unix/.local/lib/python3.10/site-packages/botorch/models/utils/assorted.py:257: InputDataWarning: Input data is not contained to the unit cube. Please consider min-max scaling the input data.\n",
      "  check_min_max_scaling(\n",
      "/u/81/mirandi1/unix/.local/lib/python3.10/site-packages/botorch/models/utils/assorted.py:260: InputDataWarning: Data is not standardized (std = tensor([1.7328], dtype=torch.float64), mean = tensor([4.4358], dtype=torch.float64)). Please consider scaling the input to zero mean and unit variance.\n",
      "  check_standardization(Y=train_Y, raise_on_fail=raise_on_fail)\n"
     ]
    }
   ],
   "source": [
    "import time as timer\n",
    "\n",
    "# Exploitation phase using qEI\n",
    "n_exploitation_iter = 200 # Number of iterations\n",
    "new_indices = []  # To keep track of new points added during exploitation\n",
    "objective_values = list(y_samples)  # Track original (not scaled) objective values\n",
    "\n",
    "# Initialize timing variables\n",
    "times_per_iteration = []\n",
    "cumulative_time = 0\n",
    "\n",
    "# Stop condition parameters\n",
    "no_improvement_limit = 100  # Stop if no improvement after 50 iterations\n",
    "no_improvement_counter = 0\n",
    "best_objective_value = float('inf')  # Assuming we're minimizing\n",
    "tolerance = 1e-4  # Minimum improvement required to reset the counter\n",
    "\n",
    "for i in range(n_exploitation_iter):\n",
    "    new_candidates = compute_qei_acquisition_function(model, y_samples_tensor, bounds)\n",
    "    new_sample = new_candidates.detach().cpu().numpy().reshape(-1)\n",
    "    new_sample_y = objective(new_sample)\n",
    "    \n",
    "    # Apply scaling to the new y value\n",
    "    new_sample_y_scaled = scaler.transform(np.array([new_sample_y]).reshape(-1, 1)).flatten()[0]\n",
    "    \n",
    "    # Append the new sample to the samples and objective values (both original and scaled)\n",
    "    new_indices.append(len(y_samples))  # Save the index of the new sample\n",
    "    X_samples = np.vstack([X_samples, new_sample])\n",
    "    y_samples = np.append(y_samples, new_sample_y)  # Original scale objective values\n",
    "    y_samples_scaled = np.append(y_samples_scaled, new_sample_y_scaled)  # Scaled objective values\n",
    "    \n",
    "    # Update tensors\n",
    "    X_samples_tensor = torch.tensor(X_samples, dtype=torch.double)\n",
    "    y_samples_tensor = torch.tensor(y_samples_scaled, dtype=torch.double)\n",
    "\n",
    "    # Append the objective value to the list (original scale)\n",
    "    objective_values.append(new_sample_y)\n",
    "    \n",
    "    # Update the model with the new data\n",
    "    mll, model = initialize_model(X_samples_tensor, y_samples_tensor)\n",
    "    start_time = timer.time()\n",
    "\n",
    "    fit_gpytorch_mll(mll)\n",
    "    \n",
    "    # Record iteration time\n",
    "    iteration_time = timer.time() - start_time\n",
    "    times_per_iteration.append(iteration_time)\n",
    "    cumulative_time += iteration_time\n",
    "\n",
    "    print(f\"Exploitation {i + 1}/{n_exploitation_iter} - New sample: {new_sample}, Objective value: {new_sample_y}\")\n",
    "\n",
    "    # Check stop condition based on no improvement with tolerance\n",
    "    improvement = best_objective_value - new_sample_y\n",
    "    if improvement > tolerance:\n",
    "        best_objective_value = new_sample_y\n",
    "        no_improvement_counter = 0\n",
    "    else:\n",
    "        no_improvement_counter += 1\n",
    "\n",
    "    if no_improvement_counter >= no_improvement_limit:\n",
    "        print(f\"Stopping early due to no significant improvement (>{tolerance}) in the last {no_improvement_limit} iterations.\")\n",
    "        break"
   ]
  },
  {
   "cell_type": "markdown",
   "id": "e4f7d9e7-3e21-4ba7-b372-628c85c177d2",
   "metadata": {},
   "source": [
    "## Visualizing Optimization Progress\n",
    "\n",
    "In this section, we plot the negative of the objective function values as a function of the number of iterations. This helps us visually assess the optimization progress and the performance of the Sobol and Expected Improvement (EI) sampling strategies.\n",
    "\n",
    "### Steps Involved in the Plotting Process:\n",
    "\n",
    "1. **Configure the Plot**:\n",
    "   We set the figure size and layout for constrained layout setting for better spacing.\n",
    "   \n",
    "2. **Prepare Data for Plotting**:\n",
    "   - We create an array representing the iterations.\n",
    "   - We negate the objective function values (`neg_objective_values`) because we are minimizing the objective, and lower values represent better performance.\n",
    "\n",
    "3. **Plot the Sobol and EI Samples**:\n",
    "   - Plot the initial Sobol samples in one color (`#89BFA9`), marking them as 'Sobol'.\n",
    "   - Plot the subsequent EI samples in another color (`#60568A`), marking them as 'EI'.\n",
    "\n",
    "4. **Customize Plot Appearance**:\n",
    "   - Set the limits for the x-axis.\n",
    "   - Label the x-axis as the number of iterations (`$n$`).\n",
    "   - Label the y-axis as the log of the Residual Sum of Squares (RSS) weighted by true values (`$\\\\log$ RSS$_{w_{i}}$`).\n",
    "   - Customize the font size of axis labels and tick labels.\n",
    "   - Add a legend to distinguish between Sobol and EI samples.\n",
    "  \n",
    "5. **Display the Plot**:\n",
    "   - Show the plot using `plt.show()`.\n",
    "   \n",
    "6. **Print the Minimum Objective Value**:\n",
    "   - Print the minimum value of the negated objective values to see the best objective value achieved during the optimization process.\n"
   ]
  },
  {
   "cell_type": "code",
   "execution_count": 6,
   "id": "0b1b04c2-0b3c-41d9-8d47-0c04266243f3",
   "metadata": {},
   "outputs": [
    {
     "data": {
      "image/png": "[encoded data removed]",
      "text/plain": [
       "<Figure size 300x275 with 1 Axes>"
      ]
     },
     "metadata": {},
     "output_type": "display_data"
    },
    {
     "name": "stdout",
     "output_type": "stream",
     "text": [
      "The minimum value of the objective function in log10 scale is -0.4799\n",
      "Cumulative time for all iterations: 3.9413 seconds\n"
     ]
    },
    {
     "data": {
      "image/png": "[encoded data removed]",
      "text/plain": [
       "<Figure size 300x275 with 1 Axes>"
      ]
     },
     "metadata": {},
     "output_type": "display_data"
    }
   ],
   "source": [
    "# Plotting the negative of the objective as a function of iterations\n",
    "\n",
    "# Configure the Figure\n",
    "plt.figure(figsize=(3, 2.75), constrained_layout=True)\n",
    "\n",
    "# Prepare Data for Plotting\n",
    "iterations = np.arange(len(objective_values))             # Array of iteration indices\n",
    "neg_objective_values = -np.array(objective_values)        # Convert back to original scale by multiplying by -1\n",
    "\n",
    "# Plot Initial Sobol Samples\n",
    "plt.plot(\n",
    "    iterations[:n_initial_points], \n",
    "    neg_objective_values[:n_initial_points], \n",
    "    'o', \n",
    "    markersize=8, \n",
    "    label='Sobol', \n",
    "    color='#89BFA9'\n",
    ")\n",
    "\n",
    "# Plot EI Samples\n",
    "plt.plot(\n",
    "    iterations[n_initial_points:], \n",
    "    neg_objective_values[n_initial_points:], \n",
    "    'o', \n",
    "    markersize=8, \n",
    "    label='logEI', \n",
    "    color='#60568A'\n",
    ")\n",
    "\n",
    "# Customize Plot Appearance\n",
    "#plt.xlim(0, 21)                                          # Set x-axis limit\n",
    "# plt.ylim(-1, 6)                                        # Uncomment and set y-axis limit if needed\n",
    "plt.xlabel('$n$', fontsize=14)                            # X-axis label\n",
    "plt.ylabel('$\\\\log$ RSS$_{w_{i}}$', fontsize=14)           # Y-axis label\n",
    "plt.xticks(fontsize=14)                                   # X-axis tick label size\n",
    "plt.yticks(fontsize=14)                                   # Y-axis tick label size\n",
    "plt.legend(fontsize=14, loc=\"best\")                       # Display legend\n",
    "\n",
    "# Display the Plot\n",
    "plt.savefig(\"fig_ei_oscillation_chia.pdf\")                    # Uncomment to save the plot\n",
    "plt.show()\n",
    "\n",
    "# Print the Minimum Objective Value\n",
    "print(f\"The minimum value of the objective function in log10 scale is {np.min(neg_objective_values):.4f}\")\n",
    "\n",
    "# Plotting the time per iteration\n",
    "plt.figure(figsize=(3, 2.75))\n",
    "plt.plot(times_per_iteration, 'o', markersize=8, color='#60568A')\n",
    "plt.xlabel('$n$', fontsize=14)                            # X-axis label\n",
    "plt.ylabel('$t$ [s]', fontsize=14)           # Y-axis label\n",
    "plt.xticks(fontsize=14)                                   # X-axis tick label size\n",
    "plt.yticks(fontsize=14)                                   # Y-axis tick label size\n",
    "#plt.legend(fontsize=14, loc=\"best\")                       # Display legend\n",
    "\n",
    "# Printing the cumulative time\n",
    "print(f\"Cumulative time for all iterations: {cumulative_time:.4f} seconds\")"
   ]
  },
  {
   "cell_type": "markdown",
   "id": "1e9cf156-36d1-4701-aed2-d891e73e33cc",
   "metadata": {},
   "source": [
    "## Fitting and Visualizing the Model with Best Parameters from Bayesian Optimization\n",
    "\n",
    "In this section, we:\n",
    "1. Define the fractional model evaluator.\n",
    "2. Extract and print the best parameters obtained from the Bayesian Optimization (BO) phase.\n",
    "3. Fit the model using the best parameters and compute the model values.\n",
    "4. Calculate the Residual Sum of Squares (RSS) for the fitted model.\n",
    "5. Plot the original data, the fitted model from Bayesian Optimization, and the optimized model.\n"
   ]
  },
  {
   "cell_type": "code",
   "execution_count": 7,
   "id": "a7e62b49-80e8-4938-b4e1-78d32bc750cf",
   "metadata": {},
   "outputs": [
    {
     "name": "stdout",
     "output_type": "stream",
     "text": [
      "Best parameters from Bayesian Optimization: G = 64.94, V = 5.36, alpha = 0.78, beta = 0.13\n",
      "RSS_w for the Bayesian Optimization model: 0.33119\n"
     ]
    },
    {
     "data": {
      "image/png": "[encoded data removed]",
      "text/plain": [
       "<Figure size 300x275 with 1 Axes>"
      ]
     },
     "metadata": {},
     "output_type": "display_data"
    }
   ],
   "source": [
    "from cycler import cycler  # Import the cycler for customizing plot cycles\n",
    "\n",
    "# Define model evaluator\n",
    "fractional_model_name = \"FractionalKelvinVoigt\"\n",
    "evaluator = OscillationEvaluator(model=fractional_model_name)\n",
    "\n",
    "# Extract the best parameters from Bayesian Optimization phase\n",
    "best_idx = np.argmax(y_samples)\n",
    "best_params = X_samples[best_idx]\n",
    "logG_best, logV_best, alpha_best, beta_best = best_params\n",
    "G_best_bo = 10 ** logG_best\n",
    "V_best_bo = 10 ** logV_best\n",
    "\n",
    "# Print the best parameters from Bayesian Optimization\n",
    "print(\"Best parameters from Bayesian Optimization: G = {:.2f}, V = {:.2f}, alpha = {:.2f}, beta = {:.2f}\".format(G_best_bo, V_best_bo, alpha_best, beta_best))\n",
    "\n",
    "# Fit the model with the best parameters from Bayesian Optimization\n",
    "best_params_no_scale = G_best_bo, V_best_bo, alpha_best, beta_best\n",
    "bo_model_values = evaluator.compute_model(best_params_no_scale, omega)\n",
    "\n",
    "# Compute the RSS for the Bayesian Optimization model\n",
    "rss_bo = np.sum(((G_prime - bo_model_values[0]) / G_prime) ** 2) + np.sum(((G_double_prime - bo_model_values[1]) / G_double_prime) ** 2)\n",
    "print(f\"RSS_w for the Bayesian Optimization model: {rss_bo:.5f}\")\n",
    "\n",
    "# Get the default color cycle\n",
    "colors = plt.rcParams['axes.prop_cycle'].by_key()['color']\n",
    "\n",
    "# Plot the data, the fitted model from Bayesian Optimization, and the final optimized model\n",
    "plt.figure(figsize=(3.0, 2.75), constrained_layout=True)\n",
    "plt.plot(omega, G_prime, 'o', markersize=8, color='#89BFA9')\n",
    "plt.plot(omega, G_double_prime, 'o', color='#89BFA9', fillstyle=\"none\", markersize=8)\n",
    "plt.plot(omega, bo_model_values[0], '-', color='#60568A', lw=2, label='BO')\n",
    "plt.plot(omega, bo_model_values[1], '--', color='#60568A', lw=2)\n",
    "\n",
    "# Configure the plot\n",
    "plt.xscale('log')\n",
    "plt.yscale('log')\n",
    "plt.xlabel('$\\omega$ [rad s$^{-1}$]', fontsize=14)\n",
    "plt.ylabel(r'$G^{\\prime}(\\omega)~\\bullet, G^{\\prime \\prime}(\\omega)~\\circ$ [Pa]', fontsize=14)\n",
    "plt.xticks(fontsize=14)\n",
    "plt.yticks(fontsize=14)\n",
    "plt.legend(fontsize=14)\n",
    "\n",
    "# Display the plot\n",
    "plt.savefig(\"fig_bo_fit_oscillation_data_chia.pdf\")\n",
    "plt.show()"
   ]
  },
  {
   "cell_type": "markdown",
   "id": "e0b39e1f-73a2-4a1f-a8ac-85ead62951ac",
   "metadata": {},
   "source": [
    "## Visualizing Surrogate Model Predictions for Different parameter Values\n",
    "\n",
    "In this section, we:\n",
    "1. Define a function to predict model outputs on a 2D grid of parameters.\n",
    "2. Evaluate the model on a grid for various fixed beta values.\n",
    "3. Create contour plots for each beta value showing the predictions of the model.\n",
    "4. Identify and display the global minima for each beta value."
   ]
  },
  {
   "cell_type": "code",
   "execution_count": 8,
   "id": "75d8f269-6140-4083-b06f-9b84f555ab4d",
   "metadata": {},
   "outputs": [
    {
     "data": {
      "image/png": "[encoded data removed]",
      "text/plain": [
       "<Figure size 900x550 with 7 Axes>"
      ]
     },
     "metadata": {},
     "output_type": "display_data"
    }
   ],
   "source": [
    "import matplotlib.colors as mcolors\n",
    "\n",
    "\n",
    "def predict_model_on_grid_2D(model, param_space, alpha_value, beta_value, resolution=100):\n",
    "    # Create a 2D mesh grid over logG and log_eta\n",
    "    logG_range = torch.linspace(param_space[0, 0], param_space[0, 1], resolution)\n",
    "    logV_range = torch.linspace(param_space[1, 0], param_space[1, 1], resolution)\n",
    "\n",
    "    logG_grid, logV_grid = torch.meshgrid(logG_range, logV_range, indexing=\"ij\")\n",
    "    alpha_grid = torch.full_like(logG_grid, alpha_value) # keep alpha fixed\n",
    "    beta_grid = torch.full_like(logG_grid, beta_value) # keep beta fixed\n",
    "\n",
    "    param_grid = torch.stack([logG_grid.reshape(-1), logV_grid.reshape(-1), alpha_grid.reshape(-1), beta_grid.reshape(-1)], dim=-1)\n",
    "\n",
    "    # Predict using the trained model\n",
    "    with torch.no_grad():\n",
    "        preds_1 = model.posterior(param_grid).mean.numpy().reshape(logG_grid.shape)\n",
    "\n",
    "    return logG_grid, logV_grid, preds_1\n",
    "\n",
    "# Define specific (alpha, beta) pairs to plot.\n",
    "alpha_beta_pairs = [\n",
    "(1.0, 0.0),\n",
    "(0.90, 0.1),\n",
    "(0.80, 0.2),\n",
    "(0.7, 0.3),\n",
    "(0.6, 0.4),\n",
    "(0.50, 0.45)\n",
    "]\n",
    "\n",
    "resolution = 100\n",
    "\n",
    "# Ensure these values are correctly calculated\n",
    "min_val, max_val = (-max(objective_values), -min(objective_values))\n",
    "\n",
    "# Create subplots\n",
    "fig, axes = plt.subplots(2, 3, figsize=(9, 5.5), constrained_layout=True)\n",
    "contours_list = []\n",
    "\n",
    "global_minima = []  # To store global minima parameters\n",
    "\n",
    "for ax, (alpha, beta) in zip(axes.flatten(), alpha_beta_pairs):\n",
    "    logG_grid, logV_grid, preds_obj1 = predict_model_on_grid_2D(model, param_space, alpha, beta, resolution)\n",
    "    \n",
    "    # Convert logG and logV to G and V\n",
    "    G = 10 ** logG_grid.numpy()\n",
    "    V = 10 ** logV_grid.numpy()\n",
    "\n",
    "    # Take negative predictions because of the sign inversion\n",
    "    neg_preds_obj1 = -1 * scaler.inverse_transform(preds_obj1)\n",
    "    \n",
    "    # Find global minima\n",
    "    min_index = np.unravel_index(neg_preds_obj1.argmin(), neg_preds_obj1.shape)\n",
    "    global_min_logG = logG_grid[min_index]\n",
    "    global_min_logV = logV_grid[min_index]\n",
    "    global_min_G = 10**global_min_logG\n",
    "    global_min_V = 10**global_min_logV\n",
    "    global_min_value = neg_preds_obj1[min_index]\n",
    "    global_minima.append((global_min_G.item(), global_min_V.item(), 10**global_min_value))\n",
    "    \n",
    "    # Create the 2D contour plot for Objective 1\n",
    "    contour = ax.contourf(G, V, neg_preds_obj1, levels=100, vmin=min_val, vmax=max_val, cmap='YlGnBu_r')\n",
    "    contours_list.append(contour)\n",
    "    ax.contour(G, V, neg_preds_obj1, levels=10, colors='black', linewidths=0.5)\n",
    "    ax.set_xscale('log')\n",
    "    ax.set_yscale('log')\n",
    "    ax.tick_params(axis='both', which='major', labelsize=14)\n",
    "    ax.set_title(f'$\\\\alpha$ = {alpha}, $\\\\beta$ = {beta}', fontsize=14)\n",
    "\n",
    "# Create a ScalarMappable with the same colormap and normalization\n",
    "norm = mcolors.Normalize(vmin=min_val, vmax=max_val)\n",
    "sm = plt.cm.ScalarMappable(cmap='YlGnBu_r', norm=norm)\n",
    "sm.set_array([])  # Only needed for ScalarMappable\n",
    "\n",
    "# Add a single colorbar for all subplots\n",
    "cbar = fig.colorbar(sm, ax=axes, location='right', aspect=20, pad=0.02, format='%.2f')\n",
    "cbar.set_label('$\\\\log$ RSS$_{w_{i}}$', fontsize=14)\n",
    "cbar.ax.tick_params(labelsize=14)\n",
    "\n",
    "# Add common labels\n",
    "fig.text(0.5, -0.05, '$\\mathbb{G}$ [Pa s$^{\\\\beta}$]', ha='center', va='center', fontsize=14)\n",
    "fig.text(-0.01, 0.5, '$\\mathbb{V}$ [Pa s$^{\\\\alpha}$]', ha='center', va='center', rotation='vertical', fontsize=14)\n",
    "\n",
    "# Save the plot and show\n",
    "plt.savefig(\"fig_obj1_oscillation_chia.pdf\")\n",
    "plt.show()"
   ]
  },
  {
   "cell_type": "code",
   "execution_count": 9,
   "id": "7550221c-2a14-4196-be71-e22b4a3bbd25",
   "metadata": {},
   "outputs": [
    {
     "data": {
      "image/png": "[encoded data removed]",
      "text/plain": [
       "<Figure size 600x320 with 2 Axes>"
      ]
     },
     "metadata": {},
     "output_type": "display_data"
    }
   ],
   "source": [
    "import matplotlib.colors as mcolors\n",
    "\n",
    "\n",
    "def predict_model_on_grid_2D(model, param_space, alpha_value, beta_value, resolution=100):\n",
    "    # Create a 2D mesh grid over logG and log_eta\n",
    "    logG_range = torch.linspace(param_space[0, 0], param_space[0, 1], resolution)\n",
    "    logV_range = torch.linspace(param_space[1, 0], param_space[1, 1], resolution)\n",
    "\n",
    "    logG_grid, logV_grid = torch.meshgrid(logG_range, logV_range, indexing=\"ij\")\n",
    "    alpha_grid = torch.full_like(logG_grid, alpha_value) # keep alpha fixed\n",
    "    beta_grid = torch.full_like(logG_grid, beta_value) # keep beta fixed\n",
    "\n",
    "    param_grid = torch.stack([logG_grid.reshape(-1), logV_grid.reshape(-1), alpha_grid.reshape(-1), beta_grid.reshape(-1)], dim=-1)\n",
    "\n",
    "    # Predict using the trained model\n",
    "    with torch.no_grad():\n",
    "        preds_1 = model.posterior(param_grid).mean.numpy().reshape(logG_grid.shape)\n",
    "\n",
    "    return logG_grid, logV_grid, preds_1\n",
    "\n",
    "# Define specific (alpha, beta) pairs to plot.\n",
    "alpha_beta_pairs = [\n",
    "(0.79, 0.13)\n",
    "]\n",
    "\n",
    "resolution = 100\n",
    "\n",
    "# Plotting\n",
    "plt.figure(figsize=(6, 3.2), constrained_layout=True)\n",
    "\n",
    "logG_grid, logV_grid, preds_obj1 = predict_model_on_grid_2D(model, param_space, alpha, beta, resolution)\n",
    "\n",
    "# Min/Max values for color scaling\n",
    "min_val, max_val = (-np.max(preds_obj1), -np.min(preds_obj1))\n",
    "\n",
    "# Convert logG and logV to G and V\n",
    "G = 10 ** logG_grid.numpy()\n",
    "V = 10 ** logV_grid.numpy()\n",
    "\n",
    "# Inverting predictions\n",
    "neg_preds_obj1 = -1 * preds_obj1  # Apply your scaler if needed\n",
    "\n",
    "# 2D contour plot\n",
    "contour = plt.contourf(G, V, neg_preds_obj1, levels=100, vmin=min_val, vmax=max_val, cmap='YlGnBu_r')\n",
    "plt.contour(G, V, neg_preds_obj1, levels=10, colors='black', linewidths=0.5)\n",
    "plt.xscale('log')\n",
    "plt.yscale('log')\n",
    "plt.xlim(1, 90)\n",
    "plt.ylim(2, 90)\n",
    "\n",
    "plt.xticks(fontsize=14)\n",
    "plt.yticks(fontsize=14)\n",
    "plt.xlabel('$\\mathbb{G}$ [Pa s$^{\\\\beta}$]', fontsize=14)\n",
    "plt.ylabel('$\\mathbb{V}$ [Pa s$^{\\\\alpha}$]', fontsize=14)\n",
    "\n",
    "# Title inside the plot\n",
    "plt.text(0.5, 0.9, r'$\\alpha = 0.79$, $\\beta = 0.13$', \n",
    "         fontsize=14, ha='center', va='center', color='white', \n",
    "         transform=plt.gca().transAxes)\n",
    "\n",
    "# Colorbar\n",
    "norm = mcolors.Normalize(vmin=min_val, vmax=max_val)\n",
    "sm = plt.cm.ScalarMappable(cmap='YlGnBu_r', norm=norm)\n",
    "sm.set_array([])\n",
    "\n",
    "# Corrected colorbar axis\n",
    "cbar = plt.colorbar(sm, ax=plt.gca(), location='bottom', aspect=20, pad=0.02, format='%.2f')\n",
    "cbar.set_label('$\\\\log$ RSS$_{w_{i}=y_{i}}$', fontsize=14)\n",
    "cbar.ax.tick_params(labelsize=14)\n",
    "#cbar.ax.invert_xaxis()\n",
    "\n",
    "# Save and display\n",
    "plt.savefig(\"fig_obj1_oscillation_chia_solution.pdf\")\n",
    "plt.show()"
   ]
  },
  {
   "cell_type": "code",
   "execution_count": 10,
   "id": "f3241d7d-ec8d-4d18-859e-cce772d76fd1",
   "metadata": {},
   "outputs": [],
   "source": [
    "# Objective function to minimize (RRS weighted by true values)\n",
    "def objective_minimize(params, omega, G_prime, G_double_prime):\n",
    "    logG, logV, alpha, beta = params\n",
    "    G = 10 ** logG\n",
    "    V = 10 ** logV\n",
    "    params_no_scale = G, V, alpha, beta\n",
    "    model = \"FractionalKelvinVoigt\"\n",
    "    evaluator = OscillationEvaluator(model=model)\n",
    "    \n",
    "    # Compute oscillation data\n",
    "    model_values = evaluator.compute_model(params_no_scale, omega)\n",
    "    \n",
    "    # Add noise\n",
    "    error = createRandomError(omega.shape[0], 0.0)\n",
    "    model_values_noisy = np.multiply(model_values, error)\n",
    "    \n",
    "    # Define objective function: sum of squared relative errors for G' and G''\n",
    "    obj1 = np.sum(((G_prime - model_values_noisy[0]) / G_prime) ** 2) + np.sum(((G_double_prime - model_values_noisy[1]) / G_double_prime) ** 2)\n",
    "    \n",
    "    return obj1  # Return the raw error (we no longer need the -log10)\n",
    "\n",
    "def callback(params):\n",
    "    obj_value = objective_minimize(params, omega, G_prime, G_double_prime)\n",
    "    current_errors.append(obj_value)"
   ]
  },
  {
   "cell_type": "code",
   "execution_count": 11,
   "id": "c4223a8f-eadd-45a7-87cb-ca39c313e50e",
   "metadata": {},
   "outputs": [
    {
     "name": "stdout",
     "output_type": "stream",
     "text": [
      "Running optimization with method: Nelder-Mead\n",
      "Optimization terminated successfully.\n",
      "         Current function value: 0.329764\n",
      "         Iterations: 231\n",
      "         Function evaluations: 416\n",
      "Optimization terminated successfully.\n",
      "         Current function value: 0.329764\n",
      "         Iterations: 404\n",
      "         Function evaluations: 704\n",
      "Optimization terminated successfully.\n",
      "         Current function value: 0.329764\n",
      "         Iterations: 234\n",
      "         Function evaluations: 417\n",
      "Optimization terminated successfully.\n",
      "         Current function value: 0.329764\n",
      "         Iterations: 218\n",
      "         Function evaluations: 386\n",
      "Optimization terminated successfully.\n",
      "         Current function value: 0.329764\n",
      "         Iterations: 389\n",
      "         Function evaluations: 681\n",
      "Final time for all iterations: 0.1211 seconds\n"
     ]
    }
   ],
   "source": [
    "import numpy as np\n",
    "from scipy.optimize import minimize\n",
    "\n",
    "custom_bounds = [(low, high) if i < 2 else (low, high) for i, (low, high) in enumerate(param_space)]\n",
    "\n",
    "\n",
    "np.random.seed(42)\n",
    "initial_guesses = np.random.uniform(param_space[:, 0], param_space[:, 1], (5, 4))\n",
    "initial_guesses_list = initial_guesses.tolist()\n",
    "\n",
    "# Define lists to store optimization results and errors\n",
    "all_errors = []\n",
    "results = []\n",
    "\n",
    "# List of optimization methods to try\n",
    "methods = ['Nelder-Mead']\n",
    "\n",
    "start_time_NM = timer.time()\n",
    "\n",
    "for method in methods:\n",
    "    print(f\"Running optimization with method: {method}\")\n",
    "    for initial_guess in initial_guesses_list:\n",
    "        current_errors = []\n",
    "        \n",
    "        # Adjust options based on the method\n",
    "        options = {'disp': True, 'maxiter': 1000}\n",
    "        if method == 'Nelder-Mead':\n",
    "            options.update({'xatol': 1e-9, 'fatol': 1e-9, 'maxfev': 2000})\n",
    "        elif method in ['L-BFGS-B', 'TNC', 'SLSQP']:\n",
    "            options.update({'ftol': 1e-9})\n",
    "\n",
    "        # Bounds are only passed if the method supports them\n",
    "        bounds = custom_bounds if method in ['L-BFGS-B', 'TNC', 'SLSQP', 'Powell'] else None\n",
    "        \n",
    "        res = minimize(\n",
    "            objective_minimize,\n",
    "            initial_guess,\n",
    "            args=(omega, G_prime, G_double_prime),\n",
    "            method=method,\n",
    "            bounds=bounds,\n",
    "            callback=callback if method != 'TNC' else None,  # TNC does not support callback\n",
    "            options=options\n",
    "        )\n",
    "        \n",
    "        results.append({'method': method, 'result': res})\n",
    "        all_errors.append({'method': method, 'errors': current_errors})\n",
    "\n",
    "final_time_NM = timer.time() - start_time_NM \n",
    "\n",
    "# Printing the cumulative time\n",
    "print(f\"Final time for all iterations: {final_time_NM:.4f} seconds\")\n",
    "\n",
    "# Extracting function values and optimized parameters\n",
    "function_values = [res['result'].fun for res in results]\n",
    "optimized_parameters = [res['result'].x for res in results]"
   ]
  },
  {
   "cell_type": "code",
   "execution_count": 12,
   "id": "07837a8c-4b4b-4ef5-ba29-5dafc8b551d6",
   "metadata": {},
   "outputs": [
    {
     "data": {
      "image/png": "[encoded data removed]",
      "text/plain": [
       "<Figure size 300x275 with 1 Axes>"
      ]
     },
     "metadata": {},
     "output_type": "display_data"
    }
   ],
   "source": [
    "# Filter errors by method\n",
    "nm_errors = [err['errors'] for err in all_errors if err['method'] == 'Nelder-Mead']\n",
    "powell_errors = [err['errors'] for err in all_errors if err['method'] == 'Powell']\n",
    "lbfgsb_errors = [err['errors'] for err in all_errors if err['method'] == 'L-BFGS-B']\n",
    "\n",
    "# Configure the Figure\n",
    "plt.figure(figsize=(3, 2.75), constrained_layout=True)\n",
    "\n",
    "# Plot errors for Nelder-Mead runs\n",
    "for i, error_list in enumerate(nm_errors):\n",
    "    plt.plot(\n",
    "        np.log10(error_list), \n",
    "        '-', \n",
    "        markersize=4,\n",
    "        color='#FF8C42',               # Orange for Nelder-Mead\n",
    "        label='NM' if i == 0 else \"\"  # Label only the first run\n",
    "    )\n",
    "\n",
    "# Plot Initial Sobol Samples\n",
    "plt.plot(\n",
    "    iterations[:n_initial_points], \n",
    "    neg_objective_values[:n_initial_points], \n",
    "    'o', \n",
    "    markersize=8, \n",
    "    label='Sobol', \n",
    "    color='#89BFA9'\n",
    ")\n",
    "\n",
    "# Plot EI Samples\n",
    "plt.plot(\n",
    "    iterations[n_initial_points:], \n",
    "    neg_objective_values[n_initial_points:], \n",
    "    'o', \n",
    "    markersize=8, \n",
    "    label='logEI', \n",
    "    color='#60568A'\n",
    ")\n",
    "\n",
    "\n",
    "# Customize Plot Appearance\n",
    "plt.xlim(0, 110)                                          # Set x-axis limit\n",
    "plt.ylim(-1, 3.8)                                        # Uncomment and set y-axis limit if needed\n",
    "plt.xlabel('$n$', fontsize=14)                            # X-axis label\n",
    "plt.ylabel('$\\\\log$ RSS$_{w_{i}=y_{i}}$', fontsize=14)           # Y-axis label\n",
    "plt.xticks(fontsize=14)                                   # X-axis tick label size\n",
    "plt.yticks(fontsize=14)                                   # Y-axis tick label size\n",
    "plt.legend(fontsize=12, loc=\"upper right\", ncols=2, columnspacing=0.1, \n",
    "           #bbox_to_anchor=(1.05, 1)\n",
    "          )                       # Display legend\n",
    "\n",
    "# Display the Plot\n",
    "plt.savefig(\"fig_ei_oscillation_chia_comparison.pdf\")                    # Uncomment to save the plot\n",
    "plt.show()"
   ]
  },
  {
   "cell_type": "code",
   "execution_count": 18,
   "id": "0726d361-d56d-4320-949a-0b06cac048e3",
   "metadata": {},
   "outputs": [
    {
     "name": "stdout",
     "output_type": "stream",
     "text": [
      "Best Nelder-Mead Parameters: [1.81462837 0.70404738 0.79522201 0.12782203]\n",
      "Best Nelder-Mead Function Value: 0.3297641766720009\n"
     ]
    },
    {
     "data": {
      "image/png": "[encoded data removed]",
      "text/plain": [
       "<Figure size 300x275 with 1 Axes>"
      ]
     },
     "metadata": {},
     "output_type": "display_data"
    }
   ],
   "source": [
    "import matplotlib.lines as mlines\n",
    "\n",
    "\n",
    "# Find the best results for Nelder-Mead and L-BFGS-B\n",
    "nm_results = [res['result'] for res in results if res['method'] == 'Nelder-Mead']\n",
    "#lbfgsb_results = [res['result'] for res in results if res['method'] == 'L-BFGS-B']\n",
    "\n",
    "# Identify the best (lowest function value) result for each method\n",
    "best_nm_result = min(nm_results, key=lambda r: r.fun)\n",
    "#best_lbfgsb_result = min(lbfgsb_results, key=lambda r: r.fun)\n",
    "\n",
    "# Extract optimized parameters and function values\n",
    "best_nm_params = best_nm_result.x\n",
    "#best_lbfgsb_params = best_lbfgsb_result.x\n",
    "\n",
    "best_nm_value = best_nm_result.fun\n",
    "#best_lbfgsb_value = best_lbfgsb_result.fun\n",
    "\n",
    "# Print best results\n",
    "print(\"Best Nelder-Mead Parameters:\", best_nm_params)\n",
    "print(\"Best Nelder-Mead Function Value:\", best_nm_value)\n",
    "\n",
    "#print(\"Best L-BFGS-B Parameters:\", best_lbfgsb_params)\n",
    "#print(\"Best L-BFGS-B Function Value:\", best_lbfgsb_value)\n",
    "\n",
    "# Compute model outputs for both best parameter sets\n",
    "nm_model_values = evaluator.compute_model(\n",
    "    (10**best_nm_params[0], 10**best_nm_params[1], best_nm_params[2], best_nm_params[3]), omega\n",
    ")\n",
    "#lbfgsb_model_values = evaluator.compute_model(\n",
    "#    (10**best_lbfgsb_params[0], 10**best_lbfgsb_params[1], best_lbfgsb_params[2], best_lbfgsb_params[3]), omega\n",
    "#)\n",
    "\n",
    "# Separate G' and G'' values from model outputs\n",
    "nm_G_prime, nm_G_double_prime = nm_model_values\n",
    "#lbfgsb_G_prime, lbfgsb_G_double_prime = lbfgsb_model_values\n",
    "\n",
    "# Plot the data\n",
    "plt.figure(figsize=(3, 2.75))\n",
    "\n",
    "# Experimental data\n",
    "plt.plot(omega, G_prime, 'o', markersize=8, color='#89BFA9')\n",
    "plt.plot(omega, G_double_prime, 'o', color='#89BFA9', fillstyle=\"none\", markersize=8)\n",
    "\n",
    "# Nelder-Mead solution\n",
    "plt.plot(omega, nm_G_prime, '-', color='#FF8C42', lw=4, label='NM')\n",
    "plt.plot(omega, nm_G_double_prime, '--', color='#FF8C42', lw=4)\n",
    "\n",
    "# L-BFGS-B solution\n",
    "#plt.plot(omega, lbfgsb_G_prime, '-', color='#1F77B4', lw=2, label='L-BFGS-B')\n",
    "#plt.plot(omega, lbfgsb_G_double_prime, '--', color='#1F77B4', lw=2)\n",
    "\n",
    "# BO solution\n",
    "plt.plot(omega, bo_model_values[0], '-', color='#60568A', lw=2, label='BO')\n",
    "plt.plot(omega, bo_model_values[1], '--', color='#60568A', lw=2)\n",
    "\n",
    "\n",
    "# Configure the plot\n",
    "plt.xscale('log')\n",
    "plt.yscale('log')\n",
    "plt.xlabel('$\\omega$ [rad s$^{-1}$]', fontsize=14)\n",
    "plt.ylabel(r'$G^{\\prime}(\\omega)~\\bullet, G^{\\prime \\prime}(\\omega)~\\circ$ [Pa]', fontsize=14)\n",
    "plt.xticks(fontsize=14)\n",
    "plt.yticks(fontsize=14)\n",
    "#plt.legend(fontsize=12)\n",
    "\n",
    "# Create custom legend handles with matching line thickness\n",
    "nm_handle = mlines.Line2D([], [], color='#FF8C42', lw=2, label='NM')  # Adjusted lw to 2\n",
    "bo_handle = mlines.Line2D([], [], color='#60568A', lw=2, label='BO')\n",
    "\n",
    "# Add legend with custom handles\n",
    "plt.legend(handles=[nm_handle, bo_handle], fontsize=12)\n",
    "\n",
    "#plt.tight_layout()\n",
    "plt.savefig(\"fig_bo_fit_oscillation_data_chia_comparison.pdf\")\n",
    "plt.show()"
   ]
  },
  {
   "cell_type": "code",
   "execution_count": null,
   "id": "fd33b28e-cfa7-409a-8ed4-b2dc3cb131ba",
   "metadata": {},
   "outputs": [],
   "source": []
  }
 ],
 "metadata": {
  "kernelspec": {
   "display_name": "Python 3 (ipykernel)",
   "language": "python",
   "name": "python3"
  },
  "language_info": {
   "codemirror_mode": {
    "name": "ipython",
    "version": 3
   },
   "file_extension": ".py",
   "mimetype": "text/x-python",
   "name": "python",
   "nbconvert_exporter": "python",
   "pygments_lexer": "ipython3",
   "version": "3.10.10"
  }
 },
 "nbformat": 4,
 "nbformat_minor": 5
}

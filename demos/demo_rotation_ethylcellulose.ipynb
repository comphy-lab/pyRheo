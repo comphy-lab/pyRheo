{
 "cells": [
  {
   "cell_type": "markdown",
   "id": "4f650ca4-17ed-4e6c-bad5-eb407f111730",
   "metadata": {},
   "source": [
    "# Rheological analysis of ethylcellulose shear viscosity\n",
    " \n",
    "This notebook demonstrates the use of the `pyRheo` library to fit the shear viscosity of a ethylcellulose. \n",
    "The experimental data includes shear rate (`gamma_dot`) and viscosity (`eta`) measurements, which are analyzed using a rheological model. The data is from Isaac Miranda-Valdez's archive.\n",
    "\n",
    "We import the following libraries:\n",
    "- `pandas`: For handling the experimental data in tabular format.\n",
    "- `numpy`: For numerical operations and transformations.\n",
    "- `matplotlib.pyplot`: For creating detailed visualizations of the data and model predictions.\n",
    "- `pyRheo.rotation_model.RotationModel`: To perform rheological model fitting and analysis of the viscosity data.\n"
   ]
  },
  {
   "cell_type": "code",
   "execution_count": 1,
   "id": "41bd6185-c0f0-408d-ba0c-4393da1d087a",
   "metadata": {},
   "outputs": [],
   "source": [
    "# Import required libraries\n",
    "import pandas as pd  # For data manipulation and analysis\n",
    "import numpy as np  # For numerical operations\n",
    "import matplotlib.pyplot as plt  # For plotting\n",
    "from pyRheo.rotation_model import RotationModel  # For rheological modeling\n"
   ]
  },
  {
   "cell_type": "markdown",
   "id": "f6f73774-b648-4832-9e05-0ca0ba1be930",
   "metadata": {},
   "source": [
    "# Load and inspect rheological data\n",
    "This cell loads experimental data from a CSV file containing:\n",
    "- Shear rate (`gamma_dot`) in [1/s].\n",
    "- Viscosity (`eta`) in [Pa·s].\n",
    "The data is loaded using `pandas` and the first few rows are displayed for verification.\n"
   ]
  },
  {
   "cell_type": "code",
   "execution_count": 2,
   "id": "d55f2489-b45e-4a43-9dcd-7de705108c10",
   "metadata": {},
   "outputs": [
    {
     "data": {
      "text/html": [
       "<div>\n",
       "<style scoped>\n",
       "    .dataframe tbody tr th:only-of-type {\n",
       "        vertical-align: middle;\n",
       "    }\n",
       "\n",
       "    .dataframe tbody tr th {\n",
       "        vertical-align: top;\n",
       "    }\n",
       "\n",
       "    .dataframe thead th {\n",
       "        text-align: right;\n",
       "    }\n",
       "</style>\n",
       "<table border=\"1\" class=\"dataframe\">\n",
       "  <thead>\n",
       "    <tr style=\"text-align: right;\">\n",
       "      <th></th>\n",
       "      <th>Shear Rate</th>\n",
       "      <th>Viscosity</th>\n",
       "    </tr>\n",
       "  </thead>\n",
       "  <tbody>\n",
       "    <tr>\n",
       "      <th>0</th>\n",
       "      <td>0.126</td>\n",
       "      <td>4.28</td>\n",
       "    </tr>\n",
       "    <tr>\n",
       "      <th>1</th>\n",
       "      <td>0.158</td>\n",
       "      <td>4.31</td>\n",
       "    </tr>\n",
       "    <tr>\n",
       "      <th>2</th>\n",
       "      <td>0.200</td>\n",
       "      <td>4.31</td>\n",
       "    </tr>\n",
       "    <tr>\n",
       "      <th>3</th>\n",
       "      <td>0.251</td>\n",
       "      <td>4.30</td>\n",
       "    </tr>\n",
       "    <tr>\n",
       "      <th>4</th>\n",
       "      <td>0.316</td>\n",
       "      <td>4.29</td>\n",
       "    </tr>\n",
       "  </tbody>\n",
       "</table>\n",
       "</div>"
      ],
      "text/plain": [
       "   Shear Rate  Viscosity\n",
       "0       0.126       4.28\n",
       "1       0.158       4.31\n",
       "2       0.200       4.31\n",
       "3       0.251       4.30\n",
       "4       0.316       4.29"
      ]
     },
     "execution_count": 2,
     "metadata": {},
     "output_type": "execute_result"
    }
   ],
   "source": [
    "# Load rheological data from a CSV file\n",
    "# The file contains shear rate (gamma_dot) and viscosity (eta) data.\n",
    "data = pd.read_csv('./data/ec_solution/rotation_ec07_data.csv', delimiter='\\t')\n",
    "\n",
    "# Extract shear rate and viscosity as numpy arrays\n",
    "gamma_dot = data['Shear Rate'].values\n",
    "eta = data['Viscosity'].values\n",
    "\n",
    "# Display the first few rows of the data for verification\n",
    "data.head()\n"
   ]
  },
  {
   "cell_type": "markdown",
   "id": "a95cbdce-99c9-41ac-90eb-1473e48e0168",
   "metadata": {},
   "source": [
    "# Initialize and fit the rheological model\n",
    "In this cell:\n",
    "1. The `RotationModel` class is instantiated with parameters for model fitting:\n",
    "   - PowerLaw model.\n",
    "   - Random initial guesses for optimization.\n",
    "   - 64 guesses for the optimizer to explore.\n",
    "   - The Nelder-Mead algorithm for minimization.\n",
    "2. The model is fitted to the experimental data (`gamma_dot` and `eta`).\n",
    "3. Fitted model parameters and error metrics are displayed.\n"
   ]
  },
  {
   "cell_type": "code",
   "execution_count": 7,
   "id": "955563f3-5026-4cf7-ae5a-8e144cb7438d",
   "metadata": {},
   "outputs": [
    {
     "name": "stdout",
     "output_type": "stream",
     "text": [
      "Predicted Model: CarreauYasuda\n",
      "Best initial guess was: [7.328463516669996, 8.487612246128375, 2.185713033629116, 24.252428981063023, 0.8152614217699248]\n",
      "eta_inf: 0.0869\n",
      "eta_zero: 4.314123974059339\n",
      "k: 0.08690000015345242\n",
      "a: 0.9309338772158153\n",
      "n: 0.639679092623265\n",
      "RSS: 0.019686093145129226\n",
      "Mean Percentage Error: 1.70%\n"
     ]
    }
   ],
   "source": [
    "# Initialize the rheological model with specific fitting parameters\n",
    "model = RotationModel(\n",
    "    model=\"auto\",                   # Automatically selects the best model\n",
    "    initial_guesses=\"random\",       # Uses random initial guesses\n",
    "    num_initial_guesses=64,         # Number of initial guesses for the optimizer\n",
    "    minimization_algorithm=\"Nelder-Mead\"  # Optimization algorithm\n",
    ")\n",
    "\n",
    "# Fit the model to the experimental data\n",
    "model.fit(gamma_dot, eta)\n",
    "\n",
    "# Print the fitted parameters and error metrics\n",
    "model.print_parameters()  # Display model parameters\n",
    "model.print_error()       # Display error of the fit\n"
   ]
  },
  {
   "cell_type": "markdown",
   "id": "cfd89d80-f3bf-4c70-93b3-53b0b09fe4af",
   "metadata": {},
   "source": [
    "# Generate and plot model fit\n",
    "In this cell:\n",
    "1. Predictions for viscosity are generated using the fitted model at logarithmically spaced shear rates.\n",
    "2. The experimental data and model predictions are visualized using a quick plot from the `pyRheo` library.\n"
   ]
  },
  {
   "cell_type": "code",
   "execution_count": 8,
   "id": "56ecf38e-a3b6-4f7b-a7e2-52c93d76c57f",
   "metadata": {},
   "outputs": [
    {
     "data": {
      "image/png": "[encoded data removed]",
      "text/plain": [
       "<Figure size 320x300 with 1 Axes>"
      ]
     },
     "metadata": {},
     "output_type": "display_data"
    }
   ],
   "source": [
    "# Generate predictions using the fitted model for a smooth curve\n",
    "gamma_dot_predict = np.logspace(np.min(np.log10(gamma_dot)), np.max(np.log10(gamma_dot)), 100)\n",
    "eta_predict = model.predict(gamma_dot_predict)\n",
    "\n",
    "# Plot the experimental data and the model prediction\n",
    "model.plot(gamma_dot, eta, savefig=False)  # Quick overview plot\n"
   ]
  },
  {
   "cell_type": "markdown",
   "id": "244164a5-719f-441f-b1aa-ee77eda7d097",
   "metadata": {},
   "source": [
    "# Create a customized plot\n",
    "This cell generates a detailed, publication-quality plot:\n",
    "1. The experimental data and the model predictions are plotted together.\n",
    "2. Both axes are set to logarithmic scales to represent the data more effectively.\n",
    "3. Axis labels, legend, and tick font sizes are adjusted for readability.\n"
   ]
  },
  {
   "cell_type": "code",
   "execution_count": 9,
   "id": "4c7cd11b-5f56-4615-834f-2f7806e9af76",
   "metadata": {},
   "outputs": [
    {
     "data": {
      "image/png": "[encoded data removed]",
      "text/plain": [
       "<Figure size 350x300 with 1 Axes>"
      ]
     },
     "metadata": {},
     "output_type": "display_data"
    }
   ],
   "source": [
    "# Create a new figure with adjusted size for better visualization\n",
    "plt.figure(figsize=(3.5, 3))\n",
    "\n",
    "# Plot experimental data\n",
    "plt.plot(gamma_dot, eta, 'o', markersize=6, markevery=1, alpha=1, fillstyle='none', label='$\\eta(\\dot{\\gamma})$')\n",
    "\n",
    "# Plot the model predictions\n",
    "plt.plot(gamma_dot_predict, eta_predict, '-', color=\"k\", lw=2, label='fit')\n",
    "\n",
    "# Set logarithmic scales for both axes\n",
    "plt.xscale(\"log\")\n",
    "plt.yscale(\"log\")\n",
    "\n",
    "# Customize axis labels, ticks, and font sizes\n",
    "plt.xticks(fontsize=14)\n",
    "plt.yticks(fontsize=14)\n",
    "plt.xlabel(r'$\\dot{\\gamma}$ [s$^{-1}$]', fontsize=14)\n",
    "plt.ylabel(r'$\\eta(\\dot{\\gamma})$ [Pa s]', fontsize=14)\n",
    "\n",
    "# Add a legend with customized font size\n",
    "plt.legend(fontsize=13.5, handletextpad=0.5)\n",
    "\n",
    "# Final plot adjustments for readability\n",
    "plt.grid(False)\n",
    "plt.tight_layout()\n",
    "\n",
    "# Display the plot\n",
    "plt.show()\n"
   ]
  },
  {
   "cell_type": "code",
   "execution_count": null,
   "id": "879c6833-5c78-45cb-99cc-c873eea34528",
   "metadata": {},
   "outputs": [],
   "source": []
  }
 ],
 "metadata": {
  "kernelspec": {
   "display_name": "Python 3 (ipykernel)",
   "language": "python",
   "name": "python3"
  },
  "language_info": {
   "codemirror_mode": {
    "name": "ipython",
    "version": 3
   },
   "file_extension": ".py",
   "mimetype": "text/x-python",
   "name": "python",
   "nbconvert_exporter": "python",
   "pygments_lexer": "ipython3",
   "version": "3.10.10"
  }
 },
 "nbformat": 4,
 "nbformat_minor": 5
}
